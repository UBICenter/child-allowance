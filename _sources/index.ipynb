{
 "cells": [
  {
   "cell_type": "markdown",
   "metadata": {},
   "source": [
    "# Overview\n",
    "\n",
    "1 in 7 children in the United States lives in poverty, [raising](https://heckmanequation.org/resource/invest-in-early-childhood-development-reduce-deficits-strengthen-the-economy/) stress and crime rates, [worsening](https://www.sciencedirect.com/science/article/abs/pii/S1876285915003836) educational outcomes, and [shrinking](https://www.nap.edu/catalog/25246/a-roadmap-to-reducing-child-poverty) the economy by up to \\$1 trillion annually. Research shows that giving money to families with children, as [most developed countries do](https://www.vox.com/future-perfect/2019/3/6/18249290/child-poverty-american-family-act-sherrod-brown-michael-bennet), reduces each of these issues. A child allowance is a policy that gives families an equal amount for each child.\n",
    "\n",
    "This project examines child allowances through various lenses:\n",
    "* [**Simulations**](simulation.md) quantifying the effects of child allowance policies (deficit- and tax-funded) on poverty and inequality across US states.\n",
    "* [**Research**](empirical.md) on the effects of child allowances and similar policies on children, based on randomized controlled trials and other empirical techniques.\n",
    "* [**Policy context**](policies.md) of existing US child benefits and child allowances in other countries.\n",
    "\n",
    "For example, this interactive map is one of several visualizations in our [simulations page](simulation.md)."
   ]
  },
  {
   "cell_type": "code",
   "execution_count": 5,
   "metadata": {
    "colab": {
     "base_uri": "https://localhost:8080/",
     "height": 617
    },
    "colab_type": "code",
    "id": "wNsbUiH22gYF",
    "outputId": "4f28c7fa-df02-45e0-e436-7fc61aeab05b",
    "tags": [
     "hide-input"
    ]
   },
   "outputs": [
    {
     "data": {
      "application/vnd.plotly.v1+json": {
       "config": {
        "displayModeBar": false,
        "plotlyServerURL": "https://plot.ly"
       },
       "data": [
        {
         "colorscale": [
          [
           0,
           "rgb(255,245,240)"
          ],
          [
           0.125,
           "rgb(254,224,210)"
          ],
          [
           0.25,
           "rgb(252,187,161)"
          ],
          [
           0.375,
           "rgb(252,146,114)"
          ],
          [
           0.5,
           "rgb(251,106,74)"
          ],
          [
           0.625,
           "rgb(239,59,44)"
          ],
          [
           0.75,
           "rgb(203,24,29)"
          ],
          [
           0.875,
           "rgb(165,15,21)"
          ],
          [
           1,
           "rgb(103,0,13)"
          ]
         ],
         "customdata": [
          [
           0,
           "Alabama"
          ],
          [
           0,
           "Alaska"
          ],
          [
           0,
           "Arizona"
          ],
          [
           0,
           "Arkansas"
          ],
          [
           0,
           "California"
          ],
          [
           0,
           "Colorado"
          ],
          [
           0,
           "Connecticut"
          ],
          [
           0,
           "Delaware"
          ],
          [
           0,
           "Florida"
          ],
          [
           0,
           "Georgia"
          ],
          [
           0,
           "Hawaii"
          ],
          [
           0,
           "Idaho"
          ],
          [
           0,
           "Illinois"
          ],
          [
           0,
           "Indiana"
          ],
          [
           0,
           "Iowa"
          ],
          [
           0,
           "Kansas"
          ],
          [
           0,
           "Kentucky"
          ],
          [
           0,
           "Louisiana"
          ],
          [
           0,
           "Maine"
          ],
          [
           0,
           "Maryland"
          ],
          [
           0,
           "Massachusetts"
          ],
          [
           0,
           "Michigan"
          ],
          [
           0,
           "Minnesota"
          ],
          [
           0,
           "Mississippi"
          ],
          [
           0,
           "Missouri"
          ],
          [
           0,
           "Montana"
          ],
          [
           0,
           "Nebraska"
          ],
          [
           0,
           "Nevada"
          ],
          [
           0,
           "New Hampshire"
          ],
          [
           0,
           "New Jersey"
          ],
          [
           0,
           "New Mexico"
          ],
          [
           0,
           "New York"
          ],
          [
           0,
           "North Carolina"
          ],
          [
           0,
           "North Dakota"
          ],
          [
           0,
           "Ohio"
          ],
          [
           0,
           "Oklahoma"
          ],
          [
           0,
           "Oregon"
          ],
          [
           0,
           "Pennsylvania"
          ],
          [
           0,
           "Rhode Island"
          ],
          [
           0,
           "South Carolina"
          ],
          [
           0,
           "South Dakota"
          ],
          [
           0,
           "Tennessee"
          ],
          [
           0,
           "Texas"
          ],
          [
           0,
           "Utah"
          ],
          [
           0,
           "Vermont"
          ],
          [
           0,
           "Virginia"
          ],
          [
           0,
           "Washington"
          ],
          [
           0,
           "West Virginia"
          ],
          [
           0,
           "Wisconsin"
          ],
          [
           0,
           "Wyoming"
          ],
          [
           0,
           "District of Columbia"
          ],
          [
           0,
           "US"
          ]
         ],
         "hovertemplate": "<b>%{customdata[1]}</b><br>Child poverty rate: %{z}%<br>Poverty reduction: %{customdata[0]}%<extra></extra>",
         "locationmode": "USA-states",
         "locations": [
          "AL",
          "AK",
          "AZ",
          "AR",
          "CA",
          "CO",
          "CT",
          "DE",
          "FL",
          "GA",
          "HI",
          "ID",
          "IL",
          "IN",
          "IA",
          "KS",
          "KY",
          "LA",
          "ME",
          "MD",
          "MA",
          "MI",
          "MN",
          "MS",
          "MO",
          "MT",
          "NE",
          "NV",
          "NH",
          "NJ",
          "NM",
          "NY",
          "NC",
          "ND",
          "OH",
          "OK",
          "OR",
          "PA",
          "RI",
          "SC",
          "SD",
          "TN",
          "TX",
          "UT",
          "VT",
          "VA",
          "WA",
          "WV",
          "WI",
          "WY",
          "DC",
          "US"
         ],
         "showscale": false,
         "type": "choropleth",
         "z": [
          14.8,
          14.3,
          13,
          12.5,
          19.6,
          11.4,
          13.6,
          10.4,
          18.4,
          15.5,
          15.6,
          7.1,
          12.5,
          12.6,
          8.1,
          7.3,
          10.3,
          19.5,
          9.6,
          11.2,
          10.7,
          10.5,
          5.3,
          17,
          8.8,
          8,
          9.7,
          13.7,
          8.1,
          13.8,
          13.9,
          17.2,
          14.9,
          9.8,
          11.3,
          10.1,
          10.3,
          13,
          10.1,
          15.1,
          9.1,
          12.1,
          15.3,
          7.6,
          12.4,
          13.4,
          8.8,
          13.4,
          8.2,
          9.3,
          17.3,
          13.9
         ],
         "zmax": 22,
         "zmin": 0
        },
        {
         "colorscale": [
          [
           0,
           "rgb(255,245,240)"
          ],
          [
           0.125,
           "rgb(254,224,210)"
          ],
          [
           0.25,
           "rgb(252,187,161)"
          ],
          [
           0.375,
           "rgb(252,146,114)"
          ],
          [
           0.5,
           "rgb(251,106,74)"
          ],
          [
           0.625,
           "rgb(239,59,44)"
          ],
          [
           0.75,
           "rgb(203,24,29)"
          ],
          [
           0.875,
           "rgb(165,15,21)"
          ],
          [
           1,
           "rgb(103,0,13)"
          ]
         ],
         "customdata": [
          [
           0,
           "Alabama"
          ],
          [
           0,
           "Alaska"
          ],
          [
           0,
           "Arizona"
          ],
          [
           0,
           "Arkansas"
          ],
          [
           0,
           "California"
          ],
          [
           0,
           "Colorado"
          ],
          [
           0,
           "Connecticut"
          ],
          [
           0,
           "Delaware"
          ],
          [
           0,
           "Florida"
          ],
          [
           0,
           "Georgia"
          ],
          [
           0,
           "Hawaii"
          ],
          [
           0,
           "Idaho"
          ],
          [
           0,
           "Illinois"
          ],
          [
           0,
           "Indiana"
          ],
          [
           0,
           "Iowa"
          ],
          [
           0,
           "Kansas"
          ],
          [
           0,
           "Kentucky"
          ],
          [
           0,
           "Louisiana"
          ],
          [
           0,
           "Maine"
          ],
          [
           0,
           "Maryland"
          ],
          [
           0,
           "Massachusetts"
          ],
          [
           0,
           "Michigan"
          ],
          [
           0,
           "Minnesota"
          ],
          [
           0,
           "Mississippi"
          ],
          [
           0,
           "Missouri"
          ],
          [
           0,
           "Montana"
          ],
          [
           0,
           "Nebraska"
          ],
          [
           0,
           "Nevada"
          ],
          [
           0,
           "New Hampshire"
          ],
          [
           0,
           "New Jersey"
          ],
          [
           0,
           "New Mexico"
          ],
          [
           0,
           "New York"
          ],
          [
           0,
           "North Carolina"
          ],
          [
           0,
           "North Dakota"
          ],
          [
           0,
           "Ohio"
          ],
          [
           0,
           "Oklahoma"
          ],
          [
           0,
           "Oregon"
          ],
          [
           0,
           "Pennsylvania"
          ],
          [
           0,
           "Rhode Island"
          ],
          [
           0,
           "South Carolina"
          ],
          [
           0,
           "South Dakota"
          ],
          [
           0,
           "Tennessee"
          ],
          [
           0,
           "Texas"
          ],
          [
           0,
           "Utah"
          ],
          [
           0,
           "Vermont"
          ],
          [
           0,
           "Virginia"
          ],
          [
           0,
           "Washington"
          ],
          [
           0,
           "West Virginia"
          ],
          [
           0,
           "Wisconsin"
          ],
          [
           0,
           "Wyoming"
          ],
          [
           0,
           "District of Columbia"
          ],
          [
           0,
           "US"
          ]
         ],
         "hovertemplate": "<b>%{customdata[1]}</b><br>Child poverty rate: %{z}%<br>Poverty reduction: %{customdata[0]}%<extra></extra>",
         "locationmode": "USA-states",
         "locations": [
          "AL",
          "AK",
          "AZ",
          "AR",
          "CA",
          "CO",
          "CT",
          "DE",
          "FL",
          "GA",
          "HI",
          "ID",
          "IL",
          "IN",
          "IA",
          "KS",
          "KY",
          "LA",
          "ME",
          "MD",
          "MA",
          "MI",
          "MN",
          "MS",
          "MO",
          "MT",
          "NE",
          "NV",
          "NH",
          "NJ",
          "NM",
          "NY",
          "NC",
          "ND",
          "OH",
          "OK",
          "OR",
          "PA",
          "RI",
          "SC",
          "SD",
          "TN",
          "TX",
          "UT",
          "VT",
          "VA",
          "WA",
          "WV",
          "WI",
          "WY",
          "DC",
          "US"
         ],
         "showscale": false,
         "type": "choropleth",
         "z": [
          14.8,
          14.3,
          13,
          12.5,
          19.6,
          11.4,
          13.6,
          10.4,
          18.4,
          15.5,
          15.6,
          7.1,
          12.5,
          12.6,
          8.1,
          7.3,
          10.3,
          19.5,
          9.6,
          11.2,
          10.7,
          10.5,
          5.3,
          17,
          8.8,
          8,
          9.7,
          13.7,
          8.1,
          13.8,
          13.9,
          17.2,
          14.9,
          9.8,
          11.3,
          10.1,
          10.3,
          13,
          10.1,
          15.1,
          9.1,
          12.1,
          15.3,
          7.6,
          12.4,
          13.4,
          8.8,
          13.4,
          8.2,
          9.3,
          17.3,
          13.9
         ],
         "zmax": 22,
         "zmin": 0
        },
        {
         "colorscale": [
          [
           0,
           "rgb(255,245,240)"
          ],
          [
           0.125,
           "rgb(254,224,210)"
          ],
          [
           0.25,
           "rgb(252,187,161)"
          ],
          [
           0.375,
           "rgb(252,146,114)"
          ],
          [
           0.5,
           "rgb(251,106,74)"
          ],
          [
           0.625,
           "rgb(239,59,44)"
          ],
          [
           0.75,
           "rgb(203,24,29)"
          ],
          [
           0.875,
           "rgb(165,15,21)"
          ],
          [
           1,
           "rgb(103,0,13)"
          ]
         ],
         "customdata": [
          [
           0,
           "Alabama"
          ],
          [
           0,
           "Alaska"
          ],
          [
           0,
           "Arizona"
          ],
          [
           0,
           "Arkansas"
          ],
          [
           0,
           "California"
          ],
          [
           0,
           "Colorado"
          ],
          [
           0,
           "Connecticut"
          ],
          [
           0,
           "Delaware"
          ],
          [
           0,
           "Florida"
          ],
          [
           0,
           "Georgia"
          ],
          [
           0,
           "Hawaii"
          ],
          [
           0,
           "Idaho"
          ],
          [
           0,
           "Illinois"
          ],
          [
           0,
           "Indiana"
          ],
          [
           0,
           "Iowa"
          ],
          [
           0,
           "Kansas"
          ],
          [
           0,
           "Kentucky"
          ],
          [
           0,
           "Louisiana"
          ],
          [
           0,
           "Maine"
          ],
          [
           0,
           "Maryland"
          ],
          [
           0,
           "Massachusetts"
          ],
          [
           0,
           "Michigan"
          ],
          [
           0,
           "Minnesota"
          ],
          [
           0,
           "Mississippi"
          ],
          [
           0,
           "Missouri"
          ],
          [
           0,
           "Montana"
          ],
          [
           0,
           "Nebraska"
          ],
          [
           0,
           "Nevada"
          ],
          [
           0,
           "New Hampshire"
          ],
          [
           0,
           "New Jersey"
          ],
          [
           0,
           "New Mexico"
          ],
          [
           0,
           "New York"
          ],
          [
           0,
           "North Carolina"
          ],
          [
           0,
           "North Dakota"
          ],
          [
           0,
           "Ohio"
          ],
          [
           0,
           "Oklahoma"
          ],
          [
           0,
           "Oregon"
          ],
          [
           0,
           "Pennsylvania"
          ],
          [
           0,
           "Rhode Island"
          ],
          [
           0,
           "South Carolina"
          ],
          [
           0,
           "South Dakota"
          ],
          [
           0,
           "Tennessee"
          ],
          [
           0,
           "Texas"
          ],
          [
           0,
           "Utah"
          ],
          [
           0,
           "Vermont"
          ],
          [
           0,
           "Virginia"
          ],
          [
           0,
           "Washington"
          ],
          [
           0,
           "West Virginia"
          ],
          [
           0,
           "Wisconsin"
          ],
          [
           0,
           "Wyoming"
          ],
          [
           0,
           "District of Columbia"
          ],
          [
           0,
           "US"
          ]
         ],
         "hovertemplate": "<b>%{customdata[1]}</b><br>Child poverty rate: %{z}%<br>Poverty reduction: %{customdata[0]}%<extra></extra>",
         "locationmode": "USA-states",
         "locations": [
          "AL",
          "AK",
          "AZ",
          "AR",
          "CA",
          "CO",
          "CT",
          "DE",
          "FL",
          "GA",
          "HI",
          "ID",
          "IL",
          "IN",
          "IA",
          "KS",
          "KY",
          "LA",
          "ME",
          "MD",
          "MA",
          "MI",
          "MN",
          "MS",
          "MO",
          "MT",
          "NE",
          "NV",
          "NH",
          "NJ",
          "NM",
          "NY",
          "NC",
          "ND",
          "OH",
          "OK",
          "OR",
          "PA",
          "RI",
          "SC",
          "SD",
          "TN",
          "TX",
          "UT",
          "VT",
          "VA",
          "WA",
          "WV",
          "WI",
          "WY",
          "DC",
          "US"
         ],
         "showscale": false,
         "type": "choropleth",
         "z": [
          14.8,
          14.3,
          13,
          12.5,
          19.6,
          11.4,
          13.6,
          10.4,
          18.4,
          15.5,
          15.6,
          7.1,
          12.5,
          12.6,
          8.1,
          7.3,
          10.3,
          19.5,
          9.6,
          11.2,
          10.7,
          10.5,
          5.3,
          17,
          8.8,
          8,
          9.7,
          13.7,
          8.1,
          13.8,
          13.9,
          17.2,
          14.9,
          9.8,
          11.3,
          10.1,
          10.3,
          13,
          10.1,
          15.1,
          9.1,
          12.1,
          15.3,
          7.6,
          12.4,
          13.4,
          8.8,
          13.4,
          8.2,
          9.3,
          17.3,
          13.9
         ],
         "zmax": 22,
         "zmin": 0
        }
       ],
       "frames": [
        {
         "data": [
          {
           "customdata": [
            [
             0,
             "Alabama"
            ],
            [
             0,
             "Alaska"
            ],
            [
             0,
             "Arizona"
            ],
            [
             0,
             "Arkansas"
            ],
            [
             0,
             "California"
            ],
            [
             0,
             "Colorado"
            ],
            [
             0,
             "Connecticut"
            ],
            [
             0,
             "Delaware"
            ],
            [
             0,
             "Florida"
            ],
            [
             0,
             "Georgia"
            ],
            [
             0,
             "Hawaii"
            ],
            [
             0,
             "Idaho"
            ],
            [
             0,
             "Illinois"
            ],
            [
             0,
             "Indiana"
            ],
            [
             0,
             "Iowa"
            ],
            [
             0,
             "Kansas"
            ],
            [
             0,
             "Kentucky"
            ],
            [
             0,
             "Louisiana"
            ],
            [
             0,
             "Maine"
            ],
            [
             0,
             "Maryland"
            ],
            [
             0,
             "Massachusetts"
            ],
            [
             0,
             "Michigan"
            ],
            [
             0,
             "Minnesota"
            ],
            [
             0,
             "Mississippi"
            ],
            [
             0,
             "Missouri"
            ],
            [
             0,
             "Montana"
            ],
            [
             0,
             "Nebraska"
            ],
            [
             0,
             "Nevada"
            ],
            [
             0,
             "New Hampshire"
            ],
            [
             0,
             "New Jersey"
            ],
            [
             0,
             "New Mexico"
            ],
            [
             0,
             "New York"
            ],
            [
             0,
             "North Carolina"
            ],
            [
             0,
             "North Dakota"
            ],
            [
             0,
             "Ohio"
            ],
            [
             0,
             "Oklahoma"
            ],
            [
             0,
             "Oregon"
            ],
            [
             0,
             "Pennsylvania"
            ],
            [
             0,
             "Rhode Island"
            ],
            [
             0,
             "South Carolina"
            ],
            [
             0,
             "South Dakota"
            ],
            [
             0,
             "Tennessee"
            ],
            [
             0,
             "Texas"
            ],
            [
             0,
             "Utah"
            ],
            [
             0,
             "Vermont"
            ],
            [
             0,
             "Virginia"
            ],
            [
             0,
             "Washington"
            ],
            [
             0,
             "West Virginia"
            ],
            [
             0,
             "Wisconsin"
            ],
            [
             0,
             "Wyoming"
            ],
            [
             0,
             "District of Columbia"
            ],
            [
             0,
             "US"
            ]
           ],
           "hovertemplate": "<b>%{customdata[1]}</b><br>Child poverty rate: %{z}%<br>Poverty reduction: %{customdata[0]}%<extra></extra>",
           "locationmode": "USA-states",
           "locations": [
            "AL",
            "AK",
            "AZ",
            "AR",
            "CA",
            "CO",
            "CT",
            "DE",
            "FL",
            "GA",
            "HI",
            "ID",
            "IL",
            "IN",
            "IA",
            "KS",
            "KY",
            "LA",
            "ME",
            "MD",
            "MA",
            "MI",
            "MN",
            "MS",
            "MO",
            "MT",
            "NE",
            "NV",
            "NH",
            "NJ",
            "NM",
            "NY",
            "NC",
            "ND",
            "OH",
            "OK",
            "OR",
            "PA",
            "RI",
            "SC",
            "SD",
            "TN",
            "TX",
            "UT",
            "VT",
            "VA",
            "WA",
            "WV",
            "WI",
            "WY",
            "DC",
            "US"
           ],
           "type": "choropleth",
           "z": [
            14.8,
            14.3,
            13,
            12.5,
            19.6,
            11.4,
            13.6,
            10.4,
            18.4,
            15.5,
            15.6,
            7.1,
            12.5,
            12.6,
            8.1,
            7.3,
            10.3,
            19.5,
            9.6,
            11.2,
            10.7,
            10.5,
            5.3,
            17,
            8.8,
            8,
            9.7,
            13.7,
            8.1,
            13.8,
            13.9,
            17.2,
            14.9,
            9.8,
            11.3,
            10.1,
            10.3,
            13,
            10.1,
            15.1,
            9.1,
            12.1,
            15.3,
            7.6,
            12.4,
            13.4,
            8.8,
            13.4,
            8.2,
            9.3,
            17.3,
            13.9
           ]
          },
          {
           "customdata": [
            [
             0,
             "Alabama"
            ],
            [
             0,
             "Alaska"
            ],
            [
             0,
             "Arizona"
            ],
            [
             0,
             "Arkansas"
            ],
            [
             0,
             "California"
            ],
            [
             0,
             "Colorado"
            ],
            [
             0,
             "Connecticut"
            ],
            [
             0,
             "Delaware"
            ],
            [
             0,
             "Florida"
            ],
            [
             0,
             "Georgia"
            ],
            [
             0,
             "Hawaii"
            ],
            [
             0,
             "Idaho"
            ],
            [
             0,
             "Illinois"
            ],
            [
             0,
             "Indiana"
            ],
            [
             0,
             "Iowa"
            ],
            [
             0,
             "Kansas"
            ],
            [
             0,
             "Kentucky"
            ],
            [
             0,
             "Louisiana"
            ],
            [
             0,
             "Maine"
            ],
            [
             0,
             "Maryland"
            ],
            [
             0,
             "Massachusetts"
            ],
            [
             0,
             "Michigan"
            ],
            [
             0,
             "Minnesota"
            ],
            [
             0,
             "Mississippi"
            ],
            [
             0,
             "Missouri"
            ],
            [
             0,
             "Montana"
            ],
            [
             0,
             "Nebraska"
            ],
            [
             0,
             "Nevada"
            ],
            [
             0,
             "New Hampshire"
            ],
            [
             0,
             "New Jersey"
            ],
            [
             0,
             "New Mexico"
            ],
            [
             0,
             "New York"
            ],
            [
             0,
             "North Carolina"
            ],
            [
             0,
             "North Dakota"
            ],
            [
             0,
             "Ohio"
            ],
            [
             0,
             "Oklahoma"
            ],
            [
             0,
             "Oregon"
            ],
            [
             0,
             "Pennsylvania"
            ],
            [
             0,
             "Rhode Island"
            ],
            [
             0,
             "South Carolina"
            ],
            [
             0,
             "South Dakota"
            ],
            [
             0,
             "Tennessee"
            ],
            [
             0,
             "Texas"
            ],
            [
             0,
             "Utah"
            ],
            [
             0,
             "Vermont"
            ],
            [
             0,
             "Virginia"
            ],
            [
             0,
             "Washington"
            ],
            [
             0,
             "West Virginia"
            ],
            [
             0,
             "Wisconsin"
            ],
            [
             0,
             "Wyoming"
            ],
            [
             0,
             "District of Columbia"
            ],
            [
             0,
             "US"
            ]
           ],
           "hovertemplate": "<b>%{customdata[1]}</b><br>Child poverty rate: %{z}%<br>Poverty reduction: %{customdata[0]}%<extra></extra>",
           "locationmode": "USA-states",
           "locations": [
            "AL",
            "AK",
            "AZ",
            "AR",
            "CA",
            "CO",
            "CT",
            "DE",
            "FL",
            "GA",
            "HI",
            "ID",
            "IL",
            "IN",
            "IA",
            "KS",
            "KY",
            "LA",
            "ME",
            "MD",
            "MA",
            "MI",
            "MN",
            "MS",
            "MO",
            "MT",
            "NE",
            "NV",
            "NH",
            "NJ",
            "NM",
            "NY",
            "NC",
            "ND",
            "OH",
            "OK",
            "OR",
            "PA",
            "RI",
            "SC",
            "SD",
            "TN",
            "TX",
            "UT",
            "VT",
            "VA",
            "WA",
            "WV",
            "WI",
            "WY",
            "DC",
            "US"
           ],
           "type": "choropleth",
           "z": [
            14.8,
            14.3,
            13,
            12.5,
            19.6,
            11.4,
            13.6,
            10.4,
            18.4,
            15.5,
            15.6,
            7.1,
            12.5,
            12.6,
            8.1,
            7.3,
            10.3,
            19.5,
            9.6,
            11.2,
            10.7,
            10.5,
            5.3,
            17,
            8.8,
            8,
            9.7,
            13.7,
            8.1,
            13.8,
            13.9,
            17.2,
            14.9,
            9.8,
            11.3,
            10.1,
            10.3,
            13,
            10.1,
            15.1,
            9.1,
            12.1,
            15.3,
            7.6,
            12.4,
            13.4,
            8.8,
            13.4,
            8.2,
            9.3,
            17.3,
            13.9
           ]
          },
          {
           "customdata": [
            [
             0,
             "Alabama"
            ],
            [
             0,
             "Alaska"
            ],
            [
             0,
             "Arizona"
            ],
            [
             0,
             "Arkansas"
            ],
            [
             0,
             "California"
            ],
            [
             0,
             "Colorado"
            ],
            [
             0,
             "Connecticut"
            ],
            [
             0,
             "Delaware"
            ],
            [
             0,
             "Florida"
            ],
            [
             0,
             "Georgia"
            ],
            [
             0,
             "Hawaii"
            ],
            [
             0,
             "Idaho"
            ],
            [
             0,
             "Illinois"
            ],
            [
             0,
             "Indiana"
            ],
            [
             0,
             "Iowa"
            ],
            [
             0,
             "Kansas"
            ],
            [
             0,
             "Kentucky"
            ],
            [
             0,
             "Louisiana"
            ],
            [
             0,
             "Maine"
            ],
            [
             0,
             "Maryland"
            ],
            [
             0,
             "Massachusetts"
            ],
            [
             0,
             "Michigan"
            ],
            [
             0,
             "Minnesota"
            ],
            [
             0,
             "Mississippi"
            ],
            [
             0,
             "Missouri"
            ],
            [
             0,
             "Montana"
            ],
            [
             0,
             "Nebraska"
            ],
            [
             0,
             "Nevada"
            ],
            [
             0,
             "New Hampshire"
            ],
            [
             0,
             "New Jersey"
            ],
            [
             0,
             "New Mexico"
            ],
            [
             0,
             "New York"
            ],
            [
             0,
             "North Carolina"
            ],
            [
             0,
             "North Dakota"
            ],
            [
             0,
             "Ohio"
            ],
            [
             0,
             "Oklahoma"
            ],
            [
             0,
             "Oregon"
            ],
            [
             0,
             "Pennsylvania"
            ],
            [
             0,
             "Rhode Island"
            ],
            [
             0,
             "South Carolina"
            ],
            [
             0,
             "South Dakota"
            ],
            [
             0,
             "Tennessee"
            ],
            [
             0,
             "Texas"
            ],
            [
             0,
             "Utah"
            ],
            [
             0,
             "Vermont"
            ],
            [
             0,
             "Virginia"
            ],
            [
             0,
             "Washington"
            ],
            [
             0,
             "West Virginia"
            ],
            [
             0,
             "Wisconsin"
            ],
            [
             0,
             "Wyoming"
            ],
            [
             0,
             "District of Columbia"
            ],
            [
             0,
             "US"
            ]
           ],
           "hovertemplate": "<b>%{customdata[1]}</b><br>Child poverty rate: %{z}%<br>Poverty reduction: %{customdata[0]}%<extra></extra>",
           "locationmode": "USA-states",
           "locations": [
            "AL",
            "AK",
            "AZ",
            "AR",
            "CA",
            "CO",
            "CT",
            "DE",
            "FL",
            "GA",
            "HI",
            "ID",
            "IL",
            "IN",
            "IA",
            "KS",
            "KY",
            "LA",
            "ME",
            "MD",
            "MA",
            "MI",
            "MN",
            "MS",
            "MO",
            "MT",
            "NE",
            "NV",
            "NH",
            "NJ",
            "NM",
            "NY",
            "NC",
            "ND",
            "OH",
            "OK",
            "OR",
            "PA",
            "RI",
            "SC",
            "SD",
            "TN",
            "TX",
            "UT",
            "VT",
            "VA",
            "WA",
            "WV",
            "WI",
            "WY",
            "DC",
            "US"
           ],
           "type": "choropleth",
           "z": [
            14.8,
            14.3,
            13,
            12.5,
            19.6,
            11.4,
            13.6,
            10.4,
            18.4,
            15.5,
            15.6,
            7.1,
            12.5,
            12.6,
            8.1,
            7.3,
            10.3,
            19.5,
            9.6,
            11.2,
            10.7,
            10.5,
            5.3,
            17,
            8.8,
            8,
            9.7,
            13.7,
            8.1,
            13.8,
            13.9,
            17.2,
            14.9,
            9.8,
            11.3,
            10.1,
            10.3,
            13,
            10.1,
            15.1,
            9.1,
            12.1,
            15.3,
            7.6,
            12.4,
            13.4,
            8.8,
            13.4,
            8.2,
            9.3,
            17.3,
            13.9
           ]
          }
         ],
         "name": "0",
         "traces": [
          0,
          1,
          2
         ]
        },
        {
         "data": [
          {
           "customdata": [
            [
             7,
             "Alabama"
            ],
            [
             10,
             "Alaska"
            ],
            [
             20,
             "Arizona"
            ],
            [
             17,
             "Arkansas"
            ],
            [
             9,
             "California"
            ],
            [
             12,
             "Colorado"
            ],
            [
             4,
             "Connecticut"
            ],
            [
             9,
             "Delaware"
            ],
            [
             11,
             "Florida"
            ],
            [
             5,
             "Georgia"
            ],
            [
             10,
             "Hawaii"
            ],
            [
             14,
             "Idaho"
            ],
            [
             10,
             "Illinois"
            ],
            [
             6,
             "Indiana"
            ],
            [
             9,
             "Iowa"
            ],
            [
             25,
             "Kansas"
            ],
            [
             8,
             "Kentucky"
            ],
            [
             10,
             "Louisiana"
            ],
            [
             18,
             "Maine"
            ],
            [
             9,
             "Maryland"
            ],
            [
             12,
             "Massachusetts"
            ],
            [
             10,
             "Michigan"
            ],
            [
             15,
             "Minnesota"
            ],
            [
             12,
             "Mississippi"
            ],
            [
             19,
             "Missouri"
            ],
            [
             7,
             "Montana"
            ],
            [
             13,
             "Nebraska"
            ],
            [
             23,
             "Nevada"
            ],
            [
             12,
             "New Hampshire"
            ],
            [
             7,
             "New Jersey"
            ],
            [
             14,
             "New Mexico"
            ],
            [
             9,
             "New York"
            ],
            [
             14,
             "North Carolina"
            ],
            [
             16,
             "North Dakota"
            ],
            [
             11,
             "Ohio"
            ],
            [
             11,
             "Oklahoma"
            ],
            [
             13,
             "Oregon"
            ],
            [
             11,
             "Pennsylvania"
            ],
            [
             6,
             "Rhode Island"
            ],
            [
             13,
             "South Carolina"
            ],
            [
             11,
             "South Dakota"
            ],
            [
             15,
             "Tennessee"
            ],
            [
             12,
             "Texas"
            ],
            [
             12,
             "Utah"
            ],
            [
             13,
             "Vermont"
            ],
            [
             7,
             "Virginia"
            ],
            [
             12,
             "Washington"
            ],
            [
             9,
             "West Virginia"
            ],
            [
             17,
             "Wisconsin"
            ],
            [
             19,
             "Wyoming"
            ],
            [
             10,
             "District of Columbia"
            ],
            [
             11,
             "US"
            ]
           ],
           "hovertemplate": "<b>%{customdata[1]}</b><br>Child poverty rate: %{z}%<br>Poverty reduction: %{customdata[0]}%<extra></extra>",
           "locationmode": "USA-states",
           "locations": [
            "AL",
            "AK",
            "AZ",
            "AR",
            "CA",
            "CO",
            "CT",
            "DE",
            "FL",
            "GA",
            "HI",
            "ID",
            "IL",
            "IN",
            "IA",
            "KS",
            "KY",
            "LA",
            "ME",
            "MD",
            "MA",
            "MI",
            "MN",
            "MS",
            "MO",
            "MT",
            "NE",
            "NV",
            "NH",
            "NJ",
            "NM",
            "NY",
            "NC",
            "ND",
            "OH",
            "OK",
            "OR",
            "PA",
            "RI",
            "SC",
            "SD",
            "TN",
            "TX",
            "UT",
            "VT",
            "VA",
            "WA",
            "WV",
            "WI",
            "WY",
            "DC",
            "US"
           ],
           "type": "choropleth",
           "z": [
            13.7,
            12.8,
            10.4,
            10.4,
            17.8,
            10,
            13,
            9.5,
            16.3,
            14.7,
            14,
            6.1,
            11.3,
            11.8,
            7.4,
            5.5,
            9.5,
            17.6,
            7.9,
            10.2,
            9.4,
            9.4,
            4.5,
            14.9,
            7.1,
            7.4,
            8.4,
            10.5,
            7.1,
            12.9,
            12,
            15.7,
            12.8,
            8.2,
            10.1,
            9,
            9,
            11.6,
            9.5,
            13.1,
            8.1,
            10.3,
            13.4,
            6.7,
            10.8,
            12.4,
            7.7,
            12.2,
            6.8,
            7.5,
            15.6,
            12.4
           ]
          },
          {
           "customdata": [
            [
             7,
             "Alabama"
            ],
            [
             10,
             "Alaska"
            ],
            [
             20,
             "Arizona"
            ],
            [
             17,
             "Arkansas"
            ],
            [
             9,
             "California"
            ],
            [
             12,
             "Colorado"
            ],
            [
             4,
             "Connecticut"
            ],
            [
             9,
             "Delaware"
            ],
            [
             11,
             "Florida"
            ],
            [
             5,
             "Georgia"
            ],
            [
             10,
             "Hawaii"
            ],
            [
             14,
             "Idaho"
            ],
            [
             10,
             "Illinois"
            ],
            [
             6,
             "Indiana"
            ],
            [
             9,
             "Iowa"
            ],
            [
             25,
             "Kansas"
            ],
            [
             8,
             "Kentucky"
            ],
            [
             10,
             "Louisiana"
            ],
            [
             18,
             "Maine"
            ],
            [
             9,
             "Maryland"
            ],
            [
             12,
             "Massachusetts"
            ],
            [
             10,
             "Michigan"
            ],
            [
             15,
             "Minnesota"
            ],
            [
             12,
             "Mississippi"
            ],
            [
             19,
             "Missouri"
            ],
            [
             7,
             "Montana"
            ],
            [
             13,
             "Nebraska"
            ],
            [
             23,
             "Nevada"
            ],
            [
             12,
             "New Hampshire"
            ],
            [
             7,
             "New Jersey"
            ],
            [
             14,
             "New Mexico"
            ],
            [
             9,
             "New York"
            ],
            [
             14,
             "North Carolina"
            ],
            [
             16,
             "North Dakota"
            ],
            [
             11,
             "Ohio"
            ],
            [
             11,
             "Oklahoma"
            ],
            [
             13,
             "Oregon"
            ],
            [
             11,
             "Pennsylvania"
            ],
            [
             6,
             "Rhode Island"
            ],
            [
             13,
             "South Carolina"
            ],
            [
             8,
             "South Dakota"
            ],
            [
             15,
             "Tennessee"
            ],
            [
             12,
             "Texas"
            ],
            [
             12,
             "Utah"
            ],
            [
             13,
             "Vermont"
            ],
            [
             7,
             "Virginia"
            ],
            [
             12,
             "Washington"
            ],
            [
             9,
             "West Virginia"
            ],
            [
             17,
             "Wisconsin"
            ],
            [
             19,
             "Wyoming"
            ],
            [
             10,
             "District of Columbia"
            ],
            [
             11,
             "US"
            ]
           ],
           "hovertemplate": "<b>%{customdata[1]}</b><br>Child poverty rate: %{z}%<br>Poverty reduction: %{customdata[0]}%<extra></extra>",
           "locationmode": "USA-states",
           "locations": [
            "AL",
            "AK",
            "AZ",
            "AR",
            "CA",
            "CO",
            "CT",
            "DE",
            "FL",
            "GA",
            "HI",
            "ID",
            "IL",
            "IN",
            "IA",
            "KS",
            "KY",
            "LA",
            "ME",
            "MD",
            "MA",
            "MI",
            "MN",
            "MS",
            "MO",
            "MT",
            "NE",
            "NV",
            "NH",
            "NJ",
            "NM",
            "NY",
            "NC",
            "ND",
            "OH",
            "OK",
            "OR",
            "PA",
            "RI",
            "SC",
            "SD",
            "TN",
            "TX",
            "UT",
            "VT",
            "VA",
            "WA",
            "WV",
            "WI",
            "WY",
            "DC",
            "US"
           ],
           "type": "choropleth",
           "z": [
            13.7,
            12.8,
            10.4,
            10.4,
            17.8,
            10,
            13,
            9.5,
            16.3,
            14.7,
            14,
            6.1,
            11.3,
            11.8,
            7.4,
            5.5,
            9.5,
            17.6,
            7.9,
            10.2,
            9.4,
            9.4,
            4.5,
            14.9,
            7.1,
            7.4,
            8.4,
            10.5,
            7.1,
            12.9,
            12,
            15.7,
            12.8,
            8.2,
            10.1,
            9,
            9,
            11.6,
            9.5,
            13.1,
            8.4,
            10.3,
            13.5,
            6.7,
            10.8,
            12.4,
            7.7,
            12.2,
            6.8,
            7.5,
            15.6,
            12.4
           ]
          },
          {
           "customdata": [
            [
             7,
             "Alabama"
            ],
            [
             10,
             "Alaska"
            ],
            [
             20,
             "Arizona"
            ],
            [
             17,
             "Arkansas"
            ],
            [
             9,
             "California"
            ],
            [
             12,
             "Colorado"
            ],
            [
             4,
             "Connecticut"
            ],
            [
             9,
             "Delaware"
            ],
            [
             12,
             "Florida"
            ],
            [
             5,
             "Georgia"
            ],
            [
             12,
             "Hawaii"
            ],
            [
             14,
             "Idaho"
            ],
            [
             10,
             "Illinois"
            ],
            [
             6,
             "Indiana"
            ],
            [
             9,
             "Iowa"
            ],
            [
             25,
             "Kansas"
            ],
            [
             8,
             "Kentucky"
            ],
            [
             10,
             "Louisiana"
            ],
            [
             18,
             "Maine"
            ],
            [
             9,
             "Maryland"
            ],
            [
             12,
             "Massachusetts"
            ],
            [
             10,
             "Michigan"
            ],
            [
             15,
             "Minnesota"
            ],
            [
             12,
             "Mississippi"
            ],
            [
             19,
             "Missouri"
            ],
            [
             7,
             "Montana"
            ],
            [
             13,
             "Nebraska"
            ],
            [
             23,
             "Nevada"
            ],
            [
             12,
             "New Hampshire"
            ],
            [
             7,
             "New Jersey"
            ],
            [
             14,
             "New Mexico"
            ],
            [
             9,
             "New York"
            ],
            [
             14,
             "North Carolina"
            ],
            [
             16,
             "North Dakota"
            ],
            [
             11,
             "Ohio"
            ],
            [
             11,
             "Oklahoma"
            ],
            [
             13,
             "Oregon"
            ],
            [
             12,
             "Pennsylvania"
            ],
            [
             6,
             "Rhode Island"
            ],
            [
             13,
             "South Carolina"
            ],
            [
             11,
             "South Dakota"
            ],
            [
             15,
             "Tennessee"
            ],
            [
             12,
             "Texas"
            ],
            [
             12,
             "Utah"
            ],
            [
             13,
             "Vermont"
            ],
            [
             7,
             "Virginia"
            ],
            [
             12,
             "Washington"
            ],
            [
             9,
             "West Virginia"
            ],
            [
             17,
             "Wisconsin"
            ],
            [
             19,
             "Wyoming"
            ],
            [
             12,
             "District of Columbia"
            ],
            [
             11,
             "US"
            ]
           ],
           "hovertemplate": "<b>%{customdata[1]}</b><br>Child poverty rate: %{z}%<br>Poverty reduction: %{customdata[0]}%<extra></extra>",
           "locationmode": "USA-states",
           "locations": [
            "AL",
            "AK",
            "AZ",
            "AR",
            "CA",
            "CO",
            "CT",
            "DE",
            "FL",
            "GA",
            "HI",
            "ID",
            "IL",
            "IN",
            "IA",
            "KS",
            "KY",
            "LA",
            "ME",
            "MD",
            "MA",
            "MI",
            "MN",
            "MS",
            "MO",
            "MT",
            "NE",
            "NV",
            "NH",
            "NJ",
            "NM",
            "NY",
            "NC",
            "ND",
            "OH",
            "OK",
            "OR",
            "PA",
            "RI",
            "SC",
            "SD",
            "TN",
            "TX",
            "UT",
            "VT",
            "VA",
            "WA",
            "WV",
            "WI",
            "WY",
            "DC",
            "US"
           ],
           "type": "choropleth",
           "z": [
            13.7,
            12.8,
            10.4,
            10.4,
            17.8,
            10,
            13,
            9.5,
            16.2,
            14.7,
            13.8,
            6.1,
            11.3,
            11.8,
            7.4,
            5.5,
            9.5,
            17.6,
            7.9,
            10.2,
            9.4,
            9.4,
            4.5,
            14.9,
            7.1,
            7.4,
            8.4,
            10.5,
            7.1,
            12.9,
            12,
            15.6,
            12.8,
            8.2,
            10.1,
            9,
            9,
            11.5,
            9.5,
            13.1,
            8.1,
            10.3,
            13.4,
            6.7,
            10.8,
            12.4,
            7.7,
            12.2,
            6.8,
            7.5,
            15.3,
            12.4
           ]
          }
         ],
         "name": "50",
         "traces": [
          0,
          1,
          2
         ]
        },
        {
         "data": [
          {
           "customdata": [
            [
             18,
             "Alabama"
            ],
            [
             17,
             "Alaska"
            ],
            [
             30,
             "Arizona"
            ],
            [
             28,
             "Arkansas"
            ],
            [
             16,
             "California"
            ],
            [
             23,
             "Colorado"
            ],
            [
             5,
             "Connecticut"
            ],
            [
             17,
             "Delaware"
            ],
            [
             26,
             "Florida"
            ],
            [
             15,
             "Georgia"
            ],
            [
             19,
             "Hawaii"
            ],
            [
             32,
             "Idaho"
            ],
            [
             24,
             "Illinois"
            ],
            [
             18,
             "Indiana"
            ],
            [
             22,
             "Iowa"
            ],
            [
             30,
             "Kansas"
            ],
            [
             19,
             "Kentucky"
            ],
            [
             20,
             "Louisiana"
            ],
            [
             27,
             "Maine"
            ],
            [
             24,
             "Maryland"
            ],
            [
             20,
             "Massachusetts"
            ],
            [
             23,
             "Michigan"
            ],
            [
             30,
             "Minnesota"
            ],
            [
             24,
             "Mississippi"
            ],
            [
             24,
             "Missouri"
            ],
            [
             14,
             "Montana"
            ],
            [
             22,
             "Nebraska"
            ],
            [
             28,
             "Nevada"
            ],
            [
             21,
             "New Hampshire"
            ],
            [
             14,
             "New Jersey"
            ],
            [
             22,
             "New Mexico"
            ],
            [
             17,
             "New York"
            ],
            [
             33,
             "North Carolina"
            ],
            [
             23,
             "North Dakota"
            ],
            [
             27,
             "Ohio"
            ],
            [
             24,
             "Oklahoma"
            ],
            [
             26,
             "Oregon"
            ],
            [
             19,
             "Pennsylvania"
            ],
            [
             17,
             "Rhode Island"
            ],
            [
             26,
             "South Carolina"
            ],
            [
             26,
             "South Dakota"
            ],
            [
             25,
             "Tennessee"
            ],
            [
             22,
             "Texas"
            ],
            [
             25,
             "Utah"
            ],
            [
             24,
             "Vermont"
            ],
            [
             17,
             "Virginia"
            ],
            [
             24,
             "Washington"
            ],
            [
             25,
             "West Virginia"
            ],
            [
             30,
             "Wisconsin"
            ],
            [
             28,
             "Wyoming"
            ],
            [
             17,
             "District of Columbia"
            ],
            [
             22,
             "US"
            ]
           ],
           "hovertemplate": "<b>%{customdata[1]}</b><br>Child poverty rate: %{z}%<br>Poverty reduction: %{customdata[0]}%<extra></extra>",
           "locationmode": "USA-states",
           "locations": [
            "AL",
            "AK",
            "AZ",
            "AR",
            "CA",
            "CO",
            "CT",
            "DE",
            "FL",
            "GA",
            "HI",
            "ID",
            "IL",
            "IN",
            "IA",
            "KS",
            "KY",
            "LA",
            "ME",
            "MD",
            "MA",
            "MI",
            "MN",
            "MS",
            "MO",
            "MT",
            "NE",
            "NV",
            "NH",
            "NJ",
            "NM",
            "NY",
            "NC",
            "ND",
            "OH",
            "OK",
            "OR",
            "PA",
            "RI",
            "SC",
            "SD",
            "TN",
            "TX",
            "UT",
            "VT",
            "VA",
            "WA",
            "WV",
            "WI",
            "WY",
            "DC",
            "US"
           ],
           "type": "choropleth",
           "z": [
            12.1,
            11.9,
            9.1,
            9,
            16.4,
            8.8,
            12.9,
            8.6,
            13.6,
            13.1,
            12.7,
            4.8,
            9.5,
            10.3,
            6.3,
            5.1,
            8.3,
            15.6,
            7,
            8.5,
            8.6,
            8.1,
            3.7,
            13,
            6.7,
            6.9,
            7.6,
            9.8,
            6.4,
            11.9,
            10.8,
            14.2,
            10,
            7.5,
            8.3,
            7.7,
            7.6,
            10.5,
            8.4,
            11.2,
            6.7,
            9.1,
            11.9,
            5.7,
            9.4,
            11.1,
            6.7,
            10.1,
            5.7,
            6.7,
            14.4,
            10.9
           ]
          },
          {
           "customdata": [
            [
             18,
             "Alabama"
            ],
            [
             17,
             "Alaska"
            ],
            [
             30,
             "Arizona"
            ],
            [
             28,
             "Arkansas"
            ],
            [
             16,
             "California"
            ],
            [
             23,
             "Colorado"
            ],
            [
             5,
             "Connecticut"
            ],
            [
             17,
             "Delaware"
            ],
            [
             26,
             "Florida"
            ],
            [
             15,
             "Georgia"
            ],
            [
             19,
             "Hawaii"
            ],
            [
             32,
             "Idaho"
            ],
            [
             24,
             "Illinois"
            ],
            [
             18,
             "Indiana"
            ],
            [
             22,
             "Iowa"
            ],
            [
             30,
             "Kansas"
            ],
            [
             19,
             "Kentucky"
            ],
            [
             20,
             "Louisiana"
            ],
            [
             27,
             "Maine"
            ],
            [
             24,
             "Maryland"
            ],
            [
             20,
             "Massachusetts"
            ],
            [
             23,
             "Michigan"
            ],
            [
             30,
             "Minnesota"
            ],
            [
             24,
             "Mississippi"
            ],
            [
             24,
             "Missouri"
            ],
            [
             14,
             "Montana"
            ],
            [
             22,
             "Nebraska"
            ],
            [
             28,
             "Nevada"
            ],
            [
             21,
             "New Hampshire"
            ],
            [
             14,
             "New Jersey"
            ],
            [
             22,
             "New Mexico"
            ],
            [
             17,
             "New York"
            ],
            [
             32,
             "North Carolina"
            ],
            [
             23,
             "North Dakota"
            ],
            [
             27,
             "Ohio"
            ],
            [
             24,
             "Oklahoma"
            ],
            [
             26,
             "Oregon"
            ],
            [
             19,
             "Pennsylvania"
            ],
            [
             17,
             "Rhode Island"
            ],
            [
             26,
             "South Carolina"
            ],
            [
             26,
             "South Dakota"
            ],
            [
             25,
             "Tennessee"
            ],
            [
             22,
             "Texas"
            ],
            [
             25,
             "Utah"
            ],
            [
             24,
             "Vermont"
            ],
            [
             17,
             "Virginia"
            ],
            [
             24,
             "Washington"
            ],
            [
             25,
             "West Virginia"
            ],
            [
             30,
             "Wisconsin"
            ],
            [
             28,
             "Wyoming"
            ],
            [
             17,
             "District of Columbia"
            ],
            [
             22,
             "US"
            ]
           ],
           "hovertemplate": "<b>%{customdata[1]}</b><br>Child poverty rate: %{z}%<br>Poverty reduction: %{customdata[0]}%<extra></extra>",
           "locationmode": "USA-states",
           "locations": [
            "AL",
            "AK",
            "AZ",
            "AR",
            "CA",
            "CO",
            "CT",
            "DE",
            "FL",
            "GA",
            "HI",
            "ID",
            "IL",
            "IN",
            "IA",
            "KS",
            "KY",
            "LA",
            "ME",
            "MD",
            "MA",
            "MI",
            "MN",
            "MS",
            "MO",
            "MT",
            "NE",
            "NV",
            "NH",
            "NJ",
            "NM",
            "NY",
            "NC",
            "ND",
            "OH",
            "OK",
            "OR",
            "PA",
            "RI",
            "SC",
            "SD",
            "TN",
            "TX",
            "UT",
            "VT",
            "VA",
            "WA",
            "WV",
            "WI",
            "WY",
            "DC",
            "US"
           ],
           "type": "choropleth",
           "z": [
            12.1,
            11.9,
            9.1,
            9,
            16.4,
            8.8,
            12.9,
            8.6,
            13.6,
            13.1,
            12.7,
            4.8,
            9.5,
            10.3,
            6.3,
            5.1,
            8.3,
            15.6,
            7,
            8.5,
            8.6,
            8.1,
            3.7,
            13,
            6.7,
            6.9,
            7.6,
            9.8,
            6.4,
            11.8,
            10.8,
            14.2,
            10.1,
            7.5,
            8.3,
            7.7,
            7.6,
            10.5,
            8.4,
            11.2,
            6.7,
            9.1,
            11.9,
            5.7,
            9.4,
            11.1,
            6.7,
            10.1,
            5.7,
            6.7,
            14.4,
            10.9
           ]
          },
          {
           "customdata": [
            [
             19,
             "Alabama"
            ],
            [
             18,
             "Alaska"
            ],
            [
             30,
             "Arizona"
            ],
            [
             28,
             "Arkansas"
            ],
            [
             17,
             "California"
            ],
            [
             23,
             "Colorado"
            ],
            [
             5,
             "Connecticut"
            ],
            [
             17,
             "Delaware"
            ],
            [
             27,
             "Florida"
            ],
            [
             17,
             "Georgia"
            ],
            [
             22,
             "Hawaii"
            ],
            [
             34,
             "Idaho"
            ],
            [
             25,
             "Illinois"
            ],
            [
             20,
             "Indiana"
            ],
            [
             22,
             "Iowa"
            ],
            [
             30,
             "Kansas"
            ],
            [
             19,
             "Kentucky"
            ],
            [
             20,
             "Louisiana"
            ],
            [
             27,
             "Maine"
            ],
            [
             27,
             "Maryland"
            ],
            [
             21,
             "Massachusetts"
            ],
            [
             23,
             "Michigan"
            ],
            [
             30,
             "Minnesota"
            ],
            [
             24,
             "Mississippi"
            ],
            [
             24,
             "Missouri"
            ],
            [
             14,
             "Montana"
            ],
            [
             22,
             "Nebraska"
            ],
            [
             28,
             "Nevada"
            ],
            [
             21,
             "New Hampshire"
            ],
            [
             15,
             "New Jersey"
            ],
            [
             22,
             "New Mexico"
            ],
            [
             18,
             "New York"
            ],
            [
             34,
             "North Carolina"
            ],
            [
             23,
             "North Dakota"
            ],
            [
             27,
             "Ohio"
            ],
            [
             24,
             "Oklahoma"
            ],
            [
             26,
             "Oregon"
            ],
            [
             20,
             "Pennsylvania"
            ],
            [
             17,
             "Rhode Island"
            ],
            [
             26,
             "South Carolina"
            ],
            [
             26,
             "South Dakota"
            ],
            [
             25,
             "Tennessee"
            ],
            [
             23,
             "Texas"
            ],
            [
             25,
             "Utah"
            ],
            [
             25,
             "Vermont"
            ],
            [
             18,
             "Virginia"
            ],
            [
             24,
             "Washington"
            ],
            [
             25,
             "West Virginia"
            ],
            [
             30,
             "Wisconsin"
            ],
            [
             29,
             "Wyoming"
            ],
            [
             17,
             "District of Columbia"
            ],
            [
             22,
             "US"
            ]
           ],
           "hovertemplate": "<b>%{customdata[1]}</b><br>Child poverty rate: %{z}%<br>Poverty reduction: %{customdata[0]}%<extra></extra>",
           "locationmode": "USA-states",
           "locations": [
            "AL",
            "AK",
            "AZ",
            "AR",
            "CA",
            "CO",
            "CT",
            "DE",
            "FL",
            "GA",
            "HI",
            "ID",
            "IL",
            "IN",
            "IA",
            "KS",
            "KY",
            "LA",
            "ME",
            "MD",
            "MA",
            "MI",
            "MN",
            "MS",
            "MO",
            "MT",
            "NE",
            "NV",
            "NH",
            "NJ",
            "NM",
            "NY",
            "NC",
            "ND",
            "OH",
            "OK",
            "OR",
            "PA",
            "RI",
            "SC",
            "SD",
            "TN",
            "TX",
            "UT",
            "VT",
            "VA",
            "WA",
            "WV",
            "WI",
            "WY",
            "DC",
            "US"
           ],
           "type": "choropleth",
           "z": [
            12,
            11.7,
            9.1,
            9,
            16.3,
            8.8,
            12.9,
            8.6,
            13.4,
            12.9,
            12.1,
            4.7,
            9.4,
            10.1,
            6.3,
            5.1,
            8.3,
            15.6,
            7,
            8.2,
            8.5,
            8.1,
            3.7,
            13,
            6.7,
            6.9,
            7.6,
            9.8,
            6.4,
            11.7,
            10.8,
            14.1,
            9.9,
            7.5,
            8.2,
            7.7,
            7.6,
            10.4,
            8.4,
            11.2,
            6.7,
            9.1,
            11.8,
            5.7,
            9.3,
            11,
            6.7,
            10,
            5.7,
            6.6,
            14.4,
            10.8
           ]
          }
         ],
         "name": "100",
         "traces": [
          0,
          1,
          2
         ]
        },
        {
         "data": [
          {
           "customdata": [
            [
             31,
             "Alabama"
            ],
            [
             21,
             "Alaska"
            ],
            [
             42,
             "Arizona"
            ],
            [
             35,
             "Arkansas"
            ],
            [
             24,
             "California"
            ],
            [
             40,
             "Colorado"
            ],
            [
             16,
             "Connecticut"
            ],
            [
             27,
             "Delaware"
            ],
            [
             34,
             "Florida"
            ],
            [
             29,
             "Georgia"
            ],
            [
             30,
             "Hawaii"
            ],
            [
             38,
             "Idaho"
            ],
            [
             33,
             "Illinois"
            ],
            [
             27,
             "Indiana"
            ],
            [
             32,
             "Iowa"
            ],
            [
             40,
             "Kansas"
            ],
            [
             24,
             "Kentucky"
            ],
            [
             31,
             "Louisiana"
            ],
            [
             42,
             "Maine"
            ],
            [
             34,
             "Maryland"
            ],
            [
             29,
             "Massachusetts"
            ],
            [
             32,
             "Michigan"
            ],
            [
             34,
             "Minnesota"
            ],
            [
             39,
             "Mississippi"
            ],
            [
             30,
             "Missouri"
            ],
            [
             28,
             "Montana"
            ],
            [
             31,
             "Nebraska"
            ],
            [
             34,
             "Nevada"
            ],
            [
             27,
             "New Hampshire"
            ],
            [
             21,
             "New Jersey"
            ],
            [
             34,
             "New Mexico"
            ],
            [
             25,
             "New York"
            ],
            [
             44,
             "North Carolina"
            ],
            [
             33,
             "North Dakota"
            ],
            [
             35,
             "Ohio"
            ],
            [
             35,
             "Oklahoma"
            ],
            [
             36,
             "Oregon"
            ],
            [
             30,
             "Pennsylvania"
            ],
            [
             24,
             "Rhode Island"
            ],
            [
             35,
             "South Carolina"
            ],
            [
             30,
             "South Dakota"
            ],
            [
             31,
             "Tennessee"
            ],
            [
             30,
             "Texas"
            ],
            [
             32,
             "Utah"
            ],
            [
             33,
             "Vermont"
            ],
            [
             25,
             "Virginia"
            ],
            [
             31,
             "Washington"
            ],
            [
             37,
             "West Virginia"
            ],
            [
             39,
             "Wisconsin"
            ],
            [
             42,
             "Wyoming"
            ],
            [
             24,
             "District of Columbia"
            ],
            [
             30,
             "US"
            ]
           ],
           "hovertemplate": "<b>%{customdata[1]}</b><br>Child poverty rate: %{z}%<br>Poverty reduction: %{customdata[0]}%<extra></extra>",
           "locationmode": "USA-states",
           "locations": [
            "AL",
            "AK",
            "AZ",
            "AR",
            "CA",
            "CO",
            "CT",
            "DE",
            "FL",
            "GA",
            "HI",
            "ID",
            "IL",
            "IN",
            "IA",
            "KS",
            "KY",
            "LA",
            "ME",
            "MD",
            "MA",
            "MI",
            "MN",
            "MS",
            "MO",
            "MT",
            "NE",
            "NV",
            "NH",
            "NJ",
            "NM",
            "NY",
            "NC",
            "ND",
            "OH",
            "OK",
            "OR",
            "PA",
            "RI",
            "SC",
            "SD",
            "TN",
            "TX",
            "UT",
            "VT",
            "VA",
            "WA",
            "WV",
            "WI",
            "WY",
            "DC",
            "US"
           ],
           "type": "choropleth",
           "z": [
            10.2,
            11.3,
            7.5,
            8.1,
            14.8,
            6.8,
            11.4,
            7.6,
            12.1,
            11,
            10.9,
            4.4,
            8.4,
            9.2,
            5.5,
            4.4,
            7.8,
            13.4,
            5.6,
            7.4,
            7.6,
            7.1,
            3.5,
            10.3,
            6.2,
            5.8,
            6.7,
            9,
            5.9,
            10.9,
            9.2,
            12.9,
            8.4,
            6.6,
            7.4,
            6.6,
            6.6,
            9.1,
            7.7,
            9.8,
            6.4,
            8.4,
            10.7,
            5.2,
            8.3,
            10.1,
            6.1,
            8.4,
            5,
            5.4,
            13.2,
            9.7
           ]
          },
          {
           "customdata": [
            [
             31,
             "Alabama"
            ],
            [
             21,
             "Alaska"
            ],
            [
             42,
             "Arizona"
            ],
            [
             35,
             "Arkansas"
            ],
            [
             24,
             "California"
            ],
            [
             40,
             "Colorado"
            ],
            [
             16,
             "Connecticut"
            ],
            [
             27,
             "Delaware"
            ],
            [
             34,
             "Florida"
            ],
            [
             29,
             "Georgia"
            ],
            [
             30,
             "Hawaii"
            ],
            [
             38,
             "Idaho"
            ],
            [
             33,
             "Illinois"
            ],
            [
             27,
             "Indiana"
            ],
            [
             32,
             "Iowa"
            ],
            [
             40,
             "Kansas"
            ],
            [
             24,
             "Kentucky"
            ],
            [
             31,
             "Louisiana"
            ],
            [
             42,
             "Maine"
            ],
            [
             34,
             "Maryland"
            ],
            [
             29,
             "Massachusetts"
            ],
            [
             32,
             "Michigan"
            ],
            [
             34,
             "Minnesota"
            ],
            [
             39,
             "Mississippi"
            ],
            [
             30,
             "Missouri"
            ],
            [
             26,
             "Montana"
            ],
            [
             31,
             "Nebraska"
            ],
            [
             34,
             "Nevada"
            ],
            [
             27,
             "New Hampshire"
            ],
            [
             21,
             "New Jersey"
            ],
            [
             33,
             "New Mexico"
            ],
            [
             25,
             "New York"
            ],
            [
             44,
             "North Carolina"
            ],
            [
             33,
             "North Dakota"
            ],
            [
             35,
             "Ohio"
            ],
            [
             34,
             "Oklahoma"
            ],
            [
             36,
             "Oregon"
            ],
            [
             30,
             "Pennsylvania"
            ],
            [
             24,
             "Rhode Island"
            ],
            [
             35,
             "South Carolina"
            ],
            [
             30,
             "South Dakota"
            ],
            [
             31,
             "Tennessee"
            ],
            [
             29,
             "Texas"
            ],
            [
             30,
             "Utah"
            ],
            [
             33,
             "Vermont"
            ],
            [
             25,
             "Virginia"
            ],
            [
             31,
             "Washington"
            ],
            [
             37,
             "West Virginia"
            ],
            [
             39,
             "Wisconsin"
            ],
            [
             42,
             "Wyoming"
            ],
            [
             24,
             "District of Columbia"
            ],
            [
             30,
             "US"
            ]
           ],
           "hovertemplate": "<b>%{customdata[1]}</b><br>Child poverty rate: %{z}%<br>Poverty reduction: %{customdata[0]}%<extra></extra>",
           "locationmode": "USA-states",
           "locations": [
            "AL",
            "AK",
            "AZ",
            "AR",
            "CA",
            "CO",
            "CT",
            "DE",
            "FL",
            "GA",
            "HI",
            "ID",
            "IL",
            "IN",
            "IA",
            "KS",
            "KY",
            "LA",
            "ME",
            "MD",
            "MA",
            "MI",
            "MN",
            "MS",
            "MO",
            "MT",
            "NE",
            "NV",
            "NH",
            "NJ",
            "NM",
            "NY",
            "NC",
            "ND",
            "OH",
            "OK",
            "OR",
            "PA",
            "RI",
            "SC",
            "SD",
            "TN",
            "TX",
            "UT",
            "VT",
            "VA",
            "WA",
            "WV",
            "WI",
            "WY",
            "DC",
            "US"
           ],
           "type": "choropleth",
           "z": [
            10.2,
            11.3,
            7.5,
            8.1,
            14.8,
            6.8,
            11.4,
            7.6,
            12.1,
            11,
            10.9,
            4.4,
            8.4,
            9.2,
            5.5,
            4.4,
            7.8,
            13.4,
            5.6,
            7.4,
            7.6,
            7.1,
            3.5,
            10.4,
            6.2,
            5.9,
            6.7,
            9.1,
            5.9,
            10.9,
            9.3,
            12.9,
            8.4,
            6.6,
            7.4,
            6.7,
            6.6,
            9.1,
            7.7,
            9.8,
            6.4,
            8.4,
            10.8,
            5.3,
            8.3,
            10.1,
            6.1,
            8.4,
            5,
            5.4,
            13.2,
            9.7
           ]
          },
          {
           "customdata": [
            [
             31,
             "Alabama"
            ],
            [
             21,
             "Alaska"
            ],
            [
             44,
             "Arizona"
            ],
            [
             35,
             "Arkansas"
            ],
            [
             25,
             "California"
            ],
            [
             41,
             "Colorado"
            ],
            [
             18,
             "Connecticut"
            ],
            [
             27,
             "Delaware"
            ],
            [
             35,
             "Florida"
            ],
            [
             29,
             "Georgia"
            ],
            [
             32,
             "Hawaii"
            ],
            [
             38,
             "Idaho"
            ],
            [
             34,
             "Illinois"
            ],
            [
             27,
             "Indiana"
            ],
            [
             32,
             "Iowa"
            ],
            [
             40,
             "Kansas"
            ],
            [
             24,
             "Kentucky"
            ],
            [
             31,
             "Louisiana"
            ],
            [
             42,
             "Maine"
            ],
            [
             36,
             "Maryland"
            ],
            [
             29,
             "Massachusetts"
            ],
            [
             32,
             "Michigan"
            ],
            [
             36,
             "Minnesota"
            ],
            [
             39,
             "Mississippi"
            ],
            [
             30,
             "Missouri"
            ],
            [
             28,
             "Montana"
            ],
            [
             33,
             "Nebraska"
            ],
            [
             34,
             "Nevada"
            ],
            [
             32,
             "New Hampshire"
            ],
            [
             23,
             "New Jersey"
            ],
            [
             34,
             "New Mexico"
            ],
            [
             25,
             "New York"
            ],
            [
             45,
             "North Carolina"
            ],
            [
             33,
             "North Dakota"
            ],
            [
             35,
             "Ohio"
            ],
            [
             35,
             "Oklahoma"
            ],
            [
             36,
             "Oregon"
            ],
            [
             30,
             "Pennsylvania"
            ],
            [
             26,
             "Rhode Island"
            ],
            [
             35,
             "South Carolina"
            ],
            [
             30,
             "South Dakota"
            ],
            [
             33,
             "Tennessee"
            ],
            [
             31,
             "Texas"
            ],
            [
             32,
             "Utah"
            ],
            [
             33,
             "Vermont"
            ],
            [
             25,
             "Virginia"
            ],
            [
             31,
             "Washington"
            ],
            [
             37,
             "West Virginia"
            ],
            [
             39,
             "Wisconsin"
            ],
            [
             44,
             "Wyoming"
            ],
            [
             24,
             "District of Columbia"
            ],
            [
             31,
             "US"
            ]
           ],
           "hovertemplate": "<b>%{customdata[1]}</b><br>Child poverty rate: %{z}%<br>Poverty reduction: %{customdata[0]}%<extra></extra>",
           "locationmode": "USA-states",
           "locations": [
            "AL",
            "AK",
            "AZ",
            "AR",
            "CA",
            "CO",
            "CT",
            "DE",
            "FL",
            "GA",
            "HI",
            "ID",
            "IL",
            "IN",
            "IA",
            "KS",
            "KY",
            "LA",
            "ME",
            "MD",
            "MA",
            "MI",
            "MN",
            "MS",
            "MO",
            "MT",
            "NE",
            "NV",
            "NH",
            "NJ",
            "NM",
            "NY",
            "NC",
            "ND",
            "OH",
            "OK",
            "OR",
            "PA",
            "RI",
            "SC",
            "SD",
            "TN",
            "TX",
            "UT",
            "VT",
            "VA",
            "WA",
            "WV",
            "WI",
            "WY",
            "DC",
            "US"
           ],
           "type": "choropleth",
           "z": [
            10.2,
            11.3,
            7.3,
            8.1,
            14.7,
            6.7,
            11.2,
            7.6,
            12,
            11,
            10.6,
            4.4,
            8.3,
            9.2,
            5.5,
            4.4,
            7.8,
            13.4,
            5.6,
            7.2,
            7.6,
            7.1,
            3.4,
            10.3,
            6.2,
            5.8,
            6.5,
            9,
            5.5,
            10.6,
            9.2,
            12.9,
            8.2,
            6.6,
            7.4,
            6.6,
            6.6,
            9.1,
            7.5,
            9.8,
            6.4,
            8.1,
            10.6,
            5.2,
            8.3,
            10,
            6.1,
            8.4,
            5,
            5.2,
            13.2,
            9.6
           ]
          }
         ],
         "name": "150",
         "traces": [
          0,
          1,
          2
         ]
        },
        {
         "data": [
          {
           "customdata": [
            [
             37,
             "Alabama"
            ],
            [
             26,
             "Alaska"
            ],
            [
             55,
             "Arizona"
            ],
            [
             40,
             "Arkansas"
            ],
            [
             34,
             "California"
            ],
            [
             43,
             "Colorado"
            ],
            [
             21,
             "Connecticut"
            ],
            [
             32,
             "Delaware"
            ],
            [
             41,
             "Florida"
            ],
            [
             35,
             "Georgia"
            ],
            [
             47,
             "Hawaii"
            ],
            [
             49,
             "Idaho"
            ],
            [
             42,
             "Illinois"
            ],
            [
             36,
             "Indiana"
            ],
            [
             42,
             "Iowa"
            ],
            [
             41,
             "Kansas"
            ],
            [
             30,
             "Kentucky"
            ],
            [
             43,
             "Louisiana"
            ],
            [
             43,
             "Maine"
            ],
            [
             38,
             "Maryland"
            ],
            [
             36,
             "Massachusetts"
            ],
            [
             40,
             "Michigan"
            ],
            [
             43,
             "Minnesota"
            ],
            [
             48,
             "Mississippi"
            ],
            [
             40,
             "Missouri"
            ],
            [
             32,
             "Montana"
            ],
            [
             35,
             "Nebraska"
            ],
            [
             44,
             "Nevada"
            ],
            [
             37,
             "New Hampshire"
            ],
            [
             33,
             "New Jersey"
            ],
            [
             41,
             "New Mexico"
            ],
            [
             36,
             "New York"
            ],
            [
             52,
             "North Carolina"
            ],
            [
             45,
             "North Dakota"
            ],
            [
             42,
             "Ohio"
            ],
            [
             44,
             "Oklahoma"
            ],
            [
             41,
             "Oregon"
            ],
            [
             36,
             "Pennsylvania"
            ],
            [
             31,
             "Rhode Island"
            ],
            [
             42,
             "South Carolina"
            ],
            [
             44,
             "South Dakota"
            ],
            [
             36,
             "Tennessee"
            ],
            [
             40,
             "Texas"
            ],
            [
             38,
             "Utah"
            ],
            [
             38,
             "Vermont"
            ],
            [
             31,
             "Virginia"
            ],
            [
             38,
             "Washington"
            ],
            [
             42,
             "West Virginia"
            ],
            [
             51,
             "Wisconsin"
            ],
            [
             51,
             "Wyoming"
            ],
            [
             30,
             "District of Columbia"
            ],
            [
             39,
             "US"
            ]
           ],
           "hovertemplate": "<b>%{customdata[1]}</b><br>Child poverty rate: %{z}%<br>Poverty reduction: %{customdata[0]}%<extra></extra>",
           "locationmode": "USA-states",
           "locations": [
            "AL",
            "AK",
            "AZ",
            "AR",
            "CA",
            "CO",
            "CT",
            "DE",
            "FL",
            "GA",
            "HI",
            "ID",
            "IL",
            "IN",
            "IA",
            "KS",
            "KY",
            "LA",
            "ME",
            "MD",
            "MA",
            "MI",
            "MN",
            "MS",
            "MO",
            "MT",
            "NE",
            "NV",
            "NH",
            "NJ",
            "NM",
            "NY",
            "NC",
            "ND",
            "OH",
            "OK",
            "OR",
            "PA",
            "RI",
            "SC",
            "SD",
            "TN",
            "TX",
            "UT",
            "VT",
            "VA",
            "WA",
            "WV",
            "WI",
            "WY",
            "DC",
            "US"
           ],
           "type": "choropleth",
           "z": [
            9.3,
            10.6,
            5.8,
            7.5,
            13,
            6.5,
            10.7,
            7.1,
            10.9,
            10,
            8.2,
            3.6,
            7.2,
            8.1,
            4.7,
            4.3,
            7.2,
            11.1,
            5.5,
            6.9,
            6.9,
            6.3,
            3,
            8.8,
            5.3,
            5.4,
            6.3,
            7.7,
            5.1,
            9.3,
            8.2,
            11,
            7.2,
            5.4,
            6.6,
            5.7,
            6.1,
            8.3,
            7,
            8.8,
            5.1,
            7.8,
            9.2,
            4.7,
            7.7,
            9.2,
            5.5,
            7.8,
            4,
            4.6,
            12.1,
            8.5
           ]
          },
          {
           "customdata": [
            [
             37,
             "Alabama"
            ],
            [
             26,
             "Alaska"
            ],
            [
             55,
             "Arizona"
            ],
            [
             40,
             "Arkansas"
            ],
            [
             34,
             "California"
            ],
            [
             43,
             "Colorado"
            ],
            [
             21,
             "Connecticut"
            ],
            [
             32,
             "Delaware"
            ],
            [
             41,
             "Florida"
            ],
            [
             35,
             "Georgia"
            ],
            [
             47,
             "Hawaii"
            ],
            [
             49,
             "Idaho"
            ],
            [
             42,
             "Illinois"
            ],
            [
             36,
             "Indiana"
            ],
            [
             42,
             "Iowa"
            ],
            [
             41,
             "Kansas"
            ],
            [
             30,
             "Kentucky"
            ],
            [
             43,
             "Louisiana"
            ],
            [
             43,
             "Maine"
            ],
            [
             38,
             "Maryland"
            ],
            [
             36,
             "Massachusetts"
            ],
            [
             40,
             "Michigan"
            ],
            [
             43,
             "Minnesota"
            ],
            [
             48,
             "Mississippi"
            ],
            [
             40,
             "Missouri"
            ],
            [
             32,
             "Montana"
            ],
            [
             35,
             "Nebraska"
            ],
            [
             44,
             "Nevada"
            ],
            [
             38,
             "New Hampshire"
            ],
            [
             33,
             "New Jersey"
            ],
            [
             41,
             "New Mexico"
            ],
            [
             36,
             "New York"
            ],
            [
             52,
             "North Carolina"
            ],
            [
             45,
             "North Dakota"
            ],
            [
             42,
             "Ohio"
            ],
            [
             44,
             "Oklahoma"
            ],
            [
             41,
             "Oregon"
            ],
            [
             36,
             "Pennsylvania"
            ],
            [
             31,
             "Rhode Island"
            ],
            [
             42,
             "South Carolina"
            ],
            [
             44,
             "South Dakota"
            ],
            [
             36,
             "Tennessee"
            ],
            [
             40,
             "Texas"
            ],
            [
             38,
             "Utah"
            ],
            [
             38,
             "Vermont"
            ],
            [
             31,
             "Virginia"
            ],
            [
             38,
             "Washington"
            ],
            [
             42,
             "West Virginia"
            ],
            [
             51,
             "Wisconsin"
            ],
            [
             51,
             "Wyoming"
            ],
            [
             30,
             "District of Columbia"
            ],
            [
             39,
             "US"
            ]
           ],
           "hovertemplate": "<b>%{customdata[1]}</b><br>Child poverty rate: %{z}%<br>Poverty reduction: %{customdata[0]}%<extra></extra>",
           "locationmode": "USA-states",
           "locations": [
            "AL",
            "AK",
            "AZ",
            "AR",
            "CA",
            "CO",
            "CT",
            "DE",
            "FL",
            "GA",
            "HI",
            "ID",
            "IL",
            "IN",
            "IA",
            "KS",
            "KY",
            "LA",
            "ME",
            "MD",
            "MA",
            "MI",
            "MN",
            "MS",
            "MO",
            "MT",
            "NE",
            "NV",
            "NH",
            "NJ",
            "NM",
            "NY",
            "NC",
            "ND",
            "OH",
            "OK",
            "OR",
            "PA",
            "RI",
            "SC",
            "SD",
            "TN",
            "TX",
            "UT",
            "VT",
            "VA",
            "WA",
            "WV",
            "WI",
            "WY",
            "DC",
            "US"
           ],
           "type": "choropleth",
           "z": [
            9.3,
            10.6,
            5.8,
            7.5,
            13,
            6.5,
            10.7,
            7.1,
            10.9,
            10,
            8.2,
            3.6,
            7.2,
            8.1,
            4.7,
            4.3,
            7.2,
            11.1,
            5.5,
            6.9,
            6.9,
            6.3,
            3,
            8.8,
            5.3,
            5.4,
            6.3,
            7.7,
            5,
            9.3,
            8.2,
            11,
            7.2,
            5.4,
            6.6,
            5.7,
            6.1,
            8.3,
            7,
            8.8,
            5.1,
            7.8,
            9.2,
            4.7,
            7.7,
            9.2,
            5.5,
            7.8,
            4,
            4.6,
            12.1,
            8.5
           ]
          },
          {
           "customdata": [
            [
             37,
             "Alabama"
            ],
            [
             27,
             "Alaska"
            ],
            [
             55,
             "Arizona"
            ],
            [
             42,
             "Arkansas"
            ],
            [
             35,
             "California"
            ],
            [
             43,
             "Colorado"
            ],
            [
             22,
             "Connecticut"
            ],
            [
             32,
             "Delaware"
            ],
            [
             41,
             "Florida"
            ],
            [
             35,
             "Georgia"
            ],
            [
             48,
             "Hawaii"
            ],
            [
             49,
             "Idaho"
            ],
            [
             43,
             "Illinois"
            ],
            [
             37,
             "Indiana"
            ],
            [
             42,
             "Iowa"
            ],
            [
             41,
             "Kansas"
            ],
            [
             30,
             "Kentucky"
            ],
            [
             43,
             "Louisiana"
            ],
            [
             43,
             "Maine"
            ],
            [
             38,
             "Maryland"
            ],
            [
             37,
             "Massachusetts"
            ],
            [
             40,
             "Michigan"
            ],
            [
             43,
             "Minnesota"
            ],
            [
             49,
             "Mississippi"
            ],
            [
             42,
             "Missouri"
            ],
            [
             35,
             "Montana"
            ],
            [
             36,
             "Nebraska"
            ],
            [
             45,
             "Nevada"
            ],
            [
             38,
             "New Hampshire"
            ],
            [
             34,
             "New Jersey"
            ],
            [
             41,
             "New Mexico"
            ],
            [
             37,
             "New York"
            ],
            [
             52,
             "North Carolina"
            ],
            [
             45,
             "North Dakota"
            ],
            [
             42,
             "Ohio"
            ],
            [
             44,
             "Oklahoma"
            ],
            [
             43,
             "Oregon"
            ],
            [
             38,
             "Pennsylvania"
            ],
            [
             34,
             "Rhode Island"
            ],
            [
             42,
             "South Carolina"
            ],
            [
             44,
             "South Dakota"
            ],
            [
             36,
             "Tennessee"
            ],
            [
             41,
             "Texas"
            ],
            [
             38,
             "Utah"
            ],
            [
             38,
             "Vermont"
            ],
            [
             31,
             "Virginia"
            ],
            [
             38,
             "Washington"
            ],
            [
             43,
             "West Virginia"
            ],
            [
             51,
             "Wisconsin"
            ],
            [
             53,
             "Wyoming"
            ],
            [
             30,
             "District of Columbia"
            ],
            [
             40,
             "US"
            ]
           ],
           "hovertemplate": "<b>%{customdata[1]}</b><br>Child poverty rate: %{z}%<br>Poverty reduction: %{customdata[0]}%<extra></extra>",
           "locationmode": "USA-states",
           "locations": [
            "AL",
            "AK",
            "AZ",
            "AR",
            "CA",
            "CO",
            "CT",
            "DE",
            "FL",
            "GA",
            "HI",
            "ID",
            "IL",
            "IN",
            "IA",
            "KS",
            "KY",
            "LA",
            "ME",
            "MD",
            "MA",
            "MI",
            "MN",
            "MS",
            "MO",
            "MT",
            "NE",
            "NV",
            "NH",
            "NJ",
            "NM",
            "NY",
            "NC",
            "ND",
            "OH",
            "OK",
            "OR",
            "PA",
            "RI",
            "SC",
            "SD",
            "TN",
            "TX",
            "UT",
            "VT",
            "VA",
            "WA",
            "WV",
            "WI",
            "WY",
            "DC",
            "US"
           ],
           "type": "choropleth",
           "z": [
            9.3,
            10.4,
            5.8,
            7.3,
            12.8,
            6.5,
            10.6,
            7.1,
            10.8,
            10,
            8.1,
            3.6,
            7.1,
            8,
            4.7,
            4.3,
            7.2,
            11.1,
            5.5,
            6.9,
            6.7,
            6.3,
            3,
            8.7,
            5.1,
            5.2,
            6.2,
            7.6,
            5,
            9.1,
            8.2,
            10.8,
            7.2,
            5.4,
            6.5,
            5.7,
            5.9,
            8.1,
            6.7,
            8.8,
            5.1,
            7.8,
            9.1,
            4.7,
            7.7,
            9.2,
            5.5,
            7.7,
            4,
            4.4,
            12.1,
            8.4
           ]
          }
         ],
         "name": "200",
         "traces": [
          0,
          1,
          2
         ]
        },
        {
         "data": [
          {
           "customdata": [
            [
             47,
             "Alabama"
            ],
            [
             34,
             "Alaska"
            ],
            [
             60,
             "Arizona"
            ],
            [
             46,
             "Arkansas"
            ],
            [
             41,
             "California"
            ],
            [
             46,
             "Colorado"
            ],
            [
             27,
             "Connecticut"
            ],
            [
             43,
             "Delaware"
            ],
            [
             46,
             "Florida"
            ],
            [
             43,
             "Georgia"
            ],
            [
             52,
             "Hawaii"
            ],
            [
             66,
             "Idaho"
            ],
            [
             50,
             "Illinois"
            ],
            [
             48,
             "Indiana"
            ],
            [
             46,
             "Iowa"
            ],
            [
             45,
             "Kansas"
            ],
            [
             38,
             "Kentucky"
            ],
            [
             51,
             "Louisiana"
            ],
            [
             44,
             "Maine"
            ],
            [
             42,
             "Maryland"
            ],
            [
             44,
             "Massachusetts"
            ],
            [
             48,
             "Michigan"
            ],
            [
             47,
             "Minnesota"
            ],
            [
             56,
             "Mississippi"
            ],
            [
             53,
             "Missouri"
            ],
            [
             46,
             "Montana"
            ],
            [
             42,
             "Nebraska"
            ],
            [
             50,
             "Nevada"
            ],
            [
             51,
             "New Hampshire"
            ],
            [
             38,
             "New Jersey"
            ],
            [
             47,
             "New Mexico"
            ],
            [
             41,
             "New York"
            ],
            [
             57,
             "North Carolina"
            ],
            [
             53,
             "North Dakota"
            ],
            [
             53,
             "Ohio"
            ],
            [
             50,
             "Oklahoma"
            ],
            [
             47,
             "Oregon"
            ],
            [
             41,
             "Pennsylvania"
            ],
            [
             36,
             "Rhode Island"
            ],
            [
             47,
             "South Carolina"
            ],
            [
             44,
             "South Dakota"
            ],
            [
             48,
             "Tennessee"
            ],
            [
             46,
             "Texas"
            ],
            [
             39,
             "Utah"
            ],
            [
             44,
             "Vermont"
            ],
            [
             38,
             "Virginia"
            ],
            [
             42,
             "Washington"
            ],
            [
             52,
             "West Virginia"
            ],
            [
             56,
             "Wisconsin"
            ],
            [
             56,
             "Wyoming"
            ],
            [
             42,
             "District of Columbia"
            ],
            [
             45,
             "US"
            ]
           ],
           "hovertemplate": "<b>%{customdata[1]}</b><br>Child poverty rate: %{z}%<br>Poverty reduction: %{customdata[0]}%<extra></extra>",
           "locationmode": "USA-states",
           "locations": [
            "AL",
            "AK",
            "AZ",
            "AR",
            "CA",
            "CO",
            "CT",
            "DE",
            "FL",
            "GA",
            "HI",
            "ID",
            "IL",
            "IN",
            "IA",
            "KS",
            "KY",
            "LA",
            "ME",
            "MD",
            "MA",
            "MI",
            "MN",
            "MS",
            "MO",
            "MT",
            "NE",
            "NV",
            "NH",
            "NJ",
            "NM",
            "NY",
            "NC",
            "ND",
            "OH",
            "OK",
            "OR",
            "PA",
            "RI",
            "SC",
            "SD",
            "TN",
            "TX",
            "UT",
            "VT",
            "VA",
            "WA",
            "WV",
            "WI",
            "WY",
            "DC",
            "US"
           ],
           "type": "choropleth",
           "z": [
            7.8,
            9.4,
            5.2,
            6.7,
            11.5,
            6.1,
            9.9,
            5.9,
            9.9,
            8.9,
            7.5,
            2.4,
            6.2,
            6.6,
            4.4,
            4,
            6.4,
            9.5,
            5.4,
            6.5,
            6,
            5.5,
            2.8,
            7.5,
            4.1,
            4.3,
            5.6,
            6.9,
            4,
            8.6,
            7.4,
            10.1,
            6.4,
            4.6,
            5.3,
            5.1,
            5.5,
            7.7,
            6.5,
            8,
            5.1,
            6.3,
            8.2,
            4.6,
            7,
            8.3,
            5.1,
            6.4,
            3.6,
            4.1,
            10,
            7.6
           ]
          },
          {
           "customdata": [
            [
             46,
             "Alabama"
            ],
            [
             34,
             "Alaska"
            ],
            [
             60,
             "Arizona"
            ],
            [
             46,
             "Arkansas"
            ],
            [
             41,
             "California"
            ],
            [
             46,
             "Colorado"
            ],
            [
             28,
             "Connecticut"
            ],
            [
             43,
             "Delaware"
            ],
            [
             46,
             "Florida"
            ],
            [
             43,
             "Georgia"
            ],
            [
             52,
             "Hawaii"
            ],
            [
             66,
             "Idaho"
            ],
            [
             50,
             "Illinois"
            ],
            [
             48,
             "Indiana"
            ],
            [
             46,
             "Iowa"
            ],
            [
             45,
             "Kansas"
            ],
            [
             38,
             "Kentucky"
            ],
            [
             51,
             "Louisiana"
            ],
            [
             44,
             "Maine"
            ],
            [
             42,
             "Maryland"
            ],
            [
             45,
             "Massachusetts"
            ],
            [
             48,
             "Michigan"
            ],
            [
             47,
             "Minnesota"
            ],
            [
             56,
             "Mississippi"
            ],
            [
             53,
             "Missouri"
            ],
            [
             46,
             "Montana"
            ],
            [
             42,
             "Nebraska"
            ],
            [
             50,
             "Nevada"
            ],
            [
             51,
             "New Hampshire"
            ],
            [
             38,
             "New Jersey"
            ],
            [
             47,
             "New Mexico"
            ],
            [
             41,
             "New York"
            ],
            [
             57,
             "North Carolina"
            ],
            [
             53,
             "North Dakota"
            ],
            [
             53,
             "Ohio"
            ],
            [
             50,
             "Oklahoma"
            ],
            [
             48,
             "Oregon"
            ],
            [
             41,
             "Pennsylvania"
            ],
            [
             36,
             "Rhode Island"
            ],
            [
             47,
             "South Carolina"
            ],
            [
             44,
             "South Dakota"
            ],
            [
             48,
             "Tennessee"
            ],
            [
             46,
             "Texas"
            ],
            [
             39,
             "Utah"
            ],
            [
             44,
             "Vermont"
            ],
            [
             38,
             "Virginia"
            ],
            [
             42,
             "Washington"
            ],
            [
             52,
             "West Virginia"
            ],
            [
             56,
             "Wisconsin"
            ],
            [
             56,
             "Wyoming"
            ],
            [
             43,
             "District of Columbia"
            ],
            [
             45,
             "US"
            ]
           ],
           "hovertemplate": "<b>%{customdata[1]}</b><br>Child poverty rate: %{z}%<br>Poverty reduction: %{customdata[0]}%<extra></extra>",
           "locationmode": "USA-states",
           "locations": [
            "AL",
            "AK",
            "AZ",
            "AR",
            "CA",
            "CO",
            "CT",
            "DE",
            "FL",
            "GA",
            "HI",
            "ID",
            "IL",
            "IN",
            "IA",
            "KS",
            "KY",
            "LA",
            "ME",
            "MD",
            "MA",
            "MI",
            "MN",
            "MS",
            "MO",
            "MT",
            "NE",
            "NV",
            "NH",
            "NJ",
            "NM",
            "NY",
            "NC",
            "ND",
            "OH",
            "OK",
            "OR",
            "PA",
            "RI",
            "SC",
            "SD",
            "TN",
            "TX",
            "UT",
            "VT",
            "VA",
            "WA",
            "WV",
            "WI",
            "WY",
            "DC",
            "US"
           ],
           "type": "choropleth",
           "z": [
            8,
            9.4,
            5.2,
            6.7,
            11.5,
            6.1,
            9.8,
            5.9,
            9.9,
            8.9,
            7.5,
            2.4,
            6.2,
            6.6,
            4.4,
            4,
            6.4,
            9.5,
            5.4,
            6.5,
            5.9,
            5.5,
            2.8,
            7.5,
            4.1,
            4.3,
            5.6,
            6.9,
            4,
            8.6,
            7.4,
            10.1,
            6.4,
            4.6,
            5.3,
            5.1,
            5.4,
            7.7,
            6.5,
            8,
            5.1,
            6.3,
            8.2,
            4.6,
            7,
            8.3,
            5.1,
            6.4,
            3.6,
            4.1,
            9.9,
            7.6
           ]
          },
          {
           "customdata": [
            [
             47,
             "Alabama"
            ],
            [
             36,
             "Alaska"
            ],
            [
             60,
             "Arizona"
            ],
            [
             46,
             "Arkansas"
            ],
            [
             42,
             "California"
            ],
            [
             49,
             "Colorado"
            ],
            [
             28,
             "Connecticut"
            ],
            [
             43,
             "Delaware"
            ],
            [
             47,
             "Florida"
            ],
            [
             43,
             "Georgia"
            ],
            [
             53,
             "Hawaii"
            ],
            [
             66,
             "Idaho"
            ],
            [
             50,
             "Illinois"
            ],
            [
             48,
             "Indiana"
            ],
            [
             47,
             "Iowa"
            ],
            [
             47,
             "Kansas"
            ],
            [
             38,
             "Kentucky"
            ],
            [
             51,
             "Louisiana"
            ],
            [
             44,
             "Maine"
            ],
            [
             42,
             "Maryland"
            ],
            [
             46,
             "Massachusetts"
            ],
            [
             48,
             "Michigan"
            ],
            [
             47,
             "Minnesota"
            ],
            [
             56,
             "Mississippi"
            ],
            [
             53,
             "Missouri"
            ],
            [
             46,
             "Montana"
            ],
            [
             42,
             "Nebraska"
            ],
            [
             50,
             "Nevada"
            ],
            [
             51,
             "New Hampshire"
            ],
            [
             38,
             "New Jersey"
            ],
            [
             47,
             "New Mexico"
            ],
            [
             42,
             "New York"
            ],
            [
             57,
             "North Carolina"
            ],
            [
             53,
             "North Dakota"
            ],
            [
             54,
             "Ohio"
            ],
            [
             50,
             "Oklahoma"
            ],
            [
             48,
             "Oregon"
            ],
            [
             41,
             "Pennsylvania"
            ],
            [
             36,
             "Rhode Island"
            ],
            [
             48,
             "South Carolina"
            ],
            [
             45,
             "South Dakota"
            ],
            [
             48,
             "Tennessee"
            ],
            [
             47,
             "Texas"
            ],
            [
             39,
             "Utah"
            ],
            [
             44,
             "Vermont"
            ],
            [
             38,
             "Virginia"
            ],
            [
             43,
             "Washington"
            ],
            [
             54,
             "West Virginia"
            ],
            [
             56,
             "Wisconsin"
            ],
            [
             56,
             "Wyoming"
            ],
            [
             43,
             "District of Columbia"
            ],
            [
             46,
             "US"
            ]
           ],
           "hovertemplate": "<b>%{customdata[1]}</b><br>Child poverty rate: %{z}%<br>Poverty reduction: %{customdata[0]}%<extra></extra>",
           "locationmode": "USA-states",
           "locations": [
            "AL",
            "AK",
            "AZ",
            "AR",
            "CA",
            "CO",
            "CT",
            "DE",
            "FL",
            "GA",
            "HI",
            "ID",
            "IL",
            "IN",
            "IA",
            "KS",
            "KY",
            "LA",
            "ME",
            "MD",
            "MA",
            "MI",
            "MN",
            "MS",
            "MO",
            "MT",
            "NE",
            "NV",
            "NH",
            "NJ",
            "NM",
            "NY",
            "NC",
            "ND",
            "OH",
            "OK",
            "OR",
            "PA",
            "RI",
            "SC",
            "SD",
            "TN",
            "TX",
            "UT",
            "VT",
            "VA",
            "WA",
            "WV",
            "WI",
            "WY",
            "DC",
            "US"
           ],
           "type": "choropleth",
           "z": [
            7.8,
            9.2,
            5.2,
            6.7,
            11.3,
            5.8,
            9.8,
            5.9,
            9.8,
            8.8,
            7.4,
            2.4,
            6.2,
            6.6,
            4.3,
            3.9,
            6.4,
            9.5,
            5.4,
            6.5,
            5.8,
            5.5,
            2.8,
            7.4,
            4.1,
            4.3,
            5.6,
            6.9,
            4,
            8.6,
            7.3,
            9.9,
            6.4,
            4.6,
            5.2,
            5.1,
            5.4,
            7.7,
            6.5,
            7.9,
            5,
            6.3,
            8.1,
            4.6,
            7,
            8.3,
            5,
            6.2,
            3.6,
            4.1,
            9.9,
            7.5
           ]
          }
         ],
         "name": "250",
         "traces": [
          0,
          1,
          2
         ]
        },
        {
         "data": [
          {
           "customdata": [
            [
             51,
             "Alabama"
            ],
            [
             41,
             "Alaska"
            ],
            [
             63,
             "Arizona"
            ],
            [
             55,
             "Arkansas"
            ],
            [
             48,
             "California"
            ],
            [
             53,
             "Colorado"
            ],
            [
             40,
             "Connecticut"
            ],
            [
             50,
             "Delaware"
            ],
            [
             52,
             "Florida"
            ],
            [
             49,
             "Georgia"
            ],
            [
             60,
             "Hawaii"
            ],
            [
             68,
             "Idaho"
            ],
            [
             55,
             "Illinois"
            ],
            [
             52,
             "Indiana"
            ],
            [
             58,
             "Iowa"
            ],
            [
             52,
             "Kansas"
            ],
            [
             49,
             "Kentucky"
            ],
            [
             59,
             "Louisiana"
            ],
            [
             48,
             "Maine"
            ],
            [
             46,
             "Maryland"
            ],
            [
             50,
             "Massachusetts"
            ],
            [
             51,
             "Michigan"
            ],
            [
             57,
             "Minnesota"
            ],
            [
             59,
             "Mississippi"
            ],
            [
             65,
             "Missouri"
            ],
            [
             49,
             "Montana"
            ],
            [
             48,
             "Nebraska"
            ],
            [
             55,
             "Nevada"
            ],
            [
             56,
             "New Hampshire"
            ],
            [
             43,
             "New Jersey"
            ],
            [
             61,
             "New Mexico"
            ],
            [
             45,
             "New York"
            ],
            [
             62,
             "North Carolina"
            ],
            [
             54,
             "North Dakota"
            ],
            [
             61,
             "Ohio"
            ],
            [
             52,
             "Oklahoma"
            ],
            [
             54,
             "Oregon"
            ],
            [
             43,
             "Pennsylvania"
            ],
            [
             45,
             "Rhode Island"
            ],
            [
             54,
             "South Carolina"
            ],
            [
             53,
             "South Dakota"
            ],
            [
             53,
             "Tennessee"
            ],
            [
             54,
             "Texas"
            ],
            [
             51,
             "Utah"
            ],
            [
             48,
             "Vermont"
            ],
            [
             46,
             "Virginia"
            ],
            [
             48,
             "Washington"
            ],
            [
             60,
             "West Virginia"
            ],
            [
             59,
             "Wisconsin"
            ],
            [
             59,
             "Wyoming"
            ],
            [
             48,
             "District of Columbia"
            ],
            [
             52,
             "US"
            ]
           ],
           "hovertemplate": "<b>%{customdata[1]}</b><br>Child poverty rate: %{z}%<br>Poverty reduction: %{customdata[0]}%<extra></extra>",
           "locationmode": "USA-states",
           "locations": [
            "AL",
            "AK",
            "AZ",
            "AR",
            "CA",
            "CO",
            "CT",
            "DE",
            "FL",
            "GA",
            "HI",
            "ID",
            "IL",
            "IN",
            "IA",
            "KS",
            "KY",
            "LA",
            "ME",
            "MD",
            "MA",
            "MI",
            "MN",
            "MS",
            "MO",
            "MT",
            "NE",
            "NV",
            "NH",
            "NJ",
            "NM",
            "NY",
            "NC",
            "ND",
            "OH",
            "OK",
            "OR",
            "PA",
            "RI",
            "SC",
            "SD",
            "TN",
            "TX",
            "UT",
            "VT",
            "VA",
            "WA",
            "WV",
            "WI",
            "WY",
            "DC",
            "US"
           ],
           "type": "choropleth",
           "z": [
            7.2,
            8.4,
            4.8,
            5.6,
            10.1,
            5.4,
            8.1,
            5.2,
            8.8,
            7.9,
            6.2,
            2.3,
            5.6,
            6.1,
            3.4,
            3.5,
            5.3,
            8,
            5,
            6.1,
            5.3,
            5.1,
            2.3,
            7,
            3.1,
            4.1,
            5,
            6.2,
            3.6,
            7.8,
            5.4,
            9.4,
            5.6,
            4.5,
            4.4,
            4.8,
            4.7,
            7.4,
            5.6,
            7,
            4.3,
            5.7,
            7.1,
            3.7,
            6.5,
            7.3,
            4.6,
            5.4,
            3.4,
            3.8,
            9,
            6.7
           ]
          },
          {
           "customdata": [
            [
             51,
             "Alabama"
            ],
            [
             41,
             "Alaska"
            ],
            [
             63,
             "Arizona"
            ],
            [
             55,
             "Arkansas"
            ],
            [
             49,
             "California"
            ],
            [
             53,
             "Colorado"
            ],
            [
             40,
             "Connecticut"
            ],
            [
             50,
             "Delaware"
            ],
            [
             52,
             "Florida"
            ],
            [
             49,
             "Georgia"
            ],
            [
             60,
             "Hawaii"
            ],
            [
             68,
             "Idaho"
            ],
            [
             55,
             "Illinois"
            ],
            [
             52,
             "Indiana"
            ],
            [
             58,
             "Iowa"
            ],
            [
             52,
             "Kansas"
            ],
            [
             48,
             "Kentucky"
            ],
            [
             59,
             "Louisiana"
            ],
            [
             48,
             "Maine"
            ],
            [
             46,
             "Maryland"
            ],
            [
             50,
             "Massachusetts"
            ],
            [
             51,
             "Michigan"
            ],
            [
             57,
             "Minnesota"
            ],
            [
             59,
             "Mississippi"
            ],
            [
             65,
             "Missouri"
            ],
            [
             48,
             "Montana"
            ],
            [
             48,
             "Nebraska"
            ],
            [
             55,
             "Nevada"
            ],
            [
             56,
             "New Hampshire"
            ],
            [
             43,
             "New Jersey"
            ],
            [
             61,
             "New Mexico"
            ],
            [
             45,
             "New York"
            ],
            [
             62,
             "North Carolina"
            ],
            [
             54,
             "North Dakota"
            ],
            [
             61,
             "Ohio"
            ],
            [
             51,
             "Oklahoma"
            ],
            [
             54,
             "Oregon"
            ],
            [
             43,
             "Pennsylvania"
            ],
            [
             45,
             "Rhode Island"
            ],
            [
             54,
             "South Carolina"
            ],
            [
             53,
             "South Dakota"
            ],
            [
             53,
             "Tennessee"
            ],
            [
             54,
             "Texas"
            ],
            [
             51,
             "Utah"
            ],
            [
             48,
             "Vermont"
            ],
            [
             46,
             "Virginia"
            ],
            [
             48,
             "Washington"
            ],
            [
             60,
             "West Virginia"
            ],
            [
             59,
             "Wisconsin"
            ],
            [
             59,
             "Wyoming"
            ],
            [
             48,
             "District of Columbia"
            ],
            [
             52,
             "US"
            ]
           ],
           "hovertemplate": "<b>%{customdata[1]}</b><br>Child poverty rate: %{z}%<br>Poverty reduction: %{customdata[0]}%<extra></extra>",
           "locationmode": "USA-states",
           "locations": [
            "AL",
            "AK",
            "AZ",
            "AR",
            "CA",
            "CO",
            "CT",
            "DE",
            "FL",
            "GA",
            "HI",
            "ID",
            "IL",
            "IN",
            "IA",
            "KS",
            "KY",
            "LA",
            "ME",
            "MD",
            "MA",
            "MI",
            "MN",
            "MS",
            "MO",
            "MT",
            "NE",
            "NV",
            "NH",
            "NJ",
            "NM",
            "NY",
            "NC",
            "ND",
            "OH",
            "OK",
            "OR",
            "PA",
            "RI",
            "SC",
            "SD",
            "TN",
            "TX",
            "UT",
            "VT",
            "VA",
            "WA",
            "WV",
            "WI",
            "WY",
            "DC",
            "US"
           ],
           "type": "choropleth",
           "z": [
            7.2,
            8.4,
            4.8,
            5.6,
            10,
            5.4,
            8.1,
            5.2,
            8.8,
            7.9,
            6.2,
            2.3,
            5.6,
            6.1,
            3.4,
            3.5,
            5.4,
            8,
            5,
            6.1,
            5.3,
            5.1,
            2.3,
            7,
            3.1,
            4.2,
            5,
            6.2,
            3.6,
            7.8,
            5.4,
            9.4,
            5.6,
            4.5,
            4.4,
            4.9,
            4.7,
            7.4,
            5.6,
            7,
            4.3,
            5.7,
            7.1,
            3.7,
            6.5,
            7.3,
            4.6,
            5.4,
            3.4,
            3.8,
            9,
            6.7
           ]
          },
          {
           "customdata": [
            [
             51,
             "Alabama"
            ],
            [
             42,
             "Alaska"
            ],
            [
             64,
             "Arizona"
            ],
            [
             56,
             "Arkansas"
            ],
            [
             49,
             "California"
            ],
            [
             53,
             "Colorado"
            ],
            [
             40,
             "Connecticut"
            ],
            [
             51,
             "Delaware"
            ],
            [
             52,
             "Florida"
            ],
            [
             50,
             "Georgia"
            ],
            [
             62,
             "Hawaii"
            ],
            [
             68,
             "Idaho"
            ],
            [
             55,
             "Illinois"
            ],
            [
             54,
             "Indiana"
            ],
            [
             58,
             "Iowa"
            ],
            [
             52,
             "Kansas"
            ],
            [
             49,
             "Kentucky"
            ],
            [
             59,
             "Louisiana"
            ],
            [
             49,
             "Maine"
            ],
            [
             46,
             "Maryland"
            ],
            [
             51,
             "Massachusetts"
            ],
            [
             51,
             "Michigan"
            ],
            [
             58,
             "Minnesota"
            ],
            [
             59,
             "Mississippi"
            ],
            [
             65,
             "Missouri"
            ],
            [
             49,
             "Montana"
            ],
            [
             52,
             "Nebraska"
            ],
            [
             55,
             "Nevada"
            ],
            [
             58,
             "New Hampshire"
            ],
            [
             44,
             "New Jersey"
            ],
            [
             61,
             "New Mexico"
            ],
            [
             47,
             "New York"
            ],
            [
             63,
             "North Carolina"
            ],
            [
             55,
             "North Dakota"
            ],
            [
             61,
             "Ohio"
            ],
            [
             52,
             "Oklahoma"
            ],
            [
             54,
             "Oregon"
            ],
            [
             43,
             "Pennsylvania"
            ],
            [
             47,
             "Rhode Island"
            ],
            [
             55,
             "South Carolina"
            ],
            [
             56,
             "South Dakota"
            ],
            [
             53,
             "Tennessee"
            ],
            [
             54,
             "Texas"
            ],
            [
             53,
             "Utah"
            ],
            [
             48,
             "Vermont"
            ],
            [
             46,
             "Virginia"
            ],
            [
             48,
             "Washington"
            ],
            [
             61,
             "West Virginia"
            ],
            [
             59,
             "Wisconsin"
            ],
            [
             59,
             "Wyoming"
            ],
            [
             48,
             "District of Columbia"
            ],
            [
             53,
             "US"
            ]
           ],
           "hovertemplate": "<b>%{customdata[1]}</b><br>Child poverty rate: %{z}%<br>Poverty reduction: %{customdata[0]}%<extra></extra>",
           "locationmode": "USA-states",
           "locations": [
            "AL",
            "AK",
            "AZ",
            "AR",
            "CA",
            "CO",
            "CT",
            "DE",
            "FL",
            "GA",
            "HI",
            "ID",
            "IL",
            "IN",
            "IA",
            "KS",
            "KY",
            "LA",
            "ME",
            "MD",
            "MA",
            "MI",
            "MN",
            "MS",
            "MO",
            "MT",
            "NE",
            "NV",
            "NH",
            "NJ",
            "NM",
            "NY",
            "NC",
            "ND",
            "OH",
            "OK",
            "OR",
            "PA",
            "RI",
            "SC",
            "SD",
            "TN",
            "TX",
            "UT",
            "VT",
            "VA",
            "WA",
            "WV",
            "WI",
            "WY",
            "DC",
            "US"
           ],
           "type": "choropleth",
           "z": [
            7.2,
            8.3,
            4.7,
            5.5,
            9.9,
            5.4,
            8.1,
            5.1,
            8.8,
            7.8,
            5.9,
            2.3,
            5.6,
            5.8,
            3.4,
            3.5,
            5.3,
            7.9,
            4.9,
            6,
            5.2,
            5.1,
            2.2,
            7,
            3.1,
            4.1,
            4.7,
            6.2,
            3.4,
            7.7,
            5.4,
            9.2,
            5.5,
            4.4,
            4.4,
            4.8,
            4.7,
            7.4,
            5.4,
            6.8,
            4,
            5.7,
            7.1,
            3.6,
            6.5,
            7.3,
            4.6,
            5.2,
            3.4,
            3.8,
            9,
            6.6
           ]
          }
         ],
         "name": "300",
         "traces": [
          0,
          1,
          2
         ]
        },
        {
         "data": [
          {
           "customdata": [
            [
             57,
             "Alabama"
            ],
            [
             45,
             "Alaska"
            ],
            [
             67,
             "Arizona"
            ],
            [
             60,
             "Arkansas"
            ],
            [
             53,
             "California"
            ],
            [
             55,
             "Colorado"
            ],
            [
             43,
             "Connecticut"
            ],
            [
             55,
             "Delaware"
            ],
            [
             57,
             "Florida"
            ],
            [
             55,
             "Georgia"
            ],
            [
             62,
             "Hawaii"
            ],
            [
             68,
             "Idaho"
            ],
            [
             58,
             "Illinois"
            ],
            [
             56,
             "Indiana"
            ],
            [
             65,
             "Iowa"
            ],
            [
             52,
             "Kansas"
            ],
            [
             58,
             "Kentucky"
            ],
            [
             63,
             "Louisiana"
            ],
            [
             51,
             "Maine"
            ],
            [
             52,
             "Maryland"
            ],
            [
             56,
             "Massachusetts"
            ],
            [
             56,
             "Michigan"
            ],
            [
             62,
             "Minnesota"
            ],
            [
             65,
             "Mississippi"
            ],
            [
             70,
             "Missouri"
            ],
            [
             50,
             "Montana"
            ],
            [
             59,
             "Nebraska"
            ],
            [
             58,
             "Nevada"
            ],
            [
             62,
             "New Hampshire"
            ],
            [
             51,
             "New Jersey"
            ],
            [
             66,
             "New Mexico"
            ],
            [
             50,
             "New York"
            ],
            [
             66,
             "North Carolina"
            ],
            [
             60,
             "North Dakota"
            ],
            [
             66,
             "Ohio"
            ],
            [
             55,
             "Oklahoma"
            ],
            [
             59,
             "Oregon"
            ],
            [
             51,
             "Pennsylvania"
            ],
            [
             53,
             "Rhode Island"
            ],
            [
             58,
             "South Carolina"
            ],
            [
             60,
             "South Dakota"
            ],
            [
             57,
             "Tennessee"
            ],
            [
             59,
             "Texas"
            ],
            [
             55,
             "Utah"
            ],
            [
             53,
             "Vermont"
            ],
            [
             49,
             "Virginia"
            ],
            [
             60,
             "Washington"
            ],
            [
             68,
             "West Virginia"
            ],
            [
             67,
             "Wisconsin"
            ],
            [
             65,
             "Wyoming"
            ],
            [
             53,
             "District of Columbia"
            ],
            [
             57,
             "US"
            ]
           ],
           "hovertemplate": "<b>%{customdata[1]}</b><br>Child poverty rate: %{z}%<br>Poverty reduction: %{customdata[0]}%<extra></extra>",
           "locationmode": "USA-states",
           "locations": [
            "AL",
            "AK",
            "AZ",
            "AR",
            "CA",
            "CO",
            "CT",
            "DE",
            "FL",
            "GA",
            "HI",
            "ID",
            "IL",
            "IN",
            "IA",
            "KS",
            "KY",
            "LA",
            "ME",
            "MD",
            "MA",
            "MI",
            "MN",
            "MS",
            "MO",
            "MT",
            "NE",
            "NV",
            "NH",
            "NJ",
            "NM",
            "NY",
            "NC",
            "ND",
            "OH",
            "OK",
            "OR",
            "PA",
            "RI",
            "SC",
            "SD",
            "TN",
            "TX",
            "UT",
            "VT",
            "VA",
            "WA",
            "WV",
            "WI",
            "WY",
            "DC",
            "US"
           ],
           "type": "choropleth",
           "z": [
            6.4,
            7.9,
            4.3,
            5,
            9.2,
            5.1,
            7.7,
            4.7,
            8,
            7,
            5.9,
            2.3,
            5.3,
            5.5,
            2.8,
            3.5,
            4.3,
            7.3,
            4.7,
            5.4,
            4.7,
            4.6,
            2,
            5.9,
            2.6,
            4,
            4,
            5.8,
            3.1,
            6.8,
            4.7,
            8.6,
            5,
            3.9,
            3.8,
            4.5,
            4.2,
            6.4,
            4.7,
            6.3,
            3.6,
            5.2,
            6.3,
            3.4,
            5.8,
            6.8,
            3.5,
            4.3,
            2.7,
            3.3,
            8.1,
            6
           ]
          },
          {
           "customdata": [
            [
             57,
             "Alabama"
            ],
            [
             44,
             "Alaska"
            ],
            [
             67,
             "Arizona"
            ],
            [
             60,
             "Arkansas"
            ],
            [
             53,
             "California"
            ],
            [
             55,
             "Colorado"
            ],
            [
             43,
             "Connecticut"
            ],
            [
             56,
             "Delaware"
            ],
            [
             57,
             "Florida"
            ],
            [
             55,
             "Georgia"
            ],
            [
             62,
             "Hawaii"
            ],
            [
             68,
             "Idaho"
            ],
            [
             58,
             "Illinois"
            ],
            [
             56,
             "Indiana"
            ],
            [
             64,
             "Iowa"
            ],
            [
             52,
             "Kansas"
            ],
            [
             58,
             "Kentucky"
            ],
            [
             63,
             "Louisiana"
            ],
            [
             51,
             "Maine"
            ],
            [
             52,
             "Maryland"
            ],
            [
             56,
             "Massachusetts"
            ],
            [
             56,
             "Michigan"
            ],
            [
             62,
             "Minnesota"
            ],
            [
             65,
             "Mississippi"
            ],
            [
             70,
             "Missouri"
            ],
            [
             50,
             "Montana"
            ],
            [
             58,
             "Nebraska"
            ],
            [
             58,
             "Nevada"
            ],
            [
             62,
             "New Hampshire"
            ],
            [
             51,
             "New Jersey"
            ],
            [
             66,
             "New Mexico"
            ],
            [
             50,
             "New York"
            ],
            [
             66,
             "North Carolina"
            ],
            [
             60,
             "North Dakota"
            ],
            [
             66,
             "Ohio"
            ],
            [
             55,
             "Oklahoma"
            ],
            [
             59,
             "Oregon"
            ],
            [
             51,
             "Pennsylvania"
            ],
            [
             53,
             "Rhode Island"
            ],
            [
             58,
             "South Carolina"
            ],
            [
             60,
             "South Dakota"
            ],
            [
             57,
             "Tennessee"
            ],
            [
             59,
             "Texas"
            ],
            [
             55,
             "Utah"
            ],
            [
             53,
             "Vermont"
            ],
            [
             49,
             "Virginia"
            ],
            [
             60,
             "Washington"
            ],
            [
             67,
             "West Virginia"
            ],
            [
             67,
             "Wisconsin"
            ],
            [
             65,
             "Wyoming"
            ],
            [
             54,
             "District of Columbia"
            ],
            [
             57,
             "US"
            ]
           ],
           "hovertemplate": "<b>%{customdata[1]}</b><br>Child poverty rate: %{z}%<br>Poverty reduction: %{customdata[0]}%<extra></extra>",
           "locationmode": "USA-states",
           "locations": [
            "AL",
            "AK",
            "AZ",
            "AR",
            "CA",
            "CO",
            "CT",
            "DE",
            "FL",
            "GA",
            "HI",
            "ID",
            "IL",
            "IN",
            "IA",
            "KS",
            "KY",
            "LA",
            "ME",
            "MD",
            "MA",
            "MI",
            "MN",
            "MS",
            "MO",
            "MT",
            "NE",
            "NV",
            "NH",
            "NJ",
            "NM",
            "NY",
            "NC",
            "ND",
            "OH",
            "OK",
            "OR",
            "PA",
            "RI",
            "SC",
            "SD",
            "TN",
            "TX",
            "UT",
            "VT",
            "VA",
            "WA",
            "WV",
            "WI",
            "WY",
            "DC",
            "US"
           ],
           "type": "choropleth",
           "z": [
            6.4,
            8,
            4.3,
            5,
            9.2,
            5.1,
            7.7,
            4.6,
            8,
            7,
            5.9,
            2.3,
            5.3,
            5.5,
            2.9,
            3.5,
            4.3,
            7.3,
            4.7,
            5.4,
            4.7,
            4.6,
            2,
            5.9,
            2.6,
            4,
            4.1,
            5.8,
            3.1,
            6.8,
            4.7,
            8.6,
            5,
            3.9,
            3.8,
            4.5,
            4.2,
            6.4,
            4.7,
            6.3,
            3.6,
            5.2,
            6.3,
            3.4,
            5.8,
            6.8,
            3.5,
            4.4,
            2.7,
            3.3,
            7.9,
            6
           ]
          },
          {
           "customdata": [
            [
             57,
             "Alabama"
            ],
            [
             45,
             "Alaska"
            ],
            [
             68,
             "Arizona"
            ],
            [
             60,
             "Arkansas"
            ],
            [
             54,
             "California"
            ],
            [
             55,
             "Colorado"
            ],
            [
             44,
             "Connecticut"
            ],
            [
             56,
             "Delaware"
            ],
            [
             57,
             "Florida"
            ],
            [
             55,
             "Georgia"
            ],
            [
             64,
             "Hawaii"
            ],
            [
             69,
             "Idaho"
            ],
            [
             59,
             "Illinois"
            ],
            [
             58,
             "Indiana"
            ],
            [
             65,
             "Iowa"
            ],
            [
             52,
             "Kansas"
            ],
            [
             58,
             "Kentucky"
            ],
            [
             63,
             "Louisiana"
            ],
            [
             51,
             "Maine"
            ],
            [
             54,
             "Maryland"
            ],
            [
             57,
             "Massachusetts"
            ],
            [
             57,
             "Michigan"
            ],
            [
             64,
             "Minnesota"
            ],
            [
             65,
             "Mississippi"
            ],
            [
             70,
             "Missouri"
            ],
            [
             50,
             "Montana"
            ],
            [
             59,
             "Nebraska"
            ],
            [
             58,
             "Nevada"
            ],
            [
             62,
             "New Hampshire"
            ],
            [
             51,
             "New Jersey"
            ],
            [
             66,
             "New Mexico"
            ],
            [
             51,
             "New York"
            ],
            [
             67,
             "North Carolina"
            ],
            [
             60,
             "North Dakota"
            ],
            [
             69,
             "Ohio"
            ],
            [
             56,
             "Oklahoma"
            ],
            [
             59,
             "Oregon"
            ],
            [
             51,
             "Pennsylvania"
            ],
            [
             53,
             "Rhode Island"
            ],
            [
             58,
             "South Carolina"
            ],
            [
             60,
             "South Dakota"
            ],
            [
             57,
             "Tennessee"
            ],
            [
             60,
             "Texas"
            ],
            [
             57,
             "Utah"
            ],
            [
             55,
             "Vermont"
            ],
            [
             50,
             "Virginia"
            ],
            [
             62,
             "Washington"
            ],
            [
             68,
             "West Virginia"
            ],
            [
             67,
             "Wisconsin"
            ],
            [
             65,
             "Wyoming"
            ],
            [
             55,
             "District of Columbia"
            ],
            [
             58,
             "US"
            ]
           ],
           "hovertemplate": "<b>%{customdata[1]}</b><br>Child poverty rate: %{z}%<br>Poverty reduction: %{customdata[0]}%<extra></extra>",
           "locationmode": "USA-states",
           "locations": [
            "AL",
            "AK",
            "AZ",
            "AR",
            "CA",
            "CO",
            "CT",
            "DE",
            "FL",
            "GA",
            "HI",
            "ID",
            "IL",
            "IN",
            "IA",
            "KS",
            "KY",
            "LA",
            "ME",
            "MD",
            "MA",
            "MI",
            "MN",
            "MS",
            "MO",
            "MT",
            "NE",
            "NV",
            "NH",
            "NJ",
            "NM",
            "NY",
            "NC",
            "ND",
            "OH",
            "OK",
            "OR",
            "PA",
            "RI",
            "SC",
            "SD",
            "TN",
            "TX",
            "UT",
            "VT",
            "VA",
            "WA",
            "WV",
            "WI",
            "WY",
            "DC",
            "US"
           ],
           "type": "choropleth",
           "z": [
            6.4,
            7.9,
            4.2,
            5,
            9,
            5.1,
            7.6,
            4.6,
            8,
            6.9,
            5.6,
            2.2,
            5.1,
            5.3,
            2.8,
            3.5,
            4.3,
            7.3,
            4.7,
            5.2,
            4.6,
            4.5,
            1.9,
            5.9,
            2.6,
            4,
            4,
            5.8,
            3.1,
            6.8,
            4.7,
            8.5,
            4.9,
            3.9,
            3.5,
            4.4,
            4.2,
            6.4,
            4.7,
            6.3,
            3.6,
            5.2,
            6.1,
            3.3,
            5.6,
            6.7,
            3.3,
            4.3,
            2.7,
            3.3,
            7.8,
            5.9
           ]
          }
         ],
         "name": "350",
         "traces": [
          0,
          1,
          2
         ]
        },
        {
         "data": [
          {
           "customdata": [
            [
             61,
             "Alabama"
            ],
            [
             48,
             "Alaska"
            ],
            [
             72,
             "Arizona"
            ],
            [
             63,
             "Arkansas"
            ],
            [
             58,
             "California"
            ],
            [
             58,
             "Colorado"
            ],
            [
             45,
             "Connecticut"
            ],
            [
             61,
             "Delaware"
            ],
            [
             60,
             "Florida"
            ],
            [
             57,
             "Georgia"
            ],
            [
             65,
             "Hawaii"
            ],
            [
             73,
             "Idaho"
            ],
            [
             64,
             "Illinois"
            ],
            [
             66,
             "Indiana"
            ],
            [
             65,
             "Iowa"
            ],
            [
             58,
             "Kansas"
            ],
            [
             63,
             "Kentucky"
            ],
            [
             68,
             "Louisiana"
            ],
            [
             56,
             "Maine"
            ],
            [
             57,
             "Maryland"
            ],
            [
             59,
             "Massachusetts"
            ],
            [
             60,
             "Michigan"
            ],
            [
             66,
             "Minnesota"
            ],
            [
             68,
             "Mississippi"
            ],
            [
             70,
             "Missouri"
            ],
            [
             55,
             "Montana"
            ],
            [
             60,
             "Nebraska"
            ],
            [
             62,
             "Nevada"
            ],
            [
             62,
             "New Hampshire"
            ],
            [
             53,
             "New Jersey"
            ],
            [
             68,
             "New Mexico"
            ],
            [
             53,
             "New York"
            ],
            [
             70,
             "North Carolina"
            ],
            [
             67,
             "North Dakota"
            ],
            [
             73,
             "Ohio"
            ],
            [
             61,
             "Oklahoma"
            ],
            [
             64,
             "Oregon"
            ],
            [
             55,
             "Pennsylvania"
            ],
            [
             56,
             "Rhode Island"
            ],
            [
             64,
             "South Carolina"
            ],
            [
             64,
             "South Dakota"
            ],
            [
             63,
             "Tennessee"
            ],
            [
             63,
             "Texas"
            ],
            [
             58,
             "Utah"
            ],
            [
             56,
             "Vermont"
            ],
            [
             61,
             "Virginia"
            ],
            [
             62,
             "Washington"
            ],
            [
             72,
             "West Virginia"
            ],
            [
             67,
             "Wisconsin"
            ],
            [
             70,
             "Wyoming"
            ],
            [
             56,
             "District of Columbia"
            ],
            [
             61,
             "US"
            ]
           ],
           "hovertemplate": "<b>%{customdata[1]}</b><br>Child poverty rate: %{z}%<br>Poverty reduction: %{customdata[0]}%<extra></extra>",
           "locationmode": "USA-states",
           "locations": [
            "AL",
            "AK",
            "AZ",
            "AR",
            "CA",
            "CO",
            "CT",
            "DE",
            "FL",
            "GA",
            "HI",
            "ID",
            "IL",
            "IN",
            "IA",
            "KS",
            "KY",
            "LA",
            "ME",
            "MD",
            "MA",
            "MI",
            "MN",
            "MS",
            "MO",
            "MT",
            "NE",
            "NV",
            "NH",
            "NJ",
            "NM",
            "NY",
            "NC",
            "ND",
            "OH",
            "OK",
            "OR",
            "PA",
            "RI",
            "SC",
            "SD",
            "TN",
            "TX",
            "UT",
            "VT",
            "VA",
            "WA",
            "WV",
            "WI",
            "WY",
            "DC",
            "US"
           ],
           "type": "choropleth",
           "z": [
            5.7,
            7.5,
            3.7,
            4.6,
            8.2,
            4.8,
            7.5,
            4.1,
            7.3,
            6.6,
            5.5,
            1.9,
            4.5,
            4.3,
            2.8,
            3.1,
            3.8,
            6.3,
            4.2,
            4.8,
            4.4,
            4.2,
            1.8,
            5.5,
            2.6,
            3.6,
            3.9,
            5.2,
            3.1,
            6.5,
            4.4,
            8.1,
            4.4,
            3.2,
            3.1,
            3.9,
            3.7,
            5.9,
            4.4,
            5.5,
            3.3,
            4.5,
            5.6,
            3.2,
            5.4,
            5.2,
            3.3,
            3.7,
            2.7,
            2.8,
            7.6,
            5.4
           ]
          },
          {
           "customdata": [
            [
             61,
             "Alabama"
            ],
            [
             48,
             "Alaska"
            ],
            [
             72,
             "Arizona"
            ],
            [
             63,
             "Arkansas"
            ],
            [
             58,
             "California"
            ],
            [
             58,
             "Colorado"
            ],
            [
             45,
             "Connecticut"
            ],
            [
             61,
             "Delaware"
            ],
            [
             60,
             "Florida"
            ],
            [
             57,
             "Georgia"
            ],
            [
             65,
             "Hawaii"
            ],
            [
             73,
             "Idaho"
            ],
            [
             64,
             "Illinois"
            ],
            [
             65,
             "Indiana"
            ],
            [
             65,
             "Iowa"
            ],
            [
             58,
             "Kansas"
            ],
            [
             63,
             "Kentucky"
            ],
            [
             68,
             "Louisiana"
            ],
            [
             56,
             "Maine"
            ],
            [
             57,
             "Maryland"
            ],
            [
             60,
             "Massachusetts"
            ],
            [
             60,
             "Michigan"
            ],
            [
             66,
             "Minnesota"
            ],
            [
             68,
             "Mississippi"
            ],
            [
             70,
             "Missouri"
            ],
            [
             55,
             "Montana"
            ],
            [
             60,
             "Nebraska"
            ],
            [
             62,
             "Nevada"
            ],
            [
             62,
             "New Hampshire"
            ],
            [
             53,
             "New Jersey"
            ],
            [
             68,
             "New Mexico"
            ],
            [
             53,
             "New York"
            ],
            [
             70,
             "North Carolina"
            ],
            [
             67,
             "North Dakota"
            ],
            [
             73,
             "Ohio"
            ],
            [
             61,
             "Oklahoma"
            ],
            [
             64,
             "Oregon"
            ],
            [
             55,
             "Pennsylvania"
            ],
            [
             56,
             "Rhode Island"
            ],
            [
             64,
             "South Carolina"
            ],
            [
             64,
             "South Dakota"
            ],
            [
             63,
             "Tennessee"
            ],
            [
             63,
             "Texas"
            ],
            [
             58,
             "Utah"
            ],
            [
             56,
             "Vermont"
            ],
            [
             61,
             "Virginia"
            ],
            [
             62,
             "Washington"
            ],
            [
             72,
             "West Virginia"
            ],
            [
             67,
             "Wisconsin"
            ],
            [
             70,
             "Wyoming"
            ],
            [
             57,
             "District of Columbia"
            ],
            [
             61,
             "US"
            ]
           ],
           "hovertemplate": "<b>%{customdata[1]}</b><br>Child poverty rate: %{z}%<br>Poverty reduction: %{customdata[0]}%<extra></extra>",
           "locationmode": "USA-states",
           "locations": [
            "AL",
            "AK",
            "AZ",
            "AR",
            "CA",
            "CO",
            "CT",
            "DE",
            "FL",
            "GA",
            "HI",
            "ID",
            "IL",
            "IN",
            "IA",
            "KS",
            "KY",
            "LA",
            "ME",
            "MD",
            "MA",
            "MI",
            "MN",
            "MS",
            "MO",
            "MT",
            "NE",
            "NV",
            "NH",
            "NJ",
            "NM",
            "NY",
            "NC",
            "ND",
            "OH",
            "OK",
            "OR",
            "PA",
            "RI",
            "SC",
            "SD",
            "TN",
            "TX",
            "UT",
            "VT",
            "VA",
            "WA",
            "WV",
            "WI",
            "WY",
            "DC",
            "US"
           ],
           "type": "choropleth",
           "z": [
            5.7,
            7.5,
            3.7,
            4.6,
            8.2,
            4.8,
            7.5,
            4.1,
            7.3,
            6.6,
            5.5,
            1.9,
            4.5,
            4.4,
            2.8,
            3.1,
            3.8,
            6.3,
            4.2,
            4.8,
            4.3,
            4.2,
            1.8,
            5.5,
            2.6,
            3.6,
            3.9,
            5.2,
            3.1,
            6.5,
            4.4,
            8.1,
            4.4,
            3.2,
            3.1,
            3.9,
            3.7,
            5.9,
            4.4,
            5.5,
            3.3,
            4.5,
            5.6,
            3.2,
            5.4,
            5.2,
            3.3,
            3.7,
            2.7,
            2.8,
            7.5,
            5.4
           ]
          },
          {
           "customdata": [
            [
             61,
             "Alabama"
            ],
            [
             48,
             "Alaska"
            ],
            [
             72,
             "Arizona"
            ],
            [
             64,
             "Arkansas"
            ],
            [
             59,
             "California"
            ],
            [
             58,
             "Colorado"
            ],
            [
             48,
             "Connecticut"
            ],
            [
             61,
             "Delaware"
            ],
            [
             61,
             "Florida"
            ],
            [
             59,
             "Georgia"
            ],
            [
             68,
             "Hawaii"
            ],
            [
             73,
             "Idaho"
            ],
            [
             66,
             "Illinois"
            ],
            [
             66,
             "Indiana"
            ],
            [
             67,
             "Iowa"
            ],
            [
             58,
             "Kansas"
            ],
            [
             65,
             "Kentucky"
            ],
            [
             68,
             "Louisiana"
            ],
            [
             56,
             "Maine"
            ],
            [
             57,
             "Maryland"
            ],
            [
             60,
             "Massachusetts"
            ],
            [
             61,
             "Michigan"
            ],
            [
             66,
             "Minnesota"
            ],
            [
             68,
             "Mississippi"
            ],
            [
             72,
             "Missouri"
            ],
            [
             55,
             "Montana"
            ],
            [
             60,
             "Nebraska"
            ],
            [
             62,
             "Nevada"
            ],
            [
             62,
             "New Hampshire"
            ],
            [
             54,
             "New Jersey"
            ],
            [
             69,
             "New Mexico"
            ],
            [
             55,
             "New York"
            ],
            [
             72,
             "North Carolina"
            ],
            [
             67,
             "North Dakota"
            ],
            [
             73,
             "Ohio"
            ],
            [
             61,
             "Oklahoma"
            ],
            [
             65,
             "Oregon"
            ],
            [
             56,
             "Pennsylvania"
            ],
            [
             56,
             "Rhode Island"
            ],
            [
             64,
             "South Carolina"
            ],
            [
             64,
             "South Dakota"
            ],
            [
             63,
             "Tennessee"
            ],
            [
             64,
             "Texas"
            ],
            [
             58,
             "Utah"
            ],
            [
             56,
             "Vermont"
            ],
            [
             62,
             "Virginia"
            ],
            [
             62,
             "Washington"
            ],
            [
             72,
             "West Virginia"
            ],
            [
             70,
             "Wisconsin"
            ],
            [
             70,
             "Wyoming"
            ],
            [
             57,
             "District of Columbia"
            ],
            [
             62,
             "US"
            ]
           ],
           "hovertemplate": "<b>%{customdata[1]}</b><br>Child poverty rate: %{z}%<br>Poverty reduction: %{customdata[0]}%<extra></extra>",
           "locationmode": "USA-states",
           "locations": [
            "AL",
            "AK",
            "AZ",
            "AR",
            "CA",
            "CO",
            "CT",
            "DE",
            "FL",
            "GA",
            "HI",
            "ID",
            "IL",
            "IN",
            "IA",
            "KS",
            "KY",
            "LA",
            "ME",
            "MD",
            "MA",
            "MI",
            "MN",
            "MS",
            "MO",
            "MT",
            "NE",
            "NV",
            "NH",
            "NJ",
            "NM",
            "NY",
            "NC",
            "ND",
            "OH",
            "OK",
            "OR",
            "PA",
            "RI",
            "SC",
            "SD",
            "TN",
            "TX",
            "UT",
            "VT",
            "VA",
            "WA",
            "WV",
            "WI",
            "WY",
            "DC",
            "US"
           ],
           "type": "choropleth",
           "z": [
            5.7,
            7.5,
            3.7,
            4.5,
            8,
            4.8,
            7.1,
            4.1,
            7.2,
            6.4,
            5,
            1.9,
            4.3,
            4.3,
            2.7,
            3.1,
            3.6,
            6.2,
            4.2,
            4.8,
            4.3,
            4.1,
            1.8,
            5.5,
            2.5,
            3.6,
            3.9,
            5.2,
            3.1,
            6.4,
            4.3,
            7.8,
            4.2,
            3.2,
            3,
            3.9,
            3.6,
            5.7,
            4.4,
            5.5,
            3.3,
            4.5,
            5.5,
            3.2,
            5.4,
            5.1,
            3.3,
            3.7,
            2.5,
            2.8,
            7.4,
            5.3
           ]
          }
         ],
         "name": "400",
         "traces": [
          0,
          1,
          2
         ]
        },
        {
         "data": [
          {
           "customdata": [
            [
             66,
             "Alabama"
            ],
            [
             48,
             "Alaska"
            ],
            [
             75,
             "Arizona"
            ],
            [
             69,
             "Arkansas"
            ],
            [
             63,
             "California"
            ],
            [
             64,
             "Colorado"
            ],
            [
             55,
             "Connecticut"
            ],
            [
             62,
             "Delaware"
            ],
            [
             64,
             "Florida"
            ],
            [
             65,
             "Georgia"
            ],
            [
             71,
             "Hawaii"
            ],
            [
             73,
             "Idaho"
            ],
            [
             70,
             "Illinois"
            ],
            [
             70,
             "Indiana"
            ],
            [
             73,
             "Iowa"
            ],
            [
             70,
             "Kansas"
            ],
            [
             71,
             "Kentucky"
            ],
            [
             72,
             "Louisiana"
            ],
            [
             57,
             "Maine"
            ],
            [
             62,
             "Maryland"
            ],
            [
             65,
             "Massachusetts"
            ],
            [
             64,
             "Michigan"
            ],
            [
             66,
             "Minnesota"
            ],
            [
             70,
             "Mississippi"
            ],
            [
             74,
             "Missouri"
            ],
            [
             59,
             "Montana"
            ],
            [
             63,
             "Nebraska"
            ],
            [
             68,
             "Nevada"
            ],
            [
             65,
             "New Hampshire"
            ],
            [
             59,
             "New Jersey"
            ],
            [
             73,
             "New Mexico"
            ],
            [
             58,
             "New York"
            ],
            [
             72,
             "North Carolina"
            ],
            [
             74,
             "North Dakota"
            ],
            [
             74,
             "Ohio"
            ],
            [
             69,
             "Oklahoma"
            ],
            [
             64,
             "Oregon"
            ],
            [
             62,
             "Pennsylvania"
            ],
            [
             62,
             "Rhode Island"
            ],
            [
             66,
             "South Carolina"
            ],
            [
             70,
             "South Dakota"
            ],
            [
             67,
             "Tennessee"
            ],
            [
             68,
             "Texas"
            ],
            [
             61,
             "Utah"
            ],
            [
             60,
             "Vermont"
            ],
            [
             66,
             "Virginia"
            ],
            [
             69,
             "Washington"
            ],
            [
             76,
             "West Virginia"
            ],
            [
             72,
             "Wisconsin"
            ],
            [
             71,
             "Wyoming"
            ],
            [
             60,
             "District of Columbia"
            ],
            [
             65,
             "US"
            ]
           ],
           "hovertemplate": "<b>%{customdata[1]}</b><br>Child poverty rate: %{z}%<br>Poverty reduction: %{customdata[0]}%<extra></extra>",
           "locationmode": "USA-states",
           "locations": [
            "AL",
            "AK",
            "AZ",
            "AR",
            "CA",
            "CO",
            "CT",
            "DE",
            "FL",
            "GA",
            "HI",
            "ID",
            "IL",
            "IN",
            "IA",
            "KS",
            "KY",
            "LA",
            "ME",
            "MD",
            "MA",
            "MI",
            "MN",
            "MS",
            "MO",
            "MT",
            "NE",
            "NV",
            "NH",
            "NJ",
            "NM",
            "NY",
            "NC",
            "ND",
            "OH",
            "OK",
            "OR",
            "PA",
            "RI",
            "SC",
            "SD",
            "TN",
            "TX",
            "UT",
            "VT",
            "VA",
            "WA",
            "WV",
            "WI",
            "WY",
            "DC",
            "US"
           ],
           "type": "choropleth",
           "z": [
            5,
            7.4,
            3.3,
            3.9,
            7.3,
            4.1,
            6.1,
            4,
            6.7,
            5.4,
            4.6,
            1.9,
            3.8,
            3.8,
            2.2,
            2.2,
            3,
            5.4,
            4.1,
            4.3,
            3.7,
            3.8,
            1.8,
            5.1,
            2.3,
            3.3,
            3.6,
            4.4,
            2.8,
            5.6,
            3.8,
            7.2,
            4.1,
            2.5,
            2.9,
            3.1,
            3.7,
            5,
            3.8,
            5.1,
            2.7,
            4,
            4.9,
            3,
            4.9,
            4.5,
            2.7,
            3.2,
            2.3,
            2.7,
            6.9,
            4.8
           ]
          },
          {
           "customdata": [
            [
             66,
             "Alabama"
            ],
            [
             48,
             "Alaska"
            ],
            [
             75,
             "Arizona"
            ],
            [
             69,
             "Arkansas"
            ],
            [
             63,
             "California"
            ],
            [
             64,
             "Colorado"
            ],
            [
             56,
             "Connecticut"
            ],
            [
             62,
             "Delaware"
            ],
            [
             64,
             "Florida"
            ],
            [
             65,
             "Georgia"
            ],
            [
             71,
             "Hawaii"
            ],
            [
             73,
             "Idaho"
            ],
            [
             70,
             "Illinois"
            ],
            [
             69,
             "Indiana"
            ],
            [
             73,
             "Iowa"
            ],
            [
             70,
             "Kansas"
            ],
            [
             71,
             "Kentucky"
            ],
            [
             72,
             "Louisiana"
            ],
            [
             57,
             "Maine"
            ],
            [
             62,
             "Maryland"
            ],
            [
             66,
             "Massachusetts"
            ],
            [
             64,
             "Michigan"
            ],
            [
             66,
             "Minnesota"
            ],
            [
             70,
             "Mississippi"
            ],
            [
             74,
             "Missouri"
            ],
            [
             59,
             "Montana"
            ],
            [
             63,
             "Nebraska"
            ],
            [
             68,
             "Nevada"
            ],
            [
             65,
             "New Hampshire"
            ],
            [
             60,
             "New Jersey"
            ],
            [
             73,
             "New Mexico"
            ],
            [
             59,
             "New York"
            ],
            [
             72,
             "North Carolina"
            ],
            [
             74,
             "North Dakota"
            ],
            [
             74,
             "Ohio"
            ],
            [
             69,
             "Oklahoma"
            ],
            [
             64,
             "Oregon"
            ],
            [
             62,
             "Pennsylvania"
            ],
            [
             62,
             "Rhode Island"
            ],
            [
             66,
             "South Carolina"
            ],
            [
             70,
             "South Dakota"
            ],
            [
             67,
             "Tennessee"
            ],
            [
             68,
             "Texas"
            ],
            [
             59,
             "Utah"
            ],
            [
             60,
             "Vermont"
            ],
            [
             66,
             "Virginia"
            ],
            [
             69,
             "Washington"
            ],
            [
             76,
             "West Virginia"
            ],
            [
             72,
             "Wisconsin"
            ],
            [
             71,
             "Wyoming"
            ],
            [
             61,
             "District of Columbia"
            ],
            [
             65,
             "US"
            ]
           ],
           "hovertemplate": "<b>%{customdata[1]}</b><br>Child poverty rate: %{z}%<br>Poverty reduction: %{customdata[0]}%<extra></extra>",
           "locationmode": "USA-states",
           "locations": [
            "AL",
            "AK",
            "AZ",
            "AR",
            "CA",
            "CO",
            "CT",
            "DE",
            "FL",
            "GA",
            "HI",
            "ID",
            "IL",
            "IN",
            "IA",
            "KS",
            "KY",
            "LA",
            "ME",
            "MD",
            "MA",
            "MI",
            "MN",
            "MS",
            "MO",
            "MT",
            "NE",
            "NV",
            "NH",
            "NJ",
            "NM",
            "NY",
            "NC",
            "ND",
            "OH",
            "OK",
            "OR",
            "PA",
            "RI",
            "SC",
            "SD",
            "TN",
            "TX",
            "UT",
            "VT",
            "VA",
            "WA",
            "WV",
            "WI",
            "WY",
            "DC",
            "US"
           ],
           "type": "choropleth",
           "z": [
            5,
            7.4,
            3.3,
            3.9,
            7.3,
            4.1,
            6,
            4,
            6.7,
            5.4,
            4.6,
            1.9,
            3.8,
            3.9,
            2.2,
            2.2,
            3,
            5.4,
            4.1,
            4.3,
            3.6,
            3.8,
            1.8,
            5.1,
            2.3,
            3.3,
            3.6,
            4.4,
            2.8,
            5.5,
            3.8,
            7.1,
            4.1,
            2.5,
            2.9,
            3.1,
            3.7,
            5,
            3.8,
            5.2,
            2.7,
            4,
            4.9,
            3.1,
            4.9,
            4.5,
            2.7,
            3.2,
            2.3,
            2.7,
            6.7,
            4.8
           ]
          },
          {
           "customdata": [
            [
             66,
             "Alabama"
            ],
            [
             50,
             "Alaska"
            ],
            [
             75,
             "Arizona"
            ],
            [
             69,
             "Arkansas"
            ],
            [
             63,
             "California"
            ],
            [
             65,
             "Colorado"
            ],
            [
             57,
             "Connecticut"
            ],
            [
             62,
             "Delaware"
            ],
            [
             64,
             "Florida"
            ],
            [
             65,
             "Georgia"
            ],
            [
             71,
             "Hawaii"
            ],
            [
             73,
             "Idaho"
            ],
            [
             70,
             "Illinois"
            ],
            [
             71,
             "Indiana"
            ],
            [
             77,
             "Iowa"
            ],
            [
             70,
             "Kansas"
            ],
            [
             71,
             "Kentucky"
            ],
            [
             73,
             "Louisiana"
            ],
            [
             59,
             "Maine"
            ],
            [
             62,
             "Maryland"
            ],
            [
             66,
             "Massachusetts"
            ],
            [
             65,
             "Michigan"
            ],
            [
             68,
             "Minnesota"
            ],
            [
             70,
             "Mississippi"
            ],
            [
             74,
             "Missouri"
            ],
            [
             59,
             "Montana"
            ],
            [
             64,
             "Nebraska"
            ],
            [
             68,
             "Nevada"
            ],
            [
             67,
             "New Hampshire"
            ],
            [
             62,
             "New Jersey"
            ],
            [
             73,
             "New Mexico"
            ],
            [
             59,
             "New York"
            ],
            [
             74,
             "North Carolina"
            ],
            [
             74,
             "North Dakota"
            ],
            [
             75,
             "Ohio"
            ],
            [
             69,
             "Oklahoma"
            ],
            [
             65,
             "Oregon"
            ],
            [
             62,
             "Pennsylvania"
            ],
            [
             62,
             "Rhode Island"
            ],
            [
             66,
             "South Carolina"
            ],
            [
             73,
             "South Dakota"
            ],
            [
             67,
             "Tennessee"
            ],
            [
             69,
             "Texas"
            ],
            [
             61,
             "Utah"
            ],
            [
             60,
             "Vermont"
            ],
            [
             66,
             "Virginia"
            ],
            [
             69,
             "Washington"
            ],
            [
             77,
             "West Virginia"
            ],
            [
             72,
             "Wisconsin"
            ],
            [
             71,
             "Wyoming"
            ],
            [
             61,
             "District of Columbia"
            ],
            [
             66,
             "US"
            ]
           ],
           "hovertemplate": "<b>%{customdata[1]}</b><br>Child poverty rate: %{z}%<br>Poverty reduction: %{customdata[0]}%<extra></extra>",
           "locationmode": "USA-states",
           "locations": [
            "AL",
            "AK",
            "AZ",
            "AR",
            "CA",
            "CO",
            "CT",
            "DE",
            "FL",
            "GA",
            "HI",
            "ID",
            "IL",
            "IN",
            "IA",
            "KS",
            "KY",
            "LA",
            "ME",
            "MD",
            "MA",
            "MI",
            "MN",
            "MS",
            "MO",
            "MT",
            "NE",
            "NV",
            "NH",
            "NJ",
            "NM",
            "NY",
            "NC",
            "ND",
            "OH",
            "OK",
            "OR",
            "PA",
            "RI",
            "SC",
            "SD",
            "TN",
            "TX",
            "UT",
            "VT",
            "VA",
            "WA",
            "WV",
            "WI",
            "WY",
            "DC",
            "US"
           ],
           "type": "choropleth",
           "z": [
            5,
            7.1,
            3.3,
            3.9,
            7.2,
            4,
            5.9,
            4,
            6.6,
            5.4,
            4.6,
            1.9,
            3.7,
            3.7,
            1.9,
            2.2,
            3,
            5.3,
            3.9,
            4.2,
            3.6,
            3.7,
            1.7,
            5.1,
            2.3,
            3.3,
            3.5,
            4.4,
            2.7,
            5.3,
            3.8,
            7,
            3.8,
            2.5,
            2.8,
            3.1,
            3.6,
            4.9,
            3.8,
            5.1,
            2.5,
            4,
            4.8,
            3,
            4.9,
            4.5,
            2.7,
            3.1,
            2.3,
            2.7,
            6.7,
            4.7
           ]
          }
         ],
         "name": "450",
         "traces": [
          0,
          1,
          2
         ]
        },
        {
         "data": [
          {
           "customdata": [
            [
             68,
             "Alabama"
            ],
            [
             53,
             "Alaska"
            ],
            [
             76,
             "Arizona"
            ],
            [
             74,
             "Arkansas"
            ],
            [
             66,
             "California"
            ],
            [
             67,
             "Colorado"
            ],
            [
             58,
             "Connecticut"
            ],
            [
             62,
             "Delaware"
            ],
            [
             67,
             "Florida"
            ],
            [
             69,
             "Georgia"
            ],
            [
             77,
             "Hawaii"
            ],
            [
             75,
             "Idaho"
            ],
            [
             73,
             "Illinois"
            ],
            [
             75,
             "Indiana"
            ],
            [
             75,
             "Iowa"
            ],
            [
             71,
             "Kansas"
            ],
            [
             73,
             "Kentucky"
            ],
            [
             76,
             "Louisiana"
            ],
            [
             60,
             "Maine"
            ],
            [
             63,
             "Maryland"
            ],
            [
             69,
             "Massachusetts"
            ],
            [
             66,
             "Michigan"
            ],
            [
             77,
             "Minnesota"
            ],
            [
             74,
             "Mississippi"
            ],
            [
             76,
             "Missouri"
            ],
            [
             68,
             "Montana"
            ],
            [
             66,
             "Nebraska"
            ],
            [
             69,
             "Nevada"
            ],
            [
             73,
             "New Hampshire"
            ],
            [
             64,
             "New Jersey"
            ],
            [
             77,
             "New Mexico"
            ],
            [
             63,
             "New York"
            ],
            [
             77,
             "North Carolina"
            ],
            [
             74,
             "North Dakota"
            ],
            [
             77,
             "Ohio"
            ],
            [
             72,
             "Oklahoma"
            ],
            [
             71,
             "Oregon"
            ],
            [
             67,
             "Pennsylvania"
            ],
            [
             73,
             "Rhode Island"
            ],
            [
             68,
             "South Carolina"
            ],
            [
             75,
             "South Dakota"
            ],
            [
             68,
             "Tennessee"
            ],
            [
             72,
             "Texas"
            ],
            [
             62,
             "Utah"
            ],
            [
             64,
             "Vermont"
            ],
            [
             69,
             "Virginia"
            ],
            [
             70,
             "Washington"
            ],
            [
             81,
             "West Virginia"
            ],
            [
             73,
             "Wisconsin"
            ],
            [
             76,
             "Wyoming"
            ],
            [
             66,
             "District of Columbia"
            ],
            [
             69,
             "US"
            ]
           ],
           "hovertemplate": "<b>%{customdata[1]}</b><br>Child poverty rate: %{z}%<br>Poverty reduction: %{customdata[0]}%<extra></extra>",
           "locationmode": "USA-states",
           "locations": [
            "AL",
            "AK",
            "AZ",
            "AR",
            "CA",
            "CO",
            "CT",
            "DE",
            "FL",
            "GA",
            "HI",
            "ID",
            "IL",
            "IN",
            "IA",
            "KS",
            "KY",
            "LA",
            "ME",
            "MD",
            "MA",
            "MI",
            "MN",
            "MS",
            "MO",
            "MT",
            "NE",
            "NV",
            "NH",
            "NJ",
            "NM",
            "NY",
            "NC",
            "ND",
            "OH",
            "OK",
            "OR",
            "PA",
            "RI",
            "SC",
            "SD",
            "TN",
            "TX",
            "UT",
            "VT",
            "VA",
            "WA",
            "WV",
            "WI",
            "WY",
            "DC",
            "US"
           ],
           "type": "choropleth",
           "z": [
            4.8,
            6.7,
            3.1,
            3.2,
            6.7,
            3.8,
            5.7,
            3.9,
            6,
            4.8,
            3.6,
            1.8,
            3.4,
            3.2,
            2,
            2.1,
            2.8,
            4.6,
            3.8,
            4.1,
            3.3,
            3.6,
            1.2,
            4.4,
            2.1,
            2.6,
            3.3,
            4.2,
            2.2,
            4.9,
            3.2,
            6.3,
            3.5,
            2.5,
            2.6,
            2.8,
            3,
            4.3,
            2.7,
            4.8,
            2.3,
            3.9,
            4.3,
            2.9,
            4.5,
            4.1,
            2.6,
            2.6,
            2.2,
            2.2,
            5.9,
            4.3
           ]
          },
          {
           "customdata": [
            [
             68,
             "Alabama"
            ],
            [
             53,
             "Alaska"
            ],
            [
             76,
             "Arizona"
            ],
            [
             74,
             "Arkansas"
            ],
            [
             66,
             "California"
            ],
            [
             67,
             "Colorado"
            ],
            [
             58,
             "Connecticut"
            ],
            [
             62,
             "Delaware"
            ],
            [
             67,
             "Florida"
            ],
            [
             69,
             "Georgia"
            ],
            [
             77,
             "Hawaii"
            ],
            [
             75,
             "Idaho"
            ],
            [
             73,
             "Illinois"
            ],
            [
             74,
             "Indiana"
            ],
            [
             75,
             "Iowa"
            ],
            [
             71,
             "Kansas"
            ],
            [
             73,
             "Kentucky"
            ],
            [
             76,
             "Louisiana"
            ],
            [
             60,
             "Maine"
            ],
            [
             64,
             "Maryland"
            ],
            [
             69,
             "Massachusetts"
            ],
            [
             66,
             "Michigan"
            ],
            [
             77,
             "Minnesota"
            ],
            [
             74,
             "Mississippi"
            ],
            [
             76,
             "Missouri"
            ],
            [
             68,
             "Montana"
            ],
            [
             66,
             "Nebraska"
            ],
            [
             69,
             "Nevada"
            ],
            [
             73,
             "New Hampshire"
            ],
            [
             64,
             "New Jersey"
            ],
            [
             77,
             "New Mexico"
            ],
            [
             63,
             "New York"
            ],
            [
             77,
             "North Carolina"
            ],
            [
             74,
             "North Dakota"
            ],
            [
             77,
             "Ohio"
            ],
            [
             72,
             "Oklahoma"
            ],
            [
             71,
             "Oregon"
            ],
            [
             67,
             "Pennsylvania"
            ],
            [
             73,
             "Rhode Island"
            ],
            [
             68,
             "South Carolina"
            ],
            [
             75,
             "South Dakota"
            ],
            [
             68,
             "Tennessee"
            ],
            [
             72,
             "Texas"
            ],
            [
             62,
             "Utah"
            ],
            [
             64,
             "Vermont"
            ],
            [
             69,
             "Virginia"
            ],
            [
             70,
             "Washington"
            ],
            [
             80,
             "West Virginia"
            ],
            [
             73,
             "Wisconsin"
            ],
            [
             76,
             "Wyoming"
            ],
            [
             66,
             "District of Columbia"
            ],
            [
             69,
             "US"
            ]
           ],
           "hovertemplate": "<b>%{customdata[1]}</b><br>Child poverty rate: %{z}%<br>Poverty reduction: %{customdata[0]}%<extra></extra>",
           "locationmode": "USA-states",
           "locations": [
            "AL",
            "AK",
            "AZ",
            "AR",
            "CA",
            "CO",
            "CT",
            "DE",
            "FL",
            "GA",
            "HI",
            "ID",
            "IL",
            "IN",
            "IA",
            "KS",
            "KY",
            "LA",
            "ME",
            "MD",
            "MA",
            "MI",
            "MN",
            "MS",
            "MO",
            "MT",
            "NE",
            "NV",
            "NH",
            "NJ",
            "NM",
            "NY",
            "NC",
            "ND",
            "OH",
            "OK",
            "OR",
            "PA",
            "RI",
            "SC",
            "SD",
            "TN",
            "TX",
            "UT",
            "VT",
            "VA",
            "WA",
            "WV",
            "WI",
            "WY",
            "DC",
            "US"
           ],
           "type": "choropleth",
           "z": [
            4.8,
            6.7,
            3.1,
            3.2,
            6.7,
            3.8,
            5.7,
            3.9,
            6,
            4.8,
            3.6,
            1.8,
            3.4,
            3.3,
            2,
            2.1,
            2.8,
            4.6,
            3.8,
            4,
            3.3,
            3.6,
            1.2,
            4.4,
            2.1,
            2.6,
            3.3,
            4.2,
            2.2,
            4.9,
            3.2,
            6.3,
            3.5,
            2.5,
            2.6,
            2.8,
            3,
            4.3,
            2.7,
            4.8,
            2.3,
            3.9,
            4.3,
            2.9,
            4.5,
            4.1,
            2.6,
            2.7,
            2.2,
            2.2,
            5.8,
            4.3
           ]
          },
          {
           "customdata": [
            [
             68,
             "Alabama"
            ],
            [
             53,
             "Alaska"
            ],
            [
             76,
             "Arizona"
            ],
            [
             75,
             "Arkansas"
            ],
            [
             67,
             "California"
            ],
            [
             67,
             "Colorado"
            ],
            [
             60,
             "Connecticut"
            ],
            [
             64,
             "Delaware"
            ],
            [
             67,
             "Florida"
            ],
            [
             70,
             "Georgia"
            ],
            [
             78,
             "Hawaii"
            ],
            [
             75,
             "Idaho"
            ],
            [
             73,
             "Illinois"
            ],
            [
             75,
             "Indiana"
            ],
            [
             77,
             "Iowa"
            ],
            [
             71,
             "Kansas"
            ],
            [
             73,
             "Kentucky"
            ],
            [
             76,
             "Louisiana"
            ],
            [
             61,
             "Maine"
            ],
            [
             64,
             "Maryland"
            ],
            [
             71,
             "Massachusetts"
            ],
            [
             66,
             "Michigan"
            ],
            [
             77,
             "Minnesota"
            ],
            [
             74,
             "Mississippi"
            ],
            [
             76,
             "Missouri"
            ],
            [
             68,
             "Montana"
            ],
            [
             67,
             "Nebraska"
            ],
            [
             69,
             "Nevada"
            ],
            [
             74,
             "New Hampshire"
            ],
            [
             67,
             "New Jersey"
            ],
            [
             77,
             "New Mexico"
            ],
            [
             65,
             "New York"
            ],
            [
             77,
             "North Carolina"
            ],
            [
             74,
             "North Dakota"
            ],
            [
             78,
             "Ohio"
            ],
            [
             72,
             "Oklahoma"
            ],
            [
             72,
             "Oregon"
            ],
            [
             68,
             "Pennsylvania"
            ],
            [
             73,
             "Rhode Island"
            ],
            [
             68,
             "South Carolina"
            ],
            [
             77,
             "South Dakota"
            ],
            [
             68,
             "Tennessee"
            ],
            [
             73,
             "Texas"
            ],
            [
             62,
             "Utah"
            ],
            [
             65,
             "Vermont"
            ],
            [
             69,
             "Virginia"
            ],
            [
             70,
             "Washington"
            ],
            [
             81,
             "West Virginia"
            ],
            [
             73,
             "Wisconsin"
            ],
            [
             76,
             "Wyoming"
            ],
            [
             68,
             "District of Columbia"
            ],
            [
             70,
             "US"
            ]
           ],
           "hovertemplate": "<b>%{customdata[1]}</b><br>Child poverty rate: %{z}%<br>Poverty reduction: %{customdata[0]}%<extra></extra>",
           "locationmode": "USA-states",
           "locations": [
            "AL",
            "AK",
            "AZ",
            "AR",
            "CA",
            "CO",
            "CT",
            "DE",
            "FL",
            "GA",
            "HI",
            "ID",
            "IL",
            "IN",
            "IA",
            "KS",
            "KY",
            "LA",
            "ME",
            "MD",
            "MA",
            "MI",
            "MN",
            "MS",
            "MO",
            "MT",
            "NE",
            "NV",
            "NH",
            "NJ",
            "NM",
            "NY",
            "NC",
            "ND",
            "OH",
            "OK",
            "OR",
            "PA",
            "RI",
            "SC",
            "SD",
            "TN",
            "TX",
            "UT",
            "VT",
            "VA",
            "WA",
            "WV",
            "WI",
            "WY",
            "DC",
            "US"
           ],
           "type": "choropleth",
           "z": [
            4.8,
            6.7,
            3.1,
            3.1,
            6.5,
            3.8,
            5.4,
            3.7,
            6,
            4.6,
            3.5,
            1.8,
            3.4,
            3.2,
            1.9,
            2.1,
            2.8,
            4.6,
            3.7,
            4,
            3.1,
            3.6,
            1.2,
            4.4,
            2.1,
            2.6,
            3.2,
            4.2,
            2.1,
            4.6,
            3.2,
            6,
            3.4,
            2.5,
            2.5,
            2.8,
            2.9,
            4.2,
            2.7,
            4.8,
            2.1,
            3.9,
            4.2,
            2.9,
            4.4,
            4.1,
            2.6,
            2.6,
            2.2,
            2.2,
            5.5,
            4.2
           ]
          }
         ],
         "name": "500",
         "traces": [
          0,
          1,
          2
         ]
        }
       ],
       "layout": {
        "font": {
         "family": "Roboto"
        },
        "geo": {
         "scope": "usa"
        },
        "height": 600,
        "hoverlabel": {
         "bgcolor": "white",
         "font": {
          "family": "Roboto"
         }
        },
        "margin": {
         "b": 0,
         "l": 0,
         "r": 10,
         "t": 100
        },
        "plot_bgcolor": "white",
        "showlegend": false,
        "sliders": [
         {
          "active": 0,
          "currentvalue": {
           "font": {
            "size": 20
           },
           "prefix": "Monthly child allowance: ",
           "visible": true,
           "xanchor": "right"
          },
          "len": 0.9,
          "pad": {
           "b": 10,
           "t": 50
          },
          "steps": [
           {
            "args": [
             [
              0
             ],
             {
              "frame": {
               "duration": 300,
               "redraw": true
              },
              "mode": "immediate",
              "transition": {
               "duration": 300
              }
             }
            ],
            "label": "$0",
            "method": "animate"
           },
           {
            "args": [
             [
              50
             ],
             {
              "frame": {
               "duration": 300,
               "redraw": true
              },
              "mode": "immediate",
              "transition": {
               "duration": 300
              }
             }
            ],
            "label": "$50",
            "method": "animate"
           },
           {
            "args": [
             [
              100
             ],
             {
              "frame": {
               "duration": 300,
               "redraw": true
              },
              "mode": "immediate",
              "transition": {
               "duration": 300
              }
             }
            ],
            "label": "$100",
            "method": "animate"
           },
           {
            "args": [
             [
              150
             ],
             {
              "frame": {
               "duration": 300,
               "redraw": true
              },
              "mode": "immediate",
              "transition": {
               "duration": 300
              }
             }
            ],
            "label": "$150",
            "method": "animate"
           },
           {
            "args": [
             [
              200
             ],
             {
              "frame": {
               "duration": 300,
               "redraw": true
              },
              "mode": "immediate",
              "transition": {
               "duration": 300
              }
             }
            ],
            "label": "$200",
            "method": "animate"
           },
           {
            "args": [
             [
              250
             ],
             {
              "frame": {
               "duration": 300,
               "redraw": true
              },
              "mode": "immediate",
              "transition": {
               "duration": 300
              }
             }
            ],
            "label": "$250",
            "method": "animate"
           },
           {
            "args": [
             [
              300
             ],
             {
              "frame": {
               "duration": 300,
               "redraw": true
              },
              "mode": "immediate",
              "transition": {
               "duration": 300
              }
             }
            ],
            "label": "$300",
            "method": "animate"
           },
           {
            "args": [
             [
              350
             ],
             {
              "frame": {
               "duration": 300,
               "redraw": true
              },
              "mode": "immediate",
              "transition": {
               "duration": 300
              }
             }
            ],
            "label": "$350",
            "method": "animate"
           },
           {
            "args": [
             [
              400
             ],
             {
              "frame": {
               "duration": 300,
               "redraw": true
              },
              "mode": "immediate",
              "transition": {
               "duration": 300
              }
             }
            ],
            "label": "$400",
            "method": "animate"
           },
           {
            "args": [
             [
              450
             ],
             {
              "frame": {
               "duration": 300,
               "redraw": true
              },
              "mode": "immediate",
              "transition": {
               "duration": 300
              }
             }
            ],
            "label": "$450",
            "method": "animate"
           },
           {
            "args": [
             [
              500
             ],
             {
              "frame": {
               "duration": 300,
               "redraw": true
              },
              "mode": "immediate",
              "transition": {
               "duration": 300
              }
             }
            ],
            "label": "$500",
            "method": "animate"
           }
          ],
          "transition": {
           "duration": 300,
           "easing": "cubic-in-out"
          },
          "x": 0.1,
          "xanchor": "left",
          "y": 0,
          "yanchor": "top"
         }
        ],
        "template": {
         "data": {
          "bar": [
           {
            "error_x": {
             "color": "#2a3f5f"
            },
            "error_y": {
             "color": "#2a3f5f"
            },
            "marker": {
             "line": {
              "color": "#E5ECF6",
              "width": 0.5
             }
            },
            "type": "bar"
           }
          ],
          "barpolar": [
           {
            "marker": {
             "line": {
              "color": "#E5ECF6",
              "width": 0.5
             }
            },
            "type": "barpolar"
           }
          ],
          "carpet": [
           {
            "aaxis": {
             "endlinecolor": "#2a3f5f",
             "gridcolor": "white",
             "linecolor": "white",
             "minorgridcolor": "white",
             "startlinecolor": "#2a3f5f"
            },
            "baxis": {
             "endlinecolor": "#2a3f5f",
             "gridcolor": "white",
             "linecolor": "white",
             "minorgridcolor": "white",
             "startlinecolor": "#2a3f5f"
            },
            "type": "carpet"
           }
          ],
          "choropleth": [
           {
            "colorbar": {
             "outlinewidth": 0,
             "ticks": ""
            },
            "type": "choropleth"
           }
          ],
          "contour": [
           {
            "colorbar": {
             "outlinewidth": 0,
             "ticks": ""
            },
            "colorscale": [
             [
              0,
              "#0d0887"
             ],
             [
              0.1111111111111111,
              "#46039f"
             ],
             [
              0.2222222222222222,
              "#7201a8"
             ],
             [
              0.3333333333333333,
              "#9c179e"
             ],
             [
              0.4444444444444444,
              "#bd3786"
             ],
             [
              0.5555555555555556,
              "#d8576b"
             ],
             [
              0.6666666666666666,
              "#ed7953"
             ],
             [
              0.7777777777777778,
              "#fb9f3a"
             ],
             [
              0.8888888888888888,
              "#fdca26"
             ],
             [
              1,
              "#f0f921"
             ]
            ],
            "type": "contour"
           }
          ],
          "contourcarpet": [
           {
            "colorbar": {
             "outlinewidth": 0,
             "ticks": ""
            },
            "type": "contourcarpet"
           }
          ],
          "heatmap": [
           {
            "colorbar": {
             "outlinewidth": 0,
             "ticks": ""
            },
            "colorscale": [
             [
              0,
              "#0d0887"
             ],
             [
              0.1111111111111111,
              "#46039f"
             ],
             [
              0.2222222222222222,
              "#7201a8"
             ],
             [
              0.3333333333333333,
              "#9c179e"
             ],
             [
              0.4444444444444444,
              "#bd3786"
             ],
             [
              0.5555555555555556,
              "#d8576b"
             ],
             [
              0.6666666666666666,
              "#ed7953"
             ],
             [
              0.7777777777777778,
              "#fb9f3a"
             ],
             [
              0.8888888888888888,
              "#fdca26"
             ],
             [
              1,
              "#f0f921"
             ]
            ],
            "type": "heatmap"
           }
          ],
          "heatmapgl": [
           {
            "colorbar": {
             "outlinewidth": 0,
             "ticks": ""
            },
            "colorscale": [
             [
              0,
              "#0d0887"
             ],
             [
              0.1111111111111111,
              "#46039f"
             ],
             [
              0.2222222222222222,
              "#7201a8"
             ],
             [
              0.3333333333333333,
              "#9c179e"
             ],
             [
              0.4444444444444444,
              "#bd3786"
             ],
             [
              0.5555555555555556,
              "#d8576b"
             ],
             [
              0.6666666666666666,
              "#ed7953"
             ],
             [
              0.7777777777777778,
              "#fb9f3a"
             ],
             [
              0.8888888888888888,
              "#fdca26"
             ],
             [
              1,
              "#f0f921"
             ]
            ],
            "type": "heatmapgl"
           }
          ],
          "histogram": [
           {
            "marker": {
             "colorbar": {
              "outlinewidth": 0,
              "ticks": ""
             }
            },
            "type": "histogram"
           }
          ],
          "histogram2d": [
           {
            "colorbar": {
             "outlinewidth": 0,
             "ticks": ""
            },
            "colorscale": [
             [
              0,
              "#0d0887"
             ],
             [
              0.1111111111111111,
              "#46039f"
             ],
             [
              0.2222222222222222,
              "#7201a8"
             ],
             [
              0.3333333333333333,
              "#9c179e"
             ],
             [
              0.4444444444444444,
              "#bd3786"
             ],
             [
              0.5555555555555556,
              "#d8576b"
             ],
             [
              0.6666666666666666,
              "#ed7953"
             ],
             [
              0.7777777777777778,
              "#fb9f3a"
             ],
             [
              0.8888888888888888,
              "#fdca26"
             ],
             [
              1,
              "#f0f921"
             ]
            ],
            "type": "histogram2d"
           }
          ],
          "histogram2dcontour": [
           {
            "colorbar": {
             "outlinewidth": 0,
             "ticks": ""
            },
            "colorscale": [
             [
              0,
              "#0d0887"
             ],
             [
              0.1111111111111111,
              "#46039f"
             ],
             [
              0.2222222222222222,
              "#7201a8"
             ],
             [
              0.3333333333333333,
              "#9c179e"
             ],
             [
              0.4444444444444444,
              "#bd3786"
             ],
             [
              0.5555555555555556,
              "#d8576b"
             ],
             [
              0.6666666666666666,
              "#ed7953"
             ],
             [
              0.7777777777777778,
              "#fb9f3a"
             ],
             [
              0.8888888888888888,
              "#fdca26"
             ],
             [
              1,
              "#f0f921"
             ]
            ],
            "type": "histogram2dcontour"
           }
          ],
          "mesh3d": [
           {
            "colorbar": {
             "outlinewidth": 0,
             "ticks": ""
            },
            "type": "mesh3d"
           }
          ],
          "parcoords": [
           {
            "line": {
             "colorbar": {
              "outlinewidth": 0,
              "ticks": ""
             }
            },
            "type": "parcoords"
           }
          ],
          "pie": [
           {
            "automargin": true,
            "type": "pie"
           }
          ],
          "scatter": [
           {
            "marker": {
             "colorbar": {
              "outlinewidth": 0,
              "ticks": ""
             }
            },
            "type": "scatter"
           }
          ],
          "scatter3d": [
           {
            "line": {
             "colorbar": {
              "outlinewidth": 0,
              "ticks": ""
             }
            },
            "marker": {
             "colorbar": {
              "outlinewidth": 0,
              "ticks": ""
             }
            },
            "type": "scatter3d"
           }
          ],
          "scattercarpet": [
           {
            "marker": {
             "colorbar": {
              "outlinewidth": 0,
              "ticks": ""
             }
            },
            "type": "scattercarpet"
           }
          ],
          "scattergeo": [
           {
            "marker": {
             "colorbar": {
              "outlinewidth": 0,
              "ticks": ""
             }
            },
            "type": "scattergeo"
           }
          ],
          "scattergl": [
           {
            "marker": {
             "colorbar": {
              "outlinewidth": 0,
              "ticks": ""
             }
            },
            "type": "scattergl"
           }
          ],
          "scattermapbox": [
           {
            "marker": {
             "colorbar": {
              "outlinewidth": 0,
              "ticks": ""
             }
            },
            "type": "scattermapbox"
           }
          ],
          "scatterpolar": [
           {
            "marker": {
             "colorbar": {
              "outlinewidth": 0,
              "ticks": ""
             }
            },
            "type": "scatterpolar"
           }
          ],
          "scatterpolargl": [
           {
            "marker": {
             "colorbar": {
              "outlinewidth": 0,
              "ticks": ""
             }
            },
            "type": "scatterpolargl"
           }
          ],
          "scatterternary": [
           {
            "marker": {
             "colorbar": {
              "outlinewidth": 0,
              "ticks": ""
             }
            },
            "type": "scatterternary"
           }
          ],
          "surface": [
           {
            "colorbar": {
             "outlinewidth": 0,
             "ticks": ""
            },
            "colorscale": [
             [
              0,
              "#0d0887"
             ],
             [
              0.1111111111111111,
              "#46039f"
             ],
             [
              0.2222222222222222,
              "#7201a8"
             ],
             [
              0.3333333333333333,
              "#9c179e"
             ],
             [
              0.4444444444444444,
              "#bd3786"
             ],
             [
              0.5555555555555556,
              "#d8576b"
             ],
             [
              0.6666666666666666,
              "#ed7953"
             ],
             [
              0.7777777777777778,
              "#fb9f3a"
             ],
             [
              0.8888888888888888,
              "#fdca26"
             ],
             [
              1,
              "#f0f921"
             ]
            ],
            "type": "surface"
           }
          ],
          "table": [
           {
            "cells": {
             "fill": {
              "color": "#EBF0F8"
             },
             "line": {
              "color": "white"
             }
            },
            "header": {
             "fill": {
              "color": "#C8D4E3"
             },
             "line": {
              "color": "white"
             }
            },
            "type": "table"
           }
          ]
         },
         "layout": {
          "annotationdefaults": {
           "arrowcolor": "#2a3f5f",
           "arrowhead": 0,
           "arrowwidth": 1
          },
          "coloraxis": {
           "colorbar": {
            "outlinewidth": 0,
            "ticks": ""
           }
          },
          "colorscale": {
           "diverging": [
            [
             0,
             "#8e0152"
            ],
            [
             0.1,
             "#c51b7d"
            ],
            [
             0.2,
             "#de77ae"
            ],
            [
             0.3,
             "#f1b6da"
            ],
            [
             0.4,
             "#fde0ef"
            ],
            [
             0.5,
             "#f7f7f7"
            ],
            [
             0.6,
             "#e6f5d0"
            ],
            [
             0.7,
             "#b8e186"
            ],
            [
             0.8,
             "#7fbc41"
            ],
            [
             0.9,
             "#4d9221"
            ],
            [
             1,
             "#276419"
            ]
           ],
           "sequential": [
            [
             0,
             "#0d0887"
            ],
            [
             0.1111111111111111,
             "#46039f"
            ],
            [
             0.2222222222222222,
             "#7201a8"
            ],
            [
             0.3333333333333333,
             "#9c179e"
            ],
            [
             0.4444444444444444,
             "#bd3786"
            ],
            [
             0.5555555555555556,
             "#d8576b"
            ],
            [
             0.6666666666666666,
             "#ed7953"
            ],
            [
             0.7777777777777778,
             "#fb9f3a"
            ],
            [
             0.8888888888888888,
             "#fdca26"
            ],
            [
             1,
             "#f0f921"
            ]
           ],
           "sequentialminus": [
            [
             0,
             "#0d0887"
            ],
            [
             0.1111111111111111,
             "#46039f"
            ],
            [
             0.2222222222222222,
             "#7201a8"
            ],
            [
             0.3333333333333333,
             "#9c179e"
            ],
            [
             0.4444444444444444,
             "#bd3786"
            ],
            [
             0.5555555555555556,
             "#d8576b"
            ],
            [
             0.6666666666666666,
             "#ed7953"
            ],
            [
             0.7777777777777778,
             "#fb9f3a"
            ],
            [
             0.8888888888888888,
             "#fdca26"
            ],
            [
             1,
             "#f0f921"
            ]
           ]
          },
          "colorway": [
           "#636efa",
           "#EF553B",
           "#00cc96",
           "#ab63fa",
           "#FFA15A",
           "#19d3f3",
           "#FF6692",
           "#B6E880",
           "#FF97FF",
           "#FECB52"
          ],
          "font": {
           "color": "#2a3f5f"
          },
          "geo": {
           "bgcolor": "white",
           "lakecolor": "white",
           "landcolor": "#E5ECF6",
           "showlakes": true,
           "showland": true,
           "subunitcolor": "white"
          },
          "hoverlabel": {
           "align": "left"
          },
          "hovermode": "closest",
          "mapbox": {
           "style": "light"
          },
          "paper_bgcolor": "white",
          "plot_bgcolor": "#E5ECF6",
          "polar": {
           "angularaxis": {
            "gridcolor": "white",
            "linecolor": "white",
            "ticks": ""
           },
           "bgcolor": "#E5ECF6",
           "radialaxis": {
            "gridcolor": "white",
            "linecolor": "white",
            "ticks": ""
           }
          },
          "scene": {
           "xaxis": {
            "backgroundcolor": "#E5ECF6",
            "gridcolor": "white",
            "gridwidth": 2,
            "linecolor": "white",
            "showbackground": true,
            "ticks": "",
            "zerolinecolor": "white"
           },
           "yaxis": {
            "backgroundcolor": "#E5ECF6",
            "gridcolor": "white",
            "gridwidth": 2,
            "linecolor": "white",
            "showbackground": true,
            "ticks": "",
            "zerolinecolor": "white"
           },
           "zaxis": {
            "backgroundcolor": "#E5ECF6",
            "gridcolor": "white",
            "gridwidth": 2,
            "linecolor": "white",
            "showbackground": true,
            "ticks": "",
            "zerolinecolor": "white"
           }
          },
          "shapedefaults": {
           "line": {
            "color": "#2a3f5f"
           }
          },
          "ternary": {
           "aaxis": {
            "gridcolor": "white",
            "linecolor": "white",
            "ticks": ""
           },
           "baxis": {
            "gridcolor": "white",
            "linecolor": "white",
            "ticks": ""
           },
           "bgcolor": "#E5ECF6",
           "caxis": {
            "gridcolor": "white",
            "linecolor": "white",
            "ticks": ""
           }
          },
          "title": {
           "x": 0.05
          },
          "xaxis": {
           "automargin": true,
           "gridcolor": "white",
           "linecolor": "white",
           "ticks": "",
           "title": {
            "standoff": 15
           },
           "zerolinecolor": "white",
           "zerolinewidth": 2
          },
          "yaxis": {
           "automargin": true,
           "gridcolor": "white",
           "linecolor": "white",
           "ticks": "",
           "title": {
            "standoff": 15
           },
           "zerolinecolor": "white",
           "zerolinewidth": 2
          }
         }
        },
        "title": {
         "font": {
          "size": 20
         },
         "text": "Child poverty by state and child allowance amount",
         "x": 0.05,
         "xanchor": "left",
         "y": 0.97,
         "yanchor": "top"
        },
        "updatemenus": [
         {
          "buttons": [
           {
            "args": [
             null,
             {
              "frame": {
               "duration": 500,
               "redraw": true
              },
              "fromcurrent": true,
              "transition": {
               "duration": 300,
               "easing": "quadratic-in-out"
              }
             }
            ],
            "label": "&#9654;",
            "method": "animate"
           },
           {
            "args": [
             [
              null
             ],
             {
              "frame": {
               "duration": 0,
               "redraw": true
              },
              "mode": "immediate",
              "transition": {
               "duration": 0
              }
             }
            ],
            "label": "&#9724;",
            "method": "animate"
           }
          ],
          "direction": "left",
          "pad": {
           "r": 15,
           "t": 75
          },
          "showactive": true,
          "type": "buttons",
          "x": 0.1,
          "xanchor": "right",
          "y": 0,
          "yanchor": "top"
         },
         {
          "buttons": [
           {
            "args": [
             {
              "visible": [
               true,
               false,
               false
              ]
             }
            ],
            "label": "Federal tax",
            "method": "update"
           },
           {
            "args": [
             {
              "visible": [
               false,
               true,
               false
              ]
             }
            ],
            "label": "State tax",
            "method": "update"
           },
           {
            "args": [
             {
              "visible": [
               false,
               false,
               true
              ]
             }
            ],
            "label": "No funding",
            "method": "update"
           }
          ],
          "direction": "down",
          "pad": {
           "l": 50,
           "r": 10,
           "t": 20
          },
          "showactive": true,
          "x": 0,
          "xanchor": "left",
          "y": 1.2,
          "yanchor": "top"
         }
        ]
       }
      },
      "text/html": [
       "<div>\n",
       "        \n",
       "        \n",
       "            <div id=\"a835fafb-bf8f-4111-83a3-555db952ed76\" class=\"plotly-graph-div\" style=\"height:600px; width:100%;\"></div>\n",
       "            <script type=\"text/javascript\">\n",
       "                require([\"plotly\"], function(Plotly) {\n",
       "                    window.PLOTLYENV=window.PLOTLYENV || {};\n",
       "                    \n",
       "                if (document.getElementById(\"a835fafb-bf8f-4111-83a3-555db952ed76\")) {\n",
       "                    Plotly.newPlot(\n",
       "                        'a835fafb-bf8f-4111-83a3-555db952ed76',\n",
       "                        [{\"colorscale\": [[0.0, \"rgb(255,245,240)\"], [0.125, \"rgb(254,224,210)\"], [0.25, \"rgb(252,187,161)\"], [0.375, \"rgb(252,146,114)\"], [0.5, \"rgb(251,106,74)\"], [0.625, \"rgb(239,59,44)\"], [0.75, \"rgb(203,24,29)\"], [0.875, \"rgb(165,15,21)\"], [1.0, \"rgb(103,0,13)\"]], \"customdata\": [[0, \"Alabama\"], [0, \"Alaska\"], [0, \"Arizona\"], [0, \"Arkansas\"], [0, \"California\"], [0, \"Colorado\"], [0, \"Connecticut\"], [0, \"Delaware\"], [0, \"Florida\"], [0, \"Georgia\"], [0, \"Hawaii\"], [0, \"Idaho\"], [0, \"Illinois\"], [0, \"Indiana\"], [0, \"Iowa\"], [0, \"Kansas\"], [0, \"Kentucky\"], [0, \"Louisiana\"], [0, \"Maine\"], [0, \"Maryland\"], [0, \"Massachusetts\"], [0, \"Michigan\"], [0, \"Minnesota\"], [0, \"Mississippi\"], [0, \"Missouri\"], [0, \"Montana\"], [0, \"Nebraska\"], [0, \"Nevada\"], [0, \"New Hampshire\"], [0, \"New Jersey\"], [0, \"New Mexico\"], [0, \"New York\"], [0, \"North Carolina\"], [0, \"North Dakota\"], [0, \"Ohio\"], [0, \"Oklahoma\"], [0, \"Oregon\"], [0, \"Pennsylvania\"], [0, \"Rhode Island\"], [0, \"South Carolina\"], [0, \"South Dakota\"], [0, \"Tennessee\"], [0, \"Texas\"], [0, \"Utah\"], [0, \"Vermont\"], [0, \"Virginia\"], [0, \"Washington\"], [0, \"West Virginia\"], [0, \"Wisconsin\"], [0, \"Wyoming\"], [0, \"District of Columbia\"], [0, \"US\"]], \"hovertemplate\": \"<b>%{customdata[1]}</b><br>Child poverty rate: %{z}%<br>Poverty reduction: %{customdata[0]}%<extra></extra>\", \"locationmode\": \"USA-states\", \"locations\": [\"AL\", \"AK\", \"AZ\", \"AR\", \"CA\", \"CO\", \"CT\", \"DE\", \"FL\", \"GA\", \"HI\", \"ID\", \"IL\", \"IN\", \"IA\", \"KS\", \"KY\", \"LA\", \"ME\", \"MD\", \"MA\", \"MI\", \"MN\", \"MS\", \"MO\", \"MT\", \"NE\", \"NV\", \"NH\", \"NJ\", \"NM\", \"NY\", \"NC\", \"ND\", \"OH\", \"OK\", \"OR\", \"PA\", \"RI\", \"SC\", \"SD\", \"TN\", \"TX\", \"UT\", \"VT\", \"VA\", \"WA\", \"WV\", \"WI\", \"WY\", \"DC\", \"US\"], \"showscale\": false, \"type\": \"choropleth\", \"z\": [14.8, 14.3, 13.0, 12.5, 19.6, 11.4, 13.6, 10.4, 18.4, 15.5, 15.6, 7.1, 12.5, 12.6, 8.1, 7.3, 10.3, 19.5, 9.6, 11.2, 10.7, 10.5, 5.3, 17.0, 8.8, 8.0, 9.7, 13.7, 8.1, 13.8, 13.9, 17.2, 14.9, 9.8, 11.3, 10.1, 10.3, 13.0, 10.1, 15.1, 9.1, 12.1, 15.3, 7.6, 12.4, 13.4, 8.8, 13.4, 8.2, 9.3, 17.3, 13.9], \"zmax\": 22, \"zmin\": 0}, {\"colorscale\": [[0.0, \"rgb(255,245,240)\"], [0.125, \"rgb(254,224,210)\"], [0.25, \"rgb(252,187,161)\"], [0.375, \"rgb(252,146,114)\"], [0.5, \"rgb(251,106,74)\"], [0.625, \"rgb(239,59,44)\"], [0.75, \"rgb(203,24,29)\"], [0.875, \"rgb(165,15,21)\"], [1.0, \"rgb(103,0,13)\"]], \"customdata\": [[0, \"Alabama\"], [0, \"Alaska\"], [0, \"Arizona\"], [0, \"Arkansas\"], [0, \"California\"], [0, \"Colorado\"], [0, \"Connecticut\"], [0, \"Delaware\"], [0, \"Florida\"], [0, \"Georgia\"], [0, \"Hawaii\"], [0, \"Idaho\"], [0, \"Illinois\"], [0, \"Indiana\"], [0, \"Iowa\"], [0, \"Kansas\"], [0, \"Kentucky\"], [0, \"Louisiana\"], [0, \"Maine\"], [0, \"Maryland\"], [0, \"Massachusetts\"], [0, \"Michigan\"], [0, \"Minnesota\"], [0, \"Mississippi\"], [0, \"Missouri\"], [0, \"Montana\"], [0, \"Nebraska\"], [0, \"Nevada\"], [0, \"New Hampshire\"], [0, \"New Jersey\"], [0, \"New Mexico\"], [0, \"New York\"], [0, \"North Carolina\"], [0, \"North Dakota\"], [0, \"Ohio\"], [0, \"Oklahoma\"], [0, \"Oregon\"], [0, \"Pennsylvania\"], [0, \"Rhode Island\"], [0, \"South Carolina\"], [0, \"South Dakota\"], [0, \"Tennessee\"], [0, \"Texas\"], [0, \"Utah\"], [0, \"Vermont\"], [0, \"Virginia\"], [0, \"Washington\"], [0, \"West Virginia\"], [0, \"Wisconsin\"], [0, \"Wyoming\"], [0, \"District of Columbia\"], [0, \"US\"]], \"hovertemplate\": \"<b>%{customdata[1]}</b><br>Child poverty rate: %{z}%<br>Poverty reduction: %{customdata[0]}%<extra></extra>\", \"locationmode\": \"USA-states\", \"locations\": [\"AL\", \"AK\", \"AZ\", \"AR\", \"CA\", \"CO\", \"CT\", \"DE\", \"FL\", \"GA\", \"HI\", \"ID\", \"IL\", \"IN\", \"IA\", \"KS\", \"KY\", \"LA\", \"ME\", \"MD\", \"MA\", \"MI\", \"MN\", \"MS\", \"MO\", \"MT\", \"NE\", \"NV\", \"NH\", \"NJ\", \"NM\", \"NY\", \"NC\", \"ND\", \"OH\", \"OK\", \"OR\", \"PA\", \"RI\", \"SC\", \"SD\", \"TN\", \"TX\", \"UT\", \"VT\", \"VA\", \"WA\", \"WV\", \"WI\", \"WY\", \"DC\", \"US\"], \"showscale\": false, \"type\": \"choropleth\", \"z\": [14.8, 14.3, 13.0, 12.5, 19.6, 11.4, 13.6, 10.4, 18.4, 15.5, 15.6, 7.1, 12.5, 12.6, 8.1, 7.3, 10.3, 19.5, 9.6, 11.2, 10.7, 10.5, 5.3, 17.0, 8.8, 8.0, 9.7, 13.7, 8.1, 13.8, 13.9, 17.2, 14.9, 9.8, 11.3, 10.1, 10.3, 13.0, 10.1, 15.1, 9.1, 12.1, 15.3, 7.6, 12.4, 13.4, 8.8, 13.4, 8.2, 9.3, 17.3, 13.9], \"zmax\": 22, \"zmin\": 0}, {\"colorscale\": [[0.0, \"rgb(255,245,240)\"], [0.125, \"rgb(254,224,210)\"], [0.25, \"rgb(252,187,161)\"], [0.375, \"rgb(252,146,114)\"], [0.5, \"rgb(251,106,74)\"], [0.625, \"rgb(239,59,44)\"], [0.75, \"rgb(203,24,29)\"], [0.875, \"rgb(165,15,21)\"], [1.0, \"rgb(103,0,13)\"]], \"customdata\": [[0, \"Alabama\"], [0, \"Alaska\"], [0, \"Arizona\"], [0, \"Arkansas\"], [0, \"California\"], [0, \"Colorado\"], [0, \"Connecticut\"], [0, \"Delaware\"], [0, \"Florida\"], [0, \"Georgia\"], [0, \"Hawaii\"], [0, \"Idaho\"], [0, \"Illinois\"], [0, \"Indiana\"], [0, \"Iowa\"], [0, \"Kansas\"], [0, \"Kentucky\"], [0, \"Louisiana\"], [0, \"Maine\"], [0, \"Maryland\"], [0, \"Massachusetts\"], [0, \"Michigan\"], [0, \"Minnesota\"], [0, \"Mississippi\"], [0, \"Missouri\"], [0, \"Montana\"], [0, \"Nebraska\"], [0, \"Nevada\"], [0, \"New Hampshire\"], [0, \"New Jersey\"], [0, \"New Mexico\"], [0, \"New York\"], [0, \"North Carolina\"], [0, \"North Dakota\"], [0, \"Ohio\"], [0, \"Oklahoma\"], [0, \"Oregon\"], [0, \"Pennsylvania\"], [0, \"Rhode Island\"], [0, \"South Carolina\"], [0, \"South Dakota\"], [0, \"Tennessee\"], [0, \"Texas\"], [0, \"Utah\"], [0, \"Vermont\"], [0, \"Virginia\"], [0, \"Washington\"], [0, \"West Virginia\"], [0, \"Wisconsin\"], [0, \"Wyoming\"], [0, \"District of Columbia\"], [0, \"US\"]], \"hovertemplate\": \"<b>%{customdata[1]}</b><br>Child poverty rate: %{z}%<br>Poverty reduction: %{customdata[0]}%<extra></extra>\", \"locationmode\": \"USA-states\", \"locations\": [\"AL\", \"AK\", \"AZ\", \"AR\", \"CA\", \"CO\", \"CT\", \"DE\", \"FL\", \"GA\", \"HI\", \"ID\", \"IL\", \"IN\", \"IA\", \"KS\", \"KY\", \"LA\", \"ME\", \"MD\", \"MA\", \"MI\", \"MN\", \"MS\", \"MO\", \"MT\", \"NE\", \"NV\", \"NH\", \"NJ\", \"NM\", \"NY\", \"NC\", \"ND\", \"OH\", \"OK\", \"OR\", \"PA\", \"RI\", \"SC\", \"SD\", \"TN\", \"TX\", \"UT\", \"VT\", \"VA\", \"WA\", \"WV\", \"WI\", \"WY\", \"DC\", \"US\"], \"showscale\": false, \"type\": \"choropleth\", \"z\": [14.8, 14.3, 13.0, 12.5, 19.6, 11.4, 13.6, 10.4, 18.4, 15.5, 15.6, 7.1, 12.5, 12.6, 8.1, 7.3, 10.3, 19.5, 9.6, 11.2, 10.7, 10.5, 5.3, 17.0, 8.8, 8.0, 9.7, 13.7, 8.1, 13.8, 13.9, 17.2, 14.9, 9.8, 11.3, 10.1, 10.3, 13.0, 10.1, 15.1, 9.1, 12.1, 15.3, 7.6, 12.4, 13.4, 8.8, 13.4, 8.2, 9.3, 17.3, 13.9], \"zmax\": 22, \"zmin\": 0}],\n",
       "                        {\"font\": {\"family\": \"Roboto\"}, \"geo\": {\"scope\": \"usa\"}, \"height\": 600, \"hoverlabel\": {\"bgcolor\": \"white\", \"font\": {\"family\": \"Roboto\"}}, \"margin\": {\"b\": 0, \"l\": 0, \"r\": 10, \"t\": 100}, \"plot_bgcolor\": \"white\", \"showlegend\": false, \"sliders\": [{\"active\": 0, \"currentvalue\": {\"font\": {\"size\": 20}, \"prefix\": \"Monthly child allowance: \", \"visible\": true, \"xanchor\": \"right\"}, \"len\": 0.9, \"pad\": {\"b\": 10, \"t\": 50}, \"steps\": [{\"args\": [[0], {\"frame\": {\"duration\": 300, \"redraw\": true}, \"mode\": \"immediate\", \"transition\": {\"duration\": 300}}], \"label\": \"$0\", \"method\": \"animate\"}, {\"args\": [[50], {\"frame\": {\"duration\": 300, \"redraw\": true}, \"mode\": \"immediate\", \"transition\": {\"duration\": 300}}], \"label\": \"$50\", \"method\": \"animate\"}, {\"args\": [[100], {\"frame\": {\"duration\": 300, \"redraw\": true}, \"mode\": \"immediate\", \"transition\": {\"duration\": 300}}], \"label\": \"$100\", \"method\": \"animate\"}, {\"args\": [[150], {\"frame\": {\"duration\": 300, \"redraw\": true}, \"mode\": \"immediate\", \"transition\": {\"duration\": 300}}], \"label\": \"$150\", \"method\": \"animate\"}, {\"args\": [[200], {\"frame\": {\"duration\": 300, \"redraw\": true}, \"mode\": \"immediate\", \"transition\": {\"duration\": 300}}], \"label\": \"$200\", \"method\": \"animate\"}, {\"args\": [[250], {\"frame\": {\"duration\": 300, \"redraw\": true}, \"mode\": \"immediate\", \"transition\": {\"duration\": 300}}], \"label\": \"$250\", \"method\": \"animate\"}, {\"args\": [[300], {\"frame\": {\"duration\": 300, \"redraw\": true}, \"mode\": \"immediate\", \"transition\": {\"duration\": 300}}], \"label\": \"$300\", \"method\": \"animate\"}, {\"args\": [[350], {\"frame\": {\"duration\": 300, \"redraw\": true}, \"mode\": \"immediate\", \"transition\": {\"duration\": 300}}], \"label\": \"$350\", \"method\": \"animate\"}, {\"args\": [[400], {\"frame\": {\"duration\": 300, \"redraw\": true}, \"mode\": \"immediate\", \"transition\": {\"duration\": 300}}], \"label\": \"$400\", \"method\": \"animate\"}, {\"args\": [[450], {\"frame\": {\"duration\": 300, \"redraw\": true}, \"mode\": \"immediate\", \"transition\": {\"duration\": 300}}], \"label\": \"$450\", \"method\": \"animate\"}, {\"args\": [[500], {\"frame\": {\"duration\": 300, \"redraw\": true}, \"mode\": \"immediate\", \"transition\": {\"duration\": 300}}], \"label\": \"$500\", \"method\": \"animate\"}], \"transition\": {\"duration\": 300, \"easing\": \"cubic-in-out\"}, \"x\": 0.1, \"xanchor\": \"left\", \"y\": 0, \"yanchor\": \"top\"}], \"template\": {\"data\": {\"bar\": [{\"error_x\": {\"color\": \"#2a3f5f\"}, \"error_y\": {\"color\": \"#2a3f5f\"}, \"marker\": {\"line\": {\"color\": \"#E5ECF6\", \"width\": 0.5}}, \"type\": \"bar\"}], \"barpolar\": [{\"marker\": {\"line\": {\"color\": \"#E5ECF6\", \"width\": 0.5}}, \"type\": \"barpolar\"}], \"carpet\": [{\"aaxis\": {\"endlinecolor\": \"#2a3f5f\", \"gridcolor\": \"white\", \"linecolor\": \"white\", \"minorgridcolor\": \"white\", \"startlinecolor\": \"#2a3f5f\"}, \"baxis\": {\"endlinecolor\": \"#2a3f5f\", \"gridcolor\": \"white\", \"linecolor\": \"white\", \"minorgridcolor\": \"white\", \"startlinecolor\": \"#2a3f5f\"}, \"type\": \"carpet\"}], \"choropleth\": [{\"colorbar\": {\"outlinewidth\": 0, \"ticks\": \"\"}, \"type\": \"choropleth\"}], \"contour\": [{\"colorbar\": {\"outlinewidth\": 0, \"ticks\": \"\"}, \"colorscale\": [[0.0, \"#0d0887\"], [0.1111111111111111, \"#46039f\"], [0.2222222222222222, \"#7201a8\"], [0.3333333333333333, \"#9c179e\"], [0.4444444444444444, \"#bd3786\"], [0.5555555555555556, \"#d8576b\"], [0.6666666666666666, \"#ed7953\"], [0.7777777777777778, \"#fb9f3a\"], [0.8888888888888888, \"#fdca26\"], [1.0, \"#f0f921\"]], \"type\": \"contour\"}], \"contourcarpet\": [{\"colorbar\": {\"outlinewidth\": 0, \"ticks\": \"\"}, \"type\": \"contourcarpet\"}], \"heatmap\": [{\"colorbar\": {\"outlinewidth\": 0, \"ticks\": \"\"}, \"colorscale\": [[0.0, \"#0d0887\"], [0.1111111111111111, \"#46039f\"], [0.2222222222222222, \"#7201a8\"], [0.3333333333333333, \"#9c179e\"], [0.4444444444444444, \"#bd3786\"], [0.5555555555555556, \"#d8576b\"], [0.6666666666666666, \"#ed7953\"], [0.7777777777777778, \"#fb9f3a\"], [0.8888888888888888, \"#fdca26\"], [1.0, \"#f0f921\"]], \"type\": \"heatmap\"}], \"heatmapgl\": [{\"colorbar\": {\"outlinewidth\": 0, \"ticks\": \"\"}, \"colorscale\": [[0.0, \"#0d0887\"], [0.1111111111111111, \"#46039f\"], [0.2222222222222222, \"#7201a8\"], [0.3333333333333333, \"#9c179e\"], [0.4444444444444444, \"#bd3786\"], [0.5555555555555556, \"#d8576b\"], [0.6666666666666666, \"#ed7953\"], [0.7777777777777778, \"#fb9f3a\"], [0.8888888888888888, \"#fdca26\"], [1.0, \"#f0f921\"]], \"type\": \"heatmapgl\"}], \"histogram\": [{\"marker\": {\"colorbar\": {\"outlinewidth\": 0, \"ticks\": \"\"}}, \"type\": \"histogram\"}], \"histogram2d\": [{\"colorbar\": {\"outlinewidth\": 0, \"ticks\": \"\"}, \"colorscale\": [[0.0, \"#0d0887\"], [0.1111111111111111, \"#46039f\"], [0.2222222222222222, \"#7201a8\"], [0.3333333333333333, \"#9c179e\"], [0.4444444444444444, \"#bd3786\"], [0.5555555555555556, \"#d8576b\"], [0.6666666666666666, \"#ed7953\"], [0.7777777777777778, \"#fb9f3a\"], [0.8888888888888888, \"#fdca26\"], [1.0, \"#f0f921\"]], \"type\": \"histogram2d\"}], \"histogram2dcontour\": [{\"colorbar\": {\"outlinewidth\": 0, \"ticks\": \"\"}, \"colorscale\": [[0.0, \"#0d0887\"], [0.1111111111111111, \"#46039f\"], [0.2222222222222222, \"#7201a8\"], [0.3333333333333333, \"#9c179e\"], [0.4444444444444444, \"#bd3786\"], [0.5555555555555556, \"#d8576b\"], [0.6666666666666666, \"#ed7953\"], [0.7777777777777778, \"#fb9f3a\"], [0.8888888888888888, \"#fdca26\"], [1.0, \"#f0f921\"]], \"type\": \"histogram2dcontour\"}], \"mesh3d\": [{\"colorbar\": {\"outlinewidth\": 0, \"ticks\": \"\"}, \"type\": \"mesh3d\"}], \"parcoords\": [{\"line\": {\"colorbar\": {\"outlinewidth\": 0, \"ticks\": \"\"}}, \"type\": \"parcoords\"}], \"pie\": [{\"automargin\": true, \"type\": \"pie\"}], \"scatter\": [{\"marker\": {\"colorbar\": {\"outlinewidth\": 0, \"ticks\": \"\"}}, \"type\": \"scatter\"}], \"scatter3d\": [{\"line\": {\"colorbar\": {\"outlinewidth\": 0, \"ticks\": \"\"}}, \"marker\": {\"colorbar\": {\"outlinewidth\": 0, \"ticks\": \"\"}}, \"type\": \"scatter3d\"}], \"scattercarpet\": [{\"marker\": {\"colorbar\": {\"outlinewidth\": 0, \"ticks\": \"\"}}, \"type\": \"scattercarpet\"}], \"scattergeo\": [{\"marker\": {\"colorbar\": {\"outlinewidth\": 0, \"ticks\": \"\"}}, \"type\": \"scattergeo\"}], \"scattergl\": [{\"marker\": {\"colorbar\": {\"outlinewidth\": 0, \"ticks\": \"\"}}, \"type\": \"scattergl\"}], \"scattermapbox\": [{\"marker\": {\"colorbar\": {\"outlinewidth\": 0, \"ticks\": \"\"}}, \"type\": \"scattermapbox\"}], \"scatterpolar\": [{\"marker\": {\"colorbar\": {\"outlinewidth\": 0, \"ticks\": \"\"}}, \"type\": \"scatterpolar\"}], \"scatterpolargl\": [{\"marker\": {\"colorbar\": {\"outlinewidth\": 0, \"ticks\": \"\"}}, \"type\": \"scatterpolargl\"}], \"scatterternary\": [{\"marker\": {\"colorbar\": {\"outlinewidth\": 0, \"ticks\": \"\"}}, \"type\": \"scatterternary\"}], \"surface\": [{\"colorbar\": {\"outlinewidth\": 0, \"ticks\": \"\"}, \"colorscale\": [[0.0, \"#0d0887\"], [0.1111111111111111, \"#46039f\"], [0.2222222222222222, \"#7201a8\"], [0.3333333333333333, \"#9c179e\"], [0.4444444444444444, \"#bd3786\"], [0.5555555555555556, \"#d8576b\"], [0.6666666666666666, \"#ed7953\"], [0.7777777777777778, \"#fb9f3a\"], [0.8888888888888888, \"#fdca26\"], [1.0, \"#f0f921\"]], \"type\": \"surface\"}], \"table\": [{\"cells\": {\"fill\": {\"color\": \"#EBF0F8\"}, \"line\": {\"color\": \"white\"}}, \"header\": {\"fill\": {\"color\": \"#C8D4E3\"}, \"line\": {\"color\": \"white\"}}, \"type\": \"table\"}]}, \"layout\": {\"annotationdefaults\": {\"arrowcolor\": \"#2a3f5f\", \"arrowhead\": 0, \"arrowwidth\": 1}, \"coloraxis\": {\"colorbar\": {\"outlinewidth\": 0, \"ticks\": \"\"}}, \"colorscale\": {\"diverging\": [[0, \"#8e0152\"], [0.1, \"#c51b7d\"], [0.2, \"#de77ae\"], [0.3, \"#f1b6da\"], [0.4, \"#fde0ef\"], [0.5, \"#f7f7f7\"], [0.6, \"#e6f5d0\"], [0.7, \"#b8e186\"], [0.8, \"#7fbc41\"], [0.9, \"#4d9221\"], [1, \"#276419\"]], \"sequential\": [[0.0, \"#0d0887\"], [0.1111111111111111, \"#46039f\"], [0.2222222222222222, \"#7201a8\"], [0.3333333333333333, \"#9c179e\"], [0.4444444444444444, \"#bd3786\"], [0.5555555555555556, \"#d8576b\"], [0.6666666666666666, \"#ed7953\"], [0.7777777777777778, \"#fb9f3a\"], [0.8888888888888888, \"#fdca26\"], [1.0, \"#f0f921\"]], \"sequentialminus\": [[0.0, \"#0d0887\"], [0.1111111111111111, \"#46039f\"], [0.2222222222222222, \"#7201a8\"], [0.3333333333333333, \"#9c179e\"], [0.4444444444444444, \"#bd3786\"], [0.5555555555555556, \"#d8576b\"], [0.6666666666666666, \"#ed7953\"], [0.7777777777777778, \"#fb9f3a\"], [0.8888888888888888, \"#fdca26\"], [1.0, \"#f0f921\"]]}, \"colorway\": [\"#636efa\", \"#EF553B\", \"#00cc96\", \"#ab63fa\", \"#FFA15A\", \"#19d3f3\", \"#FF6692\", \"#B6E880\", \"#FF97FF\", \"#FECB52\"], \"font\": {\"color\": \"#2a3f5f\"}, \"geo\": {\"bgcolor\": \"white\", \"lakecolor\": \"white\", \"landcolor\": \"#E5ECF6\", \"showlakes\": true, \"showland\": true, \"subunitcolor\": \"white\"}, \"hoverlabel\": {\"align\": \"left\"}, \"hovermode\": \"closest\", \"mapbox\": {\"style\": \"light\"}, \"paper_bgcolor\": \"white\", \"plot_bgcolor\": \"#E5ECF6\", \"polar\": {\"angularaxis\": {\"gridcolor\": \"white\", \"linecolor\": \"white\", \"ticks\": \"\"}, \"bgcolor\": \"#E5ECF6\", \"radialaxis\": {\"gridcolor\": \"white\", \"linecolor\": \"white\", \"ticks\": \"\"}}, \"scene\": {\"xaxis\": {\"backgroundcolor\": \"#E5ECF6\", \"gridcolor\": \"white\", \"gridwidth\": 2, \"linecolor\": \"white\", \"showbackground\": true, \"ticks\": \"\", \"zerolinecolor\": \"white\"}, \"yaxis\": {\"backgroundcolor\": \"#E5ECF6\", \"gridcolor\": \"white\", \"gridwidth\": 2, \"linecolor\": \"white\", \"showbackground\": true, \"ticks\": \"\", \"zerolinecolor\": \"white\"}, \"zaxis\": {\"backgroundcolor\": \"#E5ECF6\", \"gridcolor\": \"white\", \"gridwidth\": 2, \"linecolor\": \"white\", \"showbackground\": true, \"ticks\": \"\", \"zerolinecolor\": \"white\"}}, \"shapedefaults\": {\"line\": {\"color\": \"#2a3f5f\"}}, \"ternary\": {\"aaxis\": {\"gridcolor\": \"white\", \"linecolor\": \"white\", \"ticks\": \"\"}, \"baxis\": {\"gridcolor\": \"white\", \"linecolor\": \"white\", \"ticks\": \"\"}, \"bgcolor\": \"#E5ECF6\", \"caxis\": {\"gridcolor\": \"white\", \"linecolor\": \"white\", \"ticks\": \"\"}}, \"title\": {\"x\": 0.05}, \"xaxis\": {\"automargin\": true, \"gridcolor\": \"white\", \"linecolor\": \"white\", \"ticks\": \"\", \"title\": {\"standoff\": 15}, \"zerolinecolor\": \"white\", \"zerolinewidth\": 2}, \"yaxis\": {\"automargin\": true, \"gridcolor\": \"white\", \"linecolor\": \"white\", \"ticks\": \"\", \"title\": {\"standoff\": 15}, \"zerolinecolor\": \"white\", \"zerolinewidth\": 2}}}, \"title\": {\"font\": {\"size\": 20}, \"text\": \"Child poverty by state and child allowance amount\", \"x\": 0.05, \"xanchor\": \"left\", \"y\": 0.97, \"yanchor\": \"top\"}, \"updatemenus\": [{\"buttons\": [{\"args\": [null, {\"frame\": {\"duration\": 500, \"redraw\": true}, \"fromcurrent\": true, \"transition\": {\"duration\": 300, \"easing\": \"quadratic-in-out\"}}], \"label\": \"&#9654;\", \"method\": \"animate\"}, {\"args\": [[null], {\"frame\": {\"duration\": 0, \"redraw\": true}, \"mode\": \"immediate\", \"transition\": {\"duration\": 0}}], \"label\": \"&#9724;\", \"method\": \"animate\"}], \"direction\": \"left\", \"pad\": {\"r\": 15, \"t\": 75}, \"showactive\": true, \"type\": \"buttons\", \"x\": 0.1, \"xanchor\": \"right\", \"y\": 0, \"yanchor\": \"top\"}, {\"buttons\": [{\"args\": [{\"visible\": [true, false, false]}], \"label\": \"Federal tax\", \"method\": \"update\"}, {\"args\": [{\"visible\": [false, true, false]}], \"label\": \"State tax\", \"method\": \"update\"}, {\"args\": [{\"visible\": [false, false, true]}], \"label\": \"No funding\", \"method\": \"update\"}], \"direction\": \"down\", \"pad\": {\"l\": 50, \"r\": 10, \"t\": 20}, \"showactive\": true, \"x\": 0, \"xanchor\": \"left\", \"y\": 1.2, \"yanchor\": \"top\"}]},\n",
       "                        {\"displayModeBar\": false, \"responsive\": true}\n",
       "                    ).then(function(){\n",
       "                            Plotly.addFrames('a835fafb-bf8f-4111-83a3-555db952ed76', [{\"data\": [{\"customdata\": [[0, \"Alabama\"], [0, \"Alaska\"], [0, \"Arizona\"], [0, \"Arkansas\"], [0, \"California\"], [0, \"Colorado\"], [0, \"Connecticut\"], [0, \"Delaware\"], [0, \"Florida\"], [0, \"Georgia\"], [0, \"Hawaii\"], [0, \"Idaho\"], [0, \"Illinois\"], [0, \"Indiana\"], [0, \"Iowa\"], [0, \"Kansas\"], [0, \"Kentucky\"], [0, \"Louisiana\"], [0, \"Maine\"], [0, \"Maryland\"], [0, \"Massachusetts\"], [0, \"Michigan\"], [0, \"Minnesota\"], [0, \"Mississippi\"], [0, \"Missouri\"], [0, \"Montana\"], [0, \"Nebraska\"], [0, \"Nevada\"], [0, \"New Hampshire\"], [0, \"New Jersey\"], [0, \"New Mexico\"], [0, \"New York\"], [0, \"North Carolina\"], [0, \"North Dakota\"], [0, \"Ohio\"], [0, \"Oklahoma\"], [0, \"Oregon\"], [0, \"Pennsylvania\"], [0, \"Rhode Island\"], [0, \"South Carolina\"], [0, \"South Dakota\"], [0, \"Tennessee\"], [0, \"Texas\"], [0, \"Utah\"], [0, \"Vermont\"], [0, \"Virginia\"], [0, \"Washington\"], [0, \"West Virginia\"], [0, \"Wisconsin\"], [0, \"Wyoming\"], [0, \"District of Columbia\"], [0, \"US\"]], \"hovertemplate\": \"<b>%{customdata[1]}</b><br>Child poverty rate: %{z}%<br>Poverty reduction: %{customdata[0]}%<extra></extra>\", \"locationmode\": \"USA-states\", \"locations\": [\"AL\", \"AK\", \"AZ\", \"AR\", \"CA\", \"CO\", \"CT\", \"DE\", \"FL\", \"GA\", \"HI\", \"ID\", \"IL\", \"IN\", \"IA\", \"KS\", \"KY\", \"LA\", \"ME\", \"MD\", \"MA\", \"MI\", \"MN\", \"MS\", \"MO\", \"MT\", \"NE\", \"NV\", \"NH\", \"NJ\", \"NM\", \"NY\", \"NC\", \"ND\", \"OH\", \"OK\", \"OR\", \"PA\", \"RI\", \"SC\", \"SD\", \"TN\", \"TX\", \"UT\", \"VT\", \"VA\", \"WA\", \"WV\", \"WI\", \"WY\", \"DC\", \"US\"], \"z\": [14.8, 14.3, 13.0, 12.5, 19.6, 11.4, 13.6, 10.4, 18.4, 15.5, 15.6, 7.1, 12.5, 12.6, 8.1, 7.3, 10.3, 19.5, 9.6, 11.2, 10.7, 10.5, 5.3, 17.0, 8.8, 8.0, 9.7, 13.7, 8.1, 13.8, 13.9, 17.2, 14.9, 9.8, 11.3, 10.1, 10.3, 13.0, 10.1, 15.1, 9.1, 12.1, 15.3, 7.6, 12.4, 13.4, 8.8, 13.4, 8.2, 9.3, 17.3, 13.9], \"type\": \"choropleth\"}, {\"customdata\": [[0, \"Alabama\"], [0, \"Alaska\"], [0, \"Arizona\"], [0, \"Arkansas\"], [0, \"California\"], [0, \"Colorado\"], [0, \"Connecticut\"], [0, \"Delaware\"], [0, \"Florida\"], [0, \"Georgia\"], [0, \"Hawaii\"], [0, \"Idaho\"], [0, \"Illinois\"], [0, \"Indiana\"], [0, \"Iowa\"], [0, \"Kansas\"], [0, \"Kentucky\"], [0, \"Louisiana\"], [0, \"Maine\"], [0, \"Maryland\"], [0, \"Massachusetts\"], [0, \"Michigan\"], [0, \"Minnesota\"], [0, \"Mississippi\"], [0, \"Missouri\"], [0, \"Montana\"], [0, \"Nebraska\"], [0, \"Nevada\"], [0, \"New Hampshire\"], [0, \"New Jersey\"], [0, \"New Mexico\"], [0, \"New York\"], [0, \"North Carolina\"], [0, \"North Dakota\"], [0, \"Ohio\"], [0, \"Oklahoma\"], [0, \"Oregon\"], [0, \"Pennsylvania\"], [0, \"Rhode Island\"], [0, \"South Carolina\"], [0, \"South Dakota\"], [0, \"Tennessee\"], [0, \"Texas\"], [0, \"Utah\"], [0, \"Vermont\"], [0, \"Virginia\"], [0, \"Washington\"], [0, \"West Virginia\"], [0, \"Wisconsin\"], [0, \"Wyoming\"], [0, \"District of Columbia\"], [0, \"US\"]], \"hovertemplate\": \"<b>%{customdata[1]}</b><br>Child poverty rate: %{z}%<br>Poverty reduction: %{customdata[0]}%<extra></extra>\", \"locationmode\": \"USA-states\", \"locations\": [\"AL\", \"AK\", \"AZ\", \"AR\", \"CA\", \"CO\", \"CT\", \"DE\", \"FL\", \"GA\", \"HI\", \"ID\", \"IL\", \"IN\", \"IA\", \"KS\", \"KY\", \"LA\", \"ME\", \"MD\", \"MA\", \"MI\", \"MN\", \"MS\", \"MO\", \"MT\", \"NE\", \"NV\", \"NH\", \"NJ\", \"NM\", \"NY\", \"NC\", \"ND\", \"OH\", \"OK\", \"OR\", \"PA\", \"RI\", \"SC\", \"SD\", \"TN\", \"TX\", \"UT\", \"VT\", \"VA\", \"WA\", \"WV\", \"WI\", \"WY\", \"DC\", \"US\"], \"z\": [14.8, 14.3, 13.0, 12.5, 19.6, 11.4, 13.6, 10.4, 18.4, 15.5, 15.6, 7.1, 12.5, 12.6, 8.1, 7.3, 10.3, 19.5, 9.6, 11.2, 10.7, 10.5, 5.3, 17.0, 8.8, 8.0, 9.7, 13.7, 8.1, 13.8, 13.9, 17.2, 14.9, 9.8, 11.3, 10.1, 10.3, 13.0, 10.1, 15.1, 9.1, 12.1, 15.3, 7.6, 12.4, 13.4, 8.8, 13.4, 8.2, 9.3, 17.3, 13.9], \"type\": \"choropleth\"}, {\"customdata\": [[0, \"Alabama\"], [0, \"Alaska\"], [0, \"Arizona\"], [0, \"Arkansas\"], [0, \"California\"], [0, \"Colorado\"], [0, \"Connecticut\"], [0, \"Delaware\"], [0, \"Florida\"], [0, \"Georgia\"], [0, \"Hawaii\"], [0, \"Idaho\"], [0, \"Illinois\"], [0, \"Indiana\"], [0, \"Iowa\"], [0, \"Kansas\"], [0, \"Kentucky\"], [0, \"Louisiana\"], [0, \"Maine\"], [0, \"Maryland\"], [0, \"Massachusetts\"], [0, \"Michigan\"], [0, \"Minnesota\"], [0, \"Mississippi\"], [0, \"Missouri\"], [0, \"Montana\"], [0, \"Nebraska\"], [0, \"Nevada\"], [0, \"New Hampshire\"], [0, \"New Jersey\"], [0, \"New Mexico\"], [0, \"New York\"], [0, \"North Carolina\"], [0, \"North Dakota\"], [0, \"Ohio\"], [0, \"Oklahoma\"], [0, \"Oregon\"], [0, \"Pennsylvania\"], [0, \"Rhode Island\"], [0, \"South Carolina\"], [0, \"South Dakota\"], [0, \"Tennessee\"], [0, \"Texas\"], [0, \"Utah\"], [0, \"Vermont\"], [0, \"Virginia\"], [0, \"Washington\"], [0, \"West Virginia\"], [0, \"Wisconsin\"], [0, \"Wyoming\"], [0, \"District of Columbia\"], [0, \"US\"]], \"hovertemplate\": \"<b>%{customdata[1]}</b><br>Child poverty rate: %{z}%<br>Poverty reduction: %{customdata[0]}%<extra></extra>\", \"locationmode\": \"USA-states\", \"locations\": [\"AL\", \"AK\", \"AZ\", \"AR\", \"CA\", \"CO\", \"CT\", \"DE\", \"FL\", \"GA\", \"HI\", \"ID\", \"IL\", \"IN\", \"IA\", \"KS\", \"KY\", \"LA\", \"ME\", \"MD\", \"MA\", \"MI\", \"MN\", \"MS\", \"MO\", \"MT\", \"NE\", \"NV\", \"NH\", \"NJ\", \"NM\", \"NY\", \"NC\", \"ND\", \"OH\", \"OK\", \"OR\", \"PA\", \"RI\", \"SC\", \"SD\", \"TN\", \"TX\", \"UT\", \"VT\", \"VA\", \"WA\", \"WV\", \"WI\", \"WY\", \"DC\", \"US\"], \"z\": [14.8, 14.3, 13.0, 12.5, 19.6, 11.4, 13.6, 10.4, 18.4, 15.5, 15.6, 7.1, 12.5, 12.6, 8.1, 7.3, 10.3, 19.5, 9.6, 11.2, 10.7, 10.5, 5.3, 17.0, 8.8, 8.0, 9.7, 13.7, 8.1, 13.8, 13.9, 17.2, 14.9, 9.8, 11.3, 10.1, 10.3, 13.0, 10.1, 15.1, 9.1, 12.1, 15.3, 7.6, 12.4, 13.4, 8.8, 13.4, 8.2, 9.3, 17.3, 13.9], \"type\": \"choropleth\"}], \"name\": \"0\", \"traces\": [0, 1, 2]}, {\"data\": [{\"customdata\": [[7, \"Alabama\"], [10, \"Alaska\"], [20, \"Arizona\"], [17, \"Arkansas\"], [9, \"California\"], [12, \"Colorado\"], [4, \"Connecticut\"], [9, \"Delaware\"], [11, \"Florida\"], [5, \"Georgia\"], [10, \"Hawaii\"], [14, \"Idaho\"], [10, \"Illinois\"], [6, \"Indiana\"], [9, \"Iowa\"], [25, \"Kansas\"], [8, \"Kentucky\"], [10, \"Louisiana\"], [18, \"Maine\"], [9, \"Maryland\"], [12, \"Massachusetts\"], [10, \"Michigan\"], [15, \"Minnesota\"], [12, \"Mississippi\"], [19, \"Missouri\"], [7, \"Montana\"], [13, \"Nebraska\"], [23, \"Nevada\"], [12, \"New Hampshire\"], [7, \"New Jersey\"], [14, \"New Mexico\"], [9, \"New York\"], [14, \"North Carolina\"], [16, \"North Dakota\"], [11, \"Ohio\"], [11, \"Oklahoma\"], [13, \"Oregon\"], [11, \"Pennsylvania\"], [6, \"Rhode Island\"], [13, \"South Carolina\"], [11, \"South Dakota\"], [15, \"Tennessee\"], [12, \"Texas\"], [12, \"Utah\"], [13, \"Vermont\"], [7, \"Virginia\"], [12, \"Washington\"], [9, \"West Virginia\"], [17, \"Wisconsin\"], [19, \"Wyoming\"], [10, \"District of Columbia\"], [11, \"US\"]], \"hovertemplate\": \"<b>%{customdata[1]}</b><br>Child poverty rate: %{z}%<br>Poverty reduction: %{customdata[0]}%<extra></extra>\", \"locationmode\": \"USA-states\", \"locations\": [\"AL\", \"AK\", \"AZ\", \"AR\", \"CA\", \"CO\", \"CT\", \"DE\", \"FL\", \"GA\", \"HI\", \"ID\", \"IL\", \"IN\", \"IA\", \"KS\", \"KY\", \"LA\", \"ME\", \"MD\", \"MA\", \"MI\", \"MN\", \"MS\", \"MO\", \"MT\", \"NE\", \"NV\", \"NH\", \"NJ\", \"NM\", \"NY\", \"NC\", \"ND\", \"OH\", \"OK\", \"OR\", \"PA\", \"RI\", \"SC\", \"SD\", \"TN\", \"TX\", \"UT\", \"VT\", \"VA\", \"WA\", \"WV\", \"WI\", \"WY\", \"DC\", \"US\"], \"z\": [13.7, 12.8, 10.4, 10.4, 17.8, 10.0, 13.0, 9.5, 16.3, 14.7, 14.0, 6.1, 11.3, 11.8, 7.4, 5.5, 9.5, 17.6, 7.9, 10.2, 9.4, 9.4, 4.5, 14.9, 7.1, 7.4, 8.4, 10.5, 7.1, 12.9, 12.0, 15.7, 12.8, 8.2, 10.1, 9.0, 9.0, 11.6, 9.5, 13.1, 8.1, 10.3, 13.4, 6.7, 10.8, 12.4, 7.7, 12.2, 6.8, 7.5, 15.6, 12.4], \"type\": \"choropleth\"}, {\"customdata\": [[7, \"Alabama\"], [10, \"Alaska\"], [20, \"Arizona\"], [17, \"Arkansas\"], [9, \"California\"], [12, \"Colorado\"], [4, \"Connecticut\"], [9, \"Delaware\"], [11, \"Florida\"], [5, \"Georgia\"], [10, \"Hawaii\"], [14, \"Idaho\"], [10, \"Illinois\"], [6, \"Indiana\"], [9, \"Iowa\"], [25, \"Kansas\"], [8, \"Kentucky\"], [10, \"Louisiana\"], [18, \"Maine\"], [9, \"Maryland\"], [12, \"Massachusetts\"], [10, \"Michigan\"], [15, \"Minnesota\"], [12, \"Mississippi\"], [19, \"Missouri\"], [7, \"Montana\"], [13, \"Nebraska\"], [23, \"Nevada\"], [12, \"New Hampshire\"], [7, \"New Jersey\"], [14, \"New Mexico\"], [9, \"New York\"], [14, \"North Carolina\"], [16, \"North Dakota\"], [11, \"Ohio\"], [11, \"Oklahoma\"], [13, \"Oregon\"], [11, \"Pennsylvania\"], [6, \"Rhode Island\"], [13, \"South Carolina\"], [8, \"South Dakota\"], [15, \"Tennessee\"], [12, \"Texas\"], [12, \"Utah\"], [13, \"Vermont\"], [7, \"Virginia\"], [12, \"Washington\"], [9, \"West Virginia\"], [17, \"Wisconsin\"], [19, \"Wyoming\"], [10, \"District of Columbia\"], [11, \"US\"]], \"hovertemplate\": \"<b>%{customdata[1]}</b><br>Child poverty rate: %{z}%<br>Poverty reduction: %{customdata[0]}%<extra></extra>\", \"locationmode\": \"USA-states\", \"locations\": [\"AL\", \"AK\", \"AZ\", \"AR\", \"CA\", \"CO\", \"CT\", \"DE\", \"FL\", \"GA\", \"HI\", \"ID\", \"IL\", \"IN\", \"IA\", \"KS\", \"KY\", \"LA\", \"ME\", \"MD\", \"MA\", \"MI\", \"MN\", \"MS\", \"MO\", \"MT\", \"NE\", \"NV\", \"NH\", \"NJ\", \"NM\", \"NY\", \"NC\", \"ND\", \"OH\", \"OK\", \"OR\", \"PA\", \"RI\", \"SC\", \"SD\", \"TN\", \"TX\", \"UT\", \"VT\", \"VA\", \"WA\", \"WV\", \"WI\", \"WY\", \"DC\", \"US\"], \"z\": [13.7, 12.8, 10.4, 10.4, 17.8, 10.0, 13.0, 9.5, 16.3, 14.7, 14.0, 6.1, 11.3, 11.8, 7.4, 5.5, 9.5, 17.6, 7.9, 10.2, 9.4, 9.4, 4.5, 14.9, 7.1, 7.4, 8.4, 10.5, 7.1, 12.9, 12.0, 15.7, 12.8, 8.2, 10.1, 9.0, 9.0, 11.6, 9.5, 13.1, 8.4, 10.3, 13.5, 6.7, 10.8, 12.4, 7.7, 12.2, 6.8, 7.5, 15.6, 12.4], \"type\": \"choropleth\"}, {\"customdata\": [[7, \"Alabama\"], [10, \"Alaska\"], [20, \"Arizona\"], [17, \"Arkansas\"], [9, \"California\"], [12, \"Colorado\"], [4, \"Connecticut\"], [9, \"Delaware\"], [12, \"Florida\"], [5, \"Georgia\"], [12, \"Hawaii\"], [14, \"Idaho\"], [10, \"Illinois\"], [6, \"Indiana\"], [9, \"Iowa\"], [25, \"Kansas\"], [8, \"Kentucky\"], [10, \"Louisiana\"], [18, \"Maine\"], [9, \"Maryland\"], [12, \"Massachusetts\"], [10, \"Michigan\"], [15, \"Minnesota\"], [12, \"Mississippi\"], [19, \"Missouri\"], [7, \"Montana\"], [13, \"Nebraska\"], [23, \"Nevada\"], [12, \"New Hampshire\"], [7, \"New Jersey\"], [14, \"New Mexico\"], [9, \"New York\"], [14, \"North Carolina\"], [16, \"North Dakota\"], [11, \"Ohio\"], [11, \"Oklahoma\"], [13, \"Oregon\"], [12, \"Pennsylvania\"], [6, \"Rhode Island\"], [13, \"South Carolina\"], [11, \"South Dakota\"], [15, \"Tennessee\"], [12, \"Texas\"], [12, \"Utah\"], [13, \"Vermont\"], [7, \"Virginia\"], [12, \"Washington\"], [9, \"West Virginia\"], [17, \"Wisconsin\"], [19, \"Wyoming\"], [12, \"District of Columbia\"], [11, \"US\"]], \"hovertemplate\": \"<b>%{customdata[1]}</b><br>Child poverty rate: %{z}%<br>Poverty reduction: %{customdata[0]}%<extra></extra>\", \"locationmode\": \"USA-states\", \"locations\": [\"AL\", \"AK\", \"AZ\", \"AR\", \"CA\", \"CO\", \"CT\", \"DE\", \"FL\", \"GA\", \"HI\", \"ID\", \"IL\", \"IN\", \"IA\", \"KS\", \"KY\", \"LA\", \"ME\", \"MD\", \"MA\", \"MI\", \"MN\", \"MS\", \"MO\", \"MT\", \"NE\", \"NV\", \"NH\", \"NJ\", \"NM\", \"NY\", \"NC\", \"ND\", \"OH\", \"OK\", \"OR\", \"PA\", \"RI\", \"SC\", \"SD\", \"TN\", \"TX\", \"UT\", \"VT\", \"VA\", \"WA\", \"WV\", \"WI\", \"WY\", \"DC\", \"US\"], \"z\": [13.7, 12.8, 10.4, 10.4, 17.8, 10.0, 13.0, 9.5, 16.2, 14.7, 13.8, 6.1, 11.3, 11.8, 7.4, 5.5, 9.5, 17.6, 7.9, 10.2, 9.4, 9.4, 4.5, 14.9, 7.1, 7.4, 8.4, 10.5, 7.1, 12.9, 12.0, 15.6, 12.8, 8.2, 10.1, 9.0, 9.0, 11.5, 9.5, 13.1, 8.1, 10.3, 13.4, 6.7, 10.8, 12.4, 7.7, 12.2, 6.8, 7.5, 15.3, 12.4], \"type\": \"choropleth\"}], \"name\": \"50\", \"traces\": [0, 1, 2]}, {\"data\": [{\"customdata\": [[18, \"Alabama\"], [17, \"Alaska\"], [30, \"Arizona\"], [28, \"Arkansas\"], [16, \"California\"], [23, \"Colorado\"], [5, \"Connecticut\"], [17, \"Delaware\"], [26, \"Florida\"], [15, \"Georgia\"], [19, \"Hawaii\"], [32, \"Idaho\"], [24, \"Illinois\"], [18, \"Indiana\"], [22, \"Iowa\"], [30, \"Kansas\"], [19, \"Kentucky\"], [20, \"Louisiana\"], [27, \"Maine\"], [24, \"Maryland\"], [20, \"Massachusetts\"], [23, \"Michigan\"], [30, \"Minnesota\"], [24, \"Mississippi\"], [24, \"Missouri\"], [14, \"Montana\"], [22, \"Nebraska\"], [28, \"Nevada\"], [21, \"New Hampshire\"], [14, \"New Jersey\"], [22, \"New Mexico\"], [17, \"New York\"], [33, \"North Carolina\"], [23, \"North Dakota\"], [27, \"Ohio\"], [24, \"Oklahoma\"], [26, \"Oregon\"], [19, \"Pennsylvania\"], [17, \"Rhode Island\"], [26, \"South Carolina\"], [26, \"South Dakota\"], [25, \"Tennessee\"], [22, \"Texas\"], [25, \"Utah\"], [24, \"Vermont\"], [17, \"Virginia\"], [24, \"Washington\"], [25, \"West Virginia\"], [30, \"Wisconsin\"], [28, \"Wyoming\"], [17, \"District of Columbia\"], [22, \"US\"]], \"hovertemplate\": \"<b>%{customdata[1]}</b><br>Child poverty rate: %{z}%<br>Poverty reduction: %{customdata[0]}%<extra></extra>\", \"locationmode\": \"USA-states\", \"locations\": [\"AL\", \"AK\", \"AZ\", \"AR\", \"CA\", \"CO\", \"CT\", \"DE\", \"FL\", \"GA\", \"HI\", \"ID\", \"IL\", \"IN\", \"IA\", \"KS\", \"KY\", \"LA\", \"ME\", \"MD\", \"MA\", \"MI\", \"MN\", \"MS\", \"MO\", \"MT\", \"NE\", \"NV\", \"NH\", \"NJ\", \"NM\", \"NY\", \"NC\", \"ND\", \"OH\", \"OK\", \"OR\", \"PA\", \"RI\", \"SC\", \"SD\", \"TN\", \"TX\", \"UT\", \"VT\", \"VA\", \"WA\", \"WV\", \"WI\", \"WY\", \"DC\", \"US\"], \"z\": [12.1, 11.9, 9.1, 9.0, 16.4, 8.8, 12.9, 8.6, 13.6, 13.1, 12.7, 4.8, 9.5, 10.3, 6.3, 5.1, 8.3, 15.6, 7.0, 8.5, 8.6, 8.1, 3.7, 13.0, 6.7, 6.9, 7.6, 9.8, 6.4, 11.9, 10.8, 14.2, 10.0, 7.5, 8.3, 7.7, 7.6, 10.5, 8.4, 11.2, 6.7, 9.1, 11.9, 5.7, 9.4, 11.1, 6.7, 10.1, 5.7, 6.7, 14.4, 10.9], \"type\": \"choropleth\"}, {\"customdata\": [[18, \"Alabama\"], [17, \"Alaska\"], [30, \"Arizona\"], [28, \"Arkansas\"], [16, \"California\"], [23, \"Colorado\"], [5, \"Connecticut\"], [17, \"Delaware\"], [26, \"Florida\"], [15, \"Georgia\"], [19, \"Hawaii\"], [32, \"Idaho\"], [24, \"Illinois\"], [18, \"Indiana\"], [22, \"Iowa\"], [30, \"Kansas\"], [19, \"Kentucky\"], [20, \"Louisiana\"], [27, \"Maine\"], [24, \"Maryland\"], [20, \"Massachusetts\"], [23, \"Michigan\"], [30, \"Minnesota\"], [24, \"Mississippi\"], [24, \"Missouri\"], [14, \"Montana\"], [22, \"Nebraska\"], [28, \"Nevada\"], [21, \"New Hampshire\"], [14, \"New Jersey\"], [22, \"New Mexico\"], [17, \"New York\"], [32, \"North Carolina\"], [23, \"North Dakota\"], [27, \"Ohio\"], [24, \"Oklahoma\"], [26, \"Oregon\"], [19, \"Pennsylvania\"], [17, \"Rhode Island\"], [26, \"South Carolina\"], [26, \"South Dakota\"], [25, \"Tennessee\"], [22, \"Texas\"], [25, \"Utah\"], [24, \"Vermont\"], [17, \"Virginia\"], [24, \"Washington\"], [25, \"West Virginia\"], [30, \"Wisconsin\"], [28, \"Wyoming\"], [17, \"District of Columbia\"], [22, \"US\"]], \"hovertemplate\": \"<b>%{customdata[1]}</b><br>Child poverty rate: %{z}%<br>Poverty reduction: %{customdata[0]}%<extra></extra>\", \"locationmode\": \"USA-states\", \"locations\": [\"AL\", \"AK\", \"AZ\", \"AR\", \"CA\", \"CO\", \"CT\", \"DE\", \"FL\", \"GA\", \"HI\", \"ID\", \"IL\", \"IN\", \"IA\", \"KS\", \"KY\", \"LA\", \"ME\", \"MD\", \"MA\", \"MI\", \"MN\", \"MS\", \"MO\", \"MT\", \"NE\", \"NV\", \"NH\", \"NJ\", \"NM\", \"NY\", \"NC\", \"ND\", \"OH\", \"OK\", \"OR\", \"PA\", \"RI\", \"SC\", \"SD\", \"TN\", \"TX\", \"UT\", \"VT\", \"VA\", \"WA\", \"WV\", \"WI\", \"WY\", \"DC\", \"US\"], \"z\": [12.1, 11.9, 9.1, 9.0, 16.4, 8.8, 12.9, 8.6, 13.6, 13.1, 12.7, 4.8, 9.5, 10.3, 6.3, 5.1, 8.3, 15.6, 7.0, 8.5, 8.6, 8.1, 3.7, 13.0, 6.7, 6.9, 7.6, 9.8, 6.4, 11.8, 10.8, 14.2, 10.1, 7.5, 8.3, 7.7, 7.6, 10.5, 8.4, 11.2, 6.7, 9.1, 11.9, 5.7, 9.4, 11.1, 6.7, 10.1, 5.7, 6.7, 14.4, 10.9], \"type\": \"choropleth\"}, {\"customdata\": [[19, \"Alabama\"], [18, \"Alaska\"], [30, \"Arizona\"], [28, \"Arkansas\"], [17, \"California\"], [23, \"Colorado\"], [5, \"Connecticut\"], [17, \"Delaware\"], [27, \"Florida\"], [17, \"Georgia\"], [22, \"Hawaii\"], [34, \"Idaho\"], [25, \"Illinois\"], [20, \"Indiana\"], [22, \"Iowa\"], [30, \"Kansas\"], [19, \"Kentucky\"], [20, \"Louisiana\"], [27, \"Maine\"], [27, \"Maryland\"], [21, \"Massachusetts\"], [23, \"Michigan\"], [30, \"Minnesota\"], [24, \"Mississippi\"], [24, \"Missouri\"], [14, \"Montana\"], [22, \"Nebraska\"], [28, \"Nevada\"], [21, \"New Hampshire\"], [15, \"New Jersey\"], [22, \"New Mexico\"], [18, \"New York\"], [34, \"North Carolina\"], [23, \"North Dakota\"], [27, \"Ohio\"], [24, \"Oklahoma\"], [26, \"Oregon\"], [20, \"Pennsylvania\"], [17, \"Rhode Island\"], [26, \"South Carolina\"], [26, \"South Dakota\"], [25, \"Tennessee\"], [23, \"Texas\"], [25, \"Utah\"], [25, \"Vermont\"], [18, \"Virginia\"], [24, \"Washington\"], [25, \"West Virginia\"], [30, \"Wisconsin\"], [29, \"Wyoming\"], [17, \"District of Columbia\"], [22, \"US\"]], \"hovertemplate\": \"<b>%{customdata[1]}</b><br>Child poverty rate: %{z}%<br>Poverty reduction: %{customdata[0]}%<extra></extra>\", \"locationmode\": \"USA-states\", \"locations\": [\"AL\", \"AK\", \"AZ\", \"AR\", \"CA\", \"CO\", \"CT\", \"DE\", \"FL\", \"GA\", \"HI\", \"ID\", \"IL\", \"IN\", \"IA\", \"KS\", \"KY\", \"LA\", \"ME\", \"MD\", \"MA\", \"MI\", \"MN\", \"MS\", \"MO\", \"MT\", \"NE\", \"NV\", \"NH\", \"NJ\", \"NM\", \"NY\", \"NC\", \"ND\", \"OH\", \"OK\", \"OR\", \"PA\", \"RI\", \"SC\", \"SD\", \"TN\", \"TX\", \"UT\", \"VT\", \"VA\", \"WA\", \"WV\", \"WI\", \"WY\", \"DC\", \"US\"], \"z\": [12.0, 11.7, 9.1, 9.0, 16.3, 8.8, 12.9, 8.6, 13.4, 12.9, 12.1, 4.7, 9.4, 10.1, 6.3, 5.1, 8.3, 15.6, 7.0, 8.2, 8.5, 8.1, 3.7, 13.0, 6.7, 6.9, 7.6, 9.8, 6.4, 11.7, 10.8, 14.1, 9.9, 7.5, 8.2, 7.7, 7.6, 10.4, 8.4, 11.2, 6.7, 9.1, 11.8, 5.7, 9.3, 11.0, 6.7, 10.0, 5.7, 6.6, 14.4, 10.8], \"type\": \"choropleth\"}], \"name\": \"100\", \"traces\": [0, 1, 2]}, {\"data\": [{\"customdata\": [[31, \"Alabama\"], [21, \"Alaska\"], [42, \"Arizona\"], [35, \"Arkansas\"], [24, \"California\"], [40, \"Colorado\"], [16, \"Connecticut\"], [27, \"Delaware\"], [34, \"Florida\"], [29, \"Georgia\"], [30, \"Hawaii\"], [38, \"Idaho\"], [33, \"Illinois\"], [27, \"Indiana\"], [32, \"Iowa\"], [40, \"Kansas\"], [24, \"Kentucky\"], [31, \"Louisiana\"], [42, \"Maine\"], [34, \"Maryland\"], [29, \"Massachusetts\"], [32, \"Michigan\"], [34, \"Minnesota\"], [39, \"Mississippi\"], [30, \"Missouri\"], [28, \"Montana\"], [31, \"Nebraska\"], [34, \"Nevada\"], [27, \"New Hampshire\"], [21, \"New Jersey\"], [34, \"New Mexico\"], [25, \"New York\"], [44, \"North Carolina\"], [33, \"North Dakota\"], [35, \"Ohio\"], [35, \"Oklahoma\"], [36, \"Oregon\"], [30, \"Pennsylvania\"], [24, \"Rhode Island\"], [35, \"South Carolina\"], [30, \"South Dakota\"], [31, \"Tennessee\"], [30, \"Texas\"], [32, \"Utah\"], [33, \"Vermont\"], [25, \"Virginia\"], [31, \"Washington\"], [37, \"West Virginia\"], [39, \"Wisconsin\"], [42, \"Wyoming\"], [24, \"District of Columbia\"], [30, \"US\"]], \"hovertemplate\": \"<b>%{customdata[1]}</b><br>Child poverty rate: %{z}%<br>Poverty reduction: %{customdata[0]}%<extra></extra>\", \"locationmode\": \"USA-states\", \"locations\": [\"AL\", \"AK\", \"AZ\", \"AR\", \"CA\", \"CO\", \"CT\", \"DE\", \"FL\", \"GA\", \"HI\", \"ID\", \"IL\", \"IN\", \"IA\", \"KS\", \"KY\", \"LA\", \"ME\", \"MD\", \"MA\", \"MI\", \"MN\", \"MS\", \"MO\", \"MT\", \"NE\", \"NV\", \"NH\", \"NJ\", \"NM\", \"NY\", \"NC\", \"ND\", \"OH\", \"OK\", \"OR\", \"PA\", \"RI\", \"SC\", \"SD\", \"TN\", \"TX\", \"UT\", \"VT\", \"VA\", \"WA\", \"WV\", \"WI\", \"WY\", \"DC\", \"US\"], \"z\": [10.2, 11.3, 7.5, 8.1, 14.8, 6.8, 11.4, 7.6, 12.1, 11.0, 10.9, 4.4, 8.4, 9.2, 5.5, 4.4, 7.8, 13.4, 5.6, 7.4, 7.6, 7.1, 3.5, 10.3, 6.2, 5.8, 6.7, 9.0, 5.9, 10.9, 9.2, 12.9, 8.4, 6.6, 7.4, 6.6, 6.6, 9.1, 7.7, 9.8, 6.4, 8.4, 10.7, 5.2, 8.3, 10.1, 6.1, 8.4, 5.0, 5.4, 13.2, 9.7], \"type\": \"choropleth\"}, {\"customdata\": [[31, \"Alabama\"], [21, \"Alaska\"], [42, \"Arizona\"], [35, \"Arkansas\"], [24, \"California\"], [40, \"Colorado\"], [16, \"Connecticut\"], [27, \"Delaware\"], [34, \"Florida\"], [29, \"Georgia\"], [30, \"Hawaii\"], [38, \"Idaho\"], [33, \"Illinois\"], [27, \"Indiana\"], [32, \"Iowa\"], [40, \"Kansas\"], [24, \"Kentucky\"], [31, \"Louisiana\"], [42, \"Maine\"], [34, \"Maryland\"], [29, \"Massachusetts\"], [32, \"Michigan\"], [34, \"Minnesota\"], [39, \"Mississippi\"], [30, \"Missouri\"], [26, \"Montana\"], [31, \"Nebraska\"], [34, \"Nevada\"], [27, \"New Hampshire\"], [21, \"New Jersey\"], [33, \"New Mexico\"], [25, \"New York\"], [44, \"North Carolina\"], [33, \"North Dakota\"], [35, \"Ohio\"], [34, \"Oklahoma\"], [36, \"Oregon\"], [30, \"Pennsylvania\"], [24, \"Rhode Island\"], [35, \"South Carolina\"], [30, \"South Dakota\"], [31, \"Tennessee\"], [29, \"Texas\"], [30, \"Utah\"], [33, \"Vermont\"], [25, \"Virginia\"], [31, \"Washington\"], [37, \"West Virginia\"], [39, \"Wisconsin\"], [42, \"Wyoming\"], [24, \"District of Columbia\"], [30, \"US\"]], \"hovertemplate\": \"<b>%{customdata[1]}</b><br>Child poverty rate: %{z}%<br>Poverty reduction: %{customdata[0]}%<extra></extra>\", \"locationmode\": \"USA-states\", \"locations\": [\"AL\", \"AK\", \"AZ\", \"AR\", \"CA\", \"CO\", \"CT\", \"DE\", \"FL\", \"GA\", \"HI\", \"ID\", \"IL\", \"IN\", \"IA\", \"KS\", \"KY\", \"LA\", \"ME\", \"MD\", \"MA\", \"MI\", \"MN\", \"MS\", \"MO\", \"MT\", \"NE\", \"NV\", \"NH\", \"NJ\", \"NM\", \"NY\", \"NC\", \"ND\", \"OH\", \"OK\", \"OR\", \"PA\", \"RI\", \"SC\", \"SD\", \"TN\", \"TX\", \"UT\", \"VT\", \"VA\", \"WA\", \"WV\", \"WI\", \"WY\", \"DC\", \"US\"], \"z\": [10.2, 11.3, 7.5, 8.1, 14.8, 6.8, 11.4, 7.6, 12.1, 11.0, 10.9, 4.4, 8.4, 9.2, 5.5, 4.4, 7.8, 13.4, 5.6, 7.4, 7.6, 7.1, 3.5, 10.4, 6.2, 5.9, 6.7, 9.1, 5.9, 10.9, 9.3, 12.9, 8.4, 6.6, 7.4, 6.7, 6.6, 9.1, 7.7, 9.8, 6.4, 8.4, 10.8, 5.3, 8.3, 10.1, 6.1, 8.4, 5.0, 5.4, 13.2, 9.7], \"type\": \"choropleth\"}, {\"customdata\": [[31, \"Alabama\"], [21, \"Alaska\"], [44, \"Arizona\"], [35, \"Arkansas\"], [25, \"California\"], [41, \"Colorado\"], [18, \"Connecticut\"], [27, \"Delaware\"], [35, \"Florida\"], [29, \"Georgia\"], [32, \"Hawaii\"], [38, \"Idaho\"], [34, \"Illinois\"], [27, \"Indiana\"], [32, \"Iowa\"], [40, \"Kansas\"], [24, \"Kentucky\"], [31, \"Louisiana\"], [42, \"Maine\"], [36, \"Maryland\"], [29, \"Massachusetts\"], [32, \"Michigan\"], [36, \"Minnesota\"], [39, \"Mississippi\"], [30, \"Missouri\"], [28, \"Montana\"], [33, \"Nebraska\"], [34, \"Nevada\"], [32, \"New Hampshire\"], [23, \"New Jersey\"], [34, \"New Mexico\"], [25, \"New York\"], [45, \"North Carolina\"], [33, \"North Dakota\"], [35, \"Ohio\"], [35, \"Oklahoma\"], [36, \"Oregon\"], [30, \"Pennsylvania\"], [26, \"Rhode Island\"], [35, \"South Carolina\"], [30, \"South Dakota\"], [33, \"Tennessee\"], [31, \"Texas\"], [32, \"Utah\"], [33, \"Vermont\"], [25, \"Virginia\"], [31, \"Washington\"], [37, \"West Virginia\"], [39, \"Wisconsin\"], [44, \"Wyoming\"], [24, \"District of Columbia\"], [31, \"US\"]], \"hovertemplate\": \"<b>%{customdata[1]}</b><br>Child poverty rate: %{z}%<br>Poverty reduction: %{customdata[0]}%<extra></extra>\", \"locationmode\": \"USA-states\", \"locations\": [\"AL\", \"AK\", \"AZ\", \"AR\", \"CA\", \"CO\", \"CT\", \"DE\", \"FL\", \"GA\", \"HI\", \"ID\", \"IL\", \"IN\", \"IA\", \"KS\", \"KY\", \"LA\", \"ME\", \"MD\", \"MA\", \"MI\", \"MN\", \"MS\", \"MO\", \"MT\", \"NE\", \"NV\", \"NH\", \"NJ\", \"NM\", \"NY\", \"NC\", \"ND\", \"OH\", \"OK\", \"OR\", \"PA\", \"RI\", \"SC\", \"SD\", \"TN\", \"TX\", \"UT\", \"VT\", \"VA\", \"WA\", \"WV\", \"WI\", \"WY\", \"DC\", \"US\"], \"z\": [10.2, 11.3, 7.3, 8.1, 14.7, 6.7, 11.2, 7.6, 12.0, 11.0, 10.6, 4.4, 8.3, 9.2, 5.5, 4.4, 7.8, 13.4, 5.6, 7.2, 7.6, 7.1, 3.4, 10.3, 6.2, 5.8, 6.5, 9.0, 5.5, 10.6, 9.2, 12.9, 8.2, 6.6, 7.4, 6.6, 6.6, 9.1, 7.5, 9.8, 6.4, 8.1, 10.6, 5.2, 8.3, 10.0, 6.1, 8.4, 5.0, 5.2, 13.2, 9.6], \"type\": \"choropleth\"}], \"name\": \"150\", \"traces\": [0, 1, 2]}, {\"data\": [{\"customdata\": [[37, \"Alabama\"], [26, \"Alaska\"], [55, \"Arizona\"], [40, \"Arkansas\"], [34, \"California\"], [43, \"Colorado\"], [21, \"Connecticut\"], [32, \"Delaware\"], [41, \"Florida\"], [35, \"Georgia\"], [47, \"Hawaii\"], [49, \"Idaho\"], [42, \"Illinois\"], [36, \"Indiana\"], [42, \"Iowa\"], [41, \"Kansas\"], [30, \"Kentucky\"], [43, \"Louisiana\"], [43, \"Maine\"], [38, \"Maryland\"], [36, \"Massachusetts\"], [40, \"Michigan\"], [43, \"Minnesota\"], [48, \"Mississippi\"], [40, \"Missouri\"], [32, \"Montana\"], [35, \"Nebraska\"], [44, \"Nevada\"], [37, \"New Hampshire\"], [33, \"New Jersey\"], [41, \"New Mexico\"], [36, \"New York\"], [52, \"North Carolina\"], [45, \"North Dakota\"], [42, \"Ohio\"], [44, \"Oklahoma\"], [41, \"Oregon\"], [36, \"Pennsylvania\"], [31, \"Rhode Island\"], [42, \"South Carolina\"], [44, \"South Dakota\"], [36, \"Tennessee\"], [40, \"Texas\"], [38, \"Utah\"], [38, \"Vermont\"], [31, \"Virginia\"], [38, \"Washington\"], [42, \"West Virginia\"], [51, \"Wisconsin\"], [51, \"Wyoming\"], [30, \"District of Columbia\"], [39, \"US\"]], \"hovertemplate\": \"<b>%{customdata[1]}</b><br>Child poverty rate: %{z}%<br>Poverty reduction: %{customdata[0]}%<extra></extra>\", \"locationmode\": \"USA-states\", \"locations\": [\"AL\", \"AK\", \"AZ\", \"AR\", \"CA\", \"CO\", \"CT\", \"DE\", \"FL\", \"GA\", \"HI\", \"ID\", \"IL\", \"IN\", \"IA\", \"KS\", \"KY\", \"LA\", \"ME\", \"MD\", \"MA\", \"MI\", \"MN\", \"MS\", \"MO\", \"MT\", \"NE\", \"NV\", \"NH\", \"NJ\", \"NM\", \"NY\", \"NC\", \"ND\", \"OH\", \"OK\", \"OR\", \"PA\", \"RI\", \"SC\", \"SD\", \"TN\", \"TX\", \"UT\", \"VT\", \"VA\", \"WA\", \"WV\", \"WI\", \"WY\", \"DC\", \"US\"], \"z\": [9.3, 10.6, 5.8, 7.5, 13.0, 6.5, 10.7, 7.1, 10.9, 10.0, 8.2, 3.6, 7.2, 8.1, 4.7, 4.3, 7.2, 11.1, 5.5, 6.9, 6.9, 6.3, 3.0, 8.8, 5.3, 5.4, 6.3, 7.7, 5.1, 9.3, 8.2, 11.0, 7.2, 5.4, 6.6, 5.7, 6.1, 8.3, 7.0, 8.8, 5.1, 7.8, 9.2, 4.7, 7.7, 9.2, 5.5, 7.8, 4.0, 4.6, 12.1, 8.5], \"type\": \"choropleth\"}, {\"customdata\": [[37, \"Alabama\"], [26, \"Alaska\"], [55, \"Arizona\"], [40, \"Arkansas\"], [34, \"California\"], [43, \"Colorado\"], [21, \"Connecticut\"], [32, \"Delaware\"], [41, \"Florida\"], [35, \"Georgia\"], [47, \"Hawaii\"], [49, \"Idaho\"], [42, \"Illinois\"], [36, \"Indiana\"], [42, \"Iowa\"], [41, \"Kansas\"], [30, \"Kentucky\"], [43, \"Louisiana\"], [43, \"Maine\"], [38, \"Maryland\"], [36, \"Massachusetts\"], [40, \"Michigan\"], [43, \"Minnesota\"], [48, \"Mississippi\"], [40, \"Missouri\"], [32, \"Montana\"], [35, \"Nebraska\"], [44, \"Nevada\"], [38, \"New Hampshire\"], [33, \"New Jersey\"], [41, \"New Mexico\"], [36, \"New York\"], [52, \"North Carolina\"], [45, \"North Dakota\"], [42, \"Ohio\"], [44, \"Oklahoma\"], [41, \"Oregon\"], [36, \"Pennsylvania\"], [31, \"Rhode Island\"], [42, \"South Carolina\"], [44, \"South Dakota\"], [36, \"Tennessee\"], [40, \"Texas\"], [38, \"Utah\"], [38, \"Vermont\"], [31, \"Virginia\"], [38, \"Washington\"], [42, \"West Virginia\"], [51, \"Wisconsin\"], [51, \"Wyoming\"], [30, \"District of Columbia\"], [39, \"US\"]], \"hovertemplate\": \"<b>%{customdata[1]}</b><br>Child poverty rate: %{z}%<br>Poverty reduction: %{customdata[0]}%<extra></extra>\", \"locationmode\": \"USA-states\", \"locations\": [\"AL\", \"AK\", \"AZ\", \"AR\", \"CA\", \"CO\", \"CT\", \"DE\", \"FL\", \"GA\", \"HI\", \"ID\", \"IL\", \"IN\", \"IA\", \"KS\", \"KY\", \"LA\", \"ME\", \"MD\", \"MA\", \"MI\", \"MN\", \"MS\", \"MO\", \"MT\", \"NE\", \"NV\", \"NH\", \"NJ\", \"NM\", \"NY\", \"NC\", \"ND\", \"OH\", \"OK\", \"OR\", \"PA\", \"RI\", \"SC\", \"SD\", \"TN\", \"TX\", \"UT\", \"VT\", \"VA\", \"WA\", \"WV\", \"WI\", \"WY\", \"DC\", \"US\"], \"z\": [9.3, 10.6, 5.8, 7.5, 13.0, 6.5, 10.7, 7.1, 10.9, 10.0, 8.2, 3.6, 7.2, 8.1, 4.7, 4.3, 7.2, 11.1, 5.5, 6.9, 6.9, 6.3, 3.0, 8.8, 5.3, 5.4, 6.3, 7.7, 5.0, 9.3, 8.2, 11.0, 7.2, 5.4, 6.6, 5.7, 6.1, 8.3, 7.0, 8.8, 5.1, 7.8, 9.2, 4.7, 7.7, 9.2, 5.5, 7.8, 4.0, 4.6, 12.1, 8.5], \"type\": \"choropleth\"}, {\"customdata\": [[37, \"Alabama\"], [27, \"Alaska\"], [55, \"Arizona\"], [42, \"Arkansas\"], [35, \"California\"], [43, \"Colorado\"], [22, \"Connecticut\"], [32, \"Delaware\"], [41, \"Florida\"], [35, \"Georgia\"], [48, \"Hawaii\"], [49, \"Idaho\"], [43, \"Illinois\"], [37, \"Indiana\"], [42, \"Iowa\"], [41, \"Kansas\"], [30, \"Kentucky\"], [43, \"Louisiana\"], [43, \"Maine\"], [38, \"Maryland\"], [37, \"Massachusetts\"], [40, \"Michigan\"], [43, \"Minnesota\"], [49, \"Mississippi\"], [42, \"Missouri\"], [35, \"Montana\"], [36, \"Nebraska\"], [45, \"Nevada\"], [38, \"New Hampshire\"], [34, \"New Jersey\"], [41, \"New Mexico\"], [37, \"New York\"], [52, \"North Carolina\"], [45, \"North Dakota\"], [42, \"Ohio\"], [44, \"Oklahoma\"], [43, \"Oregon\"], [38, \"Pennsylvania\"], [34, \"Rhode Island\"], [42, \"South Carolina\"], [44, \"South Dakota\"], [36, \"Tennessee\"], [41, \"Texas\"], [38, \"Utah\"], [38, \"Vermont\"], [31, \"Virginia\"], [38, \"Washington\"], [43, \"West Virginia\"], [51, \"Wisconsin\"], [53, \"Wyoming\"], [30, \"District of Columbia\"], [40, \"US\"]], \"hovertemplate\": \"<b>%{customdata[1]}</b><br>Child poverty rate: %{z}%<br>Poverty reduction: %{customdata[0]}%<extra></extra>\", \"locationmode\": \"USA-states\", \"locations\": [\"AL\", \"AK\", \"AZ\", \"AR\", \"CA\", \"CO\", \"CT\", \"DE\", \"FL\", \"GA\", \"HI\", \"ID\", \"IL\", \"IN\", \"IA\", \"KS\", \"KY\", \"LA\", \"ME\", \"MD\", \"MA\", \"MI\", \"MN\", \"MS\", \"MO\", \"MT\", \"NE\", \"NV\", \"NH\", \"NJ\", \"NM\", \"NY\", \"NC\", \"ND\", \"OH\", \"OK\", \"OR\", \"PA\", \"RI\", \"SC\", \"SD\", \"TN\", \"TX\", \"UT\", \"VT\", \"VA\", \"WA\", \"WV\", \"WI\", \"WY\", \"DC\", \"US\"], \"z\": [9.3, 10.4, 5.8, 7.3, 12.8, 6.5, 10.6, 7.1, 10.8, 10.0, 8.1, 3.6, 7.1, 8.0, 4.7, 4.3, 7.2, 11.1, 5.5, 6.9, 6.7, 6.3, 3.0, 8.7, 5.1, 5.2, 6.2, 7.6, 5.0, 9.1, 8.2, 10.8, 7.2, 5.4, 6.5, 5.7, 5.9, 8.1, 6.7, 8.8, 5.1, 7.8, 9.1, 4.7, 7.7, 9.2, 5.5, 7.7, 4.0, 4.4, 12.1, 8.4], \"type\": \"choropleth\"}], \"name\": \"200\", \"traces\": [0, 1, 2]}, {\"data\": [{\"customdata\": [[47, \"Alabama\"], [34, \"Alaska\"], [60, \"Arizona\"], [46, \"Arkansas\"], [41, \"California\"], [46, \"Colorado\"], [27, \"Connecticut\"], [43, \"Delaware\"], [46, \"Florida\"], [43, \"Georgia\"], [52, \"Hawaii\"], [66, \"Idaho\"], [50, \"Illinois\"], [48, \"Indiana\"], [46, \"Iowa\"], [45, \"Kansas\"], [38, \"Kentucky\"], [51, \"Louisiana\"], [44, \"Maine\"], [42, \"Maryland\"], [44, \"Massachusetts\"], [48, \"Michigan\"], [47, \"Minnesota\"], [56, \"Mississippi\"], [53, \"Missouri\"], [46, \"Montana\"], [42, \"Nebraska\"], [50, \"Nevada\"], [51, \"New Hampshire\"], [38, \"New Jersey\"], [47, \"New Mexico\"], [41, \"New York\"], [57, \"North Carolina\"], [53, \"North Dakota\"], [53, \"Ohio\"], [50, \"Oklahoma\"], [47, \"Oregon\"], [41, \"Pennsylvania\"], [36, \"Rhode Island\"], [47, \"South Carolina\"], [44, \"South Dakota\"], [48, \"Tennessee\"], [46, \"Texas\"], [39, \"Utah\"], [44, \"Vermont\"], [38, \"Virginia\"], [42, \"Washington\"], [52, \"West Virginia\"], [56, \"Wisconsin\"], [56, \"Wyoming\"], [42, \"District of Columbia\"], [45, \"US\"]], \"hovertemplate\": \"<b>%{customdata[1]}</b><br>Child poverty rate: %{z}%<br>Poverty reduction: %{customdata[0]}%<extra></extra>\", \"locationmode\": \"USA-states\", \"locations\": [\"AL\", \"AK\", \"AZ\", \"AR\", \"CA\", \"CO\", \"CT\", \"DE\", \"FL\", \"GA\", \"HI\", \"ID\", \"IL\", \"IN\", \"IA\", \"KS\", \"KY\", \"LA\", \"ME\", \"MD\", \"MA\", \"MI\", \"MN\", \"MS\", \"MO\", \"MT\", \"NE\", \"NV\", \"NH\", \"NJ\", \"NM\", \"NY\", \"NC\", \"ND\", \"OH\", \"OK\", \"OR\", \"PA\", \"RI\", \"SC\", \"SD\", \"TN\", \"TX\", \"UT\", \"VT\", \"VA\", \"WA\", \"WV\", \"WI\", \"WY\", \"DC\", \"US\"], \"z\": [7.8, 9.4, 5.2, 6.7, 11.5, 6.1, 9.9, 5.9, 9.9, 8.9, 7.5, 2.4, 6.2, 6.6, 4.4, 4.0, 6.4, 9.5, 5.4, 6.5, 6.0, 5.5, 2.8, 7.5, 4.1, 4.3, 5.6, 6.9, 4.0, 8.6, 7.4, 10.1, 6.4, 4.6, 5.3, 5.1, 5.5, 7.7, 6.5, 8.0, 5.1, 6.3, 8.2, 4.6, 7.0, 8.3, 5.1, 6.4, 3.6, 4.1, 10.0, 7.6], \"type\": \"choropleth\"}, {\"customdata\": [[46, \"Alabama\"], [34, \"Alaska\"], [60, \"Arizona\"], [46, \"Arkansas\"], [41, \"California\"], [46, \"Colorado\"], [28, \"Connecticut\"], [43, \"Delaware\"], [46, \"Florida\"], [43, \"Georgia\"], [52, \"Hawaii\"], [66, \"Idaho\"], [50, \"Illinois\"], [48, \"Indiana\"], [46, \"Iowa\"], [45, \"Kansas\"], [38, \"Kentucky\"], [51, \"Louisiana\"], [44, \"Maine\"], [42, \"Maryland\"], [45, \"Massachusetts\"], [48, \"Michigan\"], [47, \"Minnesota\"], [56, \"Mississippi\"], [53, \"Missouri\"], [46, \"Montana\"], [42, \"Nebraska\"], [50, \"Nevada\"], [51, \"New Hampshire\"], [38, \"New Jersey\"], [47, \"New Mexico\"], [41, \"New York\"], [57, \"North Carolina\"], [53, \"North Dakota\"], [53, \"Ohio\"], [50, \"Oklahoma\"], [48, \"Oregon\"], [41, \"Pennsylvania\"], [36, \"Rhode Island\"], [47, \"South Carolina\"], [44, \"South Dakota\"], [48, \"Tennessee\"], [46, \"Texas\"], [39, \"Utah\"], [44, \"Vermont\"], [38, \"Virginia\"], [42, \"Washington\"], [52, \"West Virginia\"], [56, \"Wisconsin\"], [56, \"Wyoming\"], [43, \"District of Columbia\"], [45, \"US\"]], \"hovertemplate\": \"<b>%{customdata[1]}</b><br>Child poverty rate: %{z}%<br>Poverty reduction: %{customdata[0]}%<extra></extra>\", \"locationmode\": \"USA-states\", \"locations\": [\"AL\", \"AK\", \"AZ\", \"AR\", \"CA\", \"CO\", \"CT\", \"DE\", \"FL\", \"GA\", \"HI\", \"ID\", \"IL\", \"IN\", \"IA\", \"KS\", \"KY\", \"LA\", \"ME\", \"MD\", \"MA\", \"MI\", \"MN\", \"MS\", \"MO\", \"MT\", \"NE\", \"NV\", \"NH\", \"NJ\", \"NM\", \"NY\", \"NC\", \"ND\", \"OH\", \"OK\", \"OR\", \"PA\", \"RI\", \"SC\", \"SD\", \"TN\", \"TX\", \"UT\", \"VT\", \"VA\", \"WA\", \"WV\", \"WI\", \"WY\", \"DC\", \"US\"], \"z\": [8.0, 9.4, 5.2, 6.7, 11.5, 6.1, 9.8, 5.9, 9.9, 8.9, 7.5, 2.4, 6.2, 6.6, 4.4, 4.0, 6.4, 9.5, 5.4, 6.5, 5.9, 5.5, 2.8, 7.5, 4.1, 4.3, 5.6, 6.9, 4.0, 8.6, 7.4, 10.1, 6.4, 4.6, 5.3, 5.1, 5.4, 7.7, 6.5, 8.0, 5.1, 6.3, 8.2, 4.6, 7.0, 8.3, 5.1, 6.4, 3.6, 4.1, 9.9, 7.6], \"type\": \"choropleth\"}, {\"customdata\": [[47, \"Alabama\"], [36, \"Alaska\"], [60, \"Arizona\"], [46, \"Arkansas\"], [42, \"California\"], [49, \"Colorado\"], [28, \"Connecticut\"], [43, \"Delaware\"], [47, \"Florida\"], [43, \"Georgia\"], [53, \"Hawaii\"], [66, \"Idaho\"], [50, \"Illinois\"], [48, \"Indiana\"], [47, \"Iowa\"], [47, \"Kansas\"], [38, \"Kentucky\"], [51, \"Louisiana\"], [44, \"Maine\"], [42, \"Maryland\"], [46, \"Massachusetts\"], [48, \"Michigan\"], [47, \"Minnesota\"], [56, \"Mississippi\"], [53, \"Missouri\"], [46, \"Montana\"], [42, \"Nebraska\"], [50, \"Nevada\"], [51, \"New Hampshire\"], [38, \"New Jersey\"], [47, \"New Mexico\"], [42, \"New York\"], [57, \"North Carolina\"], [53, \"North Dakota\"], [54, \"Ohio\"], [50, \"Oklahoma\"], [48, \"Oregon\"], [41, \"Pennsylvania\"], [36, \"Rhode Island\"], [48, \"South Carolina\"], [45, \"South Dakota\"], [48, \"Tennessee\"], [47, \"Texas\"], [39, \"Utah\"], [44, \"Vermont\"], [38, \"Virginia\"], [43, \"Washington\"], [54, \"West Virginia\"], [56, \"Wisconsin\"], [56, \"Wyoming\"], [43, \"District of Columbia\"], [46, \"US\"]], \"hovertemplate\": \"<b>%{customdata[1]}</b><br>Child poverty rate: %{z}%<br>Poverty reduction: %{customdata[0]}%<extra></extra>\", \"locationmode\": \"USA-states\", \"locations\": [\"AL\", \"AK\", \"AZ\", \"AR\", \"CA\", \"CO\", \"CT\", \"DE\", \"FL\", \"GA\", \"HI\", \"ID\", \"IL\", \"IN\", \"IA\", \"KS\", \"KY\", \"LA\", \"ME\", \"MD\", \"MA\", \"MI\", \"MN\", \"MS\", \"MO\", \"MT\", \"NE\", \"NV\", \"NH\", \"NJ\", \"NM\", \"NY\", \"NC\", \"ND\", \"OH\", \"OK\", \"OR\", \"PA\", \"RI\", \"SC\", \"SD\", \"TN\", \"TX\", \"UT\", \"VT\", \"VA\", \"WA\", \"WV\", \"WI\", \"WY\", \"DC\", \"US\"], \"z\": [7.8, 9.2, 5.2, 6.7, 11.3, 5.8, 9.8, 5.9, 9.8, 8.8, 7.4, 2.4, 6.2, 6.6, 4.3, 3.9, 6.4, 9.5, 5.4, 6.5, 5.8, 5.5, 2.8, 7.4, 4.1, 4.3, 5.6, 6.9, 4.0, 8.6, 7.3, 9.9, 6.4, 4.6, 5.2, 5.1, 5.4, 7.7, 6.5, 7.9, 5.0, 6.3, 8.1, 4.6, 7.0, 8.3, 5.0, 6.2, 3.6, 4.1, 9.9, 7.5], \"type\": \"choropleth\"}], \"name\": \"250\", \"traces\": [0, 1, 2]}, {\"data\": [{\"customdata\": [[51, \"Alabama\"], [41, \"Alaska\"], [63, \"Arizona\"], [55, \"Arkansas\"], [48, \"California\"], [53, \"Colorado\"], [40, \"Connecticut\"], [50, \"Delaware\"], [52, \"Florida\"], [49, \"Georgia\"], [60, \"Hawaii\"], [68, \"Idaho\"], [55, \"Illinois\"], [52, \"Indiana\"], [58, \"Iowa\"], [52, \"Kansas\"], [49, \"Kentucky\"], [59, \"Louisiana\"], [48, \"Maine\"], [46, \"Maryland\"], [50, \"Massachusetts\"], [51, \"Michigan\"], [57, \"Minnesota\"], [59, \"Mississippi\"], [65, \"Missouri\"], [49, \"Montana\"], [48, \"Nebraska\"], [55, \"Nevada\"], [56, \"New Hampshire\"], [43, \"New Jersey\"], [61, \"New Mexico\"], [45, \"New York\"], [62, \"North Carolina\"], [54, \"North Dakota\"], [61, \"Ohio\"], [52, \"Oklahoma\"], [54, \"Oregon\"], [43, \"Pennsylvania\"], [45, \"Rhode Island\"], [54, \"South Carolina\"], [53, \"South Dakota\"], [53, \"Tennessee\"], [54, \"Texas\"], [51, \"Utah\"], [48, \"Vermont\"], [46, \"Virginia\"], [48, \"Washington\"], [60, \"West Virginia\"], [59, \"Wisconsin\"], [59, \"Wyoming\"], [48, \"District of Columbia\"], [52, \"US\"]], \"hovertemplate\": \"<b>%{customdata[1]}</b><br>Child poverty rate: %{z}%<br>Poverty reduction: %{customdata[0]}%<extra></extra>\", \"locationmode\": \"USA-states\", \"locations\": [\"AL\", \"AK\", \"AZ\", \"AR\", \"CA\", \"CO\", \"CT\", \"DE\", \"FL\", \"GA\", \"HI\", \"ID\", \"IL\", \"IN\", \"IA\", \"KS\", \"KY\", \"LA\", \"ME\", \"MD\", \"MA\", \"MI\", \"MN\", \"MS\", \"MO\", \"MT\", \"NE\", \"NV\", \"NH\", \"NJ\", \"NM\", \"NY\", \"NC\", \"ND\", \"OH\", \"OK\", \"OR\", \"PA\", \"RI\", \"SC\", \"SD\", \"TN\", \"TX\", \"UT\", \"VT\", \"VA\", \"WA\", \"WV\", \"WI\", \"WY\", \"DC\", \"US\"], \"z\": [7.2, 8.4, 4.8, 5.6, 10.1, 5.4, 8.1, 5.2, 8.8, 7.9, 6.2, 2.3, 5.6, 6.1, 3.4, 3.5, 5.3, 8.0, 5.0, 6.1, 5.3, 5.1, 2.3, 7.0, 3.1, 4.1, 5.0, 6.2, 3.6, 7.8, 5.4, 9.4, 5.6, 4.5, 4.4, 4.8, 4.7, 7.4, 5.6, 7.0, 4.3, 5.7, 7.1, 3.7, 6.5, 7.3, 4.6, 5.4, 3.4, 3.8, 9.0, 6.7], \"type\": \"choropleth\"}, {\"customdata\": [[51, \"Alabama\"], [41, \"Alaska\"], [63, \"Arizona\"], [55, \"Arkansas\"], [49, \"California\"], [53, \"Colorado\"], [40, \"Connecticut\"], [50, \"Delaware\"], [52, \"Florida\"], [49, \"Georgia\"], [60, \"Hawaii\"], [68, \"Idaho\"], [55, \"Illinois\"], [52, \"Indiana\"], [58, \"Iowa\"], [52, \"Kansas\"], [48, \"Kentucky\"], [59, \"Louisiana\"], [48, \"Maine\"], [46, \"Maryland\"], [50, \"Massachusetts\"], [51, \"Michigan\"], [57, \"Minnesota\"], [59, \"Mississippi\"], [65, \"Missouri\"], [48, \"Montana\"], [48, \"Nebraska\"], [55, \"Nevada\"], [56, \"New Hampshire\"], [43, \"New Jersey\"], [61, \"New Mexico\"], [45, \"New York\"], [62, \"North Carolina\"], [54, \"North Dakota\"], [61, \"Ohio\"], [51, \"Oklahoma\"], [54, \"Oregon\"], [43, \"Pennsylvania\"], [45, \"Rhode Island\"], [54, \"South Carolina\"], [53, \"South Dakota\"], [53, \"Tennessee\"], [54, \"Texas\"], [51, \"Utah\"], [48, \"Vermont\"], [46, \"Virginia\"], [48, \"Washington\"], [60, \"West Virginia\"], [59, \"Wisconsin\"], [59, \"Wyoming\"], [48, \"District of Columbia\"], [52, \"US\"]], \"hovertemplate\": \"<b>%{customdata[1]}</b><br>Child poverty rate: %{z}%<br>Poverty reduction: %{customdata[0]}%<extra></extra>\", \"locationmode\": \"USA-states\", \"locations\": [\"AL\", \"AK\", \"AZ\", \"AR\", \"CA\", \"CO\", \"CT\", \"DE\", \"FL\", \"GA\", \"HI\", \"ID\", \"IL\", \"IN\", \"IA\", \"KS\", \"KY\", \"LA\", \"ME\", \"MD\", \"MA\", \"MI\", \"MN\", \"MS\", \"MO\", \"MT\", \"NE\", \"NV\", \"NH\", \"NJ\", \"NM\", \"NY\", \"NC\", \"ND\", \"OH\", \"OK\", \"OR\", \"PA\", \"RI\", \"SC\", \"SD\", \"TN\", \"TX\", \"UT\", \"VT\", \"VA\", \"WA\", \"WV\", \"WI\", \"WY\", \"DC\", \"US\"], \"z\": [7.2, 8.4, 4.8, 5.6, 10.0, 5.4, 8.1, 5.2, 8.8, 7.9, 6.2, 2.3, 5.6, 6.1, 3.4, 3.5, 5.4, 8.0, 5.0, 6.1, 5.3, 5.1, 2.3, 7.0, 3.1, 4.2, 5.0, 6.2, 3.6, 7.8, 5.4, 9.4, 5.6, 4.5, 4.4, 4.9, 4.7, 7.4, 5.6, 7.0, 4.3, 5.7, 7.1, 3.7, 6.5, 7.3, 4.6, 5.4, 3.4, 3.8, 9.0, 6.7], \"type\": \"choropleth\"}, {\"customdata\": [[51, \"Alabama\"], [42, \"Alaska\"], [64, \"Arizona\"], [56, \"Arkansas\"], [49, \"California\"], [53, \"Colorado\"], [40, \"Connecticut\"], [51, \"Delaware\"], [52, \"Florida\"], [50, \"Georgia\"], [62, \"Hawaii\"], [68, \"Idaho\"], [55, \"Illinois\"], [54, \"Indiana\"], [58, \"Iowa\"], [52, \"Kansas\"], [49, \"Kentucky\"], [59, \"Louisiana\"], [49, \"Maine\"], [46, \"Maryland\"], [51, \"Massachusetts\"], [51, \"Michigan\"], [58, \"Minnesota\"], [59, \"Mississippi\"], [65, \"Missouri\"], [49, \"Montana\"], [52, \"Nebraska\"], [55, \"Nevada\"], [58, \"New Hampshire\"], [44, \"New Jersey\"], [61, \"New Mexico\"], [47, \"New York\"], [63, \"North Carolina\"], [55, \"North Dakota\"], [61, \"Ohio\"], [52, \"Oklahoma\"], [54, \"Oregon\"], [43, \"Pennsylvania\"], [47, \"Rhode Island\"], [55, \"South Carolina\"], [56, \"South Dakota\"], [53, \"Tennessee\"], [54, \"Texas\"], [53, \"Utah\"], [48, \"Vermont\"], [46, \"Virginia\"], [48, \"Washington\"], [61, \"West Virginia\"], [59, \"Wisconsin\"], [59, \"Wyoming\"], [48, \"District of Columbia\"], [53, \"US\"]], \"hovertemplate\": \"<b>%{customdata[1]}</b><br>Child poverty rate: %{z}%<br>Poverty reduction: %{customdata[0]}%<extra></extra>\", \"locationmode\": \"USA-states\", \"locations\": [\"AL\", \"AK\", \"AZ\", \"AR\", \"CA\", \"CO\", \"CT\", \"DE\", \"FL\", \"GA\", \"HI\", \"ID\", \"IL\", \"IN\", \"IA\", \"KS\", \"KY\", \"LA\", \"ME\", \"MD\", \"MA\", \"MI\", \"MN\", \"MS\", \"MO\", \"MT\", \"NE\", \"NV\", \"NH\", \"NJ\", \"NM\", \"NY\", \"NC\", \"ND\", \"OH\", \"OK\", \"OR\", \"PA\", \"RI\", \"SC\", \"SD\", \"TN\", \"TX\", \"UT\", \"VT\", \"VA\", \"WA\", \"WV\", \"WI\", \"WY\", \"DC\", \"US\"], \"z\": [7.2, 8.3, 4.7, 5.5, 9.9, 5.4, 8.1, 5.1, 8.8, 7.8, 5.9, 2.3, 5.6, 5.8, 3.4, 3.5, 5.3, 7.9, 4.9, 6.0, 5.2, 5.1, 2.2, 7.0, 3.1, 4.1, 4.7, 6.2, 3.4, 7.7, 5.4, 9.2, 5.5, 4.4, 4.4, 4.8, 4.7, 7.4, 5.4, 6.8, 4.0, 5.7, 7.1, 3.6, 6.5, 7.3, 4.6, 5.2, 3.4, 3.8, 9.0, 6.6], \"type\": \"choropleth\"}], \"name\": \"300\", \"traces\": [0, 1, 2]}, {\"data\": [{\"customdata\": [[57, \"Alabama\"], [45, \"Alaska\"], [67, \"Arizona\"], [60, \"Arkansas\"], [53, \"California\"], [55, \"Colorado\"], [43, \"Connecticut\"], [55, \"Delaware\"], [57, \"Florida\"], [55, \"Georgia\"], [62, \"Hawaii\"], [68, \"Idaho\"], [58, \"Illinois\"], [56, \"Indiana\"], [65, \"Iowa\"], [52, \"Kansas\"], [58, \"Kentucky\"], [63, \"Louisiana\"], [51, \"Maine\"], [52, \"Maryland\"], [56, \"Massachusetts\"], [56, \"Michigan\"], [62, \"Minnesota\"], [65, \"Mississippi\"], [70, \"Missouri\"], [50, \"Montana\"], [59, \"Nebraska\"], [58, \"Nevada\"], [62, \"New Hampshire\"], [51, \"New Jersey\"], [66, \"New Mexico\"], [50, \"New York\"], [66, \"North Carolina\"], [60, \"North Dakota\"], [66, \"Ohio\"], [55, \"Oklahoma\"], [59, \"Oregon\"], [51, \"Pennsylvania\"], [53, \"Rhode Island\"], [58, \"South Carolina\"], [60, \"South Dakota\"], [57, \"Tennessee\"], [59, \"Texas\"], [55, \"Utah\"], [53, \"Vermont\"], [49, \"Virginia\"], [60, \"Washington\"], [68, \"West Virginia\"], [67, \"Wisconsin\"], [65, \"Wyoming\"], [53, \"District of Columbia\"], [57, \"US\"]], \"hovertemplate\": \"<b>%{customdata[1]}</b><br>Child poverty rate: %{z}%<br>Poverty reduction: %{customdata[0]}%<extra></extra>\", \"locationmode\": \"USA-states\", \"locations\": [\"AL\", \"AK\", \"AZ\", \"AR\", \"CA\", \"CO\", \"CT\", \"DE\", \"FL\", \"GA\", \"HI\", \"ID\", \"IL\", \"IN\", \"IA\", \"KS\", \"KY\", \"LA\", \"ME\", \"MD\", \"MA\", \"MI\", \"MN\", \"MS\", \"MO\", \"MT\", \"NE\", \"NV\", \"NH\", \"NJ\", \"NM\", \"NY\", \"NC\", \"ND\", \"OH\", \"OK\", \"OR\", \"PA\", \"RI\", \"SC\", \"SD\", \"TN\", \"TX\", \"UT\", \"VT\", \"VA\", \"WA\", \"WV\", \"WI\", \"WY\", \"DC\", \"US\"], \"z\": [6.4, 7.9, 4.3, 5.0, 9.2, 5.1, 7.7, 4.7, 8.0, 7.0, 5.9, 2.3, 5.3, 5.5, 2.8, 3.5, 4.3, 7.3, 4.7, 5.4, 4.7, 4.6, 2.0, 5.9, 2.6, 4.0, 4.0, 5.8, 3.1, 6.8, 4.7, 8.6, 5.0, 3.9, 3.8, 4.5, 4.2, 6.4, 4.7, 6.3, 3.6, 5.2, 6.3, 3.4, 5.8, 6.8, 3.5, 4.3, 2.7, 3.3, 8.1, 6.0], \"type\": \"choropleth\"}, {\"customdata\": [[57, \"Alabama\"], [44, \"Alaska\"], [67, \"Arizona\"], [60, \"Arkansas\"], [53, \"California\"], [55, \"Colorado\"], [43, \"Connecticut\"], [56, \"Delaware\"], [57, \"Florida\"], [55, \"Georgia\"], [62, \"Hawaii\"], [68, \"Idaho\"], [58, \"Illinois\"], [56, \"Indiana\"], [64, \"Iowa\"], [52, \"Kansas\"], [58, \"Kentucky\"], [63, \"Louisiana\"], [51, \"Maine\"], [52, \"Maryland\"], [56, \"Massachusetts\"], [56, \"Michigan\"], [62, \"Minnesota\"], [65, \"Mississippi\"], [70, \"Missouri\"], [50, \"Montana\"], [58, \"Nebraska\"], [58, \"Nevada\"], [62, \"New Hampshire\"], [51, \"New Jersey\"], [66, \"New Mexico\"], [50, \"New York\"], [66, \"North Carolina\"], [60, \"North Dakota\"], [66, \"Ohio\"], [55, \"Oklahoma\"], [59, \"Oregon\"], [51, \"Pennsylvania\"], [53, \"Rhode Island\"], [58, \"South Carolina\"], [60, \"South Dakota\"], [57, \"Tennessee\"], [59, \"Texas\"], [55, \"Utah\"], [53, \"Vermont\"], [49, \"Virginia\"], [60, \"Washington\"], [67, \"West Virginia\"], [67, \"Wisconsin\"], [65, \"Wyoming\"], [54, \"District of Columbia\"], [57, \"US\"]], \"hovertemplate\": \"<b>%{customdata[1]}</b><br>Child poverty rate: %{z}%<br>Poverty reduction: %{customdata[0]}%<extra></extra>\", \"locationmode\": \"USA-states\", \"locations\": [\"AL\", \"AK\", \"AZ\", \"AR\", \"CA\", \"CO\", \"CT\", \"DE\", \"FL\", \"GA\", \"HI\", \"ID\", \"IL\", \"IN\", \"IA\", \"KS\", \"KY\", \"LA\", \"ME\", \"MD\", \"MA\", \"MI\", \"MN\", \"MS\", \"MO\", \"MT\", \"NE\", \"NV\", \"NH\", \"NJ\", \"NM\", \"NY\", \"NC\", \"ND\", \"OH\", \"OK\", \"OR\", \"PA\", \"RI\", \"SC\", \"SD\", \"TN\", \"TX\", \"UT\", \"VT\", \"VA\", \"WA\", \"WV\", \"WI\", \"WY\", \"DC\", \"US\"], \"z\": [6.4, 8.0, 4.3, 5.0, 9.2, 5.1, 7.7, 4.6, 8.0, 7.0, 5.9, 2.3, 5.3, 5.5, 2.9, 3.5, 4.3, 7.3, 4.7, 5.4, 4.7, 4.6, 2.0, 5.9, 2.6, 4.0, 4.1, 5.8, 3.1, 6.8, 4.7, 8.6, 5.0, 3.9, 3.8, 4.5, 4.2, 6.4, 4.7, 6.3, 3.6, 5.2, 6.3, 3.4, 5.8, 6.8, 3.5, 4.4, 2.7, 3.3, 7.9, 6.0], \"type\": \"choropleth\"}, {\"customdata\": [[57, \"Alabama\"], [45, \"Alaska\"], [68, \"Arizona\"], [60, \"Arkansas\"], [54, \"California\"], [55, \"Colorado\"], [44, \"Connecticut\"], [56, \"Delaware\"], [57, \"Florida\"], [55, \"Georgia\"], [64, \"Hawaii\"], [69, \"Idaho\"], [59, \"Illinois\"], [58, \"Indiana\"], [65, \"Iowa\"], [52, \"Kansas\"], [58, \"Kentucky\"], [63, \"Louisiana\"], [51, \"Maine\"], [54, \"Maryland\"], [57, \"Massachusetts\"], [57, \"Michigan\"], [64, \"Minnesota\"], [65, \"Mississippi\"], [70, \"Missouri\"], [50, \"Montana\"], [59, \"Nebraska\"], [58, \"Nevada\"], [62, \"New Hampshire\"], [51, \"New Jersey\"], [66, \"New Mexico\"], [51, \"New York\"], [67, \"North Carolina\"], [60, \"North Dakota\"], [69, \"Ohio\"], [56, \"Oklahoma\"], [59, \"Oregon\"], [51, \"Pennsylvania\"], [53, \"Rhode Island\"], [58, \"South Carolina\"], [60, \"South Dakota\"], [57, \"Tennessee\"], [60, \"Texas\"], [57, \"Utah\"], [55, \"Vermont\"], [50, \"Virginia\"], [62, \"Washington\"], [68, \"West Virginia\"], [67, \"Wisconsin\"], [65, \"Wyoming\"], [55, \"District of Columbia\"], [58, \"US\"]], \"hovertemplate\": \"<b>%{customdata[1]}</b><br>Child poverty rate: %{z}%<br>Poverty reduction: %{customdata[0]}%<extra></extra>\", \"locationmode\": \"USA-states\", \"locations\": [\"AL\", \"AK\", \"AZ\", \"AR\", \"CA\", \"CO\", \"CT\", \"DE\", \"FL\", \"GA\", \"HI\", \"ID\", \"IL\", \"IN\", \"IA\", \"KS\", \"KY\", \"LA\", \"ME\", \"MD\", \"MA\", \"MI\", \"MN\", \"MS\", \"MO\", \"MT\", \"NE\", \"NV\", \"NH\", \"NJ\", \"NM\", \"NY\", \"NC\", \"ND\", \"OH\", \"OK\", \"OR\", \"PA\", \"RI\", \"SC\", \"SD\", \"TN\", \"TX\", \"UT\", \"VT\", \"VA\", \"WA\", \"WV\", \"WI\", \"WY\", \"DC\", \"US\"], \"z\": [6.4, 7.9, 4.2, 5.0, 9.0, 5.1, 7.6, 4.6, 8.0, 6.9, 5.6, 2.2, 5.1, 5.3, 2.8, 3.5, 4.3, 7.3, 4.7, 5.2, 4.6, 4.5, 1.9, 5.9, 2.6, 4.0, 4.0, 5.8, 3.1, 6.8, 4.7, 8.5, 4.9, 3.9, 3.5, 4.4, 4.2, 6.4, 4.7, 6.3, 3.6, 5.2, 6.1, 3.3, 5.6, 6.7, 3.3, 4.3, 2.7, 3.3, 7.8, 5.9], \"type\": \"choropleth\"}], \"name\": \"350\", \"traces\": [0, 1, 2]}, {\"data\": [{\"customdata\": [[61, \"Alabama\"], [48, \"Alaska\"], [72, \"Arizona\"], [63, \"Arkansas\"], [58, \"California\"], [58, \"Colorado\"], [45, \"Connecticut\"], [61, \"Delaware\"], [60, \"Florida\"], [57, \"Georgia\"], [65, \"Hawaii\"], [73, \"Idaho\"], [64, \"Illinois\"], [66, \"Indiana\"], [65, \"Iowa\"], [58, \"Kansas\"], [63, \"Kentucky\"], [68, \"Louisiana\"], [56, \"Maine\"], [57, \"Maryland\"], [59, \"Massachusetts\"], [60, \"Michigan\"], [66, \"Minnesota\"], [68, \"Mississippi\"], [70, \"Missouri\"], [55, \"Montana\"], [60, \"Nebraska\"], [62, \"Nevada\"], [62, \"New Hampshire\"], [53, \"New Jersey\"], [68, \"New Mexico\"], [53, \"New York\"], [70, \"North Carolina\"], [67, \"North Dakota\"], [73, \"Ohio\"], [61, \"Oklahoma\"], [64, \"Oregon\"], [55, \"Pennsylvania\"], [56, \"Rhode Island\"], [64, \"South Carolina\"], [64, \"South Dakota\"], [63, \"Tennessee\"], [63, \"Texas\"], [58, \"Utah\"], [56, \"Vermont\"], [61, \"Virginia\"], [62, \"Washington\"], [72, \"West Virginia\"], [67, \"Wisconsin\"], [70, \"Wyoming\"], [56, \"District of Columbia\"], [61, \"US\"]], \"hovertemplate\": \"<b>%{customdata[1]}</b><br>Child poverty rate: %{z}%<br>Poverty reduction: %{customdata[0]}%<extra></extra>\", \"locationmode\": \"USA-states\", \"locations\": [\"AL\", \"AK\", \"AZ\", \"AR\", \"CA\", \"CO\", \"CT\", \"DE\", \"FL\", \"GA\", \"HI\", \"ID\", \"IL\", \"IN\", \"IA\", \"KS\", \"KY\", \"LA\", \"ME\", \"MD\", \"MA\", \"MI\", \"MN\", \"MS\", \"MO\", \"MT\", \"NE\", \"NV\", \"NH\", \"NJ\", \"NM\", \"NY\", \"NC\", \"ND\", \"OH\", \"OK\", \"OR\", \"PA\", \"RI\", \"SC\", \"SD\", \"TN\", \"TX\", \"UT\", \"VT\", \"VA\", \"WA\", \"WV\", \"WI\", \"WY\", \"DC\", \"US\"], \"z\": [5.7, 7.5, 3.7, 4.6, 8.2, 4.8, 7.5, 4.1, 7.3, 6.6, 5.5, 1.9, 4.5, 4.3, 2.8, 3.1, 3.8, 6.3, 4.2, 4.8, 4.4, 4.2, 1.8, 5.5, 2.6, 3.6, 3.9, 5.2, 3.1, 6.5, 4.4, 8.1, 4.4, 3.2, 3.1, 3.9, 3.7, 5.9, 4.4, 5.5, 3.3, 4.5, 5.6, 3.2, 5.4, 5.2, 3.3, 3.7, 2.7, 2.8, 7.6, 5.4], \"type\": \"choropleth\"}, {\"customdata\": [[61, \"Alabama\"], [48, \"Alaska\"], [72, \"Arizona\"], [63, \"Arkansas\"], [58, \"California\"], [58, \"Colorado\"], [45, \"Connecticut\"], [61, \"Delaware\"], [60, \"Florida\"], [57, \"Georgia\"], [65, \"Hawaii\"], [73, \"Idaho\"], [64, \"Illinois\"], [65, \"Indiana\"], [65, \"Iowa\"], [58, \"Kansas\"], [63, \"Kentucky\"], [68, \"Louisiana\"], [56, \"Maine\"], [57, \"Maryland\"], [60, \"Massachusetts\"], [60, \"Michigan\"], [66, \"Minnesota\"], [68, \"Mississippi\"], [70, \"Missouri\"], [55, \"Montana\"], [60, \"Nebraska\"], [62, \"Nevada\"], [62, \"New Hampshire\"], [53, \"New Jersey\"], [68, \"New Mexico\"], [53, \"New York\"], [70, \"North Carolina\"], [67, \"North Dakota\"], [73, \"Ohio\"], [61, \"Oklahoma\"], [64, \"Oregon\"], [55, \"Pennsylvania\"], [56, \"Rhode Island\"], [64, \"South Carolina\"], [64, \"South Dakota\"], [63, \"Tennessee\"], [63, \"Texas\"], [58, \"Utah\"], [56, \"Vermont\"], [61, \"Virginia\"], [62, \"Washington\"], [72, \"West Virginia\"], [67, \"Wisconsin\"], [70, \"Wyoming\"], [57, \"District of Columbia\"], [61, \"US\"]], \"hovertemplate\": \"<b>%{customdata[1]}</b><br>Child poverty rate: %{z}%<br>Poverty reduction: %{customdata[0]}%<extra></extra>\", \"locationmode\": \"USA-states\", \"locations\": [\"AL\", \"AK\", \"AZ\", \"AR\", \"CA\", \"CO\", \"CT\", \"DE\", \"FL\", \"GA\", \"HI\", \"ID\", \"IL\", \"IN\", \"IA\", \"KS\", \"KY\", \"LA\", \"ME\", \"MD\", \"MA\", \"MI\", \"MN\", \"MS\", \"MO\", \"MT\", \"NE\", \"NV\", \"NH\", \"NJ\", \"NM\", \"NY\", \"NC\", \"ND\", \"OH\", \"OK\", \"OR\", \"PA\", \"RI\", \"SC\", \"SD\", \"TN\", \"TX\", \"UT\", \"VT\", \"VA\", \"WA\", \"WV\", \"WI\", \"WY\", \"DC\", \"US\"], \"z\": [5.7, 7.5, 3.7, 4.6, 8.2, 4.8, 7.5, 4.1, 7.3, 6.6, 5.5, 1.9, 4.5, 4.4, 2.8, 3.1, 3.8, 6.3, 4.2, 4.8, 4.3, 4.2, 1.8, 5.5, 2.6, 3.6, 3.9, 5.2, 3.1, 6.5, 4.4, 8.1, 4.4, 3.2, 3.1, 3.9, 3.7, 5.9, 4.4, 5.5, 3.3, 4.5, 5.6, 3.2, 5.4, 5.2, 3.3, 3.7, 2.7, 2.8, 7.5, 5.4], \"type\": \"choropleth\"}, {\"customdata\": [[61, \"Alabama\"], [48, \"Alaska\"], [72, \"Arizona\"], [64, \"Arkansas\"], [59, \"California\"], [58, \"Colorado\"], [48, \"Connecticut\"], [61, \"Delaware\"], [61, \"Florida\"], [59, \"Georgia\"], [68, \"Hawaii\"], [73, \"Idaho\"], [66, \"Illinois\"], [66, \"Indiana\"], [67, \"Iowa\"], [58, \"Kansas\"], [65, \"Kentucky\"], [68, \"Louisiana\"], [56, \"Maine\"], [57, \"Maryland\"], [60, \"Massachusetts\"], [61, \"Michigan\"], [66, \"Minnesota\"], [68, \"Mississippi\"], [72, \"Missouri\"], [55, \"Montana\"], [60, \"Nebraska\"], [62, \"Nevada\"], [62, \"New Hampshire\"], [54, \"New Jersey\"], [69, \"New Mexico\"], [55, \"New York\"], [72, \"North Carolina\"], [67, \"North Dakota\"], [73, \"Ohio\"], [61, \"Oklahoma\"], [65, \"Oregon\"], [56, \"Pennsylvania\"], [56, \"Rhode Island\"], [64, \"South Carolina\"], [64, \"South Dakota\"], [63, \"Tennessee\"], [64, \"Texas\"], [58, \"Utah\"], [56, \"Vermont\"], [62, \"Virginia\"], [62, \"Washington\"], [72, \"West Virginia\"], [70, \"Wisconsin\"], [70, \"Wyoming\"], [57, \"District of Columbia\"], [62, \"US\"]], \"hovertemplate\": \"<b>%{customdata[1]}</b><br>Child poverty rate: %{z}%<br>Poverty reduction: %{customdata[0]}%<extra></extra>\", \"locationmode\": \"USA-states\", \"locations\": [\"AL\", \"AK\", \"AZ\", \"AR\", \"CA\", \"CO\", \"CT\", \"DE\", \"FL\", \"GA\", \"HI\", \"ID\", \"IL\", \"IN\", \"IA\", \"KS\", \"KY\", \"LA\", \"ME\", \"MD\", \"MA\", \"MI\", \"MN\", \"MS\", \"MO\", \"MT\", \"NE\", \"NV\", \"NH\", \"NJ\", \"NM\", \"NY\", \"NC\", \"ND\", \"OH\", \"OK\", \"OR\", \"PA\", \"RI\", \"SC\", \"SD\", \"TN\", \"TX\", \"UT\", \"VT\", \"VA\", \"WA\", \"WV\", \"WI\", \"WY\", \"DC\", \"US\"], \"z\": [5.7, 7.5, 3.7, 4.5, 8.0, 4.8, 7.1, 4.1, 7.2, 6.4, 5.0, 1.9, 4.3, 4.3, 2.7, 3.1, 3.6, 6.2, 4.2, 4.8, 4.3, 4.1, 1.8, 5.5, 2.5, 3.6, 3.9, 5.2, 3.1, 6.4, 4.3, 7.8, 4.2, 3.2, 3.0, 3.9, 3.6, 5.7, 4.4, 5.5, 3.3, 4.5, 5.5, 3.2, 5.4, 5.1, 3.3, 3.7, 2.5, 2.8, 7.4, 5.3], \"type\": \"choropleth\"}], \"name\": \"400\", \"traces\": [0, 1, 2]}, {\"data\": [{\"customdata\": [[66, \"Alabama\"], [48, \"Alaska\"], [75, \"Arizona\"], [69, \"Arkansas\"], [63, \"California\"], [64, \"Colorado\"], [55, \"Connecticut\"], [62, \"Delaware\"], [64, \"Florida\"], [65, \"Georgia\"], [71, \"Hawaii\"], [73, \"Idaho\"], [70, \"Illinois\"], [70, \"Indiana\"], [73, \"Iowa\"], [70, \"Kansas\"], [71, \"Kentucky\"], [72, \"Louisiana\"], [57, \"Maine\"], [62, \"Maryland\"], [65, \"Massachusetts\"], [64, \"Michigan\"], [66, \"Minnesota\"], [70, \"Mississippi\"], [74, \"Missouri\"], [59, \"Montana\"], [63, \"Nebraska\"], [68, \"Nevada\"], [65, \"New Hampshire\"], [59, \"New Jersey\"], [73, \"New Mexico\"], [58, \"New York\"], [72, \"North Carolina\"], [74, \"North Dakota\"], [74, \"Ohio\"], [69, \"Oklahoma\"], [64, \"Oregon\"], [62, \"Pennsylvania\"], [62, \"Rhode Island\"], [66, \"South Carolina\"], [70, \"South Dakota\"], [67, \"Tennessee\"], [68, \"Texas\"], [61, \"Utah\"], [60, \"Vermont\"], [66, \"Virginia\"], [69, \"Washington\"], [76, \"West Virginia\"], [72, \"Wisconsin\"], [71, \"Wyoming\"], [60, \"District of Columbia\"], [65, \"US\"]], \"hovertemplate\": \"<b>%{customdata[1]}</b><br>Child poverty rate: %{z}%<br>Poverty reduction: %{customdata[0]}%<extra></extra>\", \"locationmode\": \"USA-states\", \"locations\": [\"AL\", \"AK\", \"AZ\", \"AR\", \"CA\", \"CO\", \"CT\", \"DE\", \"FL\", \"GA\", \"HI\", \"ID\", \"IL\", \"IN\", \"IA\", \"KS\", \"KY\", \"LA\", \"ME\", \"MD\", \"MA\", \"MI\", \"MN\", \"MS\", \"MO\", \"MT\", \"NE\", \"NV\", \"NH\", \"NJ\", \"NM\", \"NY\", \"NC\", \"ND\", \"OH\", \"OK\", \"OR\", \"PA\", \"RI\", \"SC\", \"SD\", \"TN\", \"TX\", \"UT\", \"VT\", \"VA\", \"WA\", \"WV\", \"WI\", \"WY\", \"DC\", \"US\"], \"z\": [5.0, 7.4, 3.3, 3.9, 7.3, 4.1, 6.1, 4.0, 6.7, 5.4, 4.6, 1.9, 3.8, 3.8, 2.2, 2.2, 3.0, 5.4, 4.1, 4.3, 3.7, 3.8, 1.8, 5.1, 2.3, 3.3, 3.6, 4.4, 2.8, 5.6, 3.8, 7.2, 4.1, 2.5, 2.9, 3.1, 3.7, 5.0, 3.8, 5.1, 2.7, 4.0, 4.9, 3.0, 4.9, 4.5, 2.7, 3.2, 2.3, 2.7, 6.9, 4.8], \"type\": \"choropleth\"}, {\"customdata\": [[66, \"Alabama\"], [48, \"Alaska\"], [75, \"Arizona\"], [69, \"Arkansas\"], [63, \"California\"], [64, \"Colorado\"], [56, \"Connecticut\"], [62, \"Delaware\"], [64, \"Florida\"], [65, \"Georgia\"], [71, \"Hawaii\"], [73, \"Idaho\"], [70, \"Illinois\"], [69, \"Indiana\"], [73, \"Iowa\"], [70, \"Kansas\"], [71, \"Kentucky\"], [72, \"Louisiana\"], [57, \"Maine\"], [62, \"Maryland\"], [66, \"Massachusetts\"], [64, \"Michigan\"], [66, \"Minnesota\"], [70, \"Mississippi\"], [74, \"Missouri\"], [59, \"Montana\"], [63, \"Nebraska\"], [68, \"Nevada\"], [65, \"New Hampshire\"], [60, \"New Jersey\"], [73, \"New Mexico\"], [59, \"New York\"], [72, \"North Carolina\"], [74, \"North Dakota\"], [74, \"Ohio\"], [69, \"Oklahoma\"], [64, \"Oregon\"], [62, \"Pennsylvania\"], [62, \"Rhode Island\"], [66, \"South Carolina\"], [70, \"South Dakota\"], [67, \"Tennessee\"], [68, \"Texas\"], [59, \"Utah\"], [60, \"Vermont\"], [66, \"Virginia\"], [69, \"Washington\"], [76, \"West Virginia\"], [72, \"Wisconsin\"], [71, \"Wyoming\"], [61, \"District of Columbia\"], [65, \"US\"]], \"hovertemplate\": \"<b>%{customdata[1]}</b><br>Child poverty rate: %{z}%<br>Poverty reduction: %{customdata[0]}%<extra></extra>\", \"locationmode\": \"USA-states\", \"locations\": [\"AL\", \"AK\", \"AZ\", \"AR\", \"CA\", \"CO\", \"CT\", \"DE\", \"FL\", \"GA\", \"HI\", \"ID\", \"IL\", \"IN\", \"IA\", \"KS\", \"KY\", \"LA\", \"ME\", \"MD\", \"MA\", \"MI\", \"MN\", \"MS\", \"MO\", \"MT\", \"NE\", \"NV\", \"NH\", \"NJ\", \"NM\", \"NY\", \"NC\", \"ND\", \"OH\", \"OK\", \"OR\", \"PA\", \"RI\", \"SC\", \"SD\", \"TN\", \"TX\", \"UT\", \"VT\", \"VA\", \"WA\", \"WV\", \"WI\", \"WY\", \"DC\", \"US\"], \"z\": [5.0, 7.4, 3.3, 3.9, 7.3, 4.1, 6.0, 4.0, 6.7, 5.4, 4.6, 1.9, 3.8, 3.9, 2.2, 2.2, 3.0, 5.4, 4.1, 4.3, 3.6, 3.8, 1.8, 5.1, 2.3, 3.3, 3.6, 4.4, 2.8, 5.5, 3.8, 7.1, 4.1, 2.5, 2.9, 3.1, 3.7, 5.0, 3.8, 5.2, 2.7, 4.0, 4.9, 3.1, 4.9, 4.5, 2.7, 3.2, 2.3, 2.7, 6.7, 4.8], \"type\": \"choropleth\"}, {\"customdata\": [[66, \"Alabama\"], [50, \"Alaska\"], [75, \"Arizona\"], [69, \"Arkansas\"], [63, \"California\"], [65, \"Colorado\"], [57, \"Connecticut\"], [62, \"Delaware\"], [64, \"Florida\"], [65, \"Georgia\"], [71, \"Hawaii\"], [73, \"Idaho\"], [70, \"Illinois\"], [71, \"Indiana\"], [77, \"Iowa\"], [70, \"Kansas\"], [71, \"Kentucky\"], [73, \"Louisiana\"], [59, \"Maine\"], [62, \"Maryland\"], [66, \"Massachusetts\"], [65, \"Michigan\"], [68, \"Minnesota\"], [70, \"Mississippi\"], [74, \"Missouri\"], [59, \"Montana\"], [64, \"Nebraska\"], [68, \"Nevada\"], [67, \"New Hampshire\"], [62, \"New Jersey\"], [73, \"New Mexico\"], [59, \"New York\"], [74, \"North Carolina\"], [74, \"North Dakota\"], [75, \"Ohio\"], [69, \"Oklahoma\"], [65, \"Oregon\"], [62, \"Pennsylvania\"], [62, \"Rhode Island\"], [66, \"South Carolina\"], [73, \"South Dakota\"], [67, \"Tennessee\"], [69, \"Texas\"], [61, \"Utah\"], [60, \"Vermont\"], [66, \"Virginia\"], [69, \"Washington\"], [77, \"West Virginia\"], [72, \"Wisconsin\"], [71, \"Wyoming\"], [61, \"District of Columbia\"], [66, \"US\"]], \"hovertemplate\": \"<b>%{customdata[1]}</b><br>Child poverty rate: %{z}%<br>Poverty reduction: %{customdata[0]}%<extra></extra>\", \"locationmode\": \"USA-states\", \"locations\": [\"AL\", \"AK\", \"AZ\", \"AR\", \"CA\", \"CO\", \"CT\", \"DE\", \"FL\", \"GA\", \"HI\", \"ID\", \"IL\", \"IN\", \"IA\", \"KS\", \"KY\", \"LA\", \"ME\", \"MD\", \"MA\", \"MI\", \"MN\", \"MS\", \"MO\", \"MT\", \"NE\", \"NV\", \"NH\", \"NJ\", \"NM\", \"NY\", \"NC\", \"ND\", \"OH\", \"OK\", \"OR\", \"PA\", \"RI\", \"SC\", \"SD\", \"TN\", \"TX\", \"UT\", \"VT\", \"VA\", \"WA\", \"WV\", \"WI\", \"WY\", \"DC\", \"US\"], \"z\": [5.0, 7.1, 3.3, 3.9, 7.2, 4.0, 5.9, 4.0, 6.6, 5.4, 4.6, 1.9, 3.7, 3.7, 1.9, 2.2, 3.0, 5.3, 3.9, 4.2, 3.6, 3.7, 1.7, 5.1, 2.3, 3.3, 3.5, 4.4, 2.7, 5.3, 3.8, 7.0, 3.8, 2.5, 2.8, 3.1, 3.6, 4.9, 3.8, 5.1, 2.5, 4.0, 4.8, 3.0, 4.9, 4.5, 2.7, 3.1, 2.3, 2.7, 6.7, 4.7], \"type\": \"choropleth\"}], \"name\": \"450\", \"traces\": [0, 1, 2]}, {\"data\": [{\"customdata\": [[68, \"Alabama\"], [53, \"Alaska\"], [76, \"Arizona\"], [74, \"Arkansas\"], [66, \"California\"], [67, \"Colorado\"], [58, \"Connecticut\"], [62, \"Delaware\"], [67, \"Florida\"], [69, \"Georgia\"], [77, \"Hawaii\"], [75, \"Idaho\"], [73, \"Illinois\"], [75, \"Indiana\"], [75, \"Iowa\"], [71, \"Kansas\"], [73, \"Kentucky\"], [76, \"Louisiana\"], [60, \"Maine\"], [63, \"Maryland\"], [69, \"Massachusetts\"], [66, \"Michigan\"], [77, \"Minnesota\"], [74, \"Mississippi\"], [76, \"Missouri\"], [68, \"Montana\"], [66, \"Nebraska\"], [69, \"Nevada\"], [73, \"New Hampshire\"], [64, \"New Jersey\"], [77, \"New Mexico\"], [63, \"New York\"], [77, \"North Carolina\"], [74, \"North Dakota\"], [77, \"Ohio\"], [72, \"Oklahoma\"], [71, \"Oregon\"], [67, \"Pennsylvania\"], [73, \"Rhode Island\"], [68, \"South Carolina\"], [75, \"South Dakota\"], [68, \"Tennessee\"], [72, \"Texas\"], [62, \"Utah\"], [64, \"Vermont\"], [69, \"Virginia\"], [70, \"Washington\"], [81, \"West Virginia\"], [73, \"Wisconsin\"], [76, \"Wyoming\"], [66, \"District of Columbia\"], [69, \"US\"]], \"hovertemplate\": \"<b>%{customdata[1]}</b><br>Child poverty rate: %{z}%<br>Poverty reduction: %{customdata[0]}%<extra></extra>\", \"locationmode\": \"USA-states\", \"locations\": [\"AL\", \"AK\", \"AZ\", \"AR\", \"CA\", \"CO\", \"CT\", \"DE\", \"FL\", \"GA\", \"HI\", \"ID\", \"IL\", \"IN\", \"IA\", \"KS\", \"KY\", \"LA\", \"ME\", \"MD\", \"MA\", \"MI\", \"MN\", \"MS\", \"MO\", \"MT\", \"NE\", \"NV\", \"NH\", \"NJ\", \"NM\", \"NY\", \"NC\", \"ND\", \"OH\", \"OK\", \"OR\", \"PA\", \"RI\", \"SC\", \"SD\", \"TN\", \"TX\", \"UT\", \"VT\", \"VA\", \"WA\", \"WV\", \"WI\", \"WY\", \"DC\", \"US\"], \"z\": [4.8, 6.7, 3.1, 3.2, 6.7, 3.8, 5.7, 3.9, 6.0, 4.8, 3.6, 1.8, 3.4, 3.2, 2.0, 2.1, 2.8, 4.6, 3.8, 4.1, 3.3, 3.6, 1.2, 4.4, 2.1, 2.6, 3.3, 4.2, 2.2, 4.9, 3.2, 6.3, 3.5, 2.5, 2.6, 2.8, 3.0, 4.3, 2.7, 4.8, 2.3, 3.9, 4.3, 2.9, 4.5, 4.1, 2.6, 2.6, 2.2, 2.2, 5.9, 4.3], \"type\": \"choropleth\"}, {\"customdata\": [[68, \"Alabama\"], [53, \"Alaska\"], [76, \"Arizona\"], [74, \"Arkansas\"], [66, \"California\"], [67, \"Colorado\"], [58, \"Connecticut\"], [62, \"Delaware\"], [67, \"Florida\"], [69, \"Georgia\"], [77, \"Hawaii\"], [75, \"Idaho\"], [73, \"Illinois\"], [74, \"Indiana\"], [75, \"Iowa\"], [71, \"Kansas\"], [73, \"Kentucky\"], [76, \"Louisiana\"], [60, \"Maine\"], [64, \"Maryland\"], [69, \"Massachusetts\"], [66, \"Michigan\"], [77, \"Minnesota\"], [74, \"Mississippi\"], [76, \"Missouri\"], [68, \"Montana\"], [66, \"Nebraska\"], [69, \"Nevada\"], [73, \"New Hampshire\"], [64, \"New Jersey\"], [77, \"New Mexico\"], [63, \"New York\"], [77, \"North Carolina\"], [74, \"North Dakota\"], [77, \"Ohio\"], [72, \"Oklahoma\"], [71, \"Oregon\"], [67, \"Pennsylvania\"], [73, \"Rhode Island\"], [68, \"South Carolina\"], [75, \"South Dakota\"], [68, \"Tennessee\"], [72, \"Texas\"], [62, \"Utah\"], [64, \"Vermont\"], [69, \"Virginia\"], [70, \"Washington\"], [80, \"West Virginia\"], [73, \"Wisconsin\"], [76, \"Wyoming\"], [66, \"District of Columbia\"], [69, \"US\"]], \"hovertemplate\": \"<b>%{customdata[1]}</b><br>Child poverty rate: %{z}%<br>Poverty reduction: %{customdata[0]}%<extra></extra>\", \"locationmode\": \"USA-states\", \"locations\": [\"AL\", \"AK\", \"AZ\", \"AR\", \"CA\", \"CO\", \"CT\", \"DE\", \"FL\", \"GA\", \"HI\", \"ID\", \"IL\", \"IN\", \"IA\", \"KS\", \"KY\", \"LA\", \"ME\", \"MD\", \"MA\", \"MI\", \"MN\", \"MS\", \"MO\", \"MT\", \"NE\", \"NV\", \"NH\", \"NJ\", \"NM\", \"NY\", \"NC\", \"ND\", \"OH\", \"OK\", \"OR\", \"PA\", \"RI\", \"SC\", \"SD\", \"TN\", \"TX\", \"UT\", \"VT\", \"VA\", \"WA\", \"WV\", \"WI\", \"WY\", \"DC\", \"US\"], \"z\": [4.8, 6.7, 3.1, 3.2, 6.7, 3.8, 5.7, 3.9, 6.0, 4.8, 3.6, 1.8, 3.4, 3.3, 2.0, 2.1, 2.8, 4.6, 3.8, 4.0, 3.3, 3.6, 1.2, 4.4, 2.1, 2.6, 3.3, 4.2, 2.2, 4.9, 3.2, 6.3, 3.5, 2.5, 2.6, 2.8, 3.0, 4.3, 2.7, 4.8, 2.3, 3.9, 4.3, 2.9, 4.5, 4.1, 2.6, 2.7, 2.2, 2.2, 5.8, 4.3], \"type\": \"choropleth\"}, {\"customdata\": [[68, \"Alabama\"], [53, \"Alaska\"], [76, \"Arizona\"], [75, \"Arkansas\"], [67, \"California\"], [67, \"Colorado\"], [60, \"Connecticut\"], [64, \"Delaware\"], [67, \"Florida\"], [70, \"Georgia\"], [78, \"Hawaii\"], [75, \"Idaho\"], [73, \"Illinois\"], [75, \"Indiana\"], [77, \"Iowa\"], [71, \"Kansas\"], [73, \"Kentucky\"], [76, \"Louisiana\"], [61, \"Maine\"], [64, \"Maryland\"], [71, \"Massachusetts\"], [66, \"Michigan\"], [77, \"Minnesota\"], [74, \"Mississippi\"], [76, \"Missouri\"], [68, \"Montana\"], [67, \"Nebraska\"], [69, \"Nevada\"], [74, \"New Hampshire\"], [67, \"New Jersey\"], [77, \"New Mexico\"], [65, \"New York\"], [77, \"North Carolina\"], [74, \"North Dakota\"], [78, \"Ohio\"], [72, \"Oklahoma\"], [72, \"Oregon\"], [68, \"Pennsylvania\"], [73, \"Rhode Island\"], [68, \"South Carolina\"], [77, \"South Dakota\"], [68, \"Tennessee\"], [73, \"Texas\"], [62, \"Utah\"], [65, \"Vermont\"], [69, \"Virginia\"], [70, \"Washington\"], [81, \"West Virginia\"], [73, \"Wisconsin\"], [76, \"Wyoming\"], [68, \"District of Columbia\"], [70, \"US\"]], \"hovertemplate\": \"<b>%{customdata[1]}</b><br>Child poverty rate: %{z}%<br>Poverty reduction: %{customdata[0]}%<extra></extra>\", \"locationmode\": \"USA-states\", \"locations\": [\"AL\", \"AK\", \"AZ\", \"AR\", \"CA\", \"CO\", \"CT\", \"DE\", \"FL\", \"GA\", \"HI\", \"ID\", \"IL\", \"IN\", \"IA\", \"KS\", \"KY\", \"LA\", \"ME\", \"MD\", \"MA\", \"MI\", \"MN\", \"MS\", \"MO\", \"MT\", \"NE\", \"NV\", \"NH\", \"NJ\", \"NM\", \"NY\", \"NC\", \"ND\", \"OH\", \"OK\", \"OR\", \"PA\", \"RI\", \"SC\", \"SD\", \"TN\", \"TX\", \"UT\", \"VT\", \"VA\", \"WA\", \"WV\", \"WI\", \"WY\", \"DC\", \"US\"], \"z\": [4.8, 6.7, 3.1, 3.1, 6.5, 3.8, 5.4, 3.7, 6.0, 4.6, 3.5, 1.8, 3.4, 3.2, 1.9, 2.1, 2.8, 4.6, 3.7, 4.0, 3.1, 3.6, 1.2, 4.4, 2.1, 2.6, 3.2, 4.2, 2.1, 4.6, 3.2, 6.0, 3.4, 2.5, 2.5, 2.8, 2.9, 4.2, 2.7, 4.8, 2.1, 3.9, 4.2, 2.9, 4.4, 4.1, 2.6, 2.6, 2.2, 2.2, 5.5, 4.2], \"type\": \"choropleth\"}], \"name\": \"500\", \"traces\": [0, 1, 2]}]);\n",
       "                        }).then(function(){\n",
       "                            \n",
       "var gd = document.getElementById('a835fafb-bf8f-4111-83a3-555db952ed76');\n",
       "var x = new MutationObserver(function (mutations, observer) {{\n",
       "        var display = window.getComputedStyle(gd).display;\n",
       "        if (!display || display === 'none') {{\n",
       "            console.log([gd, 'removed!']);\n",
       "            Plotly.purge(gd);\n",
       "            observer.disconnect();\n",
       "        }}\n",
       "}});\n",
       "\n",
       "// Listen for the removal of the full notebook cells\n",
       "var notebookContainer = gd.closest('#notebook-container');\n",
       "if (notebookContainer) {{\n",
       "    x.observe(notebookContainer, {childList: true});\n",
       "}}\n",
       "\n",
       "// Listen for the clearing of the current output cell\n",
       "var outputEl = gd.closest('.output');\n",
       "if (outputEl) {{\n",
       "    x.observe(outputEl, {childList: true});\n",
       "}}\n",
       "\n",
       "                        })\n",
       "                };\n",
       "                });\n",
       "            </script>\n",
       "        </div>"
      ]
     },
     "metadata": {},
     "output_type": "display_data"
    }
   ],
   "source": [
    "# TODO: Add tax reforms as a drop-down (mirrored from simulation.ipynb).\n",
    "\n",
    "# Imports.\n",
    "import pandas as pd\n",
    "import plotly.express as px\n",
    "import plotly.graph_objects as go\n",
    "\n",
    "# Load data.\n",
    "summary = pd.read_csv('https://github.com/ngpsu22/Child_Allowance_States/raw/main/poverty_gini_tax_child_allowance')\n",
    "\n",
    "# General configs.\n",
    "LABELS = {'monthly_ca': 'Monthly child allowance',\n",
    "          'decile': 'Decile',\n",
    "          'net_chg': 'Net change',\n",
    "          'pct_chg': 'Net change',\n",
    "          'child_allowance':'Monthly child allowance',\n",
    "          'code': 'State',\n",
    "          'state': 'State',\n",
    "          'fed_tax_rate': 'Tax rate',\n",
    "          'state_tax_rate': 'Tax rate',\n",
    "          'non_funded_poverty_rate': 'Poverty rate',\n",
    "          'fed_poverty_rate': 'Poverty rate',\n",
    "          'state_poverty_rate': 'Poverty rate',\n",
    "          'non_funded_gini': 'Gini index',\n",
    "          'fed_gini': 'Gini index',\n",
    "          'state_gini': 'Gini index'}\n",
    "\n",
    "CONFIG = {'displayModeBar': False}\n",
    "\n",
    "# Preprocess data.\n",
    "summary.drop('Unnamed: 0', 1, inplace = True)\n",
    "state_dict = summary[['code', 'state']].set_index('code').to_dict()['state']\n",
    "\n",
    "# data labels\n",
    "FUNDING = {'fed_poverty_rate': 'Federal tax',\n",
    "           'state_poverty_rate': 'State tax',\n",
    "           'non_funded_poverty_rate': 'No funding'}\n",
    "\n",
    "ca_amts = summary.child_allowance.unique()\n",
    "child_poverty = summary[(summary['age_group'] == 'child') &\n",
    "                        (summary['race'] == 'All')]\n",
    "\n",
    "# create figure dictionary\n",
    "fig_dict = {\n",
    "    'data': [],\n",
    "    'layout': {},\n",
    "    'frames': []\n",
    "}\n",
    "\n",
    "# fill in most of layout\n",
    "fig_dict['layout'] = {\n",
    "    'plot_bgcolor': 'white',\n",
    "    'font': dict(family = 'Roboto'),\n",
    "    'height': 600,\n",
    "    'margin': dict(t=100, b=0, l=0, r=10)\n",
    "}\n",
    "fig_dict['layout']['title'] = {\n",
    "    'text': ('Child poverty by state and child allowance amount'),\n",
    "    'y': 0.97,\n",
    "    'x': 0.05,\n",
    "    'xanchor': 'left',\n",
    "    'yanchor': 'top'\n",
    "}\n",
    "\n",
    "# add slider specifications\n",
    "slidermenu =  {\n",
    "    'buttons': [\n",
    "        {\n",
    "            'args': [None, {'frame': {'duration': 500, 'redraw': True},\n",
    "                            'fromcurrent': True,\n",
    "                            'transition': {'duration': 300,\n",
    "                                           'easing': 'quadratic-in-out'}}],\n",
    "            'label': '&#9654;',\n",
    "            'method': 'animate'\n",
    "        },\n",
    "        {\n",
    "            \"args\": [[None], {\"frame\": {\"duration\": 0, \"redraw\": True},\n",
    "                              \"mode\": \"immediate\",\n",
    "                              \"transition\": {\"duration\": 0}}],\n",
    "            \"label\": \"&#9724;\",\n",
    "            \"method\": \"animate\"\n",
    "        }\n",
    "    ],\n",
    "    'direction': 'left',\n",
    "    'pad': {'r': 15, 't': 75},\n",
    "    'showactive': True,\n",
    "    'type': 'buttons',\n",
    "    'x': 0.1,\n",
    "    'xanchor': 'right',\n",
    "    'y': 0,\n",
    "    'yanchor': 'top'\n",
    "}\n",
    "    \n",
    "sliders_dict = {\n",
    "    'active': 0,\n",
    "    'yanchor': 'top',\n",
    "    'xanchor': 'left',\n",
    "    'currentvalue': {\n",
    "        'font': {'size': 20},\n",
    "        'prefix': 'Monthly child allowance: ',\n",
    "        'visible': True,\n",
    "        'xanchor': 'right'\n",
    "    },\n",
    "    'transition': {'duration': 300, 'easing': 'cubic-in-out'},\n",
    "    'pad': {'b': 10, 't': 50},\n",
    "    'len': 0.9,\n",
    "    'x': 0.1,\n",
    "    'y': 0,\n",
    "    'steps': []\n",
    "}\n",
    "\n",
    "steps = []\n",
    "for ca in ca_amts:\n",
    "    slider_step = {\n",
    "        'args': [\n",
    "            [ca],\n",
    "            {'frame': {'duration': 300, 'redraw': True},\n",
    "             'mode': 'immediate',\n",
    "             'transition': {'duration': 300}}\n",
    "        ],\n",
    "        'label': '$' + str(ca),\n",
    "        'method': 'animate'\n",
    "    }\n",
    "    steps.append(slider_step)\n",
    "sliders_dict['steps'] = steps\n",
    "\n",
    "# generate frames\n",
    "frames = []\n",
    "locations = child_poverty.code\n",
    "zero_poverty = child_poverty[child_poverty.child_allowance == 0]\n",
    "for ca in ca_amts:\n",
    "    data_list = []\n",
    "    ca_data = child_poverty[child_poverty.child_allowance == ca]\n",
    "    for funding in FUNDING:\n",
    "        data_list.append({\n",
    "            'hovertemplate': \n",
    "                '<b>%{customdata[1]}</b>' + \n",
    "                '<br>Child poverty rate: %{z}%<br>' + \n",
    "                'Poverty reduction: %{customdata[0]}%' +\n",
    "                '<extra></extra>',\n",
    "            'locationmode': 'USA-states',\n",
    "            'locations': child_poverty.code.unique(),\n",
    "            'z': ca_data[funding].tolist(),\n",
    "            'type': 'choropleth',\n",
    "            'customdata': list(map(lambda x, y, z: (round(100 * (1 - y / x)), state_dict[z]),\n",
    "                                   zero_poverty[funding], ca_data[funding], state_dict))\n",
    "        })\n",
    "    \n",
    "    frame = {'data': data_list, 'name': str(ca), 'traces': [0,1,2]}\n",
    "    frames.append(frame)\n",
    "    \n",
    "# add frames to figure dictionary\n",
    "fig_dict['frames'] = frames\n",
    "\n",
    "# add traces to figure dictionary\n",
    "for i in (range(len(FUNDING))):\n",
    "    fig_dict['data'].append(frames[0]['data'][0])\n",
    "\n",
    "# generate figure\n",
    "fig = go.Figure(fig_dict)\n",
    "\n",
    "# generate dropdown menu buttons\n",
    "buttons = []\n",
    "for funding in FUNDING:\n",
    "    new_button = {'method': 'update',\n",
    "                  'label': FUNDING[funding],\n",
    "                  'args': [{'visible': [f == funding for f in FUNDING.keys()]}\n",
    "                          ]}\n",
    "    buttons.append(new_button)\n",
    "    \n",
    "# construct button menu\n",
    "updatemenu = {'buttons': buttons,\n",
    "              'direction': 'down',\n",
    "              'showactive': True,\n",
    "              'pad':{\"r\": 10, 't': 20, 'l': 50},\n",
    "              'xanchor': 'left',\n",
    "              'yanchor': 'top',\n",
    "              'x': 0,\n",
    "              'y': 1.2\n",
    "             }\n",
    "\n",
    "# add slider, dropdown menu, and set geo scope\n",
    "fig.update_layout(\n",
    "    geo_scope='usa', # limite map scope to USA\n",
    "    sliders=[sliders_dict],\n",
    "    updatemenus=[slidermenu, updatemenu]\n",
    ")\n",
    "\n",
    "# update visual attributes\n",
    "fig.update_traces(showscale=False, colorscale='Reds', zmin=0, zmax=22)\n",
    "fig.update_layout(\n",
    "    hoverlabel=dict(\n",
    "        bgcolor=\"white\",\n",
    "        font=dict(family='Roboto')\n",
    "    ),\n",
    "    title_font_size=20,\n",
    ")\n",
    "fig.update(layout_showlegend=False)\n",
    "\n",
    "fig.show(config=CONFIG)"
   ]
  },
  {
   "cell_type": "markdown",
   "metadata": {},
   "source": [
    "We also review the evidence around child allowances from the United States and Canada, and a special deep dive into research from sub-Saharan Africa, where randomized cash transfer rollouts produce particularly high-quality estimates. For example, cash transfer programs consistently reduced consumption poverty (below). See the [**full paper**](empirical.md) for evidence across other outcomes like education and health."
   ]
  },
  {
   "cell_type": "code",
   "execution_count": 2,
   "metadata": {
    "tags": [
     "hide-input"
    ]
   },
   "outputs": [
    {
     "data": {
      "application/vnd.plotly.v1+json": {
       "config": {
        "displayModeBar": false,
        "plotlyServerURL": "https://plot.ly"
       },
       "data": [
        {
         "alignmentgroup": "True",
         "hovertemplate": "Significance=<1%<br>Poverty change=%{x}<br>Program=%{y}<extra></extra>",
         "legendgroup": "<1%",
         "marker": {
          "color": "#0D47A1"
         },
         "name": "<1%",
         "offsetgroup": "<1%",
         "orientation": "h",
         "showlegend": true,
         "textposition": "auto",
         "type": "bar",
         "x": [
          -18.170731707317074
         ],
         "xaxis": "x",
         "y": [
          "Malawi SCTP"
         ],
         "yaxis": "y"
        },
        {
         "alignmentgroup": "True",
         "hovertemplate": "Significance=1-5%<br>Poverty change=%{x}<br>Program=%{y}<extra></extra>",
         "legendgroup": "1-5%",
         "marker": {
          "color": "#2196F3"
         },
         "name": "1-5%",
         "offsetgroup": "1-5%",
         "orientation": "h",
         "showlegend": true,
         "textposition": "auto",
         "type": "bar",
         "x": [
          -2.2580645161290325,
          -4.361702127659574
         ],
         "xaxis": "x",
         "y": [
          "Ghana LEAP",
          "Zambia CGP"
         ],
         "yaxis": "y"
        },
        {
         "alignmentgroup": "True",
         "hovertemplate": "Significance=5-10%<br>Poverty change=%{x}<br>Program=%{y}<extra></extra>",
         "legendgroup": "5-10%",
         "marker": {
          "color": "#BBDEFB"
         },
         "name": "5-10%",
         "offsetgroup": "5-10%",
         "orientation": "h",
         "showlegend": true,
         "textposition": "auto",
         "type": "bar",
         "x": [
          -18.863636363636367
         ],
         "xaxis": "x",
         "y": [
          "Uganda SAGE"
         ],
         "yaxis": "y"
        },
        {
         "alignmentgroup": "True",
         "hovertemplate": "Significance=>10%<br>Poverty change=%{x}<br>Program=%{y}<extra></extra>",
         "legendgroup": ">10%",
         "marker": {
          "color": "#E0E0E0"
         },
         "name": ">10%",
         "offsetgroup": ">10%",
         "orientation": "h",
         "showlegend": true,
         "textposition": "auto",
         "type": "bar",
         "x": [
          -4.431818181818182,
          5.588235294117647,
          -0.5434782608695652
         ],
         "xaxis": "x",
         "y": [
          "Kenya HSNP",
          "Lesotho CGP",
          "Zimbabwe HSCT"
         ],
         "yaxis": "y"
        }
       ],
       "layout": {
        "barmode": "relative",
        "font": {
         "family": "Roboto"
        },
        "legend": {
         "title": {
          "text": "Statistical significance"
         },
         "tracegroupgap": 0
        },
        "plot_bgcolor": "white",
        "template": {
         "data": {
          "bar": [
           {
            "error_x": {
             "color": "#2a3f5f"
            },
            "error_y": {
             "color": "#2a3f5f"
            },
            "marker": {
             "line": {
              "color": "#E5ECF6",
              "width": 0.5
             }
            },
            "type": "bar"
           }
          ],
          "barpolar": [
           {
            "marker": {
             "line": {
              "color": "#E5ECF6",
              "width": 0.5
             }
            },
            "type": "barpolar"
           }
          ],
          "carpet": [
           {
            "aaxis": {
             "endlinecolor": "#2a3f5f",
             "gridcolor": "white",
             "linecolor": "white",
             "minorgridcolor": "white",
             "startlinecolor": "#2a3f5f"
            },
            "baxis": {
             "endlinecolor": "#2a3f5f",
             "gridcolor": "white",
             "linecolor": "white",
             "minorgridcolor": "white",
             "startlinecolor": "#2a3f5f"
            },
            "type": "carpet"
           }
          ],
          "choropleth": [
           {
            "colorbar": {
             "outlinewidth": 0,
             "ticks": ""
            },
            "type": "choropleth"
           }
          ],
          "contour": [
           {
            "colorbar": {
             "outlinewidth": 0,
             "ticks": ""
            },
            "colorscale": [
             [
              0,
              "#0d0887"
             ],
             [
              0.1111111111111111,
              "#46039f"
             ],
             [
              0.2222222222222222,
              "#7201a8"
             ],
             [
              0.3333333333333333,
              "#9c179e"
             ],
             [
              0.4444444444444444,
              "#bd3786"
             ],
             [
              0.5555555555555556,
              "#d8576b"
             ],
             [
              0.6666666666666666,
              "#ed7953"
             ],
             [
              0.7777777777777778,
              "#fb9f3a"
             ],
             [
              0.8888888888888888,
              "#fdca26"
             ],
             [
              1,
              "#f0f921"
             ]
            ],
            "type": "contour"
           }
          ],
          "contourcarpet": [
           {
            "colorbar": {
             "outlinewidth": 0,
             "ticks": ""
            },
            "type": "contourcarpet"
           }
          ],
          "heatmap": [
           {
            "colorbar": {
             "outlinewidth": 0,
             "ticks": ""
            },
            "colorscale": [
             [
              0,
              "#0d0887"
             ],
             [
              0.1111111111111111,
              "#46039f"
             ],
             [
              0.2222222222222222,
              "#7201a8"
             ],
             [
              0.3333333333333333,
              "#9c179e"
             ],
             [
              0.4444444444444444,
              "#bd3786"
             ],
             [
              0.5555555555555556,
              "#d8576b"
             ],
             [
              0.6666666666666666,
              "#ed7953"
             ],
             [
              0.7777777777777778,
              "#fb9f3a"
             ],
             [
              0.8888888888888888,
              "#fdca26"
             ],
             [
              1,
              "#f0f921"
             ]
            ],
            "type": "heatmap"
           }
          ],
          "heatmapgl": [
           {
            "colorbar": {
             "outlinewidth": 0,
             "ticks": ""
            },
            "colorscale": [
             [
              0,
              "#0d0887"
             ],
             [
              0.1111111111111111,
              "#46039f"
             ],
             [
              0.2222222222222222,
              "#7201a8"
             ],
             [
              0.3333333333333333,
              "#9c179e"
             ],
             [
              0.4444444444444444,
              "#bd3786"
             ],
             [
              0.5555555555555556,
              "#d8576b"
             ],
             [
              0.6666666666666666,
              "#ed7953"
             ],
             [
              0.7777777777777778,
              "#fb9f3a"
             ],
             [
              0.8888888888888888,
              "#fdca26"
             ],
             [
              1,
              "#f0f921"
             ]
            ],
            "type": "heatmapgl"
           }
          ],
          "histogram": [
           {
            "marker": {
             "colorbar": {
              "outlinewidth": 0,
              "ticks": ""
             }
            },
            "type": "histogram"
           }
          ],
          "histogram2d": [
           {
            "colorbar": {
             "outlinewidth": 0,
             "ticks": ""
            },
            "colorscale": [
             [
              0,
              "#0d0887"
             ],
             [
              0.1111111111111111,
              "#46039f"
             ],
             [
              0.2222222222222222,
              "#7201a8"
             ],
             [
              0.3333333333333333,
              "#9c179e"
             ],
             [
              0.4444444444444444,
              "#bd3786"
             ],
             [
              0.5555555555555556,
              "#d8576b"
             ],
             [
              0.6666666666666666,
              "#ed7953"
             ],
             [
              0.7777777777777778,
              "#fb9f3a"
             ],
             [
              0.8888888888888888,
              "#fdca26"
             ],
             [
              1,
              "#f0f921"
             ]
            ],
            "type": "histogram2d"
           }
          ],
          "histogram2dcontour": [
           {
            "colorbar": {
             "outlinewidth": 0,
             "ticks": ""
            },
            "colorscale": [
             [
              0,
              "#0d0887"
             ],
             [
              0.1111111111111111,
              "#46039f"
             ],
             [
              0.2222222222222222,
              "#7201a8"
             ],
             [
              0.3333333333333333,
              "#9c179e"
             ],
             [
              0.4444444444444444,
              "#bd3786"
             ],
             [
              0.5555555555555556,
              "#d8576b"
             ],
             [
              0.6666666666666666,
              "#ed7953"
             ],
             [
              0.7777777777777778,
              "#fb9f3a"
             ],
             [
              0.8888888888888888,
              "#fdca26"
             ],
             [
              1,
              "#f0f921"
             ]
            ],
            "type": "histogram2dcontour"
           }
          ],
          "mesh3d": [
           {
            "colorbar": {
             "outlinewidth": 0,
             "ticks": ""
            },
            "type": "mesh3d"
           }
          ],
          "parcoords": [
           {
            "line": {
             "colorbar": {
              "outlinewidth": 0,
              "ticks": ""
             }
            },
            "type": "parcoords"
           }
          ],
          "pie": [
           {
            "automargin": true,
            "type": "pie"
           }
          ],
          "scatter": [
           {
            "marker": {
             "colorbar": {
              "outlinewidth": 0,
              "ticks": ""
             }
            },
            "type": "scatter"
           }
          ],
          "scatter3d": [
           {
            "line": {
             "colorbar": {
              "outlinewidth": 0,
              "ticks": ""
             }
            },
            "marker": {
             "colorbar": {
              "outlinewidth": 0,
              "ticks": ""
             }
            },
            "type": "scatter3d"
           }
          ],
          "scattercarpet": [
           {
            "marker": {
             "colorbar": {
              "outlinewidth": 0,
              "ticks": ""
             }
            },
            "type": "scattercarpet"
           }
          ],
          "scattergeo": [
           {
            "marker": {
             "colorbar": {
              "outlinewidth": 0,
              "ticks": ""
             }
            },
            "type": "scattergeo"
           }
          ],
          "scattergl": [
           {
            "marker": {
             "colorbar": {
              "outlinewidth": 0,
              "ticks": ""
             }
            },
            "type": "scattergl"
           }
          ],
          "scattermapbox": [
           {
            "marker": {
             "colorbar": {
              "outlinewidth": 0,
              "ticks": ""
             }
            },
            "type": "scattermapbox"
           }
          ],
          "scatterpolar": [
           {
            "marker": {
             "colorbar": {
              "outlinewidth": 0,
              "ticks": ""
             }
            },
            "type": "scatterpolar"
           }
          ],
          "scatterpolargl": [
           {
            "marker": {
             "colorbar": {
              "outlinewidth": 0,
              "ticks": ""
             }
            },
            "type": "scatterpolargl"
           }
          ],
          "scatterternary": [
           {
            "marker": {
             "colorbar": {
              "outlinewidth": 0,
              "ticks": ""
             }
            },
            "type": "scatterternary"
           }
          ],
          "surface": [
           {
            "colorbar": {
             "outlinewidth": 0,
             "ticks": ""
            },
            "colorscale": [
             [
              0,
              "#0d0887"
             ],
             [
              0.1111111111111111,
              "#46039f"
             ],
             [
              0.2222222222222222,
              "#7201a8"
             ],
             [
              0.3333333333333333,
              "#9c179e"
             ],
             [
              0.4444444444444444,
              "#bd3786"
             ],
             [
              0.5555555555555556,
              "#d8576b"
             ],
             [
              0.6666666666666666,
              "#ed7953"
             ],
             [
              0.7777777777777778,
              "#fb9f3a"
             ],
             [
              0.8888888888888888,
              "#fdca26"
             ],
             [
              1,
              "#f0f921"
             ]
            ],
            "type": "surface"
           }
          ],
          "table": [
           {
            "cells": {
             "fill": {
              "color": "#EBF0F8"
             },
             "line": {
              "color": "white"
             }
            },
            "header": {
             "fill": {
              "color": "#C8D4E3"
             },
             "line": {
              "color": "white"
             }
            },
            "type": "table"
           }
          ]
         },
         "layout": {
          "annotationdefaults": {
           "arrowcolor": "#2a3f5f",
           "arrowhead": 0,
           "arrowwidth": 1
          },
          "coloraxis": {
           "colorbar": {
            "outlinewidth": 0,
            "ticks": ""
           }
          },
          "colorscale": {
           "diverging": [
            [
             0,
             "#8e0152"
            ],
            [
             0.1,
             "#c51b7d"
            ],
            [
             0.2,
             "#de77ae"
            ],
            [
             0.3,
             "#f1b6da"
            ],
            [
             0.4,
             "#fde0ef"
            ],
            [
             0.5,
             "#f7f7f7"
            ],
            [
             0.6,
             "#e6f5d0"
            ],
            [
             0.7,
             "#b8e186"
            ],
            [
             0.8,
             "#7fbc41"
            ],
            [
             0.9,
             "#4d9221"
            ],
            [
             1,
             "#276419"
            ]
           ],
           "sequential": [
            [
             0,
             "#0d0887"
            ],
            [
             0.1111111111111111,
             "#46039f"
            ],
            [
             0.2222222222222222,
             "#7201a8"
            ],
            [
             0.3333333333333333,
             "#9c179e"
            ],
            [
             0.4444444444444444,
             "#bd3786"
            ],
            [
             0.5555555555555556,
             "#d8576b"
            ],
            [
             0.6666666666666666,
             "#ed7953"
            ],
            [
             0.7777777777777778,
             "#fb9f3a"
            ],
            [
             0.8888888888888888,
             "#fdca26"
            ],
            [
             1,
             "#f0f921"
            ]
           ],
           "sequentialminus": [
            [
             0,
             "#0d0887"
            ],
            [
             0.1111111111111111,
             "#46039f"
            ],
            [
             0.2222222222222222,
             "#7201a8"
            ],
            [
             0.3333333333333333,
             "#9c179e"
            ],
            [
             0.4444444444444444,
             "#bd3786"
            ],
            [
             0.5555555555555556,
             "#d8576b"
            ],
            [
             0.6666666666666666,
             "#ed7953"
            ],
            [
             0.7777777777777778,
             "#fb9f3a"
            ],
            [
             0.8888888888888888,
             "#fdca26"
            ],
            [
             1,
             "#f0f921"
            ]
           ]
          },
          "colorway": [
           "#636efa",
           "#EF553B",
           "#00cc96",
           "#ab63fa",
           "#FFA15A",
           "#19d3f3",
           "#FF6692",
           "#B6E880",
           "#FF97FF",
           "#FECB52"
          ],
          "font": {
           "color": "#2a3f5f"
          },
          "geo": {
           "bgcolor": "white",
           "lakecolor": "white",
           "landcolor": "#E5ECF6",
           "showlakes": true,
           "showland": true,
           "subunitcolor": "white"
          },
          "hoverlabel": {
           "align": "left"
          },
          "hovermode": "closest",
          "mapbox": {
           "style": "light"
          },
          "paper_bgcolor": "white",
          "plot_bgcolor": "#E5ECF6",
          "polar": {
           "angularaxis": {
            "gridcolor": "white",
            "linecolor": "white",
            "ticks": ""
           },
           "bgcolor": "#E5ECF6",
           "radialaxis": {
            "gridcolor": "white",
            "linecolor": "white",
            "ticks": ""
           }
          },
          "scene": {
           "xaxis": {
            "backgroundcolor": "#E5ECF6",
            "gridcolor": "white",
            "gridwidth": 2,
            "linecolor": "white",
            "showbackground": true,
            "ticks": "",
            "zerolinecolor": "white"
           },
           "yaxis": {
            "backgroundcolor": "#E5ECF6",
            "gridcolor": "white",
            "gridwidth": 2,
            "linecolor": "white",
            "showbackground": true,
            "ticks": "",
            "zerolinecolor": "white"
           },
           "zaxis": {
            "backgroundcolor": "#E5ECF6",
            "gridcolor": "white",
            "gridwidth": 2,
            "linecolor": "white",
            "showbackground": true,
            "ticks": "",
            "zerolinecolor": "white"
           }
          },
          "shapedefaults": {
           "line": {
            "color": "#2a3f5f"
           }
          },
          "ternary": {
           "aaxis": {
            "gridcolor": "white",
            "linecolor": "white",
            "ticks": ""
           },
           "baxis": {
            "gridcolor": "white",
            "linecolor": "white",
            "ticks": ""
           },
           "bgcolor": "#E5ECF6",
           "caxis": {
            "gridcolor": "white",
            "linecolor": "white",
            "ticks": ""
           }
          },
          "title": {
           "x": 0.05
          },
          "xaxis": {
           "automargin": true,
           "gridcolor": "white",
           "linecolor": "white",
           "ticks": "",
           "title": {
            "standoff": 15
           },
           "zerolinecolor": "white",
           "zerolinewidth": 2
          },
          "yaxis": {
           "automargin": true,
           "gridcolor": "white",
           "linecolor": "white",
           "ticks": "",
           "title": {
            "standoff": 15
           },
           "zerolinecolor": "white",
           "zerolinewidth": 2
          }
         }
        },
        "title": {
         "font": {
          "size": 20
         },
         "text": "Poverty reductions across cash transfer RCTs in SSA"
        },
        "xaxis": {
         "anchor": "y",
         "domain": [
          0,
          1
         ],
         "ticksuffix": "%",
         "title": {
          "text": "Percent change in poverty headcount rate"
         }
        },
        "yaxis": {
         "anchor": "x",
         "categoryorder": "total descending",
         "domain": [
          0,
          1
         ],
         "title": {
          "text": "Cash transfer program"
         }
        }
       }
      },
      "text/html": [
       "<div>\n",
       "        \n",
       "        \n",
       "            <div id=\"6cb6a851-89c3-4ed4-aa79-3ff5ec87ed8a\" class=\"plotly-graph-div\" style=\"height:525px; width:100%;\"></div>\n",
       "            <script type=\"text/javascript\">\n",
       "                require([\"plotly\"], function(Plotly) {\n",
       "                    window.PLOTLYENV=window.PLOTLYENV || {};\n",
       "                    \n",
       "                if (document.getElementById(\"6cb6a851-89c3-4ed4-aa79-3ff5ec87ed8a\")) {\n",
       "                    Plotly.newPlot(\n",
       "                        '6cb6a851-89c3-4ed4-aa79-3ff5ec87ed8a',\n",
       "                        [{\"alignmentgroup\": \"True\", \"hovertemplate\": \"Significance=<1%<br>Poverty change=%{x}<br>Program=%{y}<extra></extra>\", \"legendgroup\": \"<1%\", \"marker\": {\"color\": \"#0D47A1\"}, \"name\": \"<1%\", \"offsetgroup\": \"<1%\", \"orientation\": \"h\", \"showlegend\": true, \"textposition\": \"auto\", \"type\": \"bar\", \"x\": [-18.170731707317074], \"xaxis\": \"x\", \"y\": [\"Malawi SCTP\"], \"yaxis\": \"y\"}, {\"alignmentgroup\": \"True\", \"hovertemplate\": \"Significance=1-5%<br>Poverty change=%{x}<br>Program=%{y}<extra></extra>\", \"legendgroup\": \"1-5%\", \"marker\": {\"color\": \"#2196F3\"}, \"name\": \"1-5%\", \"offsetgroup\": \"1-5%\", \"orientation\": \"h\", \"showlegend\": true, \"textposition\": \"auto\", \"type\": \"bar\", \"x\": [-2.2580645161290325, -4.361702127659574], \"xaxis\": \"x\", \"y\": [\"Ghana LEAP\", \"Zambia CGP\"], \"yaxis\": \"y\"}, {\"alignmentgroup\": \"True\", \"hovertemplate\": \"Significance=5-10%<br>Poverty change=%{x}<br>Program=%{y}<extra></extra>\", \"legendgroup\": \"5-10%\", \"marker\": {\"color\": \"#BBDEFB\"}, \"name\": \"5-10%\", \"offsetgroup\": \"5-10%\", \"orientation\": \"h\", \"showlegend\": true, \"textposition\": \"auto\", \"type\": \"bar\", \"x\": [-18.863636363636367], \"xaxis\": \"x\", \"y\": [\"Uganda SAGE\"], \"yaxis\": \"y\"}, {\"alignmentgroup\": \"True\", \"hovertemplate\": \"Significance=>10%<br>Poverty change=%{x}<br>Program=%{y}<extra></extra>\", \"legendgroup\": \">10%\", \"marker\": {\"color\": \"#E0E0E0\"}, \"name\": \">10%\", \"offsetgroup\": \">10%\", \"orientation\": \"h\", \"showlegend\": true, \"textposition\": \"auto\", \"type\": \"bar\", \"x\": [-4.431818181818182, 5.588235294117647, -0.5434782608695652], \"xaxis\": \"x\", \"y\": [\"Kenya HSNP\", \"Lesotho CGP\", \"Zimbabwe HSCT\"], \"yaxis\": \"y\"}],\n",
       "                        {\"barmode\": \"relative\", \"font\": {\"family\": \"Roboto\"}, \"legend\": {\"title\": {\"text\": \"Statistical significance\"}, \"tracegroupgap\": 0}, \"plot_bgcolor\": \"white\", \"template\": {\"data\": {\"bar\": [{\"error_x\": {\"color\": \"#2a3f5f\"}, \"error_y\": {\"color\": \"#2a3f5f\"}, \"marker\": {\"line\": {\"color\": \"#E5ECF6\", \"width\": 0.5}}, \"type\": \"bar\"}], \"barpolar\": [{\"marker\": {\"line\": {\"color\": \"#E5ECF6\", \"width\": 0.5}}, \"type\": \"barpolar\"}], \"carpet\": [{\"aaxis\": {\"endlinecolor\": \"#2a3f5f\", \"gridcolor\": \"white\", \"linecolor\": \"white\", \"minorgridcolor\": \"white\", \"startlinecolor\": \"#2a3f5f\"}, \"baxis\": {\"endlinecolor\": \"#2a3f5f\", \"gridcolor\": \"white\", \"linecolor\": \"white\", \"minorgridcolor\": \"white\", \"startlinecolor\": \"#2a3f5f\"}, \"type\": \"carpet\"}], \"choropleth\": [{\"colorbar\": {\"outlinewidth\": 0, \"ticks\": \"\"}, \"type\": \"choropleth\"}], \"contour\": [{\"colorbar\": {\"outlinewidth\": 0, \"ticks\": \"\"}, \"colorscale\": [[0.0, \"#0d0887\"], [0.1111111111111111, \"#46039f\"], [0.2222222222222222, \"#7201a8\"], [0.3333333333333333, \"#9c179e\"], [0.4444444444444444, \"#bd3786\"], [0.5555555555555556, \"#d8576b\"], [0.6666666666666666, \"#ed7953\"], [0.7777777777777778, \"#fb9f3a\"], [0.8888888888888888, \"#fdca26\"], [1.0, \"#f0f921\"]], \"type\": \"contour\"}], \"contourcarpet\": [{\"colorbar\": {\"outlinewidth\": 0, \"ticks\": \"\"}, \"type\": \"contourcarpet\"}], \"heatmap\": [{\"colorbar\": {\"outlinewidth\": 0, \"ticks\": \"\"}, \"colorscale\": [[0.0, \"#0d0887\"], [0.1111111111111111, \"#46039f\"], [0.2222222222222222, \"#7201a8\"], [0.3333333333333333, \"#9c179e\"], [0.4444444444444444, \"#bd3786\"], [0.5555555555555556, \"#d8576b\"], [0.6666666666666666, \"#ed7953\"], [0.7777777777777778, \"#fb9f3a\"], [0.8888888888888888, \"#fdca26\"], [1.0, \"#f0f921\"]], \"type\": \"heatmap\"}], \"heatmapgl\": [{\"colorbar\": {\"outlinewidth\": 0, \"ticks\": \"\"}, \"colorscale\": [[0.0, \"#0d0887\"], [0.1111111111111111, \"#46039f\"], [0.2222222222222222, \"#7201a8\"], [0.3333333333333333, \"#9c179e\"], [0.4444444444444444, \"#bd3786\"], [0.5555555555555556, \"#d8576b\"], [0.6666666666666666, \"#ed7953\"], [0.7777777777777778, \"#fb9f3a\"], [0.8888888888888888, \"#fdca26\"], [1.0, \"#f0f921\"]], \"type\": \"heatmapgl\"}], \"histogram\": [{\"marker\": {\"colorbar\": {\"outlinewidth\": 0, \"ticks\": \"\"}}, \"type\": \"histogram\"}], \"histogram2d\": [{\"colorbar\": {\"outlinewidth\": 0, \"ticks\": \"\"}, \"colorscale\": [[0.0, \"#0d0887\"], [0.1111111111111111, \"#46039f\"], [0.2222222222222222, \"#7201a8\"], [0.3333333333333333, \"#9c179e\"], [0.4444444444444444, \"#bd3786\"], [0.5555555555555556, \"#d8576b\"], [0.6666666666666666, \"#ed7953\"], [0.7777777777777778, \"#fb9f3a\"], [0.8888888888888888, \"#fdca26\"], [1.0, \"#f0f921\"]], \"type\": \"histogram2d\"}], \"histogram2dcontour\": [{\"colorbar\": {\"outlinewidth\": 0, \"ticks\": \"\"}, \"colorscale\": [[0.0, \"#0d0887\"], [0.1111111111111111, \"#46039f\"], [0.2222222222222222, \"#7201a8\"], [0.3333333333333333, \"#9c179e\"], [0.4444444444444444, \"#bd3786\"], [0.5555555555555556, \"#d8576b\"], [0.6666666666666666, \"#ed7953\"], [0.7777777777777778, \"#fb9f3a\"], [0.8888888888888888, \"#fdca26\"], [1.0, \"#f0f921\"]], \"type\": \"histogram2dcontour\"}], \"mesh3d\": [{\"colorbar\": {\"outlinewidth\": 0, \"ticks\": \"\"}, \"type\": \"mesh3d\"}], \"parcoords\": [{\"line\": {\"colorbar\": {\"outlinewidth\": 0, \"ticks\": \"\"}}, \"type\": \"parcoords\"}], \"pie\": [{\"automargin\": true, \"type\": \"pie\"}], \"scatter\": [{\"marker\": {\"colorbar\": {\"outlinewidth\": 0, \"ticks\": \"\"}}, \"type\": \"scatter\"}], \"scatter3d\": [{\"line\": {\"colorbar\": {\"outlinewidth\": 0, \"ticks\": \"\"}}, \"marker\": {\"colorbar\": {\"outlinewidth\": 0, \"ticks\": \"\"}}, \"type\": \"scatter3d\"}], \"scattercarpet\": [{\"marker\": {\"colorbar\": {\"outlinewidth\": 0, \"ticks\": \"\"}}, \"type\": \"scattercarpet\"}], \"scattergeo\": [{\"marker\": {\"colorbar\": {\"outlinewidth\": 0, \"ticks\": \"\"}}, \"type\": \"scattergeo\"}], \"scattergl\": [{\"marker\": {\"colorbar\": {\"outlinewidth\": 0, \"ticks\": \"\"}}, \"type\": \"scattergl\"}], \"scattermapbox\": [{\"marker\": {\"colorbar\": {\"outlinewidth\": 0, \"ticks\": \"\"}}, \"type\": \"scattermapbox\"}], \"scatterpolar\": [{\"marker\": {\"colorbar\": {\"outlinewidth\": 0, \"ticks\": \"\"}}, \"type\": \"scatterpolar\"}], \"scatterpolargl\": [{\"marker\": {\"colorbar\": {\"outlinewidth\": 0, \"ticks\": \"\"}}, \"type\": \"scatterpolargl\"}], \"scatterternary\": [{\"marker\": {\"colorbar\": {\"outlinewidth\": 0, \"ticks\": \"\"}}, \"type\": \"scatterternary\"}], \"surface\": [{\"colorbar\": {\"outlinewidth\": 0, \"ticks\": \"\"}, \"colorscale\": [[0.0, \"#0d0887\"], [0.1111111111111111, \"#46039f\"], [0.2222222222222222, \"#7201a8\"], [0.3333333333333333, \"#9c179e\"], [0.4444444444444444, \"#bd3786\"], [0.5555555555555556, \"#d8576b\"], [0.6666666666666666, \"#ed7953\"], [0.7777777777777778, \"#fb9f3a\"], [0.8888888888888888, \"#fdca26\"], [1.0, \"#f0f921\"]], \"type\": \"surface\"}], \"table\": [{\"cells\": {\"fill\": {\"color\": \"#EBF0F8\"}, \"line\": {\"color\": \"white\"}}, \"header\": {\"fill\": {\"color\": \"#C8D4E3\"}, \"line\": {\"color\": \"white\"}}, \"type\": \"table\"}]}, \"layout\": {\"annotationdefaults\": {\"arrowcolor\": \"#2a3f5f\", \"arrowhead\": 0, \"arrowwidth\": 1}, \"coloraxis\": {\"colorbar\": {\"outlinewidth\": 0, \"ticks\": \"\"}}, \"colorscale\": {\"diverging\": [[0, \"#8e0152\"], [0.1, \"#c51b7d\"], [0.2, \"#de77ae\"], [0.3, \"#f1b6da\"], [0.4, \"#fde0ef\"], [0.5, \"#f7f7f7\"], [0.6, \"#e6f5d0\"], [0.7, \"#b8e186\"], [0.8, \"#7fbc41\"], [0.9, \"#4d9221\"], [1, \"#276419\"]], \"sequential\": [[0.0, \"#0d0887\"], [0.1111111111111111, \"#46039f\"], [0.2222222222222222, \"#7201a8\"], [0.3333333333333333, \"#9c179e\"], [0.4444444444444444, \"#bd3786\"], [0.5555555555555556, \"#d8576b\"], [0.6666666666666666, \"#ed7953\"], [0.7777777777777778, \"#fb9f3a\"], [0.8888888888888888, \"#fdca26\"], [1.0, \"#f0f921\"]], \"sequentialminus\": [[0.0, \"#0d0887\"], [0.1111111111111111, \"#46039f\"], [0.2222222222222222, \"#7201a8\"], [0.3333333333333333, \"#9c179e\"], [0.4444444444444444, \"#bd3786\"], [0.5555555555555556, \"#d8576b\"], [0.6666666666666666, \"#ed7953\"], [0.7777777777777778, \"#fb9f3a\"], [0.8888888888888888, \"#fdca26\"], [1.0, \"#f0f921\"]]}, \"colorway\": [\"#636efa\", \"#EF553B\", \"#00cc96\", \"#ab63fa\", \"#FFA15A\", \"#19d3f3\", \"#FF6692\", \"#B6E880\", \"#FF97FF\", \"#FECB52\"], \"font\": {\"color\": \"#2a3f5f\"}, \"geo\": {\"bgcolor\": \"white\", \"lakecolor\": \"white\", \"landcolor\": \"#E5ECF6\", \"showlakes\": true, \"showland\": true, \"subunitcolor\": \"white\"}, \"hoverlabel\": {\"align\": \"left\"}, \"hovermode\": \"closest\", \"mapbox\": {\"style\": \"light\"}, \"paper_bgcolor\": \"white\", \"plot_bgcolor\": \"#E5ECF6\", \"polar\": {\"angularaxis\": {\"gridcolor\": \"white\", \"linecolor\": \"white\", \"ticks\": \"\"}, \"bgcolor\": \"#E5ECF6\", \"radialaxis\": {\"gridcolor\": \"white\", \"linecolor\": \"white\", \"ticks\": \"\"}}, \"scene\": {\"xaxis\": {\"backgroundcolor\": \"#E5ECF6\", \"gridcolor\": \"white\", \"gridwidth\": 2, \"linecolor\": \"white\", \"showbackground\": true, \"ticks\": \"\", \"zerolinecolor\": \"white\"}, \"yaxis\": {\"backgroundcolor\": \"#E5ECF6\", \"gridcolor\": \"white\", \"gridwidth\": 2, \"linecolor\": \"white\", \"showbackground\": true, \"ticks\": \"\", \"zerolinecolor\": \"white\"}, \"zaxis\": {\"backgroundcolor\": \"#E5ECF6\", \"gridcolor\": \"white\", \"gridwidth\": 2, \"linecolor\": \"white\", \"showbackground\": true, \"ticks\": \"\", \"zerolinecolor\": \"white\"}}, \"shapedefaults\": {\"line\": {\"color\": \"#2a3f5f\"}}, \"ternary\": {\"aaxis\": {\"gridcolor\": \"white\", \"linecolor\": \"white\", \"ticks\": \"\"}, \"baxis\": {\"gridcolor\": \"white\", \"linecolor\": \"white\", \"ticks\": \"\"}, \"bgcolor\": \"#E5ECF6\", \"caxis\": {\"gridcolor\": \"white\", \"linecolor\": \"white\", \"ticks\": \"\"}}, \"title\": {\"x\": 0.05}, \"xaxis\": {\"automargin\": true, \"gridcolor\": \"white\", \"linecolor\": \"white\", \"ticks\": \"\", \"title\": {\"standoff\": 15}, \"zerolinecolor\": \"white\", \"zerolinewidth\": 2}, \"yaxis\": {\"automargin\": true, \"gridcolor\": \"white\", \"linecolor\": \"white\", \"ticks\": \"\", \"title\": {\"standoff\": 15}, \"zerolinecolor\": \"white\", \"zerolinewidth\": 2}}}, \"title\": {\"font\": {\"size\": 20}, \"text\": \"Poverty reductions across cash transfer RCTs in SSA\"}, \"xaxis\": {\"anchor\": \"y\", \"domain\": [0.0, 1.0], \"ticksuffix\": \"%\", \"title\": {\"text\": \"Percent change in poverty headcount rate\"}}, \"yaxis\": {\"anchor\": \"x\", \"categoryorder\": \"total descending\", \"domain\": [0.0, 1.0], \"title\": {\"text\": \"Cash transfer program\"}}},\n",
       "                        {\"displayModeBar\": false, \"responsive\": true}\n",
       "                    ).then(function(){\n",
       "                            \n",
       "var gd = document.getElementById('6cb6a851-89c3-4ed4-aa79-3ff5ec87ed8a');\n",
       "var x = new MutationObserver(function (mutations, observer) {{\n",
       "        var display = window.getComputedStyle(gd).display;\n",
       "        if (!display || display === 'none') {{\n",
       "            console.log([gd, 'removed!']);\n",
       "            Plotly.purge(gd);\n",
       "            observer.disconnect();\n",
       "        }}\n",
       "}});\n",
       "\n",
       "// Listen for the removal of the full notebook cells\n",
       "var notebookContainer = gd.closest('#notebook-container');\n",
       "if (notebookContainer) {{\n",
       "    x.observe(notebookContainer, {childList: true});\n",
       "}}\n",
       "\n",
       "// Listen for the clearing of the current output cell\n",
       "var outputEl = gd.closest('.output');\n",
       "if (outputEl) {{\n",
       "    x.observe(outputEl, {childList: true});\n",
       "}}\n",
       "\n",
       "                        })\n",
       "                };\n",
       "                });\n",
       "            </script>\n",
       "        </div>"
      ]
     },
     "metadata": {},
     "output_type": "display_data"
    }
   ],
   "source": [
    "pov = pd.DataFrame({\n",
    "    \"effect_pp\": [-2.1, -3.9, 3.8, -14.9, -8.3, -4.1, -0.5],\n",
    "    \"baseline_pp\": [93, 88, 68, 82, 44, 94, 92],\n",
    "    \"stars\": [2, 0, 0, 3, 1, 2, 0]\n",
    "}, index=['Ghana LEAP', 'Kenya HSNP', 'Lesotho CGP', 'Malawi SCTP',\n",
    "          'Uganda SAGE', 'Zambia CGP', 'Zimbabwe HSCT']\n",
    ")\n",
    "pov['pct_effect'] = 100 * pov.effect_pp / pov.baseline_pp\n",
    "pov['significance'] = pov.stars.map({0: '>10%',\n",
    "                                     1: '5-10%',\n",
    "                                     2: '1-5%',\n",
    "                                     3: '<1%'})\n",
    "# Sort by stars for proper legend ordering.\n",
    "pov.sort_values('stars', ascending=False, inplace=True)\n",
    "\n",
    "DARK_BLUE = '#0D47A1'\n",
    "BLUE = '#2196F3'\n",
    "BARELY_BLUE = '#BBDEFB'\n",
    "GRAY = '#E0E0E0'\n",
    "\n",
    "fig = px.bar(pov, 'pct_effect', color='significance',\n",
    "             labels={'pct_effect': 'Poverty change',\n",
    "                     'index': 'Program',\n",
    "                     'significance': 'Significance'},\n",
    "             title='Poverty reductions across cash transfer RCTs in SSA',\n",
    "             color_discrete_map={'>10%': GRAY,\n",
    "                                 '5-10%': BARELY_BLUE,\n",
    "                                 '1-5%': BLUE,\n",
    "                                 '<1%': DARK_BLUE},\n",
    ")\n",
    "\n",
    "fig.update_layout(font=dict(family='Roboto'),\n",
    "                  plot_bgcolor='white',\n",
    "                  yaxis_title='Cash transfer program',\n",
    "                  legend_title='Statistical significance',\n",
    "                  xaxis_title='Percent change in poverty headcount rate',\n",
    "                  xaxis_ticksuffix='%',\n",
    "                  # Sort by effect size\n",
    "                  # (since data is sorted by stars for legend order)\n",
    "                  yaxis={'categoryorder':'total descending'},\n",
    "                  title_font_size=20,\n",
    "                 )\n",
    "\n",
    "fig.show(config={'displayModeBar': False})"
   ]
  },
  {
   "cell_type": "markdown",
   "metadata": {},
   "source": [
    "Finally, we consider the political state of child allowances, such as the [American Family Act](https://www.bennet.senate.gov/public/index.cfm/american-family-act), which would ensure all low-income children in the US receive the full benefits of the Child Tax Credit, and how such a policy would align US child benefits with those from other developed countries.\n",
    "\n",
    "By efficiently reducing child poverty, child allowances provide kids with basic needs, improve access to opportunity, and invest in our future.\n",
    "\n",
    "*Created by Max Ghenis, Nate Golden, John Walker, and Matt Gilbert.*"
   ]
  }
 ],
 "metadata": {
  "celltoolbar": "Tags",
  "colab": {
   "collapsed_sections": [],
   "name": "Drop down Graphs and Map",
   "provenance": []
  },
  "kernelspec": {
   "display_name": "Python 3",
   "language": "python",
   "name": "python3"
  },
  "language_info": {
   "codemirror_mode": {
    "name": "ipython",
    "version": 3
   },
   "file_extension": ".py",
   "mimetype": "text/x-python",
   "name": "python",
   "nbconvert_exporter": "python",
   "pygments_lexer": "ipython3",
   "version": "3.8.3"
  }
 },
 "nbformat": 4,
 "nbformat_minor": 1
}
