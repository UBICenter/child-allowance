{
 "metadata": {
  "language_info": {
   "codemirror_mode": {
    "name": "ipython",
    "version": 3
   },
   "file_extension": ".py",
   "mimetype": "text/x-python",
   "name": "python",
   "nbconvert_exporter": "python",
   "pygments_lexer": "ipython3",
   "version": "3.8.3"
  },
  "orig_nbformat": 2,
  "kernelspec": {
   "name": "python383jvsc74a57bd09702a4269d6f7fda6c2aa4753998c23781a6d1b24ee67be8de902a564ce33446",
   "display_name": "Python 3.8.3 64-bit ('base': conda)"
  }
 },
 "nbformat": 4,
 "nbformat_minor": 2,
 "cells": [
  {
   "source": [
    "We are assuming 100% takeup rate.\n",
    "\n",
    "Here, we simulate two policy extremes twice, using both 1) base quality \n",
    "and 2) high quality to determine total program cost:\n",
    "\n",
    "1) a flat transfer by state equal to the average state-based cost of childcare\n",
    "to a given household. i.e. a US-wide transfer that varies by state cost and \n",
    "household number of children; and\n",
    "\n",
    "2) a flat transfer equal to the average USA cost of childcare for the average\n",
    "household. "
   ],
   "cell_type": "markdown",
   "metadata": {}
  },
  {
   "cell_type": "code",
   "execution_count": null,
   "metadata": {},
   "outputs": [],
   "source": []
  },
  {
   "cell_type": "code",
   "execution_count": 1,
   "metadata": {},
   "outputs": [
    {
     "output_type": "error",
     "ename": "SyntaxError",
     "evalue": "invalid syntax (<ipython-input-1-be88c2fa7630>, line 33)",
     "traceback": [
      "\u001b[1;36m  File \u001b[1;32m\"<ipython-input-1-be88c2fa7630>\"\u001b[1;36m, line \u001b[1;32m33\u001b[0m\n\u001b[1;33m    program_cost_high_state_inf = state_cost(infant, 1)\u001b[0m\n\u001b[1;37m    ^\u001b[0m\n\u001b[1;31mSyntaxError\u001b[0m\u001b[1;31m:\u001b[0m invalid syntax\n"
     ]
    }
   ],
   "source": [
    "\n",
    "# Define function to calculate sS SET state == \"United States\"\n",
    "\n",
    "# Calculate total number of children\n",
    "total_child_6 = mdf.weighted_sum(\n",
    "    spmu_quality[spmu_quality.high_quality], \"spmu_child_6\", \"spmwt\"\n",
    ")\n",
    "\n",
    "total_child_6 = mdf.weighted_sum(\n",
    "    spmu_quality[spmu_quality.high_quality], \"spmu_child_6\", \"spmwt\"\n",
    ")\n",
    "\n",
    "# Generate a flag for SPMU units living in poverty\n",
    "spmu_sim[\"poverty_flag\"] = spmu_sim.spmftotres < spmu_sim.spmthresh\n",
    "\n",
    "\n",
    "def pov(groupby, data=person_sim):\n",
    "    return (\n",
    "        data.groupby(groupby)\n",
    "        .apply(lambda x: mdf.weighted_mean(x, \"poverty_flag\", \"asecwt\"))\n",
    "        .reset_index()\n",
    "    )\n",
    "\n",
    "\n",
    "# Define various poverty rates\n",
    "poverty_rate = pov(\"sim_flag\")\n",
    "poverty_rate_sex = pov([\"sim_flag\", \"sex\"])\n",
    "poverty_rate_race_hispan = pov([\"sim_flag\", \"race_hispan\"])\n",
    "poverty_rate_state = pov([\"sim_flag\", \"state\"])\n",
    "poverty_rate_child = pov(\"sim_flag\", person_sim[person_sim.child_6])\n",
    "\n",
    "\n",
    "# Program costs also group by age category (sum inf + todd + preschool)\n",
    "mdf.weighted_sum.groupby(\n",
    "    spmu_quality[spmu_quality.high_quality], \"age_cat\", \"cost\", \"spmwt\"\n",
    ")\n",
    "mdf.weighted_sum.groupby(\n",
    "    spmu_quality[~spmu_quality.high_quality], \"age_cat\", \"cost\", \"spmwt\"\n",
    ")\n",
    "\n",
    "# Groupby age_cat and highquality to get the weighted sums we are\n",
    "# interested in.\n",
    "\n",
    "\n",
    "\n"
   ]
  }
 ]
}