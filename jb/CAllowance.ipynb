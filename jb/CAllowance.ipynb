{
 "metadata": {
  "language_info": {
   "codemirror_mode": {
    "name": "ipython",
    "version": 3
   },
   "file_extension": ".py",
   "mimetype": "text/x-python",
   "name": "python",
   "nbconvert_exporter": "python",
   "pygments_lexer": "ipython3",
   "version": "3.8.3"
  },
  "orig_nbformat": 2,
  "kernelspec": {
   "name": "python3",
   "display_name": "Python 3.8.3 64-bit ('base': conda)"
  },
  "metadata": {
   "interpreter": {
    "hash": "9702a4269d6f7fda6c2aa4753998c23781a6d1b24ee67be8de902a564ce33446"
   }
  },
  "interpreter": {
   "hash": "9702a4269d6f7fda6c2aa4753998c23781a6d1b24ee67be8de902a564ce33446"
  }
 },
 "nbformat": 4,
 "nbformat_minor": 2,
 "cells": [
  {
   "source": [
    "## Simulation \n",
    "We begin by specifying packages, reading in the dataset and generating some functions that we will use repeatedly to calculate poverty rates and gini coefficients as well as to generate simple percentage changes.\n",
    "\n",
    "In the dataframe, we have spmu unit years as the level of the dataset. All values are averaged across 2018-2020."
   ],
   "cell_type": "markdown",
   "metadata": {}
  },
  {
   "cell_type": "code",
   "execution_count": 1,
   "metadata": {},
   "outputs": [],
   "source": [
    "import microdf as mdf\n",
    "import pandas as pd\n",
    "import numpy as np\n",
    "import us\n",
    "import plotly.express as px\n",
    "import plotly.graph_objects as go\n",
    "from ubicenter import format_fig\n",
    "\n",
    "person_sim = pd.read_csv(\n",
    "    \"C:\\\\Users\\\\John Walker\\\\Desktop\\\\person_sim.csv.gz\",\n",
    "    # \"jb/data/person_sim.csv.gz\",\n",
    "    compression=\"gzip\")\n",
    "person_sim.rename(columns={'scenario':'Scenario'}, inplace=True)"
   ]
  },
  {
   "cell_type": "code",
   "execution_count": 4,
   "metadata": {},
   "outputs": [],
   "source": [
    "# Define a function to calculate poverty rates from the poverty flag\n",
    "def pov(data, group):\n",
    "    return pd.DataFrame(\n",
    "        mdf.weighted_mean(data, \"poverty_flag\", \"asecwt\", groupby=group)\n",
    "    )\n",
    "\n",
    "def deep_pov(data, group):\n",
    "    return pd.DataFrame(\n",
    "        mdf.weighted_mean(data, \"deep_poverty_flag\", \"asecwt\", groupby=group)\n",
    ")\n",
    "\n",
    "# Define function to generate gini coefficients\n",
    "def gin(data, group):\n",
    "    return pd.DataFrame(\n",
    "        data.groupby(group).apply(\n",
    "            lambda x: mdf.gini(x, \"spmtotres\", \"asecwt\")\n",
    "        )\n",
    "    )\n",
    "\n",
    "# Define percentage change function\n",
    "def percent_change(new, old):\n",
    "    return 100 * (new - old) / old"
   ]
  },
  {
   "source": [
    "We generate poverty rates for the total population and by demographics of interest, namely sex, race, whether one is a child (under 6) and by state. We similarly generate gini coefficients for the total population and by state."
   ],
   "cell_type": "markdown",
   "metadata": {}
  },
  {
   "cell_type": "code",
   "execution_count": 77,
   "metadata": {},
   "outputs": [],
   "source": [
    "# Poverty rates by demographics of interest\n",
    "poverty_rate = pov(person_sim, [\"Scenario\", \"ca\"]) # Overall poverty rate\n",
    "poverty_rate_sex = pov(person_sim, [\"Scenario\", \"ca\", \"sex\"]) # Poverty rates by sex\n",
    "poverty_rate_race_hispan = pov(person_sim, [\"Scenario\", \"ca\", \"race_hispan\"])  # Poverty rates by race\n",
    "poverty_rate_age = pov(person_sim, [\"Scenario\", \"ca\", \"age_cat\"]) # Poverty rate by child age\n",
    "poverty_rate_child = pov(person_sim, [\"Scenario\", \"ca\", \"child_6\"]) # Poverty rate by child age\n",
    "\n",
    "# State-based poverty rates\n",
    "poverty_rate_state = pov(person_sim, [\"sim\", \"state\"])\n",
    "\n",
    "# Rename constructed poverty_rates\n",
    "poverty_rates = [\n",
    "    poverty_rate,\n",
    "    poverty_rate_sex,\n",
    "    poverty_rate_race_hispan,\n",
    "    poverty_rate_state,\n",
    "    poverty_rate_age,\n",
    "    poverty_rate_child\n",
    "]\n",
    "for i in poverty_rates:\n",
    "    i.rename({0: \"poverty_rate\"}, axis=1, inplace=True)\n",
    "\n",
    "for j in poverty_rates:\n",
    "    j = j.reset_index(inplace=True)"
   ]
  },
  {
   "cell_type": "code",
   "execution_count": 9,
   "metadata": {},
   "outputs": [],
   "source": [
    "# Deep poverty rates by demographics of interest\n",
    "deep_poverty_rate = deep_pov(person_sim, [\"Scenario\", \"ca\"]) # Overall poverty rate\n",
    "deep_poverty_rate_sex = deep_pov(person_sim, [\"Scenario\", \"ca\", \"sex\"]) # Poverty rates by sex\n",
    "deep_poverty_rate_race_hispan = deep_pov(person_sim, [\"Scenario\", \"ca\", \"race_hispan\"])  # Poverty rates by race\n",
    "deep_poverty_rate_age = deep_pov(person_sim, [\"Scenario\", \"ca\", \"age_cat\"]) # Poverty rate by child age\n",
    "deep_poverty_rate_child = pov(person_sim, [\"Scenario\", \"ca\", \"child_6\"]) # Poverty rate by child age\n",
    "\n",
    "# State-based deep poverty rates\n",
    "deep_poverty_rate_state = deep_pov(person_sim, [\"Scenario\", \"ca\", \"state\"])\n",
    "\n",
    "# Rename constructed poverty_rates\n",
    "deep_poverty_rates = [\n",
    "    deep_poverty_rate,\n",
    "    deep_poverty_rate_sex,\n",
    "    deep_poverty_rate_race_hispan,\n",
    "    deep_poverty_rate_state,\n",
    "    deep_poverty_rate_age,\n",
    "]\n",
    "for i in deep_poverty_rates:\n",
    "    i.rename({0: \"deep_poverty_rate\"}, axis=1, inplace=True)\n",
    "\n",
    "for j in deep_poverty_rates:\n",
    "    j = j.reset_index(inplace=True)"
   ]
  },
  {
   "cell_type": "code",
   "execution_count": 6,
   "metadata": {},
   "outputs": [],
   "source": [
    "# Gini coefficients and state-based heterogenous gini coefficients\n",
    "gini = gin(person_sim, [\"Scenario\", \"ca\"])\n",
    "gini_state = gin(person_sim, [\"Scenario\", \"ca\", \"state\"])\n",
    "\n",
    "# Rename constructed gini coefficients\n",
    "ginis = [\n",
    "    gini,\n",
    "    gini_state,\n",
    "]\n",
    "for i in ginis:\n",
    "    i.rename({0: \"gini_coefficient\"}, axis=1, inplace=True)\n",
    "for j in ginis:\n",
    "    j = j.reset_index(inplace=True)"
   ]
  },
  {
   "cell_type": "code",
   "execution_count": 78,
   "metadata": {},
   "outputs": [
    {
     "output_type": "execute_result",
     "data": {
      "text/plain": [
       "2383664499.122768"
      ]
     },
     "metadata": {},
     "execution_count": 78
    }
   ],
   "source": [
    "person_sim.transfer.sum()"
   ]
  },
  {
   "cell_type": "code",
   "execution_count": 60,
   "metadata": {},
   "outputs": [
    {
     "output_type": "execute_result",
     "data": {
      "text/plain": [
       "-0.007909"
      ]
     },
     "metadata": {},
     "execution_count": 60
    }
   ],
   "source": [
    "0.035504-0.043413"
   ]
  },
  {
   "cell_type": "code",
   "execution_count": 58,
   "metadata": {},
   "outputs": [
    {
     "output_type": "execute_result",
     "data": {
      "text/plain": [
       "         Scenario  child care  child allowance  baseline  pdif_base_cc  \\\n",
       "0  cc_replacement    0.042807         0.040897  0.043413     -1.394696   \n",
       "1    high_cc_full    0.035504         0.035508  0.043413    -18.217059   \n",
       "2     low_cc_full    0.036960         0.036917  0.043413    -14.864165   \n",
       "\n",
       "   pdif_base_ca  pdif_ca_cc  \n",
       "0     -5.795620   -4.463171  \n",
       "1    -18.207852    0.011258  \n",
       "2    -14.962420   -0.115410  "
      ],
      "text/html": "<div>\n<style scoped>\n    .dataframe tbody tr th:only-of-type {\n        vertical-align: middle;\n    }\n\n    .dataframe tbody tr th {\n        vertical-align: top;\n    }\n\n    .dataframe thead th {\n        text-align: right;\n    }\n</style>\n<table border=\"1\" class=\"dataframe\">\n  <thead>\n    <tr style=\"text-align: right;\">\n      <th></th>\n      <th>Scenario</th>\n      <th>child care</th>\n      <th>child allowance</th>\n      <th>baseline</th>\n      <th>pdif_base_cc</th>\n      <th>pdif_base_ca</th>\n      <th>pdif_ca_cc</th>\n    </tr>\n  </thead>\n  <tbody>\n    <tr>\n      <th>0</th>\n      <td>cc_replacement</td>\n      <td>0.042807</td>\n      <td>0.040897</td>\n      <td>0.043413</td>\n      <td>-1.394696</td>\n      <td>-5.795620</td>\n      <td>-4.463171</td>\n    </tr>\n    <tr>\n      <th>1</th>\n      <td>high_cc_full</td>\n      <td>0.035504</td>\n      <td>0.035508</td>\n      <td>0.043413</td>\n      <td>-18.217059</td>\n      <td>-18.207852</td>\n      <td>0.011258</td>\n    </tr>\n    <tr>\n      <th>2</th>\n      <td>low_cc_full</td>\n      <td>0.036960</td>\n      <td>0.036917</td>\n      <td>0.043413</td>\n      <td>-14.864165</td>\n      <td>-14.962420</td>\n      <td>-0.115410</td>\n    </tr>\n  </tbody>\n</table>\n</div>"
     },
     "metadata": {},
     "execution_count": 58
    }
   ],
   "source": [
    "deep_pov_wide"
   ]
  },
  {
   "cell_type": "code",
   "execution_count": 40,
   "metadata": {},
   "outputs": [
    {
     "output_type": "display_data",
     "data": {
      "application/vnd.plotly.v1+json": {
       "config": {
        "displayModeBar": false,
        "plotlyServerURL": "https://plot.ly"
       },
       "data": [
        {
         "alignmentgroup": "True",
         "hovertemplate": "Transfer type=Child care<br>Scenario=%{x}<br>Percentage difference in poverty from baseline=%{y}<extra></extra>",
         "legendgroup": "Child care",
         "marker": {
          "color": "#C5CAE9"
         },
         "name": "Child care",
         "offsetgroup": "Child care",
         "orientation": "v",
         "showlegend": true,
         "textposition": "auto",
         "type": "bar",
         "x": [
          "Expense replacement",
          "Base quality",
          "High quality"
         ],
         "xaxis": "x",
         "y": [
          -2.035758661171341,
          -17.171130122523433,
          -21.868796486881696
         ],
         "yaxis": "y"
        },
        {
         "alignmentgroup": "True",
         "hovertemplate": "Transfer type=Child allowance<br>Scenario=%{x}<br>Percentage difference in poverty from baseline=%{y}<extra></extra>",
         "legendgroup": "Child allowance",
         "marker": {
          "color": "#3949AB"
         },
         "name": "Child allowance",
         "offsetgroup": "Child allowance",
         "orientation": "v",
         "showlegend": true,
         "textposition": "auto",
         "type": "bar",
         "x": [
          "Expense replacement",
          "Base quality",
          "High quality"
         ],
         "xaxis": "x",
         "y": [
          -6.075522308332052,
          -17.379115115560044,
          -21.916662881139512
         ],
         "yaxis": "y"
        }
       ],
       "layout": {
        "barmode": "group",
        "font": {
         "family": "Roboto"
        },
        "height": 600,
        "hoverlabel": {
         "align": "right"
        },
        "images": [
         {
          "sizex": 0.12,
          "sizey": 0.12,
          "source": "https://raw.githubusercontent.com/UBICenter/blog/master/jb/_static/ubi_center_logo_wide_blue.png",
          "x": 0.98,
          "xanchor": "right",
          "xref": "paper",
          "y": -0.12,
          "yanchor": "bottom",
          "yref": "paper"
         }
        ],
        "legend": {
         "title": {
          "text": "Transfer type"
         },
         "tracegroupgap": 0
        },
        "margin": {
         "t": 60
        },
        "paper_bgcolor": "white",
        "plot_bgcolor": "white",
        "template": {
         "data": {
          "bar": [
           {
            "error_x": {
             "color": "#2a3f5f"
            },
            "error_y": {
             "color": "#2a3f5f"
            },
            "marker": {
             "line": {
              "color": "#E5ECF6",
              "width": 0.5
             }
            },
            "type": "bar"
           }
          ],
          "barpolar": [
           {
            "marker": {
             "line": {
              "color": "#E5ECF6",
              "width": 0.5
             }
            },
            "type": "barpolar"
           }
          ],
          "carpet": [
           {
            "aaxis": {
             "endlinecolor": "#2a3f5f",
             "gridcolor": "white",
             "linecolor": "white",
             "minorgridcolor": "white",
             "startlinecolor": "#2a3f5f"
            },
            "baxis": {
             "endlinecolor": "#2a3f5f",
             "gridcolor": "white",
             "linecolor": "white",
             "minorgridcolor": "white",
             "startlinecolor": "#2a3f5f"
            },
            "type": "carpet"
           }
          ],
          "choropleth": [
           {
            "colorbar": {
             "outlinewidth": 0,
             "ticks": ""
            },
            "type": "choropleth"
           }
          ],
          "contour": [
           {
            "colorbar": {
             "outlinewidth": 0,
             "ticks": ""
            },
            "colorscale": [
             [
              0,
              "#0d0887"
             ],
             [
              0.1111111111111111,
              "#46039f"
             ],
             [
              0.2222222222222222,
              "#7201a8"
             ],
             [
              0.3333333333333333,
              "#9c179e"
             ],
             [
              0.4444444444444444,
              "#bd3786"
             ],
             [
              0.5555555555555556,
              "#d8576b"
             ],
             [
              0.6666666666666666,
              "#ed7953"
             ],
             [
              0.7777777777777778,
              "#fb9f3a"
             ],
             [
              0.8888888888888888,
              "#fdca26"
             ],
             [
              1,
              "#f0f921"
             ]
            ],
            "type": "contour"
           }
          ],
          "contourcarpet": [
           {
            "colorbar": {
             "outlinewidth": 0,
             "ticks": ""
            },
            "type": "contourcarpet"
           }
          ],
          "heatmap": [
           {
            "colorbar": {
             "outlinewidth": 0,
             "ticks": ""
            },
            "colorscale": [
             [
              0,
              "#0d0887"
             ],
             [
              0.1111111111111111,
              "#46039f"
             ],
             [
              0.2222222222222222,
              "#7201a8"
             ],
             [
              0.3333333333333333,
              "#9c179e"
             ],
             [
              0.4444444444444444,
              "#bd3786"
             ],
             [
              0.5555555555555556,
              "#d8576b"
             ],
             [
              0.6666666666666666,
              "#ed7953"
             ],
             [
              0.7777777777777778,
              "#fb9f3a"
             ],
             [
              0.8888888888888888,
              "#fdca26"
             ],
             [
              1,
              "#f0f921"
             ]
            ],
            "type": "heatmap"
           }
          ],
          "heatmapgl": [
           {
            "colorbar": {
             "outlinewidth": 0,
             "ticks": ""
            },
            "colorscale": [
             [
              0,
              "#0d0887"
             ],
             [
              0.1111111111111111,
              "#46039f"
             ],
             [
              0.2222222222222222,
              "#7201a8"
             ],
             [
              0.3333333333333333,
              "#9c179e"
             ],
             [
              0.4444444444444444,
              "#bd3786"
             ],
             [
              0.5555555555555556,
              "#d8576b"
             ],
             [
              0.6666666666666666,
              "#ed7953"
             ],
             [
              0.7777777777777778,
              "#fb9f3a"
             ],
             [
              0.8888888888888888,
              "#fdca26"
             ],
             [
              1,
              "#f0f921"
             ]
            ],
            "type": "heatmapgl"
           }
          ],
          "histogram": [
           {
            "marker": {
             "colorbar": {
              "outlinewidth": 0,
              "ticks": ""
             }
            },
            "type": "histogram"
           }
          ],
          "histogram2d": [
           {
            "colorbar": {
             "outlinewidth": 0,
             "ticks": ""
            },
            "colorscale": [
             [
              0,
              "#0d0887"
             ],
             [
              0.1111111111111111,
              "#46039f"
             ],
             [
              0.2222222222222222,
              "#7201a8"
             ],
             [
              0.3333333333333333,
              "#9c179e"
             ],
             [
              0.4444444444444444,
              "#bd3786"
             ],
             [
              0.5555555555555556,
              "#d8576b"
             ],
             [
              0.6666666666666666,
              "#ed7953"
             ],
             [
              0.7777777777777778,
              "#fb9f3a"
             ],
             [
              0.8888888888888888,
              "#fdca26"
             ],
             [
              1,
              "#f0f921"
             ]
            ],
            "type": "histogram2d"
           }
          ],
          "histogram2dcontour": [
           {
            "colorbar": {
             "outlinewidth": 0,
             "ticks": ""
            },
            "colorscale": [
             [
              0,
              "#0d0887"
             ],
             [
              0.1111111111111111,
              "#46039f"
             ],
             [
              0.2222222222222222,
              "#7201a8"
             ],
             [
              0.3333333333333333,
              "#9c179e"
             ],
             [
              0.4444444444444444,
              "#bd3786"
             ],
             [
              0.5555555555555556,
              "#d8576b"
             ],
             [
              0.6666666666666666,
              "#ed7953"
             ],
             [
              0.7777777777777778,
              "#fb9f3a"
             ],
             [
              0.8888888888888888,
              "#fdca26"
             ],
             [
              1,
              "#f0f921"
             ]
            ],
            "type": "histogram2dcontour"
           }
          ],
          "mesh3d": [
           {
            "colorbar": {
             "outlinewidth": 0,
             "ticks": ""
            },
            "type": "mesh3d"
           }
          ],
          "parcoords": [
           {
            "line": {
             "colorbar": {
              "outlinewidth": 0,
              "ticks": ""
             }
            },
            "type": "parcoords"
           }
          ],
          "pie": [
           {
            "automargin": true,
            "type": "pie"
           }
          ],
          "scatter": [
           {
            "marker": {
             "colorbar": {
              "outlinewidth": 0,
              "ticks": ""
             }
            },
            "type": "scatter"
           }
          ],
          "scatter3d": [
           {
            "line": {
             "colorbar": {
              "outlinewidth": 0,
              "ticks": ""
             }
            },
            "marker": {
             "colorbar": {
              "outlinewidth": 0,
              "ticks": ""
             }
            },
            "type": "scatter3d"
           }
          ],
          "scattercarpet": [
           {
            "marker": {
             "colorbar": {
              "outlinewidth": 0,
              "ticks": ""
             }
            },
            "type": "scattercarpet"
           }
          ],
          "scattergeo": [
           {
            "marker": {
             "colorbar": {
              "outlinewidth": 0,
              "ticks": ""
             }
            },
            "type": "scattergeo"
           }
          ],
          "scattergl": [
           {
            "marker": {
             "colorbar": {
              "outlinewidth": 0,
              "ticks": ""
             }
            },
            "type": "scattergl"
           }
          ],
          "scattermapbox": [
           {
            "marker": {
             "colorbar": {
              "outlinewidth": 0,
              "ticks": ""
             }
            },
            "type": "scattermapbox"
           }
          ],
          "scatterpolar": [
           {
            "marker": {
             "colorbar": {
              "outlinewidth": 0,
              "ticks": ""
             }
            },
            "type": "scatterpolar"
           }
          ],
          "scatterpolargl": [
           {
            "marker": {
             "colorbar": {
              "outlinewidth": 0,
              "ticks": ""
             }
            },
            "type": "scatterpolargl"
           }
          ],
          "scatterternary": [
           {
            "marker": {
             "colorbar": {
              "outlinewidth": 0,
              "ticks": ""
             }
            },
            "type": "scatterternary"
           }
          ],
          "surface": [
           {
            "colorbar": {
             "outlinewidth": 0,
             "ticks": ""
            },
            "colorscale": [
             [
              0,
              "#0d0887"
             ],
             [
              0.1111111111111111,
              "#46039f"
             ],
             [
              0.2222222222222222,
              "#7201a8"
             ],
             [
              0.3333333333333333,
              "#9c179e"
             ],
             [
              0.4444444444444444,
              "#bd3786"
             ],
             [
              0.5555555555555556,
              "#d8576b"
             ],
             [
              0.6666666666666666,
              "#ed7953"
             ],
             [
              0.7777777777777778,
              "#fb9f3a"
             ],
             [
              0.8888888888888888,
              "#fdca26"
             ],
             [
              1,
              "#f0f921"
             ]
            ],
            "type": "surface"
           }
          ],
          "table": [
           {
            "cells": {
             "fill": {
              "color": "#EBF0F8"
             },
             "line": {
              "color": "white"
             }
            },
            "header": {
             "fill": {
              "color": "#C8D4E3"
             },
             "line": {
              "color": "white"
             }
            },
            "type": "table"
           }
          ]
         },
         "layout": {
          "annotationdefaults": {
           "arrowcolor": "#2a3f5f",
           "arrowhead": 0,
           "arrowwidth": 1
          },
          "autotypenumbers": "strict",
          "coloraxis": {
           "colorbar": {
            "outlinewidth": 0,
            "ticks": ""
           }
          },
          "colorscale": {
           "diverging": [
            [
             0,
             "#8e0152"
            ],
            [
             0.1,
             "#c51b7d"
            ],
            [
             0.2,
             "#de77ae"
            ],
            [
             0.3,
             "#f1b6da"
            ],
            [
             0.4,
             "#fde0ef"
            ],
            [
             0.5,
             "#f7f7f7"
            ],
            [
             0.6,
             "#e6f5d0"
            ],
            [
             0.7,
             "#b8e186"
            ],
            [
             0.8,
             "#7fbc41"
            ],
            [
             0.9,
             "#4d9221"
            ],
            [
             1,
             "#276419"
            ]
           ],
           "sequential": [
            [
             0,
             "#0d0887"
            ],
            [
             0.1111111111111111,
             "#46039f"
            ],
            [
             0.2222222222222222,
             "#7201a8"
            ],
            [
             0.3333333333333333,
             "#9c179e"
            ],
            [
             0.4444444444444444,
             "#bd3786"
            ],
            [
             0.5555555555555556,
             "#d8576b"
            ],
            [
             0.6666666666666666,
             "#ed7953"
            ],
            [
             0.7777777777777778,
             "#fb9f3a"
            ],
            [
             0.8888888888888888,
             "#fdca26"
            ],
            [
             1,
             "#f0f921"
            ]
           ],
           "sequentialminus": [
            [
             0,
             "#0d0887"
            ],
            [
             0.1111111111111111,
             "#46039f"
            ],
            [
             0.2222222222222222,
             "#7201a8"
            ],
            [
             0.3333333333333333,
             "#9c179e"
            ],
            [
             0.4444444444444444,
             "#bd3786"
            ],
            [
             0.5555555555555556,
             "#d8576b"
            ],
            [
             0.6666666666666666,
             "#ed7953"
            ],
            [
             0.7777777777777778,
             "#fb9f3a"
            ],
            [
             0.8888888888888888,
             "#fdca26"
            ],
            [
             1,
             "#f0f921"
            ]
           ]
          },
          "colorway": [
           "#636efa",
           "#EF553B",
           "#00cc96",
           "#ab63fa",
           "#FFA15A",
           "#19d3f3",
           "#FF6692",
           "#B6E880",
           "#FF97FF",
           "#FECB52"
          ],
          "font": {
           "color": "#2a3f5f"
          },
          "geo": {
           "bgcolor": "white",
           "lakecolor": "white",
           "landcolor": "#E5ECF6",
           "showlakes": true,
           "showland": true,
           "subunitcolor": "white"
          },
          "hoverlabel": {
           "align": "left"
          },
          "hovermode": "closest",
          "mapbox": {
           "style": "light"
          },
          "paper_bgcolor": "white",
          "plot_bgcolor": "#E5ECF6",
          "polar": {
           "angularaxis": {
            "gridcolor": "white",
            "linecolor": "white",
            "ticks": ""
           },
           "bgcolor": "#E5ECF6",
           "radialaxis": {
            "gridcolor": "white",
            "linecolor": "white",
            "ticks": ""
           }
          },
          "scene": {
           "xaxis": {
            "backgroundcolor": "#E5ECF6",
            "gridcolor": "white",
            "gridwidth": 2,
            "linecolor": "white",
            "showbackground": true,
            "ticks": "",
            "zerolinecolor": "white"
           },
           "yaxis": {
            "backgroundcolor": "#E5ECF6",
            "gridcolor": "white",
            "gridwidth": 2,
            "linecolor": "white",
            "showbackground": true,
            "ticks": "",
            "zerolinecolor": "white"
           },
           "zaxis": {
            "backgroundcolor": "#E5ECF6",
            "gridcolor": "white",
            "gridwidth": 2,
            "linecolor": "white",
            "showbackground": true,
            "ticks": "",
            "zerolinecolor": "white"
           }
          },
          "shapedefaults": {
           "line": {
            "color": "#2a3f5f"
           }
          },
          "ternary": {
           "aaxis": {
            "gridcolor": "white",
            "linecolor": "white",
            "ticks": ""
           },
           "baxis": {
            "gridcolor": "white",
            "linecolor": "white",
            "ticks": ""
           },
           "bgcolor": "#E5ECF6",
           "caxis": {
            "gridcolor": "white",
            "linecolor": "white",
            "ticks": ""
           }
          },
          "title": {
           "x": 0.05
          },
          "xaxis": {
           "automargin": true,
           "gridcolor": "white",
           "linecolor": "white",
           "ticks": "",
           "title": {
            "standoff": 15
           },
           "zerolinecolor": "white",
           "zerolinewidth": 2
          },
          "yaxis": {
           "automargin": true,
           "gridcolor": "white",
           "linecolor": "white",
           "ticks": "",
           "title": {
            "standoff": 15
           },
           "zerolinecolor": "white",
           "zerolinewidth": 2
          }
         }
        },
        "title": {
         "font": {
          "size": 20
         }
        },
        "width": 800,
        "xaxis": {
         "anchor": "y",
         "domain": [
          0,
          1
         ],
         "tickfont": {
          "size": 14
         },
         "title": {
          "font": {
           "color": "black",
           "size": 16
          },
          "text": "Scenario"
         }
        },
        "yaxis": {
         "anchor": "x",
         "domain": [
          0,
          1
         ],
         "tickfont": {
          "size": 14
         },
         "title": {
          "font": {
           "color": "black",
           "size": 16
          },
          "text": "Percentage difference in poverty from baseline"
         }
        }
       }
      }
     },
     "metadata": {}
    }
   ],
   "source": [
    "# Poverty plot\n",
    "# Use pivot table to construct difference / percentage change in pov measures \n",
    "pov_wide = poverty_rate[poverty_rate.Scenario!=\"baseline\"].pivot_table(\"poverty_rate\",\"Scenario\",\"ca\")\n",
    "pov_wide[\"baseline\"] = poverty_rate[poverty_rate.Scenario == \"baseline\"].poverty_rate.values[0]\n",
    "pov_wide = pov_wide.reset_index()\n",
    "pov_wide.columns = [\"Scenario\", \"child care\", \"child allowance\", \"baseline\"]\n",
    "pov_wide[\"pdif_base_cc\"] = percent_change(pov_wide[\"child care\"],pov_wide[\"baseline\"])\n",
    "pov_wide[\"pdif_base_ca\"] = percent_change(pov_wide[\"child allowance\"],pov_wide[\"baseline\"])\n",
    "pov_wide[\"pdif_ca_cc\"] = percent_change(pov_wide[\"child allowance\"],pov_wide[\"child care\"])\n",
    "\n",
    "# Prepare dataframe for plot output\n",
    "no_ca_rows = {\"Scenario\":pov_wide[\"Scenario\"], \"Transfer type\":\"Child care\", \"Percentage difference in poverty from baseline\":pov_wide[\"pdif_base_cc\"]}\n",
    "no_ca_rows = pd.DataFrame(no_ca_rows)\n",
    "row_1 = no_ca_rows[no_ca_rows.Scenario == \"cc_replacement\"]\n",
    "row_2 = no_ca_rows[no_ca_rows.Scenario == \"low_cc_full\"]\n",
    "row_3 = no_ca_rows[no_ca_rows.Scenario == \"high_cc_full\"]\n",
    "\n",
    "ca_rows = {\"Scenario\":pov_wide[\"Scenario\"], \"Transfer type\":\"Child allowance\", \"Percentage difference in poverty from baseline\":pov_wide[\"pdif_base_ca\"]}\n",
    "ca_rows = pd.DataFrame(ca_rows)\n",
    "row_4 = ca_rows[ca_rows.Scenario == \"cc_replacement\"]\n",
    "row_5 = ca_rows[ca_rows.Scenario == \"low_cc_full\"]\n",
    "row_6 = ca_rows[ca_rows.Scenario == \"high_cc_full\"]\n",
    "\n",
    "# Append the rows\n",
    "row_2 = row_1.append(row_2)\n",
    "row_3 = row_2.append(row_3)\n",
    "row_4 = row_3.append(row_4)\n",
    "row_5 = row_4.append(row_5)\n",
    "row_6 = row_5.append(row_6)\n",
    "pov_long = row_6\n",
    "\n",
    "# Rename Scenarios\n",
    "pov_long.loc[pov_long.Scenario == \"cc_replacement\", \"Scenario\"] = \"Expense replacement\"\n",
    "pov_long.loc[pov_long.Scenario == \"high_cc_full\", \"Scenario\"] = \"High quality\"\n",
    "pov_long.loc[pov_long.Scenario == \"low_cc_full\", \"Scenario\"] = \"Base quality\" \n",
    "\n",
    "pov_plot = px.bar(pov_long, x=\"Scenario\", y=\"Percentage difference in poverty from baseline\", color=\"Transfer type\", barmode=\"group\",color_discrete_map={\"Child care\":\"#C5CAE9\",\"Child allowance\":\"#3949AB\"})\n",
    "format_fig(pov_plot)\n"
   ]
  },
  {
   "cell_type": "code",
   "execution_count": 41,
   "metadata": {},
   "outputs": [
    {
     "output_type": "display_data",
     "data": {
      "application/vnd.plotly.v1+json": {
       "config": {
        "displayModeBar": false,
        "plotlyServerURL": "https://plot.ly"
       },
       "data": [
        {
         "alignmentgroup": "True",
         "hovertemplate": "Transfer type=Child care<br>Scenario=%{x}<br>Percentage difference in deep poverty from baseline=%{y}<extra></extra>",
         "legendgroup": "Child care",
         "marker": {
          "color": "#C5CAE9"
         },
         "name": "Child care",
         "offsetgroup": "Child care",
         "orientation": "v",
         "showlegend": true,
         "textposition": "auto",
         "type": "bar",
         "x": [
          "Expense replacement",
          "Base quality",
          "High quality"
         ],
         "xaxis": "x",
         "y": [
          -1.3946962099866878,
          -14.864164895867491,
          -18.21705864512569
         ],
         "yaxis": "y"
        },
        {
         "alignmentgroup": "True",
         "hovertemplate": "Transfer type=Child allowance<br>Scenario=%{x}<br>Percentage difference in deep poverty from baseline=%{y}<extra></extra>",
         "legendgroup": "Child allowance",
         "marker": {
          "color": "#3949AB"
         },
         "name": "Child allowance",
         "offsetgroup": "Child allowance",
         "orientation": "v",
         "showlegend": true,
         "textposition": "auto",
         "type": "bar",
         "x": [
          "Expense replacement",
          "Base quality",
          "High quality"
         ],
         "xaxis": "x",
         "y": [
          -5.795619634738848,
          -14.96242023381289,
          -18.20785176690889
         ],
         "yaxis": "y"
        }
       ],
       "layout": {
        "barmode": "group",
        "font": {
         "family": "Roboto"
        },
        "height": 600,
        "hoverlabel": {
         "align": "right"
        },
        "images": [
         {
          "sizex": 0.12,
          "sizey": 0.12,
          "source": "https://raw.githubusercontent.com/UBICenter/blog/master/jb/_static/ubi_center_logo_wide_blue.png",
          "x": 0.98,
          "xanchor": "right",
          "xref": "paper",
          "y": -0.12,
          "yanchor": "bottom",
          "yref": "paper"
         }
        ],
        "legend": {
         "title": {
          "text": "Transfer type"
         },
         "tracegroupgap": 0
        },
        "margin": {
         "t": 60
        },
        "paper_bgcolor": "white",
        "plot_bgcolor": "white",
        "template": {
         "data": {
          "bar": [
           {
            "error_x": {
             "color": "#2a3f5f"
            },
            "error_y": {
             "color": "#2a3f5f"
            },
            "marker": {
             "line": {
              "color": "#E5ECF6",
              "width": 0.5
             }
            },
            "type": "bar"
           }
          ],
          "barpolar": [
           {
            "marker": {
             "line": {
              "color": "#E5ECF6",
              "width": 0.5
             }
            },
            "type": "barpolar"
           }
          ],
          "carpet": [
           {
            "aaxis": {
             "endlinecolor": "#2a3f5f",
             "gridcolor": "white",
             "linecolor": "white",
             "minorgridcolor": "white",
             "startlinecolor": "#2a3f5f"
            },
            "baxis": {
             "endlinecolor": "#2a3f5f",
             "gridcolor": "white",
             "linecolor": "white",
             "minorgridcolor": "white",
             "startlinecolor": "#2a3f5f"
            },
            "type": "carpet"
           }
          ],
          "choropleth": [
           {
            "colorbar": {
             "outlinewidth": 0,
             "ticks": ""
            },
            "type": "choropleth"
           }
          ],
          "contour": [
           {
            "colorbar": {
             "outlinewidth": 0,
             "ticks": ""
            },
            "colorscale": [
             [
              0,
              "#0d0887"
             ],
             [
              0.1111111111111111,
              "#46039f"
             ],
             [
              0.2222222222222222,
              "#7201a8"
             ],
             [
              0.3333333333333333,
              "#9c179e"
             ],
             [
              0.4444444444444444,
              "#bd3786"
             ],
             [
              0.5555555555555556,
              "#d8576b"
             ],
             [
              0.6666666666666666,
              "#ed7953"
             ],
             [
              0.7777777777777778,
              "#fb9f3a"
             ],
             [
              0.8888888888888888,
              "#fdca26"
             ],
             [
              1,
              "#f0f921"
             ]
            ],
            "type": "contour"
           }
          ],
          "contourcarpet": [
           {
            "colorbar": {
             "outlinewidth": 0,
             "ticks": ""
            },
            "type": "contourcarpet"
           }
          ],
          "heatmap": [
           {
            "colorbar": {
             "outlinewidth": 0,
             "ticks": ""
            },
            "colorscale": [
             [
              0,
              "#0d0887"
             ],
             [
              0.1111111111111111,
              "#46039f"
             ],
             [
              0.2222222222222222,
              "#7201a8"
             ],
             [
              0.3333333333333333,
              "#9c179e"
             ],
             [
              0.4444444444444444,
              "#bd3786"
             ],
             [
              0.5555555555555556,
              "#d8576b"
             ],
             [
              0.6666666666666666,
              "#ed7953"
             ],
             [
              0.7777777777777778,
              "#fb9f3a"
             ],
             [
              0.8888888888888888,
              "#fdca26"
             ],
             [
              1,
              "#f0f921"
             ]
            ],
            "type": "heatmap"
           }
          ],
          "heatmapgl": [
           {
            "colorbar": {
             "outlinewidth": 0,
             "ticks": ""
            },
            "colorscale": [
             [
              0,
              "#0d0887"
             ],
             [
              0.1111111111111111,
              "#46039f"
             ],
             [
              0.2222222222222222,
              "#7201a8"
             ],
             [
              0.3333333333333333,
              "#9c179e"
             ],
             [
              0.4444444444444444,
              "#bd3786"
             ],
             [
              0.5555555555555556,
              "#d8576b"
             ],
             [
              0.6666666666666666,
              "#ed7953"
             ],
             [
              0.7777777777777778,
              "#fb9f3a"
             ],
             [
              0.8888888888888888,
              "#fdca26"
             ],
             [
              1,
              "#f0f921"
             ]
            ],
            "type": "heatmapgl"
           }
          ],
          "histogram": [
           {
            "marker": {
             "colorbar": {
              "outlinewidth": 0,
              "ticks": ""
             }
            },
            "type": "histogram"
           }
          ],
          "histogram2d": [
           {
            "colorbar": {
             "outlinewidth": 0,
             "ticks": ""
            },
            "colorscale": [
             [
              0,
              "#0d0887"
             ],
             [
              0.1111111111111111,
              "#46039f"
             ],
             [
              0.2222222222222222,
              "#7201a8"
             ],
             [
              0.3333333333333333,
              "#9c179e"
             ],
             [
              0.4444444444444444,
              "#bd3786"
             ],
             [
              0.5555555555555556,
              "#d8576b"
             ],
             [
              0.6666666666666666,
              "#ed7953"
             ],
             [
              0.7777777777777778,
              "#fb9f3a"
             ],
             [
              0.8888888888888888,
              "#fdca26"
             ],
             [
              1,
              "#f0f921"
             ]
            ],
            "type": "histogram2d"
           }
          ],
          "histogram2dcontour": [
           {
            "colorbar": {
             "outlinewidth": 0,
             "ticks": ""
            },
            "colorscale": [
             [
              0,
              "#0d0887"
             ],
             [
              0.1111111111111111,
              "#46039f"
             ],
             [
              0.2222222222222222,
              "#7201a8"
             ],
             [
              0.3333333333333333,
              "#9c179e"
             ],
             [
              0.4444444444444444,
              "#bd3786"
             ],
             [
              0.5555555555555556,
              "#d8576b"
             ],
             [
              0.6666666666666666,
              "#ed7953"
             ],
             [
              0.7777777777777778,
              "#fb9f3a"
             ],
             [
              0.8888888888888888,
              "#fdca26"
             ],
             [
              1,
              "#f0f921"
             ]
            ],
            "type": "histogram2dcontour"
           }
          ],
          "mesh3d": [
           {
            "colorbar": {
             "outlinewidth": 0,
             "ticks": ""
            },
            "type": "mesh3d"
           }
          ],
          "parcoords": [
           {
            "line": {
             "colorbar": {
              "outlinewidth": 0,
              "ticks": ""
             }
            },
            "type": "parcoords"
           }
          ],
          "pie": [
           {
            "automargin": true,
            "type": "pie"
           }
          ],
          "scatter": [
           {
            "marker": {
             "colorbar": {
              "outlinewidth": 0,
              "ticks": ""
             }
            },
            "type": "scatter"
           }
          ],
          "scatter3d": [
           {
            "line": {
             "colorbar": {
              "outlinewidth": 0,
              "ticks": ""
             }
            },
            "marker": {
             "colorbar": {
              "outlinewidth": 0,
              "ticks": ""
             }
            },
            "type": "scatter3d"
           }
          ],
          "scattercarpet": [
           {
            "marker": {
             "colorbar": {
              "outlinewidth": 0,
              "ticks": ""
             }
            },
            "type": "scattercarpet"
           }
          ],
          "scattergeo": [
           {
            "marker": {
             "colorbar": {
              "outlinewidth": 0,
              "ticks": ""
             }
            },
            "type": "scattergeo"
           }
          ],
          "scattergl": [
           {
            "marker": {
             "colorbar": {
              "outlinewidth": 0,
              "ticks": ""
             }
            },
            "type": "scattergl"
           }
          ],
          "scattermapbox": [
           {
            "marker": {
             "colorbar": {
              "outlinewidth": 0,
              "ticks": ""
             }
            },
            "type": "scattermapbox"
           }
          ],
          "scatterpolar": [
           {
            "marker": {
             "colorbar": {
              "outlinewidth": 0,
              "ticks": ""
             }
            },
            "type": "scatterpolar"
           }
          ],
          "scatterpolargl": [
           {
            "marker": {
             "colorbar": {
              "outlinewidth": 0,
              "ticks": ""
             }
            },
            "type": "scatterpolargl"
           }
          ],
          "scatterternary": [
           {
            "marker": {
             "colorbar": {
              "outlinewidth": 0,
              "ticks": ""
             }
            },
            "type": "scatterternary"
           }
          ],
          "surface": [
           {
            "colorbar": {
             "outlinewidth": 0,
             "ticks": ""
            },
            "colorscale": [
             [
              0,
              "#0d0887"
             ],
             [
              0.1111111111111111,
              "#46039f"
             ],
             [
              0.2222222222222222,
              "#7201a8"
             ],
             [
              0.3333333333333333,
              "#9c179e"
             ],
             [
              0.4444444444444444,
              "#bd3786"
             ],
             [
              0.5555555555555556,
              "#d8576b"
             ],
             [
              0.6666666666666666,
              "#ed7953"
             ],
             [
              0.7777777777777778,
              "#fb9f3a"
             ],
             [
              0.8888888888888888,
              "#fdca26"
             ],
             [
              1,
              "#f0f921"
             ]
            ],
            "type": "surface"
           }
          ],
          "table": [
           {
            "cells": {
             "fill": {
              "color": "#EBF0F8"
             },
             "line": {
              "color": "white"
             }
            },
            "header": {
             "fill": {
              "color": "#C8D4E3"
             },
             "line": {
              "color": "white"
             }
            },
            "type": "table"
           }
          ]
         },
         "layout": {
          "annotationdefaults": {
           "arrowcolor": "#2a3f5f",
           "arrowhead": 0,
           "arrowwidth": 1
          },
          "autotypenumbers": "strict",
          "coloraxis": {
           "colorbar": {
            "outlinewidth": 0,
            "ticks": ""
           }
          },
          "colorscale": {
           "diverging": [
            [
             0,
             "#8e0152"
            ],
            [
             0.1,
             "#c51b7d"
            ],
            [
             0.2,
             "#de77ae"
            ],
            [
             0.3,
             "#f1b6da"
            ],
            [
             0.4,
             "#fde0ef"
            ],
            [
             0.5,
             "#f7f7f7"
            ],
            [
             0.6,
             "#e6f5d0"
            ],
            [
             0.7,
             "#b8e186"
            ],
            [
             0.8,
             "#7fbc41"
            ],
            [
             0.9,
             "#4d9221"
            ],
            [
             1,
             "#276419"
            ]
           ],
           "sequential": [
            [
             0,
             "#0d0887"
            ],
            [
             0.1111111111111111,
             "#46039f"
            ],
            [
             0.2222222222222222,
             "#7201a8"
            ],
            [
             0.3333333333333333,
             "#9c179e"
            ],
            [
             0.4444444444444444,
             "#bd3786"
            ],
            [
             0.5555555555555556,
             "#d8576b"
            ],
            [
             0.6666666666666666,
             "#ed7953"
            ],
            [
             0.7777777777777778,
             "#fb9f3a"
            ],
            [
             0.8888888888888888,
             "#fdca26"
            ],
            [
             1,
             "#f0f921"
            ]
           ],
           "sequentialminus": [
            [
             0,
             "#0d0887"
            ],
            [
             0.1111111111111111,
             "#46039f"
            ],
            [
             0.2222222222222222,
             "#7201a8"
            ],
            [
             0.3333333333333333,
             "#9c179e"
            ],
            [
             0.4444444444444444,
             "#bd3786"
            ],
            [
             0.5555555555555556,
             "#d8576b"
            ],
            [
             0.6666666666666666,
             "#ed7953"
            ],
            [
             0.7777777777777778,
             "#fb9f3a"
            ],
            [
             0.8888888888888888,
             "#fdca26"
            ],
            [
             1,
             "#f0f921"
            ]
           ]
          },
          "colorway": [
           "#636efa",
           "#EF553B",
           "#00cc96",
           "#ab63fa",
           "#FFA15A",
           "#19d3f3",
           "#FF6692",
           "#B6E880",
           "#FF97FF",
           "#FECB52"
          ],
          "font": {
           "color": "#2a3f5f"
          },
          "geo": {
           "bgcolor": "white",
           "lakecolor": "white",
           "landcolor": "#E5ECF6",
           "showlakes": true,
           "showland": true,
           "subunitcolor": "white"
          },
          "hoverlabel": {
           "align": "left"
          },
          "hovermode": "closest",
          "mapbox": {
           "style": "light"
          },
          "paper_bgcolor": "white",
          "plot_bgcolor": "#E5ECF6",
          "polar": {
           "angularaxis": {
            "gridcolor": "white",
            "linecolor": "white",
            "ticks": ""
           },
           "bgcolor": "#E5ECF6",
           "radialaxis": {
            "gridcolor": "white",
            "linecolor": "white",
            "ticks": ""
           }
          },
          "scene": {
           "xaxis": {
            "backgroundcolor": "#E5ECF6",
            "gridcolor": "white",
            "gridwidth": 2,
            "linecolor": "white",
            "showbackground": true,
            "ticks": "",
            "zerolinecolor": "white"
           },
           "yaxis": {
            "backgroundcolor": "#E5ECF6",
            "gridcolor": "white",
            "gridwidth": 2,
            "linecolor": "white",
            "showbackground": true,
            "ticks": "",
            "zerolinecolor": "white"
           },
           "zaxis": {
            "backgroundcolor": "#E5ECF6",
            "gridcolor": "white",
            "gridwidth": 2,
            "linecolor": "white",
            "showbackground": true,
            "ticks": "",
            "zerolinecolor": "white"
           }
          },
          "shapedefaults": {
           "line": {
            "color": "#2a3f5f"
           }
          },
          "ternary": {
           "aaxis": {
            "gridcolor": "white",
            "linecolor": "white",
            "ticks": ""
           },
           "baxis": {
            "gridcolor": "white",
            "linecolor": "white",
            "ticks": ""
           },
           "bgcolor": "#E5ECF6",
           "caxis": {
            "gridcolor": "white",
            "linecolor": "white",
            "ticks": ""
           }
          },
          "title": {
           "x": 0.05
          },
          "xaxis": {
           "automargin": true,
           "gridcolor": "white",
           "linecolor": "white",
           "ticks": "",
           "title": {
            "standoff": 15
           },
           "zerolinecolor": "white",
           "zerolinewidth": 2
          },
          "yaxis": {
           "automargin": true,
           "gridcolor": "white",
           "linecolor": "white",
           "ticks": "",
           "title": {
            "standoff": 15
           },
           "zerolinecolor": "white",
           "zerolinewidth": 2
          }
         }
        },
        "title": {
         "font": {
          "size": 20
         }
        },
        "width": 800,
        "xaxis": {
         "anchor": "y",
         "domain": [
          0,
          1
         ],
         "tickfont": {
          "size": 14
         },
         "title": {
          "font": {
           "color": "black",
           "size": 16
          },
          "text": "Scenario"
         }
        },
        "yaxis": {
         "anchor": "x",
         "domain": [
          0,
          1
         ],
         "tickfont": {
          "size": 14
         },
         "title": {
          "font": {
           "color": "black",
           "size": 16
          },
          "text": "Percentage difference in deep poverty from baseline"
         }
        }
       }
      }
     },
     "metadata": {}
    }
   ],
   "source": [
    "### Deep poverty\n",
    "# Use pivot table to construct difference / percentage change in pov measures \n",
    "deep_pov_wide = deep_poverty_rate[deep_poverty_rate.Scenario!=\"baseline\"].pivot_table(\"deep_poverty_rate\",\"Scenario\",\"ca\")\n",
    "deep_pov_wide[\"baseline\"] = deep_poverty_rate[deep_poverty_rate.Scenario == \"baseline\"].deep_poverty_rate.values[0]\n",
    "deep_pov_wide = deep_pov_wide.reset_index()\n",
    "deep_pov_wide.columns = [\"Scenario\", \"child care\", \"child allowance\", \"baseline\"]\n",
    "deep_pov_wide[\"pdif_base_cc\"] = percent_change(deep_pov_wide[\"child care\"],deep_pov_wide[\"baseline\"])\n",
    "deep_pov_wide[\"pdif_base_ca\"] = percent_change(deep_pov_wide[\"child allowance\"],deep_pov_wide[\"baseline\"])\n",
    "deep_pov_wide[\"pdif_ca_cc\"] = percent_change(deep_pov_wide[\"child allowance\"],deep_pov_wide[\"child care\"])\n",
    "\n",
    "# Prepare dataframe for plot output\n",
    "no_ca_rows = {\"Scenario\":deep_pov_wide[\"Scenario\"], \"Transfer type\":\"Child care\", \"Percentage difference in deep poverty from baseline\":deep_pov_wide[\"pdif_base_cc\"]}\n",
    "no_ca_rows = pd.DataFrame(no_ca_rows)\n",
    "row_1 = no_ca_rows[no_ca_rows.Scenario == \"cc_replacement\"]\n",
    "row_2 = no_ca_rows[no_ca_rows.Scenario == \"low_cc_full\"]\n",
    "row_3 = no_ca_rows[no_ca_rows.Scenario == \"high_cc_full\"]\n",
    "\n",
    "ca_rows = {\"Scenario\":deep_pov_wide[\"Scenario\"], \"Transfer type\":\"Child allowance\", \"Percentage difference in deep poverty from baseline\":deep_pov_wide[\"pdif_base_ca\"]}\n",
    "ca_rows = pd.DataFrame(ca_rows)\n",
    "row_4 = ca_rows[ca_rows.Scenario == \"cc_replacement\"]\n",
    "row_5 = ca_rows[ca_rows.Scenario == \"low_cc_full\"]\n",
    "row_6 = ca_rows[ca_rows.Scenario == \"high_cc_full\"]\n",
    "\n",
    "# Append the rows\n",
    "row_2 = row_1.append(row_2)\n",
    "row_3 = row_2.append(row_3)\n",
    "row_4 = row_3.append(row_4)\n",
    "row_5 = row_4.append(row_5)\n",
    "row_6 = row_5.append(row_6)\n",
    "pov_long = row_6\n",
    "\n",
    "# Rename Scenarios\n",
    "pov_long.loc[pov_long.Scenario == \"cc_replacement\", \"Scenario\"] = \"Expense replacement\"\n",
    "pov_long.loc[pov_long.Scenario == \"high_cc_full\", \"Scenario\"] = \"High quality\"\n",
    "pov_long.loc[pov_long.Scenario == \"low_cc_full\", \"Scenario\"] = \"Base quality\" \n",
    "\n",
    "pov_plot = px.bar(pov_long, x=\"Scenario\", y=\"Percentage difference in deep poverty from baseline\", color=\"Transfer type\", barmode=\"group\",color_discrete_map={\"Child care\":\"#C5CAE9\",\"Child allowance\":\"#3949AB\"})\n",
    "format_fig(pov_plot)\n"
   ]
  },
  {
   "cell_type": "code",
   "execution_count": 69,
   "metadata": {},
   "outputs": [
    {
     "output_type": "execute_result",
     "data": {
      "text/plain": [
       "          Scenario     ca  child_6  poverty_rate\n",
       "0         baseline  False    False      0.126100\n",
       "1         baseline  False     True      0.149787\n",
       "2   cc_replacement  False    False      0.124124\n",
       "3   cc_replacement  False     True      0.139226\n",
       "4   cc_replacement   True    False      0.120445\n",
       "5   cc_replacement   True     True      0.115222\n",
       "6     high_cc_full  False    False      0.106706\n",
       "7     high_cc_full  False     True      0.013208\n",
       "8     high_cc_full   True    False      0.106664\n",
       "9     high_cc_full   True     True      0.012909\n",
       "10     low_cc_full  False    False      0.111094\n",
       "11     low_cc_full  False     True      0.039738\n",
       "12     low_cc_full   True    False      0.110938\n",
       "13     low_cc_full   True     True      0.038074"
      ],
      "text/html": "<div>\n<style scoped>\n    .dataframe tbody tr th:only-of-type {\n        vertical-align: middle;\n    }\n\n    .dataframe tbody tr th {\n        vertical-align: top;\n    }\n\n    .dataframe thead th {\n        text-align: right;\n    }\n</style>\n<table border=\"1\" class=\"dataframe\">\n  <thead>\n    <tr style=\"text-align: right;\">\n      <th></th>\n      <th>Scenario</th>\n      <th>ca</th>\n      <th>child_6</th>\n      <th>poverty_rate</th>\n    </tr>\n  </thead>\n  <tbody>\n    <tr>\n      <th>0</th>\n      <td>baseline</td>\n      <td>False</td>\n      <td>False</td>\n      <td>0.126100</td>\n    </tr>\n    <tr>\n      <th>1</th>\n      <td>baseline</td>\n      <td>False</td>\n      <td>True</td>\n      <td>0.149787</td>\n    </tr>\n    <tr>\n      <th>2</th>\n      <td>cc_replacement</td>\n      <td>False</td>\n      <td>False</td>\n      <td>0.124124</td>\n    </tr>\n    <tr>\n      <th>3</th>\n      <td>cc_replacement</td>\n      <td>False</td>\n      <td>True</td>\n      <td>0.139226</td>\n    </tr>\n    <tr>\n      <th>4</th>\n      <td>cc_replacement</td>\n      <td>True</td>\n      <td>False</td>\n      <td>0.120445</td>\n    </tr>\n    <tr>\n      <th>5</th>\n      <td>cc_replacement</td>\n      <td>True</td>\n      <td>True</td>\n      <td>0.115222</td>\n    </tr>\n    <tr>\n      <th>6</th>\n      <td>high_cc_full</td>\n      <td>False</td>\n      <td>False</td>\n      <td>0.106706</td>\n    </tr>\n    <tr>\n      <th>7</th>\n      <td>high_cc_full</td>\n      <td>False</td>\n      <td>True</td>\n      <td>0.013208</td>\n    </tr>\n    <tr>\n      <th>8</th>\n      <td>high_cc_full</td>\n      <td>True</td>\n      <td>False</td>\n      <td>0.106664</td>\n    </tr>\n    <tr>\n      <th>9</th>\n      <td>high_cc_full</td>\n      <td>True</td>\n      <td>True</td>\n      <td>0.012909</td>\n    </tr>\n    <tr>\n      <th>10</th>\n      <td>low_cc_full</td>\n      <td>False</td>\n      <td>False</td>\n      <td>0.111094</td>\n    </tr>\n    <tr>\n      <th>11</th>\n      <td>low_cc_full</td>\n      <td>False</td>\n      <td>True</td>\n      <td>0.039738</td>\n    </tr>\n    <tr>\n      <th>12</th>\n      <td>low_cc_full</td>\n      <td>True</td>\n      <td>False</td>\n      <td>0.110938</td>\n    </tr>\n    <tr>\n      <th>13</th>\n      <td>low_cc_full</td>\n      <td>True</td>\n      <td>True</td>\n      <td>0.038074</td>\n    </tr>\n  </tbody>\n</table>\n</div>"
     },
     "metadata": {},
     "execution_count": 69
    }
   ],
   "source": [
    "poverty_rate_child"
   ]
  },
  {
   "cell_type": "code",
   "execution_count": 13,
   "metadata": {},
   "outputs": [
    {
     "output_type": "error",
     "ename": "AttributeError",
     "evalue": "'DataFrame' object has no attribute 'Scenario'",
     "traceback": [
      "\u001b[1;31m---------------------------------------------------------------------------\u001b[0m",
      "\u001b[1;31mAttributeError\u001b[0m                            Traceback (most recent call last)",
      "\u001b[1;32m<ipython-input-13-5fcccf768fbe>\u001b[0m in \u001b[0;36m<module>\u001b[1;34m\u001b[0m\n\u001b[0;32m      1\u001b[0m \u001b[1;31m# Poverty plot age\u001b[0m\u001b[1;33m\u001b[0m\u001b[1;33m\u001b[0m\u001b[1;33m\u001b[0m\u001b[0m\n\u001b[0;32m      2\u001b[0m \u001b[1;31m# Use pivot table to construct difference / percentage change in pov measures\u001b[0m\u001b[1;33m\u001b[0m\u001b[1;33m\u001b[0m\u001b[1;33m\u001b[0m\u001b[0m\n\u001b[1;32m----> 3\u001b[1;33m \u001b[0mchild_pov_wide\u001b[0m \u001b[1;33m=\u001b[0m \u001b[0mpoverty_rate_child\u001b[0m\u001b[1;33m[\u001b[0m\u001b[0mpoverty_rate_child\u001b[0m\u001b[1;33m.\u001b[0m\u001b[0mScenario\u001b[0m\u001b[1;33m!=\u001b[0m\u001b[1;34m\"baseline\"\u001b[0m\u001b[1;33m]\u001b[0m\u001b[1;33m.\u001b[0m\u001b[0mpivot_table\u001b[0m\u001b[1;33m(\u001b[0m\u001b[1;34m\"poverty_rate\"\u001b[0m\u001b[1;33m,\u001b[0m\u001b[1;34m\"Scenario\"\u001b[0m\u001b[1;33m,\u001b[0m\u001b[1;34m\"ca\"\u001b[0m\u001b[1;33m,\u001b[0m \u001b[1;34m\"child_6\"\u001b[0m\u001b[1;33m)\u001b[0m\u001b[1;33m\u001b[0m\u001b[1;33m\u001b[0m\u001b[0m\n\u001b[0m\u001b[0;32m      4\u001b[0m \u001b[0mchild_pov_wide\u001b[0m\u001b[1;33m[\u001b[0m\u001b[1;34m\"baseline\"\u001b[0m\u001b[1;33m]\u001b[0m \u001b[1;33m=\u001b[0m \u001b[0mpoverty_rate_child\u001b[0m\u001b[1;33m[\u001b[0m\u001b[0mpoverty_rate_child\u001b[0m\u001b[1;33m.\u001b[0m\u001b[0mScenario\u001b[0m \u001b[1;33m==\u001b[0m \u001b[1;34m\"baseline\"\u001b[0m\u001b[1;33m]\u001b[0m\u001b[1;33m.\u001b[0m\u001b[0mpoverty_rate\u001b[0m\u001b[1;33m.\u001b[0m\u001b[0mvalues\u001b[0m\u001b[1;33m[\u001b[0m\u001b[1;36m0\u001b[0m\u001b[1;33m]\u001b[0m\u001b[1;33m\u001b[0m\u001b[1;33m\u001b[0m\u001b[0m\n\u001b[0;32m      5\u001b[0m \u001b[0mchild_pov_wide\u001b[0m \u001b[1;33m=\u001b[0m \u001b[0mchild_pov_wide\u001b[0m\u001b[1;33m.\u001b[0m\u001b[0mreset_index\u001b[0m\u001b[1;33m(\u001b[0m\u001b[1;33m)\u001b[0m\u001b[1;33m\u001b[0m\u001b[1;33m\u001b[0m\u001b[0m\n",
      "\u001b[1;32m~\\anaconda3\\lib\\site-packages\\pandas\\core\\generic.py\u001b[0m in \u001b[0;36m__getattr__\u001b[1;34m(self, name)\u001b[0m\n\u001b[0;32m   5272\u001b[0m             \u001b[1;32mif\u001b[0m \u001b[0mself\u001b[0m\u001b[1;33m.\u001b[0m\u001b[0m_info_axis\u001b[0m\u001b[1;33m.\u001b[0m\u001b[0m_can_hold_identifiers_and_holds_name\u001b[0m\u001b[1;33m(\u001b[0m\u001b[0mname\u001b[0m\u001b[1;33m)\u001b[0m\u001b[1;33m:\u001b[0m\u001b[1;33m\u001b[0m\u001b[1;33m\u001b[0m\u001b[0m\n\u001b[0;32m   5273\u001b[0m                 \u001b[1;32mreturn\u001b[0m \u001b[0mself\u001b[0m\u001b[1;33m[\u001b[0m\u001b[0mname\u001b[0m\u001b[1;33m]\u001b[0m\u001b[1;33m\u001b[0m\u001b[1;33m\u001b[0m\u001b[0m\n\u001b[1;32m-> 5274\u001b[1;33m             \u001b[1;32mreturn\u001b[0m \u001b[0mobject\u001b[0m\u001b[1;33m.\u001b[0m\u001b[0m__getattribute__\u001b[0m\u001b[1;33m(\u001b[0m\u001b[0mself\u001b[0m\u001b[1;33m,\u001b[0m \u001b[0mname\u001b[0m\u001b[1;33m)\u001b[0m\u001b[1;33m\u001b[0m\u001b[1;33m\u001b[0m\u001b[0m\n\u001b[0m\u001b[0;32m   5275\u001b[0m \u001b[1;33m\u001b[0m\u001b[0m\n\u001b[0;32m   5276\u001b[0m     \u001b[1;32mdef\u001b[0m \u001b[0m__setattr__\u001b[0m\u001b[1;33m(\u001b[0m\u001b[0mself\u001b[0m\u001b[1;33m,\u001b[0m \u001b[0mname\u001b[0m\u001b[1;33m:\u001b[0m \u001b[0mstr\u001b[0m\u001b[1;33m,\u001b[0m \u001b[0mvalue\u001b[0m\u001b[1;33m)\u001b[0m \u001b[1;33m->\u001b[0m \u001b[1;32mNone\u001b[0m\u001b[1;33m:\u001b[0m\u001b[1;33m\u001b[0m\u001b[1;33m\u001b[0m\u001b[0m\n",
      "\u001b[1;31mAttributeError\u001b[0m: 'DataFrame' object has no attribute 'Scenario'"
     ]
    }
   ],
   "source": [
    "# Poverty plot age\n",
    "# Use pivot table to construct difference / percentage change in pov measures \n",
    "child_pov_wide = poverty_rate_child[poverty_rate_child.Scenario!=\"baseline\"].pivot_table(\"poverty_rate\",\"Scenario\",\"ca\", \"child_6\")\n",
    "child_pov_wide[\"baseline\"] = poverty_rate_child[poverty_rate_child.Scenario == \"baseline\"].poverty_rate.values[0]\n",
    "child_pov_wide = child_pov_wide.reset_index()\n",
    "child_pov_wide.columns = [\"Scenario\", \"child care\", \"child allowance\", \"baseline\"]\n",
    "child_pov_wide[\"pdif_base_cc\"] = percent_change(child_pov_wide[\"child care\"],child_pov_wide[\"baseline\"])\n",
    "child_pov_wide[\"pdif_base_ca\"] = percent_change(child_pov_wide[\"child allowance\"],child_pov_wide[\"baseline\"])\n",
    "child_pov_wide[\"pdif_ca_cc\"] = percent_change(child_pov_wide[\"child allowance\"],child_pov_wide[\"child care\"])\n",
    "\n",
    "# Prepare dataframe for plot output\n",
    "no_ca_rows = {\"Scenario\":child_pov_wide[\"Scenario\"], \"Transfer type\":\"Child care\", \"Percentage difference in poverty from baseline\":child_pov_wide[\"pdif_base_cc\"]}\n",
    "no_ca_rows = pd.DataFrame(no_ca_rows)\n",
    "row_1 = no_ca_rows[no_ca_rows.Scenario == \"cc_replacement\"]\n",
    "row_2 = no_ca_rows[no_ca_rows.Scenario == \"low_cc_full\"]\n",
    "row_3 = no_ca_rows[no_ca_rows.Scenario == \"high_cc_full\"]\n",
    "\n",
    "ca_rows = {\"Scenario\":child_pov_wide[\"Scenario\"], \"Transfer type\":\"Child allowance\", \"Percentage difference in poverty from baseline\":child_pov_wide[\"pdif_base_ca\"]}\n",
    "ca_rows = pd.DataFrame(ca_rows)\n",
    "row_4 = ca_rows[ca_rows.Scenario == \"cc_replacement\"]\n",
    "row_5 = ca_rows[ca_rows.Scenario == \"low_cc_full\"]\n",
    "row_6 = ca_rows[ca_rows.Scenario == \"high_cc_full\"]\n",
    "\n",
    "# Append the rows\n",
    "row_2 = row_1.append(row_2)\n",
    "row_3 = row_2.append(row_3)\n",
    "row_4 = row_3.append(row_4)\n",
    "row_5 = row_4.append(row_5)\n",
    "row_6 = row_5.append(row_6)\n",
    "pov_long = row_6\n",
    "\n",
    "# Rename Scenarios\n",
    "pov_long.loc[pov_long.Scenario == \"cc_replacement\", \"Scenario\"] = \"Expense replacement\"\n",
    "pov_long.loc[pov_long.Scenario == \"high_cc_full\", \"Scenario\"] = \"High quality\"\n",
    "pov_long.loc[pov_long.Scenario == \"low_cc_full\", \"Scenario\"] = \"Base quality\" \n",
    "\n",
    "pov_plot = px.bar(pov_long, x=\"Scenario\", y=\"Percentage difference in poverty from baseline\", color=\"Transfer type\", barmode=\"group\",color_discrete_map={\"Child care\":\"#C5CAE9\",\"Child allowance\":\"#3949AB\"})\n",
    "format_fig(pov_plot)\n"
   ]
  },
  {
   "cell_type": "code",
   "execution_count": 42,
   "metadata": {},
   "outputs": [
    {
     "output_type": "display_data",
     "data": {
      "application/vnd.plotly.v1+json": {
       "config": {
        "displayModeBar": false,
        "plotlyServerURL": "https://plot.ly"
       },
       "data": [
        {
         "alignmentgroup": "True",
         "hovertemplate": "Transfer type=Child care<br>Scenario=%{x}<br>Percentage difference in Gini coefficient from baseline=%{y}<extra></extra>",
         "legendgroup": "Child care",
         "marker": {
          "color": "#C5CAE9"
         },
         "name": "Child care",
         "offsetgroup": "Child care",
         "orientation": "v",
         "showlegend": true,
         "textposition": "auto",
         "type": "bar",
         "x": [
          "Expense replacement",
          "Base quality",
          "High quality"
         ],
         "xaxis": "x",
         "y": [
          -0.04087283307852691,
          -2.620736146178001,
          -3.5220736926515666
         ],
         "yaxis": "y"
        },
        {
         "alignmentgroup": "True",
         "hovertemplate": "Transfer type=Child allowance<br>Scenario=%{x}<br>Percentage difference in Gini coefficient from baseline=%{y}<extra></extra>",
         "legendgroup": "Child allowance",
         "marker": {
          "color": "#3949AB"
         },
         "name": "Child allowance",
         "offsetgroup": "Child allowance",
         "orientation": "v",
         "showlegend": true,
         "textposition": "auto",
         "type": "bar",
         "x": [
          "Expense replacement",
          "Base quality",
          "High quality"
         ],
         "xaxis": "x",
         "y": [
          -0.8502194784672156,
          -2.7378543287090453,
          -3.669484767416695
         ],
         "yaxis": "y"
        }
       ],
       "layout": {
        "barmode": "group",
        "font": {
         "family": "Roboto"
        },
        "height": 600,
        "hoverlabel": {
         "align": "right"
        },
        "images": [
         {
          "sizex": 0.12,
          "sizey": 0.12,
          "source": "https://raw.githubusercontent.com/UBICenter/blog/master/jb/_static/ubi_center_logo_wide_blue.png",
          "x": 0.98,
          "xanchor": "right",
          "xref": "paper",
          "y": -0.12,
          "yanchor": "bottom",
          "yref": "paper"
         }
        ],
        "legend": {
         "title": {
          "text": "Transfer type"
         },
         "tracegroupgap": 0
        },
        "margin": {
         "t": 60
        },
        "paper_bgcolor": "white",
        "plot_bgcolor": "white",
        "template": {
         "data": {
          "bar": [
           {
            "error_x": {
             "color": "#2a3f5f"
            },
            "error_y": {
             "color": "#2a3f5f"
            },
            "marker": {
             "line": {
              "color": "#E5ECF6",
              "width": 0.5
             }
            },
            "type": "bar"
           }
          ],
          "barpolar": [
           {
            "marker": {
             "line": {
              "color": "#E5ECF6",
              "width": 0.5
             }
            },
            "type": "barpolar"
           }
          ],
          "carpet": [
           {
            "aaxis": {
             "endlinecolor": "#2a3f5f",
             "gridcolor": "white",
             "linecolor": "white",
             "minorgridcolor": "white",
             "startlinecolor": "#2a3f5f"
            },
            "baxis": {
             "endlinecolor": "#2a3f5f",
             "gridcolor": "white",
             "linecolor": "white",
             "minorgridcolor": "white",
             "startlinecolor": "#2a3f5f"
            },
            "type": "carpet"
           }
          ],
          "choropleth": [
           {
            "colorbar": {
             "outlinewidth": 0,
             "ticks": ""
            },
            "type": "choropleth"
           }
          ],
          "contour": [
           {
            "colorbar": {
             "outlinewidth": 0,
             "ticks": ""
            },
            "colorscale": [
             [
              0,
              "#0d0887"
             ],
             [
              0.1111111111111111,
              "#46039f"
             ],
             [
              0.2222222222222222,
              "#7201a8"
             ],
             [
              0.3333333333333333,
              "#9c179e"
             ],
             [
              0.4444444444444444,
              "#bd3786"
             ],
             [
              0.5555555555555556,
              "#d8576b"
             ],
             [
              0.6666666666666666,
              "#ed7953"
             ],
             [
              0.7777777777777778,
              "#fb9f3a"
             ],
             [
              0.8888888888888888,
              "#fdca26"
             ],
             [
              1,
              "#f0f921"
             ]
            ],
            "type": "contour"
           }
          ],
          "contourcarpet": [
           {
            "colorbar": {
             "outlinewidth": 0,
             "ticks": ""
            },
            "type": "contourcarpet"
           }
          ],
          "heatmap": [
           {
            "colorbar": {
             "outlinewidth": 0,
             "ticks": ""
            },
            "colorscale": [
             [
              0,
              "#0d0887"
             ],
             [
              0.1111111111111111,
              "#46039f"
             ],
             [
              0.2222222222222222,
              "#7201a8"
             ],
             [
              0.3333333333333333,
              "#9c179e"
             ],
             [
              0.4444444444444444,
              "#bd3786"
             ],
             [
              0.5555555555555556,
              "#d8576b"
             ],
             [
              0.6666666666666666,
              "#ed7953"
             ],
             [
              0.7777777777777778,
              "#fb9f3a"
             ],
             [
              0.8888888888888888,
              "#fdca26"
             ],
             [
              1,
              "#f0f921"
             ]
            ],
            "type": "heatmap"
           }
          ],
          "heatmapgl": [
           {
            "colorbar": {
             "outlinewidth": 0,
             "ticks": ""
            },
            "colorscale": [
             [
              0,
              "#0d0887"
             ],
             [
              0.1111111111111111,
              "#46039f"
             ],
             [
              0.2222222222222222,
              "#7201a8"
             ],
             [
              0.3333333333333333,
              "#9c179e"
             ],
             [
              0.4444444444444444,
              "#bd3786"
             ],
             [
              0.5555555555555556,
              "#d8576b"
             ],
             [
              0.6666666666666666,
              "#ed7953"
             ],
             [
              0.7777777777777778,
              "#fb9f3a"
             ],
             [
              0.8888888888888888,
              "#fdca26"
             ],
             [
              1,
              "#f0f921"
             ]
            ],
            "type": "heatmapgl"
           }
          ],
          "histogram": [
           {
            "marker": {
             "colorbar": {
              "outlinewidth": 0,
              "ticks": ""
             }
            },
            "type": "histogram"
           }
          ],
          "histogram2d": [
           {
            "colorbar": {
             "outlinewidth": 0,
             "ticks": ""
            },
            "colorscale": [
             [
              0,
              "#0d0887"
             ],
             [
              0.1111111111111111,
              "#46039f"
             ],
             [
              0.2222222222222222,
              "#7201a8"
             ],
             [
              0.3333333333333333,
              "#9c179e"
             ],
             [
              0.4444444444444444,
              "#bd3786"
             ],
             [
              0.5555555555555556,
              "#d8576b"
             ],
             [
              0.6666666666666666,
              "#ed7953"
             ],
             [
              0.7777777777777778,
              "#fb9f3a"
             ],
             [
              0.8888888888888888,
              "#fdca26"
             ],
             [
              1,
              "#f0f921"
             ]
            ],
            "type": "histogram2d"
           }
          ],
          "histogram2dcontour": [
           {
            "colorbar": {
             "outlinewidth": 0,
             "ticks": ""
            },
            "colorscale": [
             [
              0,
              "#0d0887"
             ],
             [
              0.1111111111111111,
              "#46039f"
             ],
             [
              0.2222222222222222,
              "#7201a8"
             ],
             [
              0.3333333333333333,
              "#9c179e"
             ],
             [
              0.4444444444444444,
              "#bd3786"
             ],
             [
              0.5555555555555556,
              "#d8576b"
             ],
             [
              0.6666666666666666,
              "#ed7953"
             ],
             [
              0.7777777777777778,
              "#fb9f3a"
             ],
             [
              0.8888888888888888,
              "#fdca26"
             ],
             [
              1,
              "#f0f921"
             ]
            ],
            "type": "histogram2dcontour"
           }
          ],
          "mesh3d": [
           {
            "colorbar": {
             "outlinewidth": 0,
             "ticks": ""
            },
            "type": "mesh3d"
           }
          ],
          "parcoords": [
           {
            "line": {
             "colorbar": {
              "outlinewidth": 0,
              "ticks": ""
             }
            },
            "type": "parcoords"
           }
          ],
          "pie": [
           {
            "automargin": true,
            "type": "pie"
           }
          ],
          "scatter": [
           {
            "marker": {
             "colorbar": {
              "outlinewidth": 0,
              "ticks": ""
             }
            },
            "type": "scatter"
           }
          ],
          "scatter3d": [
           {
            "line": {
             "colorbar": {
              "outlinewidth": 0,
              "ticks": ""
             }
            },
            "marker": {
             "colorbar": {
              "outlinewidth": 0,
              "ticks": ""
             }
            },
            "type": "scatter3d"
           }
          ],
          "scattercarpet": [
           {
            "marker": {
             "colorbar": {
              "outlinewidth": 0,
              "ticks": ""
             }
            },
            "type": "scattercarpet"
           }
          ],
          "scattergeo": [
           {
            "marker": {
             "colorbar": {
              "outlinewidth": 0,
              "ticks": ""
             }
            },
            "type": "scattergeo"
           }
          ],
          "scattergl": [
           {
            "marker": {
             "colorbar": {
              "outlinewidth": 0,
              "ticks": ""
             }
            },
            "type": "scattergl"
           }
          ],
          "scattermapbox": [
           {
            "marker": {
             "colorbar": {
              "outlinewidth": 0,
              "ticks": ""
             }
            },
            "type": "scattermapbox"
           }
          ],
          "scatterpolar": [
           {
            "marker": {
             "colorbar": {
              "outlinewidth": 0,
              "ticks": ""
             }
            },
            "type": "scatterpolar"
           }
          ],
          "scatterpolargl": [
           {
            "marker": {
             "colorbar": {
              "outlinewidth": 0,
              "ticks": ""
             }
            },
            "type": "scatterpolargl"
           }
          ],
          "scatterternary": [
           {
            "marker": {
             "colorbar": {
              "outlinewidth": 0,
              "ticks": ""
             }
            },
            "type": "scatterternary"
           }
          ],
          "surface": [
           {
            "colorbar": {
             "outlinewidth": 0,
             "ticks": ""
            },
            "colorscale": [
             [
              0,
              "#0d0887"
             ],
             [
              0.1111111111111111,
              "#46039f"
             ],
             [
              0.2222222222222222,
              "#7201a8"
             ],
             [
              0.3333333333333333,
              "#9c179e"
             ],
             [
              0.4444444444444444,
              "#bd3786"
             ],
             [
              0.5555555555555556,
              "#d8576b"
             ],
             [
              0.6666666666666666,
              "#ed7953"
             ],
             [
              0.7777777777777778,
              "#fb9f3a"
             ],
             [
              0.8888888888888888,
              "#fdca26"
             ],
             [
              1,
              "#f0f921"
             ]
            ],
            "type": "surface"
           }
          ],
          "table": [
           {
            "cells": {
             "fill": {
              "color": "#EBF0F8"
             },
             "line": {
              "color": "white"
             }
            },
            "header": {
             "fill": {
              "color": "#C8D4E3"
             },
             "line": {
              "color": "white"
             }
            },
            "type": "table"
           }
          ]
         },
         "layout": {
          "annotationdefaults": {
           "arrowcolor": "#2a3f5f",
           "arrowhead": 0,
           "arrowwidth": 1
          },
          "autotypenumbers": "strict",
          "coloraxis": {
           "colorbar": {
            "outlinewidth": 0,
            "ticks": ""
           }
          },
          "colorscale": {
           "diverging": [
            [
             0,
             "#8e0152"
            ],
            [
             0.1,
             "#c51b7d"
            ],
            [
             0.2,
             "#de77ae"
            ],
            [
             0.3,
             "#f1b6da"
            ],
            [
             0.4,
             "#fde0ef"
            ],
            [
             0.5,
             "#f7f7f7"
            ],
            [
             0.6,
             "#e6f5d0"
            ],
            [
             0.7,
             "#b8e186"
            ],
            [
             0.8,
             "#7fbc41"
            ],
            [
             0.9,
             "#4d9221"
            ],
            [
             1,
             "#276419"
            ]
           ],
           "sequential": [
            [
             0,
             "#0d0887"
            ],
            [
             0.1111111111111111,
             "#46039f"
            ],
            [
             0.2222222222222222,
             "#7201a8"
            ],
            [
             0.3333333333333333,
             "#9c179e"
            ],
            [
             0.4444444444444444,
             "#bd3786"
            ],
            [
             0.5555555555555556,
             "#d8576b"
            ],
            [
             0.6666666666666666,
             "#ed7953"
            ],
            [
             0.7777777777777778,
             "#fb9f3a"
            ],
            [
             0.8888888888888888,
             "#fdca26"
            ],
            [
             1,
             "#f0f921"
            ]
           ],
           "sequentialminus": [
            [
             0,
             "#0d0887"
            ],
            [
             0.1111111111111111,
             "#46039f"
            ],
            [
             0.2222222222222222,
             "#7201a8"
            ],
            [
             0.3333333333333333,
             "#9c179e"
            ],
            [
             0.4444444444444444,
             "#bd3786"
            ],
            [
             0.5555555555555556,
             "#d8576b"
            ],
            [
             0.6666666666666666,
             "#ed7953"
            ],
            [
             0.7777777777777778,
             "#fb9f3a"
            ],
            [
             0.8888888888888888,
             "#fdca26"
            ],
            [
             1,
             "#f0f921"
            ]
           ]
          },
          "colorway": [
           "#636efa",
           "#EF553B",
           "#00cc96",
           "#ab63fa",
           "#FFA15A",
           "#19d3f3",
           "#FF6692",
           "#B6E880",
           "#FF97FF",
           "#FECB52"
          ],
          "font": {
           "color": "#2a3f5f"
          },
          "geo": {
           "bgcolor": "white",
           "lakecolor": "white",
           "landcolor": "#E5ECF6",
           "showlakes": true,
           "showland": true,
           "subunitcolor": "white"
          },
          "hoverlabel": {
           "align": "left"
          },
          "hovermode": "closest",
          "mapbox": {
           "style": "light"
          },
          "paper_bgcolor": "white",
          "plot_bgcolor": "#E5ECF6",
          "polar": {
           "angularaxis": {
            "gridcolor": "white",
            "linecolor": "white",
            "ticks": ""
           },
           "bgcolor": "#E5ECF6",
           "radialaxis": {
            "gridcolor": "white",
            "linecolor": "white",
            "ticks": ""
           }
          },
          "scene": {
           "xaxis": {
            "backgroundcolor": "#E5ECF6",
            "gridcolor": "white",
            "gridwidth": 2,
            "linecolor": "white",
            "showbackground": true,
            "ticks": "",
            "zerolinecolor": "white"
           },
           "yaxis": {
            "backgroundcolor": "#E5ECF6",
            "gridcolor": "white",
            "gridwidth": 2,
            "linecolor": "white",
            "showbackground": true,
            "ticks": "",
            "zerolinecolor": "white"
           },
           "zaxis": {
            "backgroundcolor": "#E5ECF6",
            "gridcolor": "white",
            "gridwidth": 2,
            "linecolor": "white",
            "showbackground": true,
            "ticks": "",
            "zerolinecolor": "white"
           }
          },
          "shapedefaults": {
           "line": {
            "color": "#2a3f5f"
           }
          },
          "ternary": {
           "aaxis": {
            "gridcolor": "white",
            "linecolor": "white",
            "ticks": ""
           },
           "baxis": {
            "gridcolor": "white",
            "linecolor": "white",
            "ticks": ""
           },
           "bgcolor": "#E5ECF6",
           "caxis": {
            "gridcolor": "white",
            "linecolor": "white",
            "ticks": ""
           }
          },
          "title": {
           "x": 0.05
          },
          "xaxis": {
           "automargin": true,
           "gridcolor": "white",
           "linecolor": "white",
           "ticks": "",
           "title": {
            "standoff": 15
           },
           "zerolinecolor": "white",
           "zerolinewidth": 2
          },
          "yaxis": {
           "automargin": true,
           "gridcolor": "white",
           "linecolor": "white",
           "ticks": "",
           "title": {
            "standoff": 15
           },
           "zerolinecolor": "white",
           "zerolinewidth": 2
          }
         }
        },
        "title": {
         "font": {
          "size": 20
         }
        },
        "width": 800,
        "xaxis": {
         "anchor": "y",
         "domain": [
          0,
          1
         ],
         "tickfont": {
          "size": 14
         },
         "title": {
          "font": {
           "color": "black",
           "size": 16
          },
          "text": "Scenario"
         }
        },
        "yaxis": {
         "anchor": "x",
         "domain": [
          0,
          1
         ],
         "tickfont": {
          "size": 14
         },
         "title": {
          "font": {
           "color": "black",
           "size": 16
          },
          "text": "Percentage difference in Gini coefficient from baseline"
         }
        }
       }
      }
     },
     "metadata": {}
    }
   ],
   "source": [
    "### Gini\n",
    "# Use pivot table to construct difference / percentage change in pov measures \n",
    "gini_wide = gini[gini.Scenario!=\"baseline\"].pivot_table(\"gini_coefficient\",\"Scenario\",\"ca\")\n",
    "gini_wide[\"baseline\"] = gini[gini.Scenario == \"baseline\"].gini_coefficient.values[0]\n",
    "gini_wide = gini_wide.reset_index()\n",
    "gini_wide.columns = [\"Scenario\", \"child care\", \"child allowance\", \"baseline\"]\n",
    "gini_wide[\"pdif_base_cc\"] = percent_change(gini_wide[\"child care\"],gini_wide[\"baseline\"])\n",
    "gini_wide[\"pdif_base_ca\"] = percent_change(gini_wide[\"child allowance\"],gini_wide[\"baseline\"])\n",
    "gini_wide[\"pdif_ca_cc\"] = percent_change(gini_wide[\"child allowance\"],gini_wide[\"child care\"])\n",
    "\n",
    "# Prepare dataframe for plot output\n",
    "no_ca_rows = {\"Scenario\":gini_wide[\"Scenario\"], \"Transfer type\":\"Child care\", \"Percentage difference in Gini coefficient from baseline\":gini_wide[\"pdif_base_cc\"]}\n",
    "no_ca_rows = pd.DataFrame(no_ca_rows)\n",
    "row_1 = no_ca_rows[no_ca_rows.Scenario == \"cc_replacement\"]\n",
    "row_2 = no_ca_rows[no_ca_rows.Scenario == \"low_cc_full\"]\n",
    "row_3 = no_ca_rows[no_ca_rows.Scenario == \"high_cc_full\"]\n",
    "\n",
    "ca_rows = {\"Scenario\":gini_wide[\"Scenario\"], \"Transfer type\":\"Child allowance\", \"Percentage difference in Gini coefficient from baseline\":gini_wide[\"pdif_base_ca\"]}\n",
    "ca_rows = pd.DataFrame(ca_rows)\n",
    "row_4 = ca_rows[ca_rows.Scenario == \"cc_replacement\"]\n",
    "row_5 = ca_rows[ca_rows.Scenario == \"low_cc_full\"]\n",
    "row_6 = ca_rows[ca_rows.Scenario == \"high_cc_full\"]\n",
    "\n",
    "# Append the rows\n",
    "row_2 = row_1.append(row_2)\n",
    "row_3 = row_2.append(row_3)\n",
    "row_4 = row_3.append(row_4)\n",
    "row_5 = row_4.append(row_5)\n",
    "row_6 = row_5.append(row_6)\n",
    "pov_long = row_6\n",
    "\n",
    "# Rename Scenarios\n",
    "pov_long.loc[pov_long.Scenario == \"cc_replacement\", \"Scenario\"] = \"Expense replacement\"\n",
    "pov_long.loc[pov_long.Scenario == \"high_cc_full\", \"Scenario\"] = \"High quality\"\n",
    "pov_long.loc[pov_long.Scenario == \"low_cc_full\", \"Scenario\"] = \"Base quality\" \n",
    "\n",
    "pov_plot = px.bar(pov_long, x=\"Scenario\", y=\"Percentage difference in Gini coefficient from baseline\", color=\"Transfer type\", barmode=\"group\",color_discrete_map={\"Child care\":\"#C5CAE9\",\"Child allowance\":\"#3949AB\"})\n",
    "format_fig(pov_plot)\n"
   ]
  },
  {
   "source": [
    "We then output state-based poverty rate and gini percentage changes to reflect the impact of the simulation. "
   ],
   "cell_type": "markdown",
   "metadata": {}
  },
  {
   "cell_type": "code",
   "execution_count": 62,
   "metadata": {},
   "outputs": [
    {
     "output_type": "execute_result",
     "data": {
      "text/plain": [
       "                                     0\n",
       "Scenario       ca    child_6          \n",
       "baseline       False False    0.126100\n",
       "                     True     0.149787\n",
       "cc_replacement False False    0.124124\n",
       "                     True     0.139226\n",
       "               True  False    0.120445\n",
       "                     True     0.115222\n",
       "high_cc_full   False False    0.106706\n",
       "                     True     0.013208\n",
       "               True  False    0.106664\n",
       "                     True     0.012909\n",
       "low_cc_full    False False    0.111094\n",
       "                     True     0.039738\n",
       "               True  False    0.110938\n",
       "                     True     0.038074"
      ],
      "text/html": "<div>\n<style scoped>\n    .dataframe tbody tr th:only-of-type {\n        vertical-align: middle;\n    }\n\n    .dataframe tbody tr th {\n        vertical-align: top;\n    }\n\n    .dataframe thead th {\n        text-align: right;\n    }\n</style>\n<table border=\"1\" class=\"dataframe\">\n  <thead>\n    <tr style=\"text-align: right;\">\n      <th></th>\n      <th></th>\n      <th></th>\n      <th>0</th>\n    </tr>\n    <tr>\n      <th>Scenario</th>\n      <th>ca</th>\n      <th>child_6</th>\n      <th></th>\n    </tr>\n  </thead>\n  <tbody>\n    <tr>\n      <th rowspan=\"2\" valign=\"top\">baseline</th>\n      <th rowspan=\"2\" valign=\"top\">False</th>\n      <th>False</th>\n      <td>0.126100</td>\n    </tr>\n    <tr>\n      <th>True</th>\n      <td>0.149787</td>\n    </tr>\n    <tr>\n      <th rowspan=\"4\" valign=\"top\">cc_replacement</th>\n      <th rowspan=\"2\" valign=\"top\">False</th>\n      <th>False</th>\n      <td>0.124124</td>\n    </tr>\n    <tr>\n      <th>True</th>\n      <td>0.139226</td>\n    </tr>\n    <tr>\n      <th rowspan=\"2\" valign=\"top\">True</th>\n      <th>False</th>\n      <td>0.120445</td>\n    </tr>\n    <tr>\n      <th>True</th>\n      <td>0.115222</td>\n    </tr>\n    <tr>\n      <th rowspan=\"4\" valign=\"top\">high_cc_full</th>\n      <th rowspan=\"2\" valign=\"top\">False</th>\n      <th>False</th>\n      <td>0.106706</td>\n    </tr>\n    <tr>\n      <th>True</th>\n      <td>0.013208</td>\n    </tr>\n    <tr>\n      <th rowspan=\"2\" valign=\"top\">True</th>\n      <th>False</th>\n      <td>0.106664</td>\n    </tr>\n    <tr>\n      <th>True</th>\n      <td>0.012909</td>\n    </tr>\n    <tr>\n      <th rowspan=\"4\" valign=\"top\">low_cc_full</th>\n      <th rowspan=\"2\" valign=\"top\">False</th>\n      <th>False</th>\n      <td>0.111094</td>\n    </tr>\n    <tr>\n      <th>True</th>\n      <td>0.039738</td>\n    </tr>\n    <tr>\n      <th rowspan=\"2\" valign=\"top\">True</th>\n      <th>False</th>\n      <td>0.110938</td>\n    </tr>\n    <tr>\n      <th>True</th>\n      <td>0.038074</td>\n    </tr>\n  </tbody>\n</table>\n</div>"
     },
     "metadata": {},
     "execution_count": 62
    }
   ],
   "source": [
    "poverty_rate_child"
   ]
  },
  {
   "cell_type": "code",
   "execution_count": 34,
   "metadata": {},
   "outputs": [
    {
     "output_type": "execute_result",
     "data": {
      "text/plain": [
       "sim                 state  baseline   high_ca  high_xpns    low_ca  low_xpns  \\\n",
       "0                 Alabama  0.127468  0.100755   0.102628  0.105218  0.107343   \n",
       "1                  Alaska  0.132965  0.096226   0.094711  0.106835  0.103367   \n",
       "2                 Arizona  0.119701  0.090579   0.090913  0.094243  0.096930   \n",
       "3                Arkansas  0.130987  0.102164   0.103000  0.106633  0.108480   \n",
       "4              California  0.174174  0.137809   0.136286  0.147043  0.144813   \n",
       "5                Colorado  0.116944  0.093067   0.093067  0.098470  0.098470   \n",
       "6             Connecticut  0.113332  0.087728   0.087151  0.093475  0.090861   \n",
       "7                Delaware  0.105911  0.086105   0.086105  0.089422  0.089422   \n",
       "8    District of Columbia  0.169771  0.143431   0.142059  0.146682  0.144321   \n",
       "9                 Florida  0.159601  0.128967   0.129471  0.134594  0.137851   \n",
       "10                Georgia  0.136660  0.102079   0.103916  0.111362  0.115714   \n",
       "11                 Hawaii  0.137703  0.105912   0.106934  0.113718  0.114671   \n",
       "12                  Idaho  0.083094  0.063248   0.063712  0.066412  0.067773   \n",
       "13               Illinois  0.113958  0.088773   0.088246  0.092903  0.092483   \n",
       "14                Indiana  0.103981  0.074993   0.075486  0.079778  0.080929   \n",
       "15                   Iowa  0.074519  0.054115   0.054115  0.060506  0.060009   \n",
       "16                 Kansas  0.075302  0.061785   0.063359  0.067040  0.067040   \n",
       "17               Kentucky  0.112288  0.093835   0.095469  0.097761  0.099750   \n",
       "18              Louisiana  0.165583  0.125102   0.126427  0.131179  0.135634   \n",
       "19                  Maine  0.093941  0.075444   0.076305  0.081033  0.078120   \n",
       "20               Maryland  0.124856  0.104525   0.104525  0.109530  0.107916   \n",
       "21          Massachusetts  0.114918  0.098308   0.097114  0.100061  0.099433   \n",
       "22               Michigan  0.100550  0.079346   0.079346  0.082095  0.083363   \n",
       "23              Minnesota  0.065550  0.054778   0.054521  0.055305  0.055305   \n",
       "24            Mississippi  0.154012  0.118603   0.123675  0.126254  0.125754   \n",
       "25               Missouri  0.088932  0.070995   0.071937  0.072402  0.072402   \n",
       "26                Montana  0.090210  0.073139   0.073139  0.076842  0.077429   \n",
       "27               Nebraska  0.091352  0.070197   0.070669  0.074408  0.072895   \n",
       "28                 Nevada  0.135462  0.105098   0.105098  0.111938  0.112717   \n",
       "29          New Hampshire  0.084666  0.064278   0.064278  0.068484  0.070178   \n",
       "30             New Jersey  0.129822  0.105881   0.105103  0.110667  0.109789   \n",
       "31             New Mexico  0.136001  0.104763   0.105372  0.109278  0.111960   \n",
       "32               New York  0.151846  0.120311   0.116787  0.128748  0.123536   \n",
       "33         North Carolina  0.135841  0.101767   0.102829  0.106330  0.108885   \n",
       "34           North Dakota  0.095881  0.073530   0.073530  0.077073  0.078392   \n",
       "35                   Ohio  0.103376  0.078988   0.078988  0.081802  0.082338   \n",
       "36               Oklahoma  0.106826  0.082145   0.085099  0.087992  0.087992   \n",
       "37                 Oregon  0.112526  0.094185   0.093767  0.096986  0.096007   \n",
       "38           Pennsylvania  0.111484  0.085566   0.085566  0.092980  0.092177   \n",
       "39           Rhode Island  0.081049  0.062024   0.061323  0.066646  0.065075   \n",
       "40         South Carolina  0.133161  0.108580   0.109477  0.110596  0.112700   \n",
       "41           South Dakota  0.090533  0.069826   0.070910  0.075886  0.076672   \n",
       "42              Tennessee  0.111710  0.086972   0.086972  0.090526  0.090526   \n",
       "43                  Texas  0.140665  0.102431   0.104464  0.111349  0.114590   \n",
       "44                   Utah  0.082092  0.063651   0.064585  0.069901  0.069901   \n",
       "45                Vermont  0.105788  0.092524   0.092524  0.093982  0.093598   \n",
       "46               Virginia  0.117839  0.089849   0.089638  0.095879  0.095232   \n",
       "47             Washington  0.083740  0.064748   0.064484  0.068218  0.067930   \n",
       "48          West Virginia  0.125399  0.100213   0.101613  0.105274  0.105566   \n",
       "49              Wisconsin  0.078747  0.060932   0.060932  0.063832  0.063832   \n",
       "50                Wyoming  0.100047  0.076010   0.075421  0.080404  0.077119   \n",
       "\n",
       "sim  replace_ca  replace_xpns  \n",
       "0      0.120791      0.126259  \n",
       "1      0.125391      0.131078  \n",
       "2      0.106740      0.116080  \n",
       "3      0.120045      0.128325  \n",
       "4      0.166576      0.172219  \n",
       "5      0.113578      0.114349  \n",
       "6      0.110628      0.111758  \n",
       "7      0.097914      0.102770  \n",
       "8      0.160920      0.167536  \n",
       "9      0.150109      0.156689  \n",
       "10     0.129246      0.134254  \n",
       "11     0.128062      0.135924  \n",
       "12     0.077663      0.081964  \n",
       "13     0.105406      0.111418  \n",
       "14     0.096494      0.102824  \n",
       "15     0.069927      0.072602  \n",
       "16     0.070127      0.072967  \n",
       "17     0.106124      0.111472  \n",
       "18     0.154244      0.162260  \n",
       "19     0.089332      0.091307  \n",
       "20     0.121439      0.120221  \n",
       "21     0.108753      0.112259  \n",
       "22     0.094052      0.099210  \n",
       "23     0.061408      0.064345  \n",
       "24     0.143865      0.152917  \n",
       "25     0.081324      0.087982  \n",
       "26     0.085664      0.088316  \n",
       "27     0.083103      0.086408  \n",
       "28     0.123107      0.133438  \n",
       "29     0.079345      0.079382  \n",
       "30     0.124276      0.126650  \n",
       "31     0.128677      0.135767  \n",
       "32     0.143332      0.147671  \n",
       "33     0.123163      0.133010  \n",
       "34     0.088491      0.092904  \n",
       "35     0.095807      0.101311  \n",
       "36     0.101229      0.105936  \n",
       "37     0.105006      0.110430  \n",
       "38     0.105990      0.109140  \n",
       "39     0.078376      0.080227  \n",
       "40     0.123233      0.129451  \n",
       "41     0.085615      0.089885  \n",
       "42     0.103327      0.109491  \n",
       "43     0.131118      0.136442  \n",
       "44     0.076899      0.080179  \n",
       "45     0.100875      0.102500  \n",
       "46     0.109017      0.112749  \n",
       "47     0.078328      0.082462  \n",
       "48     0.116789      0.123743  \n",
       "49     0.072476      0.077000  \n",
       "50     0.092544      0.099021  "
      ],
      "text/html": "<div>\n<style scoped>\n    .dataframe tbody tr th:only-of-type {\n        vertical-align: middle;\n    }\n\n    .dataframe tbody tr th {\n        vertical-align: top;\n    }\n\n    .dataframe thead th {\n        text-align: right;\n    }\n</style>\n<table border=\"1\" class=\"dataframe\">\n  <thead>\n    <tr style=\"text-align: right;\">\n      <th>sim</th>\n      <th>state</th>\n      <th>baseline</th>\n      <th>high_ca</th>\n      <th>high_xpns</th>\n      <th>low_ca</th>\n      <th>low_xpns</th>\n      <th>replace_ca</th>\n      <th>replace_xpns</th>\n    </tr>\n  </thead>\n  <tbody>\n    <tr>\n      <th>0</th>\n      <td>Alabama</td>\n      <td>0.127468</td>\n      <td>0.100755</td>\n      <td>0.102628</td>\n      <td>0.105218</td>\n      <td>0.107343</td>\n      <td>0.120791</td>\n      <td>0.126259</td>\n    </tr>\n    <tr>\n      <th>1</th>\n      <td>Alaska</td>\n      <td>0.132965</td>\n      <td>0.096226</td>\n      <td>0.094711</td>\n      <td>0.106835</td>\n      <td>0.103367</td>\n      <td>0.125391</td>\n      <td>0.131078</td>\n    </tr>\n    <tr>\n      <th>2</th>\n      <td>Arizona</td>\n      <td>0.119701</td>\n      <td>0.090579</td>\n      <td>0.090913</td>\n      <td>0.094243</td>\n      <td>0.096930</td>\n      <td>0.106740</td>\n      <td>0.116080</td>\n    </tr>\n    <tr>\n      <th>3</th>\n      <td>Arkansas</td>\n      <td>0.130987</td>\n      <td>0.102164</td>\n      <td>0.103000</td>\n      <td>0.106633</td>\n      <td>0.108480</td>\n      <td>0.120045</td>\n      <td>0.128325</td>\n    </tr>\n    <tr>\n      <th>4</th>\n      <td>California</td>\n      <td>0.174174</td>\n      <td>0.137809</td>\n      <td>0.136286</td>\n      <td>0.147043</td>\n      <td>0.144813</td>\n      <td>0.166576</td>\n      <td>0.172219</td>\n    </tr>\n    <tr>\n      <th>5</th>\n      <td>Colorado</td>\n      <td>0.116944</td>\n      <td>0.093067</td>\n      <td>0.093067</td>\n      <td>0.098470</td>\n      <td>0.098470</td>\n      <td>0.113578</td>\n      <td>0.114349</td>\n    </tr>\n    <tr>\n      <th>6</th>\n      <td>Connecticut</td>\n      <td>0.113332</td>\n      <td>0.087728</td>\n      <td>0.087151</td>\n      <td>0.093475</td>\n      <td>0.090861</td>\n      <td>0.110628</td>\n      <td>0.111758</td>\n    </tr>\n    <tr>\n      <th>7</th>\n      <td>Delaware</td>\n      <td>0.105911</td>\n      <td>0.086105</td>\n      <td>0.086105</td>\n      <td>0.089422</td>\n      <td>0.089422</td>\n      <td>0.097914</td>\n      <td>0.102770</td>\n    </tr>\n    <tr>\n      <th>8</th>\n      <td>District of Columbia</td>\n      <td>0.169771</td>\n      <td>0.143431</td>\n      <td>0.142059</td>\n      <td>0.146682</td>\n      <td>0.144321</td>\n      <td>0.160920</td>\n      <td>0.167536</td>\n    </tr>\n    <tr>\n      <th>9</th>\n      <td>Florida</td>\n      <td>0.159601</td>\n      <td>0.128967</td>\n      <td>0.129471</td>\n      <td>0.134594</td>\n      <td>0.137851</td>\n      <td>0.150109</td>\n      <td>0.156689</td>\n    </tr>\n    <tr>\n      <th>10</th>\n      <td>Georgia</td>\n      <td>0.136660</td>\n      <td>0.102079</td>\n      <td>0.103916</td>\n      <td>0.111362</td>\n      <td>0.115714</td>\n      <td>0.129246</td>\n      <td>0.134254</td>\n    </tr>\n    <tr>\n      <th>11</th>\n      <td>Hawaii</td>\n      <td>0.137703</td>\n      <td>0.105912</td>\n      <td>0.106934</td>\n      <td>0.113718</td>\n      <td>0.114671</td>\n      <td>0.128062</td>\n      <td>0.135924</td>\n    </tr>\n    <tr>\n      <th>12</th>\n      <td>Idaho</td>\n      <td>0.083094</td>\n      <td>0.063248</td>\n      <td>0.063712</td>\n      <td>0.066412</td>\n      <td>0.067773</td>\n      <td>0.077663</td>\n      <td>0.081964</td>\n    </tr>\n    <tr>\n      <th>13</th>\n      <td>Illinois</td>\n      <td>0.113958</td>\n      <td>0.088773</td>\n      <td>0.088246</td>\n      <td>0.092903</td>\n      <td>0.092483</td>\n      <td>0.105406</td>\n      <td>0.111418</td>\n    </tr>\n    <tr>\n      <th>14</th>\n      <td>Indiana</td>\n      <td>0.103981</td>\n      <td>0.074993</td>\n      <td>0.075486</td>\n      <td>0.079778</td>\n      <td>0.080929</td>\n      <td>0.096494</td>\n      <td>0.102824</td>\n    </tr>\n    <tr>\n      <th>15</th>\n      <td>Iowa</td>\n      <td>0.074519</td>\n      <td>0.054115</td>\n      <td>0.054115</td>\n      <td>0.060506</td>\n      <td>0.060009</td>\n      <td>0.069927</td>\n      <td>0.072602</td>\n    </tr>\n    <tr>\n      <th>16</th>\n      <td>Kansas</td>\n      <td>0.075302</td>\n      <td>0.061785</td>\n      <td>0.063359</td>\n      <td>0.067040</td>\n      <td>0.067040</td>\n      <td>0.070127</td>\n      <td>0.072967</td>\n    </tr>\n    <tr>\n      <th>17</th>\n      <td>Kentucky</td>\n      <td>0.112288</td>\n      <td>0.093835</td>\n      <td>0.095469</td>\n      <td>0.097761</td>\n      <td>0.099750</td>\n      <td>0.106124</td>\n      <td>0.111472</td>\n    </tr>\n    <tr>\n      <th>18</th>\n      <td>Louisiana</td>\n      <td>0.165583</td>\n      <td>0.125102</td>\n      <td>0.126427</td>\n      <td>0.131179</td>\n      <td>0.135634</td>\n      <td>0.154244</td>\n      <td>0.162260</td>\n    </tr>\n    <tr>\n      <th>19</th>\n      <td>Maine</td>\n      <td>0.093941</td>\n      <td>0.075444</td>\n      <td>0.076305</td>\n      <td>0.081033</td>\n      <td>0.078120</td>\n      <td>0.089332</td>\n      <td>0.091307</td>\n    </tr>\n    <tr>\n      <th>20</th>\n      <td>Maryland</td>\n      <td>0.124856</td>\n      <td>0.104525</td>\n      <td>0.104525</td>\n      <td>0.109530</td>\n      <td>0.107916</td>\n      <td>0.121439</td>\n      <td>0.120221</td>\n    </tr>\n    <tr>\n      <th>21</th>\n      <td>Massachusetts</td>\n      <td>0.114918</td>\n      <td>0.098308</td>\n      <td>0.097114</td>\n      <td>0.100061</td>\n      <td>0.099433</td>\n      <td>0.108753</td>\n      <td>0.112259</td>\n    </tr>\n    <tr>\n      <th>22</th>\n      <td>Michigan</td>\n      <td>0.100550</td>\n      <td>0.079346</td>\n      <td>0.079346</td>\n      <td>0.082095</td>\n      <td>0.083363</td>\n      <td>0.094052</td>\n      <td>0.099210</td>\n    </tr>\n    <tr>\n      <th>23</th>\n      <td>Minnesota</td>\n      <td>0.065550</td>\n      <td>0.054778</td>\n      <td>0.054521</td>\n      <td>0.055305</td>\n      <td>0.055305</td>\n      <td>0.061408</td>\n      <td>0.064345</td>\n    </tr>\n    <tr>\n      <th>24</th>\n      <td>Mississippi</td>\n      <td>0.154012</td>\n      <td>0.118603</td>\n      <td>0.123675</td>\n      <td>0.126254</td>\n      <td>0.125754</td>\n      <td>0.143865</td>\n      <td>0.152917</td>\n    </tr>\n    <tr>\n      <th>25</th>\n      <td>Missouri</td>\n      <td>0.088932</td>\n      <td>0.070995</td>\n      <td>0.071937</td>\n      <td>0.072402</td>\n      <td>0.072402</td>\n      <td>0.081324</td>\n      <td>0.087982</td>\n    </tr>\n    <tr>\n      <th>26</th>\n      <td>Montana</td>\n      <td>0.090210</td>\n      <td>0.073139</td>\n      <td>0.073139</td>\n      <td>0.076842</td>\n      <td>0.077429</td>\n      <td>0.085664</td>\n      <td>0.088316</td>\n    </tr>\n    <tr>\n      <th>27</th>\n      <td>Nebraska</td>\n      <td>0.091352</td>\n      <td>0.070197</td>\n      <td>0.070669</td>\n      <td>0.074408</td>\n      <td>0.072895</td>\n      <td>0.083103</td>\n      <td>0.086408</td>\n    </tr>\n    <tr>\n      <th>28</th>\n      <td>Nevada</td>\n      <td>0.135462</td>\n      <td>0.105098</td>\n      <td>0.105098</td>\n      <td>0.111938</td>\n      <td>0.112717</td>\n      <td>0.123107</td>\n      <td>0.133438</td>\n    </tr>\n    <tr>\n      <th>29</th>\n      <td>New Hampshire</td>\n      <td>0.084666</td>\n      <td>0.064278</td>\n      <td>0.064278</td>\n      <td>0.068484</td>\n      <td>0.070178</td>\n      <td>0.079345</td>\n      <td>0.079382</td>\n    </tr>\n    <tr>\n      <th>30</th>\n      <td>New Jersey</td>\n      <td>0.129822</td>\n      <td>0.105881</td>\n      <td>0.105103</td>\n      <td>0.110667</td>\n      <td>0.109789</td>\n      <td>0.124276</td>\n      <td>0.126650</td>\n    </tr>\n    <tr>\n      <th>31</th>\n      <td>New Mexico</td>\n      <td>0.136001</td>\n      <td>0.104763</td>\n      <td>0.105372</td>\n      <td>0.109278</td>\n      <td>0.111960</td>\n      <td>0.128677</td>\n      <td>0.135767</td>\n    </tr>\n    <tr>\n      <th>32</th>\n      <td>New York</td>\n      <td>0.151846</td>\n      <td>0.120311</td>\n      <td>0.116787</td>\n      <td>0.128748</td>\n      <td>0.123536</td>\n      <td>0.143332</td>\n      <td>0.147671</td>\n    </tr>\n    <tr>\n      <th>33</th>\n      <td>North Carolina</td>\n      <td>0.135841</td>\n      <td>0.101767</td>\n      <td>0.102829</td>\n      <td>0.106330</td>\n      <td>0.108885</td>\n      <td>0.123163</td>\n      <td>0.133010</td>\n    </tr>\n    <tr>\n      <th>34</th>\n      <td>North Dakota</td>\n      <td>0.095881</td>\n      <td>0.073530</td>\n      <td>0.073530</td>\n      <td>0.077073</td>\n      <td>0.078392</td>\n      <td>0.088491</td>\n      <td>0.092904</td>\n    </tr>\n    <tr>\n      <th>35</th>\n      <td>Ohio</td>\n      <td>0.103376</td>\n      <td>0.078988</td>\n      <td>0.078988</td>\n      <td>0.081802</td>\n      <td>0.082338</td>\n      <td>0.095807</td>\n      <td>0.101311</td>\n    </tr>\n    <tr>\n      <th>36</th>\n      <td>Oklahoma</td>\n      <td>0.106826</td>\n      <td>0.082145</td>\n      <td>0.085099</td>\n      <td>0.087992</td>\n      <td>0.087992</td>\n      <td>0.101229</td>\n      <td>0.105936</td>\n    </tr>\n    <tr>\n      <th>37</th>\n      <td>Oregon</td>\n      <td>0.112526</td>\n      <td>0.094185</td>\n      <td>0.093767</td>\n      <td>0.096986</td>\n      <td>0.096007</td>\n      <td>0.105006</td>\n      <td>0.110430</td>\n    </tr>\n    <tr>\n      <th>38</th>\n      <td>Pennsylvania</td>\n      <td>0.111484</td>\n      <td>0.085566</td>\n      <td>0.085566</td>\n      <td>0.092980</td>\n      <td>0.092177</td>\n      <td>0.105990</td>\n      <td>0.109140</td>\n    </tr>\n    <tr>\n      <th>39</th>\n      <td>Rhode Island</td>\n      <td>0.081049</td>\n      <td>0.062024</td>\n      <td>0.061323</td>\n      <td>0.066646</td>\n      <td>0.065075</td>\n      <td>0.078376</td>\n      <td>0.080227</td>\n    </tr>\n    <tr>\n      <th>40</th>\n      <td>South Carolina</td>\n      <td>0.133161</td>\n      <td>0.108580</td>\n      <td>0.109477</td>\n      <td>0.110596</td>\n      <td>0.112700</td>\n      <td>0.123233</td>\n      <td>0.129451</td>\n    </tr>\n    <tr>\n      <th>41</th>\n      <td>South Dakota</td>\n      <td>0.090533</td>\n      <td>0.069826</td>\n      <td>0.070910</td>\n      <td>0.075886</td>\n      <td>0.076672</td>\n      <td>0.085615</td>\n      <td>0.089885</td>\n    </tr>\n    <tr>\n      <th>42</th>\n      <td>Tennessee</td>\n      <td>0.111710</td>\n      <td>0.086972</td>\n      <td>0.086972</td>\n      <td>0.090526</td>\n      <td>0.090526</td>\n      <td>0.103327</td>\n      <td>0.109491</td>\n    </tr>\n    <tr>\n      <th>43</th>\n      <td>Texas</td>\n      <td>0.140665</td>\n      <td>0.102431</td>\n      <td>0.104464</td>\n      <td>0.111349</td>\n      <td>0.114590</td>\n      <td>0.131118</td>\n      <td>0.136442</td>\n    </tr>\n    <tr>\n      <th>44</th>\n      <td>Utah</td>\n      <td>0.082092</td>\n      <td>0.063651</td>\n      <td>0.064585</td>\n      <td>0.069901</td>\n      <td>0.069901</td>\n      <td>0.076899</td>\n      <td>0.080179</td>\n    </tr>\n    <tr>\n      <th>45</th>\n      <td>Vermont</td>\n      <td>0.105788</td>\n      <td>0.092524</td>\n      <td>0.092524</td>\n      <td>0.093982</td>\n      <td>0.093598</td>\n      <td>0.100875</td>\n      <td>0.102500</td>\n    </tr>\n    <tr>\n      <th>46</th>\n      <td>Virginia</td>\n      <td>0.117839</td>\n      <td>0.089849</td>\n      <td>0.089638</td>\n      <td>0.095879</td>\n      <td>0.095232</td>\n      <td>0.109017</td>\n      <td>0.112749</td>\n    </tr>\n    <tr>\n      <th>47</th>\n      <td>Washington</td>\n      <td>0.083740</td>\n      <td>0.064748</td>\n      <td>0.064484</td>\n      <td>0.068218</td>\n      <td>0.067930</td>\n      <td>0.078328</td>\n      <td>0.082462</td>\n    </tr>\n    <tr>\n      <th>48</th>\n      <td>West Virginia</td>\n      <td>0.125399</td>\n      <td>0.100213</td>\n      <td>0.101613</td>\n      <td>0.105274</td>\n      <td>0.105566</td>\n      <td>0.116789</td>\n      <td>0.123743</td>\n    </tr>\n    <tr>\n      <th>49</th>\n      <td>Wisconsin</td>\n      <td>0.078747</td>\n      <td>0.060932</td>\n      <td>0.060932</td>\n      <td>0.063832</td>\n      <td>0.063832</td>\n      <td>0.072476</td>\n      <td>0.077000</td>\n    </tr>\n    <tr>\n      <th>50</th>\n      <td>Wyoming</td>\n      <td>0.100047</td>\n      <td>0.076010</td>\n      <td>0.075421</td>\n      <td>0.080404</td>\n      <td>0.077119</td>\n      <td>0.092544</td>\n      <td>0.099021</td>\n    </tr>\n  </tbody>\n</table>\n</div>"
     },
     "metadata": {},
     "execution_count": 34
    }
   ],
   "source": [
    "state_pov = poverty_rate_state.pivot_table(\n",
    "    values=\"poverty_rate\", index=\"state\", columns=[\"sim\"]\n",
    ")\n",
    "state_pov.reset_index()"
   ]
  },
  {
   "cell_type": "code",
   "execution_count": 72,
   "metadata": {},
   "outputs": [
    {
     "output_type": "execute_result",
     "data": {
      "text/plain": [
       "sim                 state  baseline   high_ca  high_xpns    low_ca  low_xpns  \\\n",
       "0                 Alabama  0.127468  0.100755   0.102628  0.105218  0.107343   \n",
       "1                  Alaska  0.132965  0.096226   0.094711  0.106835  0.103367   \n",
       "2                 Arizona  0.119701  0.090579   0.090913  0.094243  0.096930   \n",
       "3                Arkansas  0.130987  0.102164   0.103000  0.106633  0.108480   \n",
       "4              California  0.174174  0.137809   0.136286  0.147043  0.144813   \n",
       "5                Colorado  0.116944  0.093067   0.093067  0.098470  0.098470   \n",
       "6             Connecticut  0.113332  0.087728   0.087151  0.093475  0.090861   \n",
       "7                Delaware  0.105911  0.086105   0.086105  0.089422  0.089422   \n",
       "8    District of Columbia  0.169771  0.143431   0.142059  0.146682  0.144321   \n",
       "9                 Florida  0.159601  0.128967   0.129471  0.134594  0.137851   \n",
       "10                Georgia  0.136660  0.102079   0.103916  0.111362  0.115714   \n",
       "11                 Hawaii  0.137703  0.105912   0.106934  0.113718  0.114671   \n",
       "12                  Idaho  0.083094  0.063248   0.063712  0.066412  0.067773   \n",
       "13               Illinois  0.113958  0.088773   0.088246  0.092903  0.092483   \n",
       "14                Indiana  0.103981  0.074993   0.075486  0.079778  0.080929   \n",
       "15                   Iowa  0.074519  0.054115   0.054115  0.060506  0.060009   \n",
       "16                 Kansas  0.075302  0.061785   0.063359  0.067040  0.067040   \n",
       "17               Kentucky  0.112288  0.093835   0.095469  0.097761  0.099750   \n",
       "18              Louisiana  0.165583  0.125102   0.126427  0.131179  0.135634   \n",
       "19                  Maine  0.093941  0.075444   0.076305  0.081033  0.078120   \n",
       "20               Maryland  0.124856  0.104525   0.104525  0.109530  0.107916   \n",
       "21          Massachusetts  0.114918  0.098308   0.097114  0.100061  0.099433   \n",
       "22               Michigan  0.100550  0.079346   0.079346  0.082095  0.083363   \n",
       "23              Minnesota  0.065550  0.054778   0.054521  0.055305  0.055305   \n",
       "24            Mississippi  0.154012  0.118603   0.123675  0.126254  0.125754   \n",
       "25               Missouri  0.088932  0.070995   0.071937  0.072402  0.072402   \n",
       "26                Montana  0.090210  0.073139   0.073139  0.076842  0.077429   \n",
       "27               Nebraska  0.091352  0.070197   0.070669  0.074408  0.072895   \n",
       "28                 Nevada  0.135462  0.105098   0.105098  0.111938  0.112717   \n",
       "29          New Hampshire  0.084666  0.064278   0.064278  0.068484  0.070178   \n",
       "30             New Jersey  0.129822  0.105881   0.105103  0.110667  0.109789   \n",
       "31             New Mexico  0.136001  0.104763   0.105372  0.109278  0.111960   \n",
       "32               New York  0.151846  0.120311   0.116787  0.128748  0.123536   \n",
       "33         North Carolina  0.135841  0.101767   0.102829  0.106330  0.108885   \n",
       "34           North Dakota  0.095881  0.073530   0.073530  0.077073  0.078392   \n",
       "35                   Ohio  0.103376  0.078988   0.078988  0.081802  0.082338   \n",
       "36               Oklahoma  0.106826  0.082145   0.085099  0.087992  0.087992   \n",
       "37                 Oregon  0.112526  0.094185   0.093767  0.096986  0.096007   \n",
       "38           Pennsylvania  0.111484  0.085566   0.085566  0.092980  0.092177   \n",
       "39           Rhode Island  0.081049  0.062024   0.061323  0.066646  0.065075   \n",
       "40         South Carolina  0.133161  0.108580   0.109477  0.110596  0.112700   \n",
       "41           South Dakota  0.090533  0.069826   0.070910  0.075886  0.076672   \n",
       "42              Tennessee  0.111710  0.086972   0.086972  0.090526  0.090526   \n",
       "43                  Texas  0.140665  0.102431   0.104464  0.111349  0.114590   \n",
       "44                   Utah  0.082092  0.063651   0.064585  0.069901  0.069901   \n",
       "45                Vermont  0.105788  0.092524   0.092524  0.093982  0.093598   \n",
       "46               Virginia  0.117839  0.089849   0.089638  0.095879  0.095232   \n",
       "47             Washington  0.083740  0.064748   0.064484  0.068218  0.067930   \n",
       "48          West Virginia  0.125399  0.100213   0.101613  0.105274  0.105566   \n",
       "49              Wisconsin  0.078747  0.060932   0.060932  0.063832  0.063832   \n",
       "50                Wyoming  0.100047  0.076010   0.075421  0.080404  0.077119   \n",
       "\n",
       "sim  replace_ca  replace_xpns  \n",
       "0      0.120791      0.126259  \n",
       "1      0.125391      0.131078  \n",
       "2      0.106740      0.116080  \n",
       "3      0.120045      0.128325  \n",
       "4      0.166576      0.172219  \n",
       "5      0.113578      0.114349  \n",
       "6      0.110628      0.111758  \n",
       "7      0.097914      0.102770  \n",
       "8      0.160920      0.167536  \n",
       "9      0.150109      0.156689  \n",
       "10     0.129246      0.134254  \n",
       "11     0.128062      0.135924  \n",
       "12     0.077663      0.081964  \n",
       "13     0.105406      0.111418  \n",
       "14     0.096494      0.102824  \n",
       "15     0.069927      0.072602  \n",
       "16     0.070127      0.072967  \n",
       "17     0.106124      0.111472  \n",
       "18     0.154244      0.162260  \n",
       "19     0.089332      0.091307  \n",
       "20     0.121439      0.120221  \n",
       "21     0.108753      0.112259  \n",
       "22     0.094052      0.099210  \n",
       "23     0.061408      0.064345  \n",
       "24     0.143865      0.152917  \n",
       "25     0.081324      0.087982  \n",
       "26     0.085664      0.088316  \n",
       "27     0.083103      0.086408  \n",
       "28     0.123107      0.133438  \n",
       "29     0.079345      0.079382  \n",
       "30     0.124276      0.126650  \n",
       "31     0.128677      0.135767  \n",
       "32     0.143332      0.147671  \n",
       "33     0.123163      0.133010  \n",
       "34     0.088491      0.092904  \n",
       "35     0.095807      0.101311  \n",
       "36     0.101229      0.105936  \n",
       "37     0.105006      0.110430  \n",
       "38     0.105990      0.109140  \n",
       "39     0.078376      0.080227  \n",
       "40     0.123233      0.129451  \n",
       "41     0.085615      0.089885  \n",
       "42     0.103327      0.109491  \n",
       "43     0.131118      0.136442  \n",
       "44     0.076899      0.080179  \n",
       "45     0.100875      0.102500  \n",
       "46     0.109017      0.112749  \n",
       "47     0.078328      0.082462  \n",
       "48     0.116789      0.123743  \n",
       "49     0.072476      0.077000  \n",
       "50     0.092544      0.099021  "
      ],
      "text/html": "<div>\n<style scoped>\n    .dataframe tbody tr th:only-of-type {\n        vertical-align: middle;\n    }\n\n    .dataframe tbody tr th {\n        vertical-align: top;\n    }\n\n    .dataframe thead th {\n        text-align: right;\n    }\n</style>\n<table border=\"1\" class=\"dataframe\">\n  <thead>\n    <tr style=\"text-align: right;\">\n      <th>sim</th>\n      <th>state</th>\n      <th>baseline</th>\n      <th>high_ca</th>\n      <th>high_xpns</th>\n      <th>low_ca</th>\n      <th>low_xpns</th>\n      <th>replace_ca</th>\n      <th>replace_xpns</th>\n    </tr>\n  </thead>\n  <tbody>\n    <tr>\n      <th>0</th>\n      <td>Alabama</td>\n      <td>0.127468</td>\n      <td>0.100755</td>\n      <td>0.102628</td>\n      <td>0.105218</td>\n      <td>0.107343</td>\n      <td>0.120791</td>\n      <td>0.126259</td>\n    </tr>\n    <tr>\n      <th>1</th>\n      <td>Alaska</td>\n      <td>0.132965</td>\n      <td>0.096226</td>\n      <td>0.094711</td>\n      <td>0.106835</td>\n      <td>0.103367</td>\n      <td>0.125391</td>\n      <td>0.131078</td>\n    </tr>\n    <tr>\n      <th>2</th>\n      <td>Arizona</td>\n      <td>0.119701</td>\n      <td>0.090579</td>\n      <td>0.090913</td>\n      <td>0.094243</td>\n      <td>0.096930</td>\n      <td>0.106740</td>\n      <td>0.116080</td>\n    </tr>\n    <tr>\n      <th>3</th>\n      <td>Arkansas</td>\n      <td>0.130987</td>\n      <td>0.102164</td>\n      <td>0.103000</td>\n      <td>0.106633</td>\n      <td>0.108480</td>\n      <td>0.120045</td>\n      <td>0.128325</td>\n    </tr>\n    <tr>\n      <th>4</th>\n      <td>California</td>\n      <td>0.174174</td>\n      <td>0.137809</td>\n      <td>0.136286</td>\n      <td>0.147043</td>\n      <td>0.144813</td>\n      <td>0.166576</td>\n      <td>0.172219</td>\n    </tr>\n    <tr>\n      <th>5</th>\n      <td>Colorado</td>\n      <td>0.116944</td>\n      <td>0.093067</td>\n      <td>0.093067</td>\n      <td>0.098470</td>\n      <td>0.098470</td>\n      <td>0.113578</td>\n      <td>0.114349</td>\n    </tr>\n    <tr>\n      <th>6</th>\n      <td>Connecticut</td>\n      <td>0.113332</td>\n      <td>0.087728</td>\n      <td>0.087151</td>\n      <td>0.093475</td>\n      <td>0.090861</td>\n      <td>0.110628</td>\n      <td>0.111758</td>\n    </tr>\n    <tr>\n      <th>7</th>\n      <td>Delaware</td>\n      <td>0.105911</td>\n      <td>0.086105</td>\n      <td>0.086105</td>\n      <td>0.089422</td>\n      <td>0.089422</td>\n      <td>0.097914</td>\n      <td>0.102770</td>\n    </tr>\n    <tr>\n      <th>8</th>\n      <td>District of Columbia</td>\n      <td>0.169771</td>\n      <td>0.143431</td>\n      <td>0.142059</td>\n      <td>0.146682</td>\n      <td>0.144321</td>\n      <td>0.160920</td>\n      <td>0.167536</td>\n    </tr>\n    <tr>\n      <th>9</th>\n      <td>Florida</td>\n      <td>0.159601</td>\n      <td>0.128967</td>\n      <td>0.129471</td>\n      <td>0.134594</td>\n      <td>0.137851</td>\n      <td>0.150109</td>\n      <td>0.156689</td>\n    </tr>\n    <tr>\n      <th>10</th>\n      <td>Georgia</td>\n      <td>0.136660</td>\n      <td>0.102079</td>\n      <td>0.103916</td>\n      <td>0.111362</td>\n      <td>0.115714</td>\n      <td>0.129246</td>\n      <td>0.134254</td>\n    </tr>\n    <tr>\n      <th>11</th>\n      <td>Hawaii</td>\n      <td>0.137703</td>\n      <td>0.105912</td>\n      <td>0.106934</td>\n      <td>0.113718</td>\n      <td>0.114671</td>\n      <td>0.128062</td>\n      <td>0.135924</td>\n    </tr>\n    <tr>\n      <th>12</th>\n      <td>Idaho</td>\n      <td>0.083094</td>\n      <td>0.063248</td>\n      <td>0.063712</td>\n      <td>0.066412</td>\n      <td>0.067773</td>\n      <td>0.077663</td>\n      <td>0.081964</td>\n    </tr>\n    <tr>\n      <th>13</th>\n      <td>Illinois</td>\n      <td>0.113958</td>\n      <td>0.088773</td>\n      <td>0.088246</td>\n      <td>0.092903</td>\n      <td>0.092483</td>\n      <td>0.105406</td>\n      <td>0.111418</td>\n    </tr>\n    <tr>\n      <th>14</th>\n      <td>Indiana</td>\n      <td>0.103981</td>\n      <td>0.074993</td>\n      <td>0.075486</td>\n      <td>0.079778</td>\n      <td>0.080929</td>\n      <td>0.096494</td>\n      <td>0.102824</td>\n    </tr>\n    <tr>\n      <th>15</th>\n      <td>Iowa</td>\n      <td>0.074519</td>\n      <td>0.054115</td>\n      <td>0.054115</td>\n      <td>0.060506</td>\n      <td>0.060009</td>\n      <td>0.069927</td>\n      <td>0.072602</td>\n    </tr>\n    <tr>\n      <th>16</th>\n      <td>Kansas</td>\n      <td>0.075302</td>\n      <td>0.061785</td>\n      <td>0.063359</td>\n      <td>0.067040</td>\n      <td>0.067040</td>\n      <td>0.070127</td>\n      <td>0.072967</td>\n    </tr>\n    <tr>\n      <th>17</th>\n      <td>Kentucky</td>\n      <td>0.112288</td>\n      <td>0.093835</td>\n      <td>0.095469</td>\n      <td>0.097761</td>\n      <td>0.099750</td>\n      <td>0.106124</td>\n      <td>0.111472</td>\n    </tr>\n    <tr>\n      <th>18</th>\n      <td>Louisiana</td>\n      <td>0.165583</td>\n      <td>0.125102</td>\n      <td>0.126427</td>\n      <td>0.131179</td>\n      <td>0.135634</td>\n      <td>0.154244</td>\n      <td>0.162260</td>\n    </tr>\n    <tr>\n      <th>19</th>\n      <td>Maine</td>\n      <td>0.093941</td>\n      <td>0.075444</td>\n      <td>0.076305</td>\n      <td>0.081033</td>\n      <td>0.078120</td>\n      <td>0.089332</td>\n      <td>0.091307</td>\n    </tr>\n    <tr>\n      <th>20</th>\n      <td>Maryland</td>\n      <td>0.124856</td>\n      <td>0.104525</td>\n      <td>0.104525</td>\n      <td>0.109530</td>\n      <td>0.107916</td>\n      <td>0.121439</td>\n      <td>0.120221</td>\n    </tr>\n    <tr>\n      <th>21</th>\n      <td>Massachusetts</td>\n      <td>0.114918</td>\n      <td>0.098308</td>\n      <td>0.097114</td>\n      <td>0.100061</td>\n      <td>0.099433</td>\n      <td>0.108753</td>\n      <td>0.112259</td>\n    </tr>\n    <tr>\n      <th>22</th>\n      <td>Michigan</td>\n      <td>0.100550</td>\n      <td>0.079346</td>\n      <td>0.079346</td>\n      <td>0.082095</td>\n      <td>0.083363</td>\n      <td>0.094052</td>\n      <td>0.099210</td>\n    </tr>\n    <tr>\n      <th>23</th>\n      <td>Minnesota</td>\n      <td>0.065550</td>\n      <td>0.054778</td>\n      <td>0.054521</td>\n      <td>0.055305</td>\n      <td>0.055305</td>\n      <td>0.061408</td>\n      <td>0.064345</td>\n    </tr>\n    <tr>\n      <th>24</th>\n      <td>Mississippi</td>\n      <td>0.154012</td>\n      <td>0.118603</td>\n      <td>0.123675</td>\n      <td>0.126254</td>\n      <td>0.125754</td>\n      <td>0.143865</td>\n      <td>0.152917</td>\n    </tr>\n    <tr>\n      <th>25</th>\n      <td>Missouri</td>\n      <td>0.088932</td>\n      <td>0.070995</td>\n      <td>0.071937</td>\n      <td>0.072402</td>\n      <td>0.072402</td>\n      <td>0.081324</td>\n      <td>0.087982</td>\n    </tr>\n    <tr>\n      <th>26</th>\n      <td>Montana</td>\n      <td>0.090210</td>\n      <td>0.073139</td>\n      <td>0.073139</td>\n      <td>0.076842</td>\n      <td>0.077429</td>\n      <td>0.085664</td>\n      <td>0.088316</td>\n    </tr>\n    <tr>\n      <th>27</th>\n      <td>Nebraska</td>\n      <td>0.091352</td>\n      <td>0.070197</td>\n      <td>0.070669</td>\n      <td>0.074408</td>\n      <td>0.072895</td>\n      <td>0.083103</td>\n      <td>0.086408</td>\n    </tr>\n    <tr>\n      <th>28</th>\n      <td>Nevada</td>\n      <td>0.135462</td>\n      <td>0.105098</td>\n      <td>0.105098</td>\n      <td>0.111938</td>\n      <td>0.112717</td>\n      <td>0.123107</td>\n      <td>0.133438</td>\n    </tr>\n    <tr>\n      <th>29</th>\n      <td>New Hampshire</td>\n      <td>0.084666</td>\n      <td>0.064278</td>\n      <td>0.064278</td>\n      <td>0.068484</td>\n      <td>0.070178</td>\n      <td>0.079345</td>\n      <td>0.079382</td>\n    </tr>\n    <tr>\n      <th>30</th>\n      <td>New Jersey</td>\n      <td>0.129822</td>\n      <td>0.105881</td>\n      <td>0.105103</td>\n      <td>0.110667</td>\n      <td>0.109789</td>\n      <td>0.124276</td>\n      <td>0.126650</td>\n    </tr>\n    <tr>\n      <th>31</th>\n      <td>New Mexico</td>\n      <td>0.136001</td>\n      <td>0.104763</td>\n      <td>0.105372</td>\n      <td>0.109278</td>\n      <td>0.111960</td>\n      <td>0.128677</td>\n      <td>0.135767</td>\n    </tr>\n    <tr>\n      <th>32</th>\n      <td>New York</td>\n      <td>0.151846</td>\n      <td>0.120311</td>\n      <td>0.116787</td>\n      <td>0.128748</td>\n      <td>0.123536</td>\n      <td>0.143332</td>\n      <td>0.147671</td>\n    </tr>\n    <tr>\n      <th>33</th>\n      <td>North Carolina</td>\n      <td>0.135841</td>\n      <td>0.101767</td>\n      <td>0.102829</td>\n      <td>0.106330</td>\n      <td>0.108885</td>\n      <td>0.123163</td>\n      <td>0.133010</td>\n    </tr>\n    <tr>\n      <th>34</th>\n      <td>North Dakota</td>\n      <td>0.095881</td>\n      <td>0.073530</td>\n      <td>0.073530</td>\n      <td>0.077073</td>\n      <td>0.078392</td>\n      <td>0.088491</td>\n      <td>0.092904</td>\n    </tr>\n    <tr>\n      <th>35</th>\n      <td>Ohio</td>\n      <td>0.103376</td>\n      <td>0.078988</td>\n      <td>0.078988</td>\n      <td>0.081802</td>\n      <td>0.082338</td>\n      <td>0.095807</td>\n      <td>0.101311</td>\n    </tr>\n    <tr>\n      <th>36</th>\n      <td>Oklahoma</td>\n      <td>0.106826</td>\n      <td>0.082145</td>\n      <td>0.085099</td>\n      <td>0.087992</td>\n      <td>0.087992</td>\n      <td>0.101229</td>\n      <td>0.105936</td>\n    </tr>\n    <tr>\n      <th>37</th>\n      <td>Oregon</td>\n      <td>0.112526</td>\n      <td>0.094185</td>\n      <td>0.093767</td>\n      <td>0.096986</td>\n      <td>0.096007</td>\n      <td>0.105006</td>\n      <td>0.110430</td>\n    </tr>\n    <tr>\n      <th>38</th>\n      <td>Pennsylvania</td>\n      <td>0.111484</td>\n      <td>0.085566</td>\n      <td>0.085566</td>\n      <td>0.092980</td>\n      <td>0.092177</td>\n      <td>0.105990</td>\n      <td>0.109140</td>\n    </tr>\n    <tr>\n      <th>39</th>\n      <td>Rhode Island</td>\n      <td>0.081049</td>\n      <td>0.062024</td>\n      <td>0.061323</td>\n      <td>0.066646</td>\n      <td>0.065075</td>\n      <td>0.078376</td>\n      <td>0.080227</td>\n    </tr>\n    <tr>\n      <th>40</th>\n      <td>South Carolina</td>\n      <td>0.133161</td>\n      <td>0.108580</td>\n      <td>0.109477</td>\n      <td>0.110596</td>\n      <td>0.112700</td>\n      <td>0.123233</td>\n      <td>0.129451</td>\n    </tr>\n    <tr>\n      <th>41</th>\n      <td>South Dakota</td>\n      <td>0.090533</td>\n      <td>0.069826</td>\n      <td>0.070910</td>\n      <td>0.075886</td>\n      <td>0.076672</td>\n      <td>0.085615</td>\n      <td>0.089885</td>\n    </tr>\n    <tr>\n      <th>42</th>\n      <td>Tennessee</td>\n      <td>0.111710</td>\n      <td>0.086972</td>\n      <td>0.086972</td>\n      <td>0.090526</td>\n      <td>0.090526</td>\n      <td>0.103327</td>\n      <td>0.109491</td>\n    </tr>\n    <tr>\n      <th>43</th>\n      <td>Texas</td>\n      <td>0.140665</td>\n      <td>0.102431</td>\n      <td>0.104464</td>\n      <td>0.111349</td>\n      <td>0.114590</td>\n      <td>0.131118</td>\n      <td>0.136442</td>\n    </tr>\n    <tr>\n      <th>44</th>\n      <td>Utah</td>\n      <td>0.082092</td>\n      <td>0.063651</td>\n      <td>0.064585</td>\n      <td>0.069901</td>\n      <td>0.069901</td>\n      <td>0.076899</td>\n      <td>0.080179</td>\n    </tr>\n    <tr>\n      <th>45</th>\n      <td>Vermont</td>\n      <td>0.105788</td>\n      <td>0.092524</td>\n      <td>0.092524</td>\n      <td>0.093982</td>\n      <td>0.093598</td>\n      <td>0.100875</td>\n      <td>0.102500</td>\n    </tr>\n    <tr>\n      <th>46</th>\n      <td>Virginia</td>\n      <td>0.117839</td>\n      <td>0.089849</td>\n      <td>0.089638</td>\n      <td>0.095879</td>\n      <td>0.095232</td>\n      <td>0.109017</td>\n      <td>0.112749</td>\n    </tr>\n    <tr>\n      <th>47</th>\n      <td>Washington</td>\n      <td>0.083740</td>\n      <td>0.064748</td>\n      <td>0.064484</td>\n      <td>0.068218</td>\n      <td>0.067930</td>\n      <td>0.078328</td>\n      <td>0.082462</td>\n    </tr>\n    <tr>\n      <th>48</th>\n      <td>West Virginia</td>\n      <td>0.125399</td>\n      <td>0.100213</td>\n      <td>0.101613</td>\n      <td>0.105274</td>\n      <td>0.105566</td>\n      <td>0.116789</td>\n      <td>0.123743</td>\n    </tr>\n    <tr>\n      <th>49</th>\n      <td>Wisconsin</td>\n      <td>0.078747</td>\n      <td>0.060932</td>\n      <td>0.060932</td>\n      <td>0.063832</td>\n      <td>0.063832</td>\n      <td>0.072476</td>\n      <td>0.077000</td>\n    </tr>\n    <tr>\n      <th>50</th>\n      <td>Wyoming</td>\n      <td>0.100047</td>\n      <td>0.076010</td>\n      <td>0.075421</td>\n      <td>0.080404</td>\n      <td>0.077119</td>\n      <td>0.092544</td>\n      <td>0.099021</td>\n    </tr>\n  </tbody>\n</table>\n</div>"
     },
     "metadata": {},
     "execution_count": 72
    }
   ],
   "source": [
    "state_pov.reset_index()"
   ]
  },
  {
   "cell_type": "code",
   "execution_count": 74,
   "metadata": {},
   "outputs": [
    {
     "output_type": "execute_result",
     "data": {
      "text/plain": [
       "sim                 state  baseline   high_ca  high_xpns    low_ca  low_xpns  \\\n",
       "0                 Alabama  0.127468  0.100755   0.102628  0.105218  0.107343   \n",
       "1                  Alaska  0.132965  0.096226   0.094711  0.106835  0.103367   \n",
       "2                 Arizona  0.119701  0.090579   0.090913  0.094243  0.096930   \n",
       "3                Arkansas  0.130987  0.102164   0.103000  0.106633  0.108480   \n",
       "4              California  0.174174  0.137809   0.136286  0.147043  0.144813   \n",
       "5                Colorado  0.116944  0.093067   0.093067  0.098470  0.098470   \n",
       "6             Connecticut  0.113332  0.087728   0.087151  0.093475  0.090861   \n",
       "7                Delaware  0.105911  0.086105   0.086105  0.089422  0.089422   \n",
       "8    District of Columbia  0.169771  0.143431   0.142059  0.146682  0.144321   \n",
       "9                 Florida  0.159601  0.128967   0.129471  0.134594  0.137851   \n",
       "10                Georgia  0.136660  0.102079   0.103916  0.111362  0.115714   \n",
       "11                 Hawaii  0.137703  0.105912   0.106934  0.113718  0.114671   \n",
       "12                  Idaho  0.083094  0.063248   0.063712  0.066412  0.067773   \n",
       "13               Illinois  0.113958  0.088773   0.088246  0.092903  0.092483   \n",
       "14                Indiana  0.103981  0.074993   0.075486  0.079778  0.080929   \n",
       "15                   Iowa  0.074519  0.054115   0.054115  0.060506  0.060009   \n",
       "16                 Kansas  0.075302  0.061785   0.063359  0.067040  0.067040   \n",
       "17               Kentucky  0.112288  0.093835   0.095469  0.097761  0.099750   \n",
       "18              Louisiana  0.165583  0.125102   0.126427  0.131179  0.135634   \n",
       "19                  Maine  0.093941  0.075444   0.076305  0.081033  0.078120   \n",
       "20               Maryland  0.124856  0.104525   0.104525  0.109530  0.107916   \n",
       "21          Massachusetts  0.114918  0.098308   0.097114  0.100061  0.099433   \n",
       "22               Michigan  0.100550  0.079346   0.079346  0.082095  0.083363   \n",
       "23              Minnesota  0.065550  0.054778   0.054521  0.055305  0.055305   \n",
       "24            Mississippi  0.154012  0.118603   0.123675  0.126254  0.125754   \n",
       "25               Missouri  0.088932  0.070995   0.071937  0.072402  0.072402   \n",
       "26                Montana  0.090210  0.073139   0.073139  0.076842  0.077429   \n",
       "27               Nebraska  0.091352  0.070197   0.070669  0.074408  0.072895   \n",
       "28                 Nevada  0.135462  0.105098   0.105098  0.111938  0.112717   \n",
       "29          New Hampshire  0.084666  0.064278   0.064278  0.068484  0.070178   \n",
       "30             New Jersey  0.129822  0.105881   0.105103  0.110667  0.109789   \n",
       "31             New Mexico  0.136001  0.104763   0.105372  0.109278  0.111960   \n",
       "32               New York  0.151846  0.120311   0.116787  0.128748  0.123536   \n",
       "33         North Carolina  0.135841  0.101767   0.102829  0.106330  0.108885   \n",
       "34           North Dakota  0.095881  0.073530   0.073530  0.077073  0.078392   \n",
       "35                   Ohio  0.103376  0.078988   0.078988  0.081802  0.082338   \n",
       "36               Oklahoma  0.106826  0.082145   0.085099  0.087992  0.087992   \n",
       "37                 Oregon  0.112526  0.094185   0.093767  0.096986  0.096007   \n",
       "38           Pennsylvania  0.111484  0.085566   0.085566  0.092980  0.092177   \n",
       "39           Rhode Island  0.081049  0.062024   0.061323  0.066646  0.065075   \n",
       "40         South Carolina  0.133161  0.108580   0.109477  0.110596  0.112700   \n",
       "41           South Dakota  0.090533  0.069826   0.070910  0.075886  0.076672   \n",
       "42              Tennessee  0.111710  0.086972   0.086972  0.090526  0.090526   \n",
       "43                  Texas  0.140665  0.102431   0.104464  0.111349  0.114590   \n",
       "44                   Utah  0.082092  0.063651   0.064585  0.069901  0.069901   \n",
       "45                Vermont  0.105788  0.092524   0.092524  0.093982  0.093598   \n",
       "46               Virginia  0.117839  0.089849   0.089638  0.095879  0.095232   \n",
       "47             Washington  0.083740  0.064748   0.064484  0.068218  0.067930   \n",
       "48          West Virginia  0.125399  0.100213   0.101613  0.105274  0.105566   \n",
       "49              Wisconsin  0.078747  0.060932   0.060932  0.063832  0.063832   \n",
       "50                Wyoming  0.100047  0.076010   0.075421  0.080404  0.077119   \n",
       "\n",
       "sim  replace_ca  replace_xpns  \n",
       "0      0.120791      0.126259  \n",
       "1      0.125391      0.131078  \n",
       "2      0.106740      0.116080  \n",
       "3      0.120045      0.128325  \n",
       "4      0.166576      0.172219  \n",
       "5      0.113578      0.114349  \n",
       "6      0.110628      0.111758  \n",
       "7      0.097914      0.102770  \n",
       "8      0.160920      0.167536  \n",
       "9      0.150109      0.156689  \n",
       "10     0.129246      0.134254  \n",
       "11     0.128062      0.135924  \n",
       "12     0.077663      0.081964  \n",
       "13     0.105406      0.111418  \n",
       "14     0.096494      0.102824  \n",
       "15     0.069927      0.072602  \n",
       "16     0.070127      0.072967  \n",
       "17     0.106124      0.111472  \n",
       "18     0.154244      0.162260  \n",
       "19     0.089332      0.091307  \n",
       "20     0.121439      0.120221  \n",
       "21     0.108753      0.112259  \n",
       "22     0.094052      0.099210  \n",
       "23     0.061408      0.064345  \n",
       "24     0.143865      0.152917  \n",
       "25     0.081324      0.087982  \n",
       "26     0.085664      0.088316  \n",
       "27     0.083103      0.086408  \n",
       "28     0.123107      0.133438  \n",
       "29     0.079345      0.079382  \n",
       "30     0.124276      0.126650  \n",
       "31     0.128677      0.135767  \n",
       "32     0.143332      0.147671  \n",
       "33     0.123163      0.133010  \n",
       "34     0.088491      0.092904  \n",
       "35     0.095807      0.101311  \n",
       "36     0.101229      0.105936  \n",
       "37     0.105006      0.110430  \n",
       "38     0.105990      0.109140  \n",
       "39     0.078376      0.080227  \n",
       "40     0.123233      0.129451  \n",
       "41     0.085615      0.089885  \n",
       "42     0.103327      0.109491  \n",
       "43     0.131118      0.136442  \n",
       "44     0.076899      0.080179  \n",
       "45     0.100875      0.102500  \n",
       "46     0.109017      0.112749  \n",
       "47     0.078328      0.082462  \n",
       "48     0.116789      0.123743  \n",
       "49     0.072476      0.077000  \n",
       "50     0.092544      0.099021  "
      ],
      "text/html": "<div>\n<style scoped>\n    .dataframe tbody tr th:only-of-type {\n        vertical-align: middle;\n    }\n\n    .dataframe tbody tr th {\n        vertical-align: top;\n    }\n\n    .dataframe thead th {\n        text-align: right;\n    }\n</style>\n<table border=\"1\" class=\"dataframe\">\n  <thead>\n    <tr style=\"text-align: right;\">\n      <th>sim</th>\n      <th>state</th>\n      <th>baseline</th>\n      <th>high_ca</th>\n      <th>high_xpns</th>\n      <th>low_ca</th>\n      <th>low_xpns</th>\n      <th>replace_ca</th>\n      <th>replace_xpns</th>\n    </tr>\n  </thead>\n  <tbody>\n    <tr>\n      <th>0</th>\n      <td>Alabama</td>\n      <td>0.127468</td>\n      <td>0.100755</td>\n      <td>0.102628</td>\n      <td>0.105218</td>\n      <td>0.107343</td>\n      <td>0.120791</td>\n      <td>0.126259</td>\n    </tr>\n    <tr>\n      <th>1</th>\n      <td>Alaska</td>\n      <td>0.132965</td>\n      <td>0.096226</td>\n      <td>0.094711</td>\n      <td>0.106835</td>\n      <td>0.103367</td>\n      <td>0.125391</td>\n      <td>0.131078</td>\n    </tr>\n    <tr>\n      <th>2</th>\n      <td>Arizona</td>\n      <td>0.119701</td>\n      <td>0.090579</td>\n      <td>0.090913</td>\n      <td>0.094243</td>\n      <td>0.096930</td>\n      <td>0.106740</td>\n      <td>0.116080</td>\n    </tr>\n    <tr>\n      <th>3</th>\n      <td>Arkansas</td>\n      <td>0.130987</td>\n      <td>0.102164</td>\n      <td>0.103000</td>\n      <td>0.106633</td>\n      <td>0.108480</td>\n      <td>0.120045</td>\n      <td>0.128325</td>\n    </tr>\n    <tr>\n      <th>4</th>\n      <td>California</td>\n      <td>0.174174</td>\n      <td>0.137809</td>\n      <td>0.136286</td>\n      <td>0.147043</td>\n      <td>0.144813</td>\n      <td>0.166576</td>\n      <td>0.172219</td>\n    </tr>\n    <tr>\n      <th>5</th>\n      <td>Colorado</td>\n      <td>0.116944</td>\n      <td>0.093067</td>\n      <td>0.093067</td>\n      <td>0.098470</td>\n      <td>0.098470</td>\n      <td>0.113578</td>\n      <td>0.114349</td>\n    </tr>\n    <tr>\n      <th>6</th>\n      <td>Connecticut</td>\n      <td>0.113332</td>\n      <td>0.087728</td>\n      <td>0.087151</td>\n      <td>0.093475</td>\n      <td>0.090861</td>\n      <td>0.110628</td>\n      <td>0.111758</td>\n    </tr>\n    <tr>\n      <th>7</th>\n      <td>Delaware</td>\n      <td>0.105911</td>\n      <td>0.086105</td>\n      <td>0.086105</td>\n      <td>0.089422</td>\n      <td>0.089422</td>\n      <td>0.097914</td>\n      <td>0.102770</td>\n    </tr>\n    <tr>\n      <th>8</th>\n      <td>District of Columbia</td>\n      <td>0.169771</td>\n      <td>0.143431</td>\n      <td>0.142059</td>\n      <td>0.146682</td>\n      <td>0.144321</td>\n      <td>0.160920</td>\n      <td>0.167536</td>\n    </tr>\n    <tr>\n      <th>9</th>\n      <td>Florida</td>\n      <td>0.159601</td>\n      <td>0.128967</td>\n      <td>0.129471</td>\n      <td>0.134594</td>\n      <td>0.137851</td>\n      <td>0.150109</td>\n      <td>0.156689</td>\n    </tr>\n    <tr>\n      <th>10</th>\n      <td>Georgia</td>\n      <td>0.136660</td>\n      <td>0.102079</td>\n      <td>0.103916</td>\n      <td>0.111362</td>\n      <td>0.115714</td>\n      <td>0.129246</td>\n      <td>0.134254</td>\n    </tr>\n    <tr>\n      <th>11</th>\n      <td>Hawaii</td>\n      <td>0.137703</td>\n      <td>0.105912</td>\n      <td>0.106934</td>\n      <td>0.113718</td>\n      <td>0.114671</td>\n      <td>0.128062</td>\n      <td>0.135924</td>\n    </tr>\n    <tr>\n      <th>12</th>\n      <td>Idaho</td>\n      <td>0.083094</td>\n      <td>0.063248</td>\n      <td>0.063712</td>\n      <td>0.066412</td>\n      <td>0.067773</td>\n      <td>0.077663</td>\n      <td>0.081964</td>\n    </tr>\n    <tr>\n      <th>13</th>\n      <td>Illinois</td>\n      <td>0.113958</td>\n      <td>0.088773</td>\n      <td>0.088246</td>\n      <td>0.092903</td>\n      <td>0.092483</td>\n      <td>0.105406</td>\n      <td>0.111418</td>\n    </tr>\n    <tr>\n      <th>14</th>\n      <td>Indiana</td>\n      <td>0.103981</td>\n      <td>0.074993</td>\n      <td>0.075486</td>\n      <td>0.079778</td>\n      <td>0.080929</td>\n      <td>0.096494</td>\n      <td>0.102824</td>\n    </tr>\n    <tr>\n      <th>15</th>\n      <td>Iowa</td>\n      <td>0.074519</td>\n      <td>0.054115</td>\n      <td>0.054115</td>\n      <td>0.060506</td>\n      <td>0.060009</td>\n      <td>0.069927</td>\n      <td>0.072602</td>\n    </tr>\n    <tr>\n      <th>16</th>\n      <td>Kansas</td>\n      <td>0.075302</td>\n      <td>0.061785</td>\n      <td>0.063359</td>\n      <td>0.067040</td>\n      <td>0.067040</td>\n      <td>0.070127</td>\n      <td>0.072967</td>\n    </tr>\n    <tr>\n      <th>17</th>\n      <td>Kentucky</td>\n      <td>0.112288</td>\n      <td>0.093835</td>\n      <td>0.095469</td>\n      <td>0.097761</td>\n      <td>0.099750</td>\n      <td>0.106124</td>\n      <td>0.111472</td>\n    </tr>\n    <tr>\n      <th>18</th>\n      <td>Louisiana</td>\n      <td>0.165583</td>\n      <td>0.125102</td>\n      <td>0.126427</td>\n      <td>0.131179</td>\n      <td>0.135634</td>\n      <td>0.154244</td>\n      <td>0.162260</td>\n    </tr>\n    <tr>\n      <th>19</th>\n      <td>Maine</td>\n      <td>0.093941</td>\n      <td>0.075444</td>\n      <td>0.076305</td>\n      <td>0.081033</td>\n      <td>0.078120</td>\n      <td>0.089332</td>\n      <td>0.091307</td>\n    </tr>\n    <tr>\n      <th>20</th>\n      <td>Maryland</td>\n      <td>0.124856</td>\n      <td>0.104525</td>\n      <td>0.104525</td>\n      <td>0.109530</td>\n      <td>0.107916</td>\n      <td>0.121439</td>\n      <td>0.120221</td>\n    </tr>\n    <tr>\n      <th>21</th>\n      <td>Massachusetts</td>\n      <td>0.114918</td>\n      <td>0.098308</td>\n      <td>0.097114</td>\n      <td>0.100061</td>\n      <td>0.099433</td>\n      <td>0.108753</td>\n      <td>0.112259</td>\n    </tr>\n    <tr>\n      <th>22</th>\n      <td>Michigan</td>\n      <td>0.100550</td>\n      <td>0.079346</td>\n      <td>0.079346</td>\n      <td>0.082095</td>\n      <td>0.083363</td>\n      <td>0.094052</td>\n      <td>0.099210</td>\n    </tr>\n    <tr>\n      <th>23</th>\n      <td>Minnesota</td>\n      <td>0.065550</td>\n      <td>0.054778</td>\n      <td>0.054521</td>\n      <td>0.055305</td>\n      <td>0.055305</td>\n      <td>0.061408</td>\n      <td>0.064345</td>\n    </tr>\n    <tr>\n      <th>24</th>\n      <td>Mississippi</td>\n      <td>0.154012</td>\n      <td>0.118603</td>\n      <td>0.123675</td>\n      <td>0.126254</td>\n      <td>0.125754</td>\n      <td>0.143865</td>\n      <td>0.152917</td>\n    </tr>\n    <tr>\n      <th>25</th>\n      <td>Missouri</td>\n      <td>0.088932</td>\n      <td>0.070995</td>\n      <td>0.071937</td>\n      <td>0.072402</td>\n      <td>0.072402</td>\n      <td>0.081324</td>\n      <td>0.087982</td>\n    </tr>\n    <tr>\n      <th>26</th>\n      <td>Montana</td>\n      <td>0.090210</td>\n      <td>0.073139</td>\n      <td>0.073139</td>\n      <td>0.076842</td>\n      <td>0.077429</td>\n      <td>0.085664</td>\n      <td>0.088316</td>\n    </tr>\n    <tr>\n      <th>27</th>\n      <td>Nebraska</td>\n      <td>0.091352</td>\n      <td>0.070197</td>\n      <td>0.070669</td>\n      <td>0.074408</td>\n      <td>0.072895</td>\n      <td>0.083103</td>\n      <td>0.086408</td>\n    </tr>\n    <tr>\n      <th>28</th>\n      <td>Nevada</td>\n      <td>0.135462</td>\n      <td>0.105098</td>\n      <td>0.105098</td>\n      <td>0.111938</td>\n      <td>0.112717</td>\n      <td>0.123107</td>\n      <td>0.133438</td>\n    </tr>\n    <tr>\n      <th>29</th>\n      <td>New Hampshire</td>\n      <td>0.084666</td>\n      <td>0.064278</td>\n      <td>0.064278</td>\n      <td>0.068484</td>\n      <td>0.070178</td>\n      <td>0.079345</td>\n      <td>0.079382</td>\n    </tr>\n    <tr>\n      <th>30</th>\n      <td>New Jersey</td>\n      <td>0.129822</td>\n      <td>0.105881</td>\n      <td>0.105103</td>\n      <td>0.110667</td>\n      <td>0.109789</td>\n      <td>0.124276</td>\n      <td>0.126650</td>\n    </tr>\n    <tr>\n      <th>31</th>\n      <td>New Mexico</td>\n      <td>0.136001</td>\n      <td>0.104763</td>\n      <td>0.105372</td>\n      <td>0.109278</td>\n      <td>0.111960</td>\n      <td>0.128677</td>\n      <td>0.135767</td>\n    </tr>\n    <tr>\n      <th>32</th>\n      <td>New York</td>\n      <td>0.151846</td>\n      <td>0.120311</td>\n      <td>0.116787</td>\n      <td>0.128748</td>\n      <td>0.123536</td>\n      <td>0.143332</td>\n      <td>0.147671</td>\n    </tr>\n    <tr>\n      <th>33</th>\n      <td>North Carolina</td>\n      <td>0.135841</td>\n      <td>0.101767</td>\n      <td>0.102829</td>\n      <td>0.106330</td>\n      <td>0.108885</td>\n      <td>0.123163</td>\n      <td>0.133010</td>\n    </tr>\n    <tr>\n      <th>34</th>\n      <td>North Dakota</td>\n      <td>0.095881</td>\n      <td>0.073530</td>\n      <td>0.073530</td>\n      <td>0.077073</td>\n      <td>0.078392</td>\n      <td>0.088491</td>\n      <td>0.092904</td>\n    </tr>\n    <tr>\n      <th>35</th>\n      <td>Ohio</td>\n      <td>0.103376</td>\n      <td>0.078988</td>\n      <td>0.078988</td>\n      <td>0.081802</td>\n      <td>0.082338</td>\n      <td>0.095807</td>\n      <td>0.101311</td>\n    </tr>\n    <tr>\n      <th>36</th>\n      <td>Oklahoma</td>\n      <td>0.106826</td>\n      <td>0.082145</td>\n      <td>0.085099</td>\n      <td>0.087992</td>\n      <td>0.087992</td>\n      <td>0.101229</td>\n      <td>0.105936</td>\n    </tr>\n    <tr>\n      <th>37</th>\n      <td>Oregon</td>\n      <td>0.112526</td>\n      <td>0.094185</td>\n      <td>0.093767</td>\n      <td>0.096986</td>\n      <td>0.096007</td>\n      <td>0.105006</td>\n      <td>0.110430</td>\n    </tr>\n    <tr>\n      <th>38</th>\n      <td>Pennsylvania</td>\n      <td>0.111484</td>\n      <td>0.085566</td>\n      <td>0.085566</td>\n      <td>0.092980</td>\n      <td>0.092177</td>\n      <td>0.105990</td>\n      <td>0.109140</td>\n    </tr>\n    <tr>\n      <th>39</th>\n      <td>Rhode Island</td>\n      <td>0.081049</td>\n      <td>0.062024</td>\n      <td>0.061323</td>\n      <td>0.066646</td>\n      <td>0.065075</td>\n      <td>0.078376</td>\n      <td>0.080227</td>\n    </tr>\n    <tr>\n      <th>40</th>\n      <td>South Carolina</td>\n      <td>0.133161</td>\n      <td>0.108580</td>\n      <td>0.109477</td>\n      <td>0.110596</td>\n      <td>0.112700</td>\n      <td>0.123233</td>\n      <td>0.129451</td>\n    </tr>\n    <tr>\n      <th>41</th>\n      <td>South Dakota</td>\n      <td>0.090533</td>\n      <td>0.069826</td>\n      <td>0.070910</td>\n      <td>0.075886</td>\n      <td>0.076672</td>\n      <td>0.085615</td>\n      <td>0.089885</td>\n    </tr>\n    <tr>\n      <th>42</th>\n      <td>Tennessee</td>\n      <td>0.111710</td>\n      <td>0.086972</td>\n      <td>0.086972</td>\n      <td>0.090526</td>\n      <td>0.090526</td>\n      <td>0.103327</td>\n      <td>0.109491</td>\n    </tr>\n    <tr>\n      <th>43</th>\n      <td>Texas</td>\n      <td>0.140665</td>\n      <td>0.102431</td>\n      <td>0.104464</td>\n      <td>0.111349</td>\n      <td>0.114590</td>\n      <td>0.131118</td>\n      <td>0.136442</td>\n    </tr>\n    <tr>\n      <th>44</th>\n      <td>Utah</td>\n      <td>0.082092</td>\n      <td>0.063651</td>\n      <td>0.064585</td>\n      <td>0.069901</td>\n      <td>0.069901</td>\n      <td>0.076899</td>\n      <td>0.080179</td>\n    </tr>\n    <tr>\n      <th>45</th>\n      <td>Vermont</td>\n      <td>0.105788</td>\n      <td>0.092524</td>\n      <td>0.092524</td>\n      <td>0.093982</td>\n      <td>0.093598</td>\n      <td>0.100875</td>\n      <td>0.102500</td>\n    </tr>\n    <tr>\n      <th>46</th>\n      <td>Virginia</td>\n      <td>0.117839</td>\n      <td>0.089849</td>\n      <td>0.089638</td>\n      <td>0.095879</td>\n      <td>0.095232</td>\n      <td>0.109017</td>\n      <td>0.112749</td>\n    </tr>\n    <tr>\n      <th>47</th>\n      <td>Washington</td>\n      <td>0.083740</td>\n      <td>0.064748</td>\n      <td>0.064484</td>\n      <td>0.068218</td>\n      <td>0.067930</td>\n      <td>0.078328</td>\n      <td>0.082462</td>\n    </tr>\n    <tr>\n      <th>48</th>\n      <td>West Virginia</td>\n      <td>0.125399</td>\n      <td>0.100213</td>\n      <td>0.101613</td>\n      <td>0.105274</td>\n      <td>0.105566</td>\n      <td>0.116789</td>\n      <td>0.123743</td>\n    </tr>\n    <tr>\n      <th>49</th>\n      <td>Wisconsin</td>\n      <td>0.078747</td>\n      <td>0.060932</td>\n      <td>0.060932</td>\n      <td>0.063832</td>\n      <td>0.063832</td>\n      <td>0.072476</td>\n      <td>0.077000</td>\n    </tr>\n    <tr>\n      <th>50</th>\n      <td>Wyoming</td>\n      <td>0.100047</td>\n      <td>0.076010</td>\n      <td>0.075421</td>\n      <td>0.080404</td>\n      <td>0.077119</td>\n      <td>0.092544</td>\n      <td>0.099021</td>\n    </tr>\n  </tbody>\n</table>\n</div>"
     },
     "metadata": {},
     "execution_count": 74
    }
   ],
   "source": [
    "state_pov"
   ]
  },
  {
   "cell_type": "code",
   "execution_count": 27,
   "metadata": {},
   "outputs": [
    {
     "output_type": "error",
     "ename": "AttributeError",
     "evalue": "'DataFrame' object has no attribute 'Scenario'",
     "traceback": [
      "\u001b[1;31m---------------------------------------------------------------------------\u001b[0m",
      "\u001b[1;31mAttributeError\u001b[0m                            Traceback (most recent call last)",
      "\u001b[1;32m<ipython-input-27-11f2ff7c0e45>\u001b[0m in \u001b[0;36m<module>\u001b[1;34m\u001b[0m\n\u001b[0;32m      1\u001b[0m \u001b[1;31m# State analysis\u001b[0m\u001b[1;33m\u001b[0m\u001b[1;33m\u001b[0m\u001b[1;33m\u001b[0m\u001b[0m\n\u001b[0;32m      2\u001b[0m \u001b[1;31m# Create pivot table to interpret state-based poverty effects\u001b[0m\u001b[1;33m\u001b[0m\u001b[1;33m\u001b[0m\u001b[1;33m\u001b[0m\u001b[0m\n\u001b[1;32m----> 3\u001b[1;33m \u001b[0mstate_pov\u001b[0m\u001b[1;33m[\u001b[0m\u001b[1;34m\"sim\"\u001b[0m\u001b[1;33m]\u001b[0m \u001b[1;33m=\u001b[0m \u001b[0mstate_pov\u001b[0m\u001b[1;33m.\u001b[0m\u001b[0mScenario\u001b[0m\u001b[1;33m+\u001b[0m\u001b[0mnp\u001b[0m\u001b[1;33m.\u001b[0m\u001b[0mwhere\u001b[0m\u001b[1;33m(\u001b[0m\u001b[0mstate_pov\u001b[0m\u001b[1;33m.\u001b[0m\u001b[0mca\u001b[0m\u001b[1;33m,\u001b[0m\u001b[1;34m\"ca\"\u001b[0m\u001b[1;33m,\u001b[0m\u001b[1;34m\"cc\"\u001b[0m\u001b[1;33m)\u001b[0m\u001b[1;33m\u001b[0m\u001b[1;33m\u001b[0m\u001b[0m\n\u001b[0m\u001b[0;32m      4\u001b[0m state_pov = poverty_rate_state.pivot_table(\n\u001b[0;32m      5\u001b[0m     \u001b[0mvalues\u001b[0m\u001b[1;33m=\u001b[0m\u001b[1;34m\"poverty_rate\"\u001b[0m\u001b[1;33m,\u001b[0m \u001b[0mindex\u001b[0m\u001b[1;33m=\u001b[0m\u001b[1;34m\"state\"\u001b[0m\u001b[1;33m,\u001b[0m \u001b[0mcolumns\u001b[0m\u001b[1;33m=\u001b[0m\u001b[1;33m[\u001b[0m\u001b[1;34m\"sim\"\u001b[0m\u001b[1;33m]\u001b[0m\u001b[1;33m\u001b[0m\u001b[1;33m\u001b[0m\u001b[0m\n",
      "\u001b[1;32m~\\anaconda3\\lib\\site-packages\\pandas\\core\\generic.py\u001b[0m in \u001b[0;36m__getattr__\u001b[1;34m(self, name)\u001b[0m\n\u001b[0;32m   5272\u001b[0m             \u001b[1;32mif\u001b[0m \u001b[0mself\u001b[0m\u001b[1;33m.\u001b[0m\u001b[0m_info_axis\u001b[0m\u001b[1;33m.\u001b[0m\u001b[0m_can_hold_identifiers_and_holds_name\u001b[0m\u001b[1;33m(\u001b[0m\u001b[0mname\u001b[0m\u001b[1;33m)\u001b[0m\u001b[1;33m:\u001b[0m\u001b[1;33m\u001b[0m\u001b[1;33m\u001b[0m\u001b[0m\n\u001b[0;32m   5273\u001b[0m                 \u001b[1;32mreturn\u001b[0m \u001b[0mself\u001b[0m\u001b[1;33m[\u001b[0m\u001b[0mname\u001b[0m\u001b[1;33m]\u001b[0m\u001b[1;33m\u001b[0m\u001b[1;33m\u001b[0m\u001b[0m\n\u001b[1;32m-> 5274\u001b[1;33m             \u001b[1;32mreturn\u001b[0m \u001b[0mobject\u001b[0m\u001b[1;33m.\u001b[0m\u001b[0m__getattribute__\u001b[0m\u001b[1;33m(\u001b[0m\u001b[0mself\u001b[0m\u001b[1;33m,\u001b[0m \u001b[0mname\u001b[0m\u001b[1;33m)\u001b[0m\u001b[1;33m\u001b[0m\u001b[1;33m\u001b[0m\u001b[0m\n\u001b[0m\u001b[0;32m   5275\u001b[0m \u001b[1;33m\u001b[0m\u001b[0m\n\u001b[0;32m   5276\u001b[0m     \u001b[1;32mdef\u001b[0m \u001b[0m__setattr__\u001b[0m\u001b[1;33m(\u001b[0m\u001b[0mself\u001b[0m\u001b[1;33m,\u001b[0m \u001b[0mname\u001b[0m\u001b[1;33m:\u001b[0m \u001b[0mstr\u001b[0m\u001b[1;33m,\u001b[0m \u001b[0mvalue\u001b[0m\u001b[1;33m)\u001b[0m \u001b[1;33m->\u001b[0m \u001b[1;32mNone\u001b[0m\u001b[1;33m:\u001b[0m\u001b[1;33m\u001b[0m\u001b[1;33m\u001b[0m\u001b[0m\n",
      "\u001b[1;31mAttributeError\u001b[0m: 'DataFrame' object has no attribute 'Scenario'"
     ]
    }
   ],
   "source": [
    "# State analysis\n",
    "# Create pivot table to interpret state-based poverty effects\n",
    "state_pov[\"sim\"] = state_pov.Scenario+np.where(state_pov.ca,\"ca\",\"cc\") \n",
    "state_pov = poverty_rate_state.pivot_table(\n",
    "    values=\"poverty_rate\", index=\"state\", columns=[\"sim\"]\n",
    ")\n",
    "state_pov = state_pov.reset_index()"
   ]
  },
  {
   "cell_type": "code",
   "execution_count": 85,
   "metadata": {},
   "outputs": [
    {
     "output_type": "display_data",
     "data": {
      "application/vnd.plotly.v1+json": {
       "config": {
        "plotlyServerURL": "https://plot.ly"
       },
       "data": [
        {
         "coloraxis": "coloraxis",
         "geo": "geo",
         "hovertemplate": "locations=%{location}<br>color=%{z}<extra></extra>",
         "locationmode": "USA-states",
         "locations": [
          "AL",
          "AK",
          "AZ",
          "AR",
          "CA",
          "CO",
          "CT",
          "DE",
          "DC",
          "FL",
          "GA",
          "HI",
          "ID",
          "IL",
          "IN",
          "IA",
          "KS",
          "KY",
          "LA",
          "ME",
          "MD",
          "MA",
          "MI",
          "MN",
          "MS",
          "MO",
          "MT",
          "NE",
          "NV",
          "NH",
          "NJ",
          "NM",
          "NY",
          "NC",
          "ND",
          "OH",
          "OK",
          "OR",
          "PA",
          "RI",
          "SC",
          "SD",
          "TN",
          "TX",
          "UT",
          "VT",
          "VA",
          "WA",
          "WV",
          "WI",
          "WY"
         ],
         "name": "",
         "type": "choropleth",
         "z": [
          0.1274675316024288,
          0.13296538091564983,
          0.1197013633247436,
          0.1309867286072234,
          0.17417376602940376,
          0.11694386623463278,
          0.11333214485563171,
          0.10591057082523243,
          0.1697714820219606,
          0.15960132499272248,
          0.1366598489795401,
          0.13770336727088037,
          0.0830939708189214,
          0.11395750033990854,
          0.10398133396653317,
          0.07451851688968036,
          0.07530183766782235,
          0.11228816290372728,
          0.16558287385678416,
          0.09394095502889012,
          0.12485607495081787,
          0.11491808753657472,
          0.10054960473230391,
          0.06554974569157729,
          0.1540123942318331,
          0.08893211658063274,
          0.09021012186999021,
          0.09135179935220947,
          0.13546160877060204,
          0.08466561345826472,
          0.12982180547919372,
          0.13600144369027178,
          0.15184568603282375,
          0.13584120376487355,
          0.09588081828102407,
          0.10337560487016047,
          0.10682639012207354,
          0.1125261006727071,
          0.11148423402371234,
          0.08104875258629154,
          0.133160539622792,
          0.09053272262181924,
          0.11171040425070655,
          0.14066489846912983,
          0.08209155378445224,
          0.1057881742813771,
          0.11783948651924385,
          0.08374001321156047,
          0.1253993416041779,
          0.07874703594129202,
          0.10004683470974624
         ]
        }
       ],
       "layout": {
        "coloraxis": {
         "colorbar": {
          "title": {
           "text": "color"
          }
         },
         "colorscale": [
          [
           0,
           "#0d0887"
          ],
          [
           0.1111111111111111,
           "#46039f"
          ],
          [
           0.2222222222222222,
           "#7201a8"
          ],
          [
           0.3333333333333333,
           "#9c179e"
          ],
          [
           0.4444444444444444,
           "#bd3786"
          ],
          [
           0.5555555555555556,
           "#d8576b"
          ],
          [
           0.6666666666666666,
           "#ed7953"
          ],
          [
           0.7777777777777778,
           "#fb9f3a"
          ],
          [
           0.8888888888888888,
           "#fdca26"
          ],
          [
           1,
           "#f0f921"
          ]
         ]
        },
        "geo": {
         "center": {},
         "domain": {
          "x": [
           0,
           1
          ],
          "y": [
           0,
           1
          ]
         },
         "scope": "usa"
        },
        "legend": {
         "tracegroupgap": 0
        },
        "margin": {
         "t": 60
        },
        "template": {
         "data": {
          "bar": [
           {
            "error_x": {
             "color": "#2a3f5f"
            },
            "error_y": {
             "color": "#2a3f5f"
            },
            "marker": {
             "line": {
              "color": "#E5ECF6",
              "width": 0.5
             }
            },
            "type": "bar"
           }
          ],
          "barpolar": [
           {
            "marker": {
             "line": {
              "color": "#E5ECF6",
              "width": 0.5
             }
            },
            "type": "barpolar"
           }
          ],
          "carpet": [
           {
            "aaxis": {
             "endlinecolor": "#2a3f5f",
             "gridcolor": "white",
             "linecolor": "white",
             "minorgridcolor": "white",
             "startlinecolor": "#2a3f5f"
            },
            "baxis": {
             "endlinecolor": "#2a3f5f",
             "gridcolor": "white",
             "linecolor": "white",
             "minorgridcolor": "white",
             "startlinecolor": "#2a3f5f"
            },
            "type": "carpet"
           }
          ],
          "choropleth": [
           {
            "colorbar": {
             "outlinewidth": 0,
             "ticks": ""
            },
            "type": "choropleth"
           }
          ],
          "contour": [
           {
            "colorbar": {
             "outlinewidth": 0,
             "ticks": ""
            },
            "colorscale": [
             [
              0,
              "#0d0887"
             ],
             [
              0.1111111111111111,
              "#46039f"
             ],
             [
              0.2222222222222222,
              "#7201a8"
             ],
             [
              0.3333333333333333,
              "#9c179e"
             ],
             [
              0.4444444444444444,
              "#bd3786"
             ],
             [
              0.5555555555555556,
              "#d8576b"
             ],
             [
              0.6666666666666666,
              "#ed7953"
             ],
             [
              0.7777777777777778,
              "#fb9f3a"
             ],
             [
              0.8888888888888888,
              "#fdca26"
             ],
             [
              1,
              "#f0f921"
             ]
            ],
            "type": "contour"
           }
          ],
          "contourcarpet": [
           {
            "colorbar": {
             "outlinewidth": 0,
             "ticks": ""
            },
            "type": "contourcarpet"
           }
          ],
          "heatmap": [
           {
            "colorbar": {
             "outlinewidth": 0,
             "ticks": ""
            },
            "colorscale": [
             [
              0,
              "#0d0887"
             ],
             [
              0.1111111111111111,
              "#46039f"
             ],
             [
              0.2222222222222222,
              "#7201a8"
             ],
             [
              0.3333333333333333,
              "#9c179e"
             ],
             [
              0.4444444444444444,
              "#bd3786"
             ],
             [
              0.5555555555555556,
              "#d8576b"
             ],
             [
              0.6666666666666666,
              "#ed7953"
             ],
             [
              0.7777777777777778,
              "#fb9f3a"
             ],
             [
              0.8888888888888888,
              "#fdca26"
             ],
             [
              1,
              "#f0f921"
             ]
            ],
            "type": "heatmap"
           }
          ],
          "heatmapgl": [
           {
            "colorbar": {
             "outlinewidth": 0,
             "ticks": ""
            },
            "colorscale": [
             [
              0,
              "#0d0887"
             ],
             [
              0.1111111111111111,
              "#46039f"
             ],
             [
              0.2222222222222222,
              "#7201a8"
             ],
             [
              0.3333333333333333,
              "#9c179e"
             ],
             [
              0.4444444444444444,
              "#bd3786"
             ],
             [
              0.5555555555555556,
              "#d8576b"
             ],
             [
              0.6666666666666666,
              "#ed7953"
             ],
             [
              0.7777777777777778,
              "#fb9f3a"
             ],
             [
              0.8888888888888888,
              "#fdca26"
             ],
             [
              1,
              "#f0f921"
             ]
            ],
            "type": "heatmapgl"
           }
          ],
          "histogram": [
           {
            "marker": {
             "colorbar": {
              "outlinewidth": 0,
              "ticks": ""
             }
            },
            "type": "histogram"
           }
          ],
          "histogram2d": [
           {
            "colorbar": {
             "outlinewidth": 0,
             "ticks": ""
            },
            "colorscale": [
             [
              0,
              "#0d0887"
             ],
             [
              0.1111111111111111,
              "#46039f"
             ],
             [
              0.2222222222222222,
              "#7201a8"
             ],
             [
              0.3333333333333333,
              "#9c179e"
             ],
             [
              0.4444444444444444,
              "#bd3786"
             ],
             [
              0.5555555555555556,
              "#d8576b"
             ],
             [
              0.6666666666666666,
              "#ed7953"
             ],
             [
              0.7777777777777778,
              "#fb9f3a"
             ],
             [
              0.8888888888888888,
              "#fdca26"
             ],
             [
              1,
              "#f0f921"
             ]
            ],
            "type": "histogram2d"
           }
          ],
          "histogram2dcontour": [
           {
            "colorbar": {
             "outlinewidth": 0,
             "ticks": ""
            },
            "colorscale": [
             [
              0,
              "#0d0887"
             ],
             [
              0.1111111111111111,
              "#46039f"
             ],
             [
              0.2222222222222222,
              "#7201a8"
             ],
             [
              0.3333333333333333,
              "#9c179e"
             ],
             [
              0.4444444444444444,
              "#bd3786"
             ],
             [
              0.5555555555555556,
              "#d8576b"
             ],
             [
              0.6666666666666666,
              "#ed7953"
             ],
             [
              0.7777777777777778,
              "#fb9f3a"
             ],
             [
              0.8888888888888888,
              "#fdca26"
             ],
             [
              1,
              "#f0f921"
             ]
            ],
            "type": "histogram2dcontour"
           }
          ],
          "mesh3d": [
           {
            "colorbar": {
             "outlinewidth": 0,
             "ticks": ""
            },
            "type": "mesh3d"
           }
          ],
          "parcoords": [
           {
            "line": {
             "colorbar": {
              "outlinewidth": 0,
              "ticks": ""
             }
            },
            "type": "parcoords"
           }
          ],
          "pie": [
           {
            "automargin": true,
            "type": "pie"
           }
          ],
          "scatter": [
           {
            "marker": {
             "colorbar": {
              "outlinewidth": 0,
              "ticks": ""
             }
            },
            "type": "scatter"
           }
          ],
          "scatter3d": [
           {
            "line": {
             "colorbar": {
              "outlinewidth": 0,
              "ticks": ""
             }
            },
            "marker": {
             "colorbar": {
              "outlinewidth": 0,
              "ticks": ""
             }
            },
            "type": "scatter3d"
           }
          ],
          "scattercarpet": [
           {
            "marker": {
             "colorbar": {
              "outlinewidth": 0,
              "ticks": ""
             }
            },
            "type": "scattercarpet"
           }
          ],
          "scattergeo": [
           {
            "marker": {
             "colorbar": {
              "outlinewidth": 0,
              "ticks": ""
             }
            },
            "type": "scattergeo"
           }
          ],
          "scattergl": [
           {
            "marker": {
             "colorbar": {
              "outlinewidth": 0,
              "ticks": ""
             }
            },
            "type": "scattergl"
           }
          ],
          "scattermapbox": [
           {
            "marker": {
             "colorbar": {
              "outlinewidth": 0,
              "ticks": ""
             }
            },
            "type": "scattermapbox"
           }
          ],
          "scatterpolar": [
           {
            "marker": {
             "colorbar": {
              "outlinewidth": 0,
              "ticks": ""
             }
            },
            "type": "scatterpolar"
           }
          ],
          "scatterpolargl": [
           {
            "marker": {
             "colorbar": {
              "outlinewidth": 0,
              "ticks": ""
             }
            },
            "type": "scatterpolargl"
           }
          ],
          "scatterternary": [
           {
            "marker": {
             "colorbar": {
              "outlinewidth": 0,
              "ticks": ""
             }
            },
            "type": "scatterternary"
           }
          ],
          "surface": [
           {
            "colorbar": {
             "outlinewidth": 0,
             "ticks": ""
            },
            "colorscale": [
             [
              0,
              "#0d0887"
             ],
             [
              0.1111111111111111,
              "#46039f"
             ],
             [
              0.2222222222222222,
              "#7201a8"
             ],
             [
              0.3333333333333333,
              "#9c179e"
             ],
             [
              0.4444444444444444,
              "#bd3786"
             ],
             [
              0.5555555555555556,
              "#d8576b"
             ],
             [
              0.6666666666666666,
              "#ed7953"
             ],
             [
              0.7777777777777778,
              "#fb9f3a"
             ],
             [
              0.8888888888888888,
              "#fdca26"
             ],
             [
              1,
              "#f0f921"
             ]
            ],
            "type": "surface"
           }
          ],
          "table": [
           {
            "cells": {
             "fill": {
              "color": "#EBF0F8"
             },
             "line": {
              "color": "white"
             }
            },
            "header": {
             "fill": {
              "color": "#C8D4E3"
             },
             "line": {
              "color": "white"
             }
            },
            "type": "table"
           }
          ]
         },
         "layout": {
          "annotationdefaults": {
           "arrowcolor": "#2a3f5f",
           "arrowhead": 0,
           "arrowwidth": 1
          },
          "autotypenumbers": "strict",
          "coloraxis": {
           "colorbar": {
            "outlinewidth": 0,
            "ticks": ""
           }
          },
          "colorscale": {
           "diverging": [
            [
             0,
             "#8e0152"
            ],
            [
             0.1,
             "#c51b7d"
            ],
            [
             0.2,
             "#de77ae"
            ],
            [
             0.3,
             "#f1b6da"
            ],
            [
             0.4,
             "#fde0ef"
            ],
            [
             0.5,
             "#f7f7f7"
            ],
            [
             0.6,
             "#e6f5d0"
            ],
            [
             0.7,
             "#b8e186"
            ],
            [
             0.8,
             "#7fbc41"
            ],
            [
             0.9,
             "#4d9221"
            ],
            [
             1,
             "#276419"
            ]
           ],
           "sequential": [
            [
             0,
             "#0d0887"
            ],
            [
             0.1111111111111111,
             "#46039f"
            ],
            [
             0.2222222222222222,
             "#7201a8"
            ],
            [
             0.3333333333333333,
             "#9c179e"
            ],
            [
             0.4444444444444444,
             "#bd3786"
            ],
            [
             0.5555555555555556,
             "#d8576b"
            ],
            [
             0.6666666666666666,
             "#ed7953"
            ],
            [
             0.7777777777777778,
             "#fb9f3a"
            ],
            [
             0.8888888888888888,
             "#fdca26"
            ],
            [
             1,
             "#f0f921"
            ]
           ],
           "sequentialminus": [
            [
             0,
             "#0d0887"
            ],
            [
             0.1111111111111111,
             "#46039f"
            ],
            [
             0.2222222222222222,
             "#7201a8"
            ],
            [
             0.3333333333333333,
             "#9c179e"
            ],
            [
             0.4444444444444444,
             "#bd3786"
            ],
            [
             0.5555555555555556,
             "#d8576b"
            ],
            [
             0.6666666666666666,
             "#ed7953"
            ],
            [
             0.7777777777777778,
             "#fb9f3a"
            ],
            [
             0.8888888888888888,
             "#fdca26"
            ],
            [
             1,
             "#f0f921"
            ]
           ]
          },
          "colorway": [
           "#636efa",
           "#EF553B",
           "#00cc96",
           "#ab63fa",
           "#FFA15A",
           "#19d3f3",
           "#FF6692",
           "#B6E880",
           "#FF97FF",
           "#FECB52"
          ],
          "font": {
           "color": "#2a3f5f"
          },
          "geo": {
           "bgcolor": "white",
           "lakecolor": "white",
           "landcolor": "#E5ECF6",
           "showlakes": true,
           "showland": true,
           "subunitcolor": "white"
          },
          "hoverlabel": {
           "align": "left"
          },
          "hovermode": "closest",
          "mapbox": {
           "style": "light"
          },
          "paper_bgcolor": "white",
          "plot_bgcolor": "#E5ECF6",
          "polar": {
           "angularaxis": {
            "gridcolor": "white",
            "linecolor": "white",
            "ticks": ""
           },
           "bgcolor": "#E5ECF6",
           "radialaxis": {
            "gridcolor": "white",
            "linecolor": "white",
            "ticks": ""
           }
          },
          "scene": {
           "xaxis": {
            "backgroundcolor": "#E5ECF6",
            "gridcolor": "white",
            "gridwidth": 2,
            "linecolor": "white",
            "showbackground": true,
            "ticks": "",
            "zerolinecolor": "white"
           },
           "yaxis": {
            "backgroundcolor": "#E5ECF6",
            "gridcolor": "white",
            "gridwidth": 2,
            "linecolor": "white",
            "showbackground": true,
            "ticks": "",
            "zerolinecolor": "white"
           },
           "zaxis": {
            "backgroundcolor": "#E5ECF6",
            "gridcolor": "white",
            "gridwidth": 2,
            "linecolor": "white",
            "showbackground": true,
            "ticks": "",
            "zerolinecolor": "white"
           }
          },
          "shapedefaults": {
           "line": {
            "color": "#2a3f5f"
           }
          },
          "ternary": {
           "aaxis": {
            "gridcolor": "white",
            "linecolor": "white",
            "ticks": ""
           },
           "baxis": {
            "gridcolor": "white",
            "linecolor": "white",
            "ticks": ""
           },
           "bgcolor": "#E5ECF6",
           "caxis": {
            "gridcolor": "white",
            "linecolor": "white",
            "ticks": ""
           }
          },
          "title": {
           "x": 0.05
          },
          "xaxis": {
           "automargin": true,
           "gridcolor": "white",
           "linecolor": "white",
           "ticks": "",
           "title": {
            "standoff": 15
           },
           "zerolinecolor": "white",
           "zerolinewidth": 2
          },
          "yaxis": {
           "automargin": true,
           "gridcolor": "white",
           "linecolor": "white",
           "ticks": "",
           "title": {
            "standoff": 15
           },
           "zerolinecolor": "white",
           "zerolinewidth": 2
          }
         }
        }
       }
      }
     },
     "metadata": {}
    }
   ],
   "source": [
    "# State analysis\n",
    "# Create pivot table to interpret state-based poverty effects\n",
    "state_pov = poverty_rate_state.pivot_table(\n",
    "    values=\"poverty_rate\", index=\"state\", columns=[\"sim\"]\n",
    ").reset_index()\n",
    "\n",
    "us_state_abbrev = {\n",
    "    'Alabama': 'AL',\n",
    "    'Alaska': 'AK',\n",
    "    'American Samoa': 'AS',\n",
    "    'Arizona': 'AZ',\n",
    "    'Arkansas': 'AR',\n",
    "    'California': 'CA',\n",
    "    'Colorado': 'CO',\n",
    "    'Connecticut': 'CT',\n",
    "    'Delaware': 'DE',\n",
    "    'District of Columbia': 'DC',\n",
    "    'Florida': 'FL',\n",
    "    'Georgia': 'GA',\n",
    "    'Guam': 'GU',\n",
    "    'Hawaii': 'HI',\n",
    "    'Idaho': 'ID',\n",
    "    'Illinois': 'IL',\n",
    "    'Indiana': 'IN',\n",
    "    'Iowa': 'IA',\n",
    "    'Kansas': 'KS',\n",
    "    'Kentucky': 'KY',\n",
    "    'Louisiana': 'LA',\n",
    "    'Maine': 'ME',\n",
    "    'Maryland': 'MD',\n",
    "    'Massachusetts': 'MA',\n",
    "    'Michigan': 'MI',\n",
    "    'Minnesota': 'MN',\n",
    "    'Mississippi': 'MS',\n",
    "    'Missouri': 'MO',\n",
    "    'Montana': 'MT',\n",
    "    'Nebraska': 'NE',\n",
    "    'Nevada': 'NV',\n",
    "    'New Hampshire': 'NH',\n",
    "    'New Jersey': 'NJ',\n",
    "    'New Mexico': 'NM',\n",
    "    'New York': 'NY',\n",
    "    'North Carolina': 'NC',\n",
    "    'North Dakota': 'ND',\n",
    "    'Northern Mariana Islands':'MP',\n",
    "    'Ohio': 'OH',\n",
    "    'Oklahoma': 'OK',\n",
    "    'Oregon': 'OR',\n",
    "    'Pennsylvania': 'PA',\n",
    "    'Puerto Rico': 'PR',\n",
    "    'Rhode Island': 'RI',\n",
    "    'South Carolina': 'SC',\n",
    "    'South Dakota': 'SD',\n",
    "    'Tennessee': 'TN',\n",
    "    'Texas': 'TX',\n",
    "    'Utah': 'UT',\n",
    "    'Vermont': 'VT',\n",
    "    'Virgin Islands': 'VI',\n",
    "    'Virginia': 'VA',\n",
    "    'Washington': 'WA',\n",
    "    'West Virginia': 'WV',\n",
    "    'Wisconsin': 'WI',\n",
    "    'Wyoming': 'WY'\n",
    "}\n",
    "state_pov[\"state_code\"]= state_pov.state.map(us_state_abbrev)\n",
    "px.choropleth(locations=state_pov.state_code,locationmode=\"USA-states\",color=state_pov.baseline,scope=\"usa\")"
   ]
  },
  {
   "cell_type": "code",
   "execution_count": 86,
   "metadata": {},
   "outputs": [
    {
     "output_type": "execute_result",
     "data": {
      "text/plain": [
       "sim                 state  baseline   high_ca  high_xpns    low_ca  low_xpns  \\\n",
       "0                 Alabama  0.127468  0.100755   0.102628  0.105218  0.107343   \n",
       "1                  Alaska  0.132965  0.096226   0.094711  0.106835  0.103367   \n",
       "2                 Arizona  0.119701  0.090579   0.090913  0.094243  0.096930   \n",
       "3                Arkansas  0.130987  0.102164   0.103000  0.106633  0.108480   \n",
       "4              California  0.174174  0.137809   0.136286  0.147043  0.144813   \n",
       "5                Colorado  0.116944  0.093067   0.093067  0.098470  0.098470   \n",
       "6             Connecticut  0.113332  0.087728   0.087151  0.093475  0.090861   \n",
       "7                Delaware  0.105911  0.086105   0.086105  0.089422  0.089422   \n",
       "8    District of Columbia  0.169771  0.143431   0.142059  0.146682  0.144321   \n",
       "9                 Florida  0.159601  0.128967   0.129471  0.134594  0.137851   \n",
       "10                Georgia  0.136660  0.102079   0.103916  0.111362  0.115714   \n",
       "11                 Hawaii  0.137703  0.105912   0.106934  0.113718  0.114671   \n",
       "12                  Idaho  0.083094  0.063248   0.063712  0.066412  0.067773   \n",
       "13               Illinois  0.113958  0.088773   0.088246  0.092903  0.092483   \n",
       "14                Indiana  0.103981  0.074993   0.075486  0.079778  0.080929   \n",
       "15                   Iowa  0.074519  0.054115   0.054115  0.060506  0.060009   \n",
       "16                 Kansas  0.075302  0.061785   0.063359  0.067040  0.067040   \n",
       "17               Kentucky  0.112288  0.093835   0.095469  0.097761  0.099750   \n",
       "18              Louisiana  0.165583  0.125102   0.126427  0.131179  0.135634   \n",
       "19                  Maine  0.093941  0.075444   0.076305  0.081033  0.078120   \n",
       "20               Maryland  0.124856  0.104525   0.104525  0.109530  0.107916   \n",
       "21          Massachusetts  0.114918  0.098308   0.097114  0.100061  0.099433   \n",
       "22               Michigan  0.100550  0.079346   0.079346  0.082095  0.083363   \n",
       "23              Minnesota  0.065550  0.054778   0.054521  0.055305  0.055305   \n",
       "24            Mississippi  0.154012  0.118603   0.123675  0.126254  0.125754   \n",
       "25               Missouri  0.088932  0.070995   0.071937  0.072402  0.072402   \n",
       "26                Montana  0.090210  0.073139   0.073139  0.076842  0.077429   \n",
       "27               Nebraska  0.091352  0.070197   0.070669  0.074408  0.072895   \n",
       "28                 Nevada  0.135462  0.105098   0.105098  0.111938  0.112717   \n",
       "29          New Hampshire  0.084666  0.064278   0.064278  0.068484  0.070178   \n",
       "30             New Jersey  0.129822  0.105881   0.105103  0.110667  0.109789   \n",
       "31             New Mexico  0.136001  0.104763   0.105372  0.109278  0.111960   \n",
       "32               New York  0.151846  0.120311   0.116787  0.128748  0.123536   \n",
       "33         North Carolina  0.135841  0.101767   0.102829  0.106330  0.108885   \n",
       "34           North Dakota  0.095881  0.073530   0.073530  0.077073  0.078392   \n",
       "35                   Ohio  0.103376  0.078988   0.078988  0.081802  0.082338   \n",
       "36               Oklahoma  0.106826  0.082145   0.085099  0.087992  0.087992   \n",
       "37                 Oregon  0.112526  0.094185   0.093767  0.096986  0.096007   \n",
       "38           Pennsylvania  0.111484  0.085566   0.085566  0.092980  0.092177   \n",
       "39           Rhode Island  0.081049  0.062024   0.061323  0.066646  0.065075   \n",
       "40         South Carolina  0.133161  0.108580   0.109477  0.110596  0.112700   \n",
       "41           South Dakota  0.090533  0.069826   0.070910  0.075886  0.076672   \n",
       "42              Tennessee  0.111710  0.086972   0.086972  0.090526  0.090526   \n",
       "43                  Texas  0.140665  0.102431   0.104464  0.111349  0.114590   \n",
       "44                   Utah  0.082092  0.063651   0.064585  0.069901  0.069901   \n",
       "45                Vermont  0.105788  0.092524   0.092524  0.093982  0.093598   \n",
       "46               Virginia  0.117839  0.089849   0.089638  0.095879  0.095232   \n",
       "47             Washington  0.083740  0.064748   0.064484  0.068218  0.067930   \n",
       "48          West Virginia  0.125399  0.100213   0.101613  0.105274  0.105566   \n",
       "49              Wisconsin  0.078747  0.060932   0.060932  0.063832  0.063832   \n",
       "50                Wyoming  0.100047  0.076010   0.075421  0.080404  0.077119   \n",
       "\n",
       "sim  replace_ca  replace_xpns state_code  \n",
       "0      0.120791      0.126259         AL  \n",
       "1      0.125391      0.131078         AK  \n",
       "2      0.106740      0.116080         AZ  \n",
       "3      0.120045      0.128325         AR  \n",
       "4      0.166576      0.172219         CA  \n",
       "5      0.113578      0.114349         CO  \n",
       "6      0.110628      0.111758         CT  \n",
       "7      0.097914      0.102770         DE  \n",
       "8      0.160920      0.167536         DC  \n",
       "9      0.150109      0.156689         FL  \n",
       "10     0.129246      0.134254         GA  \n",
       "11     0.128062      0.135924         HI  \n",
       "12     0.077663      0.081964         ID  \n",
       "13     0.105406      0.111418         IL  \n",
       "14     0.096494      0.102824         IN  \n",
       "15     0.069927      0.072602         IA  \n",
       "16     0.070127      0.072967         KS  \n",
       "17     0.106124      0.111472         KY  \n",
       "18     0.154244      0.162260         LA  \n",
       "19     0.089332      0.091307         ME  \n",
       "20     0.121439      0.120221         MD  \n",
       "21     0.108753      0.112259         MA  \n",
       "22     0.094052      0.099210         MI  \n",
       "23     0.061408      0.064345         MN  \n",
       "24     0.143865      0.152917         MS  \n",
       "25     0.081324      0.087982         MO  \n",
       "26     0.085664      0.088316         MT  \n",
       "27     0.083103      0.086408         NE  \n",
       "28     0.123107      0.133438         NV  \n",
       "29     0.079345      0.079382         NH  \n",
       "30     0.124276      0.126650         NJ  \n",
       "31     0.128677      0.135767         NM  \n",
       "32     0.143332      0.147671         NY  \n",
       "33     0.123163      0.133010         NC  \n",
       "34     0.088491      0.092904         ND  \n",
       "35     0.095807      0.101311         OH  \n",
       "36     0.101229      0.105936         OK  \n",
       "37     0.105006      0.110430         OR  \n",
       "38     0.105990      0.109140         PA  \n",
       "39     0.078376      0.080227         RI  \n",
       "40     0.123233      0.129451         SC  \n",
       "41     0.085615      0.089885         SD  \n",
       "42     0.103327      0.109491         TN  \n",
       "43     0.131118      0.136442         TX  \n",
       "44     0.076899      0.080179         UT  \n",
       "45     0.100875      0.102500         VT  \n",
       "46     0.109017      0.112749         VA  \n",
       "47     0.078328      0.082462         WA  \n",
       "48     0.116789      0.123743         WV  \n",
       "49     0.072476      0.077000         WI  \n",
       "50     0.092544      0.099021         WY  "
      ],
      "text/html": "<div>\n<style scoped>\n    .dataframe tbody tr th:only-of-type {\n        vertical-align: middle;\n    }\n\n    .dataframe tbody tr th {\n        vertical-align: top;\n    }\n\n    .dataframe thead th {\n        text-align: right;\n    }\n</style>\n<table border=\"1\" class=\"dataframe\">\n  <thead>\n    <tr style=\"text-align: right;\">\n      <th>sim</th>\n      <th>state</th>\n      <th>baseline</th>\n      <th>high_ca</th>\n      <th>high_xpns</th>\n      <th>low_ca</th>\n      <th>low_xpns</th>\n      <th>replace_ca</th>\n      <th>replace_xpns</th>\n      <th>state_code</th>\n    </tr>\n  </thead>\n  <tbody>\n    <tr>\n      <th>0</th>\n      <td>Alabama</td>\n      <td>0.127468</td>\n      <td>0.100755</td>\n      <td>0.102628</td>\n      <td>0.105218</td>\n      <td>0.107343</td>\n      <td>0.120791</td>\n      <td>0.126259</td>\n      <td>AL</td>\n    </tr>\n    <tr>\n      <th>1</th>\n      <td>Alaska</td>\n      <td>0.132965</td>\n      <td>0.096226</td>\n      <td>0.094711</td>\n      <td>0.106835</td>\n      <td>0.103367</td>\n      <td>0.125391</td>\n      <td>0.131078</td>\n      <td>AK</td>\n    </tr>\n    <tr>\n      <th>2</th>\n      <td>Arizona</td>\n      <td>0.119701</td>\n      <td>0.090579</td>\n      <td>0.090913</td>\n      <td>0.094243</td>\n      <td>0.096930</td>\n      <td>0.106740</td>\n      <td>0.116080</td>\n      <td>AZ</td>\n    </tr>\n    <tr>\n      <th>3</th>\n      <td>Arkansas</td>\n      <td>0.130987</td>\n      <td>0.102164</td>\n      <td>0.103000</td>\n      <td>0.106633</td>\n      <td>0.108480</td>\n      <td>0.120045</td>\n      <td>0.128325</td>\n      <td>AR</td>\n    </tr>\n    <tr>\n      <th>4</th>\n      <td>California</td>\n      <td>0.174174</td>\n      <td>0.137809</td>\n      <td>0.136286</td>\n      <td>0.147043</td>\n      <td>0.144813</td>\n      <td>0.166576</td>\n      <td>0.172219</td>\n      <td>CA</td>\n    </tr>\n    <tr>\n      <th>5</th>\n      <td>Colorado</td>\n      <td>0.116944</td>\n      <td>0.093067</td>\n      <td>0.093067</td>\n      <td>0.098470</td>\n      <td>0.098470</td>\n      <td>0.113578</td>\n      <td>0.114349</td>\n      <td>CO</td>\n    </tr>\n    <tr>\n      <th>6</th>\n      <td>Connecticut</td>\n      <td>0.113332</td>\n      <td>0.087728</td>\n      <td>0.087151</td>\n      <td>0.093475</td>\n      <td>0.090861</td>\n      <td>0.110628</td>\n      <td>0.111758</td>\n      <td>CT</td>\n    </tr>\n    <tr>\n      <th>7</th>\n      <td>Delaware</td>\n      <td>0.105911</td>\n      <td>0.086105</td>\n      <td>0.086105</td>\n      <td>0.089422</td>\n      <td>0.089422</td>\n      <td>0.097914</td>\n      <td>0.102770</td>\n      <td>DE</td>\n    </tr>\n    <tr>\n      <th>8</th>\n      <td>District of Columbia</td>\n      <td>0.169771</td>\n      <td>0.143431</td>\n      <td>0.142059</td>\n      <td>0.146682</td>\n      <td>0.144321</td>\n      <td>0.160920</td>\n      <td>0.167536</td>\n      <td>DC</td>\n    </tr>\n    <tr>\n      <th>9</th>\n      <td>Florida</td>\n      <td>0.159601</td>\n      <td>0.128967</td>\n      <td>0.129471</td>\n      <td>0.134594</td>\n      <td>0.137851</td>\n      <td>0.150109</td>\n      <td>0.156689</td>\n      <td>FL</td>\n    </tr>\n    <tr>\n      <th>10</th>\n      <td>Georgia</td>\n      <td>0.136660</td>\n      <td>0.102079</td>\n      <td>0.103916</td>\n      <td>0.111362</td>\n      <td>0.115714</td>\n      <td>0.129246</td>\n      <td>0.134254</td>\n      <td>GA</td>\n    </tr>\n    <tr>\n      <th>11</th>\n      <td>Hawaii</td>\n      <td>0.137703</td>\n      <td>0.105912</td>\n      <td>0.106934</td>\n      <td>0.113718</td>\n      <td>0.114671</td>\n      <td>0.128062</td>\n      <td>0.135924</td>\n      <td>HI</td>\n    </tr>\n    <tr>\n      <th>12</th>\n      <td>Idaho</td>\n      <td>0.083094</td>\n      <td>0.063248</td>\n      <td>0.063712</td>\n      <td>0.066412</td>\n      <td>0.067773</td>\n      <td>0.077663</td>\n      <td>0.081964</td>\n      <td>ID</td>\n    </tr>\n    <tr>\n      <th>13</th>\n      <td>Illinois</td>\n      <td>0.113958</td>\n      <td>0.088773</td>\n      <td>0.088246</td>\n      <td>0.092903</td>\n      <td>0.092483</td>\n      <td>0.105406</td>\n      <td>0.111418</td>\n      <td>IL</td>\n    </tr>\n    <tr>\n      <th>14</th>\n      <td>Indiana</td>\n      <td>0.103981</td>\n      <td>0.074993</td>\n      <td>0.075486</td>\n      <td>0.079778</td>\n      <td>0.080929</td>\n      <td>0.096494</td>\n      <td>0.102824</td>\n      <td>IN</td>\n    </tr>\n    <tr>\n      <th>15</th>\n      <td>Iowa</td>\n      <td>0.074519</td>\n      <td>0.054115</td>\n      <td>0.054115</td>\n      <td>0.060506</td>\n      <td>0.060009</td>\n      <td>0.069927</td>\n      <td>0.072602</td>\n      <td>IA</td>\n    </tr>\n    <tr>\n      <th>16</th>\n      <td>Kansas</td>\n      <td>0.075302</td>\n      <td>0.061785</td>\n      <td>0.063359</td>\n      <td>0.067040</td>\n      <td>0.067040</td>\n      <td>0.070127</td>\n      <td>0.072967</td>\n      <td>KS</td>\n    </tr>\n    <tr>\n      <th>17</th>\n      <td>Kentucky</td>\n      <td>0.112288</td>\n      <td>0.093835</td>\n      <td>0.095469</td>\n      <td>0.097761</td>\n      <td>0.099750</td>\n      <td>0.106124</td>\n      <td>0.111472</td>\n      <td>KY</td>\n    </tr>\n    <tr>\n      <th>18</th>\n      <td>Louisiana</td>\n      <td>0.165583</td>\n      <td>0.125102</td>\n      <td>0.126427</td>\n      <td>0.131179</td>\n      <td>0.135634</td>\n      <td>0.154244</td>\n      <td>0.162260</td>\n      <td>LA</td>\n    </tr>\n    <tr>\n      <th>19</th>\n      <td>Maine</td>\n      <td>0.093941</td>\n      <td>0.075444</td>\n      <td>0.076305</td>\n      <td>0.081033</td>\n      <td>0.078120</td>\n      <td>0.089332</td>\n      <td>0.091307</td>\n      <td>ME</td>\n    </tr>\n    <tr>\n      <th>20</th>\n      <td>Maryland</td>\n      <td>0.124856</td>\n      <td>0.104525</td>\n      <td>0.104525</td>\n      <td>0.109530</td>\n      <td>0.107916</td>\n      <td>0.121439</td>\n      <td>0.120221</td>\n      <td>MD</td>\n    </tr>\n    <tr>\n      <th>21</th>\n      <td>Massachusetts</td>\n      <td>0.114918</td>\n      <td>0.098308</td>\n      <td>0.097114</td>\n      <td>0.100061</td>\n      <td>0.099433</td>\n      <td>0.108753</td>\n      <td>0.112259</td>\n      <td>MA</td>\n    </tr>\n    <tr>\n      <th>22</th>\n      <td>Michigan</td>\n      <td>0.100550</td>\n      <td>0.079346</td>\n      <td>0.079346</td>\n      <td>0.082095</td>\n      <td>0.083363</td>\n      <td>0.094052</td>\n      <td>0.099210</td>\n      <td>MI</td>\n    </tr>\n    <tr>\n      <th>23</th>\n      <td>Minnesota</td>\n      <td>0.065550</td>\n      <td>0.054778</td>\n      <td>0.054521</td>\n      <td>0.055305</td>\n      <td>0.055305</td>\n      <td>0.061408</td>\n      <td>0.064345</td>\n      <td>MN</td>\n    </tr>\n    <tr>\n      <th>24</th>\n      <td>Mississippi</td>\n      <td>0.154012</td>\n      <td>0.118603</td>\n      <td>0.123675</td>\n      <td>0.126254</td>\n      <td>0.125754</td>\n      <td>0.143865</td>\n      <td>0.152917</td>\n      <td>MS</td>\n    </tr>\n    <tr>\n      <th>25</th>\n      <td>Missouri</td>\n      <td>0.088932</td>\n      <td>0.070995</td>\n      <td>0.071937</td>\n      <td>0.072402</td>\n      <td>0.072402</td>\n      <td>0.081324</td>\n      <td>0.087982</td>\n      <td>MO</td>\n    </tr>\n    <tr>\n      <th>26</th>\n      <td>Montana</td>\n      <td>0.090210</td>\n      <td>0.073139</td>\n      <td>0.073139</td>\n      <td>0.076842</td>\n      <td>0.077429</td>\n      <td>0.085664</td>\n      <td>0.088316</td>\n      <td>MT</td>\n    </tr>\n    <tr>\n      <th>27</th>\n      <td>Nebraska</td>\n      <td>0.091352</td>\n      <td>0.070197</td>\n      <td>0.070669</td>\n      <td>0.074408</td>\n      <td>0.072895</td>\n      <td>0.083103</td>\n      <td>0.086408</td>\n      <td>NE</td>\n    </tr>\n    <tr>\n      <th>28</th>\n      <td>Nevada</td>\n      <td>0.135462</td>\n      <td>0.105098</td>\n      <td>0.105098</td>\n      <td>0.111938</td>\n      <td>0.112717</td>\n      <td>0.123107</td>\n      <td>0.133438</td>\n      <td>NV</td>\n    </tr>\n    <tr>\n      <th>29</th>\n      <td>New Hampshire</td>\n      <td>0.084666</td>\n      <td>0.064278</td>\n      <td>0.064278</td>\n      <td>0.068484</td>\n      <td>0.070178</td>\n      <td>0.079345</td>\n      <td>0.079382</td>\n      <td>NH</td>\n    </tr>\n    <tr>\n      <th>30</th>\n      <td>New Jersey</td>\n      <td>0.129822</td>\n      <td>0.105881</td>\n      <td>0.105103</td>\n      <td>0.110667</td>\n      <td>0.109789</td>\n      <td>0.124276</td>\n      <td>0.126650</td>\n      <td>NJ</td>\n    </tr>\n    <tr>\n      <th>31</th>\n      <td>New Mexico</td>\n      <td>0.136001</td>\n      <td>0.104763</td>\n      <td>0.105372</td>\n      <td>0.109278</td>\n      <td>0.111960</td>\n      <td>0.128677</td>\n      <td>0.135767</td>\n      <td>NM</td>\n    </tr>\n    <tr>\n      <th>32</th>\n      <td>New York</td>\n      <td>0.151846</td>\n      <td>0.120311</td>\n      <td>0.116787</td>\n      <td>0.128748</td>\n      <td>0.123536</td>\n      <td>0.143332</td>\n      <td>0.147671</td>\n      <td>NY</td>\n    </tr>\n    <tr>\n      <th>33</th>\n      <td>North Carolina</td>\n      <td>0.135841</td>\n      <td>0.101767</td>\n      <td>0.102829</td>\n      <td>0.106330</td>\n      <td>0.108885</td>\n      <td>0.123163</td>\n      <td>0.133010</td>\n      <td>NC</td>\n    </tr>\n    <tr>\n      <th>34</th>\n      <td>North Dakota</td>\n      <td>0.095881</td>\n      <td>0.073530</td>\n      <td>0.073530</td>\n      <td>0.077073</td>\n      <td>0.078392</td>\n      <td>0.088491</td>\n      <td>0.092904</td>\n      <td>ND</td>\n    </tr>\n    <tr>\n      <th>35</th>\n      <td>Ohio</td>\n      <td>0.103376</td>\n      <td>0.078988</td>\n      <td>0.078988</td>\n      <td>0.081802</td>\n      <td>0.082338</td>\n      <td>0.095807</td>\n      <td>0.101311</td>\n      <td>OH</td>\n    </tr>\n    <tr>\n      <th>36</th>\n      <td>Oklahoma</td>\n      <td>0.106826</td>\n      <td>0.082145</td>\n      <td>0.085099</td>\n      <td>0.087992</td>\n      <td>0.087992</td>\n      <td>0.101229</td>\n      <td>0.105936</td>\n      <td>OK</td>\n    </tr>\n    <tr>\n      <th>37</th>\n      <td>Oregon</td>\n      <td>0.112526</td>\n      <td>0.094185</td>\n      <td>0.093767</td>\n      <td>0.096986</td>\n      <td>0.096007</td>\n      <td>0.105006</td>\n      <td>0.110430</td>\n      <td>OR</td>\n    </tr>\n    <tr>\n      <th>38</th>\n      <td>Pennsylvania</td>\n      <td>0.111484</td>\n      <td>0.085566</td>\n      <td>0.085566</td>\n      <td>0.092980</td>\n      <td>0.092177</td>\n      <td>0.105990</td>\n      <td>0.109140</td>\n      <td>PA</td>\n    </tr>\n    <tr>\n      <th>39</th>\n      <td>Rhode Island</td>\n      <td>0.081049</td>\n      <td>0.062024</td>\n      <td>0.061323</td>\n      <td>0.066646</td>\n      <td>0.065075</td>\n      <td>0.078376</td>\n      <td>0.080227</td>\n      <td>RI</td>\n    </tr>\n    <tr>\n      <th>40</th>\n      <td>South Carolina</td>\n      <td>0.133161</td>\n      <td>0.108580</td>\n      <td>0.109477</td>\n      <td>0.110596</td>\n      <td>0.112700</td>\n      <td>0.123233</td>\n      <td>0.129451</td>\n      <td>SC</td>\n    </tr>\n    <tr>\n      <th>41</th>\n      <td>South Dakota</td>\n      <td>0.090533</td>\n      <td>0.069826</td>\n      <td>0.070910</td>\n      <td>0.075886</td>\n      <td>0.076672</td>\n      <td>0.085615</td>\n      <td>0.089885</td>\n      <td>SD</td>\n    </tr>\n    <tr>\n      <th>42</th>\n      <td>Tennessee</td>\n      <td>0.111710</td>\n      <td>0.086972</td>\n      <td>0.086972</td>\n      <td>0.090526</td>\n      <td>0.090526</td>\n      <td>0.103327</td>\n      <td>0.109491</td>\n      <td>TN</td>\n    </tr>\n    <tr>\n      <th>43</th>\n      <td>Texas</td>\n      <td>0.140665</td>\n      <td>0.102431</td>\n      <td>0.104464</td>\n      <td>0.111349</td>\n      <td>0.114590</td>\n      <td>0.131118</td>\n      <td>0.136442</td>\n      <td>TX</td>\n    </tr>\n    <tr>\n      <th>44</th>\n      <td>Utah</td>\n      <td>0.082092</td>\n      <td>0.063651</td>\n      <td>0.064585</td>\n      <td>0.069901</td>\n      <td>0.069901</td>\n      <td>0.076899</td>\n      <td>0.080179</td>\n      <td>UT</td>\n    </tr>\n    <tr>\n      <th>45</th>\n      <td>Vermont</td>\n      <td>0.105788</td>\n      <td>0.092524</td>\n      <td>0.092524</td>\n      <td>0.093982</td>\n      <td>0.093598</td>\n      <td>0.100875</td>\n      <td>0.102500</td>\n      <td>VT</td>\n    </tr>\n    <tr>\n      <th>46</th>\n      <td>Virginia</td>\n      <td>0.117839</td>\n      <td>0.089849</td>\n      <td>0.089638</td>\n      <td>0.095879</td>\n      <td>0.095232</td>\n      <td>0.109017</td>\n      <td>0.112749</td>\n      <td>VA</td>\n    </tr>\n    <tr>\n      <th>47</th>\n      <td>Washington</td>\n      <td>0.083740</td>\n      <td>0.064748</td>\n      <td>0.064484</td>\n      <td>0.068218</td>\n      <td>0.067930</td>\n      <td>0.078328</td>\n      <td>0.082462</td>\n      <td>WA</td>\n    </tr>\n    <tr>\n      <th>48</th>\n      <td>West Virginia</td>\n      <td>0.125399</td>\n      <td>0.100213</td>\n      <td>0.101613</td>\n      <td>0.105274</td>\n      <td>0.105566</td>\n      <td>0.116789</td>\n      <td>0.123743</td>\n      <td>WV</td>\n    </tr>\n    <tr>\n      <th>49</th>\n      <td>Wisconsin</td>\n      <td>0.078747</td>\n      <td>0.060932</td>\n      <td>0.060932</td>\n      <td>0.063832</td>\n      <td>0.063832</td>\n      <td>0.072476</td>\n      <td>0.077000</td>\n      <td>WI</td>\n    </tr>\n    <tr>\n      <th>50</th>\n      <td>Wyoming</td>\n      <td>0.100047</td>\n      <td>0.076010</td>\n      <td>0.075421</td>\n      <td>0.080404</td>\n      <td>0.077119</td>\n      <td>0.092544</td>\n      <td>0.099021</td>\n      <td>WY</td>\n    </tr>\n  </tbody>\n</table>\n</div>"
     },
     "metadata": {},
     "execution_count": 86
    }
   ],
   "source": [
    "state_pov"
   ]
  },
  {
   "cell_type": "code",
   "execution_count": 104,
   "metadata": {},
   "outputs": [
    {
     "output_type": "display_data",
     "data": {
      "application/vnd.plotly.v1+json": {
       "config": {
        "displayModeBar": false,
        "plotlyServerURL": "https://plot.ly"
       },
       "data": [
        {
         "coloraxis": "coloraxis",
         "geo": "geo",
         "hovertemplate": "locations=%{location}<br>color=%{z}<extra></extra>",
         "locationmode": "USA-states",
         "locations": [
          "AL",
          "AK",
          "AZ",
          "AR",
          "CA",
          "CO",
          "CT",
          "DE",
          "DC",
          "FL",
          "GA",
          "HI",
          "ID",
          "IL",
          "IN",
          "IA",
          "KS",
          "KY",
          "LA",
          "ME",
          "MD",
          "MA",
          "MI",
          "MN",
          "MS",
          "MO",
          "MT",
          "NE",
          "NV",
          "NH",
          "NJ",
          "NM",
          "NY",
          "NC",
          "ND",
          "OH",
          "OK",
          "OR",
          "PA",
          "RI",
          "SC",
          "SD",
          "TN",
          "TX",
          "UT",
          "VT",
          "VA",
          "WA",
          "WV",
          "WI",
          "WY"
         ],
         "name": "",
         "type": "choropleth",
         "z": [
          7.543353733216079,
          -3.9584301074481796,
          1.1588148700409497,
          2.9864711362750573,
          -4.021091178033274,
          0,
          -2.2035821709041907,
          0,
          -4.951241993530277,
          1.6737108362163107,
          5.6081727652951905,
          3.3190361243747684,
          2.3933754142095123,
          -2.0470242551629463,
          1.7300551425842774,
          0,
          13.180264284684329,
          9.713942807021455,
          3.3840603324277483,
          4.8835773505027795,
          0,
          -6.704933068765613,
          0,
          -2.3250765252816783,
          16.719505296651484,
          5.5408219575720175,
          0,
          2.2843206854199574,
          0,
          0,
          -3.1448463493179735,
          1.9883416149567914,
          -10.051206441133546,
          3.21640962472491,
          0,
          0,
          13.596845720870622,
          -2.225562570589272,
          0,
          -3.55491124170349,
          3.787367761074374,
          5.522181514803373,
          0,
          5.6160100261273405,
          5.338242965241352,
          0,
          -0.750005465334069,
          -1.3720619177635558,
          5.887871613037331,
          0,
          -2.3914611611555823
         ]
        }
       ],
       "layout": {
        "coloraxis": {
         "cmax": 15,
         "cmid": 0,
         "cmin": -15,
         "colorbar": {
          "title": {
           "text": "color"
          }
         },
         "colorscale": [
          [
           0,
           "rgb(64,0,75)"
          ],
          [
           0.1,
           "rgb(118,42,131)"
          ],
          [
           0.2,
           "rgb(153,112,171)"
          ],
          [
           0.3,
           "rgb(194,165,207)"
          ],
          [
           0.4,
           "rgb(231,212,232)"
          ],
          [
           0.5,
           "rgb(247,247,247)"
          ],
          [
           0.6,
           "rgb(217,240,211)"
          ],
          [
           0.7,
           "rgb(166,219,160)"
          ],
          [
           0.8,
           "rgb(90,174,97)"
          ],
          [
           0.9,
           "rgb(27,120,55)"
          ],
          [
           1,
           "rgb(0,68,27)"
          ]
         ]
        },
        "font": {
         "family": "Roboto"
        },
        "geo": {
         "center": {},
         "domain": {
          "x": [
           0,
           1
          ],
          "y": [
           0,
           1
          ]
         },
         "scope": "usa"
        },
        "height": 600,
        "hoverlabel": {
         "align": "right"
        },
        "images": [
         {
          "sizex": 0.12,
          "sizey": 0.12,
          "source": "https://raw.githubusercontent.com/UBICenter/blog/master/jb/_static/ubi_center_logo_wide_blue.png",
          "x": 0.98,
          "xanchor": "right",
          "xref": "paper",
          "y": -0.12,
          "yanchor": "bottom",
          "yref": "paper"
         }
        ],
        "legend": {
         "tracegroupgap": 0
        },
        "margin": {
         "t": 60
        },
        "paper_bgcolor": "white",
        "plot_bgcolor": "white",
        "template": {
         "data": {
          "bar": [
           {
            "error_x": {
             "color": "#2a3f5f"
            },
            "error_y": {
             "color": "#2a3f5f"
            },
            "marker": {
             "line": {
              "color": "#E5ECF6",
              "width": 0.5
             }
            },
            "type": "bar"
           }
          ],
          "barpolar": [
           {
            "marker": {
             "line": {
              "color": "#E5ECF6",
              "width": 0.5
             }
            },
            "type": "barpolar"
           }
          ],
          "carpet": [
           {
            "aaxis": {
             "endlinecolor": "#2a3f5f",
             "gridcolor": "white",
             "linecolor": "white",
             "minorgridcolor": "white",
             "startlinecolor": "#2a3f5f"
            },
            "baxis": {
             "endlinecolor": "#2a3f5f",
             "gridcolor": "white",
             "linecolor": "white",
             "minorgridcolor": "white",
             "startlinecolor": "#2a3f5f"
            },
            "type": "carpet"
           }
          ],
          "choropleth": [
           {
            "colorbar": {
             "outlinewidth": 0,
             "ticks": ""
            },
            "type": "choropleth"
           }
          ],
          "contour": [
           {
            "colorbar": {
             "outlinewidth": 0,
             "ticks": ""
            },
            "colorscale": [
             [
              0,
              "#0d0887"
             ],
             [
              0.1111111111111111,
              "#46039f"
             ],
             [
              0.2222222222222222,
              "#7201a8"
             ],
             [
              0.3333333333333333,
              "#9c179e"
             ],
             [
              0.4444444444444444,
              "#bd3786"
             ],
             [
              0.5555555555555556,
              "#d8576b"
             ],
             [
              0.6666666666666666,
              "#ed7953"
             ],
             [
              0.7777777777777778,
              "#fb9f3a"
             ],
             [
              0.8888888888888888,
              "#fdca26"
             ],
             [
              1,
              "#f0f921"
             ]
            ],
            "type": "contour"
           }
          ],
          "contourcarpet": [
           {
            "colorbar": {
             "outlinewidth": 0,
             "ticks": ""
            },
            "type": "contourcarpet"
           }
          ],
          "heatmap": [
           {
            "colorbar": {
             "outlinewidth": 0,
             "ticks": ""
            },
            "colorscale": [
             [
              0,
              "#0d0887"
             ],
             [
              0.1111111111111111,
              "#46039f"
             ],
             [
              0.2222222222222222,
              "#7201a8"
             ],
             [
              0.3333333333333333,
              "#9c179e"
             ],
             [
              0.4444444444444444,
              "#bd3786"
             ],
             [
              0.5555555555555556,
              "#d8576b"
             ],
             [
              0.6666666666666666,
              "#ed7953"
             ],
             [
              0.7777777777777778,
              "#fb9f3a"
             ],
             [
              0.8888888888888888,
              "#fdca26"
             ],
             [
              1,
              "#f0f921"
             ]
            ],
            "type": "heatmap"
           }
          ],
          "heatmapgl": [
           {
            "colorbar": {
             "outlinewidth": 0,
             "ticks": ""
            },
            "colorscale": [
             [
              0,
              "#0d0887"
             ],
             [
              0.1111111111111111,
              "#46039f"
             ],
             [
              0.2222222222222222,
              "#7201a8"
             ],
             [
              0.3333333333333333,
              "#9c179e"
             ],
             [
              0.4444444444444444,
              "#bd3786"
             ],
             [
              0.5555555555555556,
              "#d8576b"
             ],
             [
              0.6666666666666666,
              "#ed7953"
             ],
             [
              0.7777777777777778,
              "#fb9f3a"
             ],
             [
              0.8888888888888888,
              "#fdca26"
             ],
             [
              1,
              "#f0f921"
             ]
            ],
            "type": "heatmapgl"
           }
          ],
          "histogram": [
           {
            "marker": {
             "colorbar": {
              "outlinewidth": 0,
              "ticks": ""
             }
            },
            "type": "histogram"
           }
          ],
          "histogram2d": [
           {
            "colorbar": {
             "outlinewidth": 0,
             "ticks": ""
            },
            "colorscale": [
             [
              0,
              "#0d0887"
             ],
             [
              0.1111111111111111,
              "#46039f"
             ],
             [
              0.2222222222222222,
              "#7201a8"
             ],
             [
              0.3333333333333333,
              "#9c179e"
             ],
             [
              0.4444444444444444,
              "#bd3786"
             ],
             [
              0.5555555555555556,
              "#d8576b"
             ],
             [
              0.6666666666666666,
              "#ed7953"
             ],
             [
              0.7777777777777778,
              "#fb9f3a"
             ],
             [
              0.8888888888888888,
              "#fdca26"
             ],
             [
              1,
              "#f0f921"
             ]
            ],
            "type": "histogram2d"
           }
          ],
          "histogram2dcontour": [
           {
            "colorbar": {
             "outlinewidth": 0,
             "ticks": ""
            },
            "colorscale": [
             [
              0,
              "#0d0887"
             ],
             [
              0.1111111111111111,
              "#46039f"
             ],
             [
              0.2222222222222222,
              "#7201a8"
             ],
             [
              0.3333333333333333,
              "#9c179e"
             ],
             [
              0.4444444444444444,
              "#bd3786"
             ],
             [
              0.5555555555555556,
              "#d8576b"
             ],
             [
              0.6666666666666666,
              "#ed7953"
             ],
             [
              0.7777777777777778,
              "#fb9f3a"
             ],
             [
              0.8888888888888888,
              "#fdca26"
             ],
             [
              1,
              "#f0f921"
             ]
            ],
            "type": "histogram2dcontour"
           }
          ],
          "mesh3d": [
           {
            "colorbar": {
             "outlinewidth": 0,
             "ticks": ""
            },
            "type": "mesh3d"
           }
          ],
          "parcoords": [
           {
            "line": {
             "colorbar": {
              "outlinewidth": 0,
              "ticks": ""
             }
            },
            "type": "parcoords"
           }
          ],
          "pie": [
           {
            "automargin": true,
            "type": "pie"
           }
          ],
          "scatter": [
           {
            "marker": {
             "colorbar": {
              "outlinewidth": 0,
              "ticks": ""
             }
            },
            "type": "scatter"
           }
          ],
          "scatter3d": [
           {
            "line": {
             "colorbar": {
              "outlinewidth": 0,
              "ticks": ""
             }
            },
            "marker": {
             "colorbar": {
              "outlinewidth": 0,
              "ticks": ""
             }
            },
            "type": "scatter3d"
           }
          ],
          "scattercarpet": [
           {
            "marker": {
             "colorbar": {
              "outlinewidth": 0,
              "ticks": ""
             }
            },
            "type": "scattercarpet"
           }
          ],
          "scattergeo": [
           {
            "marker": {
             "colorbar": {
              "outlinewidth": 0,
              "ticks": ""
             }
            },
            "type": "scattergeo"
           }
          ],
          "scattergl": [
           {
            "marker": {
             "colorbar": {
              "outlinewidth": 0,
              "ticks": ""
             }
            },
            "type": "scattergl"
           }
          ],
          "scattermapbox": [
           {
            "marker": {
             "colorbar": {
              "outlinewidth": 0,
              "ticks": ""
             }
            },
            "type": "scattermapbox"
           }
          ],
          "scatterpolar": [
           {
            "marker": {
             "colorbar": {
              "outlinewidth": 0,
              "ticks": ""
             }
            },
            "type": "scatterpolar"
           }
          ],
          "scatterpolargl": [
           {
            "marker": {
             "colorbar": {
              "outlinewidth": 0,
              "ticks": ""
             }
            },
            "type": "scatterpolargl"
           }
          ],
          "scatterternary": [
           {
            "marker": {
             "colorbar": {
              "outlinewidth": 0,
              "ticks": ""
             }
            },
            "type": "scatterternary"
           }
          ],
          "surface": [
           {
            "colorbar": {
             "outlinewidth": 0,
             "ticks": ""
            },
            "colorscale": [
             [
              0,
              "#0d0887"
             ],
             [
              0.1111111111111111,
              "#46039f"
             ],
             [
              0.2222222222222222,
              "#7201a8"
             ],
             [
              0.3333333333333333,
              "#9c179e"
             ],
             [
              0.4444444444444444,
              "#bd3786"
             ],
             [
              0.5555555555555556,
              "#d8576b"
             ],
             [
              0.6666666666666666,
              "#ed7953"
             ],
             [
              0.7777777777777778,
              "#fb9f3a"
             ],
             [
              0.8888888888888888,
              "#fdca26"
             ],
             [
              1,
              "#f0f921"
             ]
            ],
            "type": "surface"
           }
          ],
          "table": [
           {
            "cells": {
             "fill": {
              "color": "#EBF0F8"
             },
             "line": {
              "color": "white"
             }
            },
            "header": {
             "fill": {
              "color": "#C8D4E3"
             },
             "line": {
              "color": "white"
             }
            },
            "type": "table"
           }
          ]
         },
         "layout": {
          "annotationdefaults": {
           "arrowcolor": "#2a3f5f",
           "arrowhead": 0,
           "arrowwidth": 1
          },
          "autotypenumbers": "strict",
          "coloraxis": {
           "colorbar": {
            "outlinewidth": 0,
            "ticks": ""
           }
          },
          "colorscale": {
           "diverging": [
            [
             0,
             "#8e0152"
            ],
            [
             0.1,
             "#c51b7d"
            ],
            [
             0.2,
             "#de77ae"
            ],
            [
             0.3,
             "#f1b6da"
            ],
            [
             0.4,
             "#fde0ef"
            ],
            [
             0.5,
             "#f7f7f7"
            ],
            [
             0.6,
             "#e6f5d0"
            ],
            [
             0.7,
             "#b8e186"
            ],
            [
             0.8,
             "#7fbc41"
            ],
            [
             0.9,
             "#4d9221"
            ],
            [
             1,
             "#276419"
            ]
           ],
           "sequential": [
            [
             0,
             "#0d0887"
            ],
            [
             0.1111111111111111,
             "#46039f"
            ],
            [
             0.2222222222222222,
             "#7201a8"
            ],
            [
             0.3333333333333333,
             "#9c179e"
            ],
            [
             0.4444444444444444,
             "#bd3786"
            ],
            [
             0.5555555555555556,
             "#d8576b"
            ],
            [
             0.6666666666666666,
             "#ed7953"
            ],
            [
             0.7777777777777778,
             "#fb9f3a"
            ],
            [
             0.8888888888888888,
             "#fdca26"
            ],
            [
             1,
             "#f0f921"
            ]
           ],
           "sequentialminus": [
            [
             0,
             "#0d0887"
            ],
            [
             0.1111111111111111,
             "#46039f"
            ],
            [
             0.2222222222222222,
             "#7201a8"
            ],
            [
             0.3333333333333333,
             "#9c179e"
            ],
            [
             0.4444444444444444,
             "#bd3786"
            ],
            [
             0.5555555555555556,
             "#d8576b"
            ],
            [
             0.6666666666666666,
             "#ed7953"
            ],
            [
             0.7777777777777778,
             "#fb9f3a"
            ],
            [
             0.8888888888888888,
             "#fdca26"
            ],
            [
             1,
             "#f0f921"
            ]
           ]
          },
          "colorway": [
           "#636efa",
           "#EF553B",
           "#00cc96",
           "#ab63fa",
           "#FFA15A",
           "#19d3f3",
           "#FF6692",
           "#B6E880",
           "#FF97FF",
           "#FECB52"
          ],
          "font": {
           "color": "#2a3f5f"
          },
          "geo": {
           "bgcolor": "white",
           "lakecolor": "white",
           "landcolor": "#E5ECF6",
           "showlakes": true,
           "showland": true,
           "subunitcolor": "white"
          },
          "hoverlabel": {
           "align": "left"
          },
          "hovermode": "closest",
          "mapbox": {
           "style": "light"
          },
          "paper_bgcolor": "white",
          "plot_bgcolor": "#E5ECF6",
          "polar": {
           "angularaxis": {
            "gridcolor": "white",
            "linecolor": "white",
            "ticks": ""
           },
           "bgcolor": "#E5ECF6",
           "radialaxis": {
            "gridcolor": "white",
            "linecolor": "white",
            "ticks": ""
           }
          },
          "scene": {
           "xaxis": {
            "backgroundcolor": "#E5ECF6",
            "gridcolor": "white",
            "gridwidth": 2,
            "linecolor": "white",
            "showbackground": true,
            "ticks": "",
            "zerolinecolor": "white"
           },
           "yaxis": {
            "backgroundcolor": "#E5ECF6",
            "gridcolor": "white",
            "gridwidth": 2,
            "linecolor": "white",
            "showbackground": true,
            "ticks": "",
            "zerolinecolor": "white"
           },
           "zaxis": {
            "backgroundcolor": "#E5ECF6",
            "gridcolor": "white",
            "gridwidth": 2,
            "linecolor": "white",
            "showbackground": true,
            "ticks": "",
            "zerolinecolor": "white"
           }
          },
          "shapedefaults": {
           "line": {
            "color": "#2a3f5f"
           }
          },
          "ternary": {
           "aaxis": {
            "gridcolor": "white",
            "linecolor": "white",
            "ticks": ""
           },
           "baxis": {
            "gridcolor": "white",
            "linecolor": "white",
            "ticks": ""
           },
           "bgcolor": "#E5ECF6",
           "caxis": {
            "gridcolor": "white",
            "linecolor": "white",
            "ticks": ""
           }
          },
          "title": {
           "x": 0.05
          },
          "xaxis": {
           "automargin": true,
           "gridcolor": "white",
           "linecolor": "white",
           "ticks": "",
           "title": {
            "standoff": 15
           },
           "zerolinecolor": "white",
           "zerolinewidth": 2
          },
          "yaxis": {
           "automargin": true,
           "gridcolor": "white",
           "linecolor": "white",
           "ticks": "",
           "title": {
            "standoff": 15
           },
           "zerolinecolor": "white",
           "zerolinewidth": 2
          }
         }
        },
        "title": {
         "font": {
          "size": 20
         }
        },
        "width": 800,
        "xaxis": {
         "tickfont": {
          "size": 14
         },
         "title": {
          "font": {
           "color": "black",
           "size": 16
          }
         }
        },
        "yaxis": {
         "tickfont": {
          "size": 14
         },
         "title": {
          "font": {
           "color": "black",
           "size": 16
          }
         }
        }
       }
      }
     },
     "metadata": {}
    },
    {
     "output_type": "display_data",
     "data": {
      "application/vnd.plotly.v1+json": {
       "config": {
        "displayModeBar": false,
        "plotlyServerURL": "https://plot.ly"
       },
       "data": [
        {
         "coloraxis": "coloraxis",
         "geo": "geo",
         "hovertemplate": "locations=%{location}<br>color=%{z}<extra></extra>",
         "locationmode": "USA-states",
         "locations": [
          "AL",
          "AK",
          "AZ",
          "AR",
          "CA",
          "CO",
          "CT",
          "DE",
          "DC",
          "FL",
          "GA",
          "HI",
          "ID",
          "IL",
          "IN",
          "IA",
          "KS",
          "KY",
          "LA",
          "ME",
          "MD",
          "MA",
          "MI",
          "MN",
          "MS",
          "MO",
          "MT",
          "NE",
          "NV",
          "NH",
          "NJ",
          "NM",
          "NY",
          "NC",
          "ND",
          "OH",
          "OK",
          "OR",
          "PA",
          "RI",
          "SC",
          "SD",
          "TN",
          "TX",
          "UT",
          "VT",
          "VA",
          "WA",
          "WV",
          "WI",
          "WY"
         ],
         "name": "",
         "type": "choropleth",
         "z": [
          10.5587466946318,
          -11.71818814979628,
          11.801937857940654,
          8.207368246252837,
          -7.595972647149841,
          0,
          -11.634458440993868,
          0,
          -9.276050258849041,
          14.97436786226196,
          20.77844032589346,
          4.139597072861082,
          8.880968748686517,
          -1.955569923482387,
          4.992917989390707,
          -3.4245970492979376,
          0,
          15.864480689592735,
          14.876168534389738,
          -18.410628582393194,
          -9.527654928626557,
          -4.055443437284079,
          7.379795541068333,
          0,
          -1.7699427413822575,
          0,
          4.592734761728568,
          -8.197464430513973,
          3.4244622148317885,
          11.695726047362909,
          -4.381830307550217,
          11.156212737184962,
          -18.409677627288822,
          9.478459136263439,
          7.542312811386187,
          2.55030693449586,
          0,
          -5.9276794505398955,
          -4.156369370325044,
          -9.833750565501495,
          10.28589451587777,
          5.671777856692341,
          0,
          12.431323575441183,
          0,
          -3.1489708695434295,
          -2.865138588744098,
          -1.824761534056539,
          1.4714768574639534,
          0,
          -14.32798426455497
         ]
        }
       ],
       "layout": {
        "coloraxis": {
         "cmax": 15,
         "cmid": 0,
         "cmin": -15,
         "colorbar": {
          "title": {
           "text": "color"
          }
         },
         "colorscale": [
          [
           0,
           "rgb(64,0,75)"
          ],
          [
           0.1,
           "rgb(118,42,131)"
          ],
          [
           0.2,
           "rgb(153,112,171)"
          ],
          [
           0.3,
           "rgb(194,165,207)"
          ],
          [
           0.4,
           "rgb(231,212,232)"
          ],
          [
           0.5,
           "rgb(247,247,247)"
          ],
          [
           0.6,
           "rgb(217,240,211)"
          ],
          [
           0.7,
           "rgb(166,219,160)"
          ],
          [
           0.8,
           "rgb(90,174,97)"
          ],
          [
           0.9,
           "rgb(27,120,55)"
          ],
          [
           1,
           "rgb(0,68,27)"
          ]
         ]
        },
        "font": {
         "family": "Roboto"
        },
        "geo": {
         "center": {},
         "domain": {
          "x": [
           0,
           1
          ],
          "y": [
           0,
           1
          ]
         },
         "scope": "usa"
        },
        "height": 600,
        "hoverlabel": {
         "align": "right"
        },
        "images": [
         {
          "sizex": 0.12,
          "sizey": 0.12,
          "source": "https://raw.githubusercontent.com/UBICenter/blog/master/jb/_static/ubi_center_logo_wide_blue.png",
          "x": 0.98,
          "xanchor": "right",
          "xref": "paper",
          "y": -0.12,
          "yanchor": "bottom",
          "yref": "paper"
         }
        ],
        "legend": {
         "tracegroupgap": 0
        },
        "margin": {
         "t": 60
        },
        "paper_bgcolor": "white",
        "plot_bgcolor": "white",
        "template": {
         "data": {
          "bar": [
           {
            "error_x": {
             "color": "#2a3f5f"
            },
            "error_y": {
             "color": "#2a3f5f"
            },
            "marker": {
             "line": {
              "color": "#E5ECF6",
              "width": 0.5
             }
            },
            "type": "bar"
           }
          ],
          "barpolar": [
           {
            "marker": {
             "line": {
              "color": "#E5ECF6",
              "width": 0.5
             }
            },
            "type": "barpolar"
           }
          ],
          "carpet": [
           {
            "aaxis": {
             "endlinecolor": "#2a3f5f",
             "gridcolor": "white",
             "linecolor": "white",
             "minorgridcolor": "white",
             "startlinecolor": "#2a3f5f"
            },
            "baxis": {
             "endlinecolor": "#2a3f5f",
             "gridcolor": "white",
             "linecolor": "white",
             "minorgridcolor": "white",
             "startlinecolor": "#2a3f5f"
            },
            "type": "carpet"
           }
          ],
          "choropleth": [
           {
            "colorbar": {
             "outlinewidth": 0,
             "ticks": ""
            },
            "type": "choropleth"
           }
          ],
          "contour": [
           {
            "colorbar": {
             "outlinewidth": 0,
             "ticks": ""
            },
            "colorscale": [
             [
              0,
              "#0d0887"
             ],
             [
              0.1111111111111111,
              "#46039f"
             ],
             [
              0.2222222222222222,
              "#7201a8"
             ],
             [
              0.3333333333333333,
              "#9c179e"
             ],
             [
              0.4444444444444444,
              "#bd3786"
             ],
             [
              0.5555555555555556,
              "#d8576b"
             ],
             [
              0.6666666666666666,
              "#ed7953"
             ],
             [
              0.7777777777777778,
              "#fb9f3a"
             ],
             [
              0.8888888888888888,
              "#fdca26"
             ],
             [
              1,
              "#f0f921"
             ]
            ],
            "type": "contour"
           }
          ],
          "contourcarpet": [
           {
            "colorbar": {
             "outlinewidth": 0,
             "ticks": ""
            },
            "type": "contourcarpet"
           }
          ],
          "heatmap": [
           {
            "colorbar": {
             "outlinewidth": 0,
             "ticks": ""
            },
            "colorscale": [
             [
              0,
              "#0d0887"
             ],
             [
              0.1111111111111111,
              "#46039f"
             ],
             [
              0.2222222222222222,
              "#7201a8"
             ],
             [
              0.3333333333333333,
              "#9c179e"
             ],
             [
              0.4444444444444444,
              "#bd3786"
             ],
             [
              0.5555555555555556,
              "#d8576b"
             ],
             [
              0.6666666666666666,
              "#ed7953"
             ],
             [
              0.7777777777777778,
              "#fb9f3a"
             ],
             [
              0.8888888888888888,
              "#fdca26"
             ],
             [
              1,
              "#f0f921"
             ]
            ],
            "type": "heatmap"
           }
          ],
          "heatmapgl": [
           {
            "colorbar": {
             "outlinewidth": 0,
             "ticks": ""
            },
            "colorscale": [
             [
              0,
              "#0d0887"
             ],
             [
              0.1111111111111111,
              "#46039f"
             ],
             [
              0.2222222222222222,
              "#7201a8"
             ],
             [
              0.3333333333333333,
              "#9c179e"
             ],
             [
              0.4444444444444444,
              "#bd3786"
             ],
             [
              0.5555555555555556,
              "#d8576b"
             ],
             [
              0.6666666666666666,
              "#ed7953"
             ],
             [
              0.7777777777777778,
              "#fb9f3a"
             ],
             [
              0.8888888888888888,
              "#fdca26"
             ],
             [
              1,
              "#f0f921"
             ]
            ],
            "type": "heatmapgl"
           }
          ],
          "histogram": [
           {
            "marker": {
             "colorbar": {
              "outlinewidth": 0,
              "ticks": ""
             }
            },
            "type": "histogram"
           }
          ],
          "histogram2d": [
           {
            "colorbar": {
             "outlinewidth": 0,
             "ticks": ""
            },
            "colorscale": [
             [
              0,
              "#0d0887"
             ],
             [
              0.1111111111111111,
              "#46039f"
             ],
             [
              0.2222222222222222,
              "#7201a8"
             ],
             [
              0.3333333333333333,
              "#9c179e"
             ],
             [
              0.4444444444444444,
              "#bd3786"
             ],
             [
              0.5555555555555556,
              "#d8576b"
             ],
             [
              0.6666666666666666,
              "#ed7953"
             ],
             [
              0.7777777777777778,
              "#fb9f3a"
             ],
             [
              0.8888888888888888,
              "#fdca26"
             ],
             [
              1,
              "#f0f921"
             ]
            ],
            "type": "histogram2d"
           }
          ],
          "histogram2dcontour": [
           {
            "colorbar": {
             "outlinewidth": 0,
             "ticks": ""
            },
            "colorscale": [
             [
              0,
              "#0d0887"
             ],
             [
              0.1111111111111111,
              "#46039f"
             ],
             [
              0.2222222222222222,
              "#7201a8"
             ],
             [
              0.3333333333333333,
              "#9c179e"
             ],
             [
              0.4444444444444444,
              "#bd3786"
             ],
             [
              0.5555555555555556,
              "#d8576b"
             ],
             [
              0.6666666666666666,
              "#ed7953"
             ],
             [
              0.7777777777777778,
              "#fb9f3a"
             ],
             [
              0.8888888888888888,
              "#fdca26"
             ],
             [
              1,
              "#f0f921"
             ]
            ],
            "type": "histogram2dcontour"
           }
          ],
          "mesh3d": [
           {
            "colorbar": {
             "outlinewidth": 0,
             "ticks": ""
            },
            "type": "mesh3d"
           }
          ],
          "parcoords": [
           {
            "line": {
             "colorbar": {
              "outlinewidth": 0,
              "ticks": ""
             }
            },
            "type": "parcoords"
           }
          ],
          "pie": [
           {
            "automargin": true,
            "type": "pie"
           }
          ],
          "scatter": [
           {
            "marker": {
             "colorbar": {
              "outlinewidth": 0,
              "ticks": ""
             }
            },
            "type": "scatter"
           }
          ],
          "scatter3d": [
           {
            "line": {
             "colorbar": {
              "outlinewidth": 0,
              "ticks": ""
             }
            },
            "marker": {
             "colorbar": {
              "outlinewidth": 0,
              "ticks": ""
             }
            },
            "type": "scatter3d"
           }
          ],
          "scattercarpet": [
           {
            "marker": {
             "colorbar": {
              "outlinewidth": 0,
              "ticks": ""
             }
            },
            "type": "scattercarpet"
           }
          ],
          "scattergeo": [
           {
            "marker": {
             "colorbar": {
              "outlinewidth": 0,
              "ticks": ""
             }
            },
            "type": "scattergeo"
           }
          ],
          "scattergl": [
           {
            "marker": {
             "colorbar": {
              "outlinewidth": 0,
              "ticks": ""
             }
            },
            "type": "scattergl"
           }
          ],
          "scattermapbox": [
           {
            "marker": {
             "colorbar": {
              "outlinewidth": 0,
              "ticks": ""
             }
            },
            "type": "scattermapbox"
           }
          ],
          "scatterpolar": [
           {
            "marker": {
             "colorbar": {
              "outlinewidth": 0,
              "ticks": ""
             }
            },
            "type": "scatterpolar"
           }
          ],
          "scatterpolargl": [
           {
            "marker": {
             "colorbar": {
              "outlinewidth": 0,
              "ticks": ""
             }
            },
            "type": "scatterpolargl"
           }
          ],
          "scatterternary": [
           {
            "marker": {
             "colorbar": {
              "outlinewidth": 0,
              "ticks": ""
             }
            },
            "type": "scatterternary"
           }
          ],
          "surface": [
           {
            "colorbar": {
             "outlinewidth": 0,
             "ticks": ""
            },
            "colorscale": [
             [
              0,
              "#0d0887"
             ],
             [
              0.1111111111111111,
              "#46039f"
             ],
             [
              0.2222222222222222,
              "#7201a8"
             ],
             [
              0.3333333333333333,
              "#9c179e"
             ],
             [
              0.4444444444444444,
              "#bd3786"
             ],
             [
              0.5555555555555556,
              "#d8576b"
             ],
             [
              0.6666666666666666,
              "#ed7953"
             ],
             [
              0.7777777777777778,
              "#fb9f3a"
             ],
             [
              0.8888888888888888,
              "#fdca26"
             ],
             [
              1,
              "#f0f921"
             ]
            ],
            "type": "surface"
           }
          ],
          "table": [
           {
            "cells": {
             "fill": {
              "color": "#EBF0F8"
             },
             "line": {
              "color": "white"
             }
            },
            "header": {
             "fill": {
              "color": "#C8D4E3"
             },
             "line": {
              "color": "white"
             }
            },
            "type": "table"
           }
          ]
         },
         "layout": {
          "annotationdefaults": {
           "arrowcolor": "#2a3f5f",
           "arrowhead": 0,
           "arrowwidth": 1
          },
          "autotypenumbers": "strict",
          "coloraxis": {
           "colorbar": {
            "outlinewidth": 0,
            "ticks": ""
           }
          },
          "colorscale": {
           "diverging": [
            [
             0,
             "#8e0152"
            ],
            [
             0.1,
             "#c51b7d"
            ],
            [
             0.2,
             "#de77ae"
            ],
            [
             0.3,
             "#f1b6da"
            ],
            [
             0.4,
             "#fde0ef"
            ],
            [
             0.5,
             "#f7f7f7"
            ],
            [
             0.6,
             "#e6f5d0"
            ],
            [
             0.7,
             "#b8e186"
            ],
            [
             0.8,
             "#7fbc41"
            ],
            [
             0.9,
             "#4d9221"
            ],
            [
             1,
             "#276419"
            ]
           ],
           "sequential": [
            [
             0,
             "#0d0887"
            ],
            [
             0.1111111111111111,
             "#46039f"
            ],
            [
             0.2222222222222222,
             "#7201a8"
            ],
            [
             0.3333333333333333,
             "#9c179e"
            ],
            [
             0.4444444444444444,
             "#bd3786"
            ],
            [
             0.5555555555555556,
             "#d8576b"
            ],
            [
             0.6666666666666666,
             "#ed7953"
            ],
            [
             0.7777777777777778,
             "#fb9f3a"
            ],
            [
             0.8888888888888888,
             "#fdca26"
            ],
            [
             1,
             "#f0f921"
            ]
           ],
           "sequentialminus": [
            [
             0,
             "#0d0887"
            ],
            [
             0.1111111111111111,
             "#46039f"
            ],
            [
             0.2222222222222222,
             "#7201a8"
            ],
            [
             0.3333333333333333,
             "#9c179e"
            ],
            [
             0.4444444444444444,
             "#bd3786"
            ],
            [
             0.5555555555555556,
             "#d8576b"
            ],
            [
             0.6666666666666666,
             "#ed7953"
            ],
            [
             0.7777777777777778,
             "#fb9f3a"
            ],
            [
             0.8888888888888888,
             "#fdca26"
            ],
            [
             1,
             "#f0f921"
            ]
           ]
          },
          "colorway": [
           "#636efa",
           "#EF553B",
           "#00cc96",
           "#ab63fa",
           "#FFA15A",
           "#19d3f3",
           "#FF6692",
           "#B6E880",
           "#FF97FF",
           "#FECB52"
          ],
          "font": {
           "color": "#2a3f5f"
          },
          "geo": {
           "bgcolor": "white",
           "lakecolor": "white",
           "landcolor": "#E5ECF6",
           "showlakes": true,
           "showland": true,
           "subunitcolor": "white"
          },
          "hoverlabel": {
           "align": "left"
          },
          "hovermode": "closest",
          "mapbox": {
           "style": "light"
          },
          "paper_bgcolor": "white",
          "plot_bgcolor": "#E5ECF6",
          "polar": {
           "angularaxis": {
            "gridcolor": "white",
            "linecolor": "white",
            "ticks": ""
           },
           "bgcolor": "#E5ECF6",
           "radialaxis": {
            "gridcolor": "white",
            "linecolor": "white",
            "ticks": ""
           }
          },
          "scene": {
           "xaxis": {
            "backgroundcolor": "#E5ECF6",
            "gridcolor": "white",
            "gridwidth": 2,
            "linecolor": "white",
            "showbackground": true,
            "ticks": "",
            "zerolinecolor": "white"
           },
           "yaxis": {
            "backgroundcolor": "#E5ECF6",
            "gridcolor": "white",
            "gridwidth": 2,
            "linecolor": "white",
            "showbackground": true,
            "ticks": "",
            "zerolinecolor": "white"
           },
           "zaxis": {
            "backgroundcolor": "#E5ECF6",
            "gridcolor": "white",
            "gridwidth": 2,
            "linecolor": "white",
            "showbackground": true,
            "ticks": "",
            "zerolinecolor": "white"
           }
          },
          "shapedefaults": {
           "line": {
            "color": "#2a3f5f"
           }
          },
          "ternary": {
           "aaxis": {
            "gridcolor": "white",
            "linecolor": "white",
            "ticks": ""
           },
           "baxis": {
            "gridcolor": "white",
            "linecolor": "white",
            "ticks": ""
           },
           "bgcolor": "#E5ECF6",
           "caxis": {
            "gridcolor": "white",
            "linecolor": "white",
            "ticks": ""
           }
          },
          "title": {
           "x": 0.05
          },
          "xaxis": {
           "automargin": true,
           "gridcolor": "white",
           "linecolor": "white",
           "ticks": "",
           "title": {
            "standoff": 15
           },
           "zerolinecolor": "white",
           "zerolinewidth": 2
          },
          "yaxis": {
           "automargin": true,
           "gridcolor": "white",
           "linecolor": "white",
           "ticks": "",
           "title": {
            "standoff": 15
           },
           "zerolinecolor": "white",
           "zerolinewidth": 2
          }
         }
        },
        "title": {
         "font": {
          "size": 20
         }
        },
        "width": 800,
        "xaxis": {
         "tickfont": {
          "size": 14
         },
         "title": {
          "font": {
           "color": "black",
           "size": 16
          }
         }
        },
        "yaxis": {
         "tickfont": {
          "size": 14
         },
         "title": {
          "font": {
           "color": "black",
           "size": 16
          }
         }
        }
       }
      }
     },
     "metadata": {}
    },
    {
     "output_type": "display_data",
     "data": {
      "application/vnd.plotly.v1+json": {
       "config": {
        "displayModeBar": false,
        "plotlyServerURL": "https://plot.ly"
       },
       "data": [
        {
         "coloraxis": "coloraxis",
         "geo": "geo",
         "hovertemplate": "locations=%{location}<br>color=%{z}<extra></extra>",
         "locationmode": "USA-states",
         "locations": [
          "AL",
          "AK",
          "AZ",
          "AR",
          "CA",
          "CO",
          "CT",
          "DE",
          "DC",
          "FL",
          "GA",
          "HI",
          "ID",
          "IL",
          "IN",
          "IA",
          "KS",
          "KY",
          "LA",
          "ME",
          "MD",
          "MA",
          "MI",
          "MN",
          "MS",
          "MO",
          "MT",
          "NE",
          "NV",
          "NH",
          "NJ",
          "NM",
          "NY",
          "NC",
          "ND",
          "OH",
          "OK",
          "OR",
          "PA",
          "RI",
          "SC",
          "SD",
          "TN",
          "TX",
          "UT",
          "VT",
          "VA",
          "WA",
          "WV",
          "WI",
          "WY"
         ],
         "name": "",
         "type": "choropleth",
         "z": [
          452.49269276453555,
          301.35807442593807,
          257.9507270300108,
          311.10568351122316,
          288.60825579174866,
          29.68778504864982,
          71.79554403289954,
          154.5925081912696,
          295.9170175284655,
          225.99797855320867,
          208.16781403570923,
          441.8126503962498,
          380.7732687800282,
          236.72160762170563,
          547.1570997728667,
          139.6236916533753,
          121.6704493963106,
          655.4700936806751,
          241.22560091138874,
          75.01319407000405,
          -26.285774392725056,
          131.86935443050365,
          384.97764475992676,
          243.84689273815812,
          826.057355687445,
          700.3966904483257,
          140.02454099254663,
          66.85410441196123,
          510.42572034906743,
          0.6890066012805237,
          74.84968338650609,
          3019.7254614792323,
          103.94235231813268,
          347.77563320648153,
          148.2841227796827,
          266.4920799091776,
          528.552065747926,
          258.7237566099144,
          134.41154747211354,
          225.35515006450206,
          167.63029205234383,
          658.6515231954177,
          277.67433952597906,
          126.06480686910821,
          171.49999643814377,
          49.41727398166999,
          73.30265130256095,
          323.31327511455817,
          419.69807756064023,
          258.8714654056781,
          631.3605242397442
         ]
        }
       ],
       "layout": {
        "coloraxis": {
         "cmax": 300,
         "cmid": 0,
         "cmin": -300,
         "colorbar": {
          "title": {
           "text": "color"
          }
         },
         "colorscale": [
          [
           0,
           "rgb(64,0,75)"
          ],
          [
           0.1,
           "rgb(118,42,131)"
          ],
          [
           0.2,
           "rgb(153,112,171)"
          ],
          [
           0.3,
           "rgb(194,165,207)"
          ],
          [
           0.4,
           "rgb(231,212,232)"
          ],
          [
           0.5,
           "rgb(247,247,247)"
          ],
          [
           0.6,
           "rgb(217,240,211)"
          ],
          [
           0.7,
           "rgb(166,219,160)"
          ],
          [
           0.8,
           "rgb(90,174,97)"
          ],
          [
           0.9,
           "rgb(27,120,55)"
          ],
          [
           1,
           "rgb(0,68,27)"
          ]
         ]
        },
        "font": {
         "family": "Roboto"
        },
        "geo": {
         "center": {},
         "domain": {
          "x": [
           0,
           1
          ],
          "y": [
           0,
           1
          ]
         },
         "scope": "usa"
        },
        "height": 600,
        "hoverlabel": {
         "align": "right"
        },
        "images": [
         {
          "sizex": 0.12,
          "sizey": 0.12,
          "source": "https://raw.githubusercontent.com/UBICenter/blog/master/jb/_static/ubi_center_logo_wide_blue.png",
          "x": 0.98,
          "xanchor": "right",
          "xref": "paper",
          "y": -0.12,
          "yanchor": "bottom",
          "yref": "paper"
         }
        ],
        "legend": {
         "tracegroupgap": 0
        },
        "margin": {
         "t": 60
        },
        "paper_bgcolor": "white",
        "plot_bgcolor": "white",
        "template": {
         "data": {
          "bar": [
           {
            "error_x": {
             "color": "#2a3f5f"
            },
            "error_y": {
             "color": "#2a3f5f"
            },
            "marker": {
             "line": {
              "color": "#E5ECF6",
              "width": 0.5
             }
            },
            "type": "bar"
           }
          ],
          "barpolar": [
           {
            "marker": {
             "line": {
              "color": "#E5ECF6",
              "width": 0.5
             }
            },
            "type": "barpolar"
           }
          ],
          "carpet": [
           {
            "aaxis": {
             "endlinecolor": "#2a3f5f",
             "gridcolor": "white",
             "linecolor": "white",
             "minorgridcolor": "white",
             "startlinecolor": "#2a3f5f"
            },
            "baxis": {
             "endlinecolor": "#2a3f5f",
             "gridcolor": "white",
             "linecolor": "white",
             "minorgridcolor": "white",
             "startlinecolor": "#2a3f5f"
            },
            "type": "carpet"
           }
          ],
          "choropleth": [
           {
            "colorbar": {
             "outlinewidth": 0,
             "ticks": ""
            },
            "type": "choropleth"
           }
          ],
          "contour": [
           {
            "colorbar": {
             "outlinewidth": 0,
             "ticks": ""
            },
            "colorscale": [
             [
              0,
              "#0d0887"
             ],
             [
              0.1111111111111111,
              "#46039f"
             ],
             [
              0.2222222222222222,
              "#7201a8"
             ],
             [
              0.3333333333333333,
              "#9c179e"
             ],
             [
              0.4444444444444444,
              "#bd3786"
             ],
             [
              0.5555555555555556,
              "#d8576b"
             ],
             [
              0.6666666666666666,
              "#ed7953"
             ],
             [
              0.7777777777777778,
              "#fb9f3a"
             ],
             [
              0.8888888888888888,
              "#fdca26"
             ],
             [
              1,
              "#f0f921"
             ]
            ],
            "type": "contour"
           }
          ],
          "contourcarpet": [
           {
            "colorbar": {
             "outlinewidth": 0,
             "ticks": ""
            },
            "type": "contourcarpet"
           }
          ],
          "heatmap": [
           {
            "colorbar": {
             "outlinewidth": 0,
             "ticks": ""
            },
            "colorscale": [
             [
              0,
              "#0d0887"
             ],
             [
              0.1111111111111111,
              "#46039f"
             ],
             [
              0.2222222222222222,
              "#7201a8"
             ],
             [
              0.3333333333333333,
              "#9c179e"
             ],
             [
              0.4444444444444444,
              "#bd3786"
             ],
             [
              0.5555555555555556,
              "#d8576b"
             ],
             [
              0.6666666666666666,
              "#ed7953"
             ],
             [
              0.7777777777777778,
              "#fb9f3a"
             ],
             [
              0.8888888888888888,
              "#fdca26"
             ],
             [
              1,
              "#f0f921"
             ]
            ],
            "type": "heatmap"
           }
          ],
          "heatmapgl": [
           {
            "colorbar": {
             "outlinewidth": 0,
             "ticks": ""
            },
            "colorscale": [
             [
              0,
              "#0d0887"
             ],
             [
              0.1111111111111111,
              "#46039f"
             ],
             [
              0.2222222222222222,
              "#7201a8"
             ],
             [
              0.3333333333333333,
              "#9c179e"
             ],
             [
              0.4444444444444444,
              "#bd3786"
             ],
             [
              0.5555555555555556,
              "#d8576b"
             ],
             [
              0.6666666666666666,
              "#ed7953"
             ],
             [
              0.7777777777777778,
              "#fb9f3a"
             ],
             [
              0.8888888888888888,
              "#fdca26"
             ],
             [
              1,
              "#f0f921"
             ]
            ],
            "type": "heatmapgl"
           }
          ],
          "histogram": [
           {
            "marker": {
             "colorbar": {
              "outlinewidth": 0,
              "ticks": ""
             }
            },
            "type": "histogram"
           }
          ],
          "histogram2d": [
           {
            "colorbar": {
             "outlinewidth": 0,
             "ticks": ""
            },
            "colorscale": [
             [
              0,
              "#0d0887"
             ],
             [
              0.1111111111111111,
              "#46039f"
             ],
             [
              0.2222222222222222,
              "#7201a8"
             ],
             [
              0.3333333333333333,
              "#9c179e"
             ],
             [
              0.4444444444444444,
              "#bd3786"
             ],
             [
              0.5555555555555556,
              "#d8576b"
             ],
             [
              0.6666666666666666,
              "#ed7953"
             ],
             [
              0.7777777777777778,
              "#fb9f3a"
             ],
             [
              0.8888888888888888,
              "#fdca26"
             ],
             [
              1,
              "#f0f921"
             ]
            ],
            "type": "histogram2d"
           }
          ],
          "histogram2dcontour": [
           {
            "colorbar": {
             "outlinewidth": 0,
             "ticks": ""
            },
            "colorscale": [
             [
              0,
              "#0d0887"
             ],
             [
              0.1111111111111111,
              "#46039f"
             ],
             [
              0.2222222222222222,
              "#7201a8"
             ],
             [
              0.3333333333333333,
              "#9c179e"
             ],
             [
              0.4444444444444444,
              "#bd3786"
             ],
             [
              0.5555555555555556,
              "#d8576b"
             ],
             [
              0.6666666666666666,
              "#ed7953"
             ],
             [
              0.7777777777777778,
              "#fb9f3a"
             ],
             [
              0.8888888888888888,
              "#fdca26"
             ],
             [
              1,
              "#f0f921"
             ]
            ],
            "type": "histogram2dcontour"
           }
          ],
          "mesh3d": [
           {
            "colorbar": {
             "outlinewidth": 0,
             "ticks": ""
            },
            "type": "mesh3d"
           }
          ],
          "parcoords": [
           {
            "line": {
             "colorbar": {
              "outlinewidth": 0,
              "ticks": ""
             }
            },
            "type": "parcoords"
           }
          ],
          "pie": [
           {
            "automargin": true,
            "type": "pie"
           }
          ],
          "scatter": [
           {
            "marker": {
             "colorbar": {
              "outlinewidth": 0,
              "ticks": ""
             }
            },
            "type": "scatter"
           }
          ],
          "scatter3d": [
           {
            "line": {
             "colorbar": {
              "outlinewidth": 0,
              "ticks": ""
             }
            },
            "marker": {
             "colorbar": {
              "outlinewidth": 0,
              "ticks": ""
             }
            },
            "type": "scatter3d"
           }
          ],
          "scattercarpet": [
           {
            "marker": {
             "colorbar": {
              "outlinewidth": 0,
              "ticks": ""
             }
            },
            "type": "scattercarpet"
           }
          ],
          "scattergeo": [
           {
            "marker": {
             "colorbar": {
              "outlinewidth": 0,
              "ticks": ""
             }
            },
            "type": "scattergeo"
           }
          ],
          "scattergl": [
           {
            "marker": {
             "colorbar": {
              "outlinewidth": 0,
              "ticks": ""
             }
            },
            "type": "scattergl"
           }
          ],
          "scattermapbox": [
           {
            "marker": {
             "colorbar": {
              "outlinewidth": 0,
              "ticks": ""
             }
            },
            "type": "scattermapbox"
           }
          ],
          "scatterpolar": [
           {
            "marker": {
             "colorbar": {
              "outlinewidth": 0,
              "ticks": ""
             }
            },
            "type": "scatterpolar"
           }
          ],
          "scatterpolargl": [
           {
            "marker": {
             "colorbar": {
              "outlinewidth": 0,
              "ticks": ""
             }
            },
            "type": "scatterpolargl"
           }
          ],
          "scatterternary": [
           {
            "marker": {
             "colorbar": {
              "outlinewidth": 0,
              "ticks": ""
             }
            },
            "type": "scatterternary"
           }
          ],
          "surface": [
           {
            "colorbar": {
             "outlinewidth": 0,
             "ticks": ""
            },
            "colorscale": [
             [
              0,
              "#0d0887"
             ],
             [
              0.1111111111111111,
              "#46039f"
             ],
             [
              0.2222222222222222,
              "#7201a8"
             ],
             [
              0.3333333333333333,
              "#9c179e"
             ],
             [
              0.4444444444444444,
              "#bd3786"
             ],
             [
              0.5555555555555556,
              "#d8576b"
             ],
             [
              0.6666666666666666,
              "#ed7953"
             ],
             [
              0.7777777777777778,
              "#fb9f3a"
             ],
             [
              0.8888888888888888,
              "#fdca26"
             ],
             [
              1,
              "#f0f921"
             ]
            ],
            "type": "surface"
           }
          ],
          "table": [
           {
            "cells": {
             "fill": {
              "color": "#EBF0F8"
             },
             "line": {
              "color": "white"
             }
            },
            "header": {
             "fill": {
              "color": "#C8D4E3"
             },
             "line": {
              "color": "white"
             }
            },
            "type": "table"
           }
          ]
         },
         "layout": {
          "annotationdefaults": {
           "arrowcolor": "#2a3f5f",
           "arrowhead": 0,
           "arrowwidth": 1
          },
          "autotypenumbers": "strict",
          "coloraxis": {
           "colorbar": {
            "outlinewidth": 0,
            "ticks": ""
           }
          },
          "colorscale": {
           "diverging": [
            [
             0,
             "#8e0152"
            ],
            [
             0.1,
             "#c51b7d"
            ],
            [
             0.2,
             "#de77ae"
            ],
            [
             0.3,
             "#f1b6da"
            ],
            [
             0.4,
             "#fde0ef"
            ],
            [
             0.5,
             "#f7f7f7"
            ],
            [
             0.6,
             "#e6f5d0"
            ],
            [
             0.7,
             "#b8e186"
            ],
            [
             0.8,
             "#7fbc41"
            ],
            [
             0.9,
             "#4d9221"
            ],
            [
             1,
             "#276419"
            ]
           ],
           "sequential": [
            [
             0,
             "#0d0887"
            ],
            [
             0.1111111111111111,
             "#46039f"
            ],
            [
             0.2222222222222222,
             "#7201a8"
            ],
            [
             0.3333333333333333,
             "#9c179e"
            ],
            [
             0.4444444444444444,
             "#bd3786"
            ],
            [
             0.5555555555555556,
             "#d8576b"
            ],
            [
             0.6666666666666666,
             "#ed7953"
            ],
            [
             0.7777777777777778,
             "#fb9f3a"
            ],
            [
             0.8888888888888888,
             "#fdca26"
            ],
            [
             1,
             "#f0f921"
            ]
           ],
           "sequentialminus": [
            [
             0,
             "#0d0887"
            ],
            [
             0.1111111111111111,
             "#46039f"
            ],
            [
             0.2222222222222222,
             "#7201a8"
            ],
            [
             0.3333333333333333,
             "#9c179e"
            ],
            [
             0.4444444444444444,
             "#bd3786"
            ],
            [
             0.5555555555555556,
             "#d8576b"
            ],
            [
             0.6666666666666666,
             "#ed7953"
            ],
            [
             0.7777777777777778,
             "#fb9f3a"
            ],
            [
             0.8888888888888888,
             "#fdca26"
            ],
            [
             1,
             "#f0f921"
            ]
           ]
          },
          "colorway": [
           "#636efa",
           "#EF553B",
           "#00cc96",
           "#ab63fa",
           "#FFA15A",
           "#19d3f3",
           "#FF6692",
           "#B6E880",
           "#FF97FF",
           "#FECB52"
          ],
          "font": {
           "color": "#2a3f5f"
          },
          "geo": {
           "bgcolor": "white",
           "lakecolor": "white",
           "landcolor": "#E5ECF6",
           "showlakes": true,
           "showland": true,
           "subunitcolor": "white"
          },
          "hoverlabel": {
           "align": "left"
          },
          "hovermode": "closest",
          "mapbox": {
           "style": "light"
          },
          "paper_bgcolor": "white",
          "plot_bgcolor": "#E5ECF6",
          "polar": {
           "angularaxis": {
            "gridcolor": "white",
            "linecolor": "white",
            "ticks": ""
           },
           "bgcolor": "#E5ECF6",
           "radialaxis": {
            "gridcolor": "white",
            "linecolor": "white",
            "ticks": ""
           }
          },
          "scene": {
           "xaxis": {
            "backgroundcolor": "#E5ECF6",
            "gridcolor": "white",
            "gridwidth": 2,
            "linecolor": "white",
            "showbackground": true,
            "ticks": "",
            "zerolinecolor": "white"
           },
           "yaxis": {
            "backgroundcolor": "#E5ECF6",
            "gridcolor": "white",
            "gridwidth": 2,
            "linecolor": "white",
            "showbackground": true,
            "ticks": "",
            "zerolinecolor": "white"
           },
           "zaxis": {
            "backgroundcolor": "#E5ECF6",
            "gridcolor": "white",
            "gridwidth": 2,
            "linecolor": "white",
            "showbackground": true,
            "ticks": "",
            "zerolinecolor": "white"
           }
          },
          "shapedefaults": {
           "line": {
            "color": "#2a3f5f"
           }
          },
          "ternary": {
           "aaxis": {
            "gridcolor": "white",
            "linecolor": "white",
            "ticks": ""
           },
           "baxis": {
            "gridcolor": "white",
            "linecolor": "white",
            "ticks": ""
           },
           "bgcolor": "#E5ECF6",
           "caxis": {
            "gridcolor": "white",
            "linecolor": "white",
            "ticks": ""
           }
          },
          "title": {
           "x": 0.05
          },
          "xaxis": {
           "automargin": true,
           "gridcolor": "white",
           "linecolor": "white",
           "ticks": "",
           "title": {
            "standoff": 15
           },
           "zerolinecolor": "white",
           "zerolinewidth": 2
          },
          "yaxis": {
           "automargin": true,
           "gridcolor": "white",
           "linecolor": "white",
           "ticks": "",
           "title": {
            "standoff": 15
           },
           "zerolinecolor": "white",
           "zerolinewidth": 2
          }
         }
        },
        "title": {
         "font": {
          "size": 20
         }
        },
        "width": 800,
        "xaxis": {
         "tickfont": {
          "size": 14
         },
         "title": {
          "font": {
           "color": "black",
           "size": 16
          }
         }
        },
        "yaxis": {
         "tickfont": {
          "size": 14
         },
         "title": {
          "font": {
           "color": "black",
           "size": 16
          }
         }
        }
       }
      }
     },
     "metadata": {}
    }
   ],
   "source": [
    "for i in [\"high_ca\", \"high_xpns\", \"low_ca\", \"low_xpns\", \"replace_ca\", \"replace_xpns\"]: \n",
    "    state_pov[]i+\"_p_dif\"] = percent_change(state_pov[i], state_pov.baseline)\n",
    " for i in [\"high\", \"low\", \"replace\"]:\n",
    "    state_pov[]i+\"_ratio\"] = percent_change(state_pov[i+\"_ca_p_dif\"], state_pov[i+\"_xpns_p_dif\"]) x    range_color=[-15,15]\n",
    "    if i == \"replace\":\n",
    "         range_color=[-300,300]\n",
    "    ig = .choropleth(locations=state_pov.state_code,locationmode=\"USA-states\",color=state_pov.b[i+\"_ratio\"]ccolor_continuous_scale=\"PRGn\",range_color=[-range_colorolor_continuous_midpoint=0, ope=\"usa\").s\n",
    "    uformat_fig(fig)  "
   ]
  },
  {
   "cell_type": "code",
   "execution_count": 26,
   "metadata": {},
   "outputs": [
    {
     "output_type": "execute_result",
     "data": {
      "text/plain": [
       "'\\n# Generate state-based poverty rate percentage changes\\nstate_pov[\"poverty_change_cc\"] =  state_pov.cc_replacement - state_pov.baseline\\nstate_pov[\"poverty_change_flat\"] = state_pov.child_allowance - state_pov.baseline\\nstate_pov[\"poverty_change_pc_cc\"] = state_pov.poverty_change_cc - state_pov.baseline\\nstate_pov[\"poverty_change_pc_flat\"] = (\\n    state_pov.poverty_change_flat - state_pov.baseline\\n)\\n\\n# Construct state-based gini coefficient percentage changes\\nstate_gini[\"gini_change_cc\"] = state_gini.cc_replacement - state_gini.baseline\\nstate_gini[\"gini_change_flat\"] = state_gini.child_allowance - state_gini.baseline\\nstate_gini[\"gini_change_pc_cc\"] = percent_change(\\n    state_gini.gini_change_cc, state_gini.baseline\\n)\\nstate_gini[\"gini_change_pc_flat\"] = percent_change(\\n    state_gini.gini_change_flat, state_gini.baseline\\n)\\n\\n# Re-arrange and present pivot tables, descending by % change\\n# in poverty rate\\nstate_pov.sort_values(by=\"poverty_change_pc_flat\", ascending=True)\\nstate_gini.sort_values(by=\"gini_change_pc_flat\", ascending=True)\\n'"
      ]
     },
     "metadata": {},
     "execution_count": 26
    }
   ],
   "source": [
    "\n",
    "\"\"\"\n",
    "# Generate state-based poverty rate percentage changes\n",
    "state_pov[\"poverty_change_cc\"] =  state_pov.cc_replacement - state_pov.baseline\n",
    "state_pov[\"poverty_change_flat\"] = state_pov.child_allowance - state_pov.baseline\n",
    "state_pov[\"poverty_change_pc_cc\"] = state_pov.poverty_change_cc - state_pov.baseline\n",
    "state_pov[\"poverty_change_pc_flat\"] = (\n",
    "    state_pov.poverty_change_flat - state_pov.baseline\n",
    ")\n",
    "\n",
    "# Construct state-based gini coefficient percentage changes\n",
    "state_gini[\"gini_change_cc\"] = state_gini.cc_replacement - state_gini.baseline\n",
    "state_gini[\"gini_change_flat\"] = state_gini.child_allowance - state_gini.baseline\n",
    "state_gini[\"gini_change_pc_cc\"] = percent_change(\n",
    "    state_gini.gini_change_cc, state_gini.baseline\n",
    ")\n",
    "state_gini[\"gini_change_pc_flat\"] = percent_change(\n",
    "    state_gini.gini_change_flat, state_gini.baseline\n",
    ")\n",
    "\n",
    "# Re-arrange and present pivot tables, descending by % change\n",
    "# in poverty rate\n",
    "state_pov.sort_values(by=\"poverty_change_pc_flat\", ascending=True)\n",
    "state_gini.sort_values(by=\"gini_change_pc_flat\", ascending=True)\n",
    "\"\"\""
   ]
  },
  {
   "source": [
    "## Visualizations\n"
   ],
   "cell_type": "markdown",
   "metadata": {}
  },
  {
   "cell_type": "code",
   "execution_count": null,
   "metadata": {},
   "outputs": [],
   "source": [
    "# Poverty rate by sim\n",
    "pov_plot = px.bar(poverty_rate,x=\"sim\",y=\"poverty_rate\")\n",
    "format_fig(pov_plot)"
   ]
  },
  {
   "cell_type": "code",
   "execution_count": null,
   "metadata": {},
   "outputs": [],
   "source": [
    "# Deep poverty by sim\n",
    "deep_pov_plot = px.bar(deep_poverty_rate,x=\"sim\",y=\"poverty_rate\")\n",
    "format_fig(deep_pov_plot)"
   ]
  },
  {
   "cell_type": "code",
   "execution_count": 13,
   "metadata": {},
   "outputs": [
    {
     "output_type": "display_data",
     "data": {
      "application/vnd.plotly.v1+json": {
       "config": {
        "displayModeBar": false,
        "plotlyServerURL": "https://plot.ly"
       },
       "data": [
        {
         "alignmentgroup": "True",
         "hovertemplate": "sim=%{x}<br>poverty_rate=%{y}<extra></extra>",
         "legendgroup": "",
         "marker": {
          "color": "#636efa"
         },
         "name": "",
         "offsetgroup": "",
         "orientation": "v",
         "showlegend": false,
         "textposition": "auto",
         "type": "bar",
         "x": [
          "baseline",
          "high_ca",
          "high_xpns",
          "low_ca",
          "low_xpns",
          "replace_ca",
          "replace_xpns"
         ],
         "xaxis": "x",
         "y": [
          0.14978659209387424,
          0.01290931457889496,
          0.01320777228509338,
          0.03807381507460069,
          0.03973806781276834,
          0.11522161760955155,
          0.13922574614403332
         ],
         "yaxis": "y"
        }
       ],
       "layout": {
        "barmode": "relative",
        "font": {
         "family": "Roboto"
        },
        "height": 600,
        "hoverlabel": {
         "align": "right"
        },
        "images": [
         {
          "sizex": 0.12,
          "sizey": 0.12,
          "source": "https://raw.githubusercontent.com/UBICenter/blog/master/jb/_static/ubi_center_logo_wide_blue.png",
          "x": 0.98,
          "xanchor": "right",
          "xref": "paper",
          "y": -0.12,
          "yanchor": "bottom",
          "yref": "paper"
         }
        ],
        "legend": {
         "tracegroupgap": 0
        },
        "margin": {
         "t": 60
        },
        "paper_bgcolor": "white",
        "plot_bgcolor": "white",
        "template": {
         "data": {
          "bar": [
           {
            "error_x": {
             "color": "#2a3f5f"
            },
            "error_y": {
             "color": "#2a3f5f"
            },
            "marker": {
             "line": {
              "color": "#E5ECF6",
              "width": 0.5
             }
            },
            "type": "bar"
           }
          ],
          "barpolar": [
           {
            "marker": {
             "line": {
              "color": "#E5ECF6",
              "width": 0.5
             }
            },
            "type": "barpolar"
           }
          ],
          "carpet": [
           {
            "aaxis": {
             "endlinecolor": "#2a3f5f",
             "gridcolor": "white",
             "linecolor": "white",
             "minorgridcolor": "white",
             "startlinecolor": "#2a3f5f"
            },
            "baxis": {
             "endlinecolor": "#2a3f5f",
             "gridcolor": "white",
             "linecolor": "white",
             "minorgridcolor": "white",
             "startlinecolor": "#2a3f5f"
            },
            "type": "carpet"
           }
          ],
          "choropleth": [
           {
            "colorbar": {
             "outlinewidth": 0,
             "ticks": ""
            },
            "type": "choropleth"
           }
          ],
          "contour": [
           {
            "colorbar": {
             "outlinewidth": 0,
             "ticks": ""
            },
            "colorscale": [
             [
              0,
              "#0d0887"
             ],
             [
              0.1111111111111111,
              "#46039f"
             ],
             [
              0.2222222222222222,
              "#7201a8"
             ],
             [
              0.3333333333333333,
              "#9c179e"
             ],
             [
              0.4444444444444444,
              "#bd3786"
             ],
             [
              0.5555555555555556,
              "#d8576b"
             ],
             [
              0.6666666666666666,
              "#ed7953"
             ],
             [
              0.7777777777777778,
              "#fb9f3a"
             ],
             [
              0.8888888888888888,
              "#fdca26"
             ],
             [
              1,
              "#f0f921"
             ]
            ],
            "type": "contour"
           }
          ],
          "contourcarpet": [
           {
            "colorbar": {
             "outlinewidth": 0,
             "ticks": ""
            },
            "type": "contourcarpet"
           }
          ],
          "heatmap": [
           {
            "colorbar": {
             "outlinewidth": 0,
             "ticks": ""
            },
            "colorscale": [
             [
              0,
              "#0d0887"
             ],
             [
              0.1111111111111111,
              "#46039f"
             ],
             [
              0.2222222222222222,
              "#7201a8"
             ],
             [
              0.3333333333333333,
              "#9c179e"
             ],
             [
              0.4444444444444444,
              "#bd3786"
             ],
             [
              0.5555555555555556,
              "#d8576b"
             ],
             [
              0.6666666666666666,
              "#ed7953"
             ],
             [
              0.7777777777777778,
              "#fb9f3a"
             ],
             [
              0.8888888888888888,
              "#fdca26"
             ],
             [
              1,
              "#f0f921"
             ]
            ],
            "type": "heatmap"
           }
          ],
          "heatmapgl": [
           {
            "colorbar": {
             "outlinewidth": 0,
             "ticks": ""
            },
            "colorscale": [
             [
              0,
              "#0d0887"
             ],
             [
              0.1111111111111111,
              "#46039f"
             ],
             [
              0.2222222222222222,
              "#7201a8"
             ],
             [
              0.3333333333333333,
              "#9c179e"
             ],
             [
              0.4444444444444444,
              "#bd3786"
             ],
             [
              0.5555555555555556,
              "#d8576b"
             ],
             [
              0.6666666666666666,
              "#ed7953"
             ],
             [
              0.7777777777777778,
              "#fb9f3a"
             ],
             [
              0.8888888888888888,
              "#fdca26"
             ],
             [
              1,
              "#f0f921"
             ]
            ],
            "type": "heatmapgl"
           }
          ],
          "histogram": [
           {
            "marker": {
             "colorbar": {
              "outlinewidth": 0,
              "ticks": ""
             }
            },
            "type": "histogram"
           }
          ],
          "histogram2d": [
           {
            "colorbar": {
             "outlinewidth": 0,
             "ticks": ""
            },
            "colorscale": [
             [
              0,
              "#0d0887"
             ],
             [
              0.1111111111111111,
              "#46039f"
             ],
             [
              0.2222222222222222,
              "#7201a8"
             ],
             [
              0.3333333333333333,
              "#9c179e"
             ],
             [
              0.4444444444444444,
              "#bd3786"
             ],
             [
              0.5555555555555556,
              "#d8576b"
             ],
             [
              0.6666666666666666,
              "#ed7953"
             ],
             [
              0.7777777777777778,
              "#fb9f3a"
             ],
             [
              0.8888888888888888,
              "#fdca26"
             ],
             [
              1,
              "#f0f921"
             ]
            ],
            "type": "histogram2d"
           }
          ],
          "histogram2dcontour": [
           {
            "colorbar": {
             "outlinewidth": 0,
             "ticks": ""
            },
            "colorscale": [
             [
              0,
              "#0d0887"
             ],
             [
              0.1111111111111111,
              "#46039f"
             ],
             [
              0.2222222222222222,
              "#7201a8"
             ],
             [
              0.3333333333333333,
              "#9c179e"
             ],
             [
              0.4444444444444444,
              "#bd3786"
             ],
             [
              0.5555555555555556,
              "#d8576b"
             ],
             [
              0.6666666666666666,
              "#ed7953"
             ],
             [
              0.7777777777777778,
              "#fb9f3a"
             ],
             [
              0.8888888888888888,
              "#fdca26"
             ],
             [
              1,
              "#f0f921"
             ]
            ],
            "type": "histogram2dcontour"
           }
          ],
          "mesh3d": [
           {
            "colorbar": {
             "outlinewidth": 0,
             "ticks": ""
            },
            "type": "mesh3d"
           }
          ],
          "parcoords": [
           {
            "line": {
             "colorbar": {
              "outlinewidth": 0,
              "ticks": ""
             }
            },
            "type": "parcoords"
           }
          ],
          "pie": [
           {
            "automargin": true,
            "type": "pie"
           }
          ],
          "scatter": [
           {
            "marker": {
             "colorbar": {
              "outlinewidth": 0,
              "ticks": ""
             }
            },
            "type": "scatter"
           }
          ],
          "scatter3d": [
           {
            "line": {
             "colorbar": {
              "outlinewidth": 0,
              "ticks": ""
             }
            },
            "marker": {
             "colorbar": {
              "outlinewidth": 0,
              "ticks": ""
             }
            },
            "type": "scatter3d"
           }
          ],
          "scattercarpet": [
           {
            "marker": {
             "colorbar": {
              "outlinewidth": 0,
              "ticks": ""
             }
            },
            "type": "scattercarpet"
           }
          ],
          "scattergeo": [
           {
            "marker": {
             "colorbar": {
              "outlinewidth": 0,
              "ticks": ""
             }
            },
            "type": "scattergeo"
           }
          ],
          "scattergl": [
           {
            "marker": {
             "colorbar": {
              "outlinewidth": 0,
              "ticks": ""
             }
            },
            "type": "scattergl"
           }
          ],
          "scattermapbox": [
           {
            "marker": {
             "colorbar": {
              "outlinewidth": 0,
              "ticks": ""
             }
            },
            "type": "scattermapbox"
           }
          ],
          "scatterpolar": [
           {
            "marker": {
             "colorbar": {
              "outlinewidth": 0,
              "ticks": ""
             }
            },
            "type": "scatterpolar"
           }
          ],
          "scatterpolargl": [
           {
            "marker": {
             "colorbar": {
              "outlinewidth": 0,
              "ticks": ""
             }
            },
            "type": "scatterpolargl"
           }
          ],
          "scatterternary": [
           {
            "marker": {
             "colorbar": {
              "outlinewidth": 0,
              "ticks": ""
             }
            },
            "type": "scatterternary"
           }
          ],
          "surface": [
           {
            "colorbar": {
             "outlinewidth": 0,
             "ticks": ""
            },
            "colorscale": [
             [
              0,
              "#0d0887"
             ],
             [
              0.1111111111111111,
              "#46039f"
             ],
             [
              0.2222222222222222,
              "#7201a8"
             ],
             [
              0.3333333333333333,
              "#9c179e"
             ],
             [
              0.4444444444444444,
              "#bd3786"
             ],
             [
              0.5555555555555556,
              "#d8576b"
             ],
             [
              0.6666666666666666,
              "#ed7953"
             ],
             [
              0.7777777777777778,
              "#fb9f3a"
             ],
             [
              0.8888888888888888,
              "#fdca26"
             ],
             [
              1,
              "#f0f921"
             ]
            ],
            "type": "surface"
           }
          ],
          "table": [
           {
            "cells": {
             "fill": {
              "color": "#EBF0F8"
             },
             "line": {
              "color": "white"
             }
            },
            "header": {
             "fill": {
              "color": "#C8D4E3"
             },
             "line": {
              "color": "white"
             }
            },
            "type": "table"
           }
          ]
         },
         "layout": {
          "annotationdefaults": {
           "arrowcolor": "#2a3f5f",
           "arrowhead": 0,
           "arrowwidth": 1
          },
          "autotypenumbers": "strict",
          "coloraxis": {
           "colorbar": {
            "outlinewidth": 0,
            "ticks": ""
           }
          },
          "colorscale": {
           "diverging": [
            [
             0,
             "#8e0152"
            ],
            [
             0.1,
             "#c51b7d"
            ],
            [
             0.2,
             "#de77ae"
            ],
            [
             0.3,
             "#f1b6da"
            ],
            [
             0.4,
             "#fde0ef"
            ],
            [
             0.5,
             "#f7f7f7"
            ],
            [
             0.6,
             "#e6f5d0"
            ],
            [
             0.7,
             "#b8e186"
            ],
            [
             0.8,
             "#7fbc41"
            ],
            [
             0.9,
             "#4d9221"
            ],
            [
             1,
             "#276419"
            ]
           ],
           "sequential": [
            [
             0,
             "#0d0887"
            ],
            [
             0.1111111111111111,
             "#46039f"
            ],
            [
             0.2222222222222222,
             "#7201a8"
            ],
            [
             0.3333333333333333,
             "#9c179e"
            ],
            [
             0.4444444444444444,
             "#bd3786"
            ],
            [
             0.5555555555555556,
             "#d8576b"
            ],
            [
             0.6666666666666666,
             "#ed7953"
            ],
            [
             0.7777777777777778,
             "#fb9f3a"
            ],
            [
             0.8888888888888888,
             "#fdca26"
            ],
            [
             1,
             "#f0f921"
            ]
           ],
           "sequentialminus": [
            [
             0,
             "#0d0887"
            ],
            [
             0.1111111111111111,
             "#46039f"
            ],
            [
             0.2222222222222222,
             "#7201a8"
            ],
            [
             0.3333333333333333,
             "#9c179e"
            ],
            [
             0.4444444444444444,
             "#bd3786"
            ],
            [
             0.5555555555555556,
             "#d8576b"
            ],
            [
             0.6666666666666666,
             "#ed7953"
            ],
            [
             0.7777777777777778,
             "#fb9f3a"
            ],
            [
             0.8888888888888888,
             "#fdca26"
            ],
            [
             1,
             "#f0f921"
            ]
           ]
          },
          "colorway": [
           "#636efa",
           "#EF553B",
           "#00cc96",
           "#ab63fa",
           "#FFA15A",
           "#19d3f3",
           "#FF6692",
           "#B6E880",
           "#FF97FF",
           "#FECB52"
          ],
          "font": {
           "color": "#2a3f5f"
          },
          "geo": {
           "bgcolor": "white",
           "lakecolor": "white",
           "landcolor": "#E5ECF6",
           "showlakes": true,
           "showland": true,
           "subunitcolor": "white"
          },
          "hoverlabel": {
           "align": "left"
          },
          "hovermode": "closest",
          "mapbox": {
           "style": "light"
          },
          "paper_bgcolor": "white",
          "plot_bgcolor": "#E5ECF6",
          "polar": {
           "angularaxis": {
            "gridcolor": "white",
            "linecolor": "white",
            "ticks": ""
           },
           "bgcolor": "#E5ECF6",
           "radialaxis": {
            "gridcolor": "white",
            "linecolor": "white",
            "ticks": ""
           }
          },
          "scene": {
           "xaxis": {
            "backgroundcolor": "#E5ECF6",
            "gridcolor": "white",
            "gridwidth": 2,
            "linecolor": "white",
            "showbackground": true,
            "ticks": "",
            "zerolinecolor": "white"
           },
           "yaxis": {
            "backgroundcolor": "#E5ECF6",
            "gridcolor": "white",
            "gridwidth": 2,
            "linecolor": "white",
            "showbackground": true,
            "ticks": "",
            "zerolinecolor": "white"
           },
           "zaxis": {
            "backgroundcolor": "#E5ECF6",
            "gridcolor": "white",
            "gridwidth": 2,
            "linecolor": "white",
            "showbackground": true,
            "ticks": "",
            "zerolinecolor": "white"
           }
          },
          "shapedefaults": {
           "line": {
            "color": "#2a3f5f"
           }
          },
          "ternary": {
           "aaxis": {
            "gridcolor": "white",
            "linecolor": "white",
            "ticks": ""
           },
           "baxis": {
            "gridcolor": "white",
            "linecolor": "white",
            "ticks": ""
           },
           "bgcolor": "#E5ECF6",
           "caxis": {
            "gridcolor": "white",
            "linecolor": "white",
            "ticks": ""
           }
          },
          "title": {
           "x": 0.05
          },
          "xaxis": {
           "automargin": true,
           "gridcolor": "white",
           "linecolor": "white",
           "ticks": "",
           "title": {
            "standoff": 15
           },
           "zerolinecolor": "white",
           "zerolinewidth": 2
          },
          "yaxis": {
           "automargin": true,
           "gridcolor": "white",
           "linecolor": "white",
           "ticks": "",
           "title": {
            "standoff": 15
           },
           "zerolinecolor": "white",
           "zerolinewidth": 2
          }
         }
        },
        "title": {
         "font": {
          "size": 20
         }
        },
        "width": 800,
        "xaxis": {
         "anchor": "y",
         "domain": [
          0,
          1
         ],
         "tickfont": {
          "size": 14
         },
         "title": {
          "font": {
           "color": "black",
           "size": 16
          },
          "text": "sim"
         }
        },
        "yaxis": {
         "anchor": "x",
         "domain": [
          0,
          1
         ],
         "tickfont": {
          "size": 14
         },
         "title": {
          "font": {
           "color": "black",
           "size": 16
          },
          "text": "poverty_rate"
         }
        }
       }
      }
     },
     "metadata": {}
    }
   ],
   "source": [
    "# Child poverty by sim\n",
    "child_pov_plot = px.bar(poverty_rate_child,x=\"sim\",y=\"poverty_rate\")\n",
    "format_fig(child_pov_plot)"
   ]
  },
  {
   "cell_type": "code",
   "execution_count": 29,
   "metadata": {},
   "outputs": [
    {
     "output_type": "execute_result",
     "data": {
      "text/plain": [
       "              poverty_rate\n",
       "sim                       \n",
       "baseline          0.127830\n",
       "high_ca           0.000000\n",
       "high_xpns         0.000000\n",
       "low_ca            0.000000\n",
       "low_xpns          0.000000\n",
       "replace_ca        0.120064\n",
       "replace_xpns      0.125228"
      ],
      "text/html": "<div>\n<style scoped>\n    .dataframe tbody tr th:only-of-type {\n        vertical-align: middle;\n    }\n\n    .dataframe tbody tr th {\n        vertical-align: top;\n    }\n\n    .dataframe thead th {\n        text-align: right;\n    }\n</style>\n<table border=\"1\" class=\"dataframe\">\n  <thead>\n    <tr style=\"text-align: right;\">\n      <th></th>\n      <th>poverty_rate</th>\n    </tr>\n    <tr>\n      <th>sim</th>\n      <th></th>\n    </tr>\n  </thead>\n  <tbody>\n    <tr>\n      <th>baseline</th>\n      <td>0.127830</td>\n    </tr>\n    <tr>\n      <th>high_ca</th>\n      <td>0.000000</td>\n    </tr>\n    <tr>\n      <th>high_xpns</th>\n      <td>0.000000</td>\n    </tr>\n    <tr>\n      <th>low_ca</th>\n      <td>0.000000</td>\n    </tr>\n    <tr>\n      <th>low_xpns</th>\n      <td>0.000000</td>\n    </tr>\n    <tr>\n      <th>replace_ca</th>\n      <td>0.120064</td>\n    </tr>\n    <tr>\n      <th>replace_xpns</th>\n      <td>0.125228</td>\n    </tr>\n  </tbody>\n</table>\n</div>"
     },
     "metadata": {},
     "execution_count": 29
    }
   ],
   "source": [
    "# Deep child poverty by sim \n",
    "deep_pov_child_plot = px.bar(deep_poverty_rate_child,x=\"sim\",y=\"poverty_rate\")\n",
    "format_fig(deep_pov_child_plot)"
   ]
  },
  {
   "cell_type": "code",
   "execution_count": null,
   "metadata": {},
   "outputs": [],
   "source": []
  }
 ]
}