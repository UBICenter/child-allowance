{
 "metadata": {
  "language_info": {
   "codemirror_mode": {
    "name": "ipython",
    "version": 3
   },
   "file_extension": ".py",
   "mimetype": "text/x-python",
   "name": "python",
   "nbconvert_exporter": "python",
   "pygments_lexer": "ipython3",
   "version": "3.8.3"
  },
  "orig_nbformat": 2,
  "kernelspec": {
   "name": "python38364bitbase6c54f95af6f44bd59b66f4ca87a01ddd",
   "display_name": "Python 3.8.3 64-bit ('base': conda)"
  },
  "metadata": {
   "interpreter": {
    "hash": "9702a4269d6f7fda6c2aa4753998c23781a6d1b24ee67be8de902a564ce33446"
   }
  }
 },
 "nbformat": 4,
 "nbformat_minor": 2,
 "cells": [
  {
   "source": [
    "## Simulation \n",
    "We begin by specifying packages, reading in the dataset and generating some functions that we will use repeatedly to calculate poverty rates and gini coefficients as well as to generate simple percentage changes.\n",
    "\n",
    "In the dataframe, we have spmu unit years as the level of the dataset. All values are averaged across 2018-2020."
   ],
   "cell_type": "markdown",
   "metadata": {}
  },
  {
   "cell_type": "code",
   "execution_count": 6,
   "metadata": {},
   "outputs": [],
   "source": [
    "import microdf as mdf\n",
    "import pandas as pd\n",
    "import numpy as np\n",
    "import us\n",
    "\n",
    "person_sim = pd.read_csv(\n",
    "    \"https://github.com/UBICenter/child-allowance/blob/master/jb/data/person_sim.csv.gz?raw=true\",\n",
    "    compression=\"gzip\")\n",
    "\n",
    "# Define a function to calculate poverty rates from the poverty flag\n",
    "def pov(data, group):\n",
    "    return pd.DataFrame(\n",
    "        mdf.weighted_mean(data, \"poverty_flag\", \"asecwt\", groupby=group)\n",
    "    )\n",
    "\n",
    "def deep_pov(data, group):\n",
    "    return pd.DataFrame(\n",
    "        mdf.weighted_mean(data, \"deep_poverty_flag\", \"asecwt\", groupby=group)\n",
    ")\n",
    "\n",
    "# Define function to generate gini coefficients\n",
    "def gin(data, group):\n",
    "    return pd.DataFrame(\n",
    "        data.groupby(group).apply(\n",
    "            lambda x: mdf.gini(x, \"spmftotres\", \"asecwt\")\n",
    "        )\n",
    "    )\n",
    "\n",
    "# Define percentage change function\n",
    "def percent_change(new, old):\n",
    "    return 100 * (new - old) / old"
   ]
  },
  {
   "source": [
    "We generate poverty rates for the total population and by demographics of interest, namely sex, race, whether one is a child (under 6) and by state. We similarly generate gini coefficients for the total population and by state."
   ],
   "cell_type": "markdown",
   "metadata": {}
  },
  {
   "cell_type": "code",
   "execution_count": 7,
   "metadata": {},
   "outputs": [
    {
     "output_type": "error",
     "ename": "KeyError",
     "evalue": "'scenario'",
     "traceback": [
      "\u001b[1;31m---------------------------------------------------------------------------\u001b[0m",
      "\u001b[1;31mKeyError\u001b[0m                                  Traceback (most recent call last)",
      "\u001b[1;32m<ipython-input-7-e28f3242c490>\u001b[0m in \u001b[0;36m<module>\u001b[1;34m\u001b[0m\n\u001b[0;32m      1\u001b[0m \u001b[1;31m# Poverty rates by demographics of interest\u001b[0m\u001b[1;33m\u001b[0m\u001b[1;33m\u001b[0m\u001b[1;33m\u001b[0m\u001b[0m\n\u001b[1;32m----> 2\u001b[1;33m \u001b[0mpoverty_rate\u001b[0m \u001b[1;33m=\u001b[0m \u001b[0mpov\u001b[0m\u001b[1;33m(\u001b[0m\u001b[0mperson_sim\u001b[0m\u001b[1;33m,\u001b[0m \u001b[1;33m[\u001b[0m\u001b[1;34m\"scenario\"\u001b[0m\u001b[1;33m,\u001b[0m \u001b[1;34m\"ca\"\u001b[0m\u001b[1;33m]\u001b[0m\u001b[1;33m)\u001b[0m \u001b[1;31m# Overall poverty rate\u001b[0m\u001b[1;33m\u001b[0m\u001b[1;33m\u001b[0m\u001b[0m\n\u001b[0m\u001b[0;32m      3\u001b[0m \u001b[0mpoverty_rate_sex\u001b[0m \u001b[1;33m=\u001b[0m \u001b[0mpov\u001b[0m\u001b[1;33m(\u001b[0m\u001b[0mperson_sim\u001b[0m\u001b[1;33m,\u001b[0m \u001b[1;33m[\u001b[0m\u001b[1;34m\"scenario\"\u001b[0m\u001b[1;33m,\u001b[0m \u001b[1;34m\"ca\"\u001b[0m\u001b[1;33m,\u001b[0m \u001b[1;34m\"sex\"\u001b[0m\u001b[1;33m]\u001b[0m\u001b[1;33m)\u001b[0m \u001b[1;31m# Poverty rates by sex\u001b[0m\u001b[1;33m\u001b[0m\u001b[1;33m\u001b[0m\u001b[0m\n\u001b[0;32m      4\u001b[0m \u001b[0mpoverty_rate_race_hispan\u001b[0m \u001b[1;33m=\u001b[0m \u001b[0mpov\u001b[0m\u001b[1;33m(\u001b[0m\u001b[0mperson_sim\u001b[0m\u001b[1;33m,\u001b[0m \u001b[1;33m[\u001b[0m\u001b[1;34m\"scenario\"\u001b[0m\u001b[1;33m,\u001b[0m \u001b[1;34m\"ca\"\u001b[0m\u001b[1;33m,\u001b[0m \u001b[1;34m\"race_hispan\"\u001b[0m\u001b[1;33m]\u001b[0m\u001b[1;33m)\u001b[0m  \u001b[1;31m# Poverty rates by race\u001b[0m\u001b[1;33m\u001b[0m\u001b[1;33m\u001b[0m\u001b[0m\n\u001b[0;32m      5\u001b[0m \u001b[0mpoverty_rate_child\u001b[0m \u001b[1;33m=\u001b[0m \u001b[0mpov\u001b[0m\u001b[1;33m(\u001b[0m\u001b[0mperson_sim\u001b[0m\u001b[1;33m[\u001b[0m\u001b[0mperson_sim\u001b[0m\u001b[1;33m.\u001b[0m\u001b[0mchild_6\u001b[0m\u001b[1;33m]\u001b[0m\u001b[1;33m,\u001b[0m \u001b[1;33m[\u001b[0m\u001b[1;34m\"scenario\"\u001b[0m\u001b[1;33m,\u001b[0m \u001b[1;34m\"ca\"\u001b[0m\u001b[1;33m]\u001b[0m\u001b[1;33m)\u001b[0m \u001b[1;31m# Child poverty rate\u001b[0m\u001b[1;33m\u001b[0m\u001b[1;33m\u001b[0m\u001b[0m\n",
      "\u001b[1;32m<ipython-input-6-1cb57a667354>\u001b[0m in \u001b[0;36mpov\u001b[1;34m(data, group)\u001b[0m\n\u001b[0;32m     11\u001b[0m \u001b[1;32mdef\u001b[0m \u001b[0mpov\u001b[0m\u001b[1;33m(\u001b[0m\u001b[0mdata\u001b[0m\u001b[1;33m,\u001b[0m \u001b[0mgroup\u001b[0m\u001b[1;33m)\u001b[0m\u001b[1;33m:\u001b[0m\u001b[1;33m\u001b[0m\u001b[1;33m\u001b[0m\u001b[0m\n\u001b[0;32m     12\u001b[0m     return pd.DataFrame(\n\u001b[1;32m---> 13\u001b[1;33m         \u001b[0mmdf\u001b[0m\u001b[1;33m.\u001b[0m\u001b[0mweighted_mean\u001b[0m\u001b[1;33m(\u001b[0m\u001b[0mdata\u001b[0m\u001b[1;33m,\u001b[0m \u001b[1;34m\"poverty_flag\"\u001b[0m\u001b[1;33m,\u001b[0m \u001b[1;34m\"asecwt\"\u001b[0m\u001b[1;33m,\u001b[0m \u001b[0mgroupby\u001b[0m\u001b[1;33m=\u001b[0m\u001b[0mgroup\u001b[0m\u001b[1;33m)\u001b[0m\u001b[1;33m\u001b[0m\u001b[1;33m\u001b[0m\u001b[0m\n\u001b[0m\u001b[0;32m     14\u001b[0m     )\n\u001b[0;32m     15\u001b[0m \u001b[1;33m\u001b[0m\u001b[0m\n",
      "\u001b[1;32m~\\anaconda3\\lib\\site-packages\\microdf\\weighted.py\u001b[0m in \u001b[0;36mweighted_mean\u001b[1;34m(df, col, w, groupby)\u001b[0m\n\u001b[0;32m     69\u001b[0m     \u001b[1;32mif\u001b[0m \u001b[0mw\u001b[0m \u001b[1;32mis\u001b[0m \u001b[1;32mNone\u001b[0m\u001b[1;33m:\u001b[0m\u001b[1;33m\u001b[0m\u001b[1;33m\u001b[0m\u001b[0m\n\u001b[0;32m     70\u001b[0m         \u001b[1;32mreturn\u001b[0m \u001b[0mdf\u001b[0m\u001b[1;33m.\u001b[0m\u001b[0mgroupby\u001b[0m\u001b[1;33m(\u001b[0m\u001b[0mgroupby\u001b[0m\u001b[1;33m)\u001b[0m\u001b[1;33m[\u001b[0m\u001b[0mcol\u001b[0m\u001b[1;33m]\u001b[0m\u001b[1;33m.\u001b[0m\u001b[0mmean\u001b[0m\u001b[1;33m(\u001b[0m\u001b[1;33m)\u001b[0m\u001b[1;33m\u001b[0m\u001b[1;33m\u001b[0m\u001b[0m\n\u001b[1;32m---> 71\u001b[1;33m     \u001b[1;32mreturn\u001b[0m \u001b[0mdf\u001b[0m\u001b[1;33m.\u001b[0m\u001b[0mgroupby\u001b[0m\u001b[1;33m(\u001b[0m\u001b[0mgroupby\u001b[0m\u001b[1;33m)\u001b[0m\u001b[1;33m.\u001b[0m\u001b[0mapply\u001b[0m\u001b[1;33m(\u001b[0m\u001b[1;32mlambda\u001b[0m \u001b[0mx\u001b[0m\u001b[1;33m:\u001b[0m \u001b[0m_weighted_mean\u001b[0m\u001b[1;33m(\u001b[0m\u001b[0mx\u001b[0m\u001b[1;33m,\u001b[0m \u001b[0mcol\u001b[0m\u001b[1;33m,\u001b[0m \u001b[0mw\u001b[0m\u001b[1;33m)\u001b[0m\u001b[1;33m)\u001b[0m\u001b[1;33m\u001b[0m\u001b[1;33m\u001b[0m\u001b[0m\n\u001b[0m\u001b[0;32m     72\u001b[0m \u001b[1;33m\u001b[0m\u001b[0m\n\u001b[0;32m     73\u001b[0m \u001b[1;33m\u001b[0m\u001b[0m\n",
      "\u001b[1;32m~\\anaconda3\\lib\\site-packages\\pandas\\core\\frame.py\u001b[0m in \u001b[0;36mgroupby\u001b[1;34m(self, by, axis, level, as_index, sort, group_keys, squeeze, observed)\u001b[0m\n\u001b[0;32m   5799\u001b[0m         \u001b[0maxis\u001b[0m \u001b[1;33m=\u001b[0m \u001b[0mself\u001b[0m\u001b[1;33m.\u001b[0m\u001b[0m_get_axis_number\u001b[0m\u001b[1;33m(\u001b[0m\u001b[0maxis\u001b[0m\u001b[1;33m)\u001b[0m\u001b[1;33m\u001b[0m\u001b[1;33m\u001b[0m\u001b[0m\n\u001b[0;32m   5800\u001b[0m \u001b[1;33m\u001b[0m\u001b[0m\n\u001b[1;32m-> 5801\u001b[1;33m         return groupby_generic.DataFrameGroupBy(\n\u001b[0m\u001b[0;32m   5802\u001b[0m             \u001b[0mobj\u001b[0m\u001b[1;33m=\u001b[0m\u001b[0mself\u001b[0m\u001b[1;33m,\u001b[0m\u001b[1;33m\u001b[0m\u001b[1;33m\u001b[0m\u001b[0m\n\u001b[0;32m   5803\u001b[0m             \u001b[0mkeys\u001b[0m\u001b[1;33m=\u001b[0m\u001b[0mby\u001b[0m\u001b[1;33m,\u001b[0m\u001b[1;33m\u001b[0m\u001b[1;33m\u001b[0m\u001b[0m\n",
      "\u001b[1;32m~\\anaconda3\\lib\\site-packages\\pandas\\core\\groupby\\groupby.py\u001b[0m in \u001b[0;36m__init__\u001b[1;34m(self, obj, keys, axis, level, grouper, exclusions, selection, as_index, sort, group_keys, squeeze, observed, mutated)\u001b[0m\n\u001b[0;32m    401\u001b[0m             \u001b[1;32mfrom\u001b[0m \u001b[0mpandas\u001b[0m\u001b[1;33m.\u001b[0m\u001b[0mcore\u001b[0m\u001b[1;33m.\u001b[0m\u001b[0mgroupby\u001b[0m\u001b[1;33m.\u001b[0m\u001b[0mgrouper\u001b[0m \u001b[1;32mimport\u001b[0m \u001b[0mget_grouper\u001b[0m\u001b[1;33m\u001b[0m\u001b[1;33m\u001b[0m\u001b[0m\n\u001b[0;32m    402\u001b[0m \u001b[1;33m\u001b[0m\u001b[0m\n\u001b[1;32m--> 403\u001b[1;33m             grouper, exclusions, obj = get_grouper(\n\u001b[0m\u001b[0;32m    404\u001b[0m                 \u001b[0mobj\u001b[0m\u001b[1;33m,\u001b[0m\u001b[1;33m\u001b[0m\u001b[1;33m\u001b[0m\u001b[0m\n\u001b[0;32m    405\u001b[0m                 \u001b[0mkeys\u001b[0m\u001b[1;33m,\u001b[0m\u001b[1;33m\u001b[0m\u001b[1;33m\u001b[0m\u001b[0m\n",
      "\u001b[1;32m~\\anaconda3\\lib\\site-packages\\pandas\\core\\groupby\\grouper.py\u001b[0m in \u001b[0;36mget_grouper\u001b[1;34m(obj, key, axis, level, sort, observed, mutated, validate)\u001b[0m\n\u001b[0;32m    598\u001b[0m                 \u001b[0min_axis\u001b[0m\u001b[1;33m,\u001b[0m \u001b[0mname\u001b[0m\u001b[1;33m,\u001b[0m \u001b[0mlevel\u001b[0m\u001b[1;33m,\u001b[0m \u001b[0mgpr\u001b[0m \u001b[1;33m=\u001b[0m \u001b[1;32mFalse\u001b[0m\u001b[1;33m,\u001b[0m \u001b[1;32mNone\u001b[0m\u001b[1;33m,\u001b[0m \u001b[0mgpr\u001b[0m\u001b[1;33m,\u001b[0m \u001b[1;32mNone\u001b[0m\u001b[1;33m\u001b[0m\u001b[1;33m\u001b[0m\u001b[0m\n\u001b[0;32m    599\u001b[0m             \u001b[1;32melse\u001b[0m\u001b[1;33m:\u001b[0m\u001b[1;33m\u001b[0m\u001b[1;33m\u001b[0m\u001b[0m\n\u001b[1;32m--> 600\u001b[1;33m                 \u001b[1;32mraise\u001b[0m \u001b[0mKeyError\u001b[0m\u001b[1;33m(\u001b[0m\u001b[0mgpr\u001b[0m\u001b[1;33m)\u001b[0m\u001b[1;33m\u001b[0m\u001b[1;33m\u001b[0m\u001b[0m\n\u001b[0m\u001b[0;32m    601\u001b[0m         \u001b[1;32melif\u001b[0m \u001b[0misinstance\u001b[0m\u001b[1;33m(\u001b[0m\u001b[0mgpr\u001b[0m\u001b[1;33m,\u001b[0m \u001b[0mGrouper\u001b[0m\u001b[1;33m)\u001b[0m \u001b[1;32mand\u001b[0m \u001b[0mgpr\u001b[0m\u001b[1;33m.\u001b[0m\u001b[0mkey\u001b[0m \u001b[1;32mis\u001b[0m \u001b[1;32mnot\u001b[0m \u001b[1;32mNone\u001b[0m\u001b[1;33m:\u001b[0m\u001b[1;33m\u001b[0m\u001b[1;33m\u001b[0m\u001b[0m\n\u001b[0;32m    602\u001b[0m             \u001b[1;31m# Add key to exclusions\u001b[0m\u001b[1;33m\u001b[0m\u001b[1;33m\u001b[0m\u001b[1;33m\u001b[0m\u001b[0m\n",
      "\u001b[1;31mKeyError\u001b[0m: 'scenario'"
     ]
    }
   ],
   "source": [
    "# Poverty rates by demographics of interest\n",
    "poverty_rate = pov(person_sim, [\"scenario\", \"ca\"]) # Overall poverty rate\n",
    "poverty_rate_sex = pov(person_sim, [\"scenario\", \"ca\", \"sex\"]) # Poverty rates by sex\n",
    "poverty_rate_race_hispan = pov(person_sim, [\"scenario\", \"ca\", \"race_hispan\"])  # Poverty rates by race\n",
    "poverty_rate_child = pov(person_sim[person_sim.child_6], [\"scenario\", \"ca\"]) # Child poverty rate\n",
    "\n",
    "# State-based poverty rates\n",
    "poverty_rate_state = pov(person_sim, [\"scenario\", \"ca\", \"state\"])\n",
    "\n",
    "# Rename constructed poverty_rates\n",
    "poverty_rates = [\n",
    "    poverty_rate,\n",
    "    poverty_rate_sex,\n",
    "    poverty_rate_race_hispan,\n",
    "    poverty_rate_state,\n",
    "    poverty_rate_child,\n",
    "]\n",
    "for i in poverty_rates:\n",
    "    i.rename({0: \"poverty_rate\"}, axis=1, inplace=True)\n",
    "\n",
    "    \n",
    "# Gini coefficients and state/demographic-based heterogenous gini coefficients\n",
    "gini = gin(person_sim, [\"scenario\", \"ca\"])\n",
    "gini_state = gin(person_sim, [\"scenario\", \"ca\", \"state\"])\n",
    "\n",
    "# Rename constructed gini coefficients\n",
    "ginis = [\n",
    "    gini,\n",
    "    gini_state,\n",
    "]\n",
    "for i in ginis:\n",
    "    i.rename({0: \"gini_coefficient\"}, axis=1, inplace=True)\n",
    "\n",
    "# Create pivot table to interpret state-based poverty effects\n",
    "state_pov = poverty_rate_state.pivot_table(\n",
    "    values=\"poverty_rate\", index=\"state\", columns=\"sim_flag\"\n",
    ")\n",
    "# Create pivot table to interpret state-based gini effects\n",
    "state_gini = gini_state.pivot_table(\n",
    "    values=\"gini_coefficient\", index=\"state\", columns=\"sim_flag\"\n",
    ")"
   ]
  },
  {
   "source": [
    "We then generate state-based poverty rate and gini percentage changes to reflect the impact of the simulation. "
   ],
   "cell_type": "markdown",
   "metadata": {}
  },
  {
   "cell_type": "code",
   "execution_count": null,
   "metadata": {},
   "outputs": [],
   "source": [
    "\n",
    "# Generate state-based poverty rate percentage changes\n",
    "state_pov[\"poverty_change_cc\"] =  state_pov.cc_replacement - state_pov.baseline\n",
    "state_pov[\"poverty_change_flat\"] = state_pov.child_allowance - state_pov.baseline\n",
    "state_pov[\"poverty_change_pc_cc\"] = state_pov.poverty_change_cc - state_pov.baseline\n",
    "state_pov[\"poverty_change_pc_flat\"] = (\n",
    "    state_pov.poverty_change_flat - state_pov.baseline\n",
    ")\n",
    "\n",
    "# Construct state-based gini coefficient percentage changes\n",
    "state_gini[\"gini_change_cc\"] = state_gini.cc_replacement - state_gini.baseline\n",
    "state_gini[\"gini_change_flat\"] = state_gini.child_allowance - state_gini.baseline\n",
    "state_gini[\"gini_change_pc_cc\"] = percent_change(\n",
    "    state_gini.gini_change_cc, state_gini.baseline\n",
    ")\n",
    "state_gini[\"gini_change_pc_flat\"] = percent_change(\n",
    "    state_gini.gini_change_flat, state_gini.baseline\n",
    ")\n",
    "\n",
    "# Re-arrange and present pivot tables, descending by % change\n",
    "# in poverty rate\n",
    "state_pov.sort_values(by=\"poverty_change_pc_flat\", ascending=True)\n",
    "state_gini.sort_values(by=\"gini_change_pc_flat\", ascending=True)"
   ]
  },
  {
   "source": [
    "## Analysis\n",
    "\n",
    "- To do - visualisations and analysis"
   ],
   "cell_type": "markdown",
   "metadata": {}
  },
  {
   "source": [
    "## Takeup regression analysis"
   ],
   "cell_type": "markdown",
   "metadata": {}
  },
  {
   "cell_type": "code",
   "execution_count": null,
   "metadata": {},
   "outputs": [],
   "source": [
    "\n",
    "person = person_sim[person_sim.scenario == \"baseline\"]\n",
    "reg = sm.regression.linear_model.WLS(\n",
    "    person.spmchxpns,\n",
    "    spmu[[\"spmu_infant\", \"spmu_toddler\", \"spmu_preschool\", \"spmu_age_6_12\"]],\n",
    "    weights=person.asecwt,\n",
    ")\n",
    "print(reg.summary())"
   ]
  }
 ]
}