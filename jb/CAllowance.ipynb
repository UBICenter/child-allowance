{
 "metadata": {
  "language_info": {
   "codemirror_mode": {
    "name": "ipython",
    "version": 3
   },
   "file_extension": ".py",
   "mimetype": "text/x-python",
   "name": "python",
   "nbconvert_exporter": "python",
   "pygments_lexer": "ipython3",
   "version": "3.8.3"
  },
  "orig_nbformat": 2,
  "kernelspec": {
   "name": "python38364bitbase6c54f95af6f44bd59b66f4ca87a01ddd",
   "display_name": "Python 3.8.3 64-bit ('base': conda)"
  },
  "metadata": {
   "interpreter": {
    "hash": "9702a4269d6f7fda6c2aa4753998c23781a6d1b24ee67be8de902a564ce33446"
   }
  }
 },
 "nbformat": 4,
 "nbformat_minor": 2,
 "cells": [
  {
   "source": [
    "## Simulation \n",
    "We begin by specifying packages, reading in the dataset and generating some functions that we will use repeatedly to calculate poverty rates and gini coefficients as well as to generate simple percentage changes.\n",
    "\n",
    "In the dataframe, we have spmu unit years as the level of the dataset. All values are averaged across 2018-2020."
   ],
   "cell_type": "markdown",
   "metadata": {}
  },
  {
   "cell_type": "code",
   "execution_count": 1,
   "metadata": {},
   "outputs": [],
   "source": [
    "import microdf as mdf\n",
    "import pandas as pd\n",
    "import numpy as np\n",
    "import us\n",
    "import plotly.express as px\n",
    "import plotly.graph_objects as go\n",
    "from ubicenter import format_fig\n",
    "\n",
    "person_sim = pd.read_csv(\n",
    "    \"C:\\\\Users\\\\John Walker\\\\Desktop\\\\person_sim.csv.gz\",\n",
    "    # \"jb/data/person_sim.csv.gz\",\n",
    "    compression=\"gzip\")\n",
    "person_sim.rename(columns={'scenario':'Scenario'}, inplace=True)"
   ]
  },
  {
   "cell_type": "code",
   "execution_count": 2,
   "metadata": {},
   "outputs": [],
   "source": [
    "# Define a function to calculate poverty rates from the poverty flag\n",
    "def pov(data, group):\n",
    "    return pd.DataFrame(\n",
    "        mdf.weighted_mean(data, \"poverty_flag\", \"asecwt\", groupby=group)\n",
    "    )\n",
    "\n",
    "def deep_pov(data, group):\n",
    "    return pd.DataFrame(\n",
    "        mdf.weighted_mean(data, \"deep_poverty_flag\", \"asecwt\", groupby=group)\n",
    ")\n",
    "\n",
    "# Define function to generate gini coefficients\n",
    "def gin(data, group):\n",
    "    return pd.DataFrame(\n",
    "        data.groupby(group).apply(\n",
    "            lambda x: mdf.gini(x, \"spmtotres\", \"asecwt\")\n",
    "        )\n",
    "    )\n",
    "\n",
    "# Define percentage change function\n",
    "def percent_change(new, old):\n",
    "    return 100 * (new - old) / old"
   ]
  },
  {
   "source": [
    "We generate poverty rates for the total population and by demographics of interest, namely sex, race, whether one is a child (under 6) and by state. We similarly generate gini coefficients for the total population and by state."
   ],
   "cell_type": "markdown",
   "metadata": {}
  },
  {
   "cell_type": "code",
   "execution_count": 59,
   "metadata": {},
   "outputs": [],
   "source": [
    "# Poverty rates by demographics of interest\n",
    "poverty_rate = pov(person_sim, [\"scenario\", \"ca\"]) # Overall poverty rate\n",
    "poverty_rate_sex = pov(person_sim, [\"scenario\", \"ca\", \"sex\"]) # Poverty rates by sex\n",
    "poverty_rate_race_hispan = pov(person_sim, [\"scenario\", \"ca\", \"race_hispan\"])  # Poverty rates by race\n",
    "poverty_rate_age = pov(person_sim, [\"scenario\", \"ca\", \"age_cat\"]) # Poverty rate by child age\n",
    "poverty_rate_child = pov(person_sim, [\"scenario\", \"ca\", \"child_6\"]) # Poverty rate by child age\n",
    "\n",
    "# State-based poverty rates\n",
    "poverty_rate_state = pov(person_sim, [\"scenario\", \"ca\", \"state\"])\n",
    "\n",
    "# Rename constructed poverty_rates\n",
    "poverty_rates = [\n",
    "    poverty_rate,\n",
    "    poverty_rate_sex,\n",
    "    poverty_rate_race_hispan,\n",
    "    poverty_rate_state,\n",
    "    poverty_rate_age,\n",
    "]\n",
    "for i in poverty_rates:\n",
    "    i.rename({0: \"poverty_rate\"}, axis=1, inplace=True)\n",
    "\n",
    "for j in poverty_rates:\n",
    "    j = j.reset_index(inplace=True)"
   ]
  },
  {
   "cell_type": "code",
   "execution_count": 60,
   "metadata": {},
   "outputs": [],
   "source": [
    "# Deep poverty rates by demographics of interest\n",
    "deep_poverty_rate = deep_pov(person_sim, [\"scenario\", \"ca\"]) # Overall poverty rate\n",
    "deep_poverty_rate_sex = deep_pov(person_sim, [\"scenario\", \"ca\", \"sex\"]) # Poverty rates by sex\n",
    "deep_poverty_rate_race_hispan = deep_pov(person_sim, [\"scenario\", \"ca\", \"race_hispan\"])  # Poverty rates by race\n",
    "deep_poverty_rate_age = deep_pov(person_sim, [\"scenario\", \"ca\", \"age_cat\"]) # Poverty rate by child age\n",
    "deep_poverty_rate_child = pov(person_sim, [\"scenario\", \"ca\", \"child_6\"]) # Poverty rate by child age\n",
    "\n",
    "# State-based deep poverty rates\n",
    "deep_poverty_rate_state = deep_pov(person_sim, [\"scenario\", \"ca\", \"state\"])\n",
    "\n",
    "# Rename constructed poverty_rates\n",
    "deep_poverty_rates = [\n",
    "    deep_poverty_rate,\n",
    "    deep_poverty_rate_sex,\n",
    "    deep_poverty_rate_race_hispan,\n",
    "    deep_poverty_rate_state,\n",
    "    deep_poverty_rate_age,\n",
    "]\n",
    "for i in deep_poverty_rates:\n",
    "    i.rename({0: \"deep_poverty_rate\"}, axis=1, inplace=True)\n",
    "\n",
    "for j in deep_poverty_rates:\n",
    "    j = j.reset_index(inplace=True)"
   ]
  },
  {
   "cell_type": "code",
   "execution_count": 30,
   "metadata": {},
   "outputs": [],
   "source": [
    "# Gini coefficients and state-based heterogenous gini coefficients\n",
    "gini = gin(person_sim, [\"scenario\", \"ca\"])\n",
    "gini_state = gin(person_sim, [\"scenario\", \"ca\", \"state\"])\n",
    "\n",
    "# Rename constructed gini coefficients\n",
    "ginis = [\n",
    "    gini,\n",
    "    gini_state,\n",
    "]\n",
    "for i in ginis:\n",
    "    i.rename({0: \"gini_coefficient\"}, axis=1, inplace=True)\n",
    "for j in ginis:\n",
    "    j = j.reset_index(inplace=True)"
   ]
  },
  {
   "cell_type": "code",
   "execution_count": 69,
   "metadata": {},
   "outputs": [
    {
     "output_type": "error",
     "ename": "IndexError",
     "evalue": "only integers, slices (`:`), ellipsis (`...`), numpy.newaxis (`None`) and integer or boolean arrays are valid indices",
     "traceback": [
      "\u001b[1;31m---------------------------------------------------------------------------\u001b[0m",
      "\u001b[1;31mIndexError\u001b[0m                                Traceback (most recent call last)",
      "\u001b[1;32m<ipython-input-69-2d1a4c14c203>\u001b[0m in \u001b[0;36m<module>\u001b[1;34m\u001b[0m\n\u001b[1;32m----> 1\u001b[1;33m \u001b[0mpoverty_rate\u001b[0m\u001b[1;33m.\u001b[0m\u001b[0mcolumns\u001b[0m\u001b[1;33m[\u001b[0m\u001b[1;34m\"scenario\"\u001b[0m\u001b[1;33m]\u001b[0m\u001b[1;33m\u001b[0m\u001b[1;33m\u001b[0m\u001b[0m\n\u001b[0m",
      "\u001b[1;32m~\\anaconda3\\lib\\site-packages\\pandas\\core\\indexes\\base.py\u001b[0m in \u001b[0;36m__getitem__\u001b[1;34m(self, key)\u001b[0m\n\u001b[0;32m   3928\u001b[0m         \u001b[1;32mif\u001b[0m \u001b[0mis_scalar\u001b[0m\u001b[1;33m(\u001b[0m\u001b[0mkey\u001b[0m\u001b[1;33m)\u001b[0m\u001b[1;33m:\u001b[0m\u001b[1;33m\u001b[0m\u001b[1;33m\u001b[0m\u001b[0m\n\u001b[0;32m   3929\u001b[0m             \u001b[0mkey\u001b[0m \u001b[1;33m=\u001b[0m \u001b[0mcom\u001b[0m\u001b[1;33m.\u001b[0m\u001b[0mcast_scalar_indexer\u001b[0m\u001b[1;33m(\u001b[0m\u001b[0mkey\u001b[0m\u001b[1;33m)\u001b[0m\u001b[1;33m\u001b[0m\u001b[1;33m\u001b[0m\u001b[0m\n\u001b[1;32m-> 3930\u001b[1;33m             \u001b[1;32mreturn\u001b[0m \u001b[0mgetitem\u001b[0m\u001b[1;33m(\u001b[0m\u001b[0mkey\u001b[0m\u001b[1;33m)\u001b[0m\u001b[1;33m\u001b[0m\u001b[1;33m\u001b[0m\u001b[0m\n\u001b[0m\u001b[0;32m   3931\u001b[0m \u001b[1;33m\u001b[0m\u001b[0m\n\u001b[0;32m   3932\u001b[0m         \u001b[1;32mif\u001b[0m \u001b[0misinstance\u001b[0m\u001b[1;33m(\u001b[0m\u001b[0mkey\u001b[0m\u001b[1;33m,\u001b[0m \u001b[0mslice\u001b[0m\u001b[1;33m)\u001b[0m\u001b[1;33m:\u001b[0m\u001b[1;33m\u001b[0m\u001b[1;33m\u001b[0m\u001b[0m\n",
      "\u001b[1;31mIndexError\u001b[0m: only integers, slices (`:`), ellipsis (`...`), numpy.newaxis (`None`) and integer or boolean arrays are valid indices"
     ]
    }
   ],
   "source": [
    "poverty_rate.columns"
   ]
  },
  {
   "cell_type": "code",
   "execution_count": 14,
   "metadata": {},
   "outputs": [
    {
     "output_type": "display_data",
     "data": {
      "application/vnd.plotly.v1+json": {
       "config": {
        "displayModeBar": false,
        "plotlyServerURL": "https://plot.ly"
       },
       "data": [
        {
         "alignmentgroup": "True",
         "hovertemplate": "Transfer type=Child care<br>scenario=%{x}<br>Percentage difference in poverty from baseline=%{y}<extra></extra>",
         "legendgroup": "Child care",
         "marker": {
          "color": "steelblue"
         },
         "name": "Child care",
         "offsetgroup": "Child care",
         "orientation": "v",
         "showlegend": true,
         "textposition": "auto",
         "type": "bar",
         "x": [
          "Expense replacement",
          "Base quality",
          "High quality"
         ],
         "xaxis": "x",
         "y": [
          -2.035758661171341,
          -17.171130122523433,
          -21.868796486881696
         ],
         "yaxis": "y"
        },
        {
         "alignmentgroup": "True",
         "hovertemplate": "Transfer type=Child allowance<br>scenario=%{x}<br>Percentage difference in poverty from baseline=%{y}<extra></extra>",
         "legendgroup": "Child allowance",
         "marker": {
          "color": "grey"
         },
         "name": "Child allowance",
         "offsetgroup": "Child allowance",
         "orientation": "v",
         "showlegend": true,
         "textposition": "auto",
         "type": "bar",
         "x": [
          "Expense replacement",
          "Base quality",
          "High quality"
         ],
         "xaxis": "x",
         "y": [
          -6.075522308332052,
          -17.379115115560044,
          -21.916662881139512
         ],
         "yaxis": "y"
        }
       ],
       "layout": {
        "barmode": "group",
        "font": {
         "family": "Roboto"
        },
        "height": 600,
        "hoverlabel": {
         "align": "right"
        },
        "images": [
         {
          "sizex": 0.12,
          "sizey": 0.12,
          "source": "https://raw.githubusercontent.com/UBICenter/blog/master/jb/_static/ubi_center_logo_wide_blue.png",
          "x": 0.98,
          "xanchor": "right",
          "xref": "paper",
          "y": -0.12,
          "yanchor": "bottom",
          "yref": "paper"
         }
        ],
        "legend": {
         "title": {
          "text": "Transfer type"
         },
         "tracegroupgap": 0
        },
        "margin": {
         "t": 60
        },
        "paper_bgcolor": "white",
        "plot_bgcolor": "white",
        "template": {
         "data": {
          "bar": [
           {
            "error_x": {
             "color": "#2a3f5f"
            },
            "error_y": {
             "color": "#2a3f5f"
            },
            "marker": {
             "line": {
              "color": "#E5ECF6",
              "width": 0.5
             }
            },
            "type": "bar"
           }
          ],
          "barpolar": [
           {
            "marker": {
             "line": {
              "color": "#E5ECF6",
              "width": 0.5
             }
            },
            "type": "barpolar"
           }
          ],
          "carpet": [
           {
            "aaxis": {
             "endlinecolor": "#2a3f5f",
             "gridcolor": "white",
             "linecolor": "white",
             "minorgridcolor": "white",
             "startlinecolor": "#2a3f5f"
            },
            "baxis": {
             "endlinecolor": "#2a3f5f",
             "gridcolor": "white",
             "linecolor": "white",
             "minorgridcolor": "white",
             "startlinecolor": "#2a3f5f"
            },
            "type": "carpet"
           }
          ],
          "choropleth": [
           {
            "colorbar": {
             "outlinewidth": 0,
             "ticks": ""
            },
            "type": "choropleth"
           }
          ],
          "contour": [
           {
            "colorbar": {
             "outlinewidth": 0,
             "ticks": ""
            },
            "colorscale": [
             [
              0,
              "#0d0887"
             ],
             [
              0.1111111111111111,
              "#46039f"
             ],
             [
              0.2222222222222222,
              "#7201a8"
             ],
             [
              0.3333333333333333,
              "#9c179e"
             ],
             [
              0.4444444444444444,
              "#bd3786"
             ],
             [
              0.5555555555555556,
              "#d8576b"
             ],
             [
              0.6666666666666666,
              "#ed7953"
             ],
             [
              0.7777777777777778,
              "#fb9f3a"
             ],
             [
              0.8888888888888888,
              "#fdca26"
             ],
             [
              1,
              "#f0f921"
             ]
            ],
            "type": "contour"
           }
          ],
          "contourcarpet": [
           {
            "colorbar": {
             "outlinewidth": 0,
             "ticks": ""
            },
            "type": "contourcarpet"
           }
          ],
          "heatmap": [
           {
            "colorbar": {
             "outlinewidth": 0,
             "ticks": ""
            },
            "colorscale": [
             [
              0,
              "#0d0887"
             ],
             [
              0.1111111111111111,
              "#46039f"
             ],
             [
              0.2222222222222222,
              "#7201a8"
             ],
             [
              0.3333333333333333,
              "#9c179e"
             ],
             [
              0.4444444444444444,
              "#bd3786"
             ],
             [
              0.5555555555555556,
              "#d8576b"
             ],
             [
              0.6666666666666666,
              "#ed7953"
             ],
             [
              0.7777777777777778,
              "#fb9f3a"
             ],
             [
              0.8888888888888888,
              "#fdca26"
             ],
             [
              1,
              "#f0f921"
             ]
            ],
            "type": "heatmap"
           }
          ],
          "heatmapgl": [
           {
            "colorbar": {
             "outlinewidth": 0,
             "ticks": ""
            },
            "colorscale": [
             [
              0,
              "#0d0887"
             ],
             [
              0.1111111111111111,
              "#46039f"
             ],
             [
              0.2222222222222222,
              "#7201a8"
             ],
             [
              0.3333333333333333,
              "#9c179e"
             ],
             [
              0.4444444444444444,
              "#bd3786"
             ],
             [
              0.5555555555555556,
              "#d8576b"
             ],
             [
              0.6666666666666666,
              "#ed7953"
             ],
             [
              0.7777777777777778,
              "#fb9f3a"
             ],
             [
              0.8888888888888888,
              "#fdca26"
             ],
             [
              1,
              "#f0f921"
             ]
            ],
            "type": "heatmapgl"
           }
          ],
          "histogram": [
           {
            "marker": {
             "colorbar": {
              "outlinewidth": 0,
              "ticks": ""
             }
            },
            "type": "histogram"
           }
          ],
          "histogram2d": [
           {
            "colorbar": {
             "outlinewidth": 0,
             "ticks": ""
            },
            "colorscale": [
             [
              0,
              "#0d0887"
             ],
             [
              0.1111111111111111,
              "#46039f"
             ],
             [
              0.2222222222222222,
              "#7201a8"
             ],
             [
              0.3333333333333333,
              "#9c179e"
             ],
             [
              0.4444444444444444,
              "#bd3786"
             ],
             [
              0.5555555555555556,
              "#d8576b"
             ],
             [
              0.6666666666666666,
              "#ed7953"
             ],
             [
              0.7777777777777778,
              "#fb9f3a"
             ],
             [
              0.8888888888888888,
              "#fdca26"
             ],
             [
              1,
              "#f0f921"
             ]
            ],
            "type": "histogram2d"
           }
          ],
          "histogram2dcontour": [
           {
            "colorbar": {
             "outlinewidth": 0,
             "ticks": ""
            },
            "colorscale": [
             [
              0,
              "#0d0887"
             ],
             [
              0.1111111111111111,
              "#46039f"
             ],
             [
              0.2222222222222222,
              "#7201a8"
             ],
             [
              0.3333333333333333,
              "#9c179e"
             ],
             [
              0.4444444444444444,
              "#bd3786"
             ],
             [
              0.5555555555555556,
              "#d8576b"
             ],
             [
              0.6666666666666666,
              "#ed7953"
             ],
             [
              0.7777777777777778,
              "#fb9f3a"
             ],
             [
              0.8888888888888888,
              "#fdca26"
             ],
             [
              1,
              "#f0f921"
             ]
            ],
            "type": "histogram2dcontour"
           }
          ],
          "mesh3d": [
           {
            "colorbar": {
             "outlinewidth": 0,
             "ticks": ""
            },
            "type": "mesh3d"
           }
          ],
          "parcoords": [
           {
            "line": {
             "colorbar": {
              "outlinewidth": 0,
              "ticks": ""
             }
            },
            "type": "parcoords"
           }
          ],
          "pie": [
           {
            "automargin": true,
            "type": "pie"
           }
          ],
          "scatter": [
           {
            "marker": {
             "colorbar": {
              "outlinewidth": 0,
              "ticks": ""
             }
            },
            "type": "scatter"
           }
          ],
          "scatter3d": [
           {
            "line": {
             "colorbar": {
              "outlinewidth": 0,
              "ticks": ""
             }
            },
            "marker": {
             "colorbar": {
              "outlinewidth": 0,
              "ticks": ""
             }
            },
            "type": "scatter3d"
           }
          ],
          "scattercarpet": [
           {
            "marker": {
             "colorbar": {
              "outlinewidth": 0,
              "ticks": ""
             }
            },
            "type": "scattercarpet"
           }
          ],
          "scattergeo": [
           {
            "marker": {
             "colorbar": {
              "outlinewidth": 0,
              "ticks": ""
             }
            },
            "type": "scattergeo"
           }
          ],
          "scattergl": [
           {
            "marker": {
             "colorbar": {
              "outlinewidth": 0,
              "ticks": ""
             }
            },
            "type": "scattergl"
           }
          ],
          "scattermapbox": [
           {
            "marker": {
             "colorbar": {
              "outlinewidth": 0,
              "ticks": ""
             }
            },
            "type": "scattermapbox"
           }
          ],
          "scatterpolar": [
           {
            "marker": {
             "colorbar": {
              "outlinewidth": 0,
              "ticks": ""
             }
            },
            "type": "scatterpolar"
           }
          ],
          "scatterpolargl": [
           {
            "marker": {
             "colorbar": {
              "outlinewidth": 0,
              "ticks": ""
             }
            },
            "type": "scatterpolargl"
           }
          ],
          "scatterternary": [
           {
            "marker": {
             "colorbar": {
              "outlinewidth": 0,
              "ticks": ""
             }
            },
            "type": "scatterternary"
           }
          ],
          "surface": [
           {
            "colorbar": {
             "outlinewidth": 0,
             "ticks": ""
            },
            "colorscale": [
             [
              0,
              "#0d0887"
             ],
             [
              0.1111111111111111,
              "#46039f"
             ],
             [
              0.2222222222222222,
              "#7201a8"
             ],
             [
              0.3333333333333333,
              "#9c179e"
             ],
             [
              0.4444444444444444,
              "#bd3786"
             ],
             [
              0.5555555555555556,
              "#d8576b"
             ],
             [
              0.6666666666666666,
              "#ed7953"
             ],
             [
              0.7777777777777778,
              "#fb9f3a"
             ],
             [
              0.8888888888888888,
              "#fdca26"
             ],
             [
              1,
              "#f0f921"
             ]
            ],
            "type": "surface"
           }
          ],
          "table": [
           {
            "cells": {
             "fill": {
              "color": "#EBF0F8"
             },
             "line": {
              "color": "white"
             }
            },
            "header": {
             "fill": {
              "color": "#C8D4E3"
             },
             "line": {
              "color": "white"
             }
            },
            "type": "table"
           }
          ]
         },
         "layout": {
          "annotationdefaults": {
           "arrowcolor": "#2a3f5f",
           "arrowhead": 0,
           "arrowwidth": 1
          },
          "autotypenumbers": "strict",
          "coloraxis": {
           "colorbar": {
            "outlinewidth": 0,
            "ticks": ""
           }
          },
          "colorscale": {
           "diverging": [
            [
             0,
             "#8e0152"
            ],
            [
             0.1,
             "#c51b7d"
            ],
            [
             0.2,
             "#de77ae"
            ],
            [
             0.3,
             "#f1b6da"
            ],
            [
             0.4,
             "#fde0ef"
            ],
            [
             0.5,
             "#f7f7f7"
            ],
            [
             0.6,
             "#e6f5d0"
            ],
            [
             0.7,
             "#b8e186"
            ],
            [
             0.8,
             "#7fbc41"
            ],
            [
             0.9,
             "#4d9221"
            ],
            [
             1,
             "#276419"
            ]
           ],
           "sequential": [
            [
             0,
             "#0d0887"
            ],
            [
             0.1111111111111111,
             "#46039f"
            ],
            [
             0.2222222222222222,
             "#7201a8"
            ],
            [
             0.3333333333333333,
             "#9c179e"
            ],
            [
             0.4444444444444444,
             "#bd3786"
            ],
            [
             0.5555555555555556,
             "#d8576b"
            ],
            [
             0.6666666666666666,
             "#ed7953"
            ],
            [
             0.7777777777777778,
             "#fb9f3a"
            ],
            [
             0.8888888888888888,
             "#fdca26"
            ],
            [
             1,
             "#f0f921"
            ]
           ],
           "sequentialminus": [
            [
             0,
             "#0d0887"
            ],
            [
             0.1111111111111111,
             "#46039f"
            ],
            [
             0.2222222222222222,
             "#7201a8"
            ],
            [
             0.3333333333333333,
             "#9c179e"
            ],
            [
             0.4444444444444444,
             "#bd3786"
            ],
            [
             0.5555555555555556,
             "#d8576b"
            ],
            [
             0.6666666666666666,
             "#ed7953"
            ],
            [
             0.7777777777777778,
             "#fb9f3a"
            ],
            [
             0.8888888888888888,
             "#fdca26"
            ],
            [
             1,
             "#f0f921"
            ]
           ]
          },
          "colorway": [
           "#636efa",
           "#EF553B",
           "#00cc96",
           "#ab63fa",
           "#FFA15A",
           "#19d3f3",
           "#FF6692",
           "#B6E880",
           "#FF97FF",
           "#FECB52"
          ],
          "font": {
           "color": "#2a3f5f"
          },
          "geo": {
           "bgcolor": "white",
           "lakecolor": "white",
           "landcolor": "#E5ECF6",
           "showlakes": true,
           "showland": true,
           "subunitcolor": "white"
          },
          "hoverlabel": {
           "align": "left"
          },
          "hovermode": "closest",
          "mapbox": {
           "style": "light"
          },
          "paper_bgcolor": "white",
          "plot_bgcolor": "#E5ECF6",
          "polar": {
           "angularaxis": {
            "gridcolor": "white",
            "linecolor": "white",
            "ticks": ""
           },
           "bgcolor": "#E5ECF6",
           "radialaxis": {
            "gridcolor": "white",
            "linecolor": "white",
            "ticks": ""
           }
          },
          "scene": {
           "xaxis": {
            "backgroundcolor": "#E5ECF6",
            "gridcolor": "white",
            "gridwidth": 2,
            "linecolor": "white",
            "showbackground": true,
            "ticks": "",
            "zerolinecolor": "white"
           },
           "yaxis": {
            "backgroundcolor": "#E5ECF6",
            "gridcolor": "white",
            "gridwidth": 2,
            "linecolor": "white",
            "showbackground": true,
            "ticks": "",
            "zerolinecolor": "white"
           },
           "zaxis": {
            "backgroundcolor": "#E5ECF6",
            "gridcolor": "white",
            "gridwidth": 2,
            "linecolor": "white",
            "showbackground": true,
            "ticks": "",
            "zerolinecolor": "white"
           }
          },
          "shapedefaults": {
           "line": {
            "color": "#2a3f5f"
           }
          },
          "ternary": {
           "aaxis": {
            "gridcolor": "white",
            "linecolor": "white",
            "ticks": ""
           },
           "baxis": {
            "gridcolor": "white",
            "linecolor": "white",
            "ticks": ""
           },
           "bgcolor": "#E5ECF6",
           "caxis": {
            "gridcolor": "white",
            "linecolor": "white",
            "ticks": ""
           }
          },
          "title": {
           "x": 0.05
          },
          "xaxis": {
           "automargin": true,
           "gridcolor": "white",
           "linecolor": "white",
           "ticks": "",
           "title": {
            "standoff": 15
           },
           "zerolinecolor": "white",
           "zerolinewidth": 2
          },
          "yaxis": {
           "automargin": true,
           "gridcolor": "white",
           "linecolor": "white",
           "ticks": "",
           "title": {
            "standoff": 15
           },
           "zerolinecolor": "white",
           "zerolinewidth": 2
          }
         }
        },
        "title": {
         "font": {
          "size": 20
         }
        },
        "width": 800,
        "xaxis": {
         "anchor": "y",
         "domain": [
          0,
          1
         ],
         "tickfont": {
          "size": 14
         },
         "title": {
          "font": {
           "color": "black",
           "size": 16
          },
          "text": "scenario"
         }
        },
        "yaxis": {
         "anchor": "x",
         "domain": [
          0,
          1
         ],
         "tickfont": {
          "size": 14
         },
         "title": {
          "font": {
           "color": "black",
           "size": 16
          },
          "text": "Percentage difference in poverty from baseline"
         }
        }
       }
      }
     },
     "metadata": {}
    }
   ],
   "source": [
    "# Poverty plot\n",
    "# Use pivot table to construct difference / percentage change in pov measures \n",
    "pov_wide = poverty_rate[poverty_rate.scenario!=\"baseline\"].pivot_table(\"poverty_rate\",\"scenario\",\"ca\")\n",
    "pov_wide[\"baseline\"] = poverty_rate[poverty_rate.scenario == \"baseline\"].poverty_rate.values[0]\n",
    "pov_wide = pov_wide.reset_index()\n",
    "pov_wide.columns = [\"scenario\", \"child care\", \"child allowance\", \"baseline\"]\n",
    "pov_wide[\"pdif_base_cc\"] = percent_change(pov_wide[\"child care\"],pov_wide[\"baseline\"])\n",
    "pov_wide[\"pdif_base_ca\"] = percent_change(pov_wide[\"child allowance\"],pov_wide[\"baseline\"])\n",
    "pov_wide[\"pdif_ca_cc\"] = percent_change(pov_wide[\"child allowance\"],pov_wide[\"child care\"])\n",
    "\n",
    "# Prepare dataframe for plot output\n",
    "no_ca_rows = {\"scenario\":pov_wide[\"scenario\"], \"Transfer type\":\"Child care\", \"Percentage difference in poverty from baseline\":pov_wide[\"pdif_base_cc\"]}\n",
    "no_ca_rows = pd.DataFrame(no_ca_rows)\n",
    "row_1 = no_ca_rows[no_ca_rows.scenario == \"cc_replacement\"]\n",
    "row_2 = no_ca_rows[no_ca_rows.scenario == \"low_cc_full\"]\n",
    "row_3 = no_ca_rows[no_ca_rows.scenario == \"high_cc_full\"]\n",
    "\n",
    "ca_rows = {\"scenario\":pov_wide[\"scenario\"], \"Transfer type\":\"Child allowance\", \"Percentage difference in poverty from baseline\":pov_wide[\"pdif_base_ca\"]}\n",
    "ca_rows = pd.DataFrame(ca_rows)\n",
    "row_4 = ca_rows[ca_rows.scenario == \"cc_replacement\"]\n",
    "row_5 = ca_rows[ca_rows.scenario == \"low_cc_full\"]\n",
    "row_6 = ca_rows[ca_rows.scenario == \"high_cc_full\"]\n",
    "\n",
    "# Append the rows\n",
    "row_2 = row_1.append(row_2)\n",
    "row_3 = row_2.append(row_3)\n",
    "row_4 = row_3.append(row_4)\n",
    "row_5 = row_4.append(row_5)\n",
    "row_6 = row_5.append(row_6)\n",
    "pov_long = row_6\n",
    "\n",
    "# Rename scenarios\n",
    "pov_long.loc[pov_long.scenario == \"cc_replacement\", \"scenario\"] = \"Expense replacement\"\n",
    "pov_long.loc[pov_long.scenario == \"high_cc_full\", \"scenario\"] = \"High quality\"\n",
    "pov_long.loc[pov_long.scenario == \"low_cc_full\", \"scenario\"] = \"Base quality\" \n",
    "\n",
    "pov_plot = px.bar(pov_long, x=\"scenario\", y=\"Percentage difference in poverty from baseline\", color=\"Transfer type\", barmode=\"group\",color_discrete_map={\"Child care\":\"steelblue\",\"Child allowance\":\"grey\"})\n",
    "format_fig(pov_plot)\n"
   ]
  },
  {
   "cell_type": "code",
   "execution_count": 15,
   "metadata": {},
   "outputs": [
    {
     "output_type": "display_data",
     "data": {
      "application/vnd.plotly.v1+json": {
       "config": {
        "displayModeBar": false,
        "plotlyServerURL": "https://plot.ly"
       },
       "data": [
        {
         "alignmentgroup": "True",
         "hovertemplate": "Transfer type=Child care<br>scenario=%{x}<br>Percentage difference in poverty from baseline=%{y}<extra></extra>",
         "legendgroup": "Child care",
         "marker": {
          "color": "steelblue"
         },
         "name": "Child care",
         "offsetgroup": "Child care",
         "orientation": "v",
         "showlegend": true,
         "textposition": "auto",
         "type": "bar",
         "x": [
          "Expense replacement",
          "Base quality",
          "High quality"
         ],
         "xaxis": "x",
         "y": [
          -1.3946962099866878,
          -14.864164895867491,
          -18.21705864512569
         ],
         "yaxis": "y"
        },
        {
         "alignmentgroup": "True",
         "hovertemplate": "Transfer type=Child allowance<br>scenario=%{x}<br>Percentage difference in poverty from baseline=%{y}<extra></extra>",
         "legendgroup": "Child allowance",
         "marker": {
          "color": "grey"
         },
         "name": "Child allowance",
         "offsetgroup": "Child allowance",
         "orientation": "v",
         "showlegend": true,
         "textposition": "auto",
         "type": "bar",
         "x": [
          "Expense replacement",
          "Base quality",
          "High quality"
         ],
         "xaxis": "x",
         "y": [
          -5.795619634738848,
          -14.96242023381289,
          -18.20785176690889
         ],
         "yaxis": "y"
        }
       ],
       "layout": {
        "barmode": "group",
        "font": {
         "family": "Roboto"
        },
        "height": 600,
        "hoverlabel": {
         "align": "right"
        },
        "images": [
         {
          "sizex": 0.12,
          "sizey": 0.12,
          "source": "https://raw.githubusercontent.com/UBICenter/blog/master/jb/_static/ubi_center_logo_wide_blue.png",
          "x": 0.98,
          "xanchor": "right",
          "xref": "paper",
          "y": -0.12,
          "yanchor": "bottom",
          "yref": "paper"
         }
        ],
        "legend": {
         "title": {
          "text": "Transfer type"
         },
         "tracegroupgap": 0
        },
        "margin": {
         "t": 60
        },
        "paper_bgcolor": "white",
        "plot_bgcolor": "white",
        "template": {
         "data": {
          "bar": [
           {
            "error_x": {
             "color": "#2a3f5f"
            },
            "error_y": {
             "color": "#2a3f5f"
            },
            "marker": {
             "line": {
              "color": "#E5ECF6",
              "width": 0.5
             }
            },
            "type": "bar"
           }
          ],
          "barpolar": [
           {
            "marker": {
             "line": {
              "color": "#E5ECF6",
              "width": 0.5
             }
            },
            "type": "barpolar"
           }
          ],
          "carpet": [
           {
            "aaxis": {
             "endlinecolor": "#2a3f5f",
             "gridcolor": "white",
             "linecolor": "white",
             "minorgridcolor": "white",
             "startlinecolor": "#2a3f5f"
            },
            "baxis": {
             "endlinecolor": "#2a3f5f",
             "gridcolor": "white",
             "linecolor": "white",
             "minorgridcolor": "white",
             "startlinecolor": "#2a3f5f"
            },
            "type": "carpet"
           }
          ],
          "choropleth": [
           {
            "colorbar": {
             "outlinewidth": 0,
             "ticks": ""
            },
            "type": "choropleth"
           }
          ],
          "contour": [
           {
            "colorbar": {
             "outlinewidth": 0,
             "ticks": ""
            },
            "colorscale": [
             [
              0,
              "#0d0887"
             ],
             [
              0.1111111111111111,
              "#46039f"
             ],
             [
              0.2222222222222222,
              "#7201a8"
             ],
             [
              0.3333333333333333,
              "#9c179e"
             ],
             [
              0.4444444444444444,
              "#bd3786"
             ],
             [
              0.5555555555555556,
              "#d8576b"
             ],
             [
              0.6666666666666666,
              "#ed7953"
             ],
             [
              0.7777777777777778,
              "#fb9f3a"
             ],
             [
              0.8888888888888888,
              "#fdca26"
             ],
             [
              1,
              "#f0f921"
             ]
            ],
            "type": "contour"
           }
          ],
          "contourcarpet": [
           {
            "colorbar": {
             "outlinewidth": 0,
             "ticks": ""
            },
            "type": "contourcarpet"
           }
          ],
          "heatmap": [
           {
            "colorbar": {
             "outlinewidth": 0,
             "ticks": ""
            },
            "colorscale": [
             [
              0,
              "#0d0887"
             ],
             [
              0.1111111111111111,
              "#46039f"
             ],
             [
              0.2222222222222222,
              "#7201a8"
             ],
             [
              0.3333333333333333,
              "#9c179e"
             ],
             [
              0.4444444444444444,
              "#bd3786"
             ],
             [
              0.5555555555555556,
              "#d8576b"
             ],
             [
              0.6666666666666666,
              "#ed7953"
             ],
             [
              0.7777777777777778,
              "#fb9f3a"
             ],
             [
              0.8888888888888888,
              "#fdca26"
             ],
             [
              1,
              "#f0f921"
             ]
            ],
            "type": "heatmap"
           }
          ],
          "heatmapgl": [
           {
            "colorbar": {
             "outlinewidth": 0,
             "ticks": ""
            },
            "colorscale": [
             [
              0,
              "#0d0887"
             ],
             [
              0.1111111111111111,
              "#46039f"
             ],
             [
              0.2222222222222222,
              "#7201a8"
             ],
             [
              0.3333333333333333,
              "#9c179e"
             ],
             [
              0.4444444444444444,
              "#bd3786"
             ],
             [
              0.5555555555555556,
              "#d8576b"
             ],
             [
              0.6666666666666666,
              "#ed7953"
             ],
             [
              0.7777777777777778,
              "#fb9f3a"
             ],
             [
              0.8888888888888888,
              "#fdca26"
             ],
             [
              1,
              "#f0f921"
             ]
            ],
            "type": "heatmapgl"
           }
          ],
          "histogram": [
           {
            "marker": {
             "colorbar": {
              "outlinewidth": 0,
              "ticks": ""
             }
            },
            "type": "histogram"
           }
          ],
          "histogram2d": [
           {
            "colorbar": {
             "outlinewidth": 0,
             "ticks": ""
            },
            "colorscale": [
             [
              0,
              "#0d0887"
             ],
             [
              0.1111111111111111,
              "#46039f"
             ],
             [
              0.2222222222222222,
              "#7201a8"
             ],
             [
              0.3333333333333333,
              "#9c179e"
             ],
             [
              0.4444444444444444,
              "#bd3786"
             ],
             [
              0.5555555555555556,
              "#d8576b"
             ],
             [
              0.6666666666666666,
              "#ed7953"
             ],
             [
              0.7777777777777778,
              "#fb9f3a"
             ],
             [
              0.8888888888888888,
              "#fdca26"
             ],
             [
              1,
              "#f0f921"
             ]
            ],
            "type": "histogram2d"
           }
          ],
          "histogram2dcontour": [
           {
            "colorbar": {
             "outlinewidth": 0,
             "ticks": ""
            },
            "colorscale": [
             [
              0,
              "#0d0887"
             ],
             [
              0.1111111111111111,
              "#46039f"
             ],
             [
              0.2222222222222222,
              "#7201a8"
             ],
             [
              0.3333333333333333,
              "#9c179e"
             ],
             [
              0.4444444444444444,
              "#bd3786"
             ],
             [
              0.5555555555555556,
              "#d8576b"
             ],
             [
              0.6666666666666666,
              "#ed7953"
             ],
             [
              0.7777777777777778,
              "#fb9f3a"
             ],
             [
              0.8888888888888888,
              "#fdca26"
             ],
             [
              1,
              "#f0f921"
             ]
            ],
            "type": "histogram2dcontour"
           }
          ],
          "mesh3d": [
           {
            "colorbar": {
             "outlinewidth": 0,
             "ticks": ""
            },
            "type": "mesh3d"
           }
          ],
          "parcoords": [
           {
            "line": {
             "colorbar": {
              "outlinewidth": 0,
              "ticks": ""
             }
            },
            "type": "parcoords"
           }
          ],
          "pie": [
           {
            "automargin": true,
            "type": "pie"
           }
          ],
          "scatter": [
           {
            "marker": {
             "colorbar": {
              "outlinewidth": 0,
              "ticks": ""
             }
            },
            "type": "scatter"
           }
          ],
          "scatter3d": [
           {
            "line": {
             "colorbar": {
              "outlinewidth": 0,
              "ticks": ""
             }
            },
            "marker": {
             "colorbar": {
              "outlinewidth": 0,
              "ticks": ""
             }
            },
            "type": "scatter3d"
           }
          ],
          "scattercarpet": [
           {
            "marker": {
             "colorbar": {
              "outlinewidth": 0,
              "ticks": ""
             }
            },
            "type": "scattercarpet"
           }
          ],
          "scattergeo": [
           {
            "marker": {
             "colorbar": {
              "outlinewidth": 0,
              "ticks": ""
             }
            },
            "type": "scattergeo"
           }
          ],
          "scattergl": [
           {
            "marker": {
             "colorbar": {
              "outlinewidth": 0,
              "ticks": ""
             }
            },
            "type": "scattergl"
           }
          ],
          "scattermapbox": [
           {
            "marker": {
             "colorbar": {
              "outlinewidth": 0,
              "ticks": ""
             }
            },
            "type": "scattermapbox"
           }
          ],
          "scatterpolar": [
           {
            "marker": {
             "colorbar": {
              "outlinewidth": 0,
              "ticks": ""
             }
            },
            "type": "scatterpolar"
           }
          ],
          "scatterpolargl": [
           {
            "marker": {
             "colorbar": {
              "outlinewidth": 0,
              "ticks": ""
             }
            },
            "type": "scatterpolargl"
           }
          ],
          "scatterternary": [
           {
            "marker": {
             "colorbar": {
              "outlinewidth": 0,
              "ticks": ""
             }
            },
            "type": "scatterternary"
           }
          ],
          "surface": [
           {
            "colorbar": {
             "outlinewidth": 0,
             "ticks": ""
            },
            "colorscale": [
             [
              0,
              "#0d0887"
             ],
             [
              0.1111111111111111,
              "#46039f"
             ],
             [
              0.2222222222222222,
              "#7201a8"
             ],
             [
              0.3333333333333333,
              "#9c179e"
             ],
             [
              0.4444444444444444,
              "#bd3786"
             ],
             [
              0.5555555555555556,
              "#d8576b"
             ],
             [
              0.6666666666666666,
              "#ed7953"
             ],
             [
              0.7777777777777778,
              "#fb9f3a"
             ],
             [
              0.8888888888888888,
              "#fdca26"
             ],
             [
              1,
              "#f0f921"
             ]
            ],
            "type": "surface"
           }
          ],
          "table": [
           {
            "cells": {
             "fill": {
              "color": "#EBF0F8"
             },
             "line": {
              "color": "white"
             }
            },
            "header": {
             "fill": {
              "color": "#C8D4E3"
             },
             "line": {
              "color": "white"
             }
            },
            "type": "table"
           }
          ]
         },
         "layout": {
          "annotationdefaults": {
           "arrowcolor": "#2a3f5f",
           "arrowhead": 0,
           "arrowwidth": 1
          },
          "autotypenumbers": "strict",
          "coloraxis": {
           "colorbar": {
            "outlinewidth": 0,
            "ticks": ""
           }
          },
          "colorscale": {
           "diverging": [
            [
             0,
             "#8e0152"
            ],
            [
             0.1,
             "#c51b7d"
            ],
            [
             0.2,
             "#de77ae"
            ],
            [
             0.3,
             "#f1b6da"
            ],
            [
             0.4,
             "#fde0ef"
            ],
            [
             0.5,
             "#f7f7f7"
            ],
            [
             0.6,
             "#e6f5d0"
            ],
            [
             0.7,
             "#b8e186"
            ],
            [
             0.8,
             "#7fbc41"
            ],
            [
             0.9,
             "#4d9221"
            ],
            [
             1,
             "#276419"
            ]
           ],
           "sequential": [
            [
             0,
             "#0d0887"
            ],
            [
             0.1111111111111111,
             "#46039f"
            ],
            [
             0.2222222222222222,
             "#7201a8"
            ],
            [
             0.3333333333333333,
             "#9c179e"
            ],
            [
             0.4444444444444444,
             "#bd3786"
            ],
            [
             0.5555555555555556,
             "#d8576b"
            ],
            [
             0.6666666666666666,
             "#ed7953"
            ],
            [
             0.7777777777777778,
             "#fb9f3a"
            ],
            [
             0.8888888888888888,
             "#fdca26"
            ],
            [
             1,
             "#f0f921"
            ]
           ],
           "sequentialminus": [
            [
             0,
             "#0d0887"
            ],
            [
             0.1111111111111111,
             "#46039f"
            ],
            [
             0.2222222222222222,
             "#7201a8"
            ],
            [
             0.3333333333333333,
             "#9c179e"
            ],
            [
             0.4444444444444444,
             "#bd3786"
            ],
            [
             0.5555555555555556,
             "#d8576b"
            ],
            [
             0.6666666666666666,
             "#ed7953"
            ],
            [
             0.7777777777777778,
             "#fb9f3a"
            ],
            [
             0.8888888888888888,
             "#fdca26"
            ],
            [
             1,
             "#f0f921"
            ]
           ]
          },
          "colorway": [
           "#636efa",
           "#EF553B",
           "#00cc96",
           "#ab63fa",
           "#FFA15A",
           "#19d3f3",
           "#FF6692",
           "#B6E880",
           "#FF97FF",
           "#FECB52"
          ],
          "font": {
           "color": "#2a3f5f"
          },
          "geo": {
           "bgcolor": "white",
           "lakecolor": "white",
           "landcolor": "#E5ECF6",
           "showlakes": true,
           "showland": true,
           "subunitcolor": "white"
          },
          "hoverlabel": {
           "align": "left"
          },
          "hovermode": "closest",
          "mapbox": {
           "style": "light"
          },
          "paper_bgcolor": "white",
          "plot_bgcolor": "#E5ECF6",
          "polar": {
           "angularaxis": {
            "gridcolor": "white",
            "linecolor": "white",
            "ticks": ""
           },
           "bgcolor": "#E5ECF6",
           "radialaxis": {
            "gridcolor": "white",
            "linecolor": "white",
            "ticks": ""
           }
          },
          "scene": {
           "xaxis": {
            "backgroundcolor": "#E5ECF6",
            "gridcolor": "white",
            "gridwidth": 2,
            "linecolor": "white",
            "showbackground": true,
            "ticks": "",
            "zerolinecolor": "white"
           },
           "yaxis": {
            "backgroundcolor": "#E5ECF6",
            "gridcolor": "white",
            "gridwidth": 2,
            "linecolor": "white",
            "showbackground": true,
            "ticks": "",
            "zerolinecolor": "white"
           },
           "zaxis": {
            "backgroundcolor": "#E5ECF6",
            "gridcolor": "white",
            "gridwidth": 2,
            "linecolor": "white",
            "showbackground": true,
            "ticks": "",
            "zerolinecolor": "white"
           }
          },
          "shapedefaults": {
           "line": {
            "color": "#2a3f5f"
           }
          },
          "ternary": {
           "aaxis": {
            "gridcolor": "white",
            "linecolor": "white",
            "ticks": ""
           },
           "baxis": {
            "gridcolor": "white",
            "linecolor": "white",
            "ticks": ""
           },
           "bgcolor": "#E5ECF6",
           "caxis": {
            "gridcolor": "white",
            "linecolor": "white",
            "ticks": ""
           }
          },
          "title": {
           "x": 0.05
          },
          "xaxis": {
           "automargin": true,
           "gridcolor": "white",
           "linecolor": "white",
           "ticks": "",
           "title": {
            "standoff": 15
           },
           "zerolinecolor": "white",
           "zerolinewidth": 2
          },
          "yaxis": {
           "automargin": true,
           "gridcolor": "white",
           "linecolor": "white",
           "ticks": "",
           "title": {
            "standoff": 15
           },
           "zerolinecolor": "white",
           "zerolinewidth": 2
          }
         }
        },
        "title": {
         "font": {
          "size": 20
         }
        },
        "width": 800,
        "xaxis": {
         "anchor": "y",
         "domain": [
          0,
          1
         ],
         "tickfont": {
          "size": 14
         },
         "title": {
          "font": {
           "color": "black",
           "size": 16
          },
          "text": "scenario"
         }
        },
        "yaxis": {
         "anchor": "x",
         "domain": [
          0,
          1
         ],
         "tickfont": {
          "size": 14
         },
         "title": {
          "font": {
           "color": "black",
           "size": 16
          },
          "text": "Percentage difference in poverty from baseline"
         }
        }
       }
      }
     },
     "metadata": {}
    }
   ],
   "source": [
    "### Deep poverty\n",
    "# Use pivot table to construct difference / percentage change in pov measures \n",
    "deep_pov_wide = deep_poverty_rate[deep_poverty_rate.scenario!=\"baseline\"].pivot_table(\"deep_poverty_rate\",\"scenario\",\"ca\")\n",
    "deep_pov_wide[\"baseline\"] = deep_poverty_rate[deep_poverty_rate.scenario == \"baseline\"].deep_poverty_rate.values[0]\n",
    "deep_pov_wide = deep_pov_wide.reset_index()\n",
    "deep_pov_wide.columns = [\"scenario\", \"child care\", \"child allowance\", \"baseline\"]\n",
    "deep_pov_wide[\"pdif_base_cc\"] = percent_change(deep_pov_wide[\"child care\"],deep_pov_wide[\"baseline\"])\n",
    "deep_pov_wide[\"pdif_base_ca\"] = percent_change(deep_pov_wide[\"child allowance\"],deep_pov_wide[\"baseline\"])\n",
    "deep_pov_wide[\"pdif_ca_cc\"] = percent_change(deep_pov_wide[\"child allowance\"],deep_pov_wide[\"child care\"])\n",
    "\n",
    "# Prepare dataframe for plot output\n",
    "no_ca_rows = {\"scenario\":deep_pov_wide[\"scenario\"], \"Transfer type\":\"Child care\", \"Percentage difference in poverty from baseline\":deep_pov_wide[\"pdif_base_cc\"]}\n",
    "no_ca_rows = pd.DataFrame(no_ca_rows)\n",
    "row_1 = no_ca_rows[no_ca_rows.scenario == \"cc_replacement\"]\n",
    "row_2 = no_ca_rows[no_ca_rows.scenario == \"low_cc_full\"]\n",
    "row_3 = no_ca_rows[no_ca_rows.scenario == \"high_cc_full\"]\n",
    "\n",
    "ca_rows = {\"scenario\":deep_pov_wide[\"scenario\"], \"Transfer type\":\"Child allowance\", \"Percentage difference in poverty from baseline\":deep_pov_wide[\"pdif_base_ca\"]}\n",
    "ca_rows = pd.DataFrame(ca_rows)\n",
    "row_4 = ca_rows[ca_rows.scenario == \"cc_replacement\"]\n",
    "row_5 = ca_rows[ca_rows.scenario == \"low_cc_full\"]\n",
    "row_6 = ca_rows[ca_rows.scenario == \"high_cc_full\"]\n",
    "\n",
    "# Append the rows\n",
    "row_2 = row_1.append(row_2)\n",
    "row_3 = row_2.append(row_3)\n",
    "row_4 = row_3.append(row_4)\n",
    "row_5 = row_4.append(row_5)\n",
    "row_6 = row_5.append(row_6)\n",
    "pov_long = row_6\n",
    "\n",
    "# Rename scenarios\n",
    "pov_long.loc[pov_long.scenario == \"cc_replacement\", \"scenario\"] = \"Expense replacement\"\n",
    "pov_long.loc[pov_long.scenario == \"high_cc_full\", \"scenario\"] = \"High quality\"\n",
    "pov_long.loc[pov_long.scenario == \"low_cc_full\", \"scenario\"] = \"Base quality\" \n",
    "\n",
    "pov_plot = px.bar(pov_long, x=\"scenario\", y=\"Percentage difference in poverty from baseline\", color=\"Transfer type\", barmode=\"group\",color_discrete_map={\"Child care\":\"steelblue\",\"Child allowance\":\"grey\"})\n",
    "format_fig(pov_plot)\n"
   ]
  },
  {
   "cell_type": "code",
   "execution_count": 62,
   "metadata": {},
   "outputs": [
    {
     "output_type": "execute_result",
     "data": {
      "text/plain": [
       "                                     0\n",
       "scenario       ca    child_6          \n",
       "baseline       False False    0.126100\n",
       "                     True     0.149787\n",
       "cc_replacement False False    0.124124\n",
       "                     True     0.139226\n",
       "               True  False    0.120445\n",
       "                     True     0.115222\n",
       "high_cc_full   False False    0.106706\n",
       "                     True     0.013208\n",
       "               True  False    0.106664\n",
       "                     True     0.012909\n",
       "low_cc_full    False False    0.111094\n",
       "                     True     0.039738\n",
       "               True  False    0.110938\n",
       "                     True     0.038074"
      ],
      "text/html": "<div>\n<style scoped>\n    .dataframe tbody tr th:only-of-type {\n        vertical-align: middle;\n    }\n\n    .dataframe tbody tr th {\n        vertical-align: top;\n    }\n\n    .dataframe thead th {\n        text-align: right;\n    }\n</style>\n<table border=\"1\" class=\"dataframe\">\n  <thead>\n    <tr style=\"text-align: right;\">\n      <th></th>\n      <th></th>\n      <th></th>\n      <th>0</th>\n    </tr>\n    <tr>\n      <th>scenario</th>\n      <th>ca</th>\n      <th>child_6</th>\n      <th></th>\n    </tr>\n  </thead>\n  <tbody>\n    <tr>\n      <th rowspan=\"2\" valign=\"top\">baseline</th>\n      <th rowspan=\"2\" valign=\"top\">False</th>\n      <th>False</th>\n      <td>0.126100</td>\n    </tr>\n    <tr>\n      <th>True</th>\n      <td>0.149787</td>\n    </tr>\n    <tr>\n      <th rowspan=\"4\" valign=\"top\">cc_replacement</th>\n      <th rowspan=\"2\" valign=\"top\">False</th>\n      <th>False</th>\n      <td>0.124124</td>\n    </tr>\n    <tr>\n      <th>True</th>\n      <td>0.139226</td>\n    </tr>\n    <tr>\n      <th rowspan=\"2\" valign=\"top\">True</th>\n      <th>False</th>\n      <td>0.120445</td>\n    </tr>\n    <tr>\n      <th>True</th>\n      <td>0.115222</td>\n    </tr>\n    <tr>\n      <th rowspan=\"4\" valign=\"top\">high_cc_full</th>\n      <th rowspan=\"2\" valign=\"top\">False</th>\n      <th>False</th>\n      <td>0.106706</td>\n    </tr>\n    <tr>\n      <th>True</th>\n      <td>0.013208</td>\n    </tr>\n    <tr>\n      <th rowspan=\"2\" valign=\"top\">True</th>\n      <th>False</th>\n      <td>0.106664</td>\n    </tr>\n    <tr>\n      <th>True</th>\n      <td>0.012909</td>\n    </tr>\n    <tr>\n      <th rowspan=\"4\" valign=\"top\">low_cc_full</th>\n      <th rowspan=\"2\" valign=\"top\">False</th>\n      <th>False</th>\n      <td>0.111094</td>\n    </tr>\n    <tr>\n      <th>True</th>\n      <td>0.039738</td>\n    </tr>\n    <tr>\n      <th rowspan=\"2\" valign=\"top\">True</th>\n      <th>False</th>\n      <td>0.110938</td>\n    </tr>\n    <tr>\n      <th>True</th>\n      <td>0.038074</td>\n    </tr>\n  </tbody>\n</table>\n</div>"
     },
     "metadata": {},
     "execution_count": 62
    }
   ],
   "source": [
    "poverty_rate_child"
   ]
  },
  {
   "cell_type": "code",
   "execution_count": 61,
   "metadata": {},
   "outputs": [
    {
     "output_type": "error",
     "ename": "AttributeError",
     "evalue": "'DataFrame' object has no attribute 'scenario'",
     "traceback": [
      "\u001b[1;31m---------------------------------------------------------------------------\u001b[0m",
      "\u001b[1;31mAttributeError\u001b[0m                            Traceback (most recent call last)",
      "\u001b[1;32m<ipython-input-61-7d567bb90dc9>\u001b[0m in \u001b[0;36m<module>\u001b[1;34m\u001b[0m\n\u001b[0;32m      1\u001b[0m \u001b[1;31m# Poverty plot age\u001b[0m\u001b[1;33m\u001b[0m\u001b[1;33m\u001b[0m\u001b[1;33m\u001b[0m\u001b[0m\n\u001b[0;32m      2\u001b[0m \u001b[1;31m# Use pivot table to construct difference / percentage change in pov measures\u001b[0m\u001b[1;33m\u001b[0m\u001b[1;33m\u001b[0m\u001b[1;33m\u001b[0m\u001b[0m\n\u001b[1;32m----> 3\u001b[1;33m \u001b[0mchild_pov_wide\u001b[0m \u001b[1;33m=\u001b[0m \u001b[0mpoverty_rate_child\u001b[0m\u001b[1;33m[\u001b[0m\u001b[0mpoverty_rate_child\u001b[0m\u001b[1;33m.\u001b[0m\u001b[0mscenario\u001b[0m\u001b[1;33m!=\u001b[0m\u001b[1;34m\"baseline\"\u001b[0m\u001b[1;33m]\u001b[0m\u001b[1;33m.\u001b[0m\u001b[0mpivot_table\u001b[0m\u001b[1;33m(\u001b[0m\u001b[1;34m\"poverty_rate\"\u001b[0m\u001b[1;33m,\u001b[0m\u001b[1;34m\"scenario\"\u001b[0m\u001b[1;33m,\u001b[0m\u001b[1;34m\"ca\"\u001b[0m\u001b[1;33m,\u001b[0m \u001b[1;34m\"child_6\"\u001b[0m\u001b[1;33m)\u001b[0m\u001b[1;33m\u001b[0m\u001b[1;33m\u001b[0m\u001b[0m\n\u001b[0m\u001b[0;32m      4\u001b[0m \u001b[0mchild_pov_wide\u001b[0m\u001b[1;33m[\u001b[0m\u001b[1;34m\"baseline\"\u001b[0m\u001b[1;33m]\u001b[0m \u001b[1;33m=\u001b[0m \u001b[0mpoverty_rate_child\u001b[0m\u001b[1;33m[\u001b[0m\u001b[0mpoverty_rate_child\u001b[0m\u001b[1;33m.\u001b[0m\u001b[0mscenario\u001b[0m \u001b[1;33m==\u001b[0m \u001b[1;34m\"baseline\"\u001b[0m\u001b[1;33m]\u001b[0m\u001b[1;33m.\u001b[0m\u001b[0mpoverty_rate\u001b[0m\u001b[1;33m.\u001b[0m\u001b[0mvalues\u001b[0m\u001b[1;33m[\u001b[0m\u001b[1;36m0\u001b[0m\u001b[1;33m]\u001b[0m\u001b[1;33m\u001b[0m\u001b[1;33m\u001b[0m\u001b[0m\n\u001b[0;32m      5\u001b[0m \u001b[0mchild_pov_wide\u001b[0m \u001b[1;33m=\u001b[0m \u001b[0mchild_pov_wide\u001b[0m\u001b[1;33m.\u001b[0m\u001b[0mreset_index\u001b[0m\u001b[1;33m(\u001b[0m\u001b[1;33m)\u001b[0m\u001b[1;33m\u001b[0m\u001b[1;33m\u001b[0m\u001b[0m\n",
      "\u001b[1;32m~\\anaconda3\\lib\\site-packages\\pandas\\core\\generic.py\u001b[0m in \u001b[0;36m__getattr__\u001b[1;34m(self, name)\u001b[0m\n\u001b[0;32m   5272\u001b[0m             \u001b[1;32mif\u001b[0m \u001b[0mself\u001b[0m\u001b[1;33m.\u001b[0m\u001b[0m_info_axis\u001b[0m\u001b[1;33m.\u001b[0m\u001b[0m_can_hold_identifiers_and_holds_name\u001b[0m\u001b[1;33m(\u001b[0m\u001b[0mname\u001b[0m\u001b[1;33m)\u001b[0m\u001b[1;33m:\u001b[0m\u001b[1;33m\u001b[0m\u001b[1;33m\u001b[0m\u001b[0m\n\u001b[0;32m   5273\u001b[0m                 \u001b[1;32mreturn\u001b[0m \u001b[0mself\u001b[0m\u001b[1;33m[\u001b[0m\u001b[0mname\u001b[0m\u001b[1;33m]\u001b[0m\u001b[1;33m\u001b[0m\u001b[1;33m\u001b[0m\u001b[0m\n\u001b[1;32m-> 5274\u001b[1;33m             \u001b[1;32mreturn\u001b[0m \u001b[0mobject\u001b[0m\u001b[1;33m.\u001b[0m\u001b[0m__getattribute__\u001b[0m\u001b[1;33m(\u001b[0m\u001b[0mself\u001b[0m\u001b[1;33m,\u001b[0m \u001b[0mname\u001b[0m\u001b[1;33m)\u001b[0m\u001b[1;33m\u001b[0m\u001b[1;33m\u001b[0m\u001b[0m\n\u001b[0m\u001b[0;32m   5275\u001b[0m \u001b[1;33m\u001b[0m\u001b[0m\n\u001b[0;32m   5276\u001b[0m     \u001b[1;32mdef\u001b[0m \u001b[0m__setattr__\u001b[0m\u001b[1;33m(\u001b[0m\u001b[0mself\u001b[0m\u001b[1;33m,\u001b[0m \u001b[0mname\u001b[0m\u001b[1;33m:\u001b[0m \u001b[0mstr\u001b[0m\u001b[1;33m,\u001b[0m \u001b[0mvalue\u001b[0m\u001b[1;33m)\u001b[0m \u001b[1;33m->\u001b[0m \u001b[1;32mNone\u001b[0m\u001b[1;33m:\u001b[0m\u001b[1;33m\u001b[0m\u001b[1;33m\u001b[0m\u001b[0m\n",
      "\u001b[1;31mAttributeError\u001b[0m: 'DataFrame' object has no attribute 'scenario'"
     ]
    }
   ],
   "source": [
    "# Poverty plot age\n",
    "# Use pivot table to construct difference / percentage change in pov measures \n",
    "child_pov_wide = poverty_rate_child[poverty_rate_child.scenario!=\"baseline\"].pivot_table(\"poverty_rate\",\"scenario\",\"ca\", \"child_6\")\n",
    "child_pov_wide[\"baseline\"] = poverty_rate_child[poverty_rate_child.scenario == \"baseline\"].poverty_rate.values[0]\n",
    "child_pov_wide = child_pov_wide.reset_index()\n",
    "child_pov_wide.columns = [\"scenario\", \"child care\", \"child allowance\", \"baseline\"]\n",
    "child_pov_wide[\"pdif_base_cc\"] = percent_change(child_pov_wide[\"child care\"],child_pov_wide[\"baseline\"])\n",
    "child_pov_wide[\"pdif_base_ca\"] = percent_change(child_pov_wide[\"child allowance\"],child_pov_wide[\"baseline\"])\n",
    "child_pov_wide[\"pdif_ca_cc\"] = percent_change(child_pov_wide[\"child allowance\"],child_pov_wide[\"child care\"])\n",
    "\n",
    "# Prepare dataframe for plot output\n",
    "no_ca_rows = {\"scenario\":child_pov_wide[\"scenario\"], \"Transfer type\":\"Child care\", \"Percentage difference in poverty from baseline\":child_pov_wide[\"pdif_base_cc\"]}\n",
    "no_ca_rows = pd.DataFrame(no_ca_rows)\n",
    "row_1 = no_ca_rows[no_ca_rows.scenario == \"cc_replacement\"]\n",
    "row_2 = no_ca_rows[no_ca_rows.scenario == \"low_cc_full\"]\n",
    "row_3 = no_ca_rows[no_ca_rows.scenario == \"high_cc_full\"]\n",
    "\n",
    "ca_rows = {\"scenario\":child_pov_wide[\"scenario\"], \"Transfer type\":\"Child allowance\", \"Percentage difference in poverty from baseline\":child_pov_wide[\"pdif_base_ca\"]}\n",
    "ca_rows = pd.DataFrame(ca_rows)\n",
    "row_4 = ca_rows[ca_rows.scenario == \"cc_replacement\"]\n",
    "row_5 = ca_rows[ca_rows.scenario == \"low_cc_full\"]\n",
    "row_6 = ca_rows[ca_rows.scenario == \"high_cc_full\"]\n",
    "\n",
    "# Append the rows\n",
    "row_2 = row_1.append(row_2)\n",
    "row_3 = row_2.append(row_3)\n",
    "row_4 = row_3.append(row_4)\n",
    "row_5 = row_4.append(row_5)\n",
    "row_6 = row_5.append(row_6)\n",
    "pov_long = row_6\n",
    "\n",
    "# Rename scenarios\n",
    "pov_long.loc[pov_long.scenario == \"cc_replacement\", \"scenario\"] = \"Expense replacement\"\n",
    "pov_long.loc[pov_long.scenario == \"high_cc_full\", \"scenario\"] = \"High quality\"\n",
    "pov_long.loc[pov_long.scenario == \"low_cc_full\", \"scenario\"] = \"Base quality\" \n",
    "\n",
    "pov_plot = px.bar(pov_long, x=\"scenario\", y=\"Percentage difference in poverty from baseline\", color=\"Transfer type\", barmode=\"group\",color_discrete_map={\"Child care\":\"steelblue\",\"Child allowance\":\"grey\"})\n",
    "format_fig(pov_plot)\n"
   ]
  },
  {
   "cell_type": "code",
   "execution_count": 45,
   "metadata": {},
   "outputs": [
    {
     "output_type": "display_data",
     "data": {
      "application/vnd.plotly.v1+json": {
       "config": {
        "displayModeBar": false,
        "plotlyServerURL": "https://plot.ly"
       },
       "data": [
        {
         "alignmentgroup": "True",
         "hovertemplate": "Transfer type=Child care<br>scenario=%{x}<br>Percentage difference in Gini coefficient from baseline=%{y}<extra></extra>",
         "legendgroup": "Child care",
         "marker": {
          "color": "steelblue"
         },
         "name": "Child care",
         "offsetgroup": "Child care",
         "orientation": "v",
         "showlegend": true,
         "textposition": "auto",
         "type": "bar",
         "x": [
          "Expense replacement",
          "Base quality",
          "High quality"
         ],
         "xaxis": "x",
         "y": [
          -0.04087283307852691,
          -2.620736146178001,
          -3.5220736926515666
         ],
         "yaxis": "y"
        },
        {
         "alignmentgroup": "True",
         "hovertemplate": "Transfer type=Child allowance<br>scenario=%{x}<br>Percentage difference in Gini coefficient from baseline=%{y}<extra></extra>",
         "legendgroup": "Child allowance",
         "marker": {
          "color": "grey"
         },
         "name": "Child allowance",
         "offsetgroup": "Child allowance",
         "orientation": "v",
         "showlegend": true,
         "textposition": "auto",
         "type": "bar",
         "x": [
          "Expense replacement",
          "Base quality",
          "High quality"
         ],
         "xaxis": "x",
         "y": [
          -0.8502194784672156,
          -2.7378543287090453,
          -3.669484767416695
         ],
         "yaxis": "y"
        }
       ],
       "layout": {
        "barmode": "group",
        "font": {
         "family": "Roboto"
        },
        "height": 600,
        "hoverlabel": {
         "align": "right"
        },
        "images": [
         {
          "sizex": 0.12,
          "sizey": 0.12,
          "source": "https://raw.githubusercontent.com/UBICenter/blog/master/jb/_static/ubi_center_logo_wide_blue.png",
          "x": 0.98,
          "xanchor": "right",
          "xref": "paper",
          "y": -0.12,
          "yanchor": "bottom",
          "yref": "paper"
         }
        ],
        "legend": {
         "title": {
          "text": "Transfer type"
         },
         "tracegroupgap": 0
        },
        "margin": {
         "t": 60
        },
        "paper_bgcolor": "white",
        "plot_bgcolor": "white",
        "template": {
         "data": {
          "bar": [
           {
            "error_x": {
             "color": "#2a3f5f"
            },
            "error_y": {
             "color": "#2a3f5f"
            },
            "marker": {
             "line": {
              "color": "#E5ECF6",
              "width": 0.5
             }
            },
            "type": "bar"
           }
          ],
          "barpolar": [
           {
            "marker": {
             "line": {
              "color": "#E5ECF6",
              "width": 0.5
             }
            },
            "type": "barpolar"
           }
          ],
          "carpet": [
           {
            "aaxis": {
             "endlinecolor": "#2a3f5f",
             "gridcolor": "white",
             "linecolor": "white",
             "minorgridcolor": "white",
             "startlinecolor": "#2a3f5f"
            },
            "baxis": {
             "endlinecolor": "#2a3f5f",
             "gridcolor": "white",
             "linecolor": "white",
             "minorgridcolor": "white",
             "startlinecolor": "#2a3f5f"
            },
            "type": "carpet"
           }
          ],
          "choropleth": [
           {
            "colorbar": {
             "outlinewidth": 0,
             "ticks": ""
            },
            "type": "choropleth"
           }
          ],
          "contour": [
           {
            "colorbar": {
             "outlinewidth": 0,
             "ticks": ""
            },
            "colorscale": [
             [
              0,
              "#0d0887"
             ],
             [
              0.1111111111111111,
              "#46039f"
             ],
             [
              0.2222222222222222,
              "#7201a8"
             ],
             [
              0.3333333333333333,
              "#9c179e"
             ],
             [
              0.4444444444444444,
              "#bd3786"
             ],
             [
              0.5555555555555556,
              "#d8576b"
             ],
             [
              0.6666666666666666,
              "#ed7953"
             ],
             [
              0.7777777777777778,
              "#fb9f3a"
             ],
             [
              0.8888888888888888,
              "#fdca26"
             ],
             [
              1,
              "#f0f921"
             ]
            ],
            "type": "contour"
           }
          ],
          "contourcarpet": [
           {
            "colorbar": {
             "outlinewidth": 0,
             "ticks": ""
            },
            "type": "contourcarpet"
           }
          ],
          "heatmap": [
           {
            "colorbar": {
             "outlinewidth": 0,
             "ticks": ""
            },
            "colorscale": [
             [
              0,
              "#0d0887"
             ],
             [
              0.1111111111111111,
              "#46039f"
             ],
             [
              0.2222222222222222,
              "#7201a8"
             ],
             [
              0.3333333333333333,
              "#9c179e"
             ],
             [
              0.4444444444444444,
              "#bd3786"
             ],
             [
              0.5555555555555556,
              "#d8576b"
             ],
             [
              0.6666666666666666,
              "#ed7953"
             ],
             [
              0.7777777777777778,
              "#fb9f3a"
             ],
             [
              0.8888888888888888,
              "#fdca26"
             ],
             [
              1,
              "#f0f921"
             ]
            ],
            "type": "heatmap"
           }
          ],
          "heatmapgl": [
           {
            "colorbar": {
             "outlinewidth": 0,
             "ticks": ""
            },
            "colorscale": [
             [
              0,
              "#0d0887"
             ],
             [
              0.1111111111111111,
              "#46039f"
             ],
             [
              0.2222222222222222,
              "#7201a8"
             ],
             [
              0.3333333333333333,
              "#9c179e"
             ],
             [
              0.4444444444444444,
              "#bd3786"
             ],
             [
              0.5555555555555556,
              "#d8576b"
             ],
             [
              0.6666666666666666,
              "#ed7953"
             ],
             [
              0.7777777777777778,
              "#fb9f3a"
             ],
             [
              0.8888888888888888,
              "#fdca26"
             ],
             [
              1,
              "#f0f921"
             ]
            ],
            "type": "heatmapgl"
           }
          ],
          "histogram": [
           {
            "marker": {
             "colorbar": {
              "outlinewidth": 0,
              "ticks": ""
             }
            },
            "type": "histogram"
           }
          ],
          "histogram2d": [
           {
            "colorbar": {
             "outlinewidth": 0,
             "ticks": ""
            },
            "colorscale": [
             [
              0,
              "#0d0887"
             ],
             [
              0.1111111111111111,
              "#46039f"
             ],
             [
              0.2222222222222222,
              "#7201a8"
             ],
             [
              0.3333333333333333,
              "#9c179e"
             ],
             [
              0.4444444444444444,
              "#bd3786"
             ],
             [
              0.5555555555555556,
              "#d8576b"
             ],
             [
              0.6666666666666666,
              "#ed7953"
             ],
             [
              0.7777777777777778,
              "#fb9f3a"
             ],
             [
              0.8888888888888888,
              "#fdca26"
             ],
             [
              1,
              "#f0f921"
             ]
            ],
            "type": "histogram2d"
           }
          ],
          "histogram2dcontour": [
           {
            "colorbar": {
             "outlinewidth": 0,
             "ticks": ""
            },
            "colorscale": [
             [
              0,
              "#0d0887"
             ],
             [
              0.1111111111111111,
              "#46039f"
             ],
             [
              0.2222222222222222,
              "#7201a8"
             ],
             [
              0.3333333333333333,
              "#9c179e"
             ],
             [
              0.4444444444444444,
              "#bd3786"
             ],
             [
              0.5555555555555556,
              "#d8576b"
             ],
             [
              0.6666666666666666,
              "#ed7953"
             ],
             [
              0.7777777777777778,
              "#fb9f3a"
             ],
             [
              0.8888888888888888,
              "#fdca26"
             ],
             [
              1,
              "#f0f921"
             ]
            ],
            "type": "histogram2dcontour"
           }
          ],
          "mesh3d": [
           {
            "colorbar": {
             "outlinewidth": 0,
             "ticks": ""
            },
            "type": "mesh3d"
           }
          ],
          "parcoords": [
           {
            "line": {
             "colorbar": {
              "outlinewidth": 0,
              "ticks": ""
             }
            },
            "type": "parcoords"
           }
          ],
          "pie": [
           {
            "automargin": true,
            "type": "pie"
           }
          ],
          "scatter": [
           {
            "marker": {
             "colorbar": {
              "outlinewidth": 0,
              "ticks": ""
             }
            },
            "type": "scatter"
           }
          ],
          "scatter3d": [
           {
            "line": {
             "colorbar": {
              "outlinewidth": 0,
              "ticks": ""
             }
            },
            "marker": {
             "colorbar": {
              "outlinewidth": 0,
              "ticks": ""
             }
            },
            "type": "scatter3d"
           }
          ],
          "scattercarpet": [
           {
            "marker": {
             "colorbar": {
              "outlinewidth": 0,
              "ticks": ""
             }
            },
            "type": "scattercarpet"
           }
          ],
          "scattergeo": [
           {
            "marker": {
             "colorbar": {
              "outlinewidth": 0,
              "ticks": ""
             }
            },
            "type": "scattergeo"
           }
          ],
          "scattergl": [
           {
            "marker": {
             "colorbar": {
              "outlinewidth": 0,
              "ticks": ""
             }
            },
            "type": "scattergl"
           }
          ],
          "scattermapbox": [
           {
            "marker": {
             "colorbar": {
              "outlinewidth": 0,
              "ticks": ""
             }
            },
            "type": "scattermapbox"
           }
          ],
          "scatterpolar": [
           {
            "marker": {
             "colorbar": {
              "outlinewidth": 0,
              "ticks": ""
             }
            },
            "type": "scatterpolar"
           }
          ],
          "scatterpolargl": [
           {
            "marker": {
             "colorbar": {
              "outlinewidth": 0,
              "ticks": ""
             }
            },
            "type": "scatterpolargl"
           }
          ],
          "scatterternary": [
           {
            "marker": {
             "colorbar": {
              "outlinewidth": 0,
              "ticks": ""
             }
            },
            "type": "scatterternary"
           }
          ],
          "surface": [
           {
            "colorbar": {
             "outlinewidth": 0,
             "ticks": ""
            },
            "colorscale": [
             [
              0,
              "#0d0887"
             ],
             [
              0.1111111111111111,
              "#46039f"
             ],
             [
              0.2222222222222222,
              "#7201a8"
             ],
             [
              0.3333333333333333,
              "#9c179e"
             ],
             [
              0.4444444444444444,
              "#bd3786"
             ],
             [
              0.5555555555555556,
              "#d8576b"
             ],
             [
              0.6666666666666666,
              "#ed7953"
             ],
             [
              0.7777777777777778,
              "#fb9f3a"
             ],
             [
              0.8888888888888888,
              "#fdca26"
             ],
             [
              1,
              "#f0f921"
             ]
            ],
            "type": "surface"
           }
          ],
          "table": [
           {
            "cells": {
             "fill": {
              "color": "#EBF0F8"
             },
             "line": {
              "color": "white"
             }
            },
            "header": {
             "fill": {
              "color": "#C8D4E3"
             },
             "line": {
              "color": "white"
             }
            },
            "type": "table"
           }
          ]
         },
         "layout": {
          "annotationdefaults": {
           "arrowcolor": "#2a3f5f",
           "arrowhead": 0,
           "arrowwidth": 1
          },
          "autotypenumbers": "strict",
          "coloraxis": {
           "colorbar": {
            "outlinewidth": 0,
            "ticks": ""
           }
          },
          "colorscale": {
           "diverging": [
            [
             0,
             "#8e0152"
            ],
            [
             0.1,
             "#c51b7d"
            ],
            [
             0.2,
             "#de77ae"
            ],
            [
             0.3,
             "#f1b6da"
            ],
            [
             0.4,
             "#fde0ef"
            ],
            [
             0.5,
             "#f7f7f7"
            ],
            [
             0.6,
             "#e6f5d0"
            ],
            [
             0.7,
             "#b8e186"
            ],
            [
             0.8,
             "#7fbc41"
            ],
            [
             0.9,
             "#4d9221"
            ],
            [
             1,
             "#276419"
            ]
           ],
           "sequential": [
            [
             0,
             "#0d0887"
            ],
            [
             0.1111111111111111,
             "#46039f"
            ],
            [
             0.2222222222222222,
             "#7201a8"
            ],
            [
             0.3333333333333333,
             "#9c179e"
            ],
            [
             0.4444444444444444,
             "#bd3786"
            ],
            [
             0.5555555555555556,
             "#d8576b"
            ],
            [
             0.6666666666666666,
             "#ed7953"
            ],
            [
             0.7777777777777778,
             "#fb9f3a"
            ],
            [
             0.8888888888888888,
             "#fdca26"
            ],
            [
             1,
             "#f0f921"
            ]
           ],
           "sequentialminus": [
            [
             0,
             "#0d0887"
            ],
            [
             0.1111111111111111,
             "#46039f"
            ],
            [
             0.2222222222222222,
             "#7201a8"
            ],
            [
             0.3333333333333333,
             "#9c179e"
            ],
            [
             0.4444444444444444,
             "#bd3786"
            ],
            [
             0.5555555555555556,
             "#d8576b"
            ],
            [
             0.6666666666666666,
             "#ed7953"
            ],
            [
             0.7777777777777778,
             "#fb9f3a"
            ],
            [
             0.8888888888888888,
             "#fdca26"
            ],
            [
             1,
             "#f0f921"
            ]
           ]
          },
          "colorway": [
           "#636efa",
           "#EF553B",
           "#00cc96",
           "#ab63fa",
           "#FFA15A",
           "#19d3f3",
           "#FF6692",
           "#B6E880",
           "#FF97FF",
           "#FECB52"
          ],
          "font": {
           "color": "#2a3f5f"
          },
          "geo": {
           "bgcolor": "white",
           "lakecolor": "white",
           "landcolor": "#E5ECF6",
           "showlakes": true,
           "showland": true,
           "subunitcolor": "white"
          },
          "hoverlabel": {
           "align": "left"
          },
          "hovermode": "closest",
          "mapbox": {
           "style": "light"
          },
          "paper_bgcolor": "white",
          "plot_bgcolor": "#E5ECF6",
          "polar": {
           "angularaxis": {
            "gridcolor": "white",
            "linecolor": "white",
            "ticks": ""
           },
           "bgcolor": "#E5ECF6",
           "radialaxis": {
            "gridcolor": "white",
            "linecolor": "white",
            "ticks": ""
           }
          },
          "scene": {
           "xaxis": {
            "backgroundcolor": "#E5ECF6",
            "gridcolor": "white",
            "gridwidth": 2,
            "linecolor": "white",
            "showbackground": true,
            "ticks": "",
            "zerolinecolor": "white"
           },
           "yaxis": {
            "backgroundcolor": "#E5ECF6",
            "gridcolor": "white",
            "gridwidth": 2,
            "linecolor": "white",
            "showbackground": true,
            "ticks": "",
            "zerolinecolor": "white"
           },
           "zaxis": {
            "backgroundcolor": "#E5ECF6",
            "gridcolor": "white",
            "gridwidth": 2,
            "linecolor": "white",
            "showbackground": true,
            "ticks": "",
            "zerolinecolor": "white"
           }
          },
          "shapedefaults": {
           "line": {
            "color": "#2a3f5f"
           }
          },
          "ternary": {
           "aaxis": {
            "gridcolor": "white",
            "linecolor": "white",
            "ticks": ""
           },
           "baxis": {
            "gridcolor": "white",
            "linecolor": "white",
            "ticks": ""
           },
           "bgcolor": "#E5ECF6",
           "caxis": {
            "gridcolor": "white",
            "linecolor": "white",
            "ticks": ""
           }
          },
          "title": {
           "x": 0.05
          },
          "xaxis": {
           "automargin": true,
           "gridcolor": "white",
           "linecolor": "white",
           "ticks": "",
           "title": {
            "standoff": 15
           },
           "zerolinecolor": "white",
           "zerolinewidth": 2
          },
          "yaxis": {
           "automargin": true,
           "gridcolor": "white",
           "linecolor": "white",
           "ticks": "",
           "title": {
            "standoff": 15
           },
           "zerolinecolor": "white",
           "zerolinewidth": 2
          }
         }
        },
        "title": {
         "font": {
          "size": 20
         }
        },
        "width": 800,
        "xaxis": {
         "anchor": "y",
         "domain": [
          0,
          1
         ],
         "tickfont": {
          "size": 14
         },
         "title": {
          "font": {
           "color": "black",
           "size": 16
          },
          "text": "scenario"
         }
        },
        "yaxis": {
         "anchor": "x",
         "domain": [
          0,
          1
         ],
         "tickfont": {
          "size": 14
         },
         "title": {
          "font": {
           "color": "black",
           "size": 16
          },
          "text": "Percentage difference in Gini coefficient from baseline"
         }
        }
       }
      }
     },
     "metadata": {}
    }
   ],
   "source": [
    "### Gini\n",
    "# Use pivot table to construct difference / percentage change in pov measures \n",
    "gini_wide = gini[gini.scenario!=\"baseline\"].pivot_table(\"gini_coefficient\",\"scenario\",\"ca\")\n",
    "gini_wide[\"baseline\"] = gini[gini.scenario == \"baseline\"].gini_coefficient.values[0]\n",
    "gini_wide = gini_wide.reset_index()\n",
    "gini_wide.columns = [\"scenario\", \"child care\", \"child allowance\", \"baseline\"]\n",
    "gini_wide[\"pdif_base_cc\"] = percent_change(gini_wide[\"child care\"],gini_wide[\"baseline\"])\n",
    "gini_wide[\"pdif_base_ca\"] = percent_change(gini_wide[\"child allowance\"],gini_wide[\"baseline\"])\n",
    "gini_wide[\"pdif_ca_cc\"] = percent_change(gini_wide[\"child allowance\"],gini_wide[\"child care\"])\n",
    "\n",
    "# Prepare dataframe for plot output\n",
    "no_ca_rows = {\"scenario\":gini_wide[\"scenario\"], \"Transfer type\":\"Child care\", \"Percentage difference in Gini coefficient from baseline\":gini_wide[\"pdif_base_cc\"]}\n",
    "no_ca_rows = pd.DataFrame(no_ca_rows)\n",
    "row_1 = no_ca_rows[no_ca_rows.scenario == \"cc_replacement\"]\n",
    "row_2 = no_ca_rows[no_ca_rows.scenario == \"low_cc_full\"]\n",
    "row_3 = no_ca_rows[no_ca_rows.scenario == \"high_cc_full\"]\n",
    "\n",
    "ca_rows = {\"scenario\":gini_wide[\"scenario\"], \"Transfer type\":\"Child allowance\", \"Percentage difference in Gini coefficient from baseline\":gini_wide[\"pdif_base_ca\"]}\n",
    "ca_rows = pd.DataFrame(ca_rows)\n",
    "row_4 = ca_rows[ca_rows.scenario == \"cc_replacement\"]\n",
    "row_5 = ca_rows[ca_rows.scenario == \"low_cc_full\"]\n",
    "row_6 = ca_rows[ca_rows.scenario == \"high_cc_full\"]\n",
    "\n",
    "# Append the rows\n",
    "row_2 = row_1.append(row_2)\n",
    "row_3 = row_2.append(row_3)\n",
    "row_4 = row_3.append(row_4)\n",
    "row_5 = row_4.append(row_5)\n",
    "row_6 = row_5.append(row_6)\n",
    "pov_long = row_6\n",
    "\n",
    "# Rename scenarios\n",
    "pov_long.loc[pov_long.scenario == \"cc_replacement\", \"scenario\"] = \"Expense replacement\"\n",
    "pov_long.loc[pov_long.scenario == \"high_cc_full\", \"scenario\"] = \"High quality\"\n",
    "pov_long.loc[pov_long.scenario == \"low_cc_full\", \"scenario\"] = \"Base quality\" \n",
    "\n",
    "pov_plot = px.bar(pov_long, x=\"scenario\", y=\"Percentage difference in Gini coefficient from baseline\", color=\"Transfer type\", barmode=\"group\",color_discrete_map={\"Child care\":\"steelblue\",\"Child allowance\":\"grey\"})\n",
    "format_fig(pov_plot)\n"
   ]
  },
  {
   "source": [
    "We then output state-based poverty rate and gini percentage changes to reflect the impact of the simulation. "
   ],
   "cell_type": "markdown",
   "metadata": {}
  },
  {
   "cell_type": "code",
   "execution_count": 67,
   "metadata": {},
   "outputs": [
    {
     "output_type": "execute_result",
     "data": {
      "text/plain": [
       "scenario              baseline cc_replacement           high_cc_full  \\\n",
       "ca                       False          False     True         False   \n",
       "state                                                                  \n",
       "Alabama               0.127468       0.126259  0.120791     0.102628   \n",
       "Alaska                0.132965       0.131078  0.125391     0.094711   \n",
       "Arizona               0.119701       0.116080  0.106740     0.090913   \n",
       "Arkansas              0.130987       0.128325  0.120045     0.103000   \n",
       "California            0.174174       0.172219  0.166576     0.136286   \n",
       "Colorado              0.116944       0.114349  0.113578     0.093067   \n",
       "Connecticut           0.113332       0.111758  0.110628     0.087151   \n",
       "Delaware              0.105911       0.102770  0.097914     0.086105   \n",
       "District of Columbia  0.169771       0.167536  0.160920     0.142059   \n",
       "Florida               0.159601       0.156689  0.150109     0.129471   \n",
       "Georgia               0.136660       0.134254  0.129246     0.103916   \n",
       "Hawaii                0.137703       0.135924  0.128062     0.106934   \n",
       "Idaho                 0.083094       0.081964  0.077663     0.063712   \n",
       "Illinois              0.113958       0.111418  0.105406     0.088246   \n",
       "Indiana               0.103981       0.102824  0.096494     0.075486   \n",
       "Iowa                  0.074519       0.072602  0.069927     0.054115   \n",
       "Kansas                0.075302       0.072967  0.070127     0.063359   \n",
       "Kentucky              0.112288       0.111472  0.106124     0.095469   \n",
       "Louisiana             0.165583       0.162260  0.154244     0.126427   \n",
       "Maine                 0.093941       0.091307  0.089332     0.076305   \n",
       "Maryland              0.124856       0.120221  0.121439     0.104525   \n",
       "Massachusetts         0.114918       0.112259  0.108753     0.097114   \n",
       "Michigan              0.100550       0.099210  0.094052     0.079346   \n",
       "Minnesota             0.065550       0.064345  0.061408     0.054521   \n",
       "Mississippi           0.154012       0.152917  0.143865     0.123675   \n",
       "Missouri              0.088932       0.087982  0.081324     0.071937   \n",
       "Montana               0.090210       0.088316  0.085664     0.073139   \n",
       "Nebraska              0.091352       0.086408  0.083103     0.070669   \n",
       "Nevada                0.135462       0.133438  0.123107     0.105098   \n",
       "New Hampshire         0.084666       0.079382  0.079345     0.064278   \n",
       "New Jersey            0.129822       0.126650  0.124276     0.105103   \n",
       "New Mexico            0.136001       0.135767  0.128677     0.105372   \n",
       "New York              0.151846       0.147671  0.143332     0.116787   \n",
       "North Carolina        0.135841       0.133010  0.123163     0.102829   \n",
       "North Dakota          0.095881       0.092904  0.088491     0.073530   \n",
       "Ohio                  0.103376       0.101311  0.095807     0.078988   \n",
       "Oklahoma              0.106826       0.105936  0.101229     0.085099   \n",
       "Oregon                0.112526       0.110430  0.105006     0.093767   \n",
       "Pennsylvania          0.111484       0.109140  0.105990     0.085566   \n",
       "Rhode Island          0.081049       0.080227  0.078376     0.061323   \n",
       "South Carolina        0.133161       0.129451  0.123233     0.109477   \n",
       "South Dakota          0.090533       0.089885  0.085615     0.070910   \n",
       "Tennessee             0.111710       0.109491  0.103327     0.086972   \n",
       "Texas                 0.140665       0.136442  0.131118     0.104464   \n",
       "Utah                  0.082092       0.080179  0.076899     0.064585   \n",
       "Vermont               0.105788       0.102500  0.100875     0.092524   \n",
       "Virginia              0.117839       0.112749  0.109017     0.089638   \n",
       "Washington            0.083740       0.082462  0.078328     0.064484   \n",
       "West Virginia         0.125399       0.123743  0.116789     0.101613   \n",
       "Wisconsin             0.078747       0.077000  0.072476     0.060932   \n",
       "Wyoming               0.100047       0.099021  0.092544     0.075421   \n",
       "\n",
       "scenario                       low_cc_full            \n",
       "ca                       True        False     True   \n",
       "state                                                 \n",
       "Alabama               0.100755    0.107343  0.105218  \n",
       "Alaska                0.096226    0.103367  0.106835  \n",
       "Arizona               0.090579    0.096930  0.094243  \n",
       "Arkansas              0.102164    0.108480  0.106633  \n",
       "California            0.137809    0.144813  0.147043  \n",
       "Colorado              0.093067    0.098470  0.098470  \n",
       "Connecticut           0.087728    0.090861  0.093475  \n",
       "Delaware              0.086105    0.089422  0.089422  \n",
       "District of Columbia  0.143431    0.144321  0.146682  \n",
       "Florida               0.128967    0.137851  0.134594  \n",
       "Georgia               0.102079    0.115714  0.111362  \n",
       "Hawaii                0.105912    0.114671  0.113718  \n",
       "Idaho                 0.063248    0.067773  0.066412  \n",
       "Illinois              0.088773    0.092483  0.092903  \n",
       "Indiana               0.074993    0.080929  0.079778  \n",
       "Iowa                  0.054115    0.060009  0.060506  \n",
       "Kansas                0.061785    0.067040  0.067040  \n",
       "Kentucky              0.093835    0.099750  0.097761  \n",
       "Louisiana             0.125102    0.135634  0.131179  \n",
       "Maine                 0.075444    0.078120  0.081033  \n",
       "Maryland              0.104525    0.107916  0.109530  \n",
       "Massachusetts         0.098308    0.099433  0.100061  \n",
       "Michigan              0.079346    0.083363  0.082095  \n",
       "Minnesota             0.054778    0.055305  0.055305  \n",
       "Mississippi           0.118603    0.125754  0.126254  \n",
       "Missouri              0.070995    0.072402  0.072402  \n",
       "Montana               0.073139    0.077429  0.076842  \n",
       "Nebraska              0.070197    0.072895  0.074408  \n",
       "Nevada                0.105098    0.112717  0.111938  \n",
       "New Hampshire         0.064278    0.070178  0.068484  \n",
       "New Jersey            0.105881    0.109789  0.110667  \n",
       "New Mexico            0.104763    0.111960  0.109278  \n",
       "New York              0.120311    0.123536  0.128748  \n",
       "North Carolina        0.101767    0.108885  0.106330  \n",
       "North Dakota          0.073530    0.078392  0.077073  \n",
       "Ohio                  0.078988    0.082338  0.081802  \n",
       "Oklahoma              0.082145    0.087992  0.087992  \n",
       "Oregon                0.094185    0.096007  0.096986  \n",
       "Pennsylvania          0.085566    0.092177  0.092980  \n",
       "Rhode Island          0.062024    0.065075  0.066646  \n",
       "South Carolina        0.108580    0.112700  0.110596  \n",
       "South Dakota          0.069826    0.076672  0.075886  \n",
       "Tennessee             0.086972    0.090526  0.090526  \n",
       "Texas                 0.102431    0.114590  0.111349  \n",
       "Utah                  0.063651    0.069901  0.069901  \n",
       "Vermont               0.092524    0.093598  0.093982  \n",
       "Virginia              0.089849    0.095232  0.095879  \n",
       "Washington            0.064748    0.067930  0.068218  \n",
       "West Virginia         0.100213    0.105566  0.105274  \n",
       "Wisconsin             0.060932    0.063832  0.063832  \n",
       "Wyoming               0.076010    0.077119  0.080404  "
      ],
      "text/html": "<div>\n<style scoped>\n    .dataframe tbody tr th:only-of-type {\n        vertical-align: middle;\n    }\n\n    .dataframe tbody tr th {\n        vertical-align: top;\n    }\n\n    .dataframe thead tr th {\n        text-align: left;\n    }\n\n    .dataframe thead tr:last-of-type th {\n        text-align: right;\n    }\n</style>\n<table border=\"1\" class=\"dataframe\">\n  <thead>\n    <tr>\n      <th>scenario</th>\n      <th>baseline</th>\n      <th colspan=\"2\" halign=\"left\">cc_replacement</th>\n      <th colspan=\"2\" halign=\"left\">high_cc_full</th>\n      <th colspan=\"2\" halign=\"left\">low_cc_full</th>\n    </tr>\n    <tr>\n      <th>ca</th>\n      <th>False</th>\n      <th>False</th>\n      <th>True</th>\n      <th>False</th>\n      <th>True</th>\n      <th>False</th>\n      <th>True</th>\n    </tr>\n    <tr>\n      <th>state</th>\n      <th></th>\n      <th></th>\n      <th></th>\n      <th></th>\n      <th></th>\n      <th></th>\n      <th></th>\n    </tr>\n  </thead>\n  <tbody>\n    <tr>\n      <th>Alabama</th>\n      <td>0.127468</td>\n      <td>0.126259</td>\n      <td>0.120791</td>\n      <td>0.102628</td>\n      <td>0.100755</td>\n      <td>0.107343</td>\n      <td>0.105218</td>\n    </tr>\n    <tr>\n      <th>Alaska</th>\n      <td>0.132965</td>\n      <td>0.131078</td>\n      <td>0.125391</td>\n      <td>0.094711</td>\n      <td>0.096226</td>\n      <td>0.103367</td>\n      <td>0.106835</td>\n    </tr>\n    <tr>\n      <th>Arizona</th>\n      <td>0.119701</td>\n      <td>0.116080</td>\n      <td>0.106740</td>\n      <td>0.090913</td>\n      <td>0.090579</td>\n      <td>0.096930</td>\n      <td>0.094243</td>\n    </tr>\n    <tr>\n      <th>Arkansas</th>\n      <td>0.130987</td>\n      <td>0.128325</td>\n      <td>0.120045</td>\n      <td>0.103000</td>\n      <td>0.102164</td>\n      <td>0.108480</td>\n      <td>0.106633</td>\n    </tr>\n    <tr>\n      <th>California</th>\n      <td>0.174174</td>\n      <td>0.172219</td>\n      <td>0.166576</td>\n      <td>0.136286</td>\n      <td>0.137809</td>\n      <td>0.144813</td>\n      <td>0.147043</td>\n    </tr>\n    <tr>\n      <th>Colorado</th>\n      <td>0.116944</td>\n      <td>0.114349</td>\n      <td>0.113578</td>\n      <td>0.093067</td>\n      <td>0.093067</td>\n      <td>0.098470</td>\n      <td>0.098470</td>\n    </tr>\n    <tr>\n      <th>Connecticut</th>\n      <td>0.113332</td>\n      <td>0.111758</td>\n      <td>0.110628</td>\n      <td>0.087151</td>\n      <td>0.087728</td>\n      <td>0.090861</td>\n      <td>0.093475</td>\n    </tr>\n    <tr>\n      <th>Delaware</th>\n      <td>0.105911</td>\n      <td>0.102770</td>\n      <td>0.097914</td>\n      <td>0.086105</td>\n      <td>0.086105</td>\n      <td>0.089422</td>\n      <td>0.089422</td>\n    </tr>\n    <tr>\n      <th>District of Columbia</th>\n      <td>0.169771</td>\n      <td>0.167536</td>\n      <td>0.160920</td>\n      <td>0.142059</td>\n      <td>0.143431</td>\n      <td>0.144321</td>\n      <td>0.146682</td>\n    </tr>\n    <tr>\n      <th>Florida</th>\n      <td>0.159601</td>\n      <td>0.156689</td>\n      <td>0.150109</td>\n      <td>0.129471</td>\n      <td>0.128967</td>\n      <td>0.137851</td>\n      <td>0.134594</td>\n    </tr>\n    <tr>\n      <th>Georgia</th>\n      <td>0.136660</td>\n      <td>0.134254</td>\n      <td>0.129246</td>\n      <td>0.103916</td>\n      <td>0.102079</td>\n      <td>0.115714</td>\n      <td>0.111362</td>\n    </tr>\n    <tr>\n      <th>Hawaii</th>\n      <td>0.137703</td>\n      <td>0.135924</td>\n      <td>0.128062</td>\n      <td>0.106934</td>\n      <td>0.105912</td>\n      <td>0.114671</td>\n      <td>0.113718</td>\n    </tr>\n    <tr>\n      <th>Idaho</th>\n      <td>0.083094</td>\n      <td>0.081964</td>\n      <td>0.077663</td>\n      <td>0.063712</td>\n      <td>0.063248</td>\n      <td>0.067773</td>\n      <td>0.066412</td>\n    </tr>\n    <tr>\n      <th>Illinois</th>\n      <td>0.113958</td>\n      <td>0.111418</td>\n      <td>0.105406</td>\n      <td>0.088246</td>\n      <td>0.088773</td>\n      <td>0.092483</td>\n      <td>0.092903</td>\n    </tr>\n    <tr>\n      <th>Indiana</th>\n      <td>0.103981</td>\n      <td>0.102824</td>\n      <td>0.096494</td>\n      <td>0.075486</td>\n      <td>0.074993</td>\n      <td>0.080929</td>\n      <td>0.079778</td>\n    </tr>\n    <tr>\n      <th>Iowa</th>\n      <td>0.074519</td>\n      <td>0.072602</td>\n      <td>0.069927</td>\n      <td>0.054115</td>\n      <td>0.054115</td>\n      <td>0.060009</td>\n      <td>0.060506</td>\n    </tr>\n    <tr>\n      <th>Kansas</th>\n      <td>0.075302</td>\n      <td>0.072967</td>\n      <td>0.070127</td>\n      <td>0.063359</td>\n      <td>0.061785</td>\n      <td>0.067040</td>\n      <td>0.067040</td>\n    </tr>\n    <tr>\n      <th>Kentucky</th>\n      <td>0.112288</td>\n      <td>0.111472</td>\n      <td>0.106124</td>\n      <td>0.095469</td>\n      <td>0.093835</td>\n      <td>0.099750</td>\n      <td>0.097761</td>\n    </tr>\n    <tr>\n      <th>Louisiana</th>\n      <td>0.165583</td>\n      <td>0.162260</td>\n      <td>0.154244</td>\n      <td>0.126427</td>\n      <td>0.125102</td>\n      <td>0.135634</td>\n      <td>0.131179</td>\n    </tr>\n    <tr>\n      <th>Maine</th>\n      <td>0.093941</td>\n      <td>0.091307</td>\n      <td>0.089332</td>\n      <td>0.076305</td>\n      <td>0.075444</td>\n      <td>0.078120</td>\n      <td>0.081033</td>\n    </tr>\n    <tr>\n      <th>Maryland</th>\n      <td>0.124856</td>\n      <td>0.120221</td>\n      <td>0.121439</td>\n      <td>0.104525</td>\n      <td>0.104525</td>\n      <td>0.107916</td>\n      <td>0.109530</td>\n    </tr>\n    <tr>\n      <th>Massachusetts</th>\n      <td>0.114918</td>\n      <td>0.112259</td>\n      <td>0.108753</td>\n      <td>0.097114</td>\n      <td>0.098308</td>\n      <td>0.099433</td>\n      <td>0.100061</td>\n    </tr>\n    <tr>\n      <th>Michigan</th>\n      <td>0.100550</td>\n      <td>0.099210</td>\n      <td>0.094052</td>\n      <td>0.079346</td>\n      <td>0.079346</td>\n      <td>0.083363</td>\n      <td>0.082095</td>\n    </tr>\n    <tr>\n      <th>Minnesota</th>\n      <td>0.065550</td>\n      <td>0.064345</td>\n      <td>0.061408</td>\n      <td>0.054521</td>\n      <td>0.054778</td>\n      <td>0.055305</td>\n      <td>0.055305</td>\n    </tr>\n    <tr>\n      <th>Mississippi</th>\n      <td>0.154012</td>\n      <td>0.152917</td>\n      <td>0.143865</td>\n      <td>0.123675</td>\n      <td>0.118603</td>\n      <td>0.125754</td>\n      <td>0.126254</td>\n    </tr>\n    <tr>\n      <th>Missouri</th>\n      <td>0.088932</td>\n      <td>0.087982</td>\n      <td>0.081324</td>\n      <td>0.071937</td>\n      <td>0.070995</td>\n      <td>0.072402</td>\n      <td>0.072402</td>\n    </tr>\n    <tr>\n      <th>Montana</th>\n      <td>0.090210</td>\n      <td>0.088316</td>\n      <td>0.085664</td>\n      <td>0.073139</td>\n      <td>0.073139</td>\n      <td>0.077429</td>\n      <td>0.076842</td>\n    </tr>\n    <tr>\n      <th>Nebraska</th>\n      <td>0.091352</td>\n      <td>0.086408</td>\n      <td>0.083103</td>\n      <td>0.070669</td>\n      <td>0.070197</td>\n      <td>0.072895</td>\n      <td>0.074408</td>\n    </tr>\n    <tr>\n      <th>Nevada</th>\n      <td>0.135462</td>\n      <td>0.133438</td>\n      <td>0.123107</td>\n      <td>0.105098</td>\n      <td>0.105098</td>\n      <td>0.112717</td>\n      <td>0.111938</td>\n    </tr>\n    <tr>\n      <th>New Hampshire</th>\n      <td>0.084666</td>\n      <td>0.079382</td>\n      <td>0.079345</td>\n      <td>0.064278</td>\n      <td>0.064278</td>\n      <td>0.070178</td>\n      <td>0.068484</td>\n    </tr>\n    <tr>\n      <th>New Jersey</th>\n      <td>0.129822</td>\n      <td>0.126650</td>\n      <td>0.124276</td>\n      <td>0.105103</td>\n      <td>0.105881</td>\n      <td>0.109789</td>\n      <td>0.110667</td>\n    </tr>\n    <tr>\n      <th>New Mexico</th>\n      <td>0.136001</td>\n      <td>0.135767</td>\n      <td>0.128677</td>\n      <td>0.105372</td>\n      <td>0.104763</td>\n      <td>0.111960</td>\n      <td>0.109278</td>\n    </tr>\n    <tr>\n      <th>New York</th>\n      <td>0.151846</td>\n      <td>0.147671</td>\n      <td>0.143332</td>\n      <td>0.116787</td>\n      <td>0.120311</td>\n      <td>0.123536</td>\n      <td>0.128748</td>\n    </tr>\n    <tr>\n      <th>North Carolina</th>\n      <td>0.135841</td>\n      <td>0.133010</td>\n      <td>0.123163</td>\n      <td>0.102829</td>\n      <td>0.101767</td>\n      <td>0.108885</td>\n      <td>0.106330</td>\n    </tr>\n    <tr>\n      <th>North Dakota</th>\n      <td>0.095881</td>\n      <td>0.092904</td>\n      <td>0.088491</td>\n      <td>0.073530</td>\n      <td>0.073530</td>\n      <td>0.078392</td>\n      <td>0.077073</td>\n    </tr>\n    <tr>\n      <th>Ohio</th>\n      <td>0.103376</td>\n      <td>0.101311</td>\n      <td>0.095807</td>\n      <td>0.078988</td>\n      <td>0.078988</td>\n      <td>0.082338</td>\n      <td>0.081802</td>\n    </tr>\n    <tr>\n      <th>Oklahoma</th>\n      <td>0.106826</td>\n      <td>0.105936</td>\n      <td>0.101229</td>\n      <td>0.085099</td>\n      <td>0.082145</td>\n      <td>0.087992</td>\n      <td>0.087992</td>\n    </tr>\n    <tr>\n      <th>Oregon</th>\n      <td>0.112526</td>\n      <td>0.110430</td>\n      <td>0.105006</td>\n      <td>0.093767</td>\n      <td>0.094185</td>\n      <td>0.096007</td>\n      <td>0.096986</td>\n    </tr>\n    <tr>\n      <th>Pennsylvania</th>\n      <td>0.111484</td>\n      <td>0.109140</td>\n      <td>0.105990</td>\n      <td>0.085566</td>\n      <td>0.085566</td>\n      <td>0.092177</td>\n      <td>0.092980</td>\n    </tr>\n    <tr>\n      <th>Rhode Island</th>\n      <td>0.081049</td>\n      <td>0.080227</td>\n      <td>0.078376</td>\n      <td>0.061323</td>\n      <td>0.062024</td>\n      <td>0.065075</td>\n      <td>0.066646</td>\n    </tr>\n    <tr>\n      <th>South Carolina</th>\n      <td>0.133161</td>\n      <td>0.129451</td>\n      <td>0.123233</td>\n      <td>0.109477</td>\n      <td>0.108580</td>\n      <td>0.112700</td>\n      <td>0.110596</td>\n    </tr>\n    <tr>\n      <th>South Dakota</th>\n      <td>0.090533</td>\n      <td>0.089885</td>\n      <td>0.085615</td>\n      <td>0.070910</td>\n      <td>0.069826</td>\n      <td>0.076672</td>\n      <td>0.075886</td>\n    </tr>\n    <tr>\n      <th>Tennessee</th>\n      <td>0.111710</td>\n      <td>0.109491</td>\n      <td>0.103327</td>\n      <td>0.086972</td>\n      <td>0.086972</td>\n      <td>0.090526</td>\n      <td>0.090526</td>\n    </tr>\n    <tr>\n      <th>Texas</th>\n      <td>0.140665</td>\n      <td>0.136442</td>\n      <td>0.131118</td>\n      <td>0.104464</td>\n      <td>0.102431</td>\n      <td>0.114590</td>\n      <td>0.111349</td>\n    </tr>\n    <tr>\n      <th>Utah</th>\n      <td>0.082092</td>\n      <td>0.080179</td>\n      <td>0.076899</td>\n      <td>0.064585</td>\n      <td>0.063651</td>\n      <td>0.069901</td>\n      <td>0.069901</td>\n    </tr>\n    <tr>\n      <th>Vermont</th>\n      <td>0.105788</td>\n      <td>0.102500</td>\n      <td>0.100875</td>\n      <td>0.092524</td>\n      <td>0.092524</td>\n      <td>0.093598</td>\n      <td>0.093982</td>\n    </tr>\n    <tr>\n      <th>Virginia</th>\n      <td>0.117839</td>\n      <td>0.112749</td>\n      <td>0.109017</td>\n      <td>0.089638</td>\n      <td>0.089849</td>\n      <td>0.095232</td>\n      <td>0.095879</td>\n    </tr>\n    <tr>\n      <th>Washington</th>\n      <td>0.083740</td>\n      <td>0.082462</td>\n      <td>0.078328</td>\n      <td>0.064484</td>\n      <td>0.064748</td>\n      <td>0.067930</td>\n      <td>0.068218</td>\n    </tr>\n    <tr>\n      <th>West Virginia</th>\n      <td>0.125399</td>\n      <td>0.123743</td>\n      <td>0.116789</td>\n      <td>0.101613</td>\n      <td>0.100213</td>\n      <td>0.105566</td>\n      <td>0.105274</td>\n    </tr>\n    <tr>\n      <th>Wisconsin</th>\n      <td>0.078747</td>\n      <td>0.077000</td>\n      <td>0.072476</td>\n      <td>0.060932</td>\n      <td>0.060932</td>\n      <td>0.063832</td>\n      <td>0.063832</td>\n    </tr>\n    <tr>\n      <th>Wyoming</th>\n      <td>0.100047</td>\n      <td>0.099021</td>\n      <td>0.092544</td>\n      <td>0.075421</td>\n      <td>0.076010</td>\n      <td>0.077119</td>\n      <td>0.080404</td>\n    </tr>\n  </tbody>\n</table>\n</div>"
     },
     "metadata": {},
     "execution_count": 67
    }
   ],
   "source": []
  },
  {
   "cell_type": "code",
   "execution_count": 18,
   "metadata": {},
   "outputs": [
    {
     "output_type": "error",
     "ename": "KeyError",
     "evalue": "'poverty_rate'",
     "traceback": [
      "\u001b[1;31m---------------------------------------------------------------------------\u001b[0m",
      "\u001b[1;31mKeyError\u001b[0m                                  Traceback (most recent call last)",
      "\u001b[1;32m<ipython-input-18-ee8b5caac12d>\u001b[0m in \u001b[0;36m<module>\u001b[1;34m\u001b[0m\n\u001b[0;32m      5\u001b[0m )\n\u001b[0;32m      6\u001b[0m \u001b[0mstate_pov\u001b[0m \u001b[1;33m=\u001b[0m \u001b[0mstate_pov\u001b[0m\u001b[1;33m.\u001b[0m\u001b[0mreset_index\u001b[0m\u001b[1;33m(\u001b[0m\u001b[1;33m)\u001b[0m\u001b[1;33m\u001b[0m\u001b[1;33m\u001b[0m\u001b[0m\n\u001b[1;32m----> 7\u001b[1;33m deep_state_pov = deep_poverty_rate_state.pivot_table(\n\u001b[0m\u001b[0;32m      8\u001b[0m     \u001b[0mvalues\u001b[0m\u001b[1;33m=\u001b[0m\u001b[1;34m\"poverty_rate\"\u001b[0m\u001b[1;33m,\u001b[0m \u001b[0mindex\u001b[0m\u001b[1;33m=\u001b[0m\u001b[1;34m\"state\"\u001b[0m\u001b[1;33m,\u001b[0m \u001b[0mcolumns\u001b[0m\u001b[1;33m=\u001b[0m\u001b[1;33m[\u001b[0m\u001b[1;34m\"scenario\"\u001b[0m\u001b[1;33m,\u001b[0m\u001b[1;34m\"ca\"\u001b[0m\u001b[1;33m]\u001b[0m\u001b[1;33m\u001b[0m\u001b[1;33m\u001b[0m\u001b[0m\n\u001b[0;32m      9\u001b[0m )\n",
      "\u001b[1;32m~\\anaconda3\\lib\\site-packages\\pandas\\core\\frame.py\u001b[0m in \u001b[0;36mpivot_table\u001b[1;34m(self, values, index, columns, aggfunc, fill_value, margins, dropna, margins_name, observed)\u001b[0m\n\u001b[0;32m   6068\u001b[0m         \u001b[1;32mfrom\u001b[0m \u001b[0mpandas\u001b[0m\u001b[1;33m.\u001b[0m\u001b[0mcore\u001b[0m\u001b[1;33m.\u001b[0m\u001b[0mreshape\u001b[0m\u001b[1;33m.\u001b[0m\u001b[0mpivot\u001b[0m \u001b[1;32mimport\u001b[0m \u001b[0mpivot_table\u001b[0m\u001b[1;33m\u001b[0m\u001b[1;33m\u001b[0m\u001b[0m\n\u001b[0;32m   6069\u001b[0m \u001b[1;33m\u001b[0m\u001b[0m\n\u001b[1;32m-> 6070\u001b[1;33m         return pivot_table(\n\u001b[0m\u001b[0;32m   6071\u001b[0m             \u001b[0mself\u001b[0m\u001b[1;33m,\u001b[0m\u001b[1;33m\u001b[0m\u001b[1;33m\u001b[0m\u001b[0m\n\u001b[0;32m   6072\u001b[0m             \u001b[0mvalues\u001b[0m\u001b[1;33m=\u001b[0m\u001b[0mvalues\u001b[0m\u001b[1;33m,\u001b[0m\u001b[1;33m\u001b[0m\u001b[1;33m\u001b[0m\u001b[0m\n",
      "\u001b[1;32m~\\anaconda3\\lib\\site-packages\\pandas\\core\\reshape\\pivot.py\u001b[0m in \u001b[0;36mpivot_table\u001b[1;34m(data, values, index, columns, aggfunc, fill_value, margins, dropna, margins_name, observed)\u001b[0m\n\u001b[0;32m     75\u001b[0m         \u001b[1;32mfor\u001b[0m \u001b[0mi\u001b[0m \u001b[1;32min\u001b[0m \u001b[0mvalues\u001b[0m\u001b[1;33m:\u001b[0m\u001b[1;33m\u001b[0m\u001b[1;33m\u001b[0m\u001b[0m\n\u001b[0;32m     76\u001b[0m             \u001b[1;32mif\u001b[0m \u001b[0mi\u001b[0m \u001b[1;32mnot\u001b[0m \u001b[1;32min\u001b[0m \u001b[0mdata\u001b[0m\u001b[1;33m:\u001b[0m\u001b[1;33m\u001b[0m\u001b[1;33m\u001b[0m\u001b[0m\n\u001b[1;32m---> 77\u001b[1;33m                 \u001b[1;32mraise\u001b[0m \u001b[0mKeyError\u001b[0m\u001b[1;33m(\u001b[0m\u001b[0mi\u001b[0m\u001b[1;33m)\u001b[0m\u001b[1;33m\u001b[0m\u001b[1;33m\u001b[0m\u001b[0m\n\u001b[0m\u001b[0;32m     78\u001b[0m \u001b[1;33m\u001b[0m\u001b[0m\n\u001b[0;32m     79\u001b[0m         \u001b[0mto_filter\u001b[0m \u001b[1;33m=\u001b[0m \u001b[1;33m[\u001b[0m\u001b[1;33m]\u001b[0m\u001b[1;33m\u001b[0m\u001b[1;33m\u001b[0m\u001b[0m\n",
      "\u001b[1;31mKeyError\u001b[0m: 'poverty_rate'"
     ]
    }
   ],
   "source": [
    "# State analysis\n",
    "# Create pivot table to interpret state-based poverty effects\n",
    "state_pov = poverty_rate_state.pivot_table(\n",
    "    values=\"poverty_rate\", index=\"state\", columns=[\"scenario\",\"ca\"]\n",
    ")\n",
    "state_pov = state_pov.reset_index()\n",
    "deep_state_pov = deep_poverty_rate_state.pivot_table(\n",
    "    values=\"poverty_rate\", index=\"state\", columns=[\"scenario\",\"ca\"]\n",
    ")\n",
    "# Create pivot table to interpret state-based gini effects\n",
    "state_gini = gini_state.pivot_table(\n",
    "    values=\"gini_coefficient\", index=\"state\", columns=[\"scenario\", \"ca\"]\n",
    ")\n",
    "\n",
    "us_state_abbrev = {\n",
    "    'Alabama': 'AL',\n",
    "    'Alaska': 'AK',\n",
    "    'American Samoa': 'AS',\n",
    "    'Arizona': 'AZ',\n",
    "    'Arkansas': 'AR',\n",
    "    'California': 'CA',\n",
    "    'Colorado': 'CO',\n",
    "    'Connecticut': 'CT',\n",
    "    'Delaware': 'DE',\n",
    "    'District of Columbia': 'DC',\n",
    "    'Florida': 'FL',\n",
    "    'Georgia': 'GA',\n",
    "    'Guam': 'GU',\n",
    "    'Hawaii': 'HI',\n",
    "    'Idaho': 'ID',\n",
    "    'Illinois': 'IL',\n",
    "    'Indiana': 'IN',\n",
    "    'Iowa': 'IA',\n",
    "    'Kansas': 'KS',\n",
    "    'Kentucky': 'KY',\n",
    "    'Louisiana': 'LA',\n",
    "    'Maine': 'ME',\n",
    "    'Maryland': 'MD',\n",
    "    'Massachusetts': 'MA',\n",
    "    'Michigan': 'MI',\n",
    "    'Minnesota': 'MN',\n",
    "    'Mississippi': 'MS',\n",
    "    'Missouri': 'MO',\n",
    "    'Montana': 'MT',\n",
    "    'Nebraska': 'NE',\n",
    "    'Nevada': 'NV',\n",
    "    'New Hampshire': 'NH',\n",
    "    'New Jersey': 'NJ',\n",
    "    'New Mexico': 'NM',\n",
    "    'New York': 'NY',\n",
    "    'North Carolina': 'NC',\n",
    "    'North Dakota': 'ND',\n",
    "    'Northern Mariana Islands':'MP',\n",
    "    'Ohio': 'OH',\n",
    "    'Oklahoma': 'OK',\n",
    "    'Oregon': 'OR',\n",
    "    'Pennsylvania': 'PA',\n",
    "    'Puerto Rico': 'PR',\n",
    "    'Rhode Island': 'RI',\n",
    "    'South Carolina': 'SC',\n",
    "    'South Dakota': 'SD',\n",
    "    'Tennessee': 'TN',\n",
    "    'Texas': 'TX',\n",
    "    'Utah': 'UT',\n",
    "    'Vermont': 'VT',\n",
    "    'Virgin Islands': 'VI',\n",
    "    'Virginia': 'VA',\n",
    "    'Washington': 'WA',\n",
    "    'West Virginia': 'WV',\n",
    "    'Wisconsin': 'WI',\n",
    "    'Wyoming': 'WY'\n",
    "}\n",
    "state_pov[\"state_code\"]= state_pov.state.map(us_state_abbrev)\n",
    "px.choropleth(locations=state_pov.state_code,locationmode=\"USA-states\",color=state_pov.baseline,scope=\"usa\")"
   ]
  },
  {
   "cell_type": "code",
   "execution_count": null,
   "metadata": {},
   "outputs": [],
   "source": [
    "state_pov"
   ]
  },
  {
   "cell_type": "code",
   "execution_count": 26,
   "metadata": {},
   "outputs": [
    {
     "output_type": "execute_result",
     "data": {
      "text/plain": [
       "'\\n# Generate state-based poverty rate percentage changes\\nstate_pov[\"poverty_change_cc\"] =  state_pov.cc_replacement - state_pov.baseline\\nstate_pov[\"poverty_change_flat\"] = state_pov.child_allowance - state_pov.baseline\\nstate_pov[\"poverty_change_pc_cc\"] = state_pov.poverty_change_cc - state_pov.baseline\\nstate_pov[\"poverty_change_pc_flat\"] = (\\n    state_pov.poverty_change_flat - state_pov.baseline\\n)\\n\\n# Construct state-based gini coefficient percentage changes\\nstate_gini[\"gini_change_cc\"] = state_gini.cc_replacement - state_gini.baseline\\nstate_gini[\"gini_change_flat\"] = state_gini.child_allowance - state_gini.baseline\\nstate_gini[\"gini_change_pc_cc\"] = percent_change(\\n    state_gini.gini_change_cc, state_gini.baseline\\n)\\nstate_gini[\"gini_change_pc_flat\"] = percent_change(\\n    state_gini.gini_change_flat, state_gini.baseline\\n)\\n\\n# Re-arrange and present pivot tables, descending by % change\\n# in poverty rate\\nstate_pov.sort_values(by=\"poverty_change_pc_flat\", ascending=True)\\nstate_gini.sort_values(by=\"gini_change_pc_flat\", ascending=True)\\n'"
      ]
     },
     "metadata": {},
     "execution_count": 26
    }
   ],
   "source": [
    "\n",
    "\"\"\"\n",
    "# Generate state-based poverty rate percentage changes\n",
    "state_pov[\"poverty_change_cc\"] =  state_pov.cc_replacement - state_pov.baseline\n",
    "state_pov[\"poverty_change_flat\"] = state_pov.child_allowance - state_pov.baseline\n",
    "state_pov[\"poverty_change_pc_cc\"] = state_pov.poverty_change_cc - state_pov.baseline\n",
    "state_pov[\"poverty_change_pc_flat\"] = (\n",
    "    state_pov.poverty_change_flat - state_pov.baseline\n",
    ")\n",
    "\n",
    "# Construct state-based gini coefficient percentage changes\n",
    "state_gini[\"gini_change_cc\"] = state_gini.cc_replacement - state_gini.baseline\n",
    "state_gini[\"gini_change_flat\"] = state_gini.child_allowance - state_gini.baseline\n",
    "state_gini[\"gini_change_pc_cc\"] = percent_change(\n",
    "    state_gini.gini_change_cc, state_gini.baseline\n",
    ")\n",
    "state_gini[\"gini_change_pc_flat\"] = percent_change(\n",
    "    state_gini.gini_change_flat, state_gini.baseline\n",
    ")\n",
    "\n",
    "# Re-arrange and present pivot tables, descending by % change\n",
    "# in poverty rate\n",
    "state_pov.sort_values(by=\"poverty_change_pc_flat\", ascending=True)\n",
    "state_gini.sort_values(by=\"gini_change_pc_flat\", ascending=True)\n",
    "\"\"\""
   ]
  },
  {
   "source": [
    "## Visualizations\n"
   ],
   "cell_type": "markdown",
   "metadata": {}
  },
  {
   "cell_type": "code",
   "execution_count": null,
   "metadata": {},
   "outputs": [],
   "source": [
    "# Poverty rate by sim\n",
    "pov_plot = px.bar(poverty_rate,x=\"sim\",y=\"poverty_rate\")\n",
    "format_fig(pov_plot)"
   ]
  },
  {
   "cell_type": "code",
   "execution_count": null,
   "metadata": {},
   "outputs": [],
   "source": [
    "# Deep poverty by sim\n",
    "deep_pov_plot = px.bar(deep_poverty_rate,x=\"sim\",y=\"poverty_rate\")\n",
    "format_fig(deep_pov_plot)"
   ]
  },
  {
   "cell_type": "code",
   "execution_count": 13,
   "metadata": {},
   "outputs": [
    {
     "output_type": "display_data",
     "data": {
      "application/vnd.plotly.v1+json": {
       "config": {
        "displayModeBar": false,
        "plotlyServerURL": "https://plot.ly"
       },
       "data": [
        {
         "alignmentgroup": "True",
         "hovertemplate": "sim=%{x}<br>poverty_rate=%{y}<extra></extra>",
         "legendgroup": "",
         "marker": {
          "color": "#636efa"
         },
         "name": "",
         "offsetgroup": "",
         "orientation": "v",
         "showlegend": false,
         "textposition": "auto",
         "type": "bar",
         "x": [
          "baseline",
          "high_ca",
          "high_xpns",
          "low_ca",
          "low_xpns",
          "replace_ca",
          "replace_xpns"
         ],
         "xaxis": "x",
         "y": [
          0.14978659209387424,
          0.01290931457889496,
          0.01320777228509338,
          0.03807381507460069,
          0.03973806781276834,
          0.11522161760955155,
          0.13922574614403332
         ],
         "yaxis": "y"
        }
       ],
       "layout": {
        "barmode": "relative",
        "font": {
         "family": "Roboto"
        },
        "height": 600,
        "hoverlabel": {
         "align": "right"
        },
        "images": [
         {
          "sizex": 0.12,
          "sizey": 0.12,
          "source": "https://raw.githubusercontent.com/UBICenter/blog/master/jb/_static/ubi_center_logo_wide_blue.png",
          "x": 0.98,
          "xanchor": "right",
          "xref": "paper",
          "y": -0.12,
          "yanchor": "bottom",
          "yref": "paper"
         }
        ],
        "legend": {
         "tracegroupgap": 0
        },
        "margin": {
         "t": 60
        },
        "paper_bgcolor": "white",
        "plot_bgcolor": "white",
        "template": {
         "data": {
          "bar": [
           {
            "error_x": {
             "color": "#2a3f5f"
            },
            "error_y": {
             "color": "#2a3f5f"
            },
            "marker": {
             "line": {
              "color": "#E5ECF6",
              "width": 0.5
             }
            },
            "type": "bar"
           }
          ],
          "barpolar": [
           {
            "marker": {
             "line": {
              "color": "#E5ECF6",
              "width": 0.5
             }
            },
            "type": "barpolar"
           }
          ],
          "carpet": [
           {
            "aaxis": {
             "endlinecolor": "#2a3f5f",
             "gridcolor": "white",
             "linecolor": "white",
             "minorgridcolor": "white",
             "startlinecolor": "#2a3f5f"
            },
            "baxis": {
             "endlinecolor": "#2a3f5f",
             "gridcolor": "white",
             "linecolor": "white",
             "minorgridcolor": "white",
             "startlinecolor": "#2a3f5f"
            },
            "type": "carpet"
           }
          ],
          "choropleth": [
           {
            "colorbar": {
             "outlinewidth": 0,
             "ticks": ""
            },
            "type": "choropleth"
           }
          ],
          "contour": [
           {
            "colorbar": {
             "outlinewidth": 0,
             "ticks": ""
            },
            "colorscale": [
             [
              0,
              "#0d0887"
             ],
             [
              0.1111111111111111,
              "#46039f"
             ],
             [
              0.2222222222222222,
              "#7201a8"
             ],
             [
              0.3333333333333333,
              "#9c179e"
             ],
             [
              0.4444444444444444,
              "#bd3786"
             ],
             [
              0.5555555555555556,
              "#d8576b"
             ],
             [
              0.6666666666666666,
              "#ed7953"
             ],
             [
              0.7777777777777778,
              "#fb9f3a"
             ],
             [
              0.8888888888888888,
              "#fdca26"
             ],
             [
              1,
              "#f0f921"
             ]
            ],
            "type": "contour"
           }
          ],
          "contourcarpet": [
           {
            "colorbar": {
             "outlinewidth": 0,
             "ticks": ""
            },
            "type": "contourcarpet"
           }
          ],
          "heatmap": [
           {
            "colorbar": {
             "outlinewidth": 0,
             "ticks": ""
            },
            "colorscale": [
             [
              0,
              "#0d0887"
             ],
             [
              0.1111111111111111,
              "#46039f"
             ],
             [
              0.2222222222222222,
              "#7201a8"
             ],
             [
              0.3333333333333333,
              "#9c179e"
             ],
             [
              0.4444444444444444,
              "#bd3786"
             ],
             [
              0.5555555555555556,
              "#d8576b"
             ],
             [
              0.6666666666666666,
              "#ed7953"
             ],
             [
              0.7777777777777778,
              "#fb9f3a"
             ],
             [
              0.8888888888888888,
              "#fdca26"
             ],
             [
              1,
              "#f0f921"
             ]
            ],
            "type": "heatmap"
           }
          ],
          "heatmapgl": [
           {
            "colorbar": {
             "outlinewidth": 0,
             "ticks": ""
            },
            "colorscale": [
             [
              0,
              "#0d0887"
             ],
             [
              0.1111111111111111,
              "#46039f"
             ],
             [
              0.2222222222222222,
              "#7201a8"
             ],
             [
              0.3333333333333333,
              "#9c179e"
             ],
             [
              0.4444444444444444,
              "#bd3786"
             ],
             [
              0.5555555555555556,
              "#d8576b"
             ],
             [
              0.6666666666666666,
              "#ed7953"
             ],
             [
              0.7777777777777778,
              "#fb9f3a"
             ],
             [
              0.8888888888888888,
              "#fdca26"
             ],
             [
              1,
              "#f0f921"
             ]
            ],
            "type": "heatmapgl"
           }
          ],
          "histogram": [
           {
            "marker": {
             "colorbar": {
              "outlinewidth": 0,
              "ticks": ""
             }
            },
            "type": "histogram"
           }
          ],
          "histogram2d": [
           {
            "colorbar": {
             "outlinewidth": 0,
             "ticks": ""
            },
            "colorscale": [
             [
              0,
              "#0d0887"
             ],
             [
              0.1111111111111111,
              "#46039f"
             ],
             [
              0.2222222222222222,
              "#7201a8"
             ],
             [
              0.3333333333333333,
              "#9c179e"
             ],
             [
              0.4444444444444444,
              "#bd3786"
             ],
             [
              0.5555555555555556,
              "#d8576b"
             ],
             [
              0.6666666666666666,
              "#ed7953"
             ],
             [
              0.7777777777777778,
              "#fb9f3a"
             ],
             [
              0.8888888888888888,
              "#fdca26"
             ],
             [
              1,
              "#f0f921"
             ]
            ],
            "type": "histogram2d"
           }
          ],
          "histogram2dcontour": [
           {
            "colorbar": {
             "outlinewidth": 0,
             "ticks": ""
            },
            "colorscale": [
             [
              0,
              "#0d0887"
             ],
             [
              0.1111111111111111,
              "#46039f"
             ],
             [
              0.2222222222222222,
              "#7201a8"
             ],
             [
              0.3333333333333333,
              "#9c179e"
             ],
             [
              0.4444444444444444,
              "#bd3786"
             ],
             [
              0.5555555555555556,
              "#d8576b"
             ],
             [
              0.6666666666666666,
              "#ed7953"
             ],
             [
              0.7777777777777778,
              "#fb9f3a"
             ],
             [
              0.8888888888888888,
              "#fdca26"
             ],
             [
              1,
              "#f0f921"
             ]
            ],
            "type": "histogram2dcontour"
           }
          ],
          "mesh3d": [
           {
            "colorbar": {
             "outlinewidth": 0,
             "ticks": ""
            },
            "type": "mesh3d"
           }
          ],
          "parcoords": [
           {
            "line": {
             "colorbar": {
              "outlinewidth": 0,
              "ticks": ""
             }
            },
            "type": "parcoords"
           }
          ],
          "pie": [
           {
            "automargin": true,
            "type": "pie"
           }
          ],
          "scatter": [
           {
            "marker": {
             "colorbar": {
              "outlinewidth": 0,
              "ticks": ""
             }
            },
            "type": "scatter"
           }
          ],
          "scatter3d": [
           {
            "line": {
             "colorbar": {
              "outlinewidth": 0,
              "ticks": ""
             }
            },
            "marker": {
             "colorbar": {
              "outlinewidth": 0,
              "ticks": ""
             }
            },
            "type": "scatter3d"
           }
          ],
          "scattercarpet": [
           {
            "marker": {
             "colorbar": {
              "outlinewidth": 0,
              "ticks": ""
             }
            },
            "type": "scattercarpet"
           }
          ],
          "scattergeo": [
           {
            "marker": {
             "colorbar": {
              "outlinewidth": 0,
              "ticks": ""
             }
            },
            "type": "scattergeo"
           }
          ],
          "scattergl": [
           {
            "marker": {
             "colorbar": {
              "outlinewidth": 0,
              "ticks": ""
             }
            },
            "type": "scattergl"
           }
          ],
          "scattermapbox": [
           {
            "marker": {
             "colorbar": {
              "outlinewidth": 0,
              "ticks": ""
             }
            },
            "type": "scattermapbox"
           }
          ],
          "scatterpolar": [
           {
            "marker": {
             "colorbar": {
              "outlinewidth": 0,
              "ticks": ""
             }
            },
            "type": "scatterpolar"
           }
          ],
          "scatterpolargl": [
           {
            "marker": {
             "colorbar": {
              "outlinewidth": 0,
              "ticks": ""
             }
            },
            "type": "scatterpolargl"
           }
          ],
          "scatterternary": [
           {
            "marker": {
             "colorbar": {
              "outlinewidth": 0,
              "ticks": ""
             }
            },
            "type": "scatterternary"
           }
          ],
          "surface": [
           {
            "colorbar": {
             "outlinewidth": 0,
             "ticks": ""
            },
            "colorscale": [
             [
              0,
              "#0d0887"
             ],
             [
              0.1111111111111111,
              "#46039f"
             ],
             [
              0.2222222222222222,
              "#7201a8"
             ],
             [
              0.3333333333333333,
              "#9c179e"
             ],
             [
              0.4444444444444444,
              "#bd3786"
             ],
             [
              0.5555555555555556,
              "#d8576b"
             ],
             [
              0.6666666666666666,
              "#ed7953"
             ],
             [
              0.7777777777777778,
              "#fb9f3a"
             ],
             [
              0.8888888888888888,
              "#fdca26"
             ],
             [
              1,
              "#f0f921"
             ]
            ],
            "type": "surface"
           }
          ],
          "table": [
           {
            "cells": {
             "fill": {
              "color": "#EBF0F8"
             },
             "line": {
              "color": "white"
             }
            },
            "header": {
             "fill": {
              "color": "#C8D4E3"
             },
             "line": {
              "color": "white"
             }
            },
            "type": "table"
           }
          ]
         },
         "layout": {
          "annotationdefaults": {
           "arrowcolor": "#2a3f5f",
           "arrowhead": 0,
           "arrowwidth": 1
          },
          "autotypenumbers": "strict",
          "coloraxis": {
           "colorbar": {
            "outlinewidth": 0,
            "ticks": ""
           }
          },
          "colorscale": {
           "diverging": [
            [
             0,
             "#8e0152"
            ],
            [
             0.1,
             "#c51b7d"
            ],
            [
             0.2,
             "#de77ae"
            ],
            [
             0.3,
             "#f1b6da"
            ],
            [
             0.4,
             "#fde0ef"
            ],
            [
             0.5,
             "#f7f7f7"
            ],
            [
             0.6,
             "#e6f5d0"
            ],
            [
             0.7,
             "#b8e186"
            ],
            [
             0.8,
             "#7fbc41"
            ],
            [
             0.9,
             "#4d9221"
            ],
            [
             1,
             "#276419"
            ]
           ],
           "sequential": [
            [
             0,
             "#0d0887"
            ],
            [
             0.1111111111111111,
             "#46039f"
            ],
            [
             0.2222222222222222,
             "#7201a8"
            ],
            [
             0.3333333333333333,
             "#9c179e"
            ],
            [
             0.4444444444444444,
             "#bd3786"
            ],
            [
             0.5555555555555556,
             "#d8576b"
            ],
            [
             0.6666666666666666,
             "#ed7953"
            ],
            [
             0.7777777777777778,
             "#fb9f3a"
            ],
            [
             0.8888888888888888,
             "#fdca26"
            ],
            [
             1,
             "#f0f921"
            ]
           ],
           "sequentialminus": [
            [
             0,
             "#0d0887"
            ],
            [
             0.1111111111111111,
             "#46039f"
            ],
            [
             0.2222222222222222,
             "#7201a8"
            ],
            [
             0.3333333333333333,
             "#9c179e"
            ],
            [
             0.4444444444444444,
             "#bd3786"
            ],
            [
             0.5555555555555556,
             "#d8576b"
            ],
            [
             0.6666666666666666,
             "#ed7953"
            ],
            [
             0.7777777777777778,
             "#fb9f3a"
            ],
            [
             0.8888888888888888,
             "#fdca26"
            ],
            [
             1,
             "#f0f921"
            ]
           ]
          },
          "colorway": [
           "#636efa",
           "#EF553B",
           "#00cc96",
           "#ab63fa",
           "#FFA15A",
           "#19d3f3",
           "#FF6692",
           "#B6E880",
           "#FF97FF",
           "#FECB52"
          ],
          "font": {
           "color": "#2a3f5f"
          },
          "geo": {
           "bgcolor": "white",
           "lakecolor": "white",
           "landcolor": "#E5ECF6",
           "showlakes": true,
           "showland": true,
           "subunitcolor": "white"
          },
          "hoverlabel": {
           "align": "left"
          },
          "hovermode": "closest",
          "mapbox": {
           "style": "light"
          },
          "paper_bgcolor": "white",
          "plot_bgcolor": "#E5ECF6",
          "polar": {
           "angularaxis": {
            "gridcolor": "white",
            "linecolor": "white",
            "ticks": ""
           },
           "bgcolor": "#E5ECF6",
           "radialaxis": {
            "gridcolor": "white",
            "linecolor": "white",
            "ticks": ""
           }
          },
          "scene": {
           "xaxis": {
            "backgroundcolor": "#E5ECF6",
            "gridcolor": "white",
            "gridwidth": 2,
            "linecolor": "white",
            "showbackground": true,
            "ticks": "",
            "zerolinecolor": "white"
           },
           "yaxis": {
            "backgroundcolor": "#E5ECF6",
            "gridcolor": "white",
            "gridwidth": 2,
            "linecolor": "white",
            "showbackground": true,
            "ticks": "",
            "zerolinecolor": "white"
           },
           "zaxis": {
            "backgroundcolor": "#E5ECF6",
            "gridcolor": "white",
            "gridwidth": 2,
            "linecolor": "white",
            "showbackground": true,
            "ticks": "",
            "zerolinecolor": "white"
           }
          },
          "shapedefaults": {
           "line": {
            "color": "#2a3f5f"
           }
          },
          "ternary": {
           "aaxis": {
            "gridcolor": "white",
            "linecolor": "white",
            "ticks": ""
           },
           "baxis": {
            "gridcolor": "white",
            "linecolor": "white",
            "ticks": ""
           },
           "bgcolor": "#E5ECF6",
           "caxis": {
            "gridcolor": "white",
            "linecolor": "white",
            "ticks": ""
           }
          },
          "title": {
           "x": 0.05
          },
          "xaxis": {
           "automargin": true,
           "gridcolor": "white",
           "linecolor": "white",
           "ticks": "",
           "title": {
            "standoff": 15
           },
           "zerolinecolor": "white",
           "zerolinewidth": 2
          },
          "yaxis": {
           "automargin": true,
           "gridcolor": "white",
           "linecolor": "white",
           "ticks": "",
           "title": {
            "standoff": 15
           },
           "zerolinecolor": "white",
           "zerolinewidth": 2
          }
         }
        },
        "title": {
         "font": {
          "size": 20
         }
        },
        "width": 800,
        "xaxis": {
         "anchor": "y",
         "domain": [
          0,
          1
         ],
         "tickfont": {
          "size": 14
         },
         "title": {
          "font": {
           "color": "black",
           "size": 16
          },
          "text": "sim"
         }
        },
        "yaxis": {
         "anchor": "x",
         "domain": [
          0,
          1
         ],
         "tickfont": {
          "size": 14
         },
         "title": {
          "font": {
           "color": "black",
           "size": 16
          },
          "text": "poverty_rate"
         }
        }
       }
      }
     },
     "metadata": {}
    }
   ],
   "source": [
    "# Child poverty by sim\n",
    "child_pov_plot = px.bar(poverty_rate_child,x=\"sim\",y=\"poverty_rate\")\n",
    "format_fig(child_pov_plot)"
   ]
  },
  {
   "cell_type": "code",
   "execution_count": 29,
   "metadata": {},
   "outputs": [
    {
     "output_type": "execute_result",
     "data": {
      "text/plain": [
       "              poverty_rate\n",
       "sim                       \n",
       "baseline          0.127830\n",
       "high_ca           0.000000\n",
       "high_xpns         0.000000\n",
       "low_ca            0.000000\n",
       "low_xpns          0.000000\n",
       "replace_ca        0.120064\n",
       "replace_xpns      0.125228"
      ],
      "text/html": "<div>\n<style scoped>\n    .dataframe tbody tr th:only-of-type {\n        vertical-align: middle;\n    }\n\n    .dataframe tbody tr th {\n        vertical-align: top;\n    }\n\n    .dataframe thead th {\n        text-align: right;\n    }\n</style>\n<table border=\"1\" class=\"dataframe\">\n  <thead>\n    <tr style=\"text-align: right;\">\n      <th></th>\n      <th>poverty_rate</th>\n    </tr>\n    <tr>\n      <th>sim</th>\n      <th></th>\n    </tr>\n  </thead>\n  <tbody>\n    <tr>\n      <th>baseline</th>\n      <td>0.127830</td>\n    </tr>\n    <tr>\n      <th>high_ca</th>\n      <td>0.000000</td>\n    </tr>\n    <tr>\n      <th>high_xpns</th>\n      <td>0.000000</td>\n    </tr>\n    <tr>\n      <th>low_ca</th>\n      <td>0.000000</td>\n    </tr>\n    <tr>\n      <th>low_xpns</th>\n      <td>0.000000</td>\n    </tr>\n    <tr>\n      <th>replace_ca</th>\n      <td>0.120064</td>\n    </tr>\n    <tr>\n      <th>replace_xpns</th>\n      <td>0.125228</td>\n    </tr>\n  </tbody>\n</table>\n</div>"
     },
     "metadata": {},
     "execution_count": 29
    }
   ],
   "source": [
    "# Deep child poverty by sim \n",
    "deep_pov_child_plot = px.bar(deep_poverty_rate_child,x=\"sim\",y=\"poverty_rate\")\n",
    "format_fig(deep_pov_child_plot)"
   ]
  },
  {
   "cell_type": "code",
   "execution_count": null,
   "metadata": {},
   "outputs": [],
   "source": []
  }
 ]
}